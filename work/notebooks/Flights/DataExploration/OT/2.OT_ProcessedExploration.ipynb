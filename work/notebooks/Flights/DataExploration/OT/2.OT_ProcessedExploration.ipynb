{
 "cells": [
  {
   "cell_type": "markdown",
   "id": "a137a405-aed5-4fb7-87b5-eeee85e6140c",
   "metadata": {},
   "source": [
    "# Weather Dataset Preprocessing and feature Engineering"
   ]
  },
  {
   "cell_type": "code",
   "execution_count": 1,
   "id": "53e4989d-8472-46e5-b806-ddde048d91f9",
   "metadata": {},
   "outputs": [
    {
     "name": "stdout",
     "output_type": "stream",
     "text": [
      "Starting download from file:///home/jovyan/work/apps/Emiasd-Flight-Data-Analysis.jar\n",
      "Finished download of Emiasd-Flight-Data-Analysis.jar\n",
      "Using cached version of Emiasd-Flight-Data-Analysis.jar\n"
     ]
    }
   ],
   "source": [
    "%AddJar file:///home/jovyan/work/apps/Emiasd-Flight-Data-Analysis.jar"
   ]
  },
  {
   "cell_type": "code",
   "execution_count": 2,
   "id": "4c5e2137-c51d-4b08-89fc-72273d7e9841",
   "metadata": {},
   "outputs": [
    {
     "data": {
      "text/plain": [
       "args = Array(jupyter)\n",
       "spark = org.apache.spark.sql.SparkSession@3a18e07a\n",
       "session = org.apache.spark.sql.SparkSession@3a18e07a\n",
       "configuration = AppConfiguration(local,CommonConfig(42,DataConfig(/home/jovyan/work/data,FileConfig(/home/jovyan/work/data/FLIGHT-3Y/Flights/201201.csv),FileConfig(/home/jovyan/work/data/FLIGHT-3Y/Weather/201201hourly.txt),FileConfig(/home/jovyan/work/data/FLIGHT-3Y/wban_airport_timezone.csv)),OutputConfig(/home/jovyan/work/output,FileConfig(/home/jovyan/work/output/data),FileCo...\n"
      ]
     },
     "metadata": {},
     "output_type": "display_data",
     "source": "user"
    },
    {
     "data": {
      "text/plain": [
       "AppConfiguration(local,CommonConfig(42,DataConfig(/home/jovyan/work/data,FileConfig(/home/jovyan/work/data/FLIGHT-3Y/Flights/201201.csv),FileConfig(/home/jovyan/work/data/FLIGHT-3Y/Weather/201201hourly.txt),FileConfig(/home/jovyan/work/data/FLIGHT-3Y/wban_airport_timezone.csv)),OutputConfig(/home/jovyan/work/output,FileConfig(/home/jovyan/work/output/data),FileCo..."
      ]
     },
     "execution_count": 2,
     "metadata": {},
     "output_type": "execute_result"
    }
   ],
   "source": [
    "import org.apache.spark.sql.SparkSession\n",
    "import com.flightdelay.config.{AppConfiguration, ConfigurationLoader}\n",
    "import com.flightdelay.data.loaders.FlightDataLoader\n",
    "\n",
    "//Env Configuration\n",
    "val args: Array[String] = Array(\"jupyter\")\n",
    "\n",
    "val spark = SparkSession.builder()\n",
    "  .config(sc.getConf)\n",
    "  .getOrCreate()\n",
    "\n",
    "// Rendre la session Spark implicite\n",
    "implicit val session = spark\n",
    "implicit val configuration: AppConfiguration = ConfigurationLoader.loadConfiguration(args)\n",
    "\n",
    "val processedWeatherPath = s\"${configuration.common.output.basePath}/common/data/processed_weather.parquet\"\n",
    "val weatherDF = spark.read.parquet(processedWeatherPath)"
   ]
  },
  {
   "cell_type": "code",
   "execution_count": 3,
   "id": "e2940aa8-c1c2-4034-87eb-51fb7d8fab64",
   "metadata": {},
   "outputs": [
    {
     "data": {
      "text/plain": [
       "5669039"
      ]
     },
     "execution_count": 3,
     "metadata": {},
     "output_type": "execute_result"
    }
   ],
   "source": [
    "weatherDF.count()"
   ]
  },
  {
   "cell_type": "code",
   "execution_count": 4,
   "id": "e9f45dd1-1883-4e19-aab7-cc3571743db2",
   "metadata": {},
   "outputs": [
    {
     "name": "stdout",
     "output_type": "stream",
     "text": [
      "root\n",
      " |-- WBAN: string (nullable = true)\n",
      " |-- Date: date (nullable = true)\n",
      " |-- Time: string (nullable = true)\n",
      " |-- StationType: integer (nullable = true)\n",
      " |-- SkyCondition: string (nullable = true)\n",
      " |-- SkyConditionFlag: string (nullable = true)\n",
      " |-- Visibility: double (nullable = true)\n",
      " |-- VisibilityFlag: string (nullable = true)\n",
      " |-- WeatherType: string (nullable = true)\n",
      " |-- WeatherTypeFlag: string (nullable = true)\n",
      " |-- DryBulbFarenheit: double (nullable = true)\n",
      " |-- DryBulbFarenheitFlag: string (nullable = true)\n",
      " |-- DryBulbCelsius: double (nullable = true)\n",
      " |-- DryBulbCelsiusFlag: string (nullable = true)\n",
      " |-- WetBulbFarenheit: double (nullable = true)\n",
      " |-- WetBulbFarenheitFlag: string (nullable = true)\n",
      " |-- WetBulbCelsius: double (nullable = true)\n",
      " |-- WetBulbCelsiusFlag: string (nullable = true)\n",
      " |-- DewPointFarenheit: double (nullable = true)\n",
      " |-- DewPointFarenheitFlag: string (nullable = true)\n",
      " |-- DewPointCelsius: double (nullable = true)\n",
      " |-- DewPointCelsiusFlag: string (nullable = true)\n",
      " |-- RelativeHumidity: double (nullable = true)\n",
      " |-- RelativeHumidityFlag: string (nullable = true)\n",
      " |-- WindSpeed: double (nullable = true)\n",
      " |-- WindSpeedFlag: string (nullable = true)\n",
      " |-- WindDirection: double (nullable = true)\n",
      " |-- WindDirectionFlag: string (nullable = true)\n",
      " |-- ValueForWindCharacter: string (nullable = true)\n",
      " |-- ValueForWindCharacterFlag: string (nullable = true)\n",
      " |-- StationPressure: double (nullable = true)\n",
      " |-- StationPressureFlag: string (nullable = true)\n",
      " |-- PressureTendency: string (nullable = true)\n",
      " |-- PressureTendencyFlag: string (nullable = true)\n",
      " |-- PressureChange: double (nullable = true)\n",
      " |-- PressureChangeFlag: string (nullable = true)\n",
      " |-- SeaLevelPressure: string (nullable = true)\n",
      " |-- SeaLevelPressureFlag: string (nullable = true)\n",
      " |-- RecordType: string (nullable = true)\n",
      " |-- RecordTypeFlag: string (nullable = true)\n",
      " |-- HourlyPrecip: string (nullable = true)\n",
      " |-- HourlyPrecipFlag: string (nullable = true)\n",
      " |-- Altimeter: double (nullable = true)\n",
      " |-- AltimeterFlag: string (nullable = true)\n",
      " |-- feature_most_critical_sky: string (nullable = true)\n",
      " |-- feature_lowest_cloud_height: integer (nullable = true)\n",
      " |-- feature_ceiling: integer (nullable = true)\n",
      " |-- feature_num_cloud_layers: integer (nullable = true)\n",
      " |-- feature_cloud_risk_score: double (nullable = true)\n",
      " |-- feature_has_overcast: boolean (nullable = true)\n",
      " |-- feature_has_broken: boolean (nullable = true)\n",
      " |-- feature_has_obscured: boolean (nullable = true)\n",
      " |-- feature_is_clear: boolean (nullable = true)\n",
      " |-- feature_has_low_ceiling: boolean (nullable = true)\n",
      " |-- feature_visibility_miles: double (nullable = true)\n",
      " |-- feature_visibility_km: double (nullable = true)\n",
      " |-- feature_visibility_category: string (nullable = true)\n",
      " |-- feature_visibility_risk_score: double (nullable = true)\n",
      " |-- feature_is_low_visibility: boolean (nullable = true)\n",
      " |-- feature_is_very_low_visibility: boolean (nullable = true)\n",
      " |-- feature_visibility_normalized: double (nullable = true)\n",
      " |-- feature_visibility_inverse: double (nullable = true)\n",
      " |-- feature_weather_severity_index: double (nullable = true)\n",
      " |-- feature_is_vfr_conditions: boolean (nullable = true)\n",
      " |-- feature_is_ifr_conditions: boolean (nullable = true)\n",
      " |-- feature_requires_cat_ii: boolean (nullable = true)\n",
      " |-- feature_operations_risk_level: integer (nullable = true)\n",
      "\n"
     ]
    }
   ],
   "source": [
    "weatherDF.printSchema"
   ]
  },
  {
   "cell_type": "code",
   "execution_count": 7,
   "id": "584929b1-d2e6-4335-a5fb-862c27560b0f",
   "metadata": {},
   "outputs": [
    {
     "data": {
      "text/plain": [
       "addedFeatureColumns = List(feature_visibility_miles, feature_visibility_km, feature_visibility_category, feature_visibility_risk_score, feature_is_low_visibility, feature_is_very_low_visibility, feature_visibility_normalized, feature_visibility_inverse, feature_weather_severity_index, feature_is_vfr_conditions, feature_is_ifr_conditions, feature_requires_cat_ii, feature_operations_risk_level)\n",
       "df = [feature_visibility_miles: double, feature_visibility_km: double ... 11 more fields]\n"
      ]
     },
     "metadata": {},
     "output_type": "display_data",
     "source": "user"
    },
    {
     "name": "stdout",
     "output_type": "stream",
     "text": [
      "+------------------------+---------------------+---------------------------+-----------------------------+-------------------------+------------------------------+-----------------------------+--------------------------+------------------------------+-------------------------+-------------------------+-----------------------+-----------------------------+\n",
      "|feature_visibility_miles|feature_visibility_km|feature_visibility_category|feature_visibility_risk_score|feature_is_low_visibility|feature_is_very_low_visibility|feature_visibility_normalized|feature_visibility_inverse|feature_weather_severity_index|feature_is_vfr_conditions|feature_is_ifr_conditions|feature_requires_cat_ii|feature_operations_risk_level|\n",
      "+------------------------+---------------------+---------------------------+-----------------------------+-------------------------+------------------------------+-----------------------------+--------------------------+------------------------------+-------------------------+-------------------------+-----------------------+-----------------------------+\n",
      "|                     1.0|                1.609|                        IFR|                          3.0|                     true|                         false|                          0.1|                       1.0|            1.7999999999999998|                    false|                     true|                  false|                            2|\n",
      "|                     1.0|                1.609|                        IFR|                          3.0|                     true|                         false|                          0.1|                       1.0|            1.7999999999999998|                    false|                     true|                  false|                            2|\n",
      "|                     1.0|                1.609|                        IFR|                          3.0|                     true|                         false|                          0.1|                       1.0|            1.7999999999999998|                    false|                     true|                  false|                            2|\n",
      "|                     1.0|                1.609|                        IFR|                          3.0|                     true|                         false|                          0.1|                       1.0|            1.7999999999999998|                    false|                     true|                  false|                            2|\n",
      "|                    0.25|              0.40225|                       LIFR|                          5.0|                     true|                          true|                        0.025|                       4.0|                           6.6|                    false|                     true|                   true|                            3|\n",
      "+------------------------+---------------------+---------------------------+-----------------------------+-------------------------+------------------------------+-----------------------------+--------------------------+------------------------------+-------------------------+-------------------------+-----------------------+-----------------------------+\n",
      "only showing top 5 rows\n",
      "\n"
     ]
    },
    {
     "data": {
      "text/plain": [
       "[feature_visibility_miles: double, feature_visibility_km: double ... 11 more fields]"
      ]
     },
     "execution_count": 7,
     "metadata": {},
     "output_type": "execute_result"
    }
   ],
   "source": [
    "val addedFeatureColumns = Seq(\n",
    "  /**\"feature_most_critical_sky\",\n",
    "  \"feature_lowest_cloud_height\",\n",
    "  \"feature_ceiling\",\n",
    "  \"feature_num_cloud_layers\",\n",
    "  \"feature_cloud_risk_score\",\n",
    "  \"feature_has_overcast\",\n",
    "  \"feature_has_broken\",\n",
    "  \"feature_has_obscured\",\n",
    "  \"feature_is_clear\",\n",
    "  \"feature_has_low_ceiling\",**/\n",
    "  \"feature_visibility_miles\",\n",
    "  \"feature_visibility_km\",\n",
    "  \"feature_visibility_category\",\n",
    "  \"feature_visibility_risk_score\",\n",
    "  \"feature_is_low_visibility\",\n",
    "  \"feature_is_very_low_visibility\",\n",
    "  \"feature_visibility_normalized\",\n",
    "  \"feature_visibility_inverse\",\n",
    "  \"feature_weather_severity_index\",\n",
    "  \"feature_is_vfr_conditions\",\n",
    "  \"feature_is_ifr_conditions\",\n",
    "  \"feature_requires_cat_ii\",\n",
    "  \"feature_operations_risk_level\" \n",
    "   \n",
    ")\n",
    "\n",
    "val df = weatherDF\n",
    "  .select(addedFeatureColumns.head, addedFeatureColumns.tail: _*)\n",
    "df.show(5)"
   ]
  },
  {
   "cell_type": "code",
   "execution_count": null,
   "id": "336af358-93ca-4d90-87d8-c145908499f2",
   "metadata": {},
   "outputs": [],
   "source": []
  }
 ],
 "metadata": {
  "kernelspec": {
   "display_name": "apache_toree_scala - Scala",
   "language": "scala",
   "name": "apache_toree_scala_scala"
  },
  "language_info": {
   "codemirror_mode": "text/x-scala",
   "file_extension": ".scala",
   "mimetype": "text/x-scala",
   "name": "scala",
   "pygments_lexer": "scala",
   "version": "2.12.15"
  }
 },
 "nbformat": 4,
 "nbformat_minor": 5
}
