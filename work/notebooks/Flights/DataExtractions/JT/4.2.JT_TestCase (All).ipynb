{
 "cells": [
  {
   "cell_type": "markdown",
   "id": "88b9b4e7-f711-4832-8798-501c1b052275",
   "metadata": {},
   "source": [
    "# Jointure MapReduce"
   ]
  },
  {
   "cell_type": "code",
   "execution_count": 1,
   "id": "d243dd12-14c2-459d-9cbf-032e0ad38481",
   "metadata": {},
   "outputs": [
    {
     "name": "stdout",
     "output_type": "stream",
     "text": [
      "Using cached version of Emiasd-Flight-Data-Analysis.jar\n"
     ]
    },
    {
     "data": {
      "text/plain": [
       "error: error while loading FlightDataLoader, class file '/tmp/toree-tmp-dir11599394110815113568/toree_add_jars/Emiasd-Flight-Data-Analysis.jar(com/flightdelay/data/loaders/FlightDataLoader.class)' has location not matching its contents: contains class FlightDataLoader\n"
      ]
     },
     "metadata": {},
     "output_type": "display_data",
     "source": "user"
    },
    {
     "name": "stdout",
     "output_type": "stream",
     "text": [
      "Using cached version of Emiasd-Flight-Data-Analysis.jar\n"
     ]
    }
   ],
   "source": [
    "%AddJar file:///home/jovyan/work/apps/Emiasd-Flight-Data-Analysis.jar"
   ]
  },
  {
   "cell_type": "code",
   "execution_count": 2,
   "id": "c1467791-f615-4d99-a001-5b50ede6638a",
   "metadata": {},
   "outputs": [
    {
     "data": {
      "text/plain": [
       "args = Array(juniper)\n",
       "spark = org.apache.spark.sql.SparkSession@473bfc85\n",
       "session = org.apache.spark.sql.SparkSession@473bfc85\n",
       "configuration = AppConfiguration(local,CommonConfig(42,DataConfig(/home/jovyan/work/data,FileConfig(/home/jovyan/work/data/FLIGHT-3Y/Flights/201201.csv),FileConfig(/home/jovyan/work/data/FLIGHT-3Y/Weather/201201hourly.txt),FileConfig(/home/jovyan/work/data/FLIGHT-3Y/wban_airport_timezone.csv)),OutputConfig(/home/jovyan/work/output,FileConfig(/home/jovyan/work/output/data),FileCo...\n"
      ]
     },
     "metadata": {},
     "output_type": "display_data",
     "source": "user"
    },
    {
     "data": {
      "text/plain": [
       "AppConfiguration(local,CommonConfig(42,DataConfig(/home/jovyan/work/data,FileConfig(/home/jovyan/work/data/FLIGHT-3Y/Flights/201201.csv),FileConfig(/home/jovyan/work/data/FLIGHT-3Y/Weather/201201hourly.txt),FileConfig(/home/jovyan/work/data/FLIGHT-3Y/wban_airport_timezone.csv)),OutputConfig(/home/jovyan/work/output,FileConfig(/home/jovyan/work/output/data),FileCo..."
      ]
     },
     "execution_count": 2,
     "metadata": {},
     "output_type": "execute_result"
    }
   ],
   "source": [
    "import org.apache.spark.sql.SparkSession\n",
    "import com.flightdelay.config.{AppConfiguration, ConfigurationLoader}\n",
    "import com.flightdelay.data.loaders.FlightDataLoader\n",
    "\n",
    "//Env Configuration\n",
    "val args: Array[String] = Array(\"juniper\")\n",
    "\n",
    "val spark = SparkSession.builder()\n",
    "  .config(sc.getConf)\n",
    "  .getOrCreate()\n",
    "\n",
    "// Rendre la session Spark implicite\n",
    "implicit val session = spark\n",
    "implicit val configuration: AppConfiguration = ConfigurationLoader.loadConfiguration(args)"
   ]
  },
  {
   "cell_type": "markdown",
   "id": "b0e703a9-0253-4882-9f53-833a7387c631",
   "metadata": {},
   "source": [
    "# Chargement Flight et Weather"
   ]
  },
  {
   "cell_type": "code",
   "execution_count": 3,
   "id": "ca355c08-04d4-45f5-afb7-264dd6cd5d13",
   "metadata": {},
   "outputs": [
    {
     "data": {
      "text/plain": [
       "processedFlightPath = /home/jovyan/work/output/common/data/processed_flights.parquet\n",
       "flightDF = [FL_DATE: date, OP_CARRIER_AIRLINE_ID: int ... 97 more fields]\n",
       "processedWeatherPath = /home/jovyan/work/output/common/data/processed_weather.parquet\n",
       "weatherDF = [WBAN: string, Date: date ... 65 more fields]\n"
      ]
     },
     "metadata": {},
     "output_type": "display_data",
     "source": "user"
    },
    {
     "data": {
      "text/plain": [
       "[WBAN: string, Date: date ... 65 more fields]"
      ]
     },
     "execution_count": 3,
     "metadata": {},
     "output_type": "execute_result"
    }
   ],
   "source": [
    "// Chargement de Flight Data\n",
    "val processedFlightPath = s\"${configuration.common.output.basePath}/common/data/processed_flights.parquet\"\n",
    "val flightDF = spark.read.parquet(processedFlightPath)\n",
    "\n",
    "val processedWeatherPath = s\"${configuration.common.output.basePath}/common/data/processed_weather.parquet\"\n",
    "val weatherDF = spark.read.parquet(processedWeatherPath)\n",
    "\n"
   ]
  },
  {
   "cell_type": "markdown",
   "id": "92745f19-b4ff-418b-8609-1db22e9b6c31",
   "metadata": {},
   "source": [
    "## Weather"
   ]
  },
  {
   "cell_type": "code",
   "execution_count": 4,
   "id": "37d803bd-46d5-4380-8a60-8e500d442ba1",
   "metadata": {},
   "outputs": [
    {
     "name": "stdout",
     "output_type": "stream",
     "text": [
      "+-----+----------+----+-----------+------------+----------+\n",
      "| WBAN|      Date|Time|StationType|SkyCondition|Visibility|\n",
      "+-----+----------+----+-----------+------------+----------+\n",
      "|03011|2012-01-01|0000|          0|         CLR|      10.0|\n",
      "|03011|2012-01-01|0100|          0|         CLR|      10.0|\n",
      "|03011|2012-01-01|0200|          0|         CLR|      10.0|\n",
      "|03011|2012-01-01|0300|          0|         CLR|      10.0|\n",
      "|03011|2012-01-01|0400|          0|         CLR|      10.0|\n",
      "|03011|2012-01-01|0500|          0|         CLR|      10.0|\n",
      "|03011|2012-01-01|0600|          0|         CLR|      10.0|\n",
      "|03011|2012-01-01|0700|          0|         CLR|      10.0|\n",
      "|03011|2012-01-01|0800|          0|         CLR|      10.0|\n",
      "|03011|2012-01-01|0900|          0|         CLR|      10.0|\n",
      "+-----+----------+----+-----------+------------+----------+\n",
      "only showing top 10 rows\n",
      "\n"
     ]
    },
    {
     "data": {
      "text/plain": [
       "weatherColumns = List(WBAN, Date, Time, StationType, SkyCondition, Visibility)\n",
       "weatherData = [WBAN: string, Date: date ... 4 more fields]\n"
      ]
     },
     "metadata": {},
     "output_type": "display_data",
     "source": "user"
    },
    {
     "data": {
      "text/plain": [
       "[WBAN: string, Date: date ... 4 more fields]"
      ]
     },
     "execution_count": 4,
     "metadata": {},
     "output_type": "execute_result"
    }
   ],
   "source": [
    "import java.sql.Date\n",
    "\n",
    "val weatherColumns = Seq(\n",
    "  \"WBAN\",\n",
    "  \"Date\",\n",
    "  \"Time\",\n",
    "  \"StationType\",\n",
    "  \"SkyCondition\",\n",
    "  \"Visibility\",\n",
    ")\n",
    "\n",
    "val weatherData = weatherDF\n",
    "  .select(weatherColumns.head, weatherColumns.tail: _*)\n",
    "  .orderBy(\"WBAN\", \"Date\", \"Time\")\n",
    "weatherData.show(10)"
   ]
  },
  {
   "cell_type": "markdown",
   "id": "ccf91417-e456-4c12-a1fd-863d92fe777c",
   "metadata": {},
   "source": [
    "## Flights"
   ]
  },
  {
   "cell_type": "code",
   "execution_count": 6,
   "id": "a3aa7455-f8f0-4886-ad56-7d76b4a36b90",
   "metadata": {},
   "outputs": [
    {
     "name": "stdout",
     "output_type": "stream",
     "text": [
      "+-----------+----------------+----------+------------+-----------+---------+----------------+--------------------------+---------------------+-----------------+--------------------------+------------------+------------------------------+----------------------------------+----------------------+\n",
      "|UTC_FL_DATE|UTC_CRS_DEP_TIME|   FL_DATE|CRS_DEP_TIME|ORIGIN_WBAN|DEST_WBAN|CRS_ELAPSED_TIME|feature_utc_departure_hour|OP_CARRIER_AIRLINE_ID|OP_CARRIER_FL_NUM|feature_flight_day_of_week|feature_is_weekend|feature_departure_hour_rounded|feature_utc_departure_hour_rounded|label_is_delayed_15min|\n",
      "+-----------+----------------+----------+------------+-----------+---------+----------------+--------------------------+---------------------+-----------------+--------------------------+------------------+------------------------------+----------------------------------+----------------------+\n",
      "| 2012-01-02|            0155|2012-01-01|        1955|      94846|    23050|           180.0|                         1|                20398|             3864|                         1|                 1|                          2000|                               200|                     1|\n",
      "| 2012-01-13|            0155|2012-01-12|        1955|      94846|    23050|           180.0|                         1|                20398|             3864|                         5|                 0|                          2000|                               200|                     1|\n",
      "| 2012-01-27|            1545|2012-01-27|         945|      94846|    23050|           180.0|                        15|                20398|             3755|                         6|                 0|                          1000|                              1600|                     1|\n",
      "| 2012-01-18|            0155|2012-01-17|        1955|      94846|    23050|           180.0|                         1|                20398|             3864|                         3|                 0|                          2000|                               200|                     1|\n",
      "| 2012-01-23|            1545|2012-01-23|         945|      94846|    23050|           180.0|                        15|                20398|             3755|                         2|                 0|                          1000|                              1600|                     1|\n",
      "| 2012-01-21|            1545|2012-01-21|         945|      94846|    23050|           180.0|                        15|                20398|             3755|                         7|                 1|                          1000|                              1600|                     1|\n",
      "| 2012-01-23|            0155|2012-01-22|        1955|      94846|    23050|           180.0|                         1|                20398|             3864|                         1|                 1|                          2000|                               200|                     1|\n",
      "| 2012-01-26|            0155|2012-01-25|        1955|      94846|    23050|           180.0|                         1|                20398|             3864|                         4|                 0|                          2000|                               200|                     1|\n",
      "| 2012-01-17|            0155|2012-01-16|        1955|      94846|    23050|           180.0|                         1|                20398|             3864|                         2|                 0|                          2000|                               200|                     1|\n",
      "| 2012-01-12|            1545|2012-01-12|         945|      94846|    23050|           180.0|                        15|                20398|             3755|                         5|                 0|                          1000|                              1600|                     1|\n",
      "+-----------+----------------+----------+------------+-----------+---------+----------------+--------------------------+---------------------+-----------------+--------------------------+------------------+------------------------------+----------------------------------+----------------------+\n",
      "only showing top 10 rows\n",
      "\n"
     ]
    },
    {
     "data": {
      "text/plain": [
       "flightColumns = List(UTC_FL_DATE, UTC_CRS_DEP_TIME, FL_DATE, CRS_DEP_TIME, ORIGIN_WBAN, DEST_WBAN, CRS_ELAPSED_TIME, feature_utc_departure_hour, OP_CARRIER_AIRLINE_ID, OP_CARRIER_FL_NUM, feature_flight_day_of_week, feature_is_weekend, feature_departure_hour_rounded, feature_utc_departure_hour_rounded, label_is_delayed_15min)\n",
       "flightData = [UTC_FL_DATE: date, UTC_CRS_DEP_TIME: string ... 13 more fields]\n"
      ]
     },
     "metadata": {},
     "output_type": "display_data",
     "source": "user"
    },
    {
     "data": {
      "text/plain": [
       "[UTC_FL_DATE: date, UTC_CRS_DEP_TIME: string ... 13 more fields]"
      ]
     },
     "execution_count": 6,
     "metadata": {},
     "output_type": "execute_result"
    }
   ],
   "source": [
    "val flightColumns = Seq(\n",
    "  \"UTC_FL_DATE\",\n",
    "  \"UTC_CRS_DEP_TIME\",\n",
    "  \"FL_DATE\",\n",
    "  \"CRS_DEP_TIME\",  \n",
    "  \"ORIGIN_WBAN\",\n",
    "  \"DEST_WBAN\",\n",
    "  \"CRS_ELAPSED_TIME\",\n",
    "  \"feature_utc_departure_hour\",\n",
    "  \"OP_CARRIER_AIRLINE_ID\",\n",
    "  \"OP_CARRIER_FL_NUM\",  \n",
    "  //\"feature_flight_month\",\n",
    "  //\"feature_flight_year\",\n",
    "  //\"feature_flight_quarter\",\n",
    "  \"feature_flight_day_of_week\",\n",
    "  \"feature_is_weekend\",  \n",
    "  \"feature_departure_hour_rounded\",\n",
    "  \"feature_utc_departure_hour_rounded\",\n",
    "    \n",
    "  \"label_is_delayed_15min\"\n",
    ")\n",
    "\n",
    "val flightData = flightDF\n",
    "  .select(flightColumns.head, flightColumns.tail: _*)\n",
    "\n",
    "flightData.show(10) \n"
   ]
  },
  {
   "cell_type": "markdown",
   "id": "8003fd72-3ffc-449f-8ba9-9ce67f6c2979",
   "metadata": {},
   "source": [
    "# Jointure Map Reduce"
   ]
  },
  {
   "cell_type": "code",
   "execution_count": 7,
   "id": "4b005756-ae1b-4d28-ba86-4e2a0514ea7d",
   "metadata": {},
   "outputs": [],
   "source": [
    "import org.apache.spark.sql.functions._\n",
    "import org.apache.spark.sql.expressions.Window\n",
    "import org.apache.spark.sql.Row\n",
    "import scala.collection.JavaConverters._\n",
    "\n",
    "// Recommandé: travailler en UTC pour éviter les surprises\n",
    "spark.conf.set(\"spark.sql.session.timeZone\", \"UTC\")\n",
    "spark.conf.set(\"spark.sql.crossJoin.enabled\", \"true\")\n",
    "spark.conf.set(\"spark.sql.debug.maxToStringFields\", \"100000\")\n"
   ]
  },
  {
   "cell_type": "code",
   "execution_count": 8,
   "id": "84c74fe5-7077-40dc-814a-973d7e1820c8",
   "metadata": {},
   "outputs": [
    {
     "name": "stdout",
     "output_type": "stream",
     "text": [
      "+-----+----------+------+-----+----------+----+-----------+------------+----------+----------+--------+------+\n",
      "| WBAN|    W_DATE|W_HOUR| WBAN|      Date|Time|StationType|SkyCondition|Visibility|    W_DATE|TIME_STR|W_HOUR|\n",
      "+-----+----------+------+-----+----------+----+-----------+------------+----------+----------+--------+------+\n",
      "|03011|2012-01-01|    00|03011|2012-01-01|0000|          0|         CLR|      10.0|2012-01-01|    0000|    00|\n",
      "|03011|2012-01-01|    01|03011|2012-01-01|0100|          0|         CLR|      10.0|2012-01-01|    0100|    01|\n",
      "|03011|2012-01-01|    02|03011|2012-01-01|0200|          0|         CLR|      10.0|2012-01-01|    0200|    02|\n",
      "|03011|2012-01-01|    03|03011|2012-01-01|0300|          0|         CLR|      10.0|2012-01-01|    0300|    03|\n",
      "|03011|2012-01-01|    04|03011|2012-01-01|0400|          0|         CLR|      10.0|2012-01-01|    0400|    04|\n",
      "|03011|2012-01-01|    05|03011|2012-01-01|0500|          0|         CLR|      10.0|2012-01-01|    0500|    05|\n",
      "|03011|2012-01-01|    06|03011|2012-01-01|0600|          0|         CLR|      10.0|2012-01-01|    0600|    06|\n",
      "|03011|2012-01-01|    07|03011|2012-01-01|0700|          0|         CLR|      10.0|2012-01-01|    0700|    07|\n",
      "|03011|2012-01-01|    08|03011|2012-01-01|0800|          0|         CLR|      10.0|2012-01-01|    0800|    08|\n",
      "|03011|2012-01-01|    09|03011|2012-01-01|0900|          0|         CLR|      10.0|2012-01-01|    0900|    09|\n",
      "|03011|2012-01-01|    10|03011|2012-01-01|1000|          0|         CLR|      10.0|2012-01-01|    1000|    10|\n",
      "|03011|2012-01-01|    11|03011|2012-01-01|1100|          0|         CLR|      10.0|2012-01-01|    1100|    11|\n",
      "+-----+----------+------+-----+----------+----+-----------+------------+----------+----------+--------+------+\n",
      "only showing top 12 rows\n",
      "\n"
     ]
    },
    {
     "data": {
      "text/plain": [
       "weatherNorm = [WBAN: string, W_DATE: date ... 10 more fields]\n"
      ]
     },
     "metadata": {},
     "output_type": "display_data",
     "source": "user"
    },
    {
     "data": {
      "text/plain": [
       "[WBAN: string, W_DATE: date ... 10 more fields]"
      ]
     },
     "execution_count": 8,
     "metadata": {},
     "output_type": "execute_result"
    }
   ],
   "source": [
    "// -----------------------------------------\n",
    "// 0) Normalisation du dataset Weather\n",
    "//    - DATE  -> date\n",
    "//    - TIME  -> heure 2 chiffres \"HH\"\n",
    "// -----------------------------------------\n",
    "val weatherNorm = weatherData\n",
    "  // DATE peut être string => on force en date (UTC)\n",
    "  .withColumn(\"W_DATE\", to_date(col(\"DATE\")))\n",
    "  // TIME peut être \"0\", \"00\", \"0030\", 0, etc.\n",
    "  .withColumn(\"TIME_STR\", col(\"TIME\").cast(\"string\"))\n",
    "  .withColumn(\n",
    "    \"W_HOUR\",\n",
    "    when(length(col(\"TIME_STR\")) >= 2, substring(col(\"TIME_STR\"), 1, 2))\n",
    "      .otherwise(lpad(col(\"TIME_STR\"), 2, \"0\"))\n",
    "  )\n",
    "  .select(\n",
    "    col(\"WBAN\"),\n",
    "    col(\"W_DATE\"),\n",
    "    col(\"W_HOUR\"),\n",
    "    // garde ce qui t'intéresse côté météo :\n",
    "    col(\"*\") // tu peux remplacer par les colonnes utiles: vent, visib, etc.\n",
    "  )\n",
    "weatherNorm.show(12)"
   ]
  },
  {
   "cell_type": "code",
   "execution_count": 9,
   "id": "c2e6dec8-8883-41ba-918a-4f7791851783",
   "metadata": {},
   "outputs": [
    {
     "data": {
      "text/plain": [
       "weatherPart = [WBAN: string, W_DATE: date ... 10 more fields]\n"
      ]
     },
     "metadata": {},
     "output_type": "display_data",
     "source": "user"
    },
    {
     "data": {
      "text/plain": [
       "[WBAN: string, W_DATE: date ... 10 more fields]"
      ]
     },
     "execution_count": 9,
     "metadata": {},
     "output_type": "execute_result"
    }
   ],
   "source": [
    "// Option: pour le shuffle, tu peux aider Spark à partitionner:\n",
    "val weatherPart = weatherNorm.repartition(col(\"WBAN\"), col(\"W_DATE\"))"
   ]
  },
  {
   "cell_type": "code",
   "execution_count": 10,
   "id": "366f3250-f536-47ab-8745-c053f236bb33",
   "metadata": {},
   "outputs": [
    {
     "data": {
      "text/plain": [
       "flights0 = [UTC_FL_DATE: date, UTC_CRS_DEP_TIME: string ... 14 more fields]\n"
      ]
     },
     "metadata": {},
     "output_type": "display_data",
     "source": "user"
    },
    {
     "name": "stdout",
     "output_type": "stream",
     "text": [
      "+-----------+----------------+----------+------------+-----------+---------+----------------+--------------------------+---------------------+-----------------+--------------------------+------------------+------------------------------+----------------------------------+----------------------+--------------------+\n",
      "|UTC_FL_DATE|UTC_CRS_DEP_TIME|   FL_DATE|CRS_DEP_TIME|ORIGIN_WBAN|DEST_WBAN|CRS_ELAPSED_TIME|feature_utc_departure_hour|OP_CARRIER_AIRLINE_ID|OP_CARRIER_FL_NUM|feature_flight_day_of_week|feature_is_weekend|feature_departure_hour_rounded|feature_utc_departure_hour_rounded|label_is_delayed_15min|           flight_id|\n",
      "+-----------+----------------+----------+------------+-----------+---------+----------------+--------------------------+---------------------+-----------------+--------------------------+------------------+------------------------------+----------------------------------+----------------------+--------------------+\n",
      "| 2012-01-02|            0155|2012-01-01|        1955|      94846|    23050|           180.0|                         1|                20398|             3864|                         1|                 1|                          2000|                               200|                     1|20120102_20398_38...|\n",
      "| 2012-01-13|            0155|2012-01-12|        1955|      94846|    23050|           180.0|                         1|                20398|             3864|                         5|                 0|                          2000|                               200|                     1|20120113_20398_38...|\n",
      "| 2012-01-27|            1545|2012-01-27|         945|      94846|    23050|           180.0|                        15|                20398|             3755|                         6|                 0|                          1000|                              1600|                     1|20120127_20398_37...|\n",
      "| 2012-01-18|            0155|2012-01-17|        1955|      94846|    23050|           180.0|                         1|                20398|             3864|                         3|                 0|                          2000|                               200|                     1|20120118_20398_38...|\n",
      "| 2012-01-23|            1545|2012-01-23|         945|      94846|    23050|           180.0|                        15|                20398|             3755|                         2|                 0|                          1000|                              1600|                     1|20120123_20398_37...|\n",
      "| 2012-01-21|            1545|2012-01-21|         945|      94846|    23050|           180.0|                        15|                20398|             3755|                         7|                 1|                          1000|                              1600|                     1|20120121_20398_37...|\n",
      "| 2012-01-23|            0155|2012-01-22|        1955|      94846|    23050|           180.0|                         1|                20398|             3864|                         1|                 1|                          2000|                               200|                     1|20120123_20398_38...|\n",
      "| 2012-01-26|            0155|2012-01-25|        1955|      94846|    23050|           180.0|                         1|                20398|             3864|                         4|                 0|                          2000|                               200|                     1|20120126_20398_38...|\n",
      "| 2012-01-17|            0155|2012-01-16|        1955|      94846|    23050|           180.0|                         1|                20398|             3864|                         2|                 0|                          2000|                               200|                     1|20120117_20398_38...|\n",
      "| 2012-01-12|            1545|2012-01-12|         945|      94846|    23050|           180.0|                        15|                20398|             3755|                         5|                 0|                          1000|                              1600|                     1|20120112_20398_37...|\n",
      "+-----------+----------------+----------+------------+-----------+---------+----------------+--------------------------+---------------------+-----------------+--------------------------+------------------+------------------------------+----------------------------------+----------------------+--------------------+\n",
      "only showing top 10 rows\n",
      "\n"
     ]
    },
    {
     "data": {
      "text/plain": [
       "[UTC_FL_DATE: date, UTC_CRS_DEP_TIME: string ... 14 more fields]"
      ]
     },
     "execution_count": 10,
     "metadata": {},
     "output_type": "execute_result"
    }
   ],
   "source": [
    "// ───────────────────────────────────────────────────────────────────────────────\n",
    "// 0) Crée un identifiant de vol déterministe \"flight_id\"\n",
    "//    (tu peux remplacer par monotonically_increasing_id() si tu préfères)\n",
    "// ───────────────────────────────────────────────────────────────────────────────\n",
    "val flights0 = flightData\n",
    "  .withColumn(\n",
    "    \"flight_id\",\n",
    "    concat_ws(\"_\",\n",
    "      date_format(col(\"UTC_FL_DATE\").cast(\"date\"), \"yyyyMMdd\"),\n",
    "      col(\"OP_CARRIER_AIRLINE_ID\").cast(\"string\"),\n",
    "      col(\"OP_CARRIER_FL_NUM\").cast(\"string\"),\n",
    "      col(\"ORIGIN_WBAN\").cast(\"string\"),\n",
    "      col(\"DEST_WBAN\").cast(\"string\"),\n",
    "      date_format(col(\"UTC_CRS_DEP_TIME\"), \"HHmm\")\n",
    "    )\n",
    "  )\n",
    "\n",
    "flights0.show(10)"
   ]
  },
  {
   "cell_type": "code",
   "execution_count": 11,
   "id": "314e68d3-438e-4515-a084-5297bffdb755",
   "metadata": {},
   "outputs": [
    {
     "name": "stdout",
     "output_type": "stream",
     "text": [
      "+--------------------+-----------+---------+-----------+-----------+----------+----------------------+\n",
      "|           flight_id|ORIGIN_WBAN|DEST_WBAN|FL_DATE_STR|DEP_HOUR_2D|base_epoch|label_is_delayed_15min|\n",
      "+--------------------+-----------+---------+-----------+-----------+----------+----------------------+\n",
      "|20120102_20398_38...|      94846|    23050| 2012-01-02|         20|1325534400|                     1|\n",
      "|20120113_20398_38...|      94846|    23050| 2012-01-13|         20|1326484800|                     1|\n",
      "|20120127_20398_37...|      94846|    23050| 2012-01-27|         16|1327680000|                     1|\n",
      "|20120118_20398_38...|      94846|    23050| 2012-01-18|         20|1326916800|                     1|\n",
      "|20120123_20398_37...|      94846|    23050| 2012-01-23|         16|1327334400|                     1|\n",
      "|20120121_20398_37...|      94846|    23050| 2012-01-21|         16|1327161600|                     1|\n",
      "|20120123_20398_38...|      94846|    23050| 2012-01-23|         20|1327348800|                     1|\n",
      "|20120126_20398_38...|      94846|    23050| 2012-01-26|         20|1327608000|                     1|\n",
      "|20120117_20398_38...|      94846|    23050| 2012-01-17|         20|1326830400|                     1|\n",
      "|20120112_20398_37...|      94846|    23050| 2012-01-12|         16|1326384000|                     1|\n",
      "+--------------------+-----------+---------+-----------+-----------+----------+----------------------+\n",
      "only showing top 10 rows\n",
      "\n"
     ]
    },
    {
     "data": {
      "text/plain": [
       "flightsBase = [flight_id: string, ORIGIN_WBAN: string ... 5 more fields]\n"
      ]
     },
     "metadata": {},
     "output_type": "display_data",
     "source": "user"
    },
    {
     "data": {
      "text/plain": [
       "[flight_id: string, ORIGIN_WBAN: string ... 5 more fields]"
      ]
     },
     "execution_count": 11,
     "metadata": {},
     "output_type": "execute_result"
    }
   ],
   "source": [
    "\n",
    "// ───────────────────────────────────────────────────────────────────────────────\n",
    "// 1) Base temporelle départ (UTC) : \"yyyy-MM-dd HH\" → epoch (secondes)\n",
    "// ───────────────────────────────────────────────────────────────────────────────\n",
    "val flightsBase = flights0\n",
    "  .withColumn(\n",
    "    \"FL_DATE_STR\",\n",
    "    when(col(\"UTC_FL_DATE\").cast(\"date\").isNotNull,\n",
    "         date_format(col(\"UTC_FL_DATE\").cast(\"date\"), \"yyyy-MM-dd\"))\n",
    "    .otherwise(col(\"UTC_FL_DATE\").cast(\"string\"))\n",
    "  )\n",
    "  .withColumn(\"DEP_HOUR_2D\", lpad(col(\"feature_utc_departure_hour_rounded\").cast(\"string\"), 2, \"0\"))\n",
    "  .withColumn(\"base_epoch\",\n",
    "    unix_timestamp(concat_ws(\" \", col(\"FL_DATE_STR\"), col(\"DEP_HOUR_2D\")), \"yyyy-MM-dd HH\")\n",
    "  )\n",
    "  // IMPORTANT : on ne garde QUE ce qu'on va utiliser ensuite (dont flight_id !)\n",
    "  .select(\n",
    "    col(\"flight_id\"),\n",
    "    col(\"ORIGIN_WBAN\"),\n",
    "    col(\"DEST_WBAN\"),\n",
    "    col(\"FL_DATE_STR\"),\n",
    "    col(\"DEP_HOUR_2D\"),\n",
    "    col(\"base_epoch\"),\n",
    "    col(\"label_is_delayed_15min\")  \n",
    "  )\n",
    "\n",
    "flightsBase.show(10)"
   ]
  },
  {
   "cell_type": "code",
   "execution_count": 12,
   "id": "45faaedc-55db-485f-8d1f-996e8d07bfcd",
   "metadata": {},
   "outputs": [
    {
     "name": "stdout",
     "output_type": "stream",
     "text": [
      "+------------------------------------+--------+---+-----------+--------------+----------------------+\n",
      "|flight_id                           |WBAN_KEY|o_h|TARGET_DATE|TARGET_HOUR_2D|label_is_delayed_15min|\n",
      "+------------------------------------+--------+---+-----------+--------------+----------------------+\n",
      "|20120102_20398_3864_94846_23050_0000|94846   |1  |2012-01-02 |19            |1                     |\n",
      "|20120102_20398_3864_94846_23050_0000|94846   |2  |2012-01-02 |18            |1                     |\n",
      "|20120102_20398_3864_94846_23050_0000|94846   |3  |2012-01-02 |17            |1                     |\n",
      "|20120102_20398_3864_94846_23050_0000|94846   |4  |2012-01-02 |16            |1                     |\n",
      "|20120102_20398_3864_94846_23050_0000|94846   |5  |2012-01-02 |15            |1                     |\n",
      "|20120102_20398_3864_94846_23050_0000|94846   |6  |2012-01-02 |14            |1                     |\n",
      "|20120102_20398_3864_94846_23050_0000|94846   |7  |2012-01-02 |13            |1                     |\n",
      "|20120102_20398_3864_94846_23050_0000|94846   |8  |2012-01-02 |12            |1                     |\n",
      "|20120102_20398_3864_94846_23050_0000|94846   |9  |2012-01-02 |11            |1                     |\n",
      "|20120102_20398_3864_94846_23050_0000|94846   |10 |2012-01-02 |10            |1                     |\n",
      "|20120102_20398_3864_94846_23050_0000|94846   |11 |2012-01-02 |09            |1                     |\n",
      "|20120102_20398_3864_94846_23050_0000|94846   |12 |2012-01-02 |08            |1                     |\n",
      "+------------------------------------+--------+---+-----------+--------------+----------------------+\n",
      "only showing top 12 rows\n",
      "\n"
     ]
    },
    {
     "data": {
      "text/plain": [
       "offsets = [h: bigint]\n",
       "originTargets = [flight_id: string, WBAN_KEY: string ... 4 more fields]\n"
      ]
     },
     "metadata": {},
     "output_type": "display_data",
     "source": "user"
    },
    {
     "data": {
      "text/plain": [
       "[flight_id: string, WBAN_KEY: string ... 4 more fields]"
      ]
     },
     "execution_count": 12,
     "metadata": {},
     "output_type": "execute_result"
    }
   ],
   "source": [
    "// ───────────────────────────────────────────────────────────────────────────────\n",
    "// 2) Générer les 12 heures cibles t-1h..t-12h (crossJoin offsets 1..12)\n",
    "// ───────────────────────────────────────────────────────────────────────────────\n",
    "val offsets = flightsBase.sparkSession.range(1, 13).toDF(\"h\")  // 1..12\n",
    "\n",
    "val originTargets = flightsBase\n",
    "  .crossJoin(offsets)\n",
    "  .withColumn(\"target_epoch\", col(\"base_epoch\") - col(\"h\") * lit(3600))\n",
    "  .withColumn(\"TARGET_DATE\", to_date(from_unixtime(col(\"target_epoch\"))))\n",
    "  .withColumn(\"TARGET_HOUR_2D\", date_format(from_unixtime(col(\"target_epoch\")), \"HH\"))\n",
    "  .select(\n",
    "    col(\"flight_id\"),                                    // ← remplace flightId par flight_id\n",
    "    col(\"ORIGIN_WBAN\").as(\"WBAN_KEY\"),\n",
    "    col(\"h\").cast(\"int\").as(\"o_h\"),\n",
    "    col(\"TARGET_DATE\"),\n",
    "    col(\"TARGET_HOUR_2D\"),\n",
    "    col(\"label_is_delayed_15min\")  \n",
    "  )\n",
    "\n",
    "// (debug)\n",
    "originTargets.show(12, truncate = false)"
   ]
  },
  {
   "cell_type": "code",
   "execution_count": 13,
   "id": "1b7a264a-8fa9-40ec-8ac3-460ad7039f0b",
   "metadata": {},
   "outputs": [
    {
     "name": "stdout",
     "output_type": "stream",
     "text": [
      "+------------------------------------+---+-----+-------------+-------------+----------+------+----------+----+-----------+------------+----------+\n",
      "|flight_id                           |o_h|WBAN |o_target_date|o_target_hour|W_DATE    |W_HOUR|DATE      |TIME|StationType|SkyCondition|Visibility|\n",
      "+------------------------------------+---+-----+-------------+-------------+----------+------+----------+----+-----------+------------+----------+\n",
      "|20120101_19393_1021_13968_12918_0000|12 |13968|2012-01-01   |06           |2012-01-01|06    |2012-01-01|0600|11         |CLR         |10.0      |\n",
      "|20120101_19393_1021_13968_12918_0000|11 |13968|2012-01-01   |07           |2012-01-01|07    |2012-01-01|0700|11         |CLR         |10.0      |\n",
      "|20120101_19393_1021_13968_12918_0000|10 |13968|2012-01-01   |08           |2012-01-01|08    |2012-01-01|0800|11         |CLR         |10.0      |\n",
      "|20120101_19393_1021_13968_12918_0000|9  |13968|2012-01-01   |09           |2012-01-01|09    |2012-01-01|0900|11         |CLR         |10.0      |\n",
      "|20120101_19393_1021_13968_12918_0000|8  |13968|2012-01-01   |10           |2012-01-01|10    |2012-01-01|1000|11         |CLR         |10.0      |\n",
      "|20120101_19393_1021_13968_12918_0000|7  |13968|2012-01-01   |11           |2012-01-01|11    |2012-01-01|1100|11         |CLR         |10.0      |\n",
      "|20120101_19393_1021_13968_12918_0000|6  |13968|2012-01-01   |12           |2012-01-01|12    |2012-01-01|1200|11         |CLR         |10.0      |\n",
      "|20120101_19393_1021_13968_12918_0000|5  |13968|2012-01-01   |13           |2012-01-01|13    |2012-01-01|1300|11         |CLR         |10.0      |\n",
      "|20120101_19393_1021_13968_12918_0000|4  |13968|2012-01-01   |14           |2012-01-01|14    |2012-01-01|1400|11         |CLR         |10.0      |\n",
      "|20120101_19393_1021_13968_12918_0000|3  |13968|2012-01-01   |15           |2012-01-01|15    |2012-01-01|1500|11         |CLR         |10.0      |\n",
      "|20120101_19393_1021_13968_12918_0000|2  |13968|2012-01-01   |16           |2012-01-01|16    |2012-01-01|1600|11         |CLR         |10.0      |\n",
      "|20120101_19393_1021_13968_12918_0000|1  |13968|2012-01-01   |17           |2012-01-01|17    |2012-01-01|1700|11         |CLR         |10.0      |\n",
      "|20120101_19393_1029_13722_12849_0000|12 |13722|2012-01-01   |04           |2012-01-01|04    |2012-01-01|0400|11         |CLR         |10.0      |\n",
      "|20120101_19393_1029_13722_12849_0000|11 |13722|2012-01-01   |05           |2012-01-01|05    |2012-01-01|0500|11         |CLR         |10.0      |\n",
      "|20120101_19393_1029_13722_12849_0000|10 |13722|2012-01-01   |06           |2012-01-01|06    |2012-01-01|0600|11         |CLR         |10.0      |\n",
      "|20120101_19393_1029_13722_12849_0000|9  |13722|2012-01-01   |07           |2012-01-01|07    |2012-01-01|0700|11         |FEW250      |10.0      |\n",
      "|20120101_19393_1029_13722_12849_0000|8  |13722|2012-01-01   |08           |2012-01-01|08    |2012-01-01|0800|11         |SCT250      |10.0      |\n",
      "|20120101_19393_1029_13722_12849_0000|7  |13722|2012-01-01   |09           |2012-01-01|09    |2012-01-01|0900|11         |BKN250      |10.0      |\n",
      "|20120101_19393_1029_13722_12849_0000|6  |13722|2012-01-01   |10           |2012-01-01|10    |2012-01-01|1000|11         |BKN250      |10.0      |\n",
      "|20120101_19393_1029_13722_12849_0000|5  |13722|2012-01-01   |11           |2012-01-01|11    |2012-01-01|1100|11         |SCT250      |10.0      |\n",
      "+------------------------------------+---+-----+-------------+-------------+----------+------+----------+----+-----------+------------+----------+\n",
      "only showing top 20 rows\n",
      "\n"
     ]
    },
    {
     "data": {
      "text/plain": [
       "originJoined = [flight_id: string, o_h: int ... 10 more fields]\n"
      ]
     },
     "metadata": {},
     "output_type": "display_data",
     "source": "user"
    },
    {
     "data": {
      "text/plain": [
       "[flight_id: string, o_h: int ... 10 more fields]"
      ]
     },
     "execution_count": 13,
     "metadata": {},
     "output_type": "execute_result"
    }
   ],
   "source": [
    "// ───────────────────────────────────────────────────────────────────────────────\n",
    "// 3) Normalisation météo (si pas déjà fait) et jointure exacte (WBAN, DATE, HOUR)\n",
    "// ───────────────────────────────────────────────────────────────────────────────\n",
    "\n",
    "val originJoined = originTargets\n",
    "  .join(\n",
    "    weatherNorm,\n",
    "    originTargets.col(\"WBAN_KEY\") === weatherNorm.col(\"WBAN\") &&\n",
    "    originTargets.col(\"TARGET_DATE\") === weatherNorm.col(\"W_DATE\") &&\n",
    "    originTargets.col(\"TARGET_HOUR_2D\") === weatherNorm.col(\"W_HOUR\"),\n",
    "    \"inner\"\n",
    "  )\n",
    "  .select(\n",
    "    col(\"flight_id\"),\n",
    "    col(\"o_h\"),\n",
    "    col(\"WBAN_KEY\").as(\"WBAN\"),\n",
    "    col(\"TARGET_DATE\").as(\"o_target_date\"),\n",
    "    col(\"TARGET_HOUR_2D\").as(\"o_target_hour\"),\n",
    "    col(\"W_DATE\"), col(\"W_HOUR\"),\n",
    "    col(\"DATE\"), col(\"TIME\"),\n",
    "    col(\"StationType\"),\n",
    "    col(\"SkyCondition\"),\n",
    "    col(\"Visibility\"),\n",
    "    //col(\"feature_ceiling\"),  \n",
    "  ).orderBy(col(\"flight_id\"), col(\"o_target_hour\"))\n",
    "\n",
    "originJoined.show(20, false)"
   ]
  },
  {
   "cell_type": "code",
   "execution_count": 14,
   "id": "21bf481d-d41b-48f3-b45b-ae78697d71fc",
   "metadata": {},
   "outputs": [
    {
     "name": "stdout",
     "output_type": "stream",
     "text": [
      "+------------------------------------+--------------------------------------------------------------------------------------------------------------------------------------------------------------------------------------------------------------------------------------------------------------------------------------------------------------------------------------------------------------------------------------------------------------------------------------------------------------------------------------------------------------------+\n",
      "|                           flight_id|                                                                                                                                                                                                                                                                                                                                                                                                                                                                                                            W_o_list|\n",
      "+------------------------------------+--------------------------------------------------------------------------------------------------------------------------------------------------------------------------------------------------------------------------------------------------------------------------------------------------------------------------------------------------------------------------------------------------------------------------------------------------------------------------------------------------------------------+\n",
      "|20120101_19393_1226_23169_23293_0000|[{12, 2012-01-01, 10, 2012-01-01, 10, SCT250, 10.0}, {11, 2012-01-01, 11, 2012-01-01, 11, SCT250, 10.0}, {10, 2012-01-01, 12, 2012-01-01, 12, SCT250, 10.0}, {9, 2012-01-01, 13, 2012-01-01, 13, SCT250, 10.0}, {8, 2012-01-01, 14, 2012-01-01, 14, SCT250, 10.0}, {7, 2012-01-01, 15, 2012-01-01, 15, SCT250, 10.0}, {6, 2012-01-01, 16, 2012-01-01, 16, FEW250, 10.0}, {5, 2012-01-01, 17, 2012-01-01, 17, CLR, 10.0}, {4, 2012-01-01, 18, 2012-01-01, 18, CLR, 10.0}, {3, 2012-01-01, 19, 2012-01-01, 19, CLR,...|\n",
      "|20120101_19393_1459_12815_93721_0000|[{12, 2012-01-01, 03, 2012-01-01, 03, FEW040, 5.0}, {11, 2012-01-01, 04, 2012-01-01, 04, BKN042, 5.0}, {10, 2012-01-01, 05, 2012-01-01, 05, BKN042, 5.0}, {9, 2012-01-01, 06, 2012-01-01, 06, FEW042, 6.0}, {8, 2012-01-01, 07, 2012-01-01, 07, BKN049, 5.0}, {7, 2012-01-01, 08, 2012-01-01, 08, FEW049, 8.0}, {6, 2012-01-01, 09, 2012-01-01, 09, CLR, 10.0}, {5, 2012-01-01, 10, 2012-01-01, 10, CLR, 10.0}, {4, 2012-01-01, 11, 2012-01-01, 11, BKN300, 10.0}, {3, 2012-01-01, 12, 2012-01-01, 12, FEW042 BKN...|\n",
      "|  20120101_19393_18_23169_23188_0000|[{12, 2012-01-01, 06, 2012-01-01, 06, BKN250, 10.0}, {11, 2012-01-01, 07, 2012-01-01, 07, SCT250, 10.0}, {10, 2012-01-01, 08, 2012-01-01, 08, SCT250, 10.0}, {9, 2012-01-01, 09, 2012-01-01, 09, SCT250, 10.0}, {8, 2012-01-01, 10, 2012-01-01, 10, SCT250, 10.0}, {7, 2012-01-01, 11, 2012-01-01, 11, SCT250, 10.0}, {6, 2012-01-01, 12, 2012-01-01, 12, SCT250, 10.0}, {5, 2012-01-01, 13, 2012-01-01, 13, SCT250, 10.0}, {4, 2012-01-01, 14, 2012-01-01, 14, SCT250, 10.0}, {3, 2012-01-01, 15, 2012-01-01, 15...|\n",
      "|20120101_19393_2400_14819_13963_0000|[{12, 2012-01-01, 10, 2012-01-01, 10, BKN026 BKN032, 10.0}, {11, 2012-01-01, 11, 2012-01-01, 11, BKN031, 10.0}, {10, 2012-01-01, 12, 2012-01-01, 12, OVC041, 10.0}, {9, 2012-01-01, 13, 2012-01-01, 13, BKN036 BKN055 BKN070, 10.0}, {8, 2012-01-01, 14, 2012-01-01, 14, SCT039 SCT048 OVC070, 10.0}, {7, 2012-01-01, 15, 2012-01-01, 15, SCT035 OVC070, 10.0}, {6, 2012-01-01, 16, 2012-01-01, 16, SCT041 OVC065, 10.0}, {5, 2012-01-01, 17, 2012-01-01, 17, BKN038 OVC049, 9.0}, {4, 2012-01-01, 18, 2012-01-01...|\n",
      "|20120101_19393_2813_13897_23174_0000|[{12, 2012-01-01, 05, 2012-01-01, 05, FEW033 SCT043 BKN050, 10.0}, {11, 2012-01-01, 06, 2012-01-01, 06, FEW042 BKN060 OVC250, 10.0}, {10, 2012-01-01, 07, 2012-01-01, 07, SCT034, 10.0}, {9, 2012-01-01, 08, 2012-01-01, 08, FEW045, 10.0}, {8, 2012-01-01, 09, 2012-01-01, 09, FEW045, 10.0}, {7, 2012-01-01, 10, 2012-01-01, 10, FEW050, 10.0}, {6, 2012-01-01, 11, 2012-01-01, 11, FEW050, 10.0}, {5, 2012-01-01, 12, 2012-01-01, 12, FEW045, 10.0}, {4, 2012-01-01, 13, 2012-01-01, 13, FEW040, 10.0}, {3, 20...|\n",
      "|20120101_19393_2999_12844_12842_0000|[{12, 2012-01-01, 08, 2012-01-01, 08, SCT043, 10.0}, {11, 2012-01-01, 09, 2012-01-01, 09, FEW040, 10.0}, {10, 2012-01-01, 10, 2012-01-01, 10, SCT042 SCT230, 10.0}, {9, 2012-01-01, 11, 2012-01-01, 11, SCT041 SCT230, 10.0}, {8, 2012-01-01, 12, 2012-01-01, 12, SCT046 SCT240, 10.0}, {7, 2012-01-01, 13, 2012-01-01, 13, SCT050 SCT240, 10.0}, {6, 2012-01-01, 14, 2012-01-01, 14, SCT048 SCT250, 10.0}, {5, 2012-01-01, 15, 2012-01-01, 15, SCT045 SCT250, 10.0}, {4, 2012-01-01, 16, 2012-01-01, 16, SCT050 ...|\n",
      "|20120101_19393_3802_23174_23169_0000|[{12, 2012-01-01, 11, 2012-01-01, 11, CLR, 10.0}, {11, 2012-01-01, 12, 2012-01-01, 12, FEW200, 10.0}, {10, 2012-01-01, 13, 2012-01-01, 13, FEW200, 10.0}, {9, 2012-01-01, 14, 2012-01-01, 14, FEW200, 10.0}, {8, 2012-01-01, 15, 2012-01-01, 15, FEW200, 10.0}, {7, 2012-01-01, 16, 2012-01-01, 16, FEW200, 10.0}, {6, 2012-01-01, 17, 2012-01-01, 17, BKN002 BKN250, 4.0}, {5, 2012-01-01, 18, 2012-01-01, 18, FEW002, 6.0}, {4, 2012-01-01, 19, 2012-01-01, 19, FEW002, 5.0}, {3, 2012-01-01, 20, 2012-01-01, 2...|\n",
      "|20120101_19393_3927_12921_13960_0000|[{12, 2012-01-01, 07, 2012-01-01, 07, FEW050, 10.0}, {11, 2012-01-01, 08, 2012-01-01, 08, CLR, 10.0}, {10, 2012-01-01, 09, 2012-01-01, 09, CLR, 10.0}, {9, 2012-01-01, 10, 2012-01-01, 10, CLR, 10.0}, {8, 2012-01-01, 11, 2012-01-01, 11, CLR, 10.0}, {7, 2012-01-01, 12, 2012-01-01, 12, CLR, 10.0}, {6, 2012-01-01, 13, 2012-01-01, 13, CLR, 10.0}, {5, 2012-01-01, 14, 2012-01-01, 14, CLR, 10.0}, {4, 2012-01-01, 15, 2012-01-01, 15, CLR, 10.0}, {3, 2012-01-01, 16, 2012-01-01, 16, CLR, 10.0}, {2, 2012-0...|\n",
      "| 20120101_19393_489_12918_13904_0000|[{12, 2012-01-01, 06, 2012-01-01, 06, FEW015, 10.0}, {11, 2012-01-01, 07, 2012-01-01, 07, FEW015, 10.0}, {10, 2012-01-01, 08, 2012-01-01, 08, FEW250, 10.0}, {9, 2012-01-01, 09, 2012-01-01, 09, CLR, 10.0}, {8, 2012-01-01, 10, 2012-01-01, 10, FEW130, 10.0}, {7, 2012-01-01, 11, 2012-01-01, 11, FEW130, 10.0}, {6, 2012-01-01, 12, 2012-01-01, 12, CLR, 10.0}, {5, 2012-01-01, 13, 2012-01-01, 13, CLR, 10.0}, {4, 2012-01-01, 14, 2012-01-01, 14, FEW130, 10.0}, {3, 2012-01-01, 15, 2012-01-01, 15, FEW250,...|\n",
      "| 20120101_19393_503_93721_13889_0000|[{12, 2012-01-01, 04, 2012-01-01, 04, CLR, 10.0}, {11, 2012-01-01, 05, 2012-01-01, 05, FEW012, 9.0}, {10, 2012-01-01, 06, 2012-01-01, 06, CLR, 9.0}, {9, 2012-01-01, 07, 2012-01-01, 07, CLR, 10.0}, {8, 2012-01-01, 08, 2012-01-01, 08, CLR, 10.0}, {7, 2012-01-01, 09, 2012-01-01, 09, SCT200, 10.0}, {6, 2012-01-01, 10, 2012-01-01, 10, SCT200, 10.0}, {5, 2012-01-01, 11, 2012-01-01, 11, BKN200, 10.0}, {4, 2012-01-01, 12, 2012-01-01, 12, FEW160 BKN220, 10.0}, {3, 2012-01-01, 13, 2012-01-01, 13, SCT14...|\n",
      "+------------------------------------+--------------------------------------------------------------------------------------------------------------------------------------------------------------------------------------------------------------------------------------------------------------------------------------------------------------------------------------------------------------------------------------------------------------------------------------------------------------------------------------------------------------------+\n",
      "only showing top 10 rows\n",
      "\n"
     ]
    },
    {
     "data": {
      "text/plain": [
       "originAgg = [flight_id: string, W_o_list: array<struct<o_h:int,o_target_date:date,o_target_hour:string,W_DATE:date,W_HOUR:string,SkyCondition:string,Visibility:double>>]\n"
      ]
     },
     "metadata": {},
     "output_type": "display_data",
     "source": "user"
    },
    {
     "data": {
      "text/plain": [
       "[flight_id: string, W_o_list: array<struct<o_h:int,o_target_date:date,o_target_hour:string,W_DATE:date,W_HOUR:string,SkyCondition:string,Visibility:double>>]"
      ]
     },
     "execution_count": 14,
     "metadata": {},
     "output_type": "execute_result"
    }
   ],
   "source": [
    "// ───────────────────────────────────────────────────────────────────────────────\n",
    "// 4) (Option) Regrouper en liste par vol (gardez o_h pour trier côté lecteur)\n",
    "// ───────────────────────────────────────────────────────────────────────────────\n",
    "val originAgg = originJoined\n",
    "  .withColumn(\"o_pack\", struct(\n",
    "    col(\"o_h\"),\n",
    "    col(\"o_target_date\"),\n",
    "    col(\"o_target_hour\"),\n",
    "    col(\"W_DATE\"),\n",
    "    col(\"W_HOUR\"),\n",
    "    col(\"SkyCondition\"),\n",
    "    col(\"Visibility\"),\n",
    "    // + tes variables météo utiles\n",
    "  ))\n",
    "  .groupBy(\"flight_id\")                       \n",
    "  .agg(collect_list(col(\"o_pack\")).as(\"W_o_list\"))\n",
    "\n",
    "originAgg.show(10, 500, false)"
   ]
  },
  {
   "cell_type": "markdown",
   "id": "283fa7e1-e18f-4a35-86bc-71fd88365255",
   "metadata": {},
   "source": [
    "# Jointure Map Reduce 2"
   ]
  },
  {
   "cell_type": "code",
   "execution_count": 4,
   "id": "4ce07345-5d87-442c-a7db-681a94c7361b",
   "metadata": {},
   "outputs": [
    {
     "name": "stdout",
     "output_type": "stream",
     "text": [
      "-RECORD 0---------------------------------------------------------------------------------------------------------------------------------------------------------------------------------------------------------------------------------------------------------------------------------------------------------------------------------------------------------------------------------------------------------------------------------------------------------------------------------------------------------------------------------------------------------------------------------------------------------------------------------------------------------------------------------------------------------------------------------------------------------------------------------------------------------------------------------------------------------------------------------------------------------------------------------------------------------------------------------------------------------------------------------------------------------------------------------------------------------------------------------------------------------------------------------\n",
      " UTC_FL_DATE            | 2012-01-02                                                                                                                                                                                                                                                                                                                                                                                                                                                                                                                                                                                                                                                                                                                                                                                                                                                                                                                                                                                                                                                                                                                                                      \n",
      " FL_DATE                | 2012-01-01                                                                                                                                                                                                                                                                                                                                                                                                                                                                                                                                                                                                                                                                                                                                                                                                                                                                                                                                                                                                                                                                                                                                                      \n",
      " CRS_DEP_TIME           | 1955                                                                                                                                                                                                                                                                                                                                                                                                                                                                                                                                                                                                                                                                                                                                                                                                                                                                                                                                                                                                                                                                                                                                                            \n",
      " dep_hour_rounded       | 1900                                                                                                                                                                                                                                                                                                                                                                                                                                                                                                                                                                                                                                                                                                                                                                                                                                                                                                                                                                                                                                                                                                                                                            \n",
      " ORIGIN_WBAN            | 94846                                                                                                                                                                                                                                                                                                                                                                                                                                                                                                                                                                                                                                                                                                                                                                                                                                                                                                                                                                                                                                                                                                                                                           \n",
      " DEST_WBAN              | 23050                                                                                                                                                                                                                                                                                                                                                                                                                                                                                                                                                                                                                                                                                                                                                                                                                                                                                                                                                                                                                                                                                                                                                           \n",
      " CRS_ELAPSED_TIME       | 180.0                                                                                                                                                                                                                                                                                                                                                                                                                                                                                                                                                                                                                                                                                                                                                                                                                                                                                                                                                                                                                                                                                                                                                           \n",
      " OP_CARRIER_AIRLINE_ID  | 20398                                                                                                                                                                                                                                                                                                                                                                                                                                                                                                                                                                                                                                                                                                                                                                                                                                                                                                                                                                                                                                                                                                                                                           \n",
      " OP_CARRIER_FL_NUM      | 3864                                                                                                                                                                                                                                                                                                                                                                                                                                                                                                                                                                                                                                                                                                                                                                                                                                                                                                                                                                                                                                                                                                                                                            \n",
      " label_is_delayed_15min | 1                                                                                                                                                                                                                                                                                                                                                                                                                                                                                                                                                                                                                                                                                                                                                                                                                                                                                                                                                                                                                                                                                                                                                               \n",
      " weather_observations   | [{94846, 2012-01-01, 1300, 11, SCT039 SCT049 BKN065, 10.0, 34.0, 1.1, 22.0, 290.0, 57.0}, {94846, 2012-01-01, 900, 11, SCT015 BKN022 BKN026, 10.0, 38.0, 3.3, 23.0, 300.0, 76.0}, {94846, 2012-01-01, 700, 11, BKN017 OVC022, 10.0, 36.0, 2.2, 23.0, 300.0, 85.0}, {94846, 2012-01-01, 1700, 11, SCT036 OVC050, 9.0, 32.0, 0.0, 25.0, 290.0, 61.0}, {94846, 2012-01-01, 1600, 11, BKN038 BKN044 OVC053, 9.0, 32.0, 0.0, 18.0, 280.0, 61.0}, {94846, 2012-01-01, 1500, 11, BKN035 BKN050 OVC070, 9.0, 32.0, 0.0, 23.0, 280.0, 61.0}, {94846, 2012-01-01, 1800, 11, FEW032 BKN040 OVC050, 9.0, 31.0, -0.6, 18.0, 280.0, 66.0}, {94846, 2012-01-01, 1200, 11, OVC040, 10.0, 34.0, 1.1, 25.0, 300.0, 54.0}, {94846, 2012-01-01, 1900, 11, BKN032 BKN040 OVC060, 5.0, 30.0, -1.1, 21.0, 280.0, 72.0}, {94846, 2012-01-01, 1000, 11, BKN026, 10.0, 39.0, 3.9, 22.0, 290.0, 65.0}, {94846, 2012-01-01, 800, 11, BKN017 OVC022, 10.0, 36.0, 2.2, 16.0, 290.0, 85.0}, {94846, 2012-01-01, 1400, 11, SCT036 BKN055 OVC070, 8.0, 34.0, 1.0, 24.0, 280.0, 59.0}, {94846, 2012-01-01, 1100, 11, BKN032, 10.0, 36.0, 2.0, 28.0, 280.0, 64.0}]                                 \n",
      "-RECORD 1---------------------------------------------------------------------------------------------------------------------------------------------------------------------------------------------------------------------------------------------------------------------------------------------------------------------------------------------------------------------------------------------------------------------------------------------------------------------------------------------------------------------------------------------------------------------------------------------------------------------------------------------------------------------------------------------------------------------------------------------------------------------------------------------------------------------------------------------------------------------------------------------------------------------------------------------------------------------------------------------------------------------------------------------------------------------------------------------------------------------------------------------------------------------------------\n",
      " UTC_FL_DATE            | 2012-01-02                                                                                                                                                                                                                                                                                                                                                                                                                                                                                                                                                                                                                                                                                                                                                                                                                                                                                                                                                                                                                                                                                                                                                      \n",
      " FL_DATE                | 2012-01-01                                                                                                                                                                                                                                                                                                                                                                                                                                                                                                                                                                                                                                                                                                                                                                                                                                                                                                                                                                                                                                                                                                                                                      \n",
      " CRS_DEP_TIME           | 1955                                                                                                                                                                                                                                                                                                                                                                                                                                                                                                                                                                                                                                                                                                                                                                                                                                                                                                                                                                                                                                                                                                                                                            \n",
      " dep_hour_rounded       | 1900                                                                                                                                                                                                                                                                                                                                                                                                                                                                                                                                                                                                                                                                                                                                                                                                                                                                                                                                                                                                                                                                                                                                                            \n",
      " ORIGIN_WBAN            | 94846                                                                                                                                                                                                                                                                                                                                                                                                                                                                                                                                                                                                                                                                                                                                                                                                                                                                                                                                                                                                                                                                                                                                                           \n",
      " DEST_WBAN              | 23050                                                                                                                                                                                                                                                                                                                                                                                                                                                                                                                                                                                                                                                                                                                                                                                                                                                                                                                                                                                                                                                                                                                                                           \n",
      " CRS_ELAPSED_TIME       | 180.0                                                                                                                                                                                                                                                                                                                                                                                                                                                                                                                                                                                                                                                                                                                                                                                                                                                                                                                                                                                                                                                                                                                                                           \n",
      " OP_CARRIER_AIRLINE_ID  | 20398                                                                                                                                                                                                                                                                                                                                                                                                                                                                                                                                                                                                                                                                                                                                                                                                                                                                                                                                                                                                                                                                                                                                                           \n",
      " OP_CARRIER_FL_NUM      | 3864                                                                                                                                                                                                                                                                                                                                                                                                                                                                                                                                                                                                                                                                                                                                                                                                                                                                                                                                                                                                                                                                                                                                                            \n",
      " label_is_delayed_15min | 1                                                                                                                                                                                                                                                                                                                                                                                                                                                                                                                                                                                                                                                                                                                                                                                                                                                                                                                                                                                                                                                                                                                                                               \n",
      " weather_observations   | [{94846, 2012-01-02, 1800, 11, SCT040, 10.0, 21.0, -6.1, 15.0, 330.0, 55.0}, {94846, 2012-01-02, 1500, 11, BKN038, 10.0, 22.0, -5.6, 21.0, 320.0, 52.0}, {94846, 2012-01-02, 1700, 11, OVC040, 10.0, 22.0, -5.6, 16.0, 330.0, 52.0}, {94846, 2012-01-02, 1000, 11, OVC040, 10.0, 23.0, -5.0, 25.0, 320.0, 52.0}, {94846, 2012-01-02, 1300, 11, BKN042 BKN250, 10.0, 23.0, -5.0, 18.0, 330.0, 50.0}, {94846, 2012-01-02, 900, 11, BKN026 OVC036, 2.5, 21.0, -6.0, 15.0, 310.0, 68.0}, {94846, 2012-01-02, 1100, 11, BKN042, 10.0, 23.0, -5.0, 23.0, 320.0, 50.0}, {94846, 2012-01-02, 700, 11, OVC030, 4.0, 21.0, -6.0, 21.0, 310.0, 68.0}, {94846, 2012-01-02, 1400, 11, BKN040, 10.0, 23.0, -5.0, 17.0, 320.0, 48.0}, {94846, 2012-01-02, 1600, 11, OVC038, 10.0, 22.0, -5.6, 22.0, 320.0, 52.0}, {94846, 2012-01-02, 800, 11, BKN024 OVC032, 2.0, 21.0, -6.1, 21.0, 310.0, 68.0}, {94846, 2012-01-02, 1200, 11, OVC040, 10.0, 23.0, -5.0, 23.0, 320.0, 50.0}, {94846, 2012-01-02, 1900, 11, FEW038, 10.0, 20.0, -6.7, 15.0, 320.0, 57.0}]                                                                                                                     \n",
      "-RECORD 2---------------------------------------------------------------------------------------------------------------------------------------------------------------------------------------------------------------------------------------------------------------------------------------------------------------------------------------------------------------------------------------------------------------------------------------------------------------------------------------------------------------------------------------------------------------------------------------------------------------------------------------------------------------------------------------------------------------------------------------------------------------------------------------------------------------------------------------------------------------------------------------------------------------------------------------------------------------------------------------------------------------------------------------------------------------------------------------------------------------------------------------------------------------------------------\n",
      " UTC_FL_DATE            | 2012-01-13                                                                                                                                                                                                                                                                                                                                                                                                                                                                                                                                                                                                                                                                                                                                                                                                                                                                                                                                                                                                                                                                                                                                                      \n",
      " FL_DATE                | 2012-01-12                                                                                                                                                                                                                                                                                                                                                                                                                                                                                                                                                                                                                                                                                                                                                                                                                                                                                                                                                                                                                                                                                                                                                      \n",
      " CRS_DEP_TIME           | 1955                                                                                                                                                                                                                                                                                                                                                                                                                                                                                                                                                                                                                                                                                                                                                                                                                                                                                                                                                                                                                                                                                                                                                            \n",
      " dep_hour_rounded       | 1900                                                                                                                                                                                                                                                                                                                                                                                                                                                                                                                                                                                                                                                                                                                                                                                                                                                                                                                                                                                                                                                                                                                                                            \n",
      " ORIGIN_WBAN            | 94846                                                                                                                                                                                                                                                                                                                                                                                                                                                                                                                                                                                                                                                                                                                                                                                                                                                                                                                                                                                                                                                                                                                                                           \n",
      " DEST_WBAN              | 23050                                                                                                                                                                                                                                                                                                                                                                                                                                                                                                                                                                                                                                                                                                                                                                                                                                                                                                                                                                                                                                                                                                                                                           \n",
      " CRS_ELAPSED_TIME       | 180.0                                                                                                                                                                                                                                                                                                                                                                                                                                                                                                                                                                                                                                                                                                                                                                                                                                                                                                                                                                                                                                                                                                                                                           \n",
      " OP_CARRIER_AIRLINE_ID  | 20398                                                                                                                                                                                                                                                                                                                                                                                                                                                                                                                                                                                                                                                                                                                                                                                                                                                                                                                                                                                                                                                                                                                                                           \n",
      " OP_CARRIER_FL_NUM      | 3864                                                                                                                                                                                                                                                                                                                                                                                                                                                                                                                                                                                                                                                                                                                                                                                                                                                                                                                                                                                                                                                                                                                                                            \n",
      " label_is_delayed_15min | 1                                                                                                                                                                                                                                                                                                                                                                                                                                                                                                                                                                                                                                                                                                                                                                                                                                                                                                                                                                                                                                                                                                                                                               \n",
      " weather_observations   | [{94846, 2012-01-12, 1700, 11, BKN010 OVC017, 1.5, 27.0, -3.0, 20.0, 320.0, 85.0}, {94846, 2012-01-12, 1400, 11, VV010, 0.5, 27.0, -2.8, 11.0, 270.0, 88.0}, {94846, 2012-01-12, 800, 11, OVC010, 8.0, 32.0, 0.0, 9.0, 290.0, 85.0}, {94846, 2012-01-12, 1800, 11, FEW014 SCT025 OVC031, 1.75, 27.0, -3.0, 15.0, 320.0, 78.0}, {94846, 2012-01-12, 1100, 11, SCT006 OVC012, 0.5, 30.0, -1.0, 9.0, 290.0, 89.0}, {94846, 2012-01-12, 1600, 11, BKN011 OVC020, 0.5, 27.0, -3.0, 10.0, 280.0, 85.0}, {94846, 2012-01-12, 1000, 11, BKN006 OVC012, 0.75, 30.0, -1.0, 8.0, 290.0, 92.0}, {94846, 2012-01-12, 900, 11, OVC008, 4.0, 32.0, 0.0, 10.0, 280.0, 85.0}, {94846, 2012-01-12, 1500, 11, VV009, 0.25, 27.0, -3.0, 11.0, 270.0, 85.0}, {94846, 2012-01-12, 1200, 11, BKN008 OVC016, 0.75, 28.0, -2.0, 8.0, 290.0, 96.0}, {94846, 2012-01-12, 700, 11, OVC010, 8.0, 33.0, 0.6, 8.0, 330.0, 85.0}, {94846, 2012-01-12, 1900, 11, VV016, 1.0, 25.0, -4.0, 17.0, 320.0, 85.0}, {94846, 2012-01-12, 1300, 11, SCT008 OVC014, 0.75, 28.0, -2.0, 10.0, 280.0, 89.0}]                                                                                                  \n",
      "-RECORD 3---------------------------------------------------------------------------------------------------------------------------------------------------------------------------------------------------------------------------------------------------------------------------------------------------------------------------------------------------------------------------------------------------------------------------------------------------------------------------------------------------------------------------------------------------------------------------------------------------------------------------------------------------------------------------------------------------------------------------------------------------------------------------------------------------------------------------------------------------------------------------------------------------------------------------------------------------------------------------------------------------------------------------------------------------------------------------------------------------------------------------------------------------------------------------------\n",
      " UTC_FL_DATE            | 2012-01-13                                                                                                                                                                                                                                                                                                                                                                                                                                                                                                                                                                                                                                                                                                                                                                                                                                                                                                                                                                                                                                                                                                                                                      \n",
      " FL_DATE                | 2012-01-12                                                                                                                                                                                                                                                                                                                                                                                                                                                                                                                                                                                                                                                                                                                                                                                                                                                                                                                                                                                                                                                                                                                                                      \n",
      " CRS_DEP_TIME           | 1955                                                                                                                                                                                                                                                                                                                                                                                                                                                                                                                                                                                                                                                                                                                                                                                                                                                                                                                                                                                                                                                                                                                                                            \n",
      " dep_hour_rounded       | 1900                                                                                                                                                                                                                                                                                                                                                                                                                                                                                                                                                                                                                                                                                                                                                                                                                                                                                                                                                                                                                                                                                                                                                            \n",
      " ORIGIN_WBAN            | 94846                                                                                                                                                                                                                                                                                                                                                                                                                                                                                                                                                                                                                                                                                                                                                                                                                                                                                                                                                                                                                                                                                                                                                           \n",
      " DEST_WBAN              | 23050                                                                                                                                                                                                                                                                                                                                                                                                                                                                                                                                                                                                                                                                                                                                                                                                                                                                                                                                                                                                                                                                                                                                                           \n",
      " CRS_ELAPSED_TIME       | 180.0                                                                                                                                                                                                                                                                                                                                                                                                                                                                                                                                                                                                                                                                                                                                                                                                                                                                                                                                                                                                                                                                                                                                                           \n",
      " OP_CARRIER_AIRLINE_ID  | 20398                                                                                                                                                                                                                                                                                                                                                                                                                                                                                                                                                                                                                                                                                                                                                                                                                                                                                                                                                                                                                                                                                                                                                           \n",
      " OP_CARRIER_FL_NUM      | 3864                                                                                                                                                                                                                                                                                                                                                                                                                                                                                                                                                                                                                                                                                                                                                                                                                                                                                                                                                                                                                                                                                                                                                            \n",
      " label_is_delayed_15min | 1                                                                                                                                                                                                                                                                                                                                                                                                                                                                                                                                                                                                                                                                                                                                                                                                                                                                                                                                                                                                                                                                                                                                                               \n",
      " weather_observations   | [{94846, 2012-01-13, 900, 11, SCT022 SCT050 OVC060, 10.0, 20.0, -6.7, 15.0, 300.0, 71.0}, {94846, 2012-01-13, 1200, 11, BKN025 OVC048, 10.0, 21.0, -6.0, 11.0, 300.0, 68.0}, {94846, 2012-01-13, 800, 11, OVC045, 10.0, 18.0, -7.8, 13.0, 300.0, 74.0}, {94846, 2012-01-13, 1400, 11, SCT022 SCT038 OVC060, 9.0, 21.0, -6.0, 14.0, 300.0, 68.0}, {94846, 2012-01-13, 1000, 11, BKN022 OVC065, 10.0, 21.0, -6.0, 13.0, 290.0, 68.0}, {94846, 2012-01-13, 1600, 11, SCT024 BKN038 OVC045, 9.0, 21.0, -6.1, 10.0, 290.0, 71.0}, {94846, 2012-01-13, 1700, 11, FEW037 OVC048, 10.0, 21.0, -6.1, 10.0, 280.0, 68.0}, {94846, 2012-01-13, 1800, 11, FEW021 OVC033, 10.0, 20.0, -6.7, 8.0, 270.0, 74.0}, {94846, 2012-01-13, 1100, 11, SCT022 BKN027 OVC065, 10.0, 21.0, -6.0, 15.0, 290.0, 68.0}, {94846, 2012-01-13, 1300, 11, BKN022 BKN040 OVC060, 10.0, 22.0, -5.6, 14.0, 290.0, 68.0}, {94846, 2012-01-13, 1500, 11, BKN022 BKN043 OVC060, 6.0, 21.0, -6.0, 10.0, 280.0, 68.0}, {94846, 2012-01-13, 700, 11, FEW040 BKN085 BKN250, 10.0, 17.0, -8.3, 14.0, 290.0, 74.0}, {94846, 2012-01-13, 1900, 11, FEW019 BKN026 OVC033, 9.0, 19.0, -7.0, 9.0, 280.0, 74.0}] \n",
      "-RECORD 4---------------------------------------------------------------------------------------------------------------------------------------------------------------------------------------------------------------------------------------------------------------------------------------------------------------------------------------------------------------------------------------------------------------------------------------------------------------------------------------------------------------------------------------------------------------------------------------------------------------------------------------------------------------------------------------------------------------------------------------------------------------------------------------------------------------------------------------------------------------------------------------------------------------------------------------------------------------------------------------------------------------------------------------------------------------------------------------------------------------------------------------------------------------------------------\n",
      " UTC_FL_DATE            | 2012-01-27                                                                                                                                                                                                                                                                                                                                                                                                                                                                                                                                                                                                                                                                                                                                                                                                                                                                                                                                                                                                                                                                                                                                                      \n",
      " FL_DATE                | 2012-01-27                                                                                                                                                                                                                                                                                                                                                                                                                                                                                                                                                                                                                                                                                                                                                                                                                                                                                                                                                                                                                                                                                                                                                      \n",
      " CRS_DEP_TIME           | 945                                                                                                                                                                                                                                                                                                                                                                                                                                                                                                                                                                                                                                                                                                                                                                                                                                                                                                                                                                                                                                                                                                                                                             \n",
      " dep_hour_rounded       | 900                                                                                                                                                                                                                                                                                                                                                                                                                                                                                                                                                                                                                                                                                                                                                                                                                                                                                                                                                                                                                                                                                                                                                             \n",
      " ORIGIN_WBAN            | 94846                                                                                                                                                                                                                                                                                                                                                                                                                                                                                                                                                                                                                                                                                                                                                                                                                                                                                                                                                                                                                                                                                                                                                           \n",
      " DEST_WBAN              | 23050                                                                                                                                                                                                                                                                                                                                                                                                                                                                                                                                                                                                                                                                                                                                                                                                                                                                                                                                                                                                                                                                                                                                                           \n",
      " CRS_ELAPSED_TIME       | 180.0                                                                                                                                                                                                                                                                                                                                                                                                                                                                                                                                                                                                                                                                                                                                                                                                                                                                                                                                                                                                                                                                                                                                                           \n",
      " OP_CARRIER_AIRLINE_ID  | 20398                                                                                                                                                                                                                                                                                                                                                                                                                                                                                                                                                                                                                                                                                                                                                                                                                                                                                                                                                                                                                                                                                                                                                           \n",
      " OP_CARRIER_FL_NUM      | 3755                                                                                                                                                                                                                                                                                                                                                                                                                                                                                                                                                                                                                                                                                                                                                                                                                                                                                                                                                                                                                                                                                                                                                            \n",
      " label_is_delayed_15min | 1                                                                                                                                                                                                                                                                                                                                                                                                                                                                                                                                                                                                                                                                                                                                                                                                                                                                                                                                                                                                                                                                                                                                                               \n",
      " weather_observations   | [{94846, 2012-01-27, 2300, 11, BKN007 OVC012, 2.5, 34.0, 1.1, 9.0, 220.0, 89.0}, {94846, 2012-01-27, 400, 11, SCT018 OVC028, 7.0, 36.0, 2.0, 13.0, 300.0, 73.0}, {94846, 2012-01-27, 2200, 11, BKN007 BKN011 OVC021, 3.0, 34.0, 1.0, 7.0, 220.0, 85.0}, {94846, 2012-01-27, 900, 11, FEW250, 10.0, 37.0, 2.8, 9.0, 320.0, 59.0}, {94846, 2012-01-27, 0, 11, OVC011, 7.0, 36.0, 2.0, 10.0, 320.0, 79.0}, {94846, 2012-01-27, 200, 11, OVC016, 6.0, 36.0, 2.0, 6.0, 340.0, 79.0}, {94846, 2012-01-27, 600, 11, BKN031, 10.0, 36.0, 2.0, 15.0, 320.0, 59.0}, {94846, 2012-01-27, 100, 11, OVC013, 6.0, 35.0, 1.7, 7.0, 350.0, 82.0}, {94846, 2012-01-27, 800, 11, FEW035, 10.0, 35.0, 1.7, 11.0, 320.0, 64.0}, {94846, 2012-01-27, 2100, 11, SCT013 BKN024 OVC046, 4.0, 36.0, 2.0, 10.0, 240.0, 79.0}, {94846, 2012-01-27, 700, 11, FEW035, 10.0, 34.0, 1.1, 8.0, 300.0, 67.0}, {94846, 2012-01-27, 500, 11, BKN027 OVC033, 10.0, 36.0, 2.0, 14.0, 320.0, 70.0}, {94846, 2012-01-27, 300, 11, BKN018 OVC028, 6.0, 36.0, 2.2, 10.0, 310.0, 79.0}]                                                                                                                   \n",
      "-RECORD 5---------------------------------------------------------------------------------------------------------------------------------------------------------------------------------------------------------------------------------------------------------------------------------------------------------------------------------------------------------------------------------------------------------------------------------------------------------------------------------------------------------------------------------------------------------------------------------------------------------------------------------------------------------------------------------------------------------------------------------------------------------------------------------------------------------------------------------------------------------------------------------------------------------------------------------------------------------------------------------------------------------------------------------------------------------------------------------------------------------------------------------------------------------------------------------\n",
      " UTC_FL_DATE            | 2012-01-18                                                                                                                                                                                                                                                                                                                                                                                                                                                                                                                                                                                                                                                                                                                                                                                                                                                                                                                                                                                                                                                                                                                                                      \n",
      " FL_DATE                | 2012-01-17                                                                                                                                                                                                                                                                                                                                                                                                                                                                                                                                                                                                                                                                                                                                                                                                                                                                                                                                                                                                                                                                                                                                                      \n",
      " CRS_DEP_TIME           | 1955                                                                                                                                                                                                                                                                                                                                                                                                                                                                                                                                                                                                                                                                                                                                                                                                                                                                                                                                                                                                                                                                                                                                                            \n",
      " dep_hour_rounded       | 1900                                                                                                                                                                                                                                                                                                                                                                                                                                                                                                                                                                                                                                                                                                                                                                                                                                                                                                                                                                                                                                                                                                                                                            \n",
      " ORIGIN_WBAN            | 94846                                                                                                                                                                                                                                                                                                                                                                                                                                                                                                                                                                                                                                                                                                                                                                                                                                                                                                                                                                                                                                                                                                                                                           \n",
      " DEST_WBAN              | 23050                                                                                                                                                                                                                                                                                                                                                                                                                                                                                                                                                                                                                                                                                                                                                                                                                                                                                                                                                                                                                                                                                                                                                           \n",
      " CRS_ELAPSED_TIME       | 180.0                                                                                                                                                                                                                                                                                                                                                                                                                                                                                                                                                                                                                                                                                                                                                                                                                                                                                                                                                                                                                                                                                                                                                           \n",
      " OP_CARRIER_AIRLINE_ID  | 20398                                                                                                                                                                                                                                                                                                                                                                                                                                                                                                                                                                                                                                                                                                                                                                                                                                                                                                                                                                                                                                                                                                                                                           \n",
      " OP_CARRIER_FL_NUM      | 3864                                                                                                                                                                                                                                                                                                                                                                                                                                                                                                                                                                                                                                                                                                                                                                                                                                                                                                                                                                                                                                                                                                                                                            \n",
      " label_is_delayed_15min | 1                                                                                                                                                                                                                                                                                                                                                                                                                                                                                                                                                                                                                                                                                                                                                                                                                                                                                                                                                                                                                                                                                                                                                               \n",
      " weather_observations   | [{94846, 2012-01-17, 1800, 11, SCT021 BKN029 BKN095, 9.0, 25.0, -4.0, 20.0, 320.0, 75.0}, {94846, 2012-01-17, 1300, 11, SCT017 BKN039 OVC050, 4.0, 28.0, -2.0, 18.0, 320.0, 82.0}, {94846, 2012-01-17, 1100, 11, BKN017 BKN021 OVC031, 3.0, 30.0, -1.0, 17.0, 330.0, 82.0}, {94846, 2012-01-17, 1400, 11, FEW019 BKN026 OVC045, 7.0, 28.0, -2.0, 15.0, 320.0, 75.0}, {94846, 2012-01-17, 800, 11, OVC006, 2.5, 37.0, 3.0, 10.0, 350.0, 96.0}, {94846, 2012-01-17, 1200, 11, BKN019 BKN026 OVC031, 5.0, 28.0, -2.0, 18.0, 330.0, 82.0}, {94846, 2012-01-17, 1600, 11, FEW024 BKN030 OVC038, 9.0, 27.0, -3.0, 22.0, 310.0, 72.0}, {94846, 2012-01-17, 1700, 11, SCT023 BKN028 OVC070, 8.0, 27.0, -3.0, 16.0, 310.0, 72.0}, {94846, 2012-01-17, 700, 11, OVC004, 3.0, 37.0, 3.0, 11.0, 360.0, 96.0}, {94846, 2012-01-17, 900, 11, OVC008, 1.0, 34.0, 1.0, 23.0, 330.0, 85.0}, {94846, 2012-01-17, 1500, 11, BKN026 OVC030, 9.0, 28.0, -2.0, 17.0, 310.0, 75.0}, {94846, 2012-01-17, 1900, 11, BKN026, 10.0, 25.0, -4.0, 15.0, 300.0, 69.0}, {94846, 2012-01-17, 1000, 11, SCT008 BKN013 OVC022, 1.0, 32.0, 0.0, 17.0, 340.0, 85.0}]                                \n",
      "-RECORD 6---------------------------------------------------------------------------------------------------------------------------------------------------------------------------------------------------------------------------------------------------------------------------------------------------------------------------------------------------------------------------------------------------------------------------------------------------------------------------------------------------------------------------------------------------------------------------------------------------------------------------------------------------------------------------------------------------------------------------------------------------------------------------------------------------------------------------------------------------------------------------------------------------------------------------------------------------------------------------------------------------------------------------------------------------------------------------------------------------------------------------------------------------------------------------------\n",
      " UTC_FL_DATE            | 2012-01-18                                                                                                                                                                                                                                                                                                                                                                                                                                                                                                                                                                                                                                                                                                                                                                                                                                                                                                                                                                                                                                                                                                                                                      \n",
      " FL_DATE                | 2012-01-17                                                                                                                                                                                                                                                                                                                                                                                                                                                                                                                                                                                                                                                                                                                                                                                                                                                                                                                                                                                                                                                                                                                                                      \n",
      " CRS_DEP_TIME           | 1955                                                                                                                                                                                                                                                                                                                                                                                                                                                                                                                                                                                                                                                                                                                                                                                                                                                                                                                                                                                                                                                                                                                                                            \n",
      " dep_hour_rounded       | 1900                                                                                                                                                                                                                                                                                                                                                                                                                                                                                                                                                                                                                                                                                                                                                                                                                                                                                                                                                                                                                                                                                                                                                            \n",
      " ORIGIN_WBAN            | 94846                                                                                                                                                                                                                                                                                                                                                                                                                                                                                                                                                                                                                                                                                                                                                                                                                                                                                                                                                                                                                                                                                                                                                           \n",
      " DEST_WBAN              | 23050                                                                                                                                                                                                                                                                                                                                                                                                                                                                                                                                                                                                                                                                                                                                                                                                                                                                                                                                                                                                                                                                                                                                                           \n",
      " CRS_ELAPSED_TIME       | 180.0                                                                                                                                                                                                                                                                                                                                                                                                                                                                                                                                                                                                                                                                                                                                                                                                                                                                                                                                                                                                                                                                                                                                                           \n",
      " OP_CARRIER_AIRLINE_ID  | 20398                                                                                                                                                                                                                                                                                                                                                                                                                                                                                                                                                                                                                                                                                                                                                                                                                                                                                                                                                                                                                                                                                                                                                           \n",
      " OP_CARRIER_FL_NUM      | 3864                                                                                                                                                                                                                                                                                                                                                                                                                                                                                                                                                                                                                                                                                                                                                                                                                                                                                                                                                                                                                                                                                                                                                            \n",
      " label_is_delayed_15min | 1                                                                                                                                                                                                                                                                                                                                                                                                                                                                                                                                                                                                                                                                                                                                                                                                                                                                                                                                                                                                                                                                                                                                                               \n",
      " weather_observations   | [{94846, 2012-01-18, 800, 11, SCT250, 10.0, 13.0, -10.6, 5.0, 210.0, 73.0}, {94846, 2012-01-18, 1000, 11, SCT250, 10.0, 19.0, -7.2, 7.0, 190.0, 57.0}, {94846, 2012-01-18, 1800, 11, OVC100, 10.0, 25.0, -3.9, 22.0, 180.0, 72.0}, {94846, 2012-01-18, 1700, 11, FEW110, 10.0, 25.0, -3.9, 16.0, 180.0, 69.0}, {94846, 2012-01-18, 1900, 11, FEW110, 10.0, 25.0, -3.9, 15.0, 190.0, 72.0}, {94846, 2012-01-18, 1500, 11, SCT100 BKN120 OVC200, 10.0, 24.0, -4.4, 15.0, 180.0, 63.0}, {94846, 2012-01-18, 700, 11, FEW250, 10.0, 11.0, -11.7, 3.0, 270.0, 77.0}, {94846, 2012-01-18, 1300, 11, FEW150 BKN250, 10.0, 24.0, -4.4, 13.0, 210.0, 58.0}, {94846, 2012-01-18, 1400, 11, FEW095 SCT150 BKN250, 10.0, 25.0, -3.9, 9.0, 180.0, 58.0}, {94846, 2012-01-18, 1100, 11, SCT250, 10.0, 22.0, -5.6, 11.0, 200.0, 55.0}, {94846, 2012-01-18, 900, 11, BKN250, 10.0, 16.0, -8.9, 7.0, 240.0, 62.0}, {94846, 2012-01-18, 1200, 11, SCT250, 10.0, 23.0, -5.0, 10.0, 210.0, 55.0}, {94846, 2012-01-18, 1600, 11, SCT090 BKN110 OVC180, 10.0, 24.0, -4.4, 16.0, 170.0, 68.0}]                                                                                         \n",
      "-RECORD 7---------------------------------------------------------------------------------------------------------------------------------------------------------------------------------------------------------------------------------------------------------------------------------------------------------------------------------------------------------------------------------------------------------------------------------------------------------------------------------------------------------------------------------------------------------------------------------------------------------------------------------------------------------------------------------------------------------------------------------------------------------------------------------------------------------------------------------------------------------------------------------------------------------------------------------------------------------------------------------------------------------------------------------------------------------------------------------------------------------------------------------------------------------------------------------\n",
      " UTC_FL_DATE            | 2012-01-23                                                                                                                                                                                                                                                                                                                                                                                                                                                                                                                                                                                                                                                                                                                                                                                                                                                                                                                                                                                                                                                                                                                                                      \n",
      " FL_DATE                | 2012-01-23                                                                                                                                                                                                                                                                                                                                                                                                                                                                                                                                                                                                                                                                                                                                                                                                                                                                                                                                                                                                                                                                                                                                                      \n",
      " CRS_DEP_TIME           | 945                                                                                                                                                                                                                                                                                                                                                                                                                                                                                                                                                                                                                                                                                                                                                                                                                                                                                                                                                                                                                                                                                                                                                             \n",
      " dep_hour_rounded       | 900                                                                                                                                                                                                                                                                                                                                                                                                                                                                                                                                                                                                                                                                                                                                                                                                                                                                                                                                                                                                                                                                                                                                                             \n",
      " ORIGIN_WBAN            | 94846                                                                                                                                                                                                                                                                                                                                                                                                                                                                                                                                                                                                                                                                                                                                                                                                                                                                                                                                                                                                                                                                                                                                                           \n",
      " DEST_WBAN              | 23050                                                                                                                                                                                                                                                                                                                                                                                                                                                                                                                                                                                                                                                                                                                                                                                                                                                                                                                                                                                                                                                                                                                                                           \n",
      " CRS_ELAPSED_TIME       | 180.0                                                                                                                                                                                                                                                                                                                                                                                                                                                                                                                                                                                                                                                                                                                                                                                                                                                                                                                                                                                                                                                                                                                                                           \n",
      " OP_CARRIER_AIRLINE_ID  | 20398                                                                                                                                                                                                                                                                                                                                                                                                                                                                                                                                                                                                                                                                                                                                                                                                                                                                                                                                                                                                                                                                                                                                                           \n",
      " OP_CARRIER_FL_NUM      | 3755                                                                                                                                                                                                                                                                                                                                                                                                                                                                                                                                                                                                                                                                                                                                                                                                                                                                                                                                                                                                                                                                                                                                                            \n",
      " label_is_delayed_15min | 1                                                                                                                                                                                                                                                                                                                                                                                                                                                                                                                                                                                                                                                                                                                                                                                                                                                                                                                                                                                                                                                                                                                                                               \n",
      " weather_observations   | [{94846, 2012-01-23, 300, 11, FEW003 BKN036 OVC055, 7.0, 43.0, 6.0, 10.0, 160.0, 86.0}, {94846, 2012-01-23, 800, 11, OVC006, 4.0, 45.0, 7.0, 14.0, 220.0, 93.0}, {94846, 2012-01-23, 100, 11, OVC003, 3.0, 43.0, 6.0, 8.0, 150.0, 93.0}, {94846, 2012-01-23, 2200, 11, OVC021, 10.0, 31.0, -0.6, 15.0, 270.0, 69.0}, {94846, 2012-01-23, 400, 11, FEW033 BKN055 OVC075, 9.0, 44.0, 6.7, 15.0, 180.0, 89.0}, {94846, 2012-01-23, 2300, 11, SCT021 OVC032, 10.0, 30.0, -1.0, 10.0, 260.0, 69.0}, {94846, 2012-01-23, 600, 11, OVC008, 10.0, 45.0, 7.0, 11.0, 190.0, 93.0}, {94846, 2012-01-23, 500, 11, BKN011 OVC060, 10.0, 45.0, 7.0, 14.0, 190.0, 86.0}, {94846, 2012-01-23, 900, 11, OVC006, 7.0, 37.0, 2.8, 18.0, 240.0, 93.0}, {94846, 2012-01-23, 700, 11, OVC006, 5.0, 46.0, 7.8, 14.0, 220.0, 89.0}, {94846, 2012-01-23, 0, 11, OVC005CB, 4.0, 43.0, 6.0, 13.0, 160.0, 93.0}, {94846, 2012-01-23, 200, 11, SCT003 BKN011 OVC055, 6.0, 41.0, 5.0, 8.0, 160.0, 93.0}, {94846, 2012-01-23, 2100, 11, OVC017, 10.0, 31.0, -0.6, 18.0, 270.0, 72.0}]                                                                                                          \n",
      "-RECORD 8---------------------------------------------------------------------------------------------------------------------------------------------------------------------------------------------------------------------------------------------------------------------------------------------------------------------------------------------------------------------------------------------------------------------------------------------------------------------------------------------------------------------------------------------------------------------------------------------------------------------------------------------------------------------------------------------------------------------------------------------------------------------------------------------------------------------------------------------------------------------------------------------------------------------------------------------------------------------------------------------------------------------------------------------------------------------------------------------------------------------------------------------------------------------------------\n",
      " UTC_FL_DATE            | 2012-01-21                                                                                                                                                                                                                                                                                                                                                                                                                                                                                                                                                                                                                                                                                                                                                                                                                                                                                                                                                                                                                                                                                                                                                      \n",
      " FL_DATE                | 2012-01-21                                                                                                                                                                                                                                                                                                                                                                                                                                                                                                                                                                                                                                                                                                                                                                                                                                                                                                                                                                                                                                                                                                                                                      \n",
      " CRS_DEP_TIME           | 945                                                                                                                                                                                                                                                                                                                                                                                                                                                                                                                                                                                                                                                                                                                                                                                                                                                                                                                                                                                                                                                                                                                                                             \n",
      " dep_hour_rounded       | 900                                                                                                                                                                                                                                                                                                                                                                                                                                                                                                                                                                                                                                                                                                                                                                                                                                                                                                                                                                                                                                                                                                                                                             \n",
      " ORIGIN_WBAN            | 94846                                                                                                                                                                                                                                                                                                                                                                                                                                                                                                                                                                                                                                                                                                                                                                                                                                                                                                                                                                                                                                                                                                                                                           \n",
      " DEST_WBAN              | 23050                                                                                                                                                                                                                                                                                                                                                                                                                                                                                                                                                                                                                                                                                                                                                                                                                                                                                                                                                                                                                                                                                                                                                           \n",
      " CRS_ELAPSED_TIME       | 180.0                                                                                                                                                                                                                                                                                                                                                                                                                                                                                                                                                                                                                                                                                                                                                                                                                                                                                                                                                                                                                                                                                                                                                           \n",
      " OP_CARRIER_AIRLINE_ID  | 20398                                                                                                                                                                                                                                                                                                                                                                                                                                                                                                                                                                                                                                                                                                                                                                                                                                                                                                                                                                                                                                                                                                                                                           \n",
      " OP_CARRIER_FL_NUM      | 3755                                                                                                                                                                                                                                                                                                                                                                                                                                                                                                                                                                                                                                                                                                                                                                                                                                                                                                                                                                                                                                                                                                                                                            \n",
      " label_is_delayed_15min | 1                                                                                                                                                                                                                                                                                                                                                                                                                                                                                                                                                                                                                                                                                                                                                                                                                                                                                                                                                                                                                                                                                                                                                               \n",
      " weather_observations   | [{94846, 2012-01-21, 2300, 11, SCT250, 10.0, 18.0, -7.8, 11.0, 150.0, 71.0}, {94846, 2012-01-21, 500, 11, OVC015, 10.0, 18.0, -8.0, 11.0, 350.0, 71.0}, {94846, 2012-01-21, 2100, 11, SCT250, 10.0, 19.0, -7.2, 14.0, 150.0, 65.0}, {94846, 2012-01-21, 300, 11, OVC015, 10.0, 20.0, -6.7, 10.0, 360.0, 81.0}, {94846, 2012-01-21, 0, 11, OVC013, 10.0, 20.0, -6.7, 9.0, 340.0, 81.0}, {94846, 2012-01-21, 600, 11, OVC019, 10.0, 17.0, -8.3, 10.0, 350.0, 68.0}, {94846, 2012-01-21, 400, 11, OVC013, 9.0, 19.0, -7.0, 11.0, 350.0, 81.0}, {94846, 2012-01-21, 700, 11, OVC023, 10.0, 17.0, -8.3, 11.0, 350.0, 71.0}, {94846, 2012-01-21, 100, 11, OVC015, 10.0, 19.0, -7.0, 9.0, 340.0, 88.0}, {94846, 2012-01-21, 200, 11, OVC015, 10.0, 19.0, -7.2, 10.0, 360.0, 81.0}, {94846, 2012-01-21, 2200, 11, SCT250, 10.0, 18.0, -7.8, 13.0, 150.0, 68.0}, {94846, 2012-01-21, 800, 11, BKN025, 10.0, 18.0, -8.0, 10.0, 350.0, 71.0}, {94846, 2012-01-21, 900, 11, BKN025, 10.0, 20.0, -6.7, 5.0, 20.0, 71.0}]                                                                                                                                                     \n",
      "-RECORD 9---------------------------------------------------------------------------------------------------------------------------------------------------------------------------------------------------------------------------------------------------------------------------------------------------------------------------------------------------------------------------------------------------------------------------------------------------------------------------------------------------------------------------------------------------------------------------------------------------------------------------------------------------------------------------------------------------------------------------------------------------------------------------------------------------------------------------------------------------------------------------------------------------------------------------------------------------------------------------------------------------------------------------------------------------------------------------------------------------------------------------------------------------------------------------------\n",
      " UTC_FL_DATE            | 2012-01-23                                                                                                                                                                                                                                                                                                                                                                                                                                                                                                                                                                                                                                                                                                                                                                                                                                                                                                                                                                                                                                                                                                                                                      \n",
      " FL_DATE                | 2012-01-22                                                                                                                                                                                                                                                                                                                                                                                                                                                                                                                                                                                                                                                                                                                                                                                                                                                                                                                                                                                                                                                                                                                                                      \n",
      " CRS_DEP_TIME           | 1955                                                                                                                                                                                                                                                                                                                                                                                                                                                                                                                                                                                                                                                                                                                                                                                                                                                                                                                                                                                                                                                                                                                                                            \n",
      " dep_hour_rounded       | 1900                                                                                                                                                                                                                                                                                                                                                                                                                                                                                                                                                                                                                                                                                                                                                                                                                                                                                                                                                                                                                                                                                                                                                            \n",
      " ORIGIN_WBAN            | 94846                                                                                                                                                                                                                                                                                                                                                                                                                                                                                                                                                                                                                                                                                                                                                                                                                                                                                                                                                                                                                                                                                                                                                           \n",
      " DEST_WBAN              | 23050                                                                                                                                                                                                                                                                                                                                                                                                                                                                                                                                                                                                                                                                                                                                                                                                                                                                                                                                                                                                                                                                                                                                                           \n",
      " CRS_ELAPSED_TIME       | 180.0                                                                                                                                                                                                                                                                                                                                                                                                                                                                                                                                                                                                                                                                                                                                                                                                                                                                                                                                                                                                                                                                                                                                                           \n",
      " OP_CARRIER_AIRLINE_ID  | 20398                                                                                                                                                                                                                                                                                                                                                                                                                                                                                                                                                                                                                                                                                                                                                                                                                                                                                                                                                                                                                                                                                                                                                           \n",
      " OP_CARRIER_FL_NUM      | 3864                                                                                                                                                                                                                                                                                                                                                                                                                                                                                                                                                                                                                                                                                                                                                                                                                                                                                                                                                                                                                                                                                                                                                            \n",
      " label_is_delayed_15min | 1                                                                                                                                                                                                                                                                                                                                                                                                                                                                                                                                                                                                                                                                                                                                                                                                                                                                                                                                                                                                                                                                                                                                                               \n",
      " weather_observations   | [{94846, 2012-01-22, 1200, 11, OVC004, 2.0, 30.0, -1.1, 16.0, 140.0, 89.0}, {94846, 2012-01-22, 1600, 11, OVC003, 0.75, 34.0, 1.0, 9.0, 160.0, 92.0}, {94846, 2012-01-22, 800, 11, OVC004, 2.0, 25.0, -4.0, 16.0, 150.0, 92.0}, {94846, 2012-01-22, 1000, 11, OVC004, 2.5, 28.0, -2.2, 17.0, 180.0, 92.0}, {94846, 2012-01-22, 1800, 11, OVC003, 1.25, 36.0, 2.2, 13.0, 160.0, 92.0}, {94846, 2012-01-22, 1700, 11, OVC003, 1.0, 34.0, 1.0, 9.0, 150.0, 100.0}, {94846, 2012-01-22, 1300, 11, OVC004, 1.5, 30.0, -1.0, 17.0, 140.0, 92.0}, {94846, 2012-01-22, 1100, 11, OVC004, 2.5, 29.0, -1.7, 14.0, 150.0, 92.0}, {94846, 2012-01-22, 700, 11, OVC004, 4.0, 23.0, -5.0, 13.0, 150.0, 92.0}, {94846, 2012-01-22, 1500, 11, OVC003, 1.25, 34.0, 1.0, 13.0, 150.0, 85.0}, {94846, 2012-01-22, 900, 11, OVC004, 2.0, 27.0, -2.8, 18.0, 160.0, 88.0}, {94846, 2012-01-22, 1900, 11, OVC003, 1.5, 37.0, 3.0, 10.0, 170.0, 96.0}, {94846, 2012-01-22, 1400, 11, OVC004, 1.5, 32.0, 0.0, 14.0, 150.0, 92.0}]                                                                                                                                                        \n",
      "only showing top 10 rows\n",
      "\n"
     ]
    },
    {
     "data": {
      "text/plain": [
       "defined object SimpleFlightWeatherJoin\n",
       "joinedDF = [UTC_FL_DATE: date, FL_DATE: date ... 9 more fields]\n"
      ]
     },
     "metadata": {},
     "output_type": "display_data",
     "source": "user"
    },
    {
     "data": {
      "text/plain": [
       "[UTC_FL_DATE: date, FL_DATE: date ... 9 more fields]"
      ]
     },
     "execution_count": 4,
     "metadata": {},
     "output_type": "execute_result"
    }
   ],
   "source": [
    "import org.apache.spark.sql.{DataFrame, SparkSession}\n",
    "import org.apache.spark.sql.functions._\n",
    "import org.apache.spark.sql.expressions.Window\n",
    "\n",
    "object SimpleFlightWeatherJoin {\n",
    "\n",
    "  /**\n",
    "   * Jointure spatio-temporelle entre vols et observations météo\n",
    "   * Implémentation MapReduce de l'algorithme du paper\n",
    "   * \n",
    "   * @param flightDF DataFrame des vols avec colonnes: FL_DATE, CRS_DEP_TIME, ORIGIN_WBAN, etc.\n",
    "   * @param weatherDF DataFrame météo avec colonnes: WBAN, Date, Time, DryBulbFarenheit, etc.\n",
    "   * @return DataFrame jointé avec structure: [flight_data, weather_observations(array)]\n",
    "   */\n",
    "  def joinFlightsWithWeather(\n",
    "    flightDF: DataFrame, \n",
    "    weatherDF: DataFrame\n",
    "  ): DataFrame = {\n",
    "    \n",
    "    import flightDF.sparkSession.implicits._\n",
    "    \n",
    "    // ============================================\n",
    "    // PHASE MAP - Préparation des données\n",
    "    // ============================================\n",
    "    \n",
    "    // MAP Weather (OT): Tagger les observations météo\n",
    "    val weatherTagged = weatherDF\n",
    "      .withColumn(\"table_tag\", lit(\"OT\"))\n",
    "      .withColumn(\"join_key_wban\", col(\"WBAN\"))\n",
    "      .withColumn(\"join_key_date\", col(\"Date\"))\n",
    "    \n",
    "    // MAP Flights (FT): Tagger les vols\n",
    "    // Arrondir l'heure de départ vers le bas (floor)\n",
    "    val flightTagged = flightDF\n",
    "      .withColumn(\"table_tag\", lit(\"FT\"))\n",
    "      .withColumn(\"join_key_wban\", col(\"ORIGIN_WBAN\"))\n",
    "      .withColumn(\"join_key_date\", col(\"FL_DATE\"))\n",
    "      .withColumn(\"dep_hour_rounded\", floor(col(\"CRS_DEP_TIME\") / 100) * 100)\n",
    "    \n",
    "    // Dupliquer les vols de fin de journée pour le jour suivant\n",
    "    // (si départ + 12h dépasse minuit)\n",
    "    val flightDuplicated = flightTagged\n",
    "      .withColumn(\"needs_next_day\", \n",
    "        when(col(\"dep_hour_rounded\") / 100 + 12 >= 24, 1).otherwise(0))\n",
    "      .withColumn(\"duplicate_count\", \n",
    "        when(col(\"needs_next_day\") === 1, array(lit(0), lit(1))).otherwise(array(lit(0))))\n",
    "      .withColumn(\"day_offset\", explode(col(\"duplicate_count\")))\n",
    "      .withColumn(\"join_key_date\", \n",
    "        when(col(\"day_offset\") === 1, date_add(col(\"join_key_date\"), 1))\n",
    "        .otherwise(col(\"join_key_date\")))\n",
    "      .drop(\"needs_next_day\", \"duplicate_count\", \"day_offset\")\n",
    "    \n",
    "    // ============================================\n",
    "    // PHASE SHUFFLE - Union et Partitionnement\n",
    "    // ============================================\n",
    "    \n",
    "    // Union des deux datasets avec composite_key\n",
    "    val weatherForJoin = weatherTagged\n",
    "      .select(\n",
    "        col(\"join_key_wban\").as(\"key_wban\"),\n",
    "        col(\"join_key_date\").as(\"key_date\"),\n",
    "        col(\"table_tag\"),\n",
    "        col(\"WBAN\"),\n",
    "        col(\"Date\"),\n",
    "        col(\"Time\").cast(\"int\").as(\"Time\"), // Convertir Time en INT\n",
    "        col(\"StationType\"),\n",
    "        col(\"SkyCondition\"),\n",
    "        col(\"Visibility\"),\n",
    "        col(\"DryBulbFarenheit\"),\n",
    "        col(\"DryBulbCelsius\"),\n",
    "        col(\"WindSpeed\"),\n",
    "        col(\"WindDirection\"),\n",
    "        col(\"RelativeHumidity\")\n",
    "      )\n",
    "    \n",
    "    val flightForJoin = flightDuplicated\n",
    "      .select(\n",
    "        col(\"join_key_wban\").as(\"key_wban\"),\n",
    "        col(\"join_key_date\").as(\"key_date\"),\n",
    "        col(\"table_tag\"),\n",
    "        col(\"UTC_FL_DATE\"),\n",
    "        col(\"FL_DATE\"),\n",
    "        col(\"CRS_DEP_TIME\"),\n",
    "        col(\"dep_hour_rounded\"),\n",
    "        col(\"ORIGIN_WBAN\"),\n",
    "        col(\"DEST_WBAN\"),\n",
    "        col(\"CRS_ELAPSED_TIME\"),\n",
    "        col(\"OP_CARRIER_AIRLINE_ID\"),\n",
    "        col(\"OP_CARRIER_FL_NUM\"),\n",
    "        col(\"label_is_delayed_15min\")\n",
    "      )\n",
    "    \n",
    "    // ============================================\n",
    "    // PHASE REDUCE - Jointure et Agrégation\n",
    "    // ============================================\n",
    "    \n",
    "    // Créer une fenêtre de partitionnement par (WBAN, Date)\n",
    "    val windowSpec = Window\n",
    "      .partitionBy(\"key_wban\", \"key_date\")\n",
    "      .orderBy(\"Time\")\n",
    "    \n",
    "    // Collecter toutes les observations météo par (WBAN, Date)\n",
    "    val weatherGrouped = weatherForJoin\n",
    "      .groupBy(\"key_wban\", \"key_date\")\n",
    "      .agg(\n",
    "        collect_list(\n",
    "          struct(\n",
    "            col(\"WBAN\"),\n",
    "            col(\"Date\"),\n",
    "            col(\"Time\"), // Déjà en INT grâce au cast précédent\n",
    "            col(\"StationType\"),\n",
    "            col(\"SkyCondition\"),\n",
    "            col(\"Visibility\"),\n",
    "            col(\"DryBulbFarenheit\"),\n",
    "            col(\"DryBulbCelsius\"),\n",
    "            col(\"WindSpeed\"),\n",
    "            col(\"WindDirection\"),\n",
    "            col(\"RelativeHumidity\")\n",
    "          )\n",
    "        ).as(\"all_weather_obs\")\n",
    "      )\n",
    "    \n",
    "    // Jointure avec les vols\n",
    "    val joined = flightForJoin\n",
    "      .join(\n",
    "        weatherGrouped,\n",
    "        flightForJoin(\"key_wban\") === weatherGrouped(\"key_wban\") &&\n",
    "        flightForJoin(\"key_date\") === weatherGrouped(\"key_date\"),\n",
    "        \"left\"\n",
    "      )\n",
    "    \n",
    "    // Filtrer les observations pour ne garder que les 13 heures nécessaires\n",
    "    // (de -12h à 0h par rapport à l'heure de départ arrondie)\n",
    "    val joinedWithFiltered = joined\n",
    "      .withColumn(\"required_hours\", \n",
    "        expr(\"\"\"\n",
    "          transform(\n",
    "            sequence(0, 12),\n",
    "            i -> cast((dep_hour_rounded / 100 - (12 - i) + 24) % 24 * 100 as int)\n",
    "          )\n",
    "        \"\"\")\n",
    "      )\n",
    "      .withColumn(\"weather_observations\",\n",
    "        expr(\"\"\"\n",
    "          filter(\n",
    "            all_weather_obs,\n",
    "            obs -> array_contains(required_hours, obs.Time)\n",
    "          )\n",
    "        \"\"\")\n",
    "      )\n",
    "    \n",
    "    // Sélectionner les colonnes finales\n",
    "    val result = joinedWithFiltered\n",
    "      .select(\n",
    "        // Informations du vol\n",
    "        col(\"UTC_FL_DATE\"),\n",
    "        col(\"FL_DATE\"),\n",
    "        col(\"CRS_DEP_TIME\"),\n",
    "        col(\"dep_hour_rounded\"),\n",
    "        col(\"ORIGIN_WBAN\"),\n",
    "        col(\"DEST_WBAN\"),\n",
    "        col(\"CRS_ELAPSED_TIME\"),\n",
    "        col(\"OP_CARRIER_AIRLINE_ID\"),\n",
    "        col(\"OP_CARRIER_FL_NUM\"),\n",
    "        col(\"label_is_delayed_15min\"),\n",
    "        \n",
    "        // Observations météo (array)\n",
    "        col(\"weather_observations\")\n",
    "      )\n",
    "      .filter(size(col(\"weather_observations\")) > 0) // Garder uniquement les vols avec météo\n",
    "    \n",
    "    result\n",
    "  }\n",
    "\n",
    "}\n",
    "\n",
    "val joinedDF = SimpleFlightWeatherJoin.joinFlightsWithWeather(flightDF, weatherDF)\n",
    "joinedDF.show(10, 10000, true)"
   ]
  },
  {
   "cell_type": "code",
   "execution_count": null,
   "id": "4db4f94b-ea1b-4890-9f2a-18f83916b931",
   "metadata": {},
   "outputs": [],
   "source": []
  }
 ],
 "metadata": {
  "kernelspec": {
   "display_name": "apache_toree_scala - Scala",
   "language": "scala",
   "name": "apache_toree_scala_scala"
  },
  "language_info": {
   "codemirror_mode": "text/x-scala",
   "file_extension": ".scala",
   "mimetype": "text/x-scala",
   "name": "scala",
   "pygments_lexer": "scala",
   "version": "2.12.15"
  }
 },
 "nbformat": 4,
 "nbformat_minor": 5
}
