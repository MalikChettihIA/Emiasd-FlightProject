{
 "cells": [
  {
   "cell_type": "markdown",
   "id": "a137a405-aed5-4fb7-87b5-eeee85e6140c",
   "metadata": {},
   "source": [
    "# Weather Dataset Preprocessing and feature Engineering"
   ]
  },
  {
   "cell_type": "code",
   "execution_count": 1,
   "id": "53e4989d-8472-46e5-b806-ddde048d91f9",
   "metadata": {},
   "outputs": [
    {
     "name": "stdout",
     "output_type": "stream",
     "text": [
      "Starting download from file:///home/jovyan/work/apps/Emiasd-Flight-Data-Analysis.jar\n",
      "Finished download of Emiasd-Flight-Data-Analysis.jar\n",
      "Using cached version of Emiasd-Flight-Data-Analysis.jar\n"
     ]
    }
   ],
   "source": [
    "%AddJar file:///home/jovyan/work/apps/Emiasd-Flight-Data-Analysis.jar"
   ]
  },
  {
   "cell_type": "code",
   "execution_count": 2,
   "id": "4c5e2137-c51d-4b08-89fc-72273d7e9841",
   "metadata": {},
   "outputs": [
    {
     "data": {
      "text/plain": [
       "args = Array(jupyter)\n",
       "spark = org.apache.spark.sql.SparkSession@1eabb303\n",
       "session = org.apache.spark.sql.SparkSession@1eabb303\n",
       "configuration = AppConfiguration(local,CommonConfig(42,DataConfig(/home/jovyan/work/data,FileConfig(/home/jovyan/work/data/FLIGHT-3Y/Flights/201201.csv),FileConfig(/home/jovyan/work/data/FLIGHT-3Y/Weather/201201hourly.txt),FileConfig(/home/jovyan/work/data/FLIGHT-3Y/wban_airport_timezone.csv)),OutputConfig(/home/jovyan/work/output,FileConfig(/home/jovyan/work/output/data),FileCo...\n"
      ]
     },
     "metadata": {},
     "output_type": "display_data",
     "source": "user"
    },
    {
     "data": {
      "text/plain": [
       "AppConfiguration(local,CommonConfig(42,DataConfig(/home/jovyan/work/data,FileConfig(/home/jovyan/work/data/FLIGHT-3Y/Flights/201201.csv),FileConfig(/home/jovyan/work/data/FLIGHT-3Y/Weather/201201hourly.txt),FileConfig(/home/jovyan/work/data/FLIGHT-3Y/wban_airport_timezone.csv)),OutputConfig(/home/jovyan/work/output,FileConfig(/home/jovyan/work/output/data),FileCo..."
      ]
     },
     "execution_count": 2,
     "metadata": {},
     "output_type": "execute_result"
    }
   ],
   "source": [
    "import org.apache.spark.sql.SparkSession\n",
    "import com.flightdelay.config.{AppConfiguration, ConfigurationLoader}\n",
    "import com.flightdelay.data.loaders.FlightDataLoader\n",
    "\n",
    "//Env Configuration\n",
    "val args: Array[String] = Array(\"jupyter\")\n",
    "\n",
    "val spark = SparkSession.builder()\n",
    "  .config(sc.getConf)\n",
    "  .getOrCreate()\n",
    "\n",
    "// Rendre la session Spark implicite\n",
    "implicit val session = spark\n",
    "implicit val configuration: AppConfiguration = ConfigurationLoader.loadConfiguration(args)\n",
    "\n",
    "val rawFlightsPath = s\"${configuration.common.output.basePath}/common/data/raw_flights.parquet\"\n",
    "val flightsDF = spark.read.parquet(rawFlightsPath)"
   ]
  },
  {
   "cell_type": "code",
   "execution_count": 3,
   "id": "e2940aa8-c1c2-4034-87eb-51fb7d8fab64",
   "metadata": {},
   "outputs": [
    {
     "data": {
      "text/plain": [
       "18286055"
      ]
     },
     "execution_count": 3,
     "metadata": {},
     "output_type": "execute_result"
    }
   ],
   "source": [
    "flightsDF.count()"
   ]
  },
  {
   "cell_type": "code",
   "execution_count": 4,
   "id": "e9f45dd1-1883-4e19-aab7-cc3571743db2",
   "metadata": {},
   "outputs": [
    {
     "name": "stdout",
     "output_type": "stream",
     "text": [
      "root\n",
      " |-- FL_DATE: date (nullable = true)\n",
      " |-- OP_CARRIER_AIRLINE_ID: integer (nullable = true)\n",
      " |-- OP_CARRIER_FL_NUM: integer (nullable = true)\n",
      " |-- ORIGIN_AIRPORT_ID: integer (nullable = true)\n",
      " |-- DEST_AIRPORT_ID: integer (nullable = true)\n",
      " |-- CRS_DEP_TIME: integer (nullable = true)\n",
      " |-- ARR_DELAY_NEW: double (nullable = true)\n",
      " |-- CANCELLED: integer (nullable = true)\n",
      " |-- DIVERTED: integer (nullable = true)\n",
      " |-- CRS_ELAPSED_TIME: double (nullable = true)\n",
      " |-- WEATHER_DELAY: double (nullable = true)\n",
      " |-- NAS_DELAY: double (nullable = true)\n",
      "\n"
     ]
    }
   ],
   "source": [
    "flightsDF.printSchema"
   ]
  },
  {
   "cell_type": "code",
   "execution_count": 13,
   "id": "21d40652-8fb6-491a-89fe-532daa6bffca",
   "metadata": {},
   "outputs": [],
   "source": [
    "import org.apache.spark.sql.{DataFrame, SparkSession}\n",
    "import org.apache.spark.sql.functions._\n",
    "import org.apache.spark.sql.types._\n",
    "import org.apache.spark.ml.feature.{StringIndexer, OneHotEncoder, VectorAssembler}\n",
    "import scala.util.Try"
   ]
  },
  {
   "cell_type": "code",
   "execution_count": 24,
   "id": "76e8f61c-b2d0-4a26-a56b-319bedec0931",
   "metadata": {},
   "outputs": [
    {
     "data": {
      "text/plain": [
       "6096762"
      ]
     },
     "execution_count": 24,
     "metadata": {},
     "output_type": "execute_result"
    }
   ],
   "source": [
    "flightsDF.count()"
   ]
  },
  {
   "cell_type": "code",
   "execution_count": 29,
   "id": "42c40185-a887-4153-b476-2f6577bdc6f0",
   "metadata": {},
   "outputs": [
    {
     "name": "stdout",
     "output_type": "stream",
     "text": [
      "+----------+---------------------+-----------------+-----------------+---------------+------------+-------------+---------+--------+----------------+-------------+---------+\n",
      "|   FL_DATE|OP_CARRIER_AIRLINE_ID|OP_CARRIER_FL_NUM|ORIGIN_AIRPORT_ID|DEST_AIRPORT_ID|CRS_DEP_TIME|ARR_DELAY_NEW|CANCELLED|DIVERTED|CRS_ELAPSED_TIME|WEATHER_DELAY|NAS_DELAY|\n",
      "+----------+---------------------+-----------------+-----------------+---------------+------------+-------------+---------+--------+----------------+-------------+---------+\n",
      "|2012-07-01|                19805|             1123|            10693|          13303|         600|          0.0|     NULL|    NULL|           130.0|         NULL|     NULL|\n",
      "|2012-07-01|                19805|             1124|            13303|          12953|         950|          0.0|     NULL|    NULL|           175.0|         NULL|     NULL|\n",
      "|2012-07-01|                19805|             1127|            10821|          11298|        1035|          0.0|     NULL|    NULL|           190.0|         NULL|     NULL|\n",
      "|2012-07-01|                19805|             1128|            11298|          14122|        2010|         16.0|     NULL|    NULL|           155.0|          0.0|     16.0|\n",
      "|2012-07-01|                19805|             1128|            12266|          11298|        1800|          5.0|     NULL|    NULL|            80.0|         NULL|     NULL|\n",
      "|2012-07-01|                19805|             1131|            13204|          13930|        1450|         28.0|     NULL|    NULL|           170.0|          0.0|     28.0|\n",
      "|2012-07-01|                19805|             1132|            11298|          15370|        1930|          4.0|     NULL|    NULL|            60.0|         NULL|     NULL|\n",
      "|2012-07-01|                19805|             1133|            11433|          13303|        1630|          0.0|     NULL|    NULL|           190.0|         NULL|     NULL|\n",
      "|2012-07-01|                19805|             1134|            11298|          13198|         850|          0.0|     NULL|    NULL|            90.0|         NULL|     NULL|\n",
      "|2012-07-01|                19805|             1135|            11298|          14262|        1815|         17.0|     NULL|    NULL|           170.0|          0.0|      0.0|\n",
      "|2012-07-01|                19805|             1136|            13303|          11278|        1725|        115.0|     NULL|    NULL|           155.0|          0.0|     29.0|\n",
      "|2012-07-01|                19805|             1137|            13495|          11298|        1410|          6.0|     NULL|    NULL|            90.0|         NULL|     NULL|\n",
      "|2012-07-01|                19805|             1139|            11433|          11298|        1755|         21.0|     NULL|    NULL|           170.0|          0.0|     21.0|\n",
      "|2012-07-01|                19805|             1140|            11298|          13931|        1825|          7.0|     NULL|    NULL|           175.0|         NULL|     NULL|\n",
      "|2012-07-01|                19805|             1140|            12889|          11298|        1250|         10.0|     NULL|    NULL|           160.0|         NULL|     NULL|\n",
      "|2012-07-01|                19805|             1142|            11298|          13198|        2135|         14.0|     NULL|    NULL|            85.0|         NULL|     NULL|\n",
      "|2012-07-01|                19805|             1144|            13930|          15016|        1730|         30.0|     NULL|    NULL|            70.0|          1.0|      4.0|\n",
      "|2012-07-01|                19805|             1144|            14107|          13930|        1125|         30.0|     NULL|    NULL|           195.0|          0.0|     30.0|\n",
      "|2012-07-01|                19805|             1147|            11298|          14107|        1710|         NULL|     NULL|    NULL|           140.0|         NULL|     NULL|\n",
      "|2012-07-01|                19805|             1148|            11298|          13303|        1020|          0.0|     NULL|    NULL|           170.0|         NULL|     NULL|\n",
      "|2012-07-01|                19805|             1149|            13930|          15016|        1350|        147.0|     NULL|    NULL|            65.0|          0.0|      0.0|\n",
      "|2012-07-01|                19805|             1152|            14747|          13930|        1140|         82.0|     NULL|    NULL|           240.0|          0.0|      0.0|\n",
      "|2012-07-01|                19805|             1153|            12217|          11298|        1200|          0.0|     NULL|    NULL|           115.0|         NULL|     NULL|\n",
      "|2012-07-01|                19805|             1155|            11298|          11540|        1240|          0.0|     NULL|    NULL|            95.0|         NULL|     NULL|\n",
      "|2012-07-01|                19805|             1274|            11292|          11298|         725|          0.0|     NULL|    NULL|           115.0|         NULL|     NULL|\n",
      "|2012-07-01|                19805|             1275|            11267|          11298|        1755|          0.0|     NULL|    NULL|           145.0|         NULL|     NULL|\n",
      "|2012-07-01|                19805|             1277|            10821|          11298|        1355|          4.0|     NULL|    NULL|           195.0|         NULL|     NULL|\n",
      "|2012-07-01|                19805|             1279|            11298|          14107|        1350|         17.0|     NULL|    NULL|           140.0|          0.0|      9.0|\n",
      "|2012-07-01|                19805|             1279|            12451|          11298|        1125|          0.0|     NULL|    NULL|           155.0|         NULL|     NULL|\n",
      "|2012-07-01|                19805|             1282|            11298|          10397|         900|          0.0|     NULL|    NULL|           125.0|         NULL|     NULL|\n",
      "|2012-07-01|                19805|             1284|            11298|          13204|         745|          0.0|     NULL|    NULL|           155.0|         NULL|     NULL|\n",
      "|2012-07-01|                19805|             1286|            11298|          14524|        1840|         26.0|     NULL|    NULL|           165.0|          0.0|     26.0|\n",
      "|2012-07-01|                19805|             1289|            14100|          11298|        1135|          0.0|     NULL|    NULL|           210.0|         NULL|     NULL|\n",
      "|2012-07-01|                19805|             1290|            13303|          11278|        1845|         34.0|     NULL|    NULL|           150.0|          0.0|     34.0|\n",
      "|2012-07-01|                19805|             1290|            15027|          13303|        1430|          0.0|     NULL|    NULL|           180.0|         NULL|     NULL|\n",
      "|2012-07-01|                19805|             1292|            11298|          13495|        1400|         15.0|     NULL|    NULL|            85.0|          0.0|      2.0|\n",
      "|2012-07-01|                19805|             1292|            14057|          11298|         725|         NULL|     NULL|    NULL|           225.0|         NULL|     NULL|\n",
      "|2012-07-01|                19805|             1294|            12266|          13303|        1755|          0.0|     NULL|    NULL|           155.0|         NULL|     NULL|\n",
      "|2012-07-01|                19805|             1295|            10721|          13930|         915|          0.0|     NULL|    NULL|           165.0|         NULL|     NULL|\n",
      "|2012-07-01|                19805|             1296|            13930|          10721|        2015|          0.0|     NULL|    NULL|           130.0|         NULL|     NULL|\n",
      "|2012-07-01|                19805|              972|            13303|          12889|        1930|         11.0|     NULL|    NULL|           295.0|         NULL|     NULL|\n",
      "|2012-07-01|                19805|              981|            10821|          13303|         610|          0.0|     NULL|    NULL|           155.0|         NULL|     NULL|\n",
      "|2012-07-01|                19805|              985|            12264|          13303|        1435|          0.0|     NULL|    NULL|           165.0|         NULL|     NULL|\n",
      "|2012-07-01|                19805|              993|            10397|          13303|         640|          0.0|     NULL|    NULL|           110.0|         NULL|     NULL|\n",
      "|2012-07-01|                19805|             1001|            11298|          12266|        1610|         32.0|     NULL|    NULL|            60.0|          0.0|     11.0|\n",
      "|2012-07-01|                19805|             1001|            14122|          11298|        1330|          0.0|     NULL|    NULL|           170.0|         NULL|     NULL|\n",
      "|2012-07-01|                19805|             1003|            11267|          11298|         650|          0.0|     NULL|    NULL|           145.0|         NULL|     NULL|\n",
      "|2012-07-01|                19805|             1004|            13303|          14492|        1015|          0.0|     NULL|    NULL|           125.0|         NULL|     NULL|\n",
      "|2012-07-01|                19805|             1005|            11697|          13930|        2000|          7.0|     NULL|    NULL|           185.0|         NULL|     NULL|\n",
      "|2012-07-01|                19805|             1007|            13303|          14107|        1625|          2.0|     NULL|    NULL|           270.0|         NULL|     NULL|\n",
      "|2012-07-01|                19805|             1008|            11298|          12217|        1440|         30.0|     NULL|    NULL|           100.0|          0.0|      2.0|\n",
      "|2012-07-01|                19805|             1011|            11278|          13303|        1520|          0.0|     NULL|    NULL|           165.0|         NULL|     NULL|\n",
      "|2012-07-01|                19805|             1013|            11298|          11292|        1925|          9.0|     NULL|    NULL|           120.0|         NULL|     NULL|\n",
      "|2012-07-01|                19805|             1013|            15304|          11298|        1655|         19.0|     NULL|    NULL|           160.0|          0.0|      0.0|\n",
      "|2012-07-01|                19805|             1015|            14100|          11298|         830|          0.0|     NULL|    NULL|           210.0|         NULL|     NULL|\n",
      "|2012-07-01|                19805|             1016|            11298|          14683|        1725|         51.0|     NULL|    NULL|            60.0|          0.0|      3.0|\n",
      "|2012-07-01|                19805|             1017|            13930|          14831|        1910|         12.0|     NULL|    NULL|           265.0|         NULL|     NULL|\n",
      "|2012-07-01|                19805|             1019|            11298|          14747|        1820|          8.0|     NULL|    NULL|           235.0|         NULL|     NULL|\n",
      "|2012-07-01|                19805|             1019|            13303|          11298|        1515|         13.0|     NULL|    NULL|           185.0|         NULL|     NULL|\n",
      "|2012-07-01|                19805|             1020|            10423|          11298|        1000|          6.0|     NULL|    NULL|            65.0|         NULL|     NULL|\n",
      "|2012-07-01|                19805|             1020|            11298|          13495|        1200|         20.0|     NULL|    NULL|            85.0|          0.0|      6.0|\n",
      "|2012-07-01|                19805|             1021|            13930|          12889|         930|          0.0|     NULL|    NULL|           230.0|         NULL|     NULL|\n",
      "|2012-07-01|                19805|             1021|            14100|          13930|         720|          0.0|     NULL|    NULL|           140.0|         NULL|     NULL|\n",
      "|2012-07-01|                19805|             1022|            13303|          14100|        1445|          0.0|     NULL|    NULL|           170.0|         NULL|     NULL|\n",
      "|2012-07-01|                19805|             1224|            14679|          11298|        1510|          0.0|     NULL|    NULL|           180.0|         NULL|     NULL|\n",
      "|2012-07-01|                19805|             1225|            11292|          11298|         550|          0.0|     NULL|    NULL|           115.0|         NULL|     NULL|\n",
      "|2012-07-01|                19805|             1226|            13303|          12953|        2035|         15.0|     NULL|    NULL|           175.0|          0.0|     15.0|\n",
      "|2012-07-01|                19805|             1230|            14747|          11298|        2335|          0.0|     NULL|    NULL|           220.0|         NULL|     NULL|\n",
      "|2012-07-01|                19805|             1231|            11697|          11298|        1855|          0.0|     NULL|    NULL|           170.0|         NULL|     NULL|\n",
      "|2012-07-01|                19805|             1234|            13303|          15304|         740|          0.0|     NULL|    NULL|            60.0|         NULL|     NULL|\n",
      "|2012-07-01|                19805|             1235|            13930|          15016|        1935|         92.0|     NULL|    NULL|            65.0|          0.0|      0.0|\n",
      "|2012-07-01|                19805|             1235|            14100|          13930|        1710|        112.0|     NULL|    NULL|           155.0|          0.0|     42.0|\n",
      "|2012-07-01|                19805|             1236|            15304|          13303|         635|          0.0|     NULL|    NULL|            60.0|         NULL|     NULL|\n",
      "|2012-07-01|                19805|             1237|            13244|          11298|         640|          0.0|     NULL|    NULL|            90.0|         NULL|     NULL|\n",
      "|2012-07-01|                19805|             1238|            14747|          13930|         830|         15.0|     NULL|    NULL|           230.0|          0.0|     15.0|\n",
      "|2012-07-01|                19805|             1240|            12889|          11298|        1120|          0.0|     NULL|    NULL|           160.0|         NULL|     NULL|\n",
      "|2012-07-01|                19805|             1241|            10821|          11298|         705|          1.0|     NULL|    NULL|           195.0|         NULL|     NULL|\n",
      "|2012-07-01|                19805|             1241|            11298|          11292|        1010|          3.0|     NULL|    NULL|           115.0|         NULL|     NULL|\n",
      "|2012-07-01|                19805|             1247|            13930|          12892|        1155|         86.0|     NULL|    NULL|           255.0|          0.0|     86.0|\n",
      "|2012-07-01|                19805|             1254|            12892|          13303|        2115|          0.0|     NULL|    NULL|           310.0|         NULL|     NULL|\n",
      "|2012-07-01|                19805|             1255|            13930|          14771|        2010|         50.0|     NULL|    NULL|           270.0|          0.0|     15.0|\n",
      "|2012-07-01|                19805|             1256|            13303|          12953|         735|          0.0|     NULL|    NULL|           170.0|         NULL|     NULL|\n",
      "|2012-07-01|                19805|             1258|            12892|          15016|         710|          0.0|     NULL|    NULL|           215.0|         NULL|     NULL|\n",
      "|2012-07-01|                19805|             1259|            13930|          14107|         905|          0.0|     NULL|    NULL|           215.0|         NULL|     NULL|\n",
      "|2012-07-01|                19805|             1259|            15016|          13930|         600|          1.0|     NULL|    NULL|            65.0|         NULL|     NULL|\n",
      "|2012-07-01|                19805|             1260|            11298|          15016|        2235|          2.0|     NULL|    NULL|            95.0|         NULL|     NULL|\n",
      "|2012-07-01|                19805|             1260|            11540|          11298|        1825|          0.0|     NULL|    NULL|           105.0|         NULL|     NULL|\n",
      "|2012-07-01|                19805|             1261|            11278|          13303|        2055|         91.0|     NULL|    NULL|           155.0|          0.0|      0.0|\n",
      "|2012-07-01|                19805|             1262|            14908|          13930|        1720|         40.0|     NULL|    NULL|           220.0|          0.0|      7.0|\n",
      "|2012-07-01|                19805|             1263|            13303|          12266|         745|         11.0|     NULL|    NULL|           150.0|         NULL|     NULL|\n",
      "|2012-07-01|                19805|             1264|            11298|          14683|        1205|          0.0|     NULL|    NULL|            60.0|         NULL|     NULL|\n",
      "|2012-07-01|                19805|             1264|            13198|          11298|         930|        101.0|     NULL|    NULL|            95.0|          0.0|      0.0|\n",
      "|2012-07-01|                19805|             1266|            14771|          11298|        1525|         51.0|     NULL|    NULL|           205.0|          0.0|      0.0|\n",
      "|2012-07-01|                19805|             1267|            13303|          14843|        1725|          0.0|     NULL|    NULL|           155.0|         NULL|     NULL|\n",
      "|2012-07-01|                19805|             1296|            14771|          13930|        1245|         29.0|     NULL|    NULL|           255.0|          0.0|      0.0|\n",
      "|2012-07-01|                19805|             1297|            13303|          15027|        1045|          0.0|     NULL|    NULL|           165.0|         NULL|     NULL|\n",
      "|2012-07-01|                19805|             1298|            11298|          10821|        1700|         31.0|     NULL|    NULL|           180.0|          0.0|      2.0|\n",
      "|2012-07-01|                19805|             1298|            13198|          11298|        1435|         38.0|     NULL|    NULL|            95.0|          0.0|      0.0|\n",
      "|2012-07-01|                19805|             1299|            13303|          14843|        1920|          0.0|     NULL|    NULL|           155.0|         NULL|     NULL|\n",
      "|2012-07-01|                19805|             1300|            11298|          13244|        2055|         36.0|     NULL|    NULL|            80.0|          0.0|      0.0|\n",
      "+----------+---------------------+-----------------+-----------------+---------------+------------+-------------+---------+--------+----------------+-------------+---------+\n",
      "only showing top 100 rows\n",
      "\n"
     ]
    }
   ],
   "source": [
    "flightsDF.show(100)"
   ]
  },
  {
   "cell_type": "code",
   "execution_count": 30,
   "id": "ed49521e-a731-4973-87fc-b2910d84a4b2",
   "metadata": {},
   "outputs": [
    {
     "name": "stdout",
     "output_type": "stream",
     "text": [
      "+---------+\n",
      "|CANCELLED|\n",
      "+---------+\n",
      "|     NULL|\n",
      "+---------+\n",
      "\n"
     ]
    }
   ],
   "source": [
    "flightsDF.select(\"CANCELLED\").distinct().show()"
   ]
  },
  {
   "cell_type": "code",
   "execution_count": 31,
   "id": "5bff86cb-0f14-4593-84c4-5942b5d7522a",
   "metadata": {},
   "outputs": [
    {
     "name": "stdout",
     "output_type": "stream",
     "text": [
      "+--------+\n",
      "|DIVERTED|\n",
      "+--------+\n",
      "|    NULL|\n",
      "+--------+\n",
      "\n"
     ]
    }
   ],
   "source": [
    "flightsDF.select(\"DIVERTED\").distinct().show()"
   ]
  },
  {
   "cell_type": "markdown",
   "id": "1efd1e0f-3488-4bb4-8193-5434f3dda3cc",
   "metadata": {},
   "source": [
    "## 1. OP_CARRIER_AIRLINE_ID"
   ]
  },
  {
   "cell_type": "code",
   "execution_count": 8,
   "id": "225697d2-27e6-497e-809e-be1029437db9",
   "metadata": {},
   "outputs": [
    {
     "data": {
      "text/plain": [
       "15"
      ]
     },
     "execution_count": 8,
     "metadata": {},
     "output_type": "execute_result"
    }
   ],
   "source": [
    "flightsDF.select(\"OP_CARRIER_AIRLINE_ID\").distinct().count()"
   ]
  },
  {
   "cell_type": "code",
   "execution_count": 7,
   "id": "cd5a223f-d961-48ab-a6c3-475ea5c87d13",
   "metadata": {},
   "outputs": [
    {
     "name": "stdout",
     "output_type": "stream",
     "text": [
      "+---------------------+\n",
      "|OP_CARRIER_AIRLINE_ID|\n",
      "+---------------------+\n",
      "|                20398|\n",
      "|                19690|\n",
      "|                20409|\n",
      "|                20378|\n",
      "|                19790|\n",
      "|                20304|\n",
      "|                20436|\n",
      "|                19393|\n",
      "|                20355|\n",
      "|                19805|\n",
      "|                19930|\n",
      "|                20366|\n",
      "|                19977|\n",
      "|                21171|\n",
      "|                20437|\n",
      "+---------------------+\n",
      "\n"
     ]
    }
   ],
   "source": [
    "flightsDF.select(\"OP_CARRIER_AIRLINE_ID\").distinct().show(20)"
   ]
  },
  {
   "cell_type": "code",
   "execution_count": 11,
   "id": "d50da29f-aa2f-456e-8ea1-cc2e700bfb75",
   "metadata": {},
   "outputs": [
    {
     "data": {
      "text/plain": [
       "6670"
      ]
     },
     "execution_count": 11,
     "metadata": {},
     "output_type": "execute_result"
    }
   ],
   "source": [
    "flightsDF.select(\"OP_CARRIER_FL_NUM\").distinct().count()"
   ]
  },
  {
   "cell_type": "code",
   "execution_count": 10,
   "id": "9d305213-d53a-4202-a7a7-f23b89ab36e8",
   "metadata": {},
   "outputs": [
    {
     "name": "stdout",
     "output_type": "stream",
     "text": [
      "+---------------------+-------------------+\n",
      "|OP_CARRIER_AIRLINE_ID|nb_flights_distinct|\n",
      "+---------------------+-------------------+\n",
      "|19393                |4946               |\n",
      "|19790                |2100               |\n",
      "|19805                |2056               |\n",
      "|20366                |1961               |\n",
      "|20437                |1750               |\n",
      "|20398                |1703               |\n",
      "|20355                |1671               |\n",
      "|20304                |1664               |\n",
      "|19977                |1580               |\n",
      "|20409                |1028               |\n",
      "|20436                |649                |\n",
      "|19930                |618                |\n",
      "|20378                |434                |\n",
      "|19690                |318                |\n",
      "|21171                |254                |\n",
      "+---------------------+-------------------+\n",
      "\n"
     ]
    }
   ],
   "source": [
    "import org.apache.spark.sql.functions._\n",
    "\n",
    "flightsDF\n",
    "  .groupBy(\"OP_CARRIER_AIRLINE_ID\")\n",
    "  .agg(countDistinct(\"OP_CARRIER_FL_NUM\").as(\"nb_flights_distinct\"))\n",
    "  .orderBy(desc(\"nb_flights_distinct\"))\n",
    "  .show(50, false)"
   ]
  },
  {
   "cell_type": "code",
   "execution_count": 9,
   "id": "60efc0b9-b06a-45d9-ba5d-ce6aa45b93a8",
   "metadata": {},
   "outputs": [
    {
     "name": "stdout",
     "output_type": "stream",
     "text": [
      "+---------------------+-----------------+-------+\n",
      "|OP_CARRIER_AIRLINE_ID|OP_CARRIER_FL_NUM|nb_vols|\n",
      "+---------------------+-----------------+-------+\n",
      "|19930                |64               |1820   |\n",
      "|19930                |65               |1815   |\n",
      "|19930                |62               |1809   |\n",
      "|19393                |24               |1580   |\n",
      "|19930                |55               |1456   |\n",
      "|19930                |61               |1448   |\n",
      "|19930                |66               |1448   |\n",
      "|19930                |67               |1416   |\n",
      "|19393                |429              |1351   |\n",
      "|19393                |47               |1327   |\n",
      "|19393                |6                |1284   |\n",
      "|19393                |1015             |1281   |\n",
      "|19393                |910              |1251   |\n",
      "|19393                |40               |1206   |\n",
      "|19393                |1983             |1199   |\n",
      "|19393                |132              |1152   |\n",
      "|19393                |38               |1151   |\n",
      "|19393                |1814             |1150   |\n",
      "|19393                |19               |1145   |\n",
      "|19393                |313              |1143   |\n",
      "|19393                |32               |1140   |\n",
      "|19393                |483              |1140   |\n",
      "|19393                |339              |1125   |\n",
      "|19393                |36               |1122   |\n",
      "|19393                |23               |1112   |\n",
      "|19393                |709              |1107   |\n",
      "|19393                |33               |1104   |\n",
      "|19393                |20               |1103   |\n",
      "|19393                |25               |1100   |\n",
      "|19393                |31               |1095   |\n",
      "|19393                |16               |1084   |\n",
      "|19930                |152              |1078   |\n",
      "|19930                |151              |1072   |\n",
      "|19930                |153              |1072   |\n",
      "|20355                |90               |1070   |\n",
      "|20355                |5                |1065   |\n",
      "|19393                |384              |1062   |\n",
      "|19393                |43               |1056   |\n",
      "|19393                |327              |1041   |\n",
      "|19393                |584              |1029   |\n",
      "|19393                |1628             |1028   |\n",
      "|19393                |55               |1024   |\n",
      "|19393                |5                |998    |\n",
      "|19393                |503              |993    |\n",
      "|19393                |3814             |992    |\n",
      "|19393                |45               |989    |\n",
      "|19393                |266              |986    |\n",
      "|19393                |51               |980    |\n",
      "|19393                |168              |965    |\n",
      "|19393                |1703             |964    |\n",
      "+---------------------+-----------------+-------+\n",
      "only showing top 50 rows\n",
      "\n"
     ]
    }
   ],
   "source": [
    "import org.apache.spark.sql.functions._\n",
    "\n",
    "flightsDF\n",
    "  .groupBy(\"OP_CARRIER_AIRLINE_ID\", \"OP_CARRIER_FL_NUM\")\n",
    "  .agg(count(\"*\").as(\"nb_vols\"))\n",
    "  .orderBy(desc(\"nb_vols\"))\n",
    "  .show(50, false)"
   ]
  },
  {
   "cell_type": "markdown",
   "id": "8e583d9c-b1a8-48ee-a794-0cb156fc2b33",
   "metadata": {},
   "source": [
    "## 2. ORIGIN_AIRPORT_ID et DEST_AIRPORT_ID"
   ]
  },
  {
   "cell_type": "code",
   "execution_count": 14,
   "id": "1ff06385-2e7e-484e-adee-bb8395cdd32a",
   "metadata": {},
   "outputs": [
    {
     "data": {
      "text/plain": [
       "312"
      ]
     },
     "execution_count": 14,
     "metadata": {},
     "output_type": "execute_result"
    }
   ],
   "source": [
    "flightsDF.select(\"ORIGIN_AIRPORT_ID\").distinct().count()"
   ]
  },
  {
   "cell_type": "code",
   "execution_count": 15,
   "id": "fde4392b-1c3f-4126-8344-bf5d7708e888",
   "metadata": {},
   "outputs": [
    {
     "data": {
      "text/plain": [
       "313"
      ]
     },
     "execution_count": 15,
     "metadata": {},
     "output_type": "execute_result"
    }
   ],
   "source": [
    "flightsDF.select(\"DEST_AIRPORT_ID\").distinct().count()"
   ]
  },
  {
   "cell_type": "code",
   "execution_count": 17,
   "id": "3c3bb39c-5031-4580-962c-4fb9fc58ab07",
   "metadata": {},
   "outputs": [
    {
     "name": "stdout",
     "output_type": "stream",
     "text": [
      "+-----------------+-------------------+\n",
      "|ORIGIN_AIRPORT_ID|nb_flights_distinct|\n",
      "+-----------------+-------------------+\n",
      "|11292            |4487               |\n",
      "|12889            |3928               |\n",
      "|12892            |3759               |\n",
      "|14107            |3623               |\n",
      "|10821            |3532               |\n",
      "|13232            |3504               |\n",
      "|10397            |3480               |\n",
      "|13930            |3470               |\n",
      "|14771            |2941               |\n",
      "|13204            |2789               |\n",
      "|14679            |2773               |\n",
      "|15016            |2756               |\n",
      "|13198            |2697               |\n",
      "|10693            |2681               |\n",
      "|11618            |2527               |\n",
      "|12191            |2513               |\n",
      "|11259            |2500               |\n",
      "|12266            |2482               |\n",
      "|11433            |2467               |\n",
      "|11298            |2433               |\n",
      "+-----------------+-------------------+\n",
      "only showing top 20 rows\n",
      "\n"
     ]
    }
   ],
   "source": [
    "import org.apache.spark.sql.functions._\n",
    "\n",
    "flightsDF\n",
    "  .groupBy(\"ORIGIN_AIRPORT_ID\")\n",
    "  .agg(countDistinct(\"OP_CARRIER_FL_NUM\").as(\"nb_flights_distinct\"))\n",
    "  .orderBy(desc(\"nb_flights_distinct\"))\n",
    "  .show(20, false)"
   ]
  },
  {
   "cell_type": "code",
   "execution_count": 18,
   "id": "40cc64c4-d935-4170-a79b-160518942377",
   "metadata": {},
   "outputs": [
    {
     "name": "stdout",
     "output_type": "stream",
     "text": [
      "+---------------+-------------------+\n",
      "|DEST_AIRPORT_ID|nb_flights_distinct|\n",
      "+---------------+-------------------+\n",
      "|11292          |4465               |\n",
      "|12889          |3838               |\n",
      "|12892          |3767               |\n",
      "|14107          |3567               |\n",
      "|13232          |3526               |\n",
      "|10821          |3503               |\n",
      "|13930          |3461               |\n",
      "|10397          |3411               |\n",
      "|14771          |2920               |\n",
      "|13204          |2755               |\n",
      "|15016          |2693               |\n",
      "|14679          |2630               |\n",
      "|13198          |2546               |\n",
      "|12191          |2529               |\n",
      "|10693          |2516               |\n",
      "|11618          |2506               |\n",
      "|11259          |2467               |\n",
      "|12266          |2398               |\n",
      "|11298          |2387               |\n",
      "|11433          |2349               |\n",
      "+---------------+-------------------+\n",
      "only showing top 20 rows\n",
      "\n"
     ]
    }
   ],
   "source": [
    "import org.apache.spark.sql.functions._\n",
    "\n",
    "flightsDF\n",
    "  .groupBy(\"DEST_AIRPORT_ID\")\n",
    "  .agg(countDistinct(\"OP_CARRIER_FL_NUM\").as(\"nb_flights_distinct\"))\n",
    "  .orderBy(desc(\"nb_flights_distinct\"))\n",
    "  .show(20, false)"
   ]
  },
  {
   "cell_type": "markdown",
   "id": "b107807b-1ea0-4004-baff-0f2b2f26315a",
   "metadata": {},
   "source": [
    "## 3. CRS_ELAPSED_TIME"
   ]
  },
  {
   "cell_type": "code",
   "execution_count": 19,
   "id": "d279194a-1f9e-4567-91bd-fc68c5b71c02",
   "metadata": {},
   "outputs": [
    {
     "data": {
      "text/plain": [
       "504"
      ]
     },
     "execution_count": 19,
     "metadata": {},
     "output_type": "execute_result"
    }
   ],
   "source": [
    "flightsDF.select(\"CRS_ELAPSED_TIME\").distinct().count()"
   ]
  },
  {
   "cell_type": "code",
   "execution_count": 21,
   "id": "b0caf8d6-b8df-4e0c-959e-05a4d47b7dbe",
   "metadata": {},
   "outputs": [
    {
     "name": "stdout",
     "output_type": "stream",
     "text": [
      "+----------------+\n",
      "|CRS_ELAPSED_TIME|\n",
      "+----------------+\n",
      "|           305.0|\n",
      "|           299.0|\n",
      "|           170.0|\n",
      "|           184.0|\n",
      "|           147.0|\n",
      "|           160.0|\n",
      "|           169.0|\n",
      "|            70.0|\n",
      "|            67.0|\n",
      "|           379.0|\n",
      "|           311.0|\n",
      "|           168.0|\n",
      "|           206.0|\n",
      "|            69.0|\n",
      "|           389.0|\n",
      "|           390.0|\n",
      "|           365.0|\n",
      "|           249.0|\n",
      "|           142.0|\n",
      "|           191.0|\n",
      "+----------------+\n",
      "only showing top 20 rows\n",
      "\n"
     ]
    }
   ],
   "source": [
    "flightsDF.select(\"CRS_ELAPSED_TIME\").distinct().show(20)"
   ]
  },
  {
   "cell_type": "code",
   "execution_count": 23,
   "id": "371fa223-eb37-4262-b1bc-727e727f70f3",
   "metadata": {},
   "outputs": [
    {
     "name": "stdout",
     "output_type": "stream",
     "text": [
      "+-------+-----------------+\n",
      "|summary| CRS_ELAPSED_TIME|\n",
      "+-------+-----------------+\n",
      "|  count|          6096761|\n",
      "|    min|              1.0|\n",
      "|    25%|             81.0|\n",
      "|    50%|            115.0|\n",
      "|    75%|            165.0|\n",
      "|    max|           1865.0|\n",
      "|   mean|133.9327569179766|\n",
      "| stddev|72.77188749215703|\n",
      "+-------+-----------------+\n",
      "\n"
     ]
    }
   ],
   "source": [
    "flightsDF\n",
    "  .select(\"CRS_ELAPSED_TIME\")\n",
    "  .summary(\"count\", \"min\", \"25%\", \"50%\", \"75%\", \"max\", \"mean\", \"stddev\")\n",
    "  .show()"
   ]
  },
  {
   "cell_type": "code",
   "execution_count": 32,
   "id": "bc58643b-726e-4a2d-bd29-ba121ba8d926",
   "metadata": {},
   "outputs": [
    {
     "name": "stdout",
     "output_type": "stream",
     "text": [
      "Bornes acceptées : -45.0 à 291.0\n"
     ]
    },
    {
     "data": {
      "text/plain": [
       "quantiles = Array(81.0, 165.0)\n",
       "q1 = 81.0\n",
       "q3 = 165.0\n",
       "iqr = 84.0\n",
       "lowerBound = -45.0\n",
       "upperBound = 291.0\n",
       "flightsNoOutliers = [FL_DATE: date, OP_CARRIER_AIRLINE_ID: int ... 10 more fields]\n"
      ]
     },
     "metadata": {},
     "output_type": "display_data",
     "source": "user"
    },
    {
     "data": {
      "text/plain": [
       "[FL_DATE: date, OP_CARRIER_AIRLINE_ID: int ... 10 more fields]"
      ]
     },
     "execution_count": 32,
     "metadata": {},
     "output_type": "execute_result"
    }
   ],
   "source": [
    "import org.apache.spark.sql.functions._\n",
    "\n",
    "// Récupérer les quantiles\n",
    "val quantiles = flightsDF.stat.approxQuantile(\"CRS_ELAPSED_TIME\", Array(0.25, 0.75), 0.0)\n",
    "val q1 = quantiles(0)\n",
    "val q3 = quantiles(1)\n",
    "val iqr = q3 - q1\n",
    "\n",
    "val lowerBound = q1 - 1.5 * iqr\n",
    "val upperBound = q3 + 1.5 * iqr\n",
    "\n",
    "println(s\"Bornes acceptées : $lowerBound à $upperBound\")\n",
    "\n",
    "// Filtrer les données\n",
    "val flightsNoOutliers = flightsDF.filter(\n",
    "  col(\"CRS_ELAPSED_TIME\") >= lowerBound && col(\"CRS_ELAPSED_TIME\") <= upperBound\n",
    ")"
   ]
  },
  {
   "cell_type": "code",
   "execution_count": null,
   "id": "7202039c-5cd0-40ef-8a29-ae77d8c40f67",
   "metadata": {},
   "outputs": [],
   "source": []
  }
 ],
 "metadata": {
  "kernelspec": {
   "display_name": "apache_toree_scala - Scala",
   "language": "scala",
   "name": "apache_toree_scala_scala"
  },
  "language_info": {
   "codemirror_mode": "text/x-scala",
   "file_extension": ".scala",
   "mimetype": "text/x-scala",
   "name": "scala",
   "pygments_lexer": "scala",
   "version": "2.12.15"
  }
 },
 "nbformat": 4,
 "nbformat_minor": 5
}
