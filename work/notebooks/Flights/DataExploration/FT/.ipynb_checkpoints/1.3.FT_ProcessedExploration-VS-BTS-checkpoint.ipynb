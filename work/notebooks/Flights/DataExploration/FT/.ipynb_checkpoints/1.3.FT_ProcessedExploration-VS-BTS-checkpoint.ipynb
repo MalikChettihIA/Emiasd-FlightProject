{
 "cells": [
  {
   "cell_type": "markdown",
   "id": "a137a405-aed5-4fb7-87b5-eeee85e6140c",
   "metadata": {},
   "source": [
    "# Flights Dataset Preprocessing and feature Engineering"
   ]
  },
  {
   "cell_type": "code",
   "execution_count": 2,
   "id": "53e4989d-8472-46e5-b806-ddde048d91f9",
   "metadata": {},
   "outputs": [
    {
     "name": "stdout",
     "output_type": "stream",
     "text": [
      "Starting download from file:///home/jovyan/work/apps/Emiasd-Flight-Data-Analysis.jar\n",
      "Finished download of Emiasd-Flight-Data-Analysis.jar\n",
      "Using cached version of Emiasd-Flight-Data-Analysis.jar\n"
     ]
    }
   ],
   "source": [
    "%AddJar file:///home/jovyan/work/apps/Emiasd-Flight-Data-Analysis.jar"
   ]
  },
  {
   "cell_type": "code",
   "execution_count": 3,
   "id": "4c5e2137-c51d-4b08-89fc-72273d7e9841",
   "metadata": {},
   "outputs": [
    {
     "data": {
      "text/plain": [
       "args = Array(jupyter)\n",
       "spark = org.apache.spark.sql.SparkSession@16b09d4a\n",
       "session = org.apache.spark.sql.SparkSession@16b09d4a\n",
       "configuration = AppConfiguration(local,CommonConfig(42,DataConfig(/home/jovyan/work/data,FileConfig(/home/jovyan/work/data/FLIGHT-3Y/Flights/201201.csv),FileConfig(/home/jovyan/work/data/FLIGHT-3Y/Weather/201201hourly.txt),FileConfig(/home/jovyan/work/data/FLIGHT-3Y/wban_airport_timezone.csv)),OutputConfig(/home/jovyan/work/output,FileConfig(/home/jovyan/work/output/data),FileCo...\n"
      ]
     },
     "metadata": {},
     "output_type": "display_data",
     "source": "user"
    },
    {
     "data": {
      "text/plain": [
       "AppConfiguration(local,CommonConfig(42,DataConfig(/home/jovyan/work/data,FileConfig(/home/jovyan/work/data/FLIGHT-3Y/Flights/201201.csv),FileConfig(/home/jovyan/work/data/FLIGHT-3Y/Weather/201201hourly.txt),FileConfig(/home/jovyan/work/data/FLIGHT-3Y/wban_airport_timezone.csv)),OutputConfig(/home/jovyan/work/output,FileConfig(/home/jovyan/work/output/data),FileCo..."
      ]
     },
     "execution_count": 3,
     "metadata": {},
     "output_type": "execute_result"
    }
   ],
   "source": [
    "import org.apache.spark.sql.SparkSession\n",
    "import com.flightdelay.config.{AppConfiguration, ConfigurationLoader}\n",
    "import com.flightdelay.data.loaders.FlightDataLoader\n",
    "\n",
    "//Env Configuration\n",
    "val args: Array[String] = Array(\"jupyter\")\n",
    "\n",
    "val spark = SparkSession.builder()\n",
    "  .config(sc.getConf)\n",
    "  .getOrCreate()\n",
    "\n",
    "// Rendre la session Spark implicite\n",
    "implicit val session = spark\n",
    "implicit val configuration: AppConfiguration = ConfigurationLoader.loadConfiguration(args)\n",
    "\n",
    "val rawFlightsPath = s\"${configuration.common.output.basePath}/common/data/processed_flights.parquet\"\n",
    "val flightsDF = spark.read.parquet(rawFlightsPath)"
   ]
  },
  {
   "cell_type": "code",
   "execution_count": 4,
   "id": "e2940aa8-c1c2-4034-87eb-51fb7d8fab64",
   "metadata": {},
   "outputs": [
    {
     "data": {
      "text/plain": [
       "403884"
      ]
     },
     "execution_count": 4,
     "metadata": {},
     "output_type": "execute_result"
    }
   ],
   "source": [
    "flightsDF.count()"
   ]
  },
  {
   "cell_type": "code",
   "execution_count": 5,
   "id": "e9f45dd1-1883-4e19-aab7-cc3571743db2",
   "metadata": {},
   "outputs": [
    {
     "name": "stdout",
     "output_type": "stream",
     "text": [
      "root\n",
      " |-- FL_DATE: date (nullable = true)\n",
      " |-- OP_CARRIER_AIRLINE_ID: integer (nullable = true)\n",
      " |-- OP_CARRIER_FL_NUM: integer (nullable = true)\n",
      " |-- ORIGIN_AIRPORT_ID: integer (nullable = true)\n",
      " |-- DEST_AIRPORT_ID: integer (nullable = true)\n",
      " |-- CRS_DEP_TIME: integer (nullable = true)\n",
      " |-- ARR_DELAY_NEW: double (nullable = true)\n",
      " |-- CRS_ELAPSED_TIME: double (nullable = true)\n",
      " |-- WEATHER_DELAY: double (nullable = true)\n",
      " |-- NAS_DELAY: double (nullable = true)\n",
      " |-- ORIGIN_WBAN: string (nullable = true)\n",
      " |-- ORIGIN_TIMEZONE: integer (nullable = true)\n",
      " |-- DEST_WBAN: string (nullable = true)\n",
      " |-- DEST_TIMEZONE: integer (nullable = true)\n",
      " |-- UTC_CRS_DEP_TIME: string (nullable = true)\n",
      " |-- UTC_ARR_TIME: string (nullable = true)\n",
      " |-- UTC_ARR_DATE: date (nullable = true)\n",
      " |-- CRS_ARR_TIME: string (nullable = true)\n",
      " |-- CRS_ARR_DATE: date (nullable = true)\n",
      " |-- feature_arrival_hour: integer (nullable = true)\n",
      " |-- feature_utc_arrival_hour: integer (nullable = true)\n",
      " |-- feature_utc_arrival_hour_rounded: string (nullable = true)\n",
      " |-- feature_utc_arrival_date: string (nullable = true)\n",
      " |-- feature_crosses_midnight_local: integer (nullable = true)\n",
      " |-- feature_crosses_midnight_utc: integer (nullable = true)\n",
      " |-- feature_flight_days_span: integer (nullable = true)\n",
      " |-- feature_timezone_difference: integer (nullable = true)\n",
      " |-- feature_flies_eastward: integer (nullable = true)\n",
      " |-- feature_flies_westward: integer (nullable = true)\n",
      " |-- feature_departure_minute: integer (nullable = true)\n",
      " |-- feature_arrival_minutes_total: double (nullable = true)\n",
      " |-- feature_crosses_midnight: integer (nullable = true)\n",
      " |-- feature_flight_day_of_week: integer (nullable = true)\n",
      " |-- feature_departure_hour_decimal: double (nullable = true)\n",
      " |-- feature_flight_timestamp: timestamp (nullable = true)\n",
      " |-- feature_utc_departure_hour: integer (nullable = true)\n",
      " |-- feature_flight_quarter_name: string (nullable = true)\n",
      " |-- feature_utc_departure_hour_decimal: double (nullable = true)\n",
      " |-- feature_departure_hour: integer (nullable = true)\n",
      " |-- feature_minutes_since_midnight: double (nullable = true)\n",
      " |-- feature_departure_quarter_day: integer (nullable = true)\n",
      " |-- feature_flight_month: integer (nullable = true)\n",
      " |-- feature_utc_departure_hour_rounded: long (nullable = true)\n",
      " |-- feature_arrival_minute: integer (nullable = true)\n",
      " |-- feature_flight_year: integer (nullable = true)\n",
      " |-- feature_flight_day_of_year: integer (nullable = true)\n",
      " |-- feature_arrival_time: integer (nullable = true)\n",
      " |-- feature_flight_quarter: integer (nullable = true)\n",
      " |-- feature_arrival_hour_decimal: double (nullable = true)\n",
      " |-- feature_flight_week_of_year: integer (nullable = true)\n",
      " |-- feature_flight_day_of_month: integer (nullable = true)\n",
      " |-- feature_departure_quarter_name: string (nullable = true)\n",
      " |-- feature_departure_time_period: string (nullable = true)\n",
      " |-- feature_departure_hour_rounded: long (nullable = true)\n",
      " |-- feature_departure_minutes_total: double (nullable = true)\n",
      " |-- feature_arrival_hour_rounded: string (nullable = true)\n",
      " |-- feature_arrival_date: string (nullable = true)\n",
      " |-- feature_distance_score: double (nullable = true)\n",
      " |-- feature_distance_category: string (nullable = true)\n",
      " |-- feature_carrier_hash: integer (nullable = true)\n",
      " |-- feature_route_id: string (nullable = true)\n",
      " |-- feature_is_likely_domestic: integer (nullable = true)\n",
      " |-- feature_is_roundtrip_candidate: integer (nullable = true)\n",
      " |-- feature_flight_unique_id: string (nullable = true)\n",
      " |-- feature_is_summer: integer (nullable = true)\n",
      " |-- feature_is_monday: integer (nullable = true)\n",
      " |-- feature_is_evening_rush: integer (nullable = true)\n",
      " |-- feature_is_month_start: integer (nullable = true)\n",
      " |-- feature_is_extended_weekend: integer (nullable = true)\n",
      " |-- feature_is_winter: integer (nullable = true)\n",
      " |-- feature_is_friday: integer (nullable = true)\n",
      " |-- feature_is_spring: integer (nullable = true)\n",
      " |-- feature_is_weekend: integer (nullable = true)\n",
      " |-- feature_is_holiday_season: integer (nullable = true)\n",
      " |-- feature_is_fall: integer (nullable = true)\n",
      " |-- feature_is_early_morning: integer (nullable = true)\n",
      " |-- feature_is_morning_rush: integer (nullable = true)\n",
      " |-- feature_is_business_hours: integer (nullable = true)\n",
      " |-- feature_is_night_flight: integer (nullable = true)\n",
      " |-- feature_is_month_end: integer (nullable = true)\n",
      " |-- feature_origin_complexity_score: double (nullable = true)\n",
      " |-- feature_is_westbound: integer (nullable = true)\n",
      " |-- feature_dest_complexity_score: double (nullable = true)\n",
      " |-- feature_dest_is_major_hub: integer (nullable = true)\n",
      " |-- feature_is_eastbound: integer (nullable = true)\n",
      " |-- feature_timezone_diff_proxy: integer (nullable = true)\n",
      " |-- feature_origin_is_major_hub: integer (nullable = true)\n",
      " |-- feature_is_hub_to_hub: integer (nullable = true)\n",
      " |-- feature_flights_on_route: long (nullable = true)\n",
      " |-- feature_carrier_flight_count: long (nullable = true)\n",
      " |-- feature_origin_airport_traffic: long (nullable = true)\n",
      " |-- feature_route_popularity_score: string (nullable = true)\n",
      " |-- feature_carrier_size_category: string (nullable = true)\n",
      " |-- AIRCRAFT_ID: string (nullable = true)\n",
      " |-- PREV_AIRCRAFT_ARR_DELAY: double (nullable = true)\n",
      " |-- IS_PREV_AIRCRAFT_LATE: integer (nullable = true)\n",
      " |-- label_arr_delay_filled: double (nullable = true)\n",
      " |-- label_nas_delay_filled: double (nullable = true)\n",
      " |-- label_weather_delay_filled: double (nullable = true)\n",
      " |-- label_weather_delay_was_missing: integer (nullable = true)\n",
      " |-- label_nas_delay_was_missing: integer (nullable = true)\n",
      " |-- label_arr_delay_was_missing: integer (nullable = true)\n",
      " |-- label_is_early: integer (nullable = true)\n",
      " |-- label_total_weather_nas_delay: double (nullable = true)\n",
      " |-- label_is_delayed_15min: integer (nullable = true)\n",
      " |-- label_has_nas_delay: integer (nullable = true)\n",
      " |-- label_is_delayed_30min: integer (nullable = true)\n",
      " |-- label_is_delayed_60min: integer (nullable = true)\n",
      " |-- label_is_delayed_45min: integer (nullable = true)\n",
      " |-- label_is_delayed_90min: integer (nullable = true)\n",
      " |-- label_has_weather_delay: integer (nullable = true)\n",
      " |-- label_is_on_time: integer (nullable = true)\n",
      " |-- label_has_any_weather_nas_delay: integer (nullable = true)\n",
      " |-- feature_avg_delay: double (nullable = true)\n",
      " |-- feature_num_previous_flights: long (nullable = true)\n",
      " |-- feature_stddev_delay: double (nullable = true)\n",
      " |-- feature_max_delay: double (nullable = true)\n",
      " |-- feature_min_delay: double (nullable = true)\n",
      " |-- feature_proportion_delayed_30min: double (nullable = true)\n",
      " |-- feature_proportion_delayed_60min: double (nullable = true)\n",
      " |-- feature_proportion_delayed_15min: double (nullable = true)\n",
      " |-- feature_proportion_delayed_45min: double (nullable = true)\n",
      " |-- feature_proportion_delayed_90min: double (nullable = true)\n",
      " |-- UTC_FL_DATE: date (nullable = true)\n",
      "\n"
     ]
    }
   ],
   "source": [
    "flightsDF.printSchema"
   ]
  },
  {
   "cell_type": "code",
   "execution_count": 6,
   "id": "21d40652-8fb6-491a-89fe-532daa6bffca",
   "metadata": {},
   "outputs": [],
   "source": [
    "import org.apache.spark.sql.{DataFrame, SparkSession}\n",
    "import org.apache.spark.sql.functions._\n",
    "import org.apache.spark.sql.types._\n",
    "import org.apache.spark.ml.feature.{StringIndexer, OneHotEncoder, VectorAssembler}\n",
    "import scala.util.Try"
   ]
  },
  {
   "cell_type": "code",
   "execution_count": 7,
   "id": "76e8f61c-b2d0-4a26-a56b-319bedec0931",
   "metadata": {},
   "outputs": [
    {
     "data": {
      "text/plain": [
       "403884"
      ]
     },
     "execution_count": 7,
     "metadata": {},
     "output_type": "execute_result"
    }
   ],
   "source": [
    "flightsDF.count()"
   ]
  },
  {
   "cell_type": "markdown",
   "id": "2dc31a41-5627-48a3-a64c-f0aed2546cdb",
   "metadata": {},
   "source": [
    "# Flight Delay Metrics"
   ]
  },
  {
   "cell_type": "code",
   "execution_count": 8,
   "id": "ae8376a7-882c-4240-b37d-87c5bd9b4c7a",
   "metadata": {},
   "outputs": [
    {
     "name": "stdout",
     "output_type": "stream",
     "text": [
      "+----------+-----------------+-----------------+-------------+---------+-------------+-----------------------------+----------------------+--------------------------------+\n",
      "|   FL_DATE|OP_CARRIER_FL_NUM|ORIGIN_AIRPORT_ID|WEATHER_DELAY|NAS_DELAY|ARR_DELAY_NEW|label_total_weather_nas_delay|label_is_delayed_15min|feature_proportion_delayed_15min|\n",
      "+----------+-----------------+-----------------+-------------+---------+-------------+-----------------------------+----------------------+--------------------------------+\n",
      "|2013-03-11|             3508|            10397|          3.0|     11.0|         18.0|                         14.0|                     1|             0.03508771929824561|\n",
      "+----------+-----------------+-----------------+-------------+---------+-------------+-----------------------------+----------------------+--------------------------------+\n",
      "\n"
     ]
    },
    {
     "data": {
      "text/plain": [
       "delayColumns = List(FL_DATE, OP_CARRIER_FL_NUM, ORIGIN_AIRPORT_ID, WEATHER_DELAY, NAS_DELAY, ARR_DELAY_NEW, label_total_weather_nas_delay, label_is_delayed_15min, feature_proportion_delayed_15min)\n",
       "df = [FL_DATE: date, OP_CARRIER_FL_NUM: int ... 7 more fields]\n"
      ]
     },
     "metadata": {},
     "output_type": "display_data",
     "source": "user"
    },
    {
     "data": {
      "text/plain": [
       "[FL_DATE: date, OP_CARRIER_FL_NUM: int ... 7 more fields]"
      ]
     },
     "execution_count": 8,
     "metadata": {},
     "output_type": "execute_result"
    }
   ],
   "source": [
    "import org.apache.spark.sql.functions._\n",
    "\n",
    "val delayColumns = Seq(\n",
    "  \"FL_DATE\",\n",
    "  \"OP_CARRIER_FL_NUM\",\n",
    "  \"ORIGIN_AIRPORT_ID\",\n",
    "  \"WEATHER_DELAY\",\n",
    "  \"NAS_DELAY\",\n",
    "  \"ARR_DELAY_NEW\",\n",
    "\n",
    "  /**\"label_is_early\",\n",
    "  \"label_is_on_time\",\n",
    "    \n",
    "  \"label_arr_delay_filled\",\n",
    "  \"label_nas_delay_filled\",\n",
    "  \"label_weather_delay_filled\",\n",
    "    \n",
    "  \"label_weather_delay_was_missing\",\n",
    "  \"label_nas_delay_was_missing\",\n",
    "  \"label_arr_delay_was_missing\",**/\n",
    "  \n",
    "  \"label_total_weather_nas_delay\",\n",
    "\n",
    "  /**\"label_has_nas_delay\",\n",
    "  \"label_has_weather_delay\",\n",
    "  \"label_has_any_weather_nas_delay\",**/\n",
    "    \n",
    "  \"label_is_delayed_15min\",\n",
    "  /**\"label_is_delayed_30min\",\n",
    "  \"label_is_delayed_60min\",\n",
    "  \"label_is_delayed_45min\",\n",
    "  \"label_is_delayed_90min\",\n",
    "  \n",
    "  \"feature_avg_delay\",\n",
    "  \"feature_num_previous_flights\",\n",
    "  \"feature_stddev_delay\",\n",
    "  \"feature_max_delay\",\n",
    "  \"feature_min_delay\",**/\n",
    "\n",
    "  \"feature_proportion_delayed_15min\",    \n",
    "  /**\"feature_proportion_delayed_30min\",\n",
    "  \"feature_proportion_delayed_60min\",\n",
    "  \"feature_proportion_delayed_45min\",\n",
    "  \"feature_proportion_delayed_90min\"**/\n",
    ")\n",
    "\n",
    "val df = flightsDF\n",
    "  .select(delayColumns.head, delayColumns.tail: _*)\n",
    "  .filter(\n",
    "    col(\"FL_DATE\") === \"2013-03-11\" &&\n",
    "    col(\"OP_CARRIER_FL_NUM\") === 3508 &&  \n",
    "    col(\"WEATHER_DELAY\").isNotNull && col(\"WEATHER_DELAY\") > 0 &&\n",
    "    col(\"NAS_DELAY\").isNotNull && col(\"NAS_DELAY\") > 0\n",
    "  )\n",
    "\n",
    "df.show(5)\n"
   ]
  },
  {
   "cell_type": "markdown",
   "id": "1df2dc9b-bf41-431b-af17-cfde917956a0",
   "metadata": {},
   "source": [
    "# BTS Data"
   ]
  },
  {
   "cell_type": "code",
   "execution_count": 9,
   "id": "ae050fa2-1623-4a36-a789-b2b329e522eb",
   "metadata": {},
   "outputs": [
    {
     "data": {
      "text/plain": [
       "DEFAULT_DATE_FORMAT = yyyy-MM-dd\n",
       "filePath = /home/jovyan/work/data/BTS-201303/T_ONTIME_REPORTING_201303.csv\n",
       "btsDF = [ORIGIN_AIRPORT_ID: string, ORIGIN_AIRPORT_SEQ_ID: string ... 36 more fields]\n"
      ]
     },
     "metadata": {},
     "output_type": "display_data",
     "source": "user"
    },
    {
     "data": {
      "text/plain": [
       "[ORIGIN_AIRPORT_ID: string, ORIGIN_AIRPORT_SEQ_ID: string ... 36 more fields]"
      ]
     },
     "execution_count": 9,
     "metadata": {},
     "output_type": "execute_result"
    }
   ],
   "source": [
    "val DEFAULT_DATE_FORMAT = \"yyyymmdd\"\n",
    "val filePath = s\"${configuration.common.data.basePath}/BTS-201303/T_ONTIME_REPORTING_201303.csv\"\n",
    "\n",
    "val btsDF = spark.read.format(\"csv\")\n",
    "  .option(\"header\", \"true\")\n",
    "  //.schema(expectedSchema)\n",
    "  .option(\"timestampFormat\", DEFAULT_DATE_FORMAT)\n",
    "  .option(\"multiline\", \"true\")\n",
    "  .option(\"escape\", \"\\\"\")\n",
    "  .load(filePath)\n",
    "  //.withColumn(\"FL_DATE\", to_date(col(\"FL_DATE\"), DEFAULT_DATE_FORMAT))"
   ]
  },
  {
   "cell_type": "code",
   "execution_count": 10,
   "id": "9ddf7b2f-0ee9-40e1-ae76-5499d7d01b19",
   "metadata": {},
   "outputs": [
    {
     "name": "stdout",
     "output_type": "stream",
     "text": [
      "root\n",
      " |-- ORIGIN_AIRPORT_ID: string (nullable = true)\n",
      " |-- ORIGIN_AIRPORT_SEQ_ID: string (nullable = true)\n",
      " |-- ORIGIN_CITY_MARKET_ID: string (nullable = true)\n",
      " |-- DEST_AIRPORT_ID: string (nullable = true)\n",
      " |-- DEST_AIRPORT_SEQ_ID: string (nullable = true)\n",
      " |-- DEST_CITY_MARKET_ID: string (nullable = true)\n",
      " |-- CRS_DEP_TIME: string (nullable = true)\n",
      " |-- DEP_TIME: string (nullable = true)\n",
      " |-- DEP_DELAY: string (nullable = true)\n",
      " |-- DEP_DELAY_NEW: string (nullable = true)\n",
      " |-- DEP_DEL15: string (nullable = true)\n",
      " |-- DEP_DELAY_GROUP: string (nullable = true)\n",
      " |-- DEP_TIME_BLK: string (nullable = true)\n",
      " |-- TAXI_OUT: string (nullable = true)\n",
      " |-- WHEELS_OFF: string (nullable = true)\n",
      " |-- WHEELS_ON: string (nullable = true)\n",
      " |-- TAXI_IN: string (nullable = true)\n",
      " |-- CRS_ARR_TIME: string (nullable = true)\n",
      " |-- ARR_TIME: string (nullable = true)\n",
      " |-- ARR_DELAY: string (nullable = true)\n",
      " |-- ARR_DELAY_NEW: string (nullable = true)\n",
      " |-- ARR_DEL15: string (nullable = true)\n",
      " |-- ARR_DELAY_GROUP: string (nullable = true)\n",
      " |-- ARR_TIME_BLK: string (nullable = true)\n",
      " |-- CANCELLED: string (nullable = true)\n",
      " |-- CANCELLATION_CODE: string (nullable = true)\n",
      " |-- DIVERTED: string (nullable = true)\n",
      " |-- CRS_ELAPSED_TIME: string (nullable = true)\n",
      " |-- ACTUAL_ELAPSED_TIME: string (nullable = true)\n",
      " |-- AIR_TIME: string (nullable = true)\n",
      " |-- FLIGHTS: string (nullable = true)\n",
      " |-- DISTANCE: string (nullable = true)\n",
      " |-- DISTANCE_GROUP: string (nullable = true)\n",
      " |-- CARRIER_DELAY: string (nullable = true)\n",
      " |-- WEATHER_DELAY: string (nullable = true)\n",
      " |-- NAS_DELAY: string (nullable = true)\n",
      " |-- SECURITY_DELAY: string (nullable = true)\n",
      " |-- LATE_AIRCRAFT_DELAY: string (nullable = true)\n",
      "\n"
     ]
    }
   ],
   "source": [
    "btsDF.printSchema"
   ]
  },
  {
   "cell_type": "code",
   "execution_count": null,
   "id": "82eb7313-970c-4dde-85e4-9765e555e164",
   "metadata": {},
   "outputs": [],
   "source": []
  }
 ],
 "metadata": {
  "kernelspec": {
   "display_name": "apache_toree_scala - Scala",
   "language": "scala",
   "name": "apache_toree_scala_scala"
  },
  "language_info": {
   "codemirror_mode": "text/x-scala",
   "file_extension": ".scala",
   "mimetype": "text/x-scala",
   "name": "scala",
   "pygments_lexer": "scala",
   "version": "2.12.15"
  }
 },
 "nbformat": 4,
 "nbformat_minor": 5
}
