{
 "cells": [
  {
   "cell_type": "markdown",
   "metadata": {
    "application/vnd.databricks.v1+cell": {
     "cellMetadata": {},
     "inputWidgets": {},
     "nuid": "fd2faf7b-3d0c-42cf-a911-a233d069aa95",
     "showTitle": false,
     "tableResultSettingsMap": {},
     "title": ""
    }
   },
   "source": [
    "# Module 3 Notebook 1: Binary Classification with Random Forest\n",
    "\n",
    "**Objective:** Train a binary classification model using Random Forest to predict whether a customer will purchase a specific product based on their interaction history and demographic data. Evaluate the model's performance using various metrics and visualize the results.\n",
    "\n",
    "**Input Data:** Pre-processed and feature-selected data from Module 2, Notebook 3:\n",
    "- `ecommerce.classification_train_features`\n",
    "- `ecommerce.classification_test_features`\n",
    "(Schema: `customer_id`, `product_id`, `features` (VectorUDT), `has_purchased` (Integer, 1 for purchase, 0 otherwise))"
   ]
  },
  {
   "cell_type": "markdown",
   "metadata": {
    "application/vnd.databricks.v1+cell": {
     "cellMetadata": {},
     "inputWidgets": {},
     "nuid": "3b1bfe99-245c-49da-bd46-ee294ec812e3",
     "showTitle": false,
     "tableResultSettingsMap": {},
     "title": ""
    }
   },
   "source": [
    "## 1. Setup and Imports\n",
    "\n",
    "Import necessary libraries."
   ]
  },
  {
   "cell_type": "code",
   "execution_count": 0,
   "metadata": {
    "application/vnd.databricks.v1+cell": {
     "cellMetadata": {
      "byteLimit": 2048000,
      "rowLimit": 10000
     },
     "inputWidgets": {},
     "nuid": "019762d0-d887-4641-83b9-115df5a09f0a",
     "showTitle": false,
     "tableResultSettingsMap": {},
     "title": ""
    }
   },
   "outputs": [],
   "source": [
    "from pyspark.sql import SparkSession\n",
    "from pyspark.sql.functions import col\n",
    "from pyspark.ml.classification import RandomForestClassifier\n",
    "from pyspark.ml.evaluation import BinaryClassificationEvaluator, MulticlassClassificationEvaluator\n",
    "from pyspark.mllib.evaluation import BinaryClassificationMetrics # For ROC Curve data extraction\n",
    "\n",
    "import matplotlib.pyplot as plt\n",
    "import pandas as pd\n",
    "import numpy as np"
   ]
  },
  {
   "cell_type": "markdown",
   "metadata": {
    "application/vnd.databricks.v1+cell": {
     "cellMetadata": {},
     "inputWidgets": {},
     "nuid": "fe19d3d0-63ea-474a-9610-ecc7060276da",
     "showTitle": false,
     "tableResultSettingsMap": {},
     "title": ""
    }
   },
   "source": [
    "## 2. Load Data\n",
    "\n",
    "Load the training and testing datasets prepared in Module 2, Notebook 3."
   ]
  },
  {
   "cell_type": "code",
   "execution_count": 0,
   "metadata": {
    "application/vnd.databricks.v1+cell": {
     "cellMetadata": {
      "byteLimit": 2048000,
      "rowLimit": 10000
     },
     "inputWidgets": {},
     "nuid": "f09b3f3b-7459-4454-bcab-92d554c0b5ce",
     "showTitle": false,
     "tableResultSettingsMap": {},
     "title": ""
    }
   },
   "outputs": [
    {
     "output_type": "stream",
     "name": "stdout",
     "output_type": "stream",
     "text": [
      "Successfully loaded ecommerce.classification_train_features and ecommerce.classification_test_features\nSample Training Data:\n"
     ]
    },
    {
     "output_type": "display_data",
     "data": {
      "text/html": [
       "<style scoped>\n",
       "  .table-result-container {\n",
       "    max-height: 300px;\n",
       "    overflow: auto;\n",
       "  }\n",
       "  table, th, td {\n",
       "    border: 1px solid black;\n",
       "    border-collapse: collapse;\n",
       "  }\n",
       "  th, td {\n",
       "    padding: 5px;\n",
       "  }\n",
       "  th {\n",
       "    text-align: left;\n",
       "  }\n",
       "</style><div class='table-result-container'><table class='table-result'><thead style='background-color: white'><tr><th>customer_id</th><th>product_id</th><th>has_purchased</th><th>features</th></tr></thead><tbody><tr><td>1</td><td>154</td><td>1</td><td>Map(vectorType -> sparse, length -> 27, indices -> List(0, 1, 2, 3, 4, 7, 11, 12, 16, 24), values -> List(0.3548387096774194, 0.2552140504939627, 3.9096937406569814E-4, 0.6551724137931034, 0.1875, 0.5, 0.15797645978130034, 0.6551724137931034, 1.0, 1.0))</td></tr><tr><td>2</td><td>763</td><td>0</td><td>Map(vectorType -> sparse, length -> 27, indices -> List(0, 1, 2, 3, 6, 7, 8, 9, 10, 11, 12, 24), values -> List(0.24193548387096775, 0.05104281009879254, 0.015684771359576834, 0.44827586206896547, 0.5, 0.5, 0.3333333333333333, 0.0030686612965093976, 2.0038530085648685E-5, 0.551851629408638, 0.44827586206896547, 1.0))</td></tr><tr><td>3</td><td>929</td><td>0</td><td>Map(vectorType -> sparse, length -> 27, indices -> List(0, 1, 2, 3, 4, 7, 11, 12, 14, 24), values -> List(0.3870967741935484, 0.04226125137211855, 0.0025068036337153586, 0.37931034482758624, 0.125, 0.5, 0.6382172096253005, 0.37931034482758624, 1.0, 1.0))</td></tr><tr><td>4</td><td>244</td><td>1</td><td>Map(vectorType -> sparse, length -> 27, indices -> List(0, 1, 2, 3, 4, 6, 7, 8, 9, 10, 11, 12, 14, 17), values -> List(0.564516129032258, 0.22420417124039518, 0.043811568093832645, 0.4137931034482758, 0.3125, 0.5, 0.5, 0.3333333333333333, 0.01304181051016494, 1.603082406851895E-5, 0.6516631232308321, 0.4137931034482758, 1.0, 1.0))</td></tr><tr><td>5</td><td>26</td><td>0</td><td>Map(vectorType -> sparse, length -> 27, indices -> List(0, 1, 2, 3, 6, 7, 8, 9, 10, 11, 12, 14, 20), values -> List(0.22580645161290322, 0.13913282107574096, 0.006830464946912492, 0.5517241379310346, 0.5, 0.5, 0.3333333333333333, 0.004602991944764097, 2.404623610277842E-5, 0.3181684363551126, 0.5517241379310346, 1.0, 1.0))</td></tr></tbody></table></div>"
      ]
     },
     "metadata": {
      "application/vnd.databricks.v1+output": {
       "addedWidgets": {},
       "aggData": [],
       "aggError": "",
       "aggOverflow": false,
       "aggSchema": [],
       "aggSeriesLimitReached": false,
       "aggType": "",
       "arguments": {},
       "columnCustomDisplayInfos": {},
       "data": [
        [
         1,
         154,
         1,
         {
          "indices": [
           0,
           1,
           2,
           3,
           4,
           7,
           11,
           12,
           16,
           24
          ],
          "length": 27,
          "values": [
           0.3548387096774194,
           0.2552140504939627,
           3.9096937406569814E-4,
           0.6551724137931034,
           0.1875,
           0.5,
           0.15797645978130034,
           0.6551724137931034,
           1.0,
           1.0
          ],
          "vectorType": "sparse"
         }
        ],
        [
         2,
         763,
         0,
         {
          "indices": [
           0,
           1,
           2,
           3,
           6,
           7,
           8,
           9,
           10,
           11,
           12,
           24
          ],
          "length": 27,
          "values": [
           0.24193548387096775,
           0.05104281009879254,
           0.015684771359576834,
           0.44827586206896547,
           0.5,
           0.5,
           0.3333333333333333,
           0.0030686612965093976,
           2.0038530085648685E-5,
           0.551851629408638,
           0.44827586206896547,
           1.0
          ],
          "vectorType": "sparse"
         }
        ],
        [
         3,
         929,
         0,
         {
          "indices": [
           0,
           1,
           2,
           3,
           4,
           7,
           11,
           12,
           14,
           24
          ],
          "length": 27,
          "values": [
           0.3870967741935484,
           0.04226125137211855,
           0.0025068036337153586,
           0.37931034482758624,
           0.125,
           0.5,
           0.6382172096253005,
           0.37931034482758624,
           1.0,
           1.0
          ],
          "vectorType": "sparse"
         }
        ],
        [
         4,
         244,
         1,
         {
          "indices": [
           0,
           1,
           2,
           3,
           4,
           6,
           7,
           8,
           9,
           10,
           11,
           12,
           14,
           17
          ],
          "length": 27,
          "values": [
           0.564516129032258,
           0.22420417124039518,
           0.043811568093832645,
           0.4137931034482758,
           0.3125,
           0.5,
           0.5,
           0.3333333333333333,
           0.01304181051016494,
           1.603082406851895E-5,
           0.6516631232308321,
           0.4137931034482758,
           1.0,
           1.0
          ],
          "vectorType": "sparse"
         }
        ],
        [
         5,
         26,
         0,
         {
          "indices": [
           0,
           1,
           2,
           3,
           6,
           7,
           8,
           9,
           10,
           11,
           12,
           14,
           20
          ],
          "length": 27,
          "values": [
           0.22580645161290322,
           0.13913282107574096,
           0.006830464946912492,
           0.5517241379310346,
           0.5,
           0.5,
           0.3333333333333333,
           0.004602991944764097,
           2.404623610277842E-5,
           0.3181684363551126,
           0.5517241379310346,
           1.0,
           1.0
          ],
          "vectorType": "sparse"
         }
        ]
       ],
       "datasetInfos": [],
       "dbfsResultPath": null,
       "isJsonSchema": true,
       "metadata": {},
       "overflow": false,
       "plotOptions": {
        "customPlotOptions": {},
        "displayType": "table",
        "pivotAggregation": null,
        "pivotColumns": null,
        "xColumns": null,
        "yColumns": null
       },
       "removedWidgets": [],
       "schema": [
        {
         "metadata": "{}",
         "name": "customer_id",
         "type": "\"integer\""
        },
        {
         "metadata": "{}",
         "name": "product_id",
         "type": "\"long\""
        },
        {
         "metadata": "{}",
         "name": "has_purchased",
         "type": "\"integer\""
        },
        {
         "metadata": "{\"ml_attr\":{\"attrs\":{\"numeric\":[{\"idx\":0,\"name\":\"numerical_features_scaled_scaled_numerical_features_0\"},{\"idx\":1,\"name\":\"numerical_features_scaled_scaled_numerical_features_1\"},{\"idx\":2,\"name\":\"numerical_features_scaled_scaled_numerical_features_2\"},{\"idx\":3,\"name\":\"numerical_features_scaled_scaled_numerical_features_3\"},{\"idx\":4,\"name\":\"numerical_features_scaled_scaled_numerical_features_4\"},{\"idx\":5,\"name\":\"numerical_features_scaled_scaled_numerical_features_5\"},{\"idx\":6,\"name\":\"numerical_features_scaled_scaled_numerical_features_6\"},{\"idx\":7,\"name\":\"numerical_features_scaled_scaled_numerical_features_7\"},{\"idx\":8,\"name\":\"numerical_features_scaled_scaled_numerical_features_8\"},{\"idx\":9,\"name\":\"numerical_features_scaled_scaled_numerical_features_9\"},{\"idx\":10,\"name\":\"numerical_features_scaled_scaled_numerical_features_10\"},{\"idx\":11,\"name\":\"numerical_features_scaled_scaled_numerical_features_11\"},{\"idx\":12,\"name\":\"numerical_features_scaled_scaled_numerical_features_12\"}],\"binary\":[{\"idx\":13,\"name\":\"selected_ohe_features_country_vec_DE\"},{\"idx\":14,\"name\":\"selected_ohe_features_membership_level_vec_Bronze\"},{\"idx\":15,\"name\":\"selected_ohe_features_membership_level_vec_Gold\"},{\"idx\":16,\"name\":\"selected_ohe_features_membership_level_vec_Platinum\"},{\"idx\":17,\"name\":\"selected_ohe_features_category_vec_Sports\"},{\"idx\":18,\"name\":\"selected_ohe_features_category_vec_Health\"},{\"idx\":19,\"name\":\"selected_ohe_features_category_vec_Beauty\"},{\"idx\":20,\"name\":\"selected_ohe_features_category_vec_Toys\"},{\"idx\":21,\"name\":\"selected_ohe_features_category_vec_Automotive\"},{\"idx\":22,\"name\":\"selected_ohe_features_category_vec_Clothing\"},{\"idx\":23,\"name\":\"selected_ohe_features_category_vec_Home & Kitchen\"},{\"idx\":24,\"name\":\"selected_ohe_features_category_vec_Books\"},{\"idx\":25,\"name\":\"selected_ohe_features_category_vec_Grocery\"},{\"idx\":26,\"name\":\"selected_ohe_features_category_vec_Electronics\"}]},\"num_attrs\":27}}",
         "name": "features",
         "type": "{\"type\":\"udt\",\"class\":\"org.apache.spark.ml.linalg.VectorUDT\",\"pyClass\":\"pyspark.ml.linalg.VectorUDT\",\"sqlType\":{\"type\":\"struct\",\"fields\":[{\"name\":\"type\",\"type\":\"byte\",\"nullable\":false,\"metadata\":{}},{\"name\":\"size\",\"type\":\"integer\",\"nullable\":true,\"metadata\":{}},{\"name\":\"indices\",\"type\":{\"type\":\"array\",\"elementType\":\"integer\",\"containsNull\":false},\"nullable\":true,\"metadata\":{}},{\"name\":\"values\",\"type\":{\"type\":\"array\",\"elementType\":\"double\",\"containsNull\":false},\"nullable\":true,\"metadata\":{}}]}}"
        }
       ],
       "type": "table"
      }
     },
     "output_type": "display_data"
    },
    {
     "output_type": "stream",
     "name": "stdout",
     "output_type": "stream",
     "text": [
      "Training count: 40115, Test count: 9852\n"
     ]
    }
   ],
   "source": [
    "train_table = f\"ecommerce.classification_train_features\"\n",
    "test_table = f\"ecommerce.classification_test_features\"\n",
    "\n",
    "# Load data\n",
    "try:\n",
    "    train_df = spark.table(train_table)\n",
    "    test_df = spark.table(test_table)\n",
    "\n",
    "    print(f\"Successfully loaded {train_table} and {test_table}\")\n",
    "\n",
    "    print(\"Sample Training Data:\")\n",
    "    train_df.select(\"customer_id\", \"product_id\", \"has_purchased\", \"features\").limit(5).display()\n",
    "\n",
    "    print(f\"Training count: {train_df.count()}, Test count: {test_df.count()}\")\n",
    "\n",
    "except Exception as e:\n",
    "    print(f\"Error loading tables: {e}\")\n",
    "    print(\"Ensure Module 2, Notebook 3 was run successfully and tables exist.\")"
   ]
  },
  {
   "cell_type": "markdown",
   "metadata": {
    "application/vnd.databricks.v1+cell": {
     "cellMetadata": {},
     "inputWidgets": {},
     "nuid": "ade1ca73-6a98-473c-850e-33d18148cc6e",
     "showTitle": false,
     "tableResultSettingsMap": {},
     "title": ""
    }
   },
   "source": [
    "## 3. Train Random Forest Model\n",
    "\n",
    "Instantiate and train a Random Forest Classifier. We'll use the `features` column generated in M2N3 as input and the `has_purchased` column as the target.\n",
    "\n",
    "Key Hyperparameters:\n",
    "- `numTrees`: Number of trees in the forest. More trees generally improve performance but increase computation time.\n",
    "- `maxDepth`: Maximum depth of each tree. Deeper trees can capture more complex patterns but risk overfitting.\n",
    "- `seed`: For reproducibility."
   ]
  },
  {
   "cell_type": "code",
   "execution_count": 0,
   "metadata": {
    "application/vnd.databricks.v1+cell": {
     "cellMetadata": {
      "byteLimit": 2048000,
      "rowLimit": 10000
     },
     "inputWidgets": {},
     "nuid": "c4eeb022-5570-4ce5-90c7-cd3a5b9a4a9f",
     "showTitle": false,
     "tableResultSettingsMap": {},
     "title": ""
    }
   },
   "outputs": [
    {
     "output_type": "stream",
     "name": "stdout",
     "output_type": "stream",
     "text": [
      "Training RandomForest model...\n"
     ]
    },
    {
     "output_type": "display_data",
     "data": {
      "application/vnd.jupyter.widget-view+json": {
       "model_id": "45273d71c30b4f96a596c6b7c76df522",
       "version_major": 2,
       "version_minor": 0
      },
      "text/plain": [
       "Downloading artifacts:   0%|          | 0/20 [00:00<?, ?it/s]"
      ]
     },
     "metadata": {},
     "output_type": "display_data"
    },
    {
     "output_type": "display_data",
     "data": {
      "application/vnd.jupyter.widget-view+json": {
       "model_id": "290f657796704f1e985cf92b6c604c15",
       "version_major": 2,
       "version_minor": 0
      },
      "text/plain": [
       "Uploading artifacts:   0%|          | 0/4 [00:00<?, ?it/s]"
      ]
     },
     "metadata": {},
     "output_type": "display_data"
    },
    {
     "output_type": "stream",
     "name": "stdout",
     "output_type": "stream",
     "text": [
      "Model training complete.\n"
     ]
    }
   ],
   "source": [
    "# Instantiate the RandomForestClassifier\n",
    "rf = RandomForestClassifier(\n",
    "    featuresCol=\"features\",\n",
    "    labelCol=\"has_purchased\",\n",
    "    numTrees=100,       # Common starter value, can be adjusted\n",
    "    maxDepth=5,         # Common starter value, can be adjusted\n",
    "    seed=42             # For reproducible results\n",
    ")\n",
    "\n",
    "# Train the model\n",
    "print(\"Training RandomForest model...\")\n",
    "rf_model = rf.fit(train_df)\n",
    "print(\"Model training complete.\")"
   ]
  },
  {
   "cell_type": "markdown",
   "metadata": {
    "application/vnd.databricks.v1+cell": {
     "cellMetadata": {},
     "inputWidgets": {},
     "nuid": "816f603f-cfbe-4310-ad6c-dfe9ef15e520",
     "showTitle": false,
     "tableResultSettingsMap": {},
     "title": ""
    }
   },
   "source": [
    "## 4. Make Predictions\n",
    "\n",
    "Use the trained model to make predictions on the test dataset.\n",
    "\n",
    "The probability column represents the estimated probability of the instance belonging to the corresponding class, and the values always sum up to 1. "
   ]
  },
  {
   "cell_type": "code",
   "execution_count": 0,
   "metadata": {
    "application/vnd.databricks.v1+cell": {
     "cellMetadata": {
      "byteLimit": 2048000,
      "rowLimit": 10000
     },
     "inputWidgets": {},
     "nuid": "0add04da-4f58-4a5c-b4ea-e26f686cb5b2",
     "showTitle": false,
     "tableResultSettingsMap": {},
     "title": ""
    }
   },
   "outputs": [
    {
     "output_type": "stream",
     "name": "stdout",
     "output_type": "stream",
     "text": [
      "Sample Predictions:\n"
     ]
    },
    {
     "output_type": "display_data",
     "data": {
      "text/html": [
       "<style scoped>\n",
       "  .table-result-container {\n",
       "    max-height: 300px;\n",
       "    overflow: auto;\n",
       "  }\n",
       "  table, th, td {\n",
       "    border: 1px solid black;\n",
       "    border-collapse: collapse;\n",
       "  }\n",
       "  th, td {\n",
       "    padding: 5px;\n",
       "  }\n",
       "  th {\n",
       "    text-align: left;\n",
       "  }\n",
       "</style><div class='table-result-container'><table class='table-result'><thead style='background-color: white'><tr><th>customer_id</th><th>product_id</th><th>has_purchased</th><th>probability</th><th>prediction</th></tr></thead><tbody><tr><td>5</td><td>821</td><td>0</td><td>Map(vectorType -> dense, length -> 2, values -> List(0.8455455416775359, 0.154454458322464))</td><td>0.0</td></tr><tr><td>16</td><td>433</td><td>0</td><td>Map(vectorType -> dense, length -> 2, values -> List(0.9133411903787024, 0.08665880962129756))</td><td>0.0</td></tr><tr><td>16</td><td>518</td><td>1</td><td>Map(vectorType -> dense, length -> 2, values -> List(0.2568984889621452, 0.7431015110378548))</td><td>1.0</td></tr><tr><td>19</td><td>484</td><td>0</td><td>Map(vectorType -> dense, length -> 2, values -> List(0.9157026411435475, 0.08429735885645255))</td><td>0.0</td></tr><tr><td>20</td><td>228</td><td>1</td><td>Map(vectorType -> dense, length -> 2, values -> List(0.2627550602568071, 0.7372449397431929))</td><td>1.0</td></tr></tbody></table></div>"
      ]
     },
     "metadata": {
      "application/vnd.databricks.v1+output": {
       "addedWidgets": {},
       "aggData": [],
       "aggError": "",
       "aggOverflow": false,
       "aggSchema": [],
       "aggSeriesLimitReached": false,
       "aggType": "",
       "arguments": {},
       "columnCustomDisplayInfos": {},
       "data": [
        [
         5,
         821,
         0,
         {
          "length": 2,
          "values": [
           0.8455455416775359,
           0.154454458322464
          ],
          "vectorType": "dense"
         },
         0.0
        ],
        [
         16,
         433,
         0,
         {
          "length": 2,
          "values": [
           0.9133411903787024,
           0.08665880962129756
          ],
          "vectorType": "dense"
         },
         0.0
        ],
        [
         16,
         518,
         1,
         {
          "length": 2,
          "values": [
           0.2568984889621452,
           0.7431015110378548
          ],
          "vectorType": "dense"
         },
         1.0
        ],
        [
         19,
         484,
         0,
         {
          "length": 2,
          "values": [
           0.9157026411435475,
           0.08429735885645255
          ],
          "vectorType": "dense"
         },
         0.0
        ],
        [
         20,
         228,
         1,
         {
          "length": 2,
          "values": [
           0.2627550602568071,
           0.7372449397431929
          ],
          "vectorType": "dense"
         },
         1.0
        ]
       ],
       "datasetInfos": [],
       "dbfsResultPath": null,
       "isJsonSchema": true,
       "metadata": {},
       "overflow": false,
       "plotOptions": {
        "customPlotOptions": {},
        "displayType": "table",
        "pivotAggregation": null,
        "pivotColumns": null,
        "xColumns": null,
        "yColumns": null
       },
       "removedWidgets": [],
       "schema": [
        {
         "metadata": "{}",
         "name": "customer_id",
         "type": "\"integer\""
        },
        {
         "metadata": "{}",
         "name": "product_id",
         "type": "\"long\""
        },
        {
         "metadata": "{}",
         "name": "has_purchased",
         "type": "\"integer\""
        },
        {
         "metadata": "{\"ml_attr\":{\"num_attrs\":2}}",
         "name": "probability",
         "type": "{\"type\":\"udt\",\"class\":\"org.apache.spark.ml.linalg.VectorUDT\",\"pyClass\":\"pyspark.ml.linalg.VectorUDT\",\"sqlType\":{\"type\":\"struct\",\"fields\":[{\"name\":\"type\",\"type\":\"byte\",\"nullable\":false,\"metadata\":{}},{\"name\":\"size\",\"type\":\"integer\",\"nullable\":true,\"metadata\":{}},{\"name\":\"indices\",\"type\":{\"type\":\"array\",\"elementType\":\"integer\",\"containsNull\":false},\"nullable\":true,\"metadata\":{}},{\"name\":\"values\",\"type\":{\"type\":\"array\",\"elementType\":\"double\",\"containsNull\":false},\"nullable\":true,\"metadata\":{}}]}}"
        },
        {
         "metadata": "{\"ml_attr\":{\"type\":\"nominal\",\"num_vals\":2}}",
         "name": "prediction",
         "type": "\"double\""
        }
       ],
       "type": "table"
      }
     },
     "output_type": "display_data"
    }
   ],
   "source": [
    "# Make predictions on the test set\n",
    "predictions_df = rf_model.transform(test_df)\n",
    "\n",
    "print(\"Sample Predictions:\")\n",
    "predictions_df.select(\"customer_id\", \"product_id\", \"has_purchased\", \"probability\", \"prediction\").limit(5).display()"
   ]
  },
  {
   "cell_type": "markdown",
   "metadata": {
    "application/vnd.databricks.v1+cell": {
     "cellMetadata": {},
     "inputWidgets": {},
     "nuid": "bdba8e1a-3de8-4cf5-b4b3-69d59d454fd5",
     "showTitle": false,
     "tableResultSettingsMap": {},
     "title": ""
    }
   },
   "source": [
    "## 5. Evaluate Model Performance\n",
    "\n",
    "Evaluate the model using standard binary classification metrics. Each metric provides a different perspective on the model's effectiveness:\n",
    "\n",
    "- **Area Under ROC (AUC):** \n",
    "  - *What it measures:* The model's ability to distinguish between positive (purchase) and negative (no purchase) classes across all possible thresholds. It represents the probability that the model ranks a random positive instance higher than a random negative instance.\n",
    "  - *Interpretation:* A value closer to 1.0 indicates better separation, while 0.5 indicates performance no better than random guessing.\n",
    "\n",
    "- **Accuracy:**\n",
    "  - *What it measures:* The overall proportion of correct predictions (both true positives and true negatives) out of all predictions made.\n",
    "  - *Interpretation:* While intuitive, accuracy can be misleading if the dataset is imbalanced (e.g., far more non-purchases than purchases). A high accuracy might just reflect the model correctly predicting the majority class.\n",
    "\n",
    "- **Precision (for Positive Class, Purchase=1):**\n",
    "  - *What it measures:* Out of all the instances the model *predicted* as purchases, what proportion actually were purchases? Formula: `TP / (TP + FP)` (True Positives / (True Positives + False Positives)).\n",
    "  - *Interpretation:* High precision is important when the cost of a false positive is high (e.g., wasting marketing budget on someone who won't buy). It measures the reliability of positive predictions.\n",
    "\n",
    "- **Recall (Sensitivity) (for Positive Class, Purchase=1):**\n",
    "  - *What it measures:* Out of all the instances that *actually* were purchases, what proportion did the model correctly identify? Formula: `TP / (TP + FN)` (True Positives / (True Positives + False Negatives)).\n",
    "  - *Interpretation:* High recall is important when the cost of a false negative is high (e.g., missing out on a potential sale). It measures the model's ability to find all relevant positive instances.\n",
    "\n",
    "- **F1-Score (for Positive Class, Purchase=1):**\n",
    "  - *What it measures:* The harmonic mean of Precision and Recall. Formula: `2 * (Precision * Recall) / (Precision + Recall)`.\n",
    "  - *Interpretation:* Provides a single score that balances both precision and recall. Useful when you need a compromise between minimizing false positives and minimizing false negatives."
   ]
  },
  {
   "cell_type": "code",
   "execution_count": 0,
   "metadata": {
    "application/vnd.databricks.v1+cell": {
     "cellMetadata": {
      "byteLimit": 2048000,
      "rowLimit": 10000
     },
     "inputWidgets": {},
     "nuid": "6e4b63ae-2ad3-4e3b-bd96-cc79d40c71a4",
     "showTitle": false,
     "tableResultSettingsMap": {},
     "title": ""
    }
   },
   "outputs": [
    {
     "output_type": "stream",
     "name": "stdout",
     "output_type": "stream",
     "text": [
      "--- Evaluation Metrics ---\nArea Under ROC (AUC): 0.9442\nAccuracy:             0.8779\nPrecision (Class 1):  0.8902\nRecall (Class 1):     0.8646\nF1-Score (Class 1):   0.8779\n--- Metric Interpretation ---\nAUC (0.9442) indicates good discrimination between buyers and non-buyers.\nAccuracy (0.8779): Reasonable. Check class balance if accuracy seems misleading.\nF1-Score (0.8779) suggests a reasonable balance between Precision (0.8902) and Recall (0.8646).\n"
     ]
    }
   ],
   "source": [
    "# Evaluator for AUC (binary classification)\n",
    "binary_evaluator = BinaryClassificationEvaluator(\n",
    "    labelCol=\"has_purchased\",\n",
    "    rawPredictionCol=\"rawPrediction\", # Default metric is areaUnderROC\n",
    "    metricName=\"areaUnderROC\"\n",
    ")\n",
    "\n",
    "# Evaluator for Accuracy, Precision, Recall, F1 (multi-class works for binary)\n",
    "multi_evaluator = MulticlassClassificationEvaluator(\n",
    "    labelCol=\"has_purchased\",\n",
    "    predictionCol=\"prediction\"\n",
    "    # Default metric is f1\n",
    ")\n",
    "\n",
    "# Calculate metrics\n",
    "auc = binary_evaluator.evaluate(predictions_df)\n",
    "accuracy = multi_evaluator.evaluate(predictions_df, {multi_evaluator.metricName: \"accuracy\"})\n",
    "\n",
    "# For Precision, Recall, F1 specific to the positive class (label=1)\n",
    "\n",
    "precision_1 = multi_evaluator.evaluate(predictions_df, {multi_evaluator.metricName: \"precisionByLabel\", multi_evaluator.metricLabel: 1.0})\n",
    "recall_1 = multi_evaluator.evaluate(predictions_df, {multi_evaluator.metricName: \"recallByLabel\", multi_evaluator.metricLabel: 1.0})\n",
    "f1_1 = multi_evaluator.evaluate(predictions_df, {multi_evaluator.metricName: \"f1\", multi_evaluator.metricLabel: 1.0}) # F1\n",
    "\n",
    "print(f\"--- Evaluation Metrics ---\")\n",
    "print(f\"Area Under ROC (AUC): {auc:.4f}\")\n",
    "print(f\"Accuracy:             {accuracy:.4f}\")\n",
    "print(f\"Precision (Class 1):  {precision_1:.4f}\")\n",
    "print(f\"Recall (Class 1):     {recall_1:.4f}\")\n",
    "print(f\"F1-Score (Class 1):   {f1_1:.4f}\")\n",
    "\n",
    "# --- Evaluation Interpretation ---\n",
    "print(\"--- Metric Interpretation ---\")\n",
    "# AUC Interpretation\n",
    "auc_threshold_good = 0.8\n",
    "auc_threshold_fair = 0.7\n",
    "if auc >= auc_threshold_good:\n",
    "    print(f\"AUC ({auc:.4f}) indicates good discrimination between buyers and non-buyers.\")\n",
    "elif auc >= auc_threshold_fair:\n",
    "    print(f\"AUC ({auc:.4f}) indicates fair discrimination. Model has some predictive power.\")\n",
    "else:\n",
    "    print(f\"AUC ({auc:.4f}) indicates poor discrimination. Model is close to random guessing.\")\n",
    "\n",
    "# Accuracy Interpretation (Consider potential imbalance)\n",
    "# Basic check, assumes balance or considers context\n",
    "accuracy_threshold = 0.75 # Example threshold\n",
    "print(f\"Accuracy ({accuracy:.4f}): {'Reasonable' if accuracy >= accuracy_threshold else 'Potentially low'}. Check class balance if accuracy seems misleading.\")\n",
    "\n",
    "# Precision/Recall/F1 Interpretation\n",
    "f1_threshold_good = 0.6 # Example threshold for acceptable balance\n",
    "if f1_1 >= f1_threshold_good:\n",
    "    print(f\"F1-Score ({f1_1:.4f}) suggests a reasonable balance between Precision ({precision_1:.4f}) and Recall ({recall_1:.4f}).\")\n",
    "else:\n",
    "    print(f\"F1-Score ({f1_1:.4f}) is relatively low, indicating a potential trade-off. Check Precision ({precision_1:.4f}) vs Recall ({recall_1:.4f}).\")\n",
    "    if precision_1 > recall_1:\n",
    "        print(\"  - Model is more precise (fewer false alarms for purchases) but misses more actual purchases.\")\n",
    "    else:\n",
    "        print(\"  - Model finds more actual purchases (higher recall) but has more false alarms.\")"
   ]
  },
  {
   "cell_type": "markdown",
   "metadata": {
    "application/vnd.databricks.v1+cell": {
     "cellMetadata": {},
     "inputWidgets": {},
     "nuid": "ea049f58-e8a9-419c-9d2e-0a5dd8f9440a",
     "showTitle": false,
     "tableResultSettingsMap": {},
     "title": ""
    }
   },
   "source": [
    "## 6. Visualize ROC Curve\n",
    "\n",
    "The Receiver Operating Characteristic (ROC) curve is a graphical plot that illustrates the diagnostic ability of a binary classifier system as its discrimination threshold is varied.\n",
    "\n",
    "- **X-axis:** False Positive Rate (FPR) - Proportion of actual negatives incorrectly classified as positive.\n",
    "- **Y-axis:** True Positive Rate (TPR) / Recall - Proportion of actual positives correctly classified as positive.\n",
    "- **Diagonal Line (y=x):** Represents a random classifier (no discriminative power).\n",
    "- **Top-Left Corner:** Ideal classifier (TPR=1, FPR=0).\n",
    "- **Area Under the Curve (AUC):** Summarizes the curve into a single value. An AUC of 1 represents a perfect classifier, while 0.5 represents a random classifier.\n",
    "\n",
    "A good model will have an ROC curve that bows towards the top-left corner, indicating high TPR and low FPR across different thresholds."
   ]
  },
  {
   "cell_type": "code",
   "execution_count": 0,
   "metadata": {
    "application/vnd.databricks.v1+cell": {
     "cellMetadata": {
      "byteLimit": 2048000,
      "rowLimit": 10000
     },
     "inputWidgets": {},
     "nuid": "f21cb92d-1498-47bb-a8c9-ddcc2de050bc",
     "showTitle": false,
     "tableResultSettingsMap": {},
     "title": ""
    }
   },
   "outputs": [
    {
     "output_type": "display_data",
     "data": {
      "image/png": "[encoded data removed]",
      "text/plain": [
       "<Figure size 800x600 with 1 Axes>"
      ]
     },
     "metadata": {},
     "output_type": "display_data"
    }
   ],
   "source": [
    "try:\n",
    "    # Access the summary's 'roc' attribute which returns a DataFrame\n",
    "    roc_df_ml = rf_model.summary.roc\n",
    "\n",
    "    # Collect data for plotting (usually small enough)\n",
    "    roc_data_pd = roc_df_ml.toPandas() # Convert Spark DataFrame to Pandas DataFrame\n",
    "\n",
    "    # --- Plotting ---\n",
    "    plt.figure(figsize=(8, 6))\n",
    "    # Plot ROC curve using FPR and TPR columns from the DataFrame\n",
    "    plt.plot(roc_data_pd['FPR'], roc_data_pd['TPR'], marker='.', markersize=2, linestyle='-', label=f'Random Forest (AUC = {auc:.4f})') # Use AUC calculated earlier\n",
    "    # Plot the random chance line\n",
    "    plt.plot([0, 1], [0, 1], linestyle='--', color='grey', label='Random Chance (AUC = 0.5)')\n",
    "\n",
    "    plt.xlabel('False Positive Rate (FPR)')\n",
    "    plt.ylabel('True Positive Rate (TPR)')\n",
    "    plt.title('ROC Curve - Purchase Prediction')\n",
    "    plt.legend()\n",
    "    plt.grid(True)\n",
    "    plt.show()\n",
    "\n",
    "except Exception as e:\n",
    "    print(f\"Error accessing model summary or plotting ROC: {e}\")\n",
    "    print(\"Ensure the model training completed successfully.\")\n",
    "    # Fallback or alternative method could be added here if needed"
   ]
  },
  {
   "cell_type": "markdown",
   "metadata": {
    "application/vnd.databricks.v1+cell": {
     "cellMetadata": {},
     "inputWidgets": {},
     "nuid": "8473b567-ccf6-4674-8ef0-7cea3af3569e",
     "showTitle": false,
     "tableResultSettingsMap": {},
     "title": ""
    }
   },
   "source": [
    "### ROC Curve Interpretation\n",
    "\n",
    "*(Observe the generated plot above)*\n",
    "\n",
    "- **Shape:** How far does the curve deviate from the diagonal line towards the top-left corner? A curve closer to the top-left indicates better performance.\n",
    "- **AUC Value:** The calculated AUC confirms the overall quality summarized by the curve. An AUC significantly above 0.5 suggests the model has good discriminative ability. For example, an AUC of 0.85 means there's an 85% chance that the model will rank a randomly chosen positive instance higher than a randomly chosen negative instance."
   ]
  },
  {
   "cell_type": "markdown",
   "metadata": {
    "application/vnd.databricks.v1+cell": {
     "cellMetadata": {},
     "inputWidgets": {},
     "nuid": "e8aa9fc5-19a2-4a45-b629-cb6100b18d82",
     "showTitle": false,
     "tableResultSettingsMap": {},
     "title": ""
    }
   },
   "source": [
    "## 7. Feature Importance Analysis\n",
    "\n",
    "Random Forest models allow us to inspect the importance of each feature in making predictions. This helps understand which factors are most influential.\n",
    "\n",
    "**Note:** The feature vector used here combines scaled numerical features and selected One-Hot Encoded (OHE) categorical features from M2N3.\n",
    "- The first 13 features correspond to the scaled numerical inputs.\n",
    "- The remaining 15 features correspond to the subset of OHE features selected by `ChiSqSelector`. Mapping these back to exact category names (e.g., `country_US`) requires loading artifacts from M2N3, which is beyond the scope of this notebook. We will refer to them as `selected_ohe_feature_X`."
   ]
  },
  {
   "cell_type": "code",
   "execution_count": 0,
   "metadata": {
    "application/vnd.databricks.v1+cell": {
     "cellMetadata": {
      "byteLimit": 2048000,
      "rowLimit": 10000
     },
     "inputWidgets": {},
     "nuid": "8f4a7607-521f-4152-bbe7-b748fa82a814",
     "showTitle": false,
     "tableResultSettingsMap": {},
     "title": ""
    }
   },
   "outputs": [
    {
     "output_type": "stream",
     "name": "stdout",
     "output_type": "stream",
     "text": [
      "Total features in vector: {len(feature_names)}\nTop 15 Feature Importances:\n                      Feature  Importance\n0     total_time_spent_scaled    0.426183\n1      previous_visits_scaled    0.228153\n2                price_scaled    0.198545\n3          tenure_days_scaled    0.053654\n4     selected_ohe_feature_13    0.035122\n5      selected_ohe_feature_9    0.017146\n6     selected_ohe_feature_14    0.012591\n7     selected_ohe_feature_12    0.010528\n8      avg_user_rating_scaled    0.003290\n9     selected_ohe_feature_11    0.003075\n10  product_avg_rating_scaled    0.002915\n11     selected_ohe_feature_8    0.002110\n12     selected_ohe_feature_7    0.001505\n13   add_to_cart_count_scaled    0.001353\n14  total_interactions_scaled    0.000961\n"
     ]
    },
    {
     "output_type": "display_data",
     "data": {
      "image/png": "[encoded data removed]",
      "text/plain": [
       "<Figure size 1000x800 with 1 Axes>"
      ]
     },
     "metadata": {},
     "output_type": "display_data"
    }
   ],
   "source": [
    "# Get feature importances from the trained model\n",
    "importances = rf_model.featureImportances\n",
    "\n",
    "# Define feature names (based on generator script variables)\n",
    "# These lists are embedded directly into the notebook code string\n",
    "scaled_numerical_feature_names = ['age_scaled', 'tenure_days_scaled', 'price_scaled', 'product_avg_rating_scaled', 'previous_visits_scaled', 'view_count_scaled', 'add_to_cart_count_scaled', 'review_count_scaled', 'total_interactions_scaled', 'total_time_spent_scaled', 'interaction_time_span_days_scaled', 'days_since_first_interaction_scaled', 'avg_user_rating_scaled']\n",
    "selected_ohe_feature_names = [f\"selected_ohe_feature_{i+1}\" for i in range(14)]\n",
    "feature_names = scaled_numerical_feature_names + selected_ohe_feature_names\n",
    "\n",
    "# Create a Pandas DataFrame for easier handling\n",
    "if len(feature_names) == len(importances):\n",
    "    importance_list = list(zip(feature_names, importances.toArray()))\n",
    "    importance_df = pd.DataFrame(importance_list, columns=['Feature', 'Importance'])\n",
    "\n",
    "    # Sort by importance (descending)\n",
    "    importance_df = importance_df.sort_values(by='Importance', ascending=False).reset_index(drop=True)\n",
    "\n",
    "    print(f\"Total features in vector: {{len(feature_names)}}\") # Escaped {} for notebook f-string\n",
    "    print(\"Top 15 Feature Importances:\")\n",
    "    print(importance_df.head(15).to_string()) # Display top 15\n",
    "\n",
    "    # Plot feature importances\n",
    "    plt.figure(figsize=(10, 8))\n",
    "    # Plot top N features for clarity\n",
    "    top_n = 15\n",
    "    plt.barh(importance_df['Feature'][:top_n], importance_df['Importance'][:top_n])\n",
    "    plt.xlabel('Importance Score')\n",
    "    plt.ylabel('Feature')\n",
    "    plt.title(f'Top {{top_n}} Feature Importances - Random Forest')\n",
    "    plt.gca().invert_yaxis() # Display most important at the top\n",
    "    plt.tight_layout()\n",
    "    plt.show()\n",
    "else:\n",
    "    print(f\"Error: Number of feature names ({{len(feature_names)}}) does not match importance vector length ({{len(importances)}}).\")\n",
    "    print(\"Check the feature generation steps in M2N3 and the feature name definition here.\")\n",
    "    print(\"Raw Importance Vector:\")\n",
    "    print(importances)"
   ]
  },
  {
   "cell_type": "markdown",
   "metadata": {
    "application/vnd.databricks.v1+cell": {
     "cellMetadata": {},
     "inputWidgets": {},
     "nuid": "6ca41818-0d30-4e4a-8df9-49ffed645ab2",
     "showTitle": false,
     "tableResultSettingsMap": {},
     "title": ""
    }
   },
   "source": [
    "### Feature Importance Interpretation\n",
    "\n",
    "*(Analyze the table and plot above)*\n",
    "\n",
    "- **Most Important Features:** Identify the features with the highest importance scores. Are they primarily numerical (like `price_scaled`, `total_time_spent_scaled`) or from the selected categorical block (`selected_ohe_feature_...`)?\n",
    "- **Numerical vs. Categorical:** Compare the overall importance contribution from the numerical features versus the selected OHE features.\n",
    "- **Business Relevance:** Do the most important features align with business intuition? For example, are interaction counts, time spent, or product characteristics significant predictors?"
   ]
  },
  {
   "cell_type": "markdown",
   "metadata": {
    "application/vnd.databricks.v1+cell": {
     "cellMetadata": {},
     "inputWidgets": {},
     "nuid": "69bdd9c7-f7d8-400a-a633-7676b58f54cb",
     "showTitle": false,
     "tableResultSettingsMap": {},
     "title": ""
    }
   },
   "source": [
    "## 8. Business Value\n",
    "\n",
    "This classification model provides several benefits:\n",
    "\n",
    "- **Targeted Marketing:** Identify customers highly likely to purchase a specific product and target them with relevant promotions or recommendations, optimizing marketing spend.\n",
    "- **Personalization:** Tailor website content or offers based on predicted purchase likelihood. Show a stronger call-to-action (CTA) for likely buyers.\n",
    "- **Inventory Management:** Better forecast demand for specific products based on aggregated purchase predictions.\n",
    "- **Reduce Churn/Abandonment:** For users showing interest but predicted *not* to purchase, intervene with targeted offers or support to prevent abandonment."
   ]
  },
  {
   "cell_type": "markdown",
   "metadata": {
    "application/vnd.databricks.v1+cell": {
     "cellMetadata": {},
     "inputWidgets": {},
     "nuid": "24ddade1-680c-4b91-9b04-2a96fb11d9b1",
     "showTitle": false,
     "tableResultSettingsMap": {},
     "title": ""
    }
   },
   "source": [
    "## 9. Conclusion\n",
    "\n",
    "This notebook demonstrated the process of training and evaluating a Random Forest classifier for purchase prediction using pre-processed features.\n",
    "\n",
    "- We loaded the training and testing data.\n",
    "- Trained a Random Forest model.\n",
    "- Evaluated its performance using AUC, Accuracy, Precision, Recall, and F1-score.\n",
    "- Visualized the ROC curve to assess discriminative power.\n",
    "- Analyzed feature importances to understand key prediction drivers.\n",
    "\n",
    "**Next Steps:** Proceed to Module 3, Notebook 2 for regression modeling."
   ]
  }
 ],
 "metadata": {
  "application/vnd.databricks.v1+notebook": {
   "computePreferences": null,
   "dashboards": [],
   "environmentMetadata": null,
   "inputWidgetPreferences": null,
   "language": "python",
   "notebookMetadata": {
    "pythonIndentUnit": 2
   },
   "notebookName": "module3_notebook1_binary_classification",
   "widgets": {}
  },
  "kernelspec": {
   "display_name": "Python 3",
   "language": "python",
   "name": "python3"
  },
  "language_info": {
   "name": "python"
  }
 },
 "nbformat": 4,
 "nbformat_minor": 0
}