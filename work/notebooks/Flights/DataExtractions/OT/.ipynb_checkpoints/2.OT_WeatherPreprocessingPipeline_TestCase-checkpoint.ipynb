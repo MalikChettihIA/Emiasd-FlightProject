{
 "cells": [
  {
   "cell_type": "markdown",
   "id": "74d624b5-96ed-4996-bc01-220bf7d77b1d",
   "metadata": {},
   "source": [
    "# Weather Preprocessing"
   ]
  },
  {
   "cell_type": "code",
   "execution_count": 1,
   "id": "4af19e25-f876-4662-a6f6-6556737d3065",
   "metadata": {},
   "outputs": [
    {
     "name": "stdout",
     "output_type": "stream",
     "text": [
      "Starting download from file:///home/jovyan/work/apps/Emiasd-Flight-Data-Analysis.jar\n",
      "Finished download of Emiasd-Flight-Data-Analysis.jar\n",
      "Using cached version of Emiasd-Flight-Data-Analysis.jar\n"
     ]
    }
   ],
   "source": [
    "%AddJar file:///home/jovyan/work/apps/Emiasd-Flight-Data-Analysis.jar"
   ]
  },
  {
   "cell_type": "code",
   "execution_count": 2,
   "id": "bd2565fd-758b-4ad2-b450-8f0eccf32a22",
   "metadata": {},
   "outputs": [
    {
     "data": {
      "text/plain": [
       "args = Array(juniper)\n",
       "spark = org.apache.spark.sql.SparkSession@54cc35e9\n",
       "session = org.apache.spark.sql.SparkSession@54cc35e9\n",
       "configuration = AppConfiguration(local,CommonConfig(42,DataConfig(/home/jovyan/work/data,FileConfig(/home/jovyan/work/data/FLIGHT-3Y/Flights/201201.csv),FileConfig(/home/jovyan/work/data/FLIGHT-3Y/Weather/201201hourly.txt),FileConfig(/home/jovyan/work/data/FLIGHT-3Y/wban_airport_timezone.csv)),OutputConfig(/home/jovyan/work/output,FileConfig(/home/jovyan/work/output/data),FileCo...\n"
      ]
     },
     "metadata": {},
     "output_type": "display_data",
     "source": "user"
    },
    {
     "data": {
      "text/plain": [
       "AppConfiguration(local,CommonConfig(42,DataConfig(/home/jovyan/work/data,FileConfig(/home/jovyan/work/data/FLIGHT-3Y/Flights/201201.csv),FileConfig(/home/jovyan/work/data/FLIGHT-3Y/Weather/201201hourly.txt),FileConfig(/home/jovyan/work/data/FLIGHT-3Y/wban_airport_timezone.csv)),OutputConfig(/home/jovyan/work/output,FileConfig(/home/jovyan/work/output/data),FileCo..."
      ]
     },
     "execution_count": 2,
     "metadata": {},
     "output_type": "execute_result"
    }
   ],
   "source": [
    "import org.apache.spark.sql.SparkSession\n",
    "import com.flightdelay.config.{AppConfiguration, ConfigurationLoader}\n",
    "import com.flightdelay.data.loaders.FlightDataLoader\n",
    "\n",
    "//Env Configuration\n",
    "val args: Array[String] = Array(\"juniper\")\n",
    "\n",
    "val spark = SparkSession.builder()\n",
    "  .config(sc.getConf)\n",
    "  .getOrCreate()\n",
    "\n",
    "// Rendre la session Spark implicite\n",
    "implicit val session = spark\n",
    "implicit val configuration: AppConfiguration = ConfigurationLoader.loadConfiguration(args)"
   ]
  },
  {
   "cell_type": "markdown",
   "id": "f491ef35-a738-421e-89f2-4b2909e946c4",
   "metadata": {},
   "source": [
    "## 1. Chargement Weather Raw DataSet"
   ]
  },
  {
   "cell_type": "code",
   "execution_count": 6,
   "id": "d5bb828b-8abf-4b5d-97c6-1e17dc68ae49",
   "metadata": {},
   "outputs": [
    {
     "data": {
      "text/plain": [
       "rawWeatherPath = /home/jovyan/work/output/common/data/raw_weather.parquet\n",
       "rawWeatherDF = [WBAN: string, Date: string ... 42 more fields]\n"
      ]
     },
     "metadata": {},
     "output_type": "display_data",
     "source": "user"
    },
    {
     "data": {
      "text/plain": [
       "[WBAN: string, Date: string ... 42 more fields]"
      ]
     },
     "execution_count": 6,
     "metadata": {},
     "output_type": "execute_result"
    }
   ],
   "source": [
    "val rawWeatherPath = s\"${configuration.common.output.basePath}/common/data/raw_weather.parquet\"\n",
    "val rawWeatherDF = spark.read.parquet(rawWeatherPath)"
   ]
  },
  {
   "cell_type": "code",
   "execution_count": 7,
   "id": "cd3c501f-cd9c-42f1-9983-253fc55d217e",
   "metadata": {},
   "outputs": [
    {
     "data": {
      "text/plain": [
       "4192912"
      ]
     },
     "execution_count": 7,
     "metadata": {},
     "output_type": "execute_result"
    }
   ],
   "source": [
    "rawWeatherDF.count()"
   ]
  },
  {
   "cell_type": "code",
   "execution_count": 8,
   "id": "6371deef-7f56-4a60-b483-2bb636890c05",
   "metadata": {},
   "outputs": [
    {
     "name": "stdout",
     "output_type": "stream",
     "text": [
      "root\n",
      " |-- WBAN: string (nullable = true)\n",
      " |-- Date: string (nullable = true)\n",
      " |-- Time: string (nullable = true)\n",
      " |-- StationType: integer (nullable = true)\n",
      " |-- SkyCondition: string (nullable = true)\n",
      " |-- SkyConditionFlag: string (nullable = true)\n",
      " |-- Visibility: double (nullable = true)\n",
      " |-- VisibilityFlag: string (nullable = true)\n",
      " |-- WeatherType: string (nullable = true)\n",
      " |-- WeatherTypeFlag: string (nullable = true)\n",
      " |-- DryBulbFarenheit: double (nullable = true)\n",
      " |-- DryBulbFarenheitFlag: string (nullable = true)\n",
      " |-- DryBulbCelsius: double (nullable = true)\n",
      " |-- DryBulbCelsiusFlag: string (nullable = true)\n",
      " |-- WetBulbFarenheit: double (nullable = true)\n",
      " |-- WetBulbFarenheitFlag: string (nullable = true)\n",
      " |-- WetBulbCelsius: double (nullable = true)\n",
      " |-- WetBulbCelsiusFlag: string (nullable = true)\n",
      " |-- DewPointFarenheit: double (nullable = true)\n",
      " |-- DewPointFarenheitFlag: string (nullable = true)\n",
      " |-- DewPointCelsius: double (nullable = true)\n",
      " |-- DewPointCelsiusFlag: string (nullable = true)\n",
      " |-- RelativeHumidity: double (nullable = true)\n",
      " |-- RelativeHumidityFlag: string (nullable = true)\n",
      " |-- WindSpeed: double (nullable = true)\n",
      " |-- WindSpeedFlag: string (nullable = true)\n",
      " |-- WindDirection: double (nullable = true)\n",
      " |-- WindDirectionFlag: string (nullable = true)\n",
      " |-- ValueForWindCharacter: string (nullable = true)\n",
      " |-- ValueForWindCharacterFlag: string (nullable = true)\n",
      " |-- StationPressure: double (nullable = true)\n",
      " |-- StationPressureFlag: string (nullable = true)\n",
      " |-- PressureTendency: string (nullable = true)\n",
      " |-- PressureTendencyFlag: string (nullable = true)\n",
      " |-- PressureChange: double (nullable = true)\n",
      " |-- PressureChangeFlag: string (nullable = true)\n",
      " |-- SeaLevelPressure: string (nullable = true)\n",
      " |-- SeaLevelPressureFlag: string (nullable = true)\n",
      " |-- RecordType: string (nullable = true)\n",
      " |-- RecordTypeFlag: string (nullable = true)\n",
      " |-- HourlyPrecip: string (nullable = true)\n",
      " |-- HourlyPrecipFlag: string (nullable = true)\n",
      " |-- Altimeter: double (nullable = true)\n",
      " |-- AltimeterFlag: string (nullable = true)\n",
      "\n"
     ]
    }
   ],
   "source": [
    "rawWeatherDF.printSchema"
   ]
  },
  {
   "cell_type": "code",
   "execution_count": 10,
   "id": "c37bd4c2-d823-4003-8a87-440a640d9c72",
   "metadata": {},
   "outputs": [
    {
     "name": "stdout",
     "output_type": "stream",
     "text": [
      "+-----+--------+----+-----------+------------+----------+\n",
      "| WBAN|    Date|Time|StationType|SkyCondition|Visibility|\n",
      "+-----+--------+----+-----------+------------+----------+\n",
      "|03011|20120101|0015|          0|         CLR|      10.0|\n",
      "|03011|20120101|0035|          0|         CLR|      10.0|\n",
      "|03011|20120101|0055|          0|         CLR|      10.0|\n",
      "|03011|20120101|0115|          0|         CLR|      10.0|\n",
      "|03011|20120101|0135|          0|         CLR|      10.0|\n",
      "|03011|20120101|0155|          0|         CLR|      10.0|\n",
      "|03011|20120101|0215|          0|         CLR|      10.0|\n",
      "|03011|20120101|0235|          0|         CLR|      10.0|\n",
      "|03011|20120101|0255|          0|         CLR|      10.0|\n",
      "|03011|20120101|0315|          0|         CLR|      10.0|\n",
      "+-----+--------+----+-----------+------------+----------+\n",
      "only showing top 10 rows\n",
      "\n"
     ]
    },
    {
     "data": {
      "text/plain": [
       "weatherColumns = List(WBAN, Date, Time, StationType, SkyCondition, Visibility)\n",
       "weatherData = [WBAN: string, Date: string ... 4 more fields]\n"
      ]
     },
     "metadata": {},
     "output_type": "display_data",
     "source": "user"
    },
    {
     "data": {
      "text/plain": [
       "[WBAN: string, Date: string ... 4 more fields]"
      ]
     },
     "execution_count": 10,
     "metadata": {},
     "output_type": "execute_result"
    }
   ],
   "source": [
    "val weatherColumns = Seq(\n",
    "  \"WBAN\",\n",
    "  \"Date\",\n",
    "  \"Time\",\n",
    "  \"StationType\",\n",
    "  \"SkyCondition\",\n",
    "  \"Visibility\",\n",
    "\n",
    "  /**\"most_critical_sky\",\n",
    "  \"lowest_cloud_height\",\n",
    "  \"ceiling\",\n",
    "  \"num_cloud_layers\",\n",
    "  \"cloud_risk_score\",\n",
    "  \"has_overcast\",\n",
    "  \"has_broken\",\n",
    "  \"has_obscured\",\n",
    "  \"is_clear\",\n",
    "  \"has_low_ceiling\",\n",
    "  \"visibility_miles\",\n",
    "  \"visibility_km\",\n",
    "  \"visibility_category\",\n",
    "  \"visibility_risk_score\",\n",
    "  \"is_low_visibility\",\n",
    "  \"is_very_low_visibility\",\n",
    "  \"visibility_normalized\",\n",
    "  \"visibility_inverse\",\n",
    "  \"weather_severity_index\",\n",
    "  \"is_vfr_conditions\",\n",
    "  \"is_ifr_conditions\",\n",
    "  \"requires_cat_ii\",\n",
    "  \"operations_risk_level\"**/\n",
    ")\n",
    "\n",
    "val weatherData = rawWeatherDF\n",
    "  .select(weatherColumns.head, weatherColumns.tail: _*)\n",
    "weatherData.show(10)\n"
   ]
  },
  {
   "cell_type": "markdown",
   "id": "1131c208-c53a-4595-9591-ca4634a67fb2",
   "metadata": {},
   "source": [
    "# 2. Preprocessing"
   ]
  },
  {
   "cell_type": "code",
   "execution_count": 11,
   "id": "520affc9-d405-49dc-8a48-fe8ec3a26ef9",
   "metadata": {},
   "outputs": [
    {
     "name": "stdout",
     "output_type": "stream",
     "text": [
      "\n",
      "================================================================================\n",
      "[Preprocessing] Weather Data Preprocessing Pipeline - Start\n",
      "================================================================================\n",
      "\n",
      "Loading raw data from parquet:\n",
      "  - Path: /home/jovyan/work/output/common/data/raw_weather.parquet\n",
      "  - Loaded 4192912 raw records\n",
      "\n",
      "Saving preprocessed data to parquet:\n",
      "  - Path: /home/jovyan/work/output/common/data/processed_weather.parquet\n",
      "  - Saved 4192912 preprocessed records\n",
      "\n",
      "================================================================================\n",
      "[Preprocessing] Weather Data Preprocessing Pipeline - End\n",
      "================================================================================\n",
      "\n"
     ]
    },
    {
     "data": {
      "text/plain": [
       "preprocessedWeatherData = [WBAN: string, Date: string ... 65 more fields]\n"
      ]
     },
     "metadata": {},
     "output_type": "display_data",
     "source": "user"
    },
    {
     "data": {
      "text/plain": [
       "[WBAN: string, Date: string ... 65 more fields]"
      ]
     },
     "execution_count": 11,
     "metadata": {},
     "output_type": "execute_result"
    }
   ],
   "source": [
    "import com.flightdelay.data.preprocessing.weather.WeatherPreprocessingPipeline\n",
    "\n",
    "val preprocessedWeatherData = WeatherPreprocessingPipeline.execute()"
   ]
  },
  {
   "cell_type": "code",
   "execution_count": null,
   "id": "056a385e-7f32-4fa8-b5ff-4bcf05193c67",
   "metadata": {},
   "outputs": [],
   "source": [
    "val weatherColumns = Seq(\n",
    "  \"WBAN\",\n",
    "  \"Date\",\n",
    "  \"Time\",\n",
    "  \"StationType\",\n",
    "  \"SkyCondition\",\n",
    "  \"Visibility\",\n",
    "\n",
    "  /**\"most_critical_sky\",\n",
    "  \"lowest_cloud_height\",\n",
    "  \"ceiling\",\n",
    "  \"num_cloud_layers\",\n",
    "  \"cloud_risk_score\",\n",
    "  \"has_overcast\",\n",
    "  \"has_broken\",\n",
    "  \"has_obscured\",\n",
    "  \"is_clear\",\n",
    "  \"has_low_ceiling\",\n",
    "  \"visibility_miles\",\n",
    "  \"visibility_km\",\n",
    "  \"visibility_category\",\n",
    "  \"visibility_risk_score\",\n",
    "  \"is_low_visibility\",\n",
    "  \"is_very_low_visibility\",\n",
    "  \"visibility_normalized\",\n",
    "  \"visibility_inverse\",\n",
    "  \"weather_severity_index\",\n",
    "  \"is_vfr_conditions\",\n",
    "  \"is_ifr_conditions\",\n",
    "  \"requires_cat_ii\",\n",
    "  \"operations_risk_level\"**/\n",
    ")\n",
    "\n",
    "val weatherData = preprocessedWeatherData\n",
    "  .select(weatherColumns.head, weatherColumns.tail: _*)\n",
    "weatherData.show(10)\n"
   ]
  }
 ],
 "metadata": {
  "kernelspec": {
   "display_name": "apache_toree_scala - Scala",
   "language": "scala",
   "name": "apache_toree_scala_scala"
  },
  "language_info": {
   "codemirror_mode": "text/x-scala",
   "file_extension": ".scala",
   "mimetype": "text/x-scala",
   "name": "scala",
   "pygments_lexer": "scala",
   "version": "2.12.15"
  }
 },
 "nbformat": 4,
 "nbformat_minor": 5
}
