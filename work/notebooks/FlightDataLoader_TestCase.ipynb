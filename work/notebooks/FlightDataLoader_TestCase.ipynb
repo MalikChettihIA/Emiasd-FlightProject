{
 "cells": [
  {
   "cell_type": "code",
   "execution_count": 22,
   "id": "bd2565fd-758b-4ad2-b450-8f0eccf32a22",
   "metadata": {},
   "outputs": [
    {
     "data": {
      "text/plain": [
       "spark = org.apache.spark.sql.SparkSession@3da45e15\n"
      ]
     },
     "metadata": {},
     "output_type": "display_data",
     "source": "user"
    },
    {
     "data": {
      "text/plain": [
       "org.apache.spark.sql.SparkSession@3da45e15"
      ]
     },
     "execution_count": 22,
     "metadata": {},
     "output_type": "execute_result"
    }
   ],
   "source": [
    "import org.apache.spark.sql.SparkSession\n",
    "\n",
    "val spark = SparkSession.builder()\n",
    "  .appName(\"Flight Delay Analysis\")\n",
    "  .master(\"local[*]\")\n",
    "  .config(\"spark.jars\", \"../apps/Emiasd-Flight-Data-Analysis.jar\")\n",
    "  .config(\"spark.driver.extraClassPath\", \"../apps/Emiasd-Flight-Data-Analysis.jar\")\n",
    "  .config(\"spark.executor.extraClassPath\", \"../apps/Emiasd-Flight-Data-Analysis.jar\")\n",
    "  .config(\"spark.yarn.dist.jars\", \"../apps/Emiasd-Flight-Data-Analysis.jar\")\n",
    "  .getOrCreate()\n"
   ]
  },
  {
   "cell_type": "code",
   "execution_count": 19,
   "id": "0b06d45b-5b36-4074-a807-046e09511110",
   "metadata": {},
   "outputs": [
    {
     "ename": "Unknown Error",
     "evalue": "<console>:37: error: object flightdelay is not a member of package com\n       import com.flightdelay.data.loaders.FlightDataLoader\n                  ^\n<console>:41: error: not found: value FlightDataLoader\n       val flightData = FlightDataLoader.loadFromFilePath(flightFilePath)\n                        ^\n",
     "output_type": "error",
     "traceback": []
    }
   ],
   "source": [
    "// Cellule 3: Imports (après un petit délai)\n",
    "import com.flightdelay.data.loaders.FlightDataLoader\n",
    "\n",
    "// Cellule 4: Test\n",
    "val flightFilePath = \"../data/FLIGHT-3Y/Flights/201201.csv\"\n",
    "val flightData = FlightDataLoader.loadFromFilePath(flightFilePath)\n",
    "flightData.show(5)"
   ]
  }
 ],
 "metadata": {
  "kernelspec": {
   "display_name": "apache_toree_scala - Scala",
   "language": "scala",
   "name": "apache_toree_scala_scala"
  },
  "language_info": {
   "codemirror_mode": "text/x-scala",
   "file_extension": ".scala",
   "mimetype": "text/x-scala",
   "name": "scala",
   "pygments_lexer": "scala",
   "version": "2.12.15"
  }
 },
 "nbformat": 4,
 "nbformat_minor": 5
}
