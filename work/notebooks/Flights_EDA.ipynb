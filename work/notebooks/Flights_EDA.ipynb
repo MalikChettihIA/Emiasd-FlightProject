{
 "cells": [
  {
   "cell_type": "markdown",
   "id": "f1dd508e-2ddb-42ca-bb83-823012e933ce",
   "metadata": {},
   "source": [
    "* Author: Malik Chettih\n",
    "* Affiliation: EMIASD - Executive Master Intelligence artificielle\n",
    "& science des données\n",
    "* Email: malik.chettih@dauphine.eu\n",
    "* Formation Continue Univ. Paris Dauphine, January 2025."
   ]
  },
  {
   "cell_type": "markdown",
   "id": "b5369c0b-11a3-40e5-a603-2febf6af80e0",
   "metadata": {},
   "source": [
    "# Flights - Analyse des données\n",
    "\n",
    "## Part 1 - Pre-requis\n",
    "\n",
    "### 1.1 Global Variables"
   ]
  },
  {
   "cell_type": "code",
   "execution_count": 1,
   "id": "2592a19b-fa5d-46f0-9cc2-7ef934e04e8d",
   "metadata": {},
   "outputs": [
    {
     "data": {
      "text/plain": [
       "path = ../data/FLIGHT-3Y/Flights/\n",
       "fileName = 201201.csv\n"
      ]
     },
     "metadata": {},
     "output_type": "display_data",
     "source": "user"
    },
    {
     "data": {
      "text/plain": [
       "201201.csv"
      ]
     },
     "execution_count": 1,
     "metadata": {},
     "output_type": "execute_result"
    }
   ],
   "source": [
    "val path = \"../data/FLIGHT-3Y/Flights/\"\n",
    "val fileName = \"201201.csv\"\n",
    "//val fileName = \"2012*.csv\"\n",
    "//val fileName = \"*.csv\""
   ]
  },
  {
   "cell_type": "markdown",
   "id": "30246c66-e140-4061-8b4d-1a63cc5ee593",
   "metadata": {},
   "source": [
    "### 1.2 Global parameters"
   ]
  },
  {
   "cell_type": "code",
   "execution_count": 2,
   "id": "582e1452-79ed-43c2-8471-6ce21b5862ce",
   "metadata": {},
   "outputs": [
    {
     "data": {
      "text/plain": [
       "_label = label\n",
       "_prefix = indexed_\n",
       "_featuresVec = featuresVec\n",
       "_featuresVecIndex = features\n",
       "_text = textType\n",
       "_numeric = numericType\n",
       "_date = dateType\n",
       "_other = otherType\n"
      ]
     },
     "metadata": {},
     "output_type": "display_data",
     "source": "user"
    },
    {
     "data": {
      "text/plain": [
       "otherType"
      ]
     },
     "execution_count": 2,
     "metadata": {},
     "output_type": "execute_result"
    }
   ],
   "source": [
    "//pipeline \n",
    "val _label = \"label\"\n",
    "val _prefix = \"indexed_\"\n",
    "val _featuresVec = \"featuresVec\"\n",
    "val _featuresVecIndex = \"features\"\n",
    "\n",
    "//metadata extraction\n",
    "val _text = \"textType\"\n",
    "val _numeric = \"numericType\"\n",
    "val _date = \"dateType\"\n",
    "val _other = \"otherType\""
   ]
  },
  {
   "cell_type": "markdown",
   "id": "05e690e6-2c19-4850-a401-1e59fc965338",
   "metadata": {},
   "source": [
    "### 1.3 Global imports"
   ]
  },
  {
   "cell_type": "code",
   "execution_count": 3,
   "id": "2b6edf37-445c-4740-a57a-2beea4061806",
   "metadata": {},
   "outputs": [],
   "source": [
    "import org.apache.spark.sql.functions._\n",
    "import org.apache.spark.ml.classification.{DecisionTreeClassificationModel, DecisionTreeClassifier}\n",
    "import org.apache.spark.ml.evaluation._\n",
    "import org.apache.spark.ml.tuning.{CrossValidator, ParamGridBuilder}\n",
    "\n",
    "import org.apache.spark.ml.feature.{StringIndexer, VectorAssembler, VectorIndexer}\n",
    "import  org.apache.spark.ml.Pipeline \n",
    "\n",
    "import org.apache.spark.sql.DataFrame\n",
    "import org.apache.spark.sql.functions.col\n",
    "//import spark.implicits._"
   ]
  },
  {
   "cell_type": "markdown",
   "id": "644c447f-f16d-4804-a54d-cb09ec44c33a",
   "metadata": {},
   "source": [
    "### 1.4 Data Transformation Pipeline"
   ]
  },
  {
   "cell_type": "code",
   "execution_count": 4,
   "id": "21f6fba3-fd93-47e3-aa7a-4eb30a2df031",
   "metadata": {},
   "outputs": [
    {
     "data": {
      "text/plain": [
       "AutoPipeline: (textCols: Array[String], numericCols: Array[String], target: String, maxCat: Int, handleInvalid: String)org.apache.spark.ml.Pipeline\n"
      ]
     },
     "metadata": {},
     "output_type": "display_data",
     "source": "user"
    }
   ],
   "source": [
    "def AutoPipeline(textCols: Array[String], numericCols: Array[String], target: String, maxCat: Int, handleInvalid: String):Pipeline = {\n",
    "  //StringIndexer\n",
    "  val inAttsNames = textCols ++ Array(target)\n",
    "  val outAttsNames = inAttsNames.map(_prefix+_)\n",
    "\n",
    "  val stringIndexer = new StringIndexer()\n",
    "                              .setInputCols(inAttsNames)\n",
    "                              .setOutputCols(outAttsNames)\n",
    "                              .setHandleInvalid(handleInvalid)\n",
    "  \n",
    "  val features = outAttsNames.filterNot(_.contains(target))++numericCols\n",
    "  \n",
    "  //vectorAssembler\n",
    "  val vectorAssembler = new VectorAssembler()\n",
    "                            .setInputCols(features)\n",
    "                            .setOutputCol(_featuresVec)\n",
    "                            .setHandleInvalid(handleInvalid)\n",
    "  \n",
    "  //VectorIndexer\n",
    "  val vectorIndexer = new VectorIndexer()\n",
    "                            .setInputCol(_featuresVec)\n",
    "                            .setOutputCol(_featuresVecIndex)\n",
    "                            .setMaxCategories(maxCat)\n",
    "                            .setHandleInvalid(handleInvalid)\n",
    "  \n",
    "  val pipeline = new Pipeline()\n",
    "                    .setStages(Array(stringIndexer,vectorAssembler,vectorIndexer))\n",
    "  \n",
    "  return pipeline\n",
    "}\n"
   ]
  },
  {
   "cell_type": "markdown",
   "id": "9817fca5-2561-46f2-9822-9f340805240a",
   "metadata": {},
   "source": [
    "%md\n",
    "### 1.5 Data quality metrics collection"
   ]
  },
  {
   "cell_type": "code",
   "execution_count": 5,
   "id": "f609cf82-cb04-48b4-bb7e-1f409336055b",
   "metadata": {},
   "outputs": [
    {
     "data": {
      "text/plain": [
       "defined class MetaData\n"
      ]
     },
     "metadata": {},
     "output_type": "display_data",
     "source": "user"
    },
    {
     "data": {
      "text/plain": [
       "whichType: (origType: String)String\n",
       "MDCompletenessDV: (data: org.apache.spark.sql.DataFrame)org.apache.spark.sql.DataFrame\n",
       "SetMDColType: (metaData: org.apache.spark.sql.DataFrame, name: String, colType: String)org.apache.spark.sql.DataFrame\n"
      ]
     },
     "metadata": {},
     "output_type": "display_data",
     "source": "user"
    }
   ],
   "source": [
    "case class MetaData(name: String, origType: String, colType: String, compRatio: Float, nbDistinctValues: Long)\n",
    "\n",
    "//considers only three types: numeric, textual and other\n",
    "def whichType(origType: String) = origType match {\n",
    "  case \"StringType\" => _text\n",
    "  case \"IntegerType\"|\"DoubleType\" => _numeric\n",
    "  case \"DateType\" => _date\n",
    "  case _ => _other\n",
    "}\n",
    "\n",
    "def MDCompletenessDV(data: DataFrame): DataFrame = {\n",
    "  val total_count = data.count()\n",
    "  val res = data.dtypes.map{\n",
    "    case(colName, colType)=>MetaData(colName, \n",
    "                                      colType, \n",
    "                                      whichType(colType),\n",
    "                                      data.filter(col(colName).isNotNull).count.toFloat/total_count,\n",
    "                                      data.select(colName).distinct().count)\n",
    "  }.toList\n",
    "  val metadata = res.toDS().toDF()\n",
    "  metadata.persist()  \n",
    "  metadata.count()\n",
    "  return metadata\n",
    "}\n",
    "\n",
    "def SetMDColType(metaData: DataFrame, name: String, colType: String): DataFrame = {\n",
    "  val metaData_updated = metaData.withColumn(\n",
    "    \"colType\",\n",
    "    when(col(\"name\") === name, colType)\n",
    "    .otherwise(col(\"colType\"))\n",
    "  )\n",
    "  return metaData_updated\n",
    "}"
   ]
  },
  {
   "cell_type": "markdown",
   "id": "c23bf84c-191c-4732-a112-cefd84915d64",
   "metadata": {},
   "source": [
    "## Part 2 - Data Loading"
   ]
  },
  {
   "cell_type": "markdown",
   "id": "1ab95a8d-5179-4b83-9a87-0f4a5778f52b",
   "metadata": {},
   "source": [
    "### 2.1 Chargement des données"
   ]
  },
  {
   "cell_type": "code",
   "execution_count": 6,
   "id": "8c57ef2b-0250-498a-b25b-1e082fadebe3",
   "metadata": {},
   "outputs": [
    {
     "data": {
      "text/plain": [
       "spark = org.apache.spark.sql.SparkSession@16040fff\n",
       "flights_original_data = [FL_DATE: date, OP_CARRIER_AIRLINE_ID: int ... 11 more fields]\n"
      ]
     },
     "metadata": {},
     "output_type": "display_data",
     "source": "user"
    },
    {
     "data": {
      "text/plain": [
       "486133"
      ]
     },
     "execution_count": 6,
     "metadata": {},
     "output_type": "execute_result"
    }
   ],
   "source": [
    "import org.apache.spark.sql.SparkSession\n",
    "\n",
    "val spark = SparkSession.builder()\n",
    "  .config(sc.getConf)\n",
    "  .getOrCreate()\n",
    "\n",
    "val flights_original_data = spark.read.format(\"csv\")\n",
    "            .option(\"header\", \"true\")\n",
    "            .option(\"inferSchema\", \"true\")\n",
    "            .load(path+fileName)\n",
    "            .persist()\n",
    "flights_original_data.count()"
   ]
  },
  {
   "cell_type": "code",
   "execution_count": 7,
   "id": "07699a75-edc5-415b-b62d-02d5396a3352",
   "metadata": {
    "scrolled": true
   },
   "outputs": [
    {
     "name": "stdout",
     "output_type": "stream",
     "text": [
      "root\n",
      " |-- FL_DATE: date (nullable = true)\n",
      " |-- OP_CARRIER_AIRLINE_ID: integer (nullable = true)\n",
      " |-- OP_CARRIER_FL_NUM: integer (nullable = true)\n",
      " |-- ORIGIN_AIRPORT_ID: integer (nullable = true)\n",
      " |-- DEST_AIRPORT_ID: integer (nullable = true)\n",
      " |-- CRS_DEP_TIME: integer (nullable = true)\n",
      " |-- ARR_DELAY_NEW: double (nullable = true)\n",
      " |-- CANCELLED: double (nullable = true)\n",
      " |-- DIVERTED: double (nullable = true)\n",
      " |-- CRS_ELAPSED_TIME: double (nullable = true)\n",
      " |-- WEATHER_DELAY: double (nullable = true)\n",
      " |-- NAS_DELAY: double (nullable = true)\n",
      " |-- _c12: string (nullable = true)\n",
      "\n"
     ]
    }
   ],
   "source": [
    "flights_original_data.printSchema"
   ]
  },
  {
   "cell_type": "code",
   "execution_count": 19,
   "id": "ff9f68d4-b37d-4ceb-a703-674dcd365d3f",
   "metadata": {},
   "outputs": [
    {
     "name": "stdout",
     "output_type": "stream",
     "text": [
      "+----------+---------------------+-----------------+-----------------+---------------+------------+-------------+---------+--------+----------------+-------------+---------+----+\n",
      "|   FL_DATE|OP_CARRIER_AIRLINE_ID|OP_CARRIER_FL_NUM|ORIGIN_AIRPORT_ID|DEST_AIRPORT_ID|CRS_DEP_TIME|ARR_DELAY_NEW|CANCELLED|DIVERTED|CRS_ELAPSED_TIME|WEATHER_DELAY|NAS_DELAY|_c12|\n",
      "+----------+---------------------+-----------------+-----------------+---------------+------------+-------------+---------+--------+----------------+-------------+---------+----+\n",
      "|2012-01-01|                20366|             4426|            15370|          12266|         845|          0.0|      0.0|     0.0|            99.0|         NULL|     NULL|NULL|\n",
      "|2012-01-01|                20366|             4427|            12266|          15370|         858|          0.0|      0.0|     0.0|            88.0|         NULL|     NULL|NULL|\n",
      "|2012-01-01|                20366|             4427|            15370|          12266|        1051|          0.0|      0.0|     0.0|            89.0|         NULL|     NULL|NULL|\n",
      "|2012-01-01|                20366|             4428|            12266|          15370|        1125|         31.0|      0.0|     0.0|            87.0|          0.0|      2.0|NULL|\n",
      "|2012-01-01|                20366|             4428|            15370|          12266|        1319|         21.0|      0.0|     0.0|            96.0|          0.0|      0.0|NULL|\n",
      "|2012-01-01|                20366|             4429|            12266|          15370|        1328|          0.0|      0.0|     0.0|            94.0|         NULL|     NULL|NULL|\n",
      "|2012-01-01|                20366|             4429|            15370|          12266|        1527|          0.0|      0.0|     0.0|            97.0|         NULL|     NULL|NULL|\n",
      "|2012-01-01|                20366|             4430|            12266|          15370|        1449|         10.0|      0.0|     0.0|            89.0|         NULL|     NULL|NULL|\n",
      "|2012-01-01|                20366|             4430|            15370|          12266|        1643|          0.0|      0.0|     0.0|            98.0|         NULL|     NULL|NULL|\n",
      "|2012-01-01|                20366|             4431|            12266|          15370|        1920|         55.0|      0.0|     0.0|            91.0|          0.0|      0.0|NULL|\n",
      "+----------+---------------------+-----------------+-----------------+---------------+------------+-------------+---------+--------+----------------+-------------+---------+----+\n",
      "only showing top 10 rows\n",
      "\n"
     ]
    }
   ],
   "source": [
    "flights_original_data.show(10)"
   ]
  },
  {
   "cell_type": "markdown",
   "id": "9e90cc36-8a2a-437b-8fd2-9c5ce38251db",
   "metadata": {},
   "source": [
    "### 2.2 Collecting data quality metrics"
   ]
  },
  {
   "cell_type": "code",
   "execution_count": 22,
   "id": "c89566af-04e7-4dbe-9977-6e40aaa9d2e7",
   "metadata": {},
   "outputs": [
    {
     "name": "stdout",
     "output_type": "stream",
     "text": [
      "+--------------------+-----------+-----------+----------+----------------+\n",
      "|                name|   origType|    colType| compRatio|nbDistinctValues|\n",
      "+--------------------+-----------+-----------+----------+----------------+\n",
      "|       ARR_DELAY_NEW| DoubleType|numericType| 0.9833214|             549|\n",
      "|           CANCELLED| DoubleType|numericType|       1.0|               2|\n",
      "|        CRS_DEP_TIME|IntegerType|numericType|       1.0|            1153|\n",
      "|    CRS_ELAPSED_TIME| DoubleType|numericType|       1.0|             419|\n",
      "|     DEST_AIRPORT_ID|IntegerType|numericType|       1.0|             287|\n",
      "|            DIVERTED| DoubleType|numericType|       1.0|               2|\n",
      "|             FL_DATE|   DateType|   dateType|       1.0|              31|\n",
      "|           NAS_DELAY| DoubleType|numericType|0.14586131|             283|\n",
      "|OP_CARRIER_AIRLIN...|IntegerType|numericType|       1.0|              15|\n",
      "|   OP_CARRIER_FL_NUM|IntegerType|numericType|       1.0|            6237|\n",
      "|   ORIGIN_AIRPORT_ID|IntegerType|numericType|       1.0|             287|\n",
      "|       WEATHER_DELAY| DoubleType|numericType|0.14586131|             288|\n",
      "|                _c12| StringType|   textType|       0.0|               1|\n",
      "+--------------------+-----------+-----------+----------+----------------+\n",
      "\n"
     ]
    },
    {
     "data": {
      "text/plain": [
       "flights_original_metadata = [name: string, origType: string ... 3 more fields]\n"
      ]
     },
     "metadata": {},
     "output_type": "display_data",
     "source": "user"
    },
    {
     "data": {
      "text/plain": [
       "[name: string, origType: string ... 3 more fields]"
      ]
     },
     "execution_count": 22,
     "metadata": {},
     "output_type": "execute_result"
    }
   ],
   "source": [
    "var flights_original_metadata = MDCompletenessDV(flights_original_data)\n",
    "flights_original_metadata.orderBy($\"name\".asc).show()"
   ]
  },
  {
   "cell_type": "code",
   "execution_count": 20,
   "id": "be70bd91-3893-4f0e-b5df-c3fb97129a87",
   "metadata": {},
   "outputs": [
    {
     "data": {
      "text/plain": [
       "flights_original_metadata = [name: string, origType: string ... 3 more fields]\n"
      ]
     },
     "metadata": {},
     "output_type": "display_data",
     "source": "user"
    },
    {
     "name": "stdout",
     "output_type": "stream",
     "text": [
      "+--------------------+-----------+-----------+----------+----------------+\n",
      "|                name|   origType|    colType| compRatio|nbDistinctValues|\n",
      "+--------------------+-----------+-----------+----------+----------------+\n",
      "|                _c12| StringType|   textType|       0.0|               1|\n",
      "|       WEATHER_DELAY| DoubleType|numericType|0.14586131|             288|\n",
      "|   ORIGIN_AIRPORT_ID|IntegerType|numericType|       1.0|             287|\n",
      "|   OP_CARRIER_FL_NUM|IntegerType|numericType|       1.0|            6237|\n",
      "|OP_CARRIER_AIRLIN...|IntegerType|numericType|       1.0|              15|\n",
      "|           NAS_DELAY| DoubleType|numericType|0.14586131|             283|\n",
      "|             FL_DATE|   DateType|   dateType|       1.0|              31|\n",
      "|            DIVERTED| DoubleType|numericType|       1.0|               2|\n",
      "|     DEST_AIRPORT_ID|IntegerType|numericType|       1.0|             287|\n",
      "|    CRS_ELAPSED_TIME| DoubleType|numericType|       1.0|             419|\n",
      "|        CRS_DEP_TIME|IntegerType|numericType|       1.0|            1153|\n",
      "|           CANCELLED| DoubleType|numericType|       1.0|               2|\n",
      "|       ARR_DELAY_NEW| DoubleType|numericType| 0.9833214|             549|\n",
      "+--------------------+-----------+-----------+----------+----------------+\n",
      "\n"
     ]
    },
    {
     "data": {
      "text/plain": [
       "[name: string, origType: string ... 3 more fields]"
      ]
     },
     "execution_count": 20,
     "metadata": {},
     "output_type": "execute_result"
    }
   ],
   "source": [
    "var flights_original_metadata = MDCompletenessDV(flights_original_data)\n",
    "flights_original_metadata.orderBy($\"compRatio\".desc).show()"
   ]
  },
  {
   "cell_type": "markdown",
   "id": "4888b40b-cce8-4527-8abb-b5bcaa2d7e8a",
   "metadata": {},
   "source": [
    "### 2.4 Data Description\n",
    "\n",
    "\n",
    "| Colonne                   | Description                                                                 | Type           | Utilité en ML                  |\n",
    "|---------------------------|-----------------------------------------------------------------------------|----------------|--------------------------------|\n",
    "| `FL_DATE`                | Date du vol (format `YYYY-MM-DD`)                                           | `Date`         | ✅ Pour extraire jour/semaine  |\n",
    "| `OP_CARRIER_AIRLINE_ID` | ID numérique de la compagnie aérienne                                        | `Int`          | ✅ Variable catégorielle       |\n",
    "| `OP_CARRIER_FL_NUM`     | Numéro de vol dans la compagnie                                              | `String`       | 🔶 Optionnel (peut être bruit) |\n",
    "| `ORIGIN_AIRPORT_ID`     | ID de l’aéroport d’origine                                                   | `Int`          | ✅ Variable catégorielle       |\n",
    "| `DEST_AIRPORT_ID`       | ID de l’aéroport de destination                                              | `Int`          | ✅ Variable catégorielle       |\n",
    "| `CRS_DEP_TIME`          | Heure de départ prévue (`hhmm`, ex: \"0845\")                                  | `String`/`Int` | ✅ Extraire tranche horaire    |\n",
    "| `ARR_DELAY_NEW`         | Retard à l’arrivée (≥ 0)                                                     | `Float`        | 🎯 **Label cible**             |\n",
    "| `CANCELLED`             | Indique si le vol est annulé (1 = oui)                                       | `Float` (0/1)  | ❌ À filtrer (inutile en ML)   |\n",
    "| `DIVERTED`              | Indique si le vol est détourné (1 = oui)                                     | `Float` (0/1)  | ❌ À filtrer (inutile en ML)   |\n",
    "| `CRS_ELAPSED_TIME`      | Durée de vol planifiée en minutes                                            | `Float`        | ✅ Variable continue           |\n",
    "| `WEATHER_DELAY`         | Retard dû à la météo (en minutes)                                            | `Float`        | 🔶 Optionnel pour post-analyse |\n",
    "| `NAS_DELAY`             | Retard dû au système de navigation aérienne (ATC, météo modérée, congestion) | `Float`        | 🔶 Optionnel pour analyse cause|\n"
   ]
  },
  {
   "cell_type": "code",
   "execution_count": 28,
   "id": "212b7882-fd88-4e5b-b21f-fc65b2d423b1",
   "metadata": {},
   "outputs": [
    {
     "name": "stdout",
     "output_type": "stream",
     "text": [
      "+-------+---------------------+------------------+------------------+------------------+------------------+------------------+-------------------+--------------------+-----------------+------------------+------------------+----+\n",
      "|summary|OP_CARRIER_AIRLINE_ID| OP_CARRIER_FL_NUM| ORIGIN_AIRPORT_ID|   DEST_AIRPORT_ID|      CRS_DEP_TIME|     ARR_DELAY_NEW|          CANCELLED|            DIVERTED| CRS_ELAPSED_TIME|     WEATHER_DELAY|         NAS_DELAY|_c12|\n",
      "+-------+---------------------+------------------+------------------+------------------+------------------+------------------+-------------------+--------------------+-----------------+------------------+------------------+----+\n",
      "|  count|              4142522|           4142522|           4142522|           4142522|           4142521|           4080958|            4142522|             4142522|          4142518|            758808|            758808|   0|\n",
      "|   mean|   20028.678230073372|2309.6108691758304|12658.057500479177|12657.986524392629|1328.1167711642258|12.033975845867564|0.01256505095205288|0.002296427152348...|132.9191243103832|2.6196784957459593|14.149162897597284|NULL|\n",
      "| stddev|   393.31911967809816|1879.9599728279966|1521.9310379329695|1521.8432170133242| 467.7333098419477| 34.56234068360772|0.11138749230368047|0.047866001794218765|72.33022427315666| 18.00261794121102|29.120476233195937|NULL|\n",
      "|    min|                19393|                 1|             10135|             10135|                 4|               0.0|                0.0|                 0.0|             15.0|               0.0|               0.0|NULL|\n",
      "|    max|                21171|              9221|             16218|             16218|              2359|            1875.0|                1.0|                 1.0|           1865.0|            1257.0|            1287.0|NULL|\n",
      "+-------+---------------------+------------------+------------------+------------------+------------------+------------------+-------------------+--------------------+-----------------+------------------+------------------+----+\n",
      "\n"
     ]
    }
   ],
   "source": [
    "flights_original_data.describe().show()"
   ]
  },
  {
   "cell_type": "markdown",
   "id": "7359e081-5c0c-4830-ac19-bcfdac180d9e",
   "metadata": {},
   "source": [
    "## Part 3 - Feature Engineering\n",
    "\n",
    "### 3.1 Data Cleaning\n",
    "\n",
    "#### 3.1.1 Drop Duplicates"
   ]
  },
  {
   "cell_type": "code",
   "execution_count": 23,
   "id": "7f53a99b-0ed8-4f07-8763-32ff6c3be128",
   "metadata": {},
   "outputs": [
    {
     "name": "stdout",
     "output_type": "stream",
     "text": [
      "(Total records count without dropping duplicates:,486133)(Total records count after dropping duplicates:,486133)"
     ]
    },
    {
     "data": {
      "text/plain": [
       "flights_data = [FL_DATE: date, OP_CARRIER_AIRLINE_ID: int ... 11 more fields]\n"
      ]
     },
     "metadata": {},
     "output_type": "display_data",
     "source": "user"
    },
    {
     "data": {
      "text/plain": [
       "[FL_DATE: date, OP_CARRIER_AIRLINE_ID: int ... 11 more fields]"
      ]
     },
     "execution_count": 23,
     "metadata": {},
     "output_type": "execute_result"
    }
   ],
   "source": [
    "println(\"Total records count without dropping duplicates:\", flights_original_data.count())\n",
    "val flights_data = flights_original_data.dropDuplicates()\n",
    "println(\"Total records count after dropping duplicates:\", flights_data.count())"
   ]
  },
  {
   "cell_type": "code",
   "execution_count": null,
   "id": "7f5fb51c-1a86-4e5b-ba9e-8bd177fc6181",
   "metadata": {},
   "outputs": [],
   "source": []
  }
 ],
 "metadata": {
  "kernelspec": {
   "display_name": "apache_toree_scala - Scala",
   "language": "scala",
   "name": "apache_toree_scala_scala"
  },
  "language_info": {
   "codemirror_mode": "text/x-scala",
   "file_extension": ".scala",
   "mimetype": "text/x-scala",
   "name": "scala",
   "pygments_lexer": "scala",
   "version": "2.12.15"
  }
 },
 "nbformat": 4,
 "nbformat_minor": 5
}
