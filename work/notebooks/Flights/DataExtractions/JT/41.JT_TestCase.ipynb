{
 "cells": [
  {
   "cell_type": "markdown",
   "id": "88b9b4e7-f711-4832-8798-501c1b052275",
   "metadata": {},
   "source": [
    "# Jointure MapReduce"
   ]
  },
  {
   "cell_type": "code",
   "execution_count": 2,
   "id": "d243dd12-14c2-459d-9cbf-032e0ad38481",
   "metadata": {},
   "outputs": [
    {
     "name": "stdout",
     "output_type": "stream",
     "text": [
      "Using cached version of Emiasd-Flight-Data-Analysis.jar\n",
      "Using cached version of Emiasd-Flight-Data-Analysis.jar\n"
     ]
    }
   ],
   "source": [
    "%AddJar file:///home/jovyan/work/apps/Emiasd-Flight-Data-Analysis.jar"
   ]
  },
  {
   "cell_type": "code",
   "execution_count": 3,
   "id": "c1467791-f615-4d99-a001-5b50ede6638a",
   "metadata": {},
   "outputs": [
    {
     "data": {
      "text/plain": [
       "args = Array(juniper)\n",
       "spark = org.apache.spark.sql.SparkSession@31131074\n",
       "session = org.apache.spark.sql.SparkSession@31131074\n",
       "configuration = AppConfiguration(local,CommonConfig(42,DataConfig(/home/jovyan/work/data,FileConfig(/home/jovyan/work/data/FLIGHT-3Y/Flights/201201.csv),FileConfig(/home/jovyan/work/data/FLIGHT-3Y/Weather/201201hourly.txt),FileConfig(/home/jovyan/work/data/FLIGHT-3Y/wban_airport_timezone.csv)),OutputConfig(/home/jovyan/work/output,FileConfig(/home/jovyan/work/output/data),FileCo...\n"
      ]
     },
     "metadata": {},
     "output_type": "display_data",
     "source": "user"
    },
    {
     "data": {
      "text/plain": [
       "AppConfiguration(local,CommonConfig(42,DataConfig(/home/jovyan/work/data,FileConfig(/home/jovyan/work/data/FLIGHT-3Y/Flights/201201.csv),FileConfig(/home/jovyan/work/data/FLIGHT-3Y/Weather/201201hourly.txt),FileConfig(/home/jovyan/work/data/FLIGHT-3Y/wban_airport_timezone.csv)),OutputConfig(/home/jovyan/work/output,FileConfig(/home/jovyan/work/output/data),FileCo..."
      ]
     },
     "execution_count": 3,
     "metadata": {},
     "output_type": "execute_result"
    }
   ],
   "source": [
    "import org.apache.spark.sql.SparkSession\n",
    "import com.flightdelay.config.{AppConfiguration, ConfigurationLoader}\n",
    "import com.flightdelay.data.loaders.FlightDataLoader\n",
    "\n",
    "//Env Configuration\n",
    "val args: Array[String] = Array(\"juniper\")\n",
    "\n",
    "val spark = SparkSession.builder()\n",
    "  .config(sc.getConf)\n",
    "  .getOrCreate()\n",
    "\n",
    "// Rendre la session Spark implicite\n",
    "implicit val session = spark\n",
    "implicit val configuration: AppConfiguration = ConfigurationLoader.loadConfiguration(args)"
   ]
  },
  {
   "cell_type": "markdown",
   "id": "b0e703a9-0253-4882-9f53-833a7387c631",
   "metadata": {},
   "source": [
    "# Chargement Flight et Weather"
   ]
  },
  {
   "cell_type": "code",
   "execution_count": 4,
   "id": "ca355c08-04d4-45f5-afb7-264dd6cd5d13",
   "metadata": {},
   "outputs": [
    {
     "data": {
      "text/plain": [
       "processedFlightPath = /home/jovyan/work/output/common/data/processed_flights.parquet\n",
       "flightDF = [FL_DATE: date, OP_CARRIER_AIRLINE_ID: int ... 97 more fields]\n",
       "processedWeatherPath = /home/jovyan/work/output/common/data/processed_weather.parquet\n",
       "weatherDF = [WBAN: string, Date: date ... 65 more fields]\n"
      ]
     },
     "metadata": {},
     "output_type": "display_data",
     "source": "user"
    },
    {
     "data": {
      "text/plain": [
       "[WBAN: string, Date: date ... 65 more fields]"
      ]
     },
     "execution_count": 4,
     "metadata": {},
     "output_type": "execute_result"
    }
   ],
   "source": [
    "// Chargement de Flight Data\n",
    "val processedFlightPath = s\"${configuration.common.output.basePath}/common/data/processed_flights.parquet\"\n",
    "val flightDF = spark.read.parquet(processedFlightPath)\n",
    "\n",
    "val processedWeatherPath = s\"${configuration.common.output.basePath}/common/data/processed_weather.parquet\"\n",
    "val weatherDF = spark.read.parquet(processedWeatherPath)\n",
    "\n"
   ]
  },
  {
   "cell_type": "code",
   "execution_count": 5,
   "id": "fb98d7f3-738d-43c6-af90-849ce85a559b",
   "metadata": {},
   "outputs": [
    {
     "data": {
      "text/plain": [
       "489665"
      ]
     },
     "execution_count": 5,
     "metadata": {},
     "output_type": "execute_result"
    }
   ],
   "source": [
    "weatherDF.count()"
   ]
  },
  {
   "cell_type": "code",
   "execution_count": 6,
   "id": "3ec043ad-4a1b-4518-b797-159812d35102",
   "metadata": {},
   "outputs": [
    {
     "name": "stdout",
     "output_type": "stream",
     "text": [
      "root\n",
      " |-- WBAN: string (nullable = true)\n",
      " |-- Date: date (nullable = true)\n",
      " |-- Time: string (nullable = true)\n",
      " |-- StationType: integer (nullable = true)\n",
      " |-- SkyCondition: string (nullable = true)\n",
      " |-- SkyConditionFlag: string (nullable = true)\n",
      " |-- Visibility: double (nullable = true)\n",
      " |-- VisibilityFlag: string (nullable = true)\n",
      " |-- WeatherType: string (nullable = true)\n",
      " |-- WeatherTypeFlag: string (nullable = true)\n",
      " |-- DryBulbFarenheit: double (nullable = true)\n",
      " |-- DryBulbFarenheitFlag: string (nullable = true)\n",
      " |-- DryBulbCelsius: double (nullable = true)\n",
      " |-- DryBulbCelsiusFlag: string (nullable = true)\n",
      " |-- WetBulbFarenheit: double (nullable = true)\n",
      " |-- WetBulbFarenheitFlag: string (nullable = true)\n",
      " |-- WetBulbCelsius: double (nullable = true)\n",
      " |-- WetBulbCelsiusFlag: string (nullable = true)\n",
      " |-- DewPointFarenheit: double (nullable = true)\n",
      " |-- DewPointFarenheitFlag: string (nullable = true)\n",
      " |-- DewPointCelsius: double (nullable = true)\n",
      " |-- DewPointCelsiusFlag: string (nullable = true)\n",
      " |-- RelativeHumidity: double (nullable = true)\n",
      " |-- RelativeHumidityFlag: string (nullable = true)\n",
      " |-- WindSpeed: double (nullable = true)\n",
      " |-- WindSpeedFlag: string (nullable = true)\n",
      " |-- WindDirection: double (nullable = true)\n",
      " |-- WindDirectionFlag: string (nullable = true)\n",
      " |-- ValueForWindCharacter: string (nullable = true)\n",
      " |-- ValueForWindCharacterFlag: string (nullable = true)\n",
      " |-- StationPressure: double (nullable = true)\n",
      " |-- StationPressureFlag: string (nullable = true)\n",
      " |-- PressureTendency: string (nullable = true)\n",
      " |-- PressureTendencyFlag: string (nullable = true)\n",
      " |-- PressureChange: double (nullable = true)\n",
      " |-- PressureChangeFlag: string (nullable = true)\n",
      " |-- SeaLevelPressure: string (nullable = true)\n",
      " |-- SeaLevelPressureFlag: string (nullable = true)\n",
      " |-- RecordType: string (nullable = true)\n",
      " |-- RecordTypeFlag: string (nullable = true)\n",
      " |-- HourlyPrecip: string (nullable = true)\n",
      " |-- HourlyPrecipFlag: string (nullable = true)\n",
      " |-- Altimeter: double (nullable = true)\n",
      " |-- AltimeterFlag: string (nullable = true)\n",
      " |-- feature_most_critical_sky: string (nullable = true)\n",
      " |-- feature_lowest_cloud_height: integer (nullable = true)\n",
      " |-- feature_ceiling: integer (nullable = true)\n",
      " |-- feature_num_cloud_layers: integer (nullable = true)\n",
      " |-- feature_cloud_risk_score: double (nullable = true)\n",
      " |-- feature_has_overcast: boolean (nullable = true)\n",
      " |-- feature_has_broken: boolean (nullable = true)\n",
      " |-- feature_has_obscured: boolean (nullable = true)\n",
      " |-- feature_is_clear: boolean (nullable = true)\n",
      " |-- feature_has_low_ceiling: boolean (nullable = true)\n",
      " |-- feature_visibility_miles: double (nullable = true)\n",
      " |-- feature_visibility_km: double (nullable = true)\n",
      " |-- feature_visibility_category: string (nullable = true)\n",
      " |-- feature_visibility_risk_score: double (nullable = true)\n",
      " |-- feature_is_low_visibility: boolean (nullable = true)\n",
      " |-- feature_is_very_low_visibility: boolean (nullable = true)\n",
      " |-- feature_visibility_normalized: double (nullable = true)\n",
      " |-- feature_visibility_inverse: double (nullable = true)\n",
      " |-- feature_weather_severity_index: double (nullable = true)\n",
      " |-- feature_is_vfr_conditions: boolean (nullable = true)\n",
      " |-- feature_is_ifr_conditions: boolean (nullable = true)\n",
      " |-- feature_requires_cat_ii: boolean (nullable = true)\n",
      " |-- feature_operations_risk_level: integer (nullable = true)\n",
      "\n"
     ]
    }
   ],
   "source": [
    "weatherDF.printSchema"
   ]
  },
  {
   "cell_type": "code",
   "execution_count": 7,
   "id": "699a7a60-3681-4d77-80d3-a403735d6218",
   "metadata": {},
   "outputs": [
    {
     "name": "stdout",
     "output_type": "stream",
     "text": [
      "+-----+----------+----+-----------+------------+----------+---------------+\n",
      "| WBAN|      Date|Time|StationType|SkyCondition|Visibility|feature_ceiling|\n",
      "+-----+----------+----+-----------+------------+----------+---------------+\n",
      "|03011|2012-01-01|0000|          0|         CLR|      10.0|          99999|\n",
      "|03011|2012-01-01|0100|          0|         CLR|      10.0|          99999|\n",
      "|03011|2012-01-01|0200|          0|         CLR|      10.0|          99999|\n",
      "|03011|2012-01-01|0300|          0|         CLR|      10.0|          99999|\n",
      "|03011|2012-01-01|0400|          0|         CLR|      10.0|          99999|\n",
      "|03011|2012-01-01|0500|          0|         CLR|      10.0|          99999|\n",
      "|03011|2012-01-01|0600|          0|         CLR|      10.0|          99999|\n",
      "|03011|2012-01-01|0700|          0|         CLR|      10.0|          99999|\n",
      "|03011|2012-01-01|0800|          0|         CLR|      10.0|          99999|\n",
      "|03011|2012-01-01|0900|          0|         CLR|      10.0|          99999|\n",
      "+-----+----------+----+-----------+------------+----------+---------------+\n",
      "only showing top 10 rows\n",
      "\n"
     ]
    },
    {
     "data": {
      "text/plain": [
       "weatherColumns = List(WBAN, Date, Time, StationType, SkyCondition, Visibility, feature_ceiling)\n",
       "weatherData = [WBAN: string, Date: date ... 5 more fields]\n"
      ]
     },
     "metadata": {},
     "output_type": "display_data",
     "source": "user"
    },
    {
     "data": {
      "text/plain": [
       "[WBAN: string, Date: date ... 5 more fields]"
      ]
     },
     "execution_count": 7,
     "metadata": {},
     "output_type": "execute_result"
    }
   ],
   "source": [
    "val weatherColumns = Seq(\n",
    "  \"WBAN\",\n",
    "  \"Date\",\n",
    "  \"Time\",\n",
    "  \"StationType\",\n",
    "  \"SkyCondition\",\n",
    "  \"Visibility\",\n",
    "\n",
    "  \"feature_ceiling\",  \n",
    "  /**\"feature_most_critical_sky\",\n",
    "  \"feature_lowest_cloud_height\",\n",
    "  \n",
    "  \"feature_num_cloud_layers\",\n",
    "  \"feature_cloud_risk_score\",\n",
    "  \"feature_has_overcast\",\n",
    "  \"feature_has_broken\",\n",
    "  \"feature_has_obscured\",\n",
    "  \"feature_is_clear\",\n",
    "  \"feature_has_low_ceiling\",\n",
    "  \"feature_visibility_miles\",\n",
    "  \"feature_visibility_km\",\n",
    "  \"feature_visibility_category\",\n",
    "  \"feature_visibility_risk_score\",\n",
    "  \"feature_is_low_visibility\",\n",
    "  \"feature_is_very_low_visibility\",\n",
    "  \"feature_visibility_normalized\",\n",
    "  \"feature_visibility_inverse\",\n",
    "  \"feature_weather_severity_index\",\n",
    "  \"feature_is_vfr_conditions\",\n",
    "  \"feature_is_ifr_conditions\",\n",
    "  \"feature_requires_cat_ii\",\n",
    "  \"feature_operations_risk_level\"**/\n",
    ")\n",
    "\n",
    "val weatherData = weatherDF\n",
    "  .select(weatherColumns.head, weatherColumns.tail: _*)\n",
    "  .orderBy(\"WBAN\", \"Date\", \"Time\")\n",
    "weatherData.show(10)\n"
   ]
  },
  {
   "cell_type": "code",
   "execution_count": 8,
   "id": "c9ecb662-41b3-440f-a057-afbff15aa286",
   "metadata": {},
   "outputs": [
    {
     "data": {
      "text/plain": [
       "134665"
      ]
     },
     "execution_count": 8,
     "metadata": {},
     "output_type": "execute_result"
    }
   ],
   "source": [
    "flightDF.count()"
   ]
  },
  {
   "cell_type": "code",
   "execution_count": 9,
   "id": "a4013837-1403-4a6e-a82a-cfffd17972f4",
   "metadata": {},
   "outputs": [
    {
     "name": "stdout",
     "output_type": "stream",
     "text": [
      "root\n",
      " |-- FL_DATE: date (nullable = true)\n",
      " |-- OP_CARRIER_AIRLINE_ID: integer (nullable = true)\n",
      " |-- OP_CARRIER_FL_NUM: integer (nullable = true)\n",
      " |-- ORIGIN_AIRPORT_ID: integer (nullable = true)\n",
      " |-- DEST_AIRPORT_ID: integer (nullable = true)\n",
      " |-- CRS_DEP_TIME: integer (nullable = true)\n",
      " |-- ARR_DELAY_NEW: double (nullable = true)\n",
      " |-- CRS_ELAPSED_TIME: double (nullable = true)\n",
      " |-- WEATHER_DELAY: double (nullable = true)\n",
      " |-- NAS_DELAY: double (nullable = true)\n",
      " |-- ORIGIN_WBAN: string (nullable = true)\n",
      " |-- ORIGIN_TIMEZONE: integer (nullable = true)\n",
      " |-- DEST_WBAN: string (nullable = true)\n",
      " |-- DEST_TIMEZONE: integer (nullable = true)\n",
      " |-- UTC_CRS_DEP_TIME: string (nullable = true)\n",
      " |-- UTC_FL_DATE: date (nullable = true)\n",
      " |-- feature_departure_minute: integer (nullable = true)\n",
      " |-- feature_flight_days_span: integer (nullable = true)\n",
      " |-- feature_arrival_minutes_total: double (nullable = true)\n",
      " |-- feature_crosses_midnight: integer (nullable = true)\n",
      " |-- feature_flight_day_of_week: integer (nullable = true)\n",
      " |-- feature_departure_hour_decimal: double (nullable = true)\n",
      " |-- feature_flight_timestamp: timestamp (nullable = true)\n",
      " |-- feature_utc_departure_hour: integer (nullable = true)\n",
      " |-- feature_flight_quarter_name: string (nullable = true)\n",
      " |-- feature_utc_departure_hour_decimal: double (nullable = true)\n",
      " |-- feature_departure_hour: integer (nullable = true)\n",
      " |-- feature_minutes_since_midnight: double (nullable = true)\n",
      " |-- feature_departure_quarter_day: integer (nullable = true)\n",
      " |-- feature_flight_month: integer (nullable = true)\n",
      " |-- feature_utc_departure_hour_rounded: long (nullable = true)\n",
      " |-- feature_arrival_hour: integer (nullable = true)\n",
      " |-- feature_arrival_minute: integer (nullable = true)\n",
      " |-- feature_flight_year: integer (nullable = true)\n",
      " |-- feature_flight_day_of_year: integer (nullable = true)\n",
      " |-- feature_arrival_time: integer (nullable = true)\n",
      " |-- feature_flight_quarter: integer (nullable = true)\n",
      " |-- feature_arrival_hour_decimal: double (nullable = true)\n",
      " |-- feature_flight_week_of_year: integer (nullable = true)\n",
      " |-- feature_flight_day_of_month: integer (nullable = true)\n",
      " |-- feature_departure_quarter_name: string (nullable = true)\n",
      " |-- feature_departure_time_period: string (nullable = true)\n",
      " |-- feature_departure_hour_rounded: long (nullable = true)\n",
      " |-- feature_departure_minutes_total: double (nullable = true)\n",
      " |-- feature_arrival_hour_rounded: string (nullable = true)\n",
      " |-- feature_arrival_date: string (nullable = true)\n",
      " |-- feature_distance_score: double (nullable = true)\n",
      " |-- feature_distance_category: string (nullable = true)\n",
      " |-- feature_carrier_hash: integer (nullable = true)\n",
      " |-- feature_route_id: string (nullable = true)\n",
      " |-- feature_is_likely_domestic: integer (nullable = true)\n",
      " |-- feature_is_roundtrip_candidate: integer (nullable = true)\n",
      " |-- feature_flight_unique_id: string (nullable = true)\n",
      " |-- feature_is_summer: integer (nullable = true)\n",
      " |-- feature_is_monday: integer (nullable = true)\n",
      " |-- feature_is_evening_rush: integer (nullable = true)\n",
      " |-- feature_is_month_start: integer (nullable = true)\n",
      " |-- feature_is_extended_weekend: integer (nullable = true)\n",
      " |-- feature_is_winter: integer (nullable = true)\n",
      " |-- feature_is_friday: integer (nullable = true)\n",
      " |-- feature_is_spring: integer (nullable = true)\n",
      " |-- feature_is_weekend: integer (nullable = true)\n",
      " |-- feature_is_holiday_season: integer (nullable = true)\n",
      " |-- feature_is_fall: integer (nullable = true)\n",
      " |-- feature_is_early_morning: integer (nullable = true)\n",
      " |-- feature_is_morning_rush: integer (nullable = true)\n",
      " |-- feature_is_business_hours: integer (nullable = true)\n",
      " |-- feature_is_night_flight: integer (nullable = true)\n",
      " |-- feature_is_month_end: integer (nullable = true)\n",
      " |-- feature_origin_complexity_score: double (nullable = true)\n",
      " |-- feature_is_westbound: integer (nullable = true)\n",
      " |-- feature_dest_complexity_score: double (nullable = true)\n",
      " |-- feature_dest_is_major_hub: integer (nullable = true)\n",
      " |-- feature_is_eastbound: integer (nullable = true)\n",
      " |-- feature_timezone_diff_proxy: integer (nullable = true)\n",
      " |-- feature_origin_is_major_hub: integer (nullable = true)\n",
      " |-- feature_is_hub_to_hub: integer (nullable = true)\n",
      " |-- feature_flights_on_route: long (nullable = true)\n",
      " |-- feature_carrier_flight_count: long (nullable = true)\n",
      " |-- feature_origin_airport_traffic: long (nullable = true)\n",
      " |-- feature_route_popularity_score: string (nullable = true)\n",
      " |-- feature_carrier_size_category: string (nullable = true)\n",
      " |-- label_arr_delay_filled: double (nullable = true)\n",
      " |-- label_nas_delay_filled: double (nullable = true)\n",
      " |-- label_weather_delay_filled: double (nullable = true)\n",
      " |-- label_weather_delay_was_missing: integer (nullable = true)\n",
      " |-- label_nas_delay_was_missing: integer (nullable = true)\n",
      " |-- label_arr_delay_was_missing: integer (nullable = true)\n",
      " |-- label_is_early: integer (nullable = true)\n",
      " |-- label_total_weather_nas_delay: double (nullable = true)\n",
      " |-- label_is_delayed_15min: integer (nullable = true)\n",
      " |-- label_has_nas_delay: integer (nullable = true)\n",
      " |-- label_is_delayed_30min: integer (nullable = true)\n",
      " |-- label_is_delayed_60min: integer (nullable = true)\n",
      " |-- label_is_delayed_45min: integer (nullable = true)\n",
      " |-- label_is_delayed_90min: integer (nullable = true)\n",
      " |-- label_has_weather_delay: integer (nullable = true)\n",
      " |-- label_is_on_time: integer (nullable = true)\n",
      " |-- label_has_any_weather_nas_delay: integer (nullable = true)\n",
      "\n"
     ]
    }
   ],
   "source": [
    "flightDF.printSchema"
   ]
  },
  {
   "cell_type": "code",
   "execution_count": 10,
   "id": "a3aa7455-f8f0-4886-ad56-7d76b4a36b90",
   "metadata": {},
   "outputs": [
    {
     "name": "stdout",
     "output_type": "stream",
     "text": [
      "+-----------+----------------+-----------+---------+----------------+--------------------------+---------------------+-----------------+--------------------------+------------------+----------------------------------+----------------------+\n",
      "|UTC_FL_DATE|UTC_CRS_DEP_TIME|ORIGIN_WBAN|DEST_WBAN|CRS_ELAPSED_TIME|feature_utc_departure_hour|OP_CARRIER_AIRLINE_ID|OP_CARRIER_FL_NUM|feature_flight_day_of_week|feature_is_weekend|feature_utc_departure_hour_rounded|label_is_delayed_15min|\n",
      "+-----------+----------------+-----------+---------+----------------+--------------------------+---------------------+-----------------+--------------------------+------------------+----------------------------------+----------------------+\n",
      "| 2012-01-09|            1655|      13869|    13874|            57.0|                        16|                20366|             5334|                         2|                 0|                              1700|                     1|\n",
      "| 2012-01-08|            2230|      13869|    13874|            58.0|                        22|                20366|             5335|                         1|                 1|                              2300|                     1|\n",
      "| 2012-01-08|            1655|      13869|    13874|            57.0|                        16|                20366|             5334|                         1|                 1|                              1700|                     1|\n",
      "| 2012-01-04|            2230|      13869|    13874|            58.0|                        22|                20366|             5335|                         4|                 0|                              2300|                     1|\n",
      "| 2012-01-22|            1655|      13869|    13874|            57.0|                        16|                20366|             5334|                         1|                 1|                              1700|                     1|\n",
      "| 2012-01-10|            2230|      13869|    13874|            58.0|                        22|                20366|             5335|                         3|                 0|                              2300|                     1|\n",
      "| 2012-01-21|            1655|      13869|    13874|            57.0|                        16|                20366|             5334|                         7|                 1|                              1700|                     1|\n",
      "| 2012-01-03|            1100|      13869|    13874|            49.0|                        11|                20366|             5290|                         3|                 0|                              1100|                     1|\n",
      "| 2012-01-26|            2230|      13869|    13874|            58.0|                        22|                20366|             5335|                         5|                 0|                              2300|                     1|\n",
      "| 2012-01-06|            2230|      13869|    13874|            58.0|                        22|                20366|             5335|                         6|                 0|                              2300|                     1|\n",
      "+-----------+----------------+-----------+---------+----------------+--------------------------+---------------------+-----------------+--------------------------+------------------+----------------------------------+----------------------+\n",
      "only showing top 10 rows\n",
      "\n"
     ]
    },
    {
     "data": {
      "text/plain": [
       "flightColumns = List(UTC_FL_DATE, UTC_CRS_DEP_TIME, ORIGIN_WBAN, DEST_WBAN, CRS_ELAPSED_TIME, feature_utc_departure_hour, OP_CARRIER_AIRLINE_ID, OP_CARRIER_FL_NUM, feature_flight_day_of_week, feature_is_weekend, feature_utc_departure_hour_rounded, label_is_delayed_15min)\n",
       "flightData = [UTC_FL_DATE: date, UTC_CRS_DEP_TIME: string ... 10 more fields]\n"
      ]
     },
     "metadata": {},
     "output_type": "display_data",
     "source": "user"
    },
    {
     "data": {
      "text/plain": [
       "[UTC_FL_DATE: date, UTC_CRS_DEP_TIME: string ... 10 more fields]"
      ]
     },
     "execution_count": 10,
     "metadata": {},
     "output_type": "execute_result"
    }
   ],
   "source": [
    "val flightColumns = Seq(\n",
    "  \"UTC_FL_DATE\",\n",
    "  \"UTC_CRS_DEP_TIME\",\n",
    "  \"ORIGIN_WBAN\",\n",
    "  \"DEST_WBAN\",\n",
    "  \"CRS_ELAPSED_TIME\",\n",
    "  \"feature_utc_departure_hour\",\n",
    "  \"OP_CARRIER_AIRLINE_ID\",\n",
    "  \"OP_CARRIER_FL_NUM\",  \n",
    "  //\"feature_flight_month\",\n",
    "  //\"feature_flight_year\",\n",
    "  //\"feature_flight_quarter\",\n",
    "  \"feature_flight_day_of_week\",\n",
    "  \"feature_is_weekend\",  \n",
    "  \"feature_utc_departure_hour_rounded\",  \n",
    "  \"label_is_delayed_15min\"\n",
    ")\n",
    "\n",
    "val flightData = flightDF\n",
    "  .select(flightColumns.head, flightColumns.tail: _*)\n",
    "flightData.show(10)\n"
   ]
  },
  {
   "cell_type": "markdown",
   "id": "de74cf17-6a85-4dee-88c4-5fd1f26607d4",
   "metadata": {},
   "source": [
    "# Jointure"
   ]
  },
  {
   "cell_type": "code",
   "execution_count": 11,
   "id": "c5416308-95c1-4519-8ae1-c44a3631b0f3",
   "metadata": {},
   "outputs": [
    {
     "name": "stdout",
     "output_type": "stream",
     "text": [
      "\n",
      "  [Origin Weather Join] Weather columns to join: 4\n",
      "    - Weather features: StationType, SkyCondition, Visibility, feature_ceiling\n"
     ]
    },
    {
     "data": {
      "text/plain": [
       "joinOriginDataSet = [UTC_FL_DATE: date, UTC_CRS_DEP_TIME: string ... 16 more fields]\n"
      ]
     },
     "metadata": {},
     "output_type": "display_data",
     "source": "user"
    },
    {
     "name": "stdout",
     "output_type": "stream",
     "text": [
      "  [Origin Weather Join] Completed in 0.095s - Created 4 weather arrays\n"
     ]
    },
    {
     "data": {
      "text/plain": [
       "[UTC_FL_DATE: date, UTC_CRS_DEP_TIME: string ... 16 more fields]"
      ]
     },
     "execution_count": 11,
     "metadata": {},
     "output_type": "execute_result"
    }
   ],
   "source": [
    "import com.flightdelay.data.joiners.FlightWeatherDataJoiner\n",
    "\n",
    "val joinOriginDataSet = FlightWeatherDataJoiner.joinOriginWeather(flightData, weatherData)"
   ]
  },
  {
   "cell_type": "code",
   "execution_count": 12,
   "id": "f2e07f8f-eec8-4868-8ce8-30e8d71ce2c3",
   "metadata": {},
   "outputs": [
    {
     "name": "stdout",
     "output_type": "stream",
     "text": [
      "+-----------+----------------+-----------+---------+----------------+--------------------------+--------------------+-------------------+----------------------+--------------------------+------------------+----------------------------------+----------------------+--------------------------------+---------------------------------+-------------------------------+------------------------------------+------------------------+\n",
      "|UTC_FL_DATE|UTC_CRS_DEP_TIME|ORIGIN_WBAN|DEST_WBAN|CRS_ELAPSED_TIME|feature_utc_departure_hour|feature_flight_month|feature_flight_year|feature_flight_quarter|feature_flight_day_of_week|feature_is_weekend|feature_utc_departure_hour_rounded|label_is_delayed_15min|origin_weather_StationType_array|origin_weather_SkyCondition_array|origin_weather_Visibility_array|origin_weather_feature_ceiling_array|origin_weather_obs_count|\n",
      "+-----------+----------------+-----------+---------+----------------+--------------------------+--------------------+-------------------+----------------------+--------------------------+------------------+----------------------------------+----------------------+--------------------------------+---------------------------------+-------------------------------+------------------------------------+------------------------+\n",
      "| 2012-01-09|            1655|      13869|    13874|            57.0|                        16|                   1|               2012|                     1|                         2|                 0|                              1700|                     1|                              []|                               []|                             []|                                  []|                       0|\n",
      "| 2012-01-03|            1100|      13869|    13874|            49.0|                        11|                   1|               2012|                     1|                         3|                 0|                              1100|                     1|                              []|                               []|                             []|                                  []|                       0|\n",
      "| 2012-01-20|            1655|      13869|    13874|            57.0|                        16|                   1|               2012|                     1|                         6|                 0|                              1700|                     1|                              []|                               []|                             []|                                  []|                       0|\n",
      "| 2012-01-18|            2305|      23047|     3927|            65.0|                        23|                   1|               2012|                     1|                         4|                 0|                              2300|                     1|                              []|                               []|                             []|                                  []|                       0|\n",
      "| 2012-01-10|            1200|      23047|     3927|            65.0|                        12|                   1|               2012|                     1|                         3|                 0|                              1200|                     1|                              []|                               []|                             []|                                  []|                       0|\n",
      "| 2012-01-08|            1605|      23047|     3927|            65.0|                        16|                   1|               2012|                     1|                         1|                 1|                              1600|                     1|                              []|                               []|                             []|                                  []|                       0|\n",
      "| 2012-01-25|            1200|      23047|     3927|            65.0|                        12|                   1|               2012|                     1|                         4|                 0|                              1200|                     1|                              []|                               []|                             []|                                  []|                       0|\n",
      "| 2012-01-07|            1200|      23047|     3927|            65.0|                        12|                   1|               2012|                     1|                         7|                 1|                              1200|                     1|                              []|                               []|                             []|                                  []|                       0|\n",
      "| 2012-01-09|            0030|      23047|     3927|            65.0|                         0|                   1|               2012|                     1|                         1|                 1|                               100|                     1|                              []|                               []|                             []|                                  []|                       0|\n",
      "| 2012-01-27|            2010|      23047|    23169|           130.0|                        20|                   1|               2012|                     1|                         6|                 0|                              2000|                     1|                              []|                               []|                             []|                                  []|                       0|\n",
      "+-----------+----------------+-----------+---------+----------------+--------------------------+--------------------+-------------------+----------------------+--------------------------+------------------+----------------------------------+----------------------+--------------------------------+---------------------------------+-------------------------------+------------------------------------+------------------------+\n",
      "only showing top 10 rows\n",
      "\n"
     ]
    }
   ],
   "source": [
    "joinOriginDataSet.show(10)"
   ]
  },
  {
   "cell_type": "markdown",
   "id": "8003fd72-3ffc-449f-8ba9-9ce67f6c2979",
   "metadata": {},
   "source": [
    "# Jointure Map Reduce"
   ]
  },
  {
   "cell_type": "code",
   "execution_count": 11,
   "id": "4b005756-ae1b-4d28-ba86-4e2a0514ea7d",
   "metadata": {},
   "outputs": [],
   "source": [
    "import org.apache.spark.sql.functions._\n",
    "import org.apache.spark.sql.expressions.Window\n",
    "import org.apache.spark.sql.Row\n",
    "import scala.collection.JavaConverters._\n",
    "\n",
    "// Recommandé: travailler en UTC pour éviter les surprises\n",
    "spark.conf.set(\"spark.sql.session.timeZone\", \"UTC\")\n",
    "spark.conf.set(\"spark.sql.crossJoin.enabled\", \"true\")\n",
    "spark.conf.set(\"spark.sql.debug.maxToStringFields\", \"100000\")\n"
   ]
  },
  {
   "cell_type": "code",
   "execution_count": 12,
   "id": "84c74fe5-7077-40dc-814a-973d7e1820c8",
   "metadata": {},
   "outputs": [
    {
     "name": "stdout",
     "output_type": "stream",
     "text": [
      "+-----+----------+------+-----+----------+----+-----------+------------+----------+---------------+----------+--------+------+\n",
      "| WBAN|    W_DATE|W_HOUR| WBAN|      Date|Time|StationType|SkyCondition|Visibility|feature_ceiling|    W_DATE|TIME_STR|W_HOUR|\n",
      "+-----+----------+------+-----+----------+----+-----------+------------+----------+---------------+----------+--------+------+\n",
      "|03011|2012-01-01|    00|03011|2012-01-01|0000|          0|         CLR|      10.0|          99999|2012-01-01|    0000|    00|\n",
      "|03011|2012-01-01|    01|03011|2012-01-01|0100|          0|         CLR|      10.0|          99999|2012-01-01|    0100|    01|\n",
      "|03011|2012-01-01|    02|03011|2012-01-01|0200|          0|         CLR|      10.0|          99999|2012-01-01|    0200|    02|\n",
      "|03011|2012-01-01|    03|03011|2012-01-01|0300|          0|         CLR|      10.0|          99999|2012-01-01|    0300|    03|\n",
      "|03011|2012-01-01|    04|03011|2012-01-01|0400|          0|         CLR|      10.0|          99999|2012-01-01|    0400|    04|\n",
      "|03011|2012-01-01|    05|03011|2012-01-01|0500|          0|         CLR|      10.0|          99999|2012-01-01|    0500|    05|\n",
      "|03011|2012-01-01|    06|03011|2012-01-01|0600|          0|         CLR|      10.0|          99999|2012-01-01|    0600|    06|\n",
      "|03011|2012-01-01|    07|03011|2012-01-01|0700|          0|         CLR|      10.0|          99999|2012-01-01|    0700|    07|\n",
      "|03011|2012-01-01|    08|03011|2012-01-01|0800|          0|         CLR|      10.0|          99999|2012-01-01|    0800|    08|\n",
      "|03011|2012-01-01|    09|03011|2012-01-01|0900|          0|         CLR|      10.0|          99999|2012-01-01|    0900|    09|\n",
      "+-----+----------+------+-----+----------+----+-----------+------------+----------+---------------+----------+--------+------+\n",
      "only showing top 10 rows\n",
      "\n"
     ]
    },
    {
     "data": {
      "text/plain": [
       "weatherNorm = [WBAN: string, W_DATE: date ... 11 more fields]\n"
      ]
     },
     "metadata": {},
     "output_type": "display_data",
     "source": "user"
    },
    {
     "data": {
      "text/plain": [
       "[WBAN: string, W_DATE: date ... 11 more fields]"
      ]
     },
     "execution_count": 12,
     "metadata": {},
     "output_type": "execute_result"
    }
   ],
   "source": [
    "// -----------------------------------------\n",
    "// 0) Normalisation du dataset Weather\n",
    "//    - DATE  -> date\n",
    "//    - TIME  -> heure 2 chiffres \"HH\"\n",
    "// -----------------------------------------\n",
    "val weatherNorm = weatherData\n",
    "  // DATE peut être string => on force en date (UTC)\n",
    "  .withColumn(\"W_DATE\", to_date(col(\"DATE\")))\n",
    "  // TIME peut être \"0\", \"00\", \"0030\", 0, etc.\n",
    "  .withColumn(\"TIME_STR\", col(\"TIME\").cast(\"string\"))\n",
    "  .withColumn(\n",
    "    \"W_HOUR\",\n",
    "    when(length(col(\"TIME_STR\")) >= 2, substring(col(\"TIME_STR\"), 1, 2))\n",
    "      .otherwise(lpad(col(\"TIME_STR\"), 2, \"0\"))\n",
    "  )\n",
    "  .select(\n",
    "    col(\"WBAN\"),\n",
    "    col(\"W_DATE\"),\n",
    "    col(\"W_HOUR\"),\n",
    "    // garde ce qui t'intéresse côté météo :\n",
    "    col(\"*\") // tu peux remplacer par les colonnes utiles: vent, visib, etc.\n",
    "  )\n",
    "weatherNorm.show(10)"
   ]
  },
  {
   "cell_type": "code",
   "execution_count": 13,
   "id": "c2e6dec8-8883-41ba-918a-4f7791851783",
   "metadata": {},
   "outputs": [
    {
     "data": {
      "text/plain": [
       "weatherPart = [WBAN: string, W_DATE: date ... 11 more fields]\n"
      ]
     },
     "metadata": {},
     "output_type": "display_data",
     "source": "user"
    },
    {
     "data": {
      "text/plain": [
       "[WBAN: string, W_DATE: date ... 11 more fields]"
      ]
     },
     "execution_count": 13,
     "metadata": {},
     "output_type": "execute_result"
    }
   ],
   "source": [
    "// Option: pour le shuffle, tu peux aider Spark à partitionner:\n",
    "val weatherPart = weatherNorm.repartition(col(\"WBAN\"), col(\"W_DATE\"))"
   ]
  },
  {
   "cell_type": "code",
   "execution_count": 14,
   "id": "366f3250-f536-47ab-8745-c053f236bb33",
   "metadata": {},
   "outputs": [
    {
     "name": "stdout",
     "output_type": "stream",
     "text": [
      "+-----------+----------------+-----------+---------+----------------+--------------------------+---------------------+-----------------+--------------------------+------------------+----------------------------------+----------------------+--------------------+\n",
      "|UTC_FL_DATE|UTC_CRS_DEP_TIME|ORIGIN_WBAN|DEST_WBAN|CRS_ELAPSED_TIME|feature_utc_departure_hour|OP_CARRIER_AIRLINE_ID|OP_CARRIER_FL_NUM|feature_flight_day_of_week|feature_is_weekend|feature_utc_departure_hour_rounded|label_is_delayed_15min|           flight_id|\n",
      "+-----------+----------------+-----------+---------+----------------+--------------------------+---------------------+-----------------+--------------------------+------------------+----------------------------------+----------------------+--------------------+\n",
      "| 2012-01-09|            1655|      13869|    13874|            57.0|                        16|                20366|             5334|                         2|                 0|                              1700|                     1|20120109_20366_53...|\n",
      "| 2012-01-08|            2230|      13869|    13874|            58.0|                        22|                20366|             5335|                         1|                 1|                              2300|                     1|20120108_20366_53...|\n",
      "| 2012-01-08|            1655|      13869|    13874|            57.0|                        16|                20366|             5334|                         1|                 1|                              1700|                     1|20120108_20366_53...|\n",
      "| 2012-01-04|            2230|      13869|    13874|            58.0|                        22|                20366|             5335|                         4|                 0|                              2300|                     1|20120104_20366_53...|\n",
      "| 2012-01-22|            1655|      13869|    13874|            57.0|                        16|                20366|             5334|                         1|                 1|                              1700|                     1|20120122_20366_53...|\n",
      "| 2012-01-10|            2230|      13869|    13874|            58.0|                        22|                20366|             5335|                         3|                 0|                              2300|                     1|20120110_20366_53...|\n",
      "| 2012-01-21|            1655|      13869|    13874|            57.0|                        16|                20366|             5334|                         7|                 1|                              1700|                     1|20120121_20366_53...|\n",
      "| 2012-01-03|            1100|      13869|    13874|            49.0|                        11|                20366|             5290|                         3|                 0|                              1100|                     1|20120103_20366_52...|\n",
      "| 2012-01-26|            2230|      13869|    13874|            58.0|                        22|                20366|             5335|                         5|                 0|                              2300|                     1|20120126_20366_53...|\n",
      "| 2012-01-06|            2230|      13869|    13874|            58.0|                        22|                20366|             5335|                         6|                 0|                              2300|                     1|20120106_20366_53...|\n",
      "+-----------+----------------+-----------+---------+----------------+--------------------------+---------------------+-----------------+--------------------------+------------------+----------------------------------+----------------------+--------------------+\n",
      "only showing top 10 rows\n",
      "\n"
     ]
    },
    {
     "data": {
      "text/plain": [
       "flights0 = [UTC_FL_DATE: date, UTC_CRS_DEP_TIME: string ... 11 more fields]\n"
      ]
     },
     "metadata": {},
     "output_type": "display_data",
     "source": "user"
    },
    {
     "data": {
      "text/plain": [
       "[UTC_FL_DATE: date, UTC_CRS_DEP_TIME: string ... 11 more fields]"
      ]
     },
     "execution_count": 14,
     "metadata": {},
     "output_type": "execute_result"
    }
   ],
   "source": [
    "// ───────────────────────────────────────────────────────────────────────────────\n",
    "// 0) Crée un identifiant de vol déterministe \"flight_id\"\n",
    "//    (tu peux remplacer par monotonically_increasing_id() si tu préfères)\n",
    "// ───────────────────────────────────────────────────────────────────────────────\n",
    "val flights0 = flightData\n",
    "  .withColumn(\n",
    "    \"flight_id\",\n",
    "    concat_ws(\"_\",\n",
    "      date_format(col(\"UTC_FL_DATE\").cast(\"date\"), \"yyyyMMdd\"),\n",
    "      col(\"OP_CARRIER_AIRLINE_ID\").cast(\"string\"),\n",
    "      col(\"OP_CARRIER_FL_NUM\").cast(\"string\"),\n",
    "      col(\"ORIGIN_WBAN\").cast(\"string\"),\n",
    "      col(\"DEST_WBAN\").cast(\"string\"),\n",
    "      date_format(col(\"UTC_CRS_DEP_TIME\"), \"HHmm\")\n",
    "    )\n",
    "  )\n",
    "\n",
    "flights0.show(10)"
   ]
  },
  {
   "cell_type": "code",
   "execution_count": 15,
   "id": "314e68d3-438e-4515-a084-5297bffdb755",
   "metadata": {},
   "outputs": [
    {
     "name": "stdout",
     "output_type": "stream",
     "text": [
      "+--------------------+-----------+---------+-----------+-----------+----------+----------------------+\n",
      "|           flight_id|ORIGIN_WBAN|DEST_WBAN|FL_DATE_STR|DEP_HOUR_2D|base_epoch|label_is_delayed_15min|\n",
      "+--------------------+-----------+---------+-----------+-----------+----------+----------------------+\n",
      "|20120109_20366_53...|      13869|    13874| 2012-01-09|         17|1326128400|                     1|\n",
      "|20120108_20366_53...|      13869|    13874| 2012-01-08|         23|1326063600|                     1|\n",
      "|20120108_20366_53...|      13869|    13874| 2012-01-08|         17|1326042000|                     1|\n",
      "|20120104_20366_53...|      13869|    13874| 2012-01-04|         23|1325718000|                     1|\n",
      "|20120122_20366_53...|      13869|    13874| 2012-01-22|         17|1327251600|                     1|\n",
      "|20120110_20366_53...|      13869|    13874| 2012-01-10|         23|1326236400|                     1|\n",
      "|20120121_20366_53...|      13869|    13874| 2012-01-21|         17|1327165200|                     1|\n",
      "|20120103_20366_52...|      13869|    13874| 2012-01-03|         11|1325588400|                     1|\n",
      "|20120126_20366_53...|      13869|    13874| 2012-01-26|         23|1327618800|                     1|\n",
      "|20120106_20366_53...|      13869|    13874| 2012-01-06|         23|1325890800|                     1|\n",
      "+--------------------+-----------+---------+-----------+-----------+----------+----------------------+\n",
      "only showing top 10 rows\n",
      "\n"
     ]
    },
    {
     "data": {
      "text/plain": [
       "flightsBase = [flight_id: string, ORIGIN_WBAN: string ... 5 more fields]\n"
      ]
     },
     "metadata": {},
     "output_type": "display_data",
     "source": "user"
    },
    {
     "data": {
      "text/plain": [
       "[flight_id: string, ORIGIN_WBAN: string ... 5 more fields]"
      ]
     },
     "execution_count": 15,
     "metadata": {},
     "output_type": "execute_result"
    }
   ],
   "source": [
    "\n",
    "// ───────────────────────────────────────────────────────────────────────────────\n",
    "// 1) Base temporelle départ (UTC) : \"yyyy-MM-dd HH\" → epoch (secondes)\n",
    "// ───────────────────────────────────────────────────────────────────────────────\n",
    "val flightsBase = flights0\n",
    "  .withColumn(\n",
    "    \"FL_DATE_STR\",\n",
    "    when(col(\"UTC_FL_DATE\").cast(\"date\").isNotNull,\n",
    "         date_format(col(\"UTC_FL_DATE\").cast(\"date\"), \"yyyy-MM-dd\"))\n",
    "    .otherwise(col(\"UTC_FL_DATE\").cast(\"string\"))\n",
    "  )\n",
    "  .withColumn(\"DEP_HOUR_2D\", lpad(col(\"feature_utc_departure_hour_rounded\").cast(\"string\"), 2, \"0\"))\n",
    "  .withColumn(\"base_epoch\",\n",
    "    unix_timestamp(concat_ws(\" \", col(\"FL_DATE_STR\"), col(\"DEP_HOUR_2D\")), \"yyyy-MM-dd HH\")\n",
    "  )\n",
    "  // IMPORTANT : on ne garde QUE ce qu'on va utiliser ensuite (dont flight_id !)\n",
    "  .select(\n",
    "    col(\"flight_id\"),\n",
    "    col(\"ORIGIN_WBAN\"),\n",
    "    col(\"DEST_WBAN\"),\n",
    "    col(\"FL_DATE_STR\"),\n",
    "    col(\"DEP_HOUR_2D\"),\n",
    "    col(\"base_epoch\"),\n",
    "    col(\"label_is_delayed_15min\")  \n",
    "  )\n",
    "\n",
    "flightsBase.show(10)"
   ]
  },
  {
   "cell_type": "code",
   "execution_count": 16,
   "id": "45faaedc-55db-485f-8d1f-996e8d07bfcd",
   "metadata": {},
   "outputs": [
    {
     "name": "stdout",
     "output_type": "stream",
     "text": [
      "+------------------------------------+--------+---+-----------+--------------+----------------------+\n",
      "|flight_id                           |WBAN_KEY|o_h|TARGET_DATE|TARGET_HOUR_2D|label_is_delayed_15min|\n",
      "+------------------------------------+--------+---+-----------+--------------+----------------------+\n",
      "|20120109_20366_5334_13869_13874_0000|13869   |1  |2012-01-09 |16            |1                     |\n",
      "|20120109_20366_5334_13869_13874_0000|13869   |2  |2012-01-09 |15            |1                     |\n",
      "|20120109_20366_5334_13869_13874_0000|13869   |3  |2012-01-09 |14            |1                     |\n",
      "|20120109_20366_5334_13869_13874_0000|13869   |4  |2012-01-09 |13            |1                     |\n",
      "|20120109_20366_5334_13869_13874_0000|13869   |5  |2012-01-09 |12            |1                     |\n",
      "|20120109_20366_5334_13869_13874_0000|13869   |6  |2012-01-09 |11            |1                     |\n",
      "|20120109_20366_5334_13869_13874_0000|13869   |7  |2012-01-09 |10            |1                     |\n",
      "|20120109_20366_5334_13869_13874_0000|13869   |8  |2012-01-09 |09            |1                     |\n",
      "|20120109_20366_5334_13869_13874_0000|13869   |9  |2012-01-09 |08            |1                     |\n",
      "|20120109_20366_5334_13869_13874_0000|13869   |10 |2012-01-09 |07            |1                     |\n",
      "+------------------------------------+--------+---+-----------+--------------+----------------------+\n",
      "only showing top 10 rows\n",
      "\n"
     ]
    },
    {
     "data": {
      "text/plain": [
       "offsets = [h: bigint]\n",
       "originTargets = [flight_id: string, WBAN_KEY: string ... 4 more fields]\n"
      ]
     },
     "metadata": {},
     "output_type": "display_data",
     "source": "user"
    },
    {
     "data": {
      "text/plain": [
       "[flight_id: string, WBAN_KEY: string ... 4 more fields]"
      ]
     },
     "execution_count": 16,
     "metadata": {},
     "output_type": "execute_result"
    }
   ],
   "source": [
    "// ───────────────────────────────────────────────────────────────────────────────\n",
    "// 2) Générer les 12 heures cibles t-1h..t-12h (crossJoin offsets 1..12)\n",
    "// ───────────────────────────────────────────────────────────────────────────────\n",
    "val offsets = flightsBase.sparkSession.range(1, 13).toDF(\"h\")  // 1..12\n",
    "\n",
    "val originTargets = flightsBase\n",
    "  .crossJoin(offsets)\n",
    "  .withColumn(\"target_epoch\", col(\"base_epoch\") - col(\"h\") * lit(3600))\n",
    "  .withColumn(\"TARGET_DATE\", to_date(from_unixtime(col(\"target_epoch\"))))\n",
    "  .withColumn(\"TARGET_HOUR_2D\", date_format(from_unixtime(col(\"target_epoch\")), \"HH\"))\n",
    "  .select(\n",
    "    col(\"flight_id\"),                                    // ← remplace flightId par flight_id\n",
    "    col(\"ORIGIN_WBAN\").as(\"WBAN_KEY\"),\n",
    "    col(\"h\").cast(\"int\").as(\"o_h\"),\n",
    "    col(\"TARGET_DATE\"),\n",
    "    col(\"TARGET_HOUR_2D\"),\n",
    "    col(\"label_is_delayed_15min\")  \n",
    "  )\n",
    "\n",
    "// (debug)\n",
    "originTargets.show(10, truncate = false)"
   ]
  },
  {
   "cell_type": "code",
   "execution_count": 31,
   "id": "1b7a264a-8fa9-40ec-8ac3-460ad7039f0b",
   "metadata": {},
   "outputs": [
    {
     "name": "stdout",
     "output_type": "stream",
     "text": [
      "+------------------------------------+---+-----+-------------+-------------+----------+------+----------+----+-----------+--------------------+----------+---------------+\n",
      "|flight_id                           |o_h|WBAN |o_target_date|o_target_hour|W_DATE    |W_HOUR|DATE      |TIME|StationType|SkyCondition        |Visibility|feature_ceiling|\n",
      "+------------------------------------+---+-----+-------------+-------------+----------+------+----------+----+-----------+--------------------+----------+---------------+\n",
      "|20120101_19393_1035_14839_23183_0000|8  |14839|2012-01-01   |06           |2012-01-01|06    |2012-01-01|0600|11         |BKN016 BKN026 OVC032|5.0       |1600           |\n",
      "|20120101_19393_122_23188_93721_0000 |5  |23188|2012-01-01   |10           |2012-01-01|10    |2012-01-01|1000|11         |FEW001              |3.0       |99999          |\n",
      "|20120101_19393_1306_23188_23169_0000|10 |23188|2012-01-01   |10           |2012-01-01|10    |2012-01-01|1000|11         |FEW001              |3.0       |99999          |\n",
      "|20120101_19393_1399_23188_14819_0000|6  |23188|2012-01-01   |10           |2012-01-01|10    |2012-01-01|1000|11         |FEW001              |3.0       |99999          |\n",
      "|20120101_19393_1484_23188_93225_0000|8  |23188|2012-01-01   |10           |2012-01-01|10    |2012-01-01|1000|11         |FEW001              |3.0       |99999          |\n",
      "|20120101_19393_1562_23188_23293_0000|8  |23188|2012-01-01   |10           |2012-01-01|10    |2012-01-01|1000|11         |FEW001              |3.0       |99999          |\n",
      "|20120101_19393_1601_23188_3017_0000 |9  |23188|2012-01-01   |10           |2012-01-01|10    |2012-01-01|1000|11         |FEW001              |3.0       |99999          |\n",
      "|20120101_19393_1808_23188_14819_0000|7  |23188|2012-01-01   |10           |2012-01-01|10    |2012-01-01|1000|11         |FEW001              |3.0       |99999          |\n",
      "|20120101_19393_1912_23188_12918_0000|5  |23188|2012-01-01   |10           |2012-01-01|10    |2012-01-01|1000|11         |FEW001              |3.0       |99999          |\n",
      "|20120101_19393_2304_23188_13994_0000|5  |23188|2012-01-01   |10           |2012-01-01|10    |2012-01-01|1000|11         |FEW001              |3.0       |99999          |\n",
      "|20120101_19393_2679_23188_23230_0000|9  |23188|2012-01-01   |10           |2012-01-01|10    |2012-01-01|1000|11         |FEW001              |3.0       |99999          |\n",
      "|20120101_19393_2685_23188_23183_0000|8  |23188|2012-01-01   |10           |2012-01-01|10    |2012-01-01|1000|11         |FEW001              |3.0       |99999          |\n",
      "|20120101_19393_2768_23188_23169_0000|6  |23188|2012-01-01   |10           |2012-01-01|10    |2012-01-01|1000|11         |FEW001              |3.0       |99999          |\n",
      "|20120101_19393_3031_23188_13904_0000|7  |23188|2012-01-01   |10           |2012-01-01|10    |2012-01-01|1000|11         |FEW001              |3.0       |99999          |\n",
      "|20120101_19393_3179_23188_23183_0000|6  |23188|2012-01-01   |10           |2012-01-01|10    |2012-01-01|1000|11         |FEW001              |3.0       |99999          |\n",
      "|20120101_19393_3326_23188_23183_0000|11 |23188|2012-01-01   |10           |2012-01-01|10    |2012-01-01|1000|11         |FEW001              |3.0       |99999          |\n",
      "|20120101_19393_3419_23188_93225_0000|12 |23188|2012-01-01   |10           |2012-01-01|10    |2012-01-01|1000|11         |FEW001              |3.0       |99999          |\n",
      "|20120101_19393_3564_23188_23230_0000|12 |23188|2012-01-01   |10           |2012-01-01|10    |2012-01-01|1000|11         |FEW001              |3.0       |99999          |\n",
      "|20120101_19393_3621_23188_3947_0000 |9  |23188|2012-01-01   |10           |2012-01-01|10    |2012-01-01|1000|11         |FEW001              |3.0       |99999          |\n",
      "|20120101_19393_3715_14839_23169_0000|7  |14839|2012-01-01   |06           |2012-01-01|06    |2012-01-01|0600|11         |BKN016 BKN026 OVC032|5.0       |1600           |\n",
      "+------------------------------------+---+-----+-------------+-------------+----------+------+----------+----+-----------+--------------------+----------+---------------+\n",
      "only showing top 20 rows\n",
      "\n"
     ]
    },
    {
     "data": {
      "text/plain": [
       "originJoined = [flight_id: string, o_h: int ... 11 more fields]\n"
      ]
     },
     "metadata": {},
     "output_type": "display_data",
     "source": "user"
    },
    {
     "data": {
      "text/plain": [
       "[flight_id: string, o_h: int ... 11 more fields]"
      ]
     },
     "execution_count": 31,
     "metadata": {},
     "output_type": "execute_result"
    }
   ],
   "source": [
    "// ───────────────────────────────────────────────────────────────────────────────\n",
    "// 3) Normalisation météo (si pas déjà fait) et jointure exacte (WBAN, DATE, HOUR)\n",
    "// ───────────────────────────────────────────────────────────────────────────────\n",
    "\n",
    "val originJoined = originTargets\n",
    "  .join(\n",
    "    weatherNorm,\n",
    "    originTargets.col(\"WBAN_KEY\") === weatherNorm.col(\"WBAN\") &&\n",
    "    originTargets.col(\"TARGET_DATE\") === weatherNorm.col(\"W_DATE\") &&\n",
    "    originTargets.col(\"TARGET_HOUR_2D\") === weatherNorm.col(\"W_HOUR\"),\n",
    "    \"inner\"\n",
    "  )\n",
    "  .select(\n",
    "    col(\"flight_id\"),\n",
    "    col(\"o_h\"),\n",
    "    col(\"WBAN_KEY\").as(\"WBAN\"),\n",
    "    col(\"TARGET_DATE\").as(\"o_target_date\"),\n",
    "    col(\"TARGET_HOUR_2D\").as(\"o_target_hour\"),\n",
    "    col(\"W_DATE\"), col(\"W_HOUR\"),\n",
    "    col(\"DATE\"), col(\"TIME\"),\n",
    "    col(\"StationType\"),\n",
    "    col(\"SkyCondition\"),\n",
    "    col(\"Visibility\"),\n",
    "    col(\"feature_ceiling\"),  \n",
    "  ).orderBy(col(\"flight_id\"), col(\"o_target_hour\"))\n",
    "\n",
    "originJoined.show(20, false)"
   ]
  },
  {
   "cell_type": "code",
   "execution_count": 19,
   "id": "21bf481d-d41b-48f3-b45b-ae78697d71fc",
   "metadata": {},
   "outputs": [
    {
     "name": "stdout",
     "output_type": "stream",
     "text": [
      "+--------------------+--------------------+\n",
      "|           flight_id|            W_o_list|\n",
      "+--------------------+--------------------+\n",
      "|20120101_19393_10...|[{8, 2012-01-01, ...|\n",
      "|20120101_19393_12...|[{5, 2012-01-01, ...|\n",
      "|20120101_19393_13...|[{10, 2012-01-01,...|\n",
      "|20120101_19393_13...|[{6, 2012-01-01, ...|\n",
      "|20120101_19393_14...|[{8, 2012-01-01, ...|\n",
      "|20120101_19393_15...|[{8, 2012-01-01, ...|\n",
      "|20120101_19393_16...|[{9, 2012-01-01, ...|\n",
      "|20120101_19393_18...|[{7, 2012-01-01, ...|\n",
      "|20120101_19393_19...|[{5, 2012-01-01, ...|\n",
      "|20120101_19393_23...|[{5, 2012-01-01, ...|\n",
      "+--------------------+--------------------+\n",
      "only showing top 10 rows\n",
      "\n"
     ]
    },
    {
     "data": {
      "text/plain": [
       "originAgg = [flight_id: string, W_o_list: array<struct<o_h:int,o_target_date:date,o_target_hour:string,W_DATE:date,W_HOUR:string>>]\n"
      ]
     },
     "metadata": {},
     "output_type": "display_data",
     "source": "user"
    },
    {
     "data": {
      "text/plain": [
       "[flight_id: string, W_o_list: array<struct<o_h:int,o_target_date:date,o_target_hour:string,W_DATE:date,W_HOUR:string>>]"
      ]
     },
     "execution_count": 19,
     "metadata": {},
     "output_type": "execute_result"
    }
   ],
   "source": [
    "// ───────────────────────────────────────────────────────────────────────────────\n",
    "// 4) (Option) Regrouper en liste par vol (gardez o_h pour trier côté lecteur)\n",
    "// ───────────────────────────────────────────────────────────────────────────────\n",
    "val originAgg = originJoined\n",
    "  .withColumn(\"o_pack\", struct(\n",
    "    col(\"o_h\"),\n",
    "    col(\"o_target_date\"),\n",
    "    col(\"o_target_hour\"),\n",
    "    col(\"W_DATE\"),\n",
    "    col(\"W_HOUR\")\n",
    "    // + tes variables météo utiles\n",
    "  ))\n",
    "  .groupBy(\"flight_id\")                           // ← remplace \"flightId\"\n",
    "  .agg(collect_list(col(\"o_pack\")).as(\"W_o_list\"))\n",
    "\n",
    "originAgg.show(10)"
   ]
  },
  {
   "cell_type": "code",
   "execution_count": 20,
   "id": "5bad8f3b-fb84-4e70-aef8-87b41fff0c22",
   "metadata": {},
   "outputs": [
    {
     "name": "stdout",
     "output_type": "stream",
     "text": [
      "{\"flight_id\":\"20120101_19393_1035_14839_23183_0000\",\"W_o_list\":[{\"o_h\":8,\"o_target_date\":\"2012-01-01\",\"o_target_hour\":\"06\",\"W_DATE\":\"2012-01-01\",\"W_HOUR\":\"06\"}]}\n"
     ]
    }
   ],
   "source": [
    "import org.apache.spark.sql.functions._\n",
    "\n",
    "originAgg.limit(1)\n",
    "  .select(to_json(struct(originAgg.columns.map(col): _*)).as(\"json\"))\n",
    "  .collect()\n",
    "  .foreach(r => println(r.getAs[String](\"json\")))"
   ]
  },
  {
   "cell_type": "markdown",
   "id": "283fa7e1-e18f-4a35-86bc-71fd88365255",
   "metadata": {},
   "source": [
    "# Quelques Requettes"
   ]
  },
  {
   "cell_type": "code",
   "execution_count": 28,
   "id": "4ce07345-5d87-442c-a7db-681a94c7361b",
   "metadata": {},
   "outputs": [
    {
     "name": "stdout",
     "output_type": "stream",
     "text": [
      "Nombre de WBAN présents dans flights.ORIGIN_WBAN mais absents de WeatherData.WBAN :\n",
      "+-----------+\n",
      "|ORIGIN_WBAN|\n",
      "+-----------+\n",
      "|3927       |\n",
      "|3181       |\n",
      "|23259      |\n",
      "|12849      |\n",
      "|93184      |\n",
      "|3856       |\n",
      "|3822       |\n",
      "|23195      |\n",
      "|22521      |\n",
      "|93138      |\n",
      "|23183      |\n",
      "|24132      |\n",
      "|12894      |\n",
      "|94908      |\n",
      "|24090      |\n",
      "|23199      |\n",
      "|12816      |\n",
      "|4825       |\n",
      "|3947       |\n",
      "|3928       |\n",
      "+-----------+\n",
      "only showing top 20 rows\n",
      "\n"
     ]
    },
    {
     "data": {
      "text/plain": [
       "flightWban = [ORIGIN_WBAN: string]\n",
       "weatherWban = [WBAN: string]\n",
       "missingWban = [ORIGIN_WBAN: string]\n"
      ]
     },
     "metadata": {},
     "output_type": "display_data",
     "source": "user"
    },
    {
     "data": {
      "text/plain": [
       "[ORIGIN_WBAN: string]"
      ]
     },
     "execution_count": 28,
     "metadata": {},
     "output_type": "execute_result"
    }
   ],
   "source": [
    "import org.apache.spark.sql.functions._\n",
    "\n",
    "// 1) Sélectionner les colonnes WBAN uniques dans chaque dataset\n",
    "val flightWban = flightData.select(\"ORIGIN_WBAN\").distinct()\n",
    "val weatherWban = weatherData.select(\"WBAN\").distinct()\n",
    "\n",
    "// 2) Faire une \"left anti join\" → garde ceux qui ne matchent PAS\n",
    "val missingWban = flightWban.join(weatherWban,\n",
    "  flightWban(\"ORIGIN_WBAN\") === weatherWban(\"WBAN\"),\n",
    "  \"left_anti\"\n",
    ")\n",
    "\n",
    "// 3) Compter combien il y en a\n",
    "println(\"Nombre de WBAN présents dans flights.ORIGIN_WBAN mais absents de WeatherData.WBAN :\")\n",
    "missingWban.count()\n",
    "\n",
    "// 4) (Option) afficher la liste\n",
    "missingWban.show(20, false)"
   ]
  },
  {
   "cell_type": "code",
   "execution_count": null,
   "id": "4db4f94b-ea1b-4890-9f2a-18f83916b931",
   "metadata": {},
   "outputs": [],
   "source": []
  }
 ],
 "metadata": {
  "kernelspec": {
   "display_name": "apache_toree_scala - Scala",
   "language": "scala",
   "name": "apache_toree_scala_scala"
  },
  "language_info": {
   "codemirror_mode": "text/x-scala",
   "file_extension": ".scala",
   "mimetype": "text/x-scala",
   "name": "scala",
   "pygments_lexer": "scala",
   "version": "2.12.15"
  }
 },
 "nbformat": 4,
 "nbformat_minor": 5
}
