{
 "cells": [
  {
   "cell_type": "markdown",
   "id": "a137a405-aed5-4fb7-87b5-eeee85e6140c",
   "metadata": {},
   "source": [
    "# Weather Dataset Preprocessing and feature Engineering"
   ]
  },
  {
   "cell_type": "code",
   "execution_count": 5,
   "id": "53e4989d-8472-46e5-b806-ddde048d91f9",
   "metadata": {},
   "outputs": [
    {
     "name": "stdout",
     "output_type": "stream",
     "text": [
      "Using cached version of Emiasd-Flight-Data-Analysis.jar\n"
     ]
    },
    {
     "data": {
      "text/plain": [
       "error: error while loading FlightDataLoader, class file '/tmp/toree-tmp-dir16172290280173686224/toree_add_jars/Emiasd-Flight-Data-Analysis.jar(com/flightdelay/data/loaders/FlightDataLoader.class)' has location not matching its contents: contains class FlightDataLoader\n"
      ]
     },
     "metadata": {},
     "output_type": "display_data",
     "source": "user"
    },
    {
     "name": "stdout",
     "output_type": "stream",
     "text": [
      "Using cached version of Emiasd-Flight-Data-Analysis.jar\n"
     ]
    }
   ],
   "source": [
    "%AddJar file:///home/jovyan/work/apps/Emiasd-Flight-Data-Analysis.jar"
   ]
  },
  {
   "cell_type": "code",
   "execution_count": 6,
   "id": "4c5e2137-c51d-4b08-89fc-72273d7e9841",
   "metadata": {},
   "outputs": [
    {
     "data": {
      "text/plain": [
       "args = Array(jupyter)\n",
       "spark = org.apache.spark.sql.SparkSession@60cde8b2\n",
       "session = org.apache.spark.sql.SparkSession@60cde8b2\n",
       "configuration = AppConfiguration(local,CommonConfig(42,DataConfig(/home/jovyan/work/data,FileConfig(/home/jovyan/work/data/FLIGHT-3Y/Flights/201201.csv),FileConfig(/home/jovyan/work/data/FLIGHT-3Y/Weather/201201hourly.txt),FileConfig(/home/jovyan/work/data/FLIGHT-3Y/wban_airport_timezone.csv)),OutputConfig(/home/jovyan/work/output,FileConfig(/home/jovyan/work/output/data),FileCo...\n"
      ]
     },
     "metadata": {},
     "output_type": "display_data",
     "source": "user"
    },
    {
     "data": {
      "text/plain": [
       "AppConfiguration(local,CommonConfig(42,DataConfig(/home/jovyan/work/data,FileConfig(/home/jovyan/work/data/FLIGHT-3Y/Flights/201201.csv),FileConfig(/home/jovyan/work/data/FLIGHT-3Y/Weather/201201hourly.txt),FileConfig(/home/jovyan/work/data/FLIGHT-3Y/wban_airport_timezone.csv)),OutputConfig(/home/jovyan/work/output,FileConfig(/home/jovyan/work/output/data),FileCo..."
      ]
     },
     "execution_count": 6,
     "metadata": {},
     "output_type": "execute_result"
    }
   ],
   "source": [
    "import org.apache.spark.sql.SparkSession\n",
    "import com.flightdelay.config.{AppConfiguration, ConfigurationLoader}\n",
    "import com.flightdelay.data.loaders.FlightDataLoader\n",
    "\n",
    "//Env Configuration\n",
    "val args: Array[String] = Array(\"jupyter\")\n",
    "\n",
    "val spark = SparkSession.builder()\n",
    "  .config(sc.getConf)\n",
    "  .getOrCreate()\n",
    "\n",
    "// Rendre la session Spark implicite\n",
    "implicit val session = spark\n",
    "implicit val configuration: AppConfiguration = ConfigurationLoader.loadConfiguration(args)\n",
    "\n",
    "val rawFlightsPath = s\"${configuration.common.output.basePath}/common/data/processed_flights.parquet\"\n",
    "val flightsDF = spark.read.parquet(rawFlightsPath)"
   ]
  },
  {
   "cell_type": "code",
   "execution_count": 7,
   "id": "e2940aa8-c1c2-4034-87eb-51fb7d8fab64",
   "metadata": {},
   "outputs": [
    {
     "data": {
      "text/plain": [
       "403884"
      ]
     },
     "execution_count": 7,
     "metadata": {},
     "output_type": "execute_result"
    }
   ],
   "source": [
    "flightsDF.count()"
   ]
  },
  {
   "cell_type": "code",
   "execution_count": 8,
   "id": "e9f45dd1-1883-4e19-aab7-cc3571743db2",
   "metadata": {},
   "outputs": [
    {
     "name": "stdout",
     "output_type": "stream",
     "text": [
      "root\n",
      " |-- FL_DATE: date (nullable = true)\n",
      " |-- OP_CARRIER_AIRLINE_ID: integer (nullable = true)\n",
      " |-- OP_CARRIER_FL_NUM: integer (nullable = true)\n",
      " |-- ORIGIN_AIRPORT_ID: integer (nullable = true)\n",
      " |-- DEST_AIRPORT_ID: integer (nullable = true)\n",
      " |-- CRS_DEP_TIME: integer (nullable = true)\n",
      " |-- ARR_DELAY_NEW: double (nullable = true)\n",
      " |-- CRS_ELAPSED_TIME: double (nullable = true)\n",
      " |-- WEATHER_DELAY: double (nullable = true)\n",
      " |-- NAS_DELAY: double (nullable = true)\n",
      " |-- ORIGIN_WBAN: string (nullable = true)\n",
      " |-- ORIGIN_TIMEZONE: integer (nullable = true)\n",
      " |-- DEST_WBAN: string (nullable = true)\n",
      " |-- DEST_TIMEZONE: integer (nullable = true)\n",
      " |-- UTC_CRS_DEP_TIME: string (nullable = true)\n",
      " |-- UTC_ARR_TIME: string (nullable = true)\n",
      " |-- UTC_ARR_DATE: date (nullable = true)\n",
      " |-- CRS_ARR_TIME: string (nullable = true)\n",
      " |-- CRS_ARR_DATE: date (nullable = true)\n",
      " |-- feature_arrival_hour: integer (nullable = true)\n",
      " |-- feature_utc_arrival_hour: integer (nullable = true)\n",
      " |-- feature_utc_arrival_hour_rounded: string (nullable = true)\n",
      " |-- feature_utc_arrival_date: string (nullable = true)\n",
      " |-- feature_crosses_midnight_local: integer (nullable = true)\n",
      " |-- feature_crosses_midnight_utc: integer (nullable = true)\n",
      " |-- feature_flight_days_span: integer (nullable = true)\n",
      " |-- feature_timezone_difference: integer (nullable = true)\n",
      " |-- feature_flies_eastward: integer (nullable = true)\n",
      " |-- feature_flies_westward: integer (nullable = true)\n",
      " |-- feature_departure_minute: integer (nullable = true)\n",
      " |-- feature_arrival_minutes_total: double (nullable = true)\n",
      " |-- feature_crosses_midnight: integer (nullable = true)\n",
      " |-- feature_flight_day_of_week: integer (nullable = true)\n",
      " |-- feature_departure_hour_decimal: double (nullable = true)\n",
      " |-- feature_flight_timestamp: timestamp (nullable = true)\n",
      " |-- feature_utc_departure_hour: integer (nullable = true)\n",
      " |-- feature_flight_quarter_name: string (nullable = true)\n",
      " |-- feature_utc_departure_hour_decimal: double (nullable = true)\n",
      " |-- feature_departure_hour: integer (nullable = true)\n",
      " |-- feature_minutes_since_midnight: double (nullable = true)\n",
      " |-- feature_departure_quarter_day: integer (nullable = true)\n",
      " |-- feature_flight_month: integer (nullable = true)\n",
      " |-- feature_utc_departure_hour_rounded: long (nullable = true)\n",
      " |-- feature_arrival_minute: integer (nullable = true)\n",
      " |-- feature_flight_year: integer (nullable = true)\n",
      " |-- feature_flight_day_of_year: integer (nullable = true)\n",
      " |-- feature_arrival_time: integer (nullable = true)\n",
      " |-- feature_flight_quarter: integer (nullable = true)\n",
      " |-- feature_arrival_hour_decimal: double (nullable = true)\n",
      " |-- feature_flight_week_of_year: integer (nullable = true)\n",
      " |-- feature_flight_day_of_month: integer (nullable = true)\n",
      " |-- feature_departure_quarter_name: string (nullable = true)\n",
      " |-- feature_departure_time_period: string (nullable = true)\n",
      " |-- feature_departure_hour_rounded: long (nullable = true)\n",
      " |-- feature_departure_minutes_total: double (nullable = true)\n",
      " |-- feature_arrival_hour_rounded: string (nullable = true)\n",
      " |-- feature_arrival_date: string (nullable = true)\n",
      " |-- feature_distance_score: double (nullable = true)\n",
      " |-- feature_distance_category: string (nullable = true)\n",
      " |-- feature_carrier_hash: integer (nullable = true)\n",
      " |-- feature_route_id: string (nullable = true)\n",
      " |-- feature_is_likely_domestic: integer (nullable = true)\n",
      " |-- feature_is_roundtrip_candidate: integer (nullable = true)\n",
      " |-- feature_flight_unique_id: string (nullable = true)\n",
      " |-- feature_is_summer: integer (nullable = true)\n",
      " |-- feature_is_monday: integer (nullable = true)\n",
      " |-- feature_is_evening_rush: integer (nullable = true)\n",
      " |-- feature_is_month_start: integer (nullable = true)\n",
      " |-- feature_is_extended_weekend: integer (nullable = true)\n",
      " |-- feature_is_winter: integer (nullable = true)\n",
      " |-- feature_is_friday: integer (nullable = true)\n",
      " |-- feature_is_spring: integer (nullable = true)\n",
      " |-- feature_is_weekend: integer (nullable = true)\n",
      " |-- feature_is_holiday_season: integer (nullable = true)\n",
      " |-- feature_is_fall: integer (nullable = true)\n",
      " |-- feature_is_early_morning: integer (nullable = true)\n",
      " |-- feature_is_morning_rush: integer (nullable = true)\n",
      " |-- feature_is_business_hours: integer (nullable = true)\n",
      " |-- feature_is_night_flight: integer (nullable = true)\n",
      " |-- feature_is_month_end: integer (nullable = true)\n",
      " |-- feature_origin_complexity_score: double (nullable = true)\n",
      " |-- feature_is_westbound: integer (nullable = true)\n",
      " |-- feature_dest_complexity_score: double (nullable = true)\n",
      " |-- feature_dest_is_major_hub: integer (nullable = true)\n",
      " |-- feature_is_eastbound: integer (nullable = true)\n",
      " |-- feature_timezone_diff_proxy: integer (nullable = true)\n",
      " |-- feature_origin_is_major_hub: integer (nullable = true)\n",
      " |-- feature_is_hub_to_hub: integer (nullable = true)\n",
      " |-- feature_flights_on_route: long (nullable = true)\n",
      " |-- feature_carrier_flight_count: long (nullable = true)\n",
      " |-- feature_origin_airport_traffic: long (nullable = true)\n",
      " |-- feature_route_popularity_score: string (nullable = true)\n",
      " |-- feature_carrier_size_category: string (nullable = true)\n",
      " |-- AIRCRAFT_ID: string (nullable = true)\n",
      " |-- PREV_AIRCRAFT_ARR_DELAY: double (nullable = true)\n",
      " |-- IS_PREV_AIRCRAFT_LATE: integer (nullable = true)\n",
      " |-- label_arr_delay_filled: double (nullable = true)\n",
      " |-- label_nas_delay_filled: double (nullable = true)\n",
      " |-- label_weather_delay_filled: double (nullable = true)\n",
      " |-- label_weather_delay_was_missing: integer (nullable = true)\n",
      " |-- label_nas_delay_was_missing: integer (nullable = true)\n",
      " |-- label_arr_delay_was_missing: integer (nullable = true)\n",
      " |-- label_is_early: integer (nullable = true)\n",
      " |-- label_total_weather_nas_delay: double (nullable = true)\n",
      " |-- label_is_delayed_15min: integer (nullable = true)\n",
      " |-- label_has_nas_delay: integer (nullable = true)\n",
      " |-- label_is_delayed_30min: integer (nullable = true)\n",
      " |-- label_is_delayed_60min: integer (nullable = true)\n",
      " |-- label_is_delayed_45min: integer (nullable = true)\n",
      " |-- label_is_delayed_90min: integer (nullable = true)\n",
      " |-- label_has_weather_delay: integer (nullable = true)\n",
      " |-- label_is_on_time: integer (nullable = true)\n",
      " |-- label_has_any_weather_nas_delay: integer (nullable = true)\n",
      " |-- feature_avg_delay: double (nullable = true)\n",
      " |-- feature_num_previous_flights: long (nullable = true)\n",
      " |-- feature_stddev_delay: double (nullable = true)\n",
      " |-- feature_max_delay: double (nullable = true)\n",
      " |-- feature_min_delay: double (nullable = true)\n",
      " |-- feature_proportion_delayed_30min: double (nullable = true)\n",
      " |-- feature_proportion_delayed_60min: double (nullable = true)\n",
      " |-- feature_proportion_delayed_15min: double (nullable = true)\n",
      " |-- feature_proportion_delayed_45min: double (nullable = true)\n",
      " |-- feature_proportion_delayed_90min: double (nullable = true)\n",
      " |-- UTC_FL_DATE: date (nullable = true)\n",
      "\n"
     ]
    }
   ],
   "source": [
    "flightsDF.printSchema"
   ]
  },
  {
   "cell_type": "code",
   "execution_count": 9,
   "id": "21d40652-8fb6-491a-89fe-532daa6bffca",
   "metadata": {},
   "outputs": [],
   "source": [
    "import org.apache.spark.sql.{DataFrame, SparkSession}\n",
    "import org.apache.spark.sql.functions._\n",
    "import org.apache.spark.sql.types._\n",
    "import org.apache.spark.ml.feature.{StringIndexer, OneHotEncoder, VectorAssembler}\n",
    "import scala.util.Try"
   ]
  },
  {
   "cell_type": "code",
   "execution_count": 10,
   "id": "76e8f61c-b2d0-4a26-a56b-319bedec0931",
   "metadata": {},
   "outputs": [
    {
     "data": {
      "text/plain": [
       "403884"
      ]
     },
     "execution_count": 10,
     "metadata": {},
     "output_type": "execute_result"
    }
   ],
   "source": [
    "flightsDF.count()"
   ]
  },
  {
   "cell_type": "markdown",
   "id": "830c36d8-7298-466e-81c6-8b8c6ac412b2",
   "metadata": {},
   "source": [
    "# feature_flight_year, feature_flight_month"
   ]
  },
  {
   "cell_type": "code",
   "execution_count": 11,
   "id": "7032bbc6-45df-4617-9eab-28055090f344",
   "metadata": {},
   "outputs": [
    {
     "name": "stdout",
     "output_type": "stream",
     "text": [
      "+-------------------+--------------------+-------------+---------------+\n",
      "|feature_flight_year|feature_flight_month|total_flights|delayed_flights|\n",
      "+-------------------+--------------------+-------------+---------------+\n",
      "|2012               |1                   |10192        |4395           |\n",
      "|2012               |2                   |9664         |3942           |\n",
      "|2012               |3                   |11361        |5280           |\n",
      "|2012               |4                   |10231        |4202           |\n",
      "|2012               |5                   |10886        |4822           |\n",
      "|2012               |6                   |11353        |5424           |\n",
      "|2012               |7                   |11863        |5976           |\n",
      "|2012               |8                   |11740        |5790           |\n",
      "|2012               |9                   |10365        |4622           |\n",
      "|2012               |10                  |11445        |5600           |\n",
      "+-------------------+--------------------+-------------+---------------+\n",
      "only showing top 10 rows\n",
      "\n"
     ]
    },
    {
     "data": {
      "text/plain": [
       "delaysByYearMonth = [feature_flight_year: int, feature_flight_month: int ... 2 more fields]\n"
      ]
     },
     "metadata": {},
     "output_type": "display_data",
     "source": "user"
    },
    {
     "data": {
      "text/plain": [
       "[feature_flight_year: int, feature_flight_month: int ... 2 more fields]"
      ]
     },
     "execution_count": 11,
     "metadata": {},
     "output_type": "execute_result"
    }
   ],
   "source": [
    "import org.apache.spark.sql.functions._\n",
    "\n",
    "val delaysByYearMonth =\n",
    "  flightsDF\n",
    "    .groupBy(\"feature_flight_year\", \"feature_flight_month\")\n",
    "    .agg(\n",
    "      count(lit(1)).as(\"total_flights\"),\n",
    "      sum(col(\"label_is_delayed_15min\").cast(\"long\")).as(\"delayed_flights\")\n",
    "    )\n",
    "    .orderBy(col(\"feature_flight_year\"), col(\"feature_flight_month\"))\n",
    "\n",
    "delaysByYearMonth.show(10, truncate = false)"
   ]
  },
  {
   "cell_type": "markdown",
   "id": "fc76a4db-8a58-475a-bc9f-85fe13178619",
   "metadata": {},
   "source": [
    "# feature_departure_hour_rounded"
   ]
  },
  {
   "cell_type": "code",
   "execution_count": 12,
   "id": "70c295b1-1aaa-4ca2-8620-615f33bb9199",
   "metadata": {},
   "outputs": [
    {
     "name": "stdout",
     "output_type": "stream",
     "text": [
      "+------------------------------+-------------+---------------+------------------+\n",
      "|feature_departure_hour_rounded|total_flights|delayed_flights|delay_rate_percent|\n",
      "+------------------------------+-------------+---------------+------------------+\n",
      "|0                             |1468         |724            |49.32             |\n",
      "|100                           |504          |224            |44.44             |\n",
      "|200                           |137          |65             |47.45             |\n",
      "|300                           |60           |24             |40.0              |\n",
      "|400                           |26           |7              |26.92             |\n",
      "|500                           |936          |296            |31.62             |\n",
      "|600                           |18043        |6134           |34.0              |\n",
      "|700                           |23933        |8911           |37.23             |\n",
      "|800                           |23988        |9866           |41.13             |\n",
      "|900                           |25507        |11336          |44.44             |\n",
      "+------------------------------+-------------+---------------+------------------+\n",
      "only showing top 10 rows\n",
      "\n"
     ]
    },
    {
     "data": {
      "text/plain": [
       "delaysByYearMonth = [feature_departure_hour_rounded: bigint, total_flights: bigint ... 2 more fields]\n"
      ]
     },
     "metadata": {},
     "output_type": "display_data",
     "source": "user"
    },
    {
     "data": {
      "text/plain": [
       "[feature_departure_hour_rounded: bigint, total_flights: bigint ... 2 more fields]"
      ]
     },
     "execution_count": 12,
     "metadata": {},
     "output_type": "execute_result"
    }
   ],
   "source": [
    "import org.apache.spark.sql.functions._\n",
    "\n",
    "val delaysByYearMonth =\n",
    "  flightsDF\n",
    "    .groupBy(\"feature_departure_hour_rounded\")\n",
    "    .agg(\n",
    "      count(lit(1)).as(\"total_flights\"),\n",
    "      sum(col(\"label_is_delayed_15min\").cast(\"long\")).as(\"delayed_flights\")\n",
    "    )\n",
    "    .withColumn(\n",
    "      \"delay_rate_percent\",\n",
    "      round(col(\"delayed_flights\") / col(\"total_flights\") * 100, 2)\n",
    "    )\n",
    "    .orderBy(col(\"feature_departure_hour_rounded\"))\n",
    "\n",
    "delaysByYearMonth.show(10, truncate = false)"
   ]
  },
  {
   "cell_type": "markdown",
   "id": "cb9bd23f-3540-4af5-a966-ac4216ae358b",
   "metadata": {},
   "source": [
    "# feature_flight_day_of_week"
   ]
  },
  {
   "cell_type": "code",
   "execution_count": 13,
   "id": "8f5d2da2-bf1c-4b94-a417-18b2701fc1a6",
   "metadata": {},
   "outputs": [
    {
     "name": "stdout",
     "output_type": "stream",
     "text": [
      "+--------------------------+-------------+---------------+------------------+\n",
      "|feature_flight_day_of_week|total_flights|delayed_flights|delay_rate_percent|\n",
      "+--------------------------+-------------+---------------+------------------+\n",
      "|1                         |56584        |27954          |49.4              |\n",
      "|2                         |60808        |30740          |50.55             |\n",
      "|3                         |57154        |27685          |48.44             |\n",
      "|4                         |58830        |29197          |49.63             |\n",
      "|5                         |61167        |32190          |52.63             |\n",
      "|6                         |61262        |32256          |52.65             |\n",
      "|7                         |48079        |22030          |45.82             |\n",
      "+--------------------------+-------------+---------------+------------------+\n",
      "\n"
     ]
    },
    {
     "data": {
      "text/plain": [
       "delaysByYearMonth = [feature_flight_day_of_week: int, total_flights: bigint ... 2 more fields]\n"
      ]
     },
     "metadata": {},
     "output_type": "display_data",
     "source": "user"
    },
    {
     "data": {
      "text/plain": [
       "[feature_flight_day_of_week: int, total_flights: bigint ... 2 more fields]"
      ]
     },
     "execution_count": 13,
     "metadata": {},
     "output_type": "execute_result"
    }
   ],
   "source": [
    "import org.apache.spark.sql.functions._\n",
    "\n",
    "val delaysByYearMonth =\n",
    "  flightsDF\n",
    "    .groupBy(\"feature_flight_day_of_week\")\n",
    "    .agg(\n",
    "      count(lit(1)).as(\"total_flights\"),\n",
    "      sum(col(\"label_is_delayed_15min\").cast(\"long\")).as(\"delayed_flights\")\n",
    "    )\n",
    "    .withColumn(\n",
    "      \"delay_rate_percent\",\n",
    "      round(col(\"delayed_flights\") / col(\"total_flights\") * 100, 2)\n",
    "    )\n",
    "    .orderBy(col(\"feature_flight_day_of_week\"))\n",
    "\n",
    "delaysByYearMonth.show(10, truncate = false)"
   ]
  },
  {
   "cell_type": "markdown",
   "id": "4aa2b7ed-0308-4640-bfb4-6080b819cf7f",
   "metadata": {},
   "source": [
    "# feature_flight_day_of_month"
   ]
  },
  {
   "cell_type": "code",
   "execution_count": 14,
   "id": "34c81f66-0ddf-4165-8f64-10cd2fc4d91d",
   "metadata": {},
   "outputs": [
    {
     "name": "stdout",
     "output_type": "stream",
     "text": [
      "+---------------------------+-------------+---------------+------------------+\n",
      "|feature_flight_day_of_month|total_flights|delayed_flights|delay_rate_percent|\n",
      "+---------------------------+-------------+---------------+------------------+\n",
      "|1                          |13061        |6689           |51.21             |\n",
      "|2                          |13120        |6718           |51.2              |\n",
      "|3                          |13333        |6649           |49.87             |\n",
      "|4                          |12891        |6170           |47.86             |\n",
      "|5                          |12879        |6014           |46.7              |\n",
      "|6                          |12875        |6111           |47.46             |\n",
      "|7                          |13041        |6325           |48.5              |\n",
      "|8                          |13020        |6523           |50.1              |\n",
      "|9                          |13197        |6613           |50.11             |\n",
      "|10                         |13408        |6838           |51.0              |\n",
      "+---------------------------+-------------+---------------+------------------+\n",
      "only showing top 10 rows\n",
      "\n"
     ]
    },
    {
     "data": {
      "text/plain": [
       "delaysByYearMonth = [feature_flight_day_of_month: int, total_flights: bigint ... 2 more fields]\n"
      ]
     },
     "metadata": {},
     "output_type": "display_data",
     "source": "user"
    },
    {
     "data": {
      "text/plain": [
       "[feature_flight_day_of_month: int, total_flights: bigint ... 2 more fields]"
      ]
     },
     "execution_count": 14,
     "metadata": {},
     "output_type": "execute_result"
    }
   ],
   "source": [
    "import org.apache.spark.sql.functions._\n",
    "\n",
    "val delaysByYearMonth =\n",
    "  flightsDF\n",
    "    .groupBy(\"feature_flight_day_of_month\")\n",
    "    .agg(\n",
    "      count(lit(1)).as(\"total_flights\"),\n",
    "      sum(col(\"label_is_delayed_15min\").cast(\"long\")).as(\"delayed_flights\")\n",
    "    )\n",
    "    .withColumn(\n",
    "      \"delay_rate_percent\",\n",
    "      round(col(\"delayed_flights\") / col(\"total_flights\") * 100, 2)\n",
    "    )\n",
    "    .orderBy(col(\"feature_flight_day_of_month\"))\n",
    "\n",
    "delaysByYearMonth.show(10, truncate = false)"
   ]
  },
  {
   "cell_type": "markdown",
   "id": "a283858d-428e-4ed8-8418-9a7923a36395",
   "metadata": {},
   "source": [
    "# feature_flight_day_of_year"
   ]
  },
  {
   "cell_type": "code",
   "execution_count": 15,
   "id": "99e5dbeb-5664-4d26-9d2a-9afbb12333cc",
   "metadata": {},
   "outputs": [
    {
     "name": "stdout",
     "output_type": "stream",
     "text": [
      "+--------------------------+-------------+---------------+------------------+\n",
      "|feature_flight_day_of_year|total_flights|delayed_flights|delay_rate_percent|\n",
      "+--------------------------+-------------+---------------+------------------+\n",
      "|355                       |1271         |863            |67.9              |\n",
      "|356                       |1350         |897            |66.44             |\n",
      "|357                       |1250         |821            |65.68             |\n",
      "|354                       |1314         |839            |63.85             |\n",
      "|364                       |1238         |773            |62.44             |\n",
      "|363                       |1259         |779            |61.87             |\n",
      "|362                       |1288         |792            |61.49             |\n",
      "|2                         |1205         |741            |61.49             |\n",
      "|345                       |1286         |785            |61.04             |\n",
      "|361                       |1270         |774            |60.94             |\n",
      "+--------------------------+-------------+---------------+------------------+\n",
      "only showing top 10 rows\n",
      "\n"
     ]
    },
    {
     "data": {
      "text/plain": [
       "delaysByYearMonth = [feature_flight_day_of_year: int, total_flights: bigint ... 2 more fields]\n"
      ]
     },
     "metadata": {},
     "output_type": "display_data",
     "source": "user"
    },
    {
     "data": {
      "text/plain": [
       "[feature_flight_day_of_year: int, total_flights: bigint ... 2 more fields]"
      ]
     },
     "execution_count": 15,
     "metadata": {},
     "output_type": "execute_result"
    }
   ],
   "source": [
    "import org.apache.spark.sql.functions._\n",
    "\n",
    "val delaysByYearMonth =\n",
    "  flightsDF\n",
    "    .groupBy(\"feature_flight_day_of_year\")\n",
    "    .agg(\n",
    "      count(lit(1)).as(\"total_flights\"),\n",
    "      sum(col(\"label_is_delayed_15min\").cast(\"long\")).as(\"delayed_flights\")\n",
    "    )\n",
    "    .withColumn(\n",
    "      \"delay_rate_percent\",\n",
    "      round(col(\"delayed_flights\") / col(\"total_flights\") * 100, 2)\n",
    "    )\n",
    "    .orderBy(col(\"delay_rate_percent\").desc)\n",
    "\n",
    "delaysByYearMonth.show(10, truncate = false)"
   ]
  },
  {
   "cell_type": "markdown",
   "id": "80efb7d9-ab96-4b4b-b92c-7b0962606d7d",
   "metadata": {},
   "source": [
    "# feature_flight_week_of_year"
   ]
  },
  {
   "cell_type": "code",
   "execution_count": 16,
   "id": "610db0a2-1964-4b83-b3c2-764f977b5068",
   "metadata": {},
   "outputs": [
    {
     "name": "stdout",
     "output_type": "stream",
     "text": [
      "+---------------------------+-------------+---------------+------------------+\n",
      "|feature_flight_week_of_year|total_flights|delayed_flights|delay_rate_percent|\n",
      "+---------------------------+-------------+---------------+------------------+\n",
      "|51                         |8798         |5377           |61.12             |\n",
      "|52                         |8464         |5055           |59.72             |\n",
      "|26                         |8116         |4555           |56.12             |\n",
      "|28                         |8363         |4654           |55.65             |\n",
      "|24                         |8575         |4701           |54.82             |\n",
      "|50                         |7861         |4279           |54.43             |\n",
      "|29                         |8472         |4577           |54.03             |\n",
      "|12                         |8213         |4392           |53.48             |\n",
      "|9                          |8127         |4326           |53.23             |\n",
      "|30                         |8464         |4495           |53.11             |\n",
      "+---------------------------+-------------+---------------+------------------+\n",
      "only showing top 10 rows\n",
      "\n"
     ]
    },
    {
     "data": {
      "text/plain": [
       "delaysByYearMonth = [feature_flight_week_of_year: int, total_flights: bigint ... 2 more fields]\n"
      ]
     },
     "metadata": {},
     "output_type": "display_data",
     "source": "user"
    },
    {
     "data": {
      "text/plain": [
       "[feature_flight_week_of_year: int, total_flights: bigint ... 2 more fields]"
      ]
     },
     "execution_count": 16,
     "metadata": {},
     "output_type": "execute_result"
    }
   ],
   "source": [
    "import org.apache.spark.sql.functions._\n",
    "\n",
    "val delaysByYearMonth =\n",
    "  flightsDF\n",
    "    .groupBy(\"feature_flight_week_of_year\")\n",
    "    .agg(\n",
    "      count(lit(1)).as(\"total_flights\"),\n",
    "      sum(col(\"label_is_delayed_15min\").cast(\"long\")).as(\"delayed_flights\")\n",
    "    )\n",
    "    .withColumn(\n",
    "      \"delay_rate_percent\",\n",
    "      round(col(\"delayed_flights\") / col(\"total_flights\") * 100, 2)\n",
    "    )\n",
    "    .orderBy(col(\"delay_rate_percent\").desc)\n",
    "\n",
    "delaysByYearMonth.show(10, truncate = false)"
   ]
  },
  {
   "cell_type": "markdown",
   "id": "12233705-03e6-4eb4-8f43-dbc407129bbc",
   "metadata": {},
   "source": [
    "# AvgDelayFeature"
   ]
  },
  {
   "cell_type": "code",
   "execution_count": 17,
   "id": "24857ce5-e710-4c37-93d0-0d1626ada2aa",
   "metadata": {},
   "outputs": [
    {
     "data": {
      "text/plain": [
       "defined object AvgDelayFeature\n"
      ]
     },
     "metadata": {},
     "output_type": "display_data",
     "source": "user"
    }
   ],
   "source": [
    "import org.apache.spark.sql.{DataFrame, SparkSession}\n",
    "import org.apache.spark.sql.functions._\n",
    "import org.apache.spark.sql.expressions.Window\n",
    "\n",
    "object AvgDelayFeature {\n",
    "\n",
    "  /**\n",
    "   * Version optimisée du calcul de l'avg_delay\n",
    "   * Optimisations:\n",
    "   * - Window functions au lieu de self-join\n",
    "   * - Calcul des timestamps une seule fois\n",
    "   * - Partitionnement intelligent\n",
    "   * - Cache des données intermédiaires\n",
    "   */\n",
    "  def enrichFlightsWithAvgDelay(flightData: DataFrame)(implicit spark: SparkSession): DataFrame = {\n",
    "    \n",
    "    import spark.implicits._\n",
    "    \n",
    "    // Étape 1 : Préparation une seule fois avec cache\n",
    "    val flightWithTimestamps = flightData\n",
    "      .withColumn(\"utc_departure_timestamp\", \n",
    "        to_timestamp(\n",
    "          concat(\n",
    "            col(\"UTC_FL_DATE\"), \n",
    "            lit(\" \"), \n",
    "            lpad(col(\"feature_utc_departure_hour_rounded\"), 2, \"0\"),\n",
    "            lit(\":00:00\")\n",
    "          )\n",
    "        )\n",
    "      )\n",
    "      .withColumn(\"6_hour_before_departure\", \n",
    "        col(\"utc_departure_timestamp\") - expr(\"INTERVAL 6 HOURS\")\n",
    "      )\n",
    "      .withColumn(\"2_hour_before_departure\", \n",
    "        col(\"utc_departure_timestamp\") - expr(\"INTERVAL 2 HOURS\")\n",
    "      )\n",
    "      .repartition(col(\"ORIGIN_AIRPORT_ID\")) // Partitionnement par aéroport\n",
    "      .cache() // Cache pour éviter recalcul\n",
    "    \n",
    "    // Étape 2 : Utiliser Window Functions (plus efficace que self-join)\n",
    "    // Créer une fenêtre glissante par aéroport\n",
    "    val windowSpec = Window\n",
    "      .partitionBy(\"ORIGIN_AIRPORT_ID\")\n",
    "      .orderBy(col(\"utc_departure_timestamp\").cast(\"long\"))\n",
    "      .rangeBetween(-6 * 3600, -2 * 3600) // En secondes: -6h à -2h\n",
    "    \n",
    "    // Étape 3 : Calculer les statistiques avec window functions\n",
    "    val enrichedFlights = flightWithTimestamps\n",
    "      .withColumn(\"avg_delay\", \n",
    "        avg(col(\"label_arr_delay_filled\")).over(windowSpec)\n",
    "      )\n",
    "      .withColumn(\"num_previous_flights\", \n",
    "        count(col(\"label_arr_delay_filled\")).over(windowSpec)\n",
    "      )\n",
    "      .withColumn(\"proportion_delayed_15min\", \n",
    "        avg(col(\"label_is_delayed_15min\").cast(\"double\")).over(windowSpec)\n",
    "      )\n",
    "      .withColumn(\"stddev_delay\", \n",
    "        stddev(col(\"label_arr_delay_filled\")).over(windowSpec)\n",
    "      )\n",
    "      .withColumn(\"max_delay\", \n",
    "        max(col(\"label_arr_delay_filled\")).over(windowSpec)\n",
    "      )\n",
    "      .withColumn(\"min_delay\", \n",
    "        min(col(\"label_arr_delay_filled\")).over(windowSpec)\n",
    "      )\n",
    "      // Remplacer les null par 0 pour les vols sans historique\n",
    "      .na.fill(0.0, Seq(\"avg_delay\", \"proportion_delayed_15min\", \"stddev_delay\", \"max_delay\", \"min_delay\"))\n",
    "      .na.fill(0, Seq(\"num_previous_flights\"))\n",
    "      // Nettoyer les colonnes intermédiaires\n",
    "      .drop(\"6_hour_before_departure\", \"2_hour_before_departure\")\n",
    "    \n",
    "    // Unpersist pour libérer la mémoire\n",
    "    flightWithTimestamps.unpersist()\n",
    "    \n",
    "    enrichedFlights\n",
    "  }\n",
    "  \n",
    "  /**\n",
    "   * Version alternative avec broadcast join si peu d'aéroports\n",
    "   * Utilise un self-join optimisé avec broadcast\n",
    "   */\n",
    "  def enrichFlightsWithAvgDelayBroadcast(flightData: DataFrame)(implicit spark: SparkSession): DataFrame = {\n",
    "    \n",
    "    import spark.implicits._\n",
    "    import org.apache.spark.sql.functions.broadcast\n",
    "    \n",
    "    // Préparation des timestamps\n",
    "    val flightWithTimestamps = flightData\n",
    "      .withColumn(\"utc_departure_timestamp\", \n",
    "        to_timestamp(\n",
    "          concat(\n",
    "            col(\"UTC_FL_DATE\"), \n",
    "            lit(\" \"), \n",
    "            lpad(col(\"feature_utc_departure_hour_rounded\"), 2, \"0\"),\n",
    "            lit(\":00:00\")\n",
    "          )\n",
    "        )\n",
    "      )\n",
    "      .withColumn(\"dep_ts_long\", col(\"utc_departure_timestamp\").cast(\"long\"))\n",
    "      .repartition(200, col(\"ORIGIN_AIRPORT_ID\")) // Augmenter le parallélisme\n",
    "      .cache()\n",
    "    \n",
    "    // Créer un DataFrame agrégé plus petit (candidat pour broadcast)\n",
    "    val delayStats = flightWithTimestamps\n",
    "      .groupBy(\"ORIGIN_AIRPORT_ID\", \"dep_ts_long\")\n",
    "      .agg(\n",
    "        avg(\"label_arr_delay_filled\").alias(\"instant_avg_delay\"),\n",
    "        count(\"*\").alias(\"flights_at_this_time\"),\n",
    "        avg(col(\"label_is_delayed_15min\").cast(\"double\")).alias(\"instant_proportion_delayed\")\n",
    "      )\n",
    "    \n",
    "    // Self-join optimisé avec range condition\n",
    "    val enrichedFlights = flightWithTimestamps.as(\"f1\")\n",
    "      .join(\n",
    "        delayStats.as(\"f2\"),\n",
    "        col(\"f1.ORIGIN_AIRPORT_ID\") === col(\"f2.ORIGIN_AIRPORT_ID\") &&\n",
    "        col(\"f2.dep_ts_long\") >= col(\"f1.dep_ts_long\") - 6 * 3600 &&\n",
    "        col(\"f2.dep_ts_long\") <= col(\"f1.dep_ts_long\") - 2 * 3600,\n",
    "        \"left\"\n",
    "      )\n",
    "      .groupBy(\"f1.*\")\n",
    "      .agg(\n",
    "        avg(\"f2.instant_avg_delay\").alias(\"avg_delay\"),\n",
    "        sum(\"f2.flights_at_this_time\").alias(\"num_previous_flights\"),\n",
    "        avg(\"f2.instant_proportion_delayed\").alias(\"proportion_delayed_15min\")\n",
    "      )\n",
    "      .na.fill(0.0, Seq(\"avg_delay\", \"proportion_delayed_15min\"))\n",
    "      .na.fill(0, Seq(\"num_previous_flights\"))\n",
    "      .drop(\"dep_ts_long\")\n",
    "    \n",
    "    flightWithTimestamps.unpersist()\n",
    "    \n",
    "    enrichedFlights\n",
    "  }\n",
    "  \n",
    "}"
   ]
  },
  {
   "cell_type": "markdown",
   "id": "2dc31a41-5627-48a3-a64c-f0aed2546cdb",
   "metadata": {},
   "source": [
    "# Flight Delay Metrics"
   ]
  },
  {
   "cell_type": "code",
   "execution_count": 30,
   "id": "ae8376a7-882c-4240-b37d-87c5bd9b4c7a",
   "metadata": {},
   "outputs": [
    {
     "name": "stdout",
     "output_type": "stream",
     "text": [
      "+----------+-----------------+-----------------+-------------+---------+-------------+-----------------------------+----------------------+--------------------------------+\n",
      "|   FL_DATE|OP_CARRIER_FL_NUM|ORIGIN_AIRPORT_ID|WEATHER_DELAY|NAS_DELAY|ARR_DELAY_NEW|label_total_weather_nas_delay|label_is_delayed_15min|feature_proportion_delayed_15min|\n",
      "+----------+-----------------+-----------------+-------------+---------+-------------+-----------------------------+----------------------+--------------------------------+\n",
      "|2013-03-11|             3508|            10397|          3.0|     11.0|         18.0|                         14.0|                     1|             0.03508771929824561|\n",
      "+----------+-----------------+-----------------+-------------+---------+-------------+-----------------------------+----------------------+--------------------------------+\n",
      "\n"
     ]
    },
    {
     "data": {
      "text/plain": [
       "delayColumns = List(FL_DATE, OP_CARRIER_FL_NUM, ORIGIN_AIRPORT_ID, WEATHER_DELAY, NAS_DELAY, ARR_DELAY_NEW, label_total_weather_nas_delay, label_is_delayed_15min, feature_proportion_delayed_15min)\n",
       "df = [FL_DATE: date, OP_CARRIER_FL_NUM: int ... 7 more fields]\n"
      ]
     },
     "metadata": {},
     "output_type": "display_data",
     "source": "user"
    },
    {
     "data": {
      "text/plain": [
       "[FL_DATE: date, OP_CARRIER_FL_NUM: int ... 7 more fields]"
      ]
     },
     "execution_count": 30,
     "metadata": {},
     "output_type": "execute_result"
    }
   ],
   "source": [
    "import org.apache.spark.sql.functions._\n",
    "\n",
    "val delayColumns = Seq(\n",
    "  \"FL_DATE\",\n",
    "  \"OP_CARRIER_FL_NUM\",\n",
    "  \"ORIGIN_AIRPORT_ID\",\n",
    "  \"WEATHER_DELAY\",\n",
    "  \"NAS_DELAY\",\n",
    "  \"ARR_DELAY_NEW\",\n",
    "\n",
    "  /**\"label_is_early\",\n",
    "  \"label_is_on_time\",\n",
    "    \n",
    "  \"label_arr_delay_filled\",\n",
    "  \"label_nas_delay_filled\",\n",
    "  \"label_weather_delay_filled\",\n",
    "    \n",
    "  \"label_weather_delay_was_missing\",\n",
    "  \"label_nas_delay_was_missing\",\n",
    "  \"label_arr_delay_was_missing\",**/\n",
    "  \n",
    "  \"label_total_weather_nas_delay\",\n",
    "\n",
    "  /**\"label_has_nas_delay\",\n",
    "  \"label_has_weather_delay\",\n",
    "  \"label_has_any_weather_nas_delay\",**/\n",
    "    \n",
    "  \"label_is_delayed_15min\",\n",
    "  /**\"label_is_delayed_30min\",\n",
    "  \"label_is_delayed_60min\",\n",
    "  \"label_is_delayed_45min\",\n",
    "  \"label_is_delayed_90min\",\n",
    "  \n",
    "  \"feature_avg_delay\",\n",
    "  \"feature_num_previous_flights\",\n",
    "  \"feature_stddev_delay\",\n",
    "  \"feature_max_delay\",\n",
    "  \"feature_min_delay\",**/\n",
    "\n",
    "  \"feature_proportion_delayed_15min\",    \n",
    "  /**\"feature_proportion_delayed_30min\",\n",
    "  \"feature_proportion_delayed_60min\",\n",
    "  \"feature_proportion_delayed_45min\",\n",
    "  \"feature_proportion_delayed_90min\"**/\n",
    ")\n",
    "\n",
    "val df = flightsDF\n",
    "  .select(delayColumns.head, delayColumns.tail: _*)\n",
    "  .filter(\n",
    "    col(\"FL_DATE\") === \"2013-03-11\" &&\n",
    "    col(\"OP_CARRIER_FL_NUM\") === 3508 &&  \n",
    "    col(\"WEATHER_DELAY\").isNotNull && col(\"WEATHER_DELAY\") > 0 &&\n",
    "    col(\"NAS_DELAY\").isNotNull && col(\"NAS_DELAY\") > 0\n",
    "  )\n",
    "\n",
    "df.show(5)\n"
   ]
  },
  {
   "cell_type": "code",
   "execution_count": null,
   "id": "f74ca16c-992c-4f1c-a587-d3fa2b62ed9d",
   "metadata": {},
   "outputs": [],
   "source": []
  }
 ],
 "metadata": {
  "kernelspec": {
   "display_name": "apache_toree_scala - Scala",
   "language": "scala",
   "name": "apache_toree_scala_scala"
  },
  "language_info": {
   "codemirror_mode": "text/x-scala",
   "file_extension": ".scala",
   "mimetype": "text/x-scala",
   "name": "scala",
   "pygments_lexer": "scala",
   "version": "2.12.15"
  }
 },
 "nbformat": 4,
 "nbformat_minor": 5
}
