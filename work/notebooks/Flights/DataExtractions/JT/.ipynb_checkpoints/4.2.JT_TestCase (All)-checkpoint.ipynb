{
 "cells": [
  {
   "cell_type": "markdown",
   "id": "88b9b4e7-f711-4832-8798-501c1b052275",
   "metadata": {},
   "source": [
    "# Jointure MapReduce"
   ]
  },
  {
   "cell_type": "code",
   "execution_count": 39,
   "id": "d243dd12-14c2-459d-9cbf-032e0ad38481",
   "metadata": {},
   "outputs": [
    {
     "name": "stdout",
     "output_type": "stream",
     "text": [
      "Using cached version of Emiasd-Flight-Data-Analysis.jar\n"
     ]
    },
    {
     "data": {
      "text/plain": [
       "error: error while loading FlightDataLoader, class file '/tmp/toree-tmp-dir13518814707147911106/toree_add_jars/Emiasd-Flight-Data-Analysis.jar(com/flightdelay/data/loaders/FlightDataLoader.class)' has location not matching its contents: contains class FlightDataLoader\n"
      ]
     },
     "metadata": {},
     "output_type": "display_data",
     "source": "user"
    },
    {
     "name": "stdout",
     "output_type": "stream",
     "text": [
      "Using cached version of Emiasd-Flight-Data-Analysis.jar\n"
     ]
    }
   ],
   "source": [
    "%AddJar file:///home/jovyan/work/apps/Emiasd-Flight-Data-Analysis.jar"
   ]
  },
  {
   "cell_type": "code",
   "execution_count": 40,
   "id": "c1467791-f615-4d99-a001-5b50ede6638a",
   "metadata": {},
   "outputs": [
    {
     "data": {
      "text/plain": [
       "args = Array(juniper)\n",
       "spark = org.apache.spark.sql.SparkSession@476dd8d6\n",
       "session = org.apache.spark.sql.SparkSession@476dd8d6\n",
       "configuration = AppConfiguration(local,CommonConfig(42,DataConfig(/home/jovyan/work/data,FileConfig(/home/jovyan/work/data/FLIGHT-3Y/Flights/201201.csv),FileConfig(/home/jovyan/work/data/FLIGHT-3Y/Weather/201201hourly.txt),FileConfig(/home/jovyan/work/data/FLIGHT-3Y/wban_airport_timezone.csv)),OutputConfig(/home/jovyan/work/output,FileConfig(/home/jovyan/work/output/data),FileCo...\n"
      ]
     },
     "metadata": {},
     "output_type": "display_data",
     "source": "user"
    },
    {
     "data": {
      "text/plain": [
       "AppConfiguration(local,CommonConfig(42,DataConfig(/home/jovyan/work/data,FileConfig(/home/jovyan/work/data/FLIGHT-3Y/Flights/201201.csv),FileConfig(/home/jovyan/work/data/FLIGHT-3Y/Weather/201201hourly.txt),FileConfig(/home/jovyan/work/data/FLIGHT-3Y/wban_airport_timezone.csv)),OutputConfig(/home/jovyan/work/output,FileConfig(/home/jovyan/work/output/data),FileCo..."
      ]
     },
     "execution_count": 40,
     "metadata": {},
     "output_type": "execute_result"
    }
   ],
   "source": [
    "import org.apache.spark.sql.SparkSession\n",
    "import com.flightdelay.config.{AppConfiguration, ConfigurationLoader}\n",
    "import com.flightdelay.data.loaders.FlightDataLoader\n",
    "\n",
    "//Env Configuration\n",
    "val args: Array[String] = Array(\"juniper\")\n",
    "\n",
    "val spark = SparkSession.builder()\n",
    "  .config(sc.getConf)\n",
    "  .getOrCreate()\n",
    "\n",
    "// Rendre la session Spark implicite\n",
    "implicit val session = spark\n",
    "implicit val configuration: AppConfiguration = ConfigurationLoader.loadConfiguration(args)"
   ]
  },
  {
   "cell_type": "markdown",
   "id": "b0e703a9-0253-4882-9f53-833a7387c631",
   "metadata": {},
   "source": [
    "# Chargement Flight et Weather"
   ]
  },
  {
   "cell_type": "code",
   "execution_count": 55,
   "id": "ca355c08-04d4-45f5-afb7-264dd6cd5d13",
   "metadata": {},
   "outputs": [
    {
     "data": {
      "text/plain": [
       "lastException = null\n",
       "processedFlightPath = /home/jovyan/work/output/common/data/processed_flights.parquet\n",
       "flightDF = [FL_DATE: date, OP_CARRIER_AIRLINE_ID: int ... 97 more fields]\n",
       "rawWeatherPath = /home/jovyan/work/output/common/data/raw_weather.parquet\n",
       "rawWeatherDF = [WBAN: string, Date: string ... 42 more fields]\n",
       "processedWeatherPath = /home/jovyan/work/output/common/data/processed_weather.parquet\n",
       "weatherDF = [WBAN: string, Date: date ... 65 more fields]\n"
      ]
     },
     "metadata": {},
     "output_type": "display_data",
     "source": "user"
    },
    {
     "data": {
      "text/plain": [
       "[WBAN: string, Date: date ... 65 more fields]"
      ]
     },
     "execution_count": 55,
     "metadata": {},
     "output_type": "execute_result"
    }
   ],
   "source": [
    "// Chargement de Flight Data\n",
    "val processedFlightPath = s\"${configuration.common.output.basePath}/common/data/processed_flights.parquet\"\n",
    "val flightDF = spark.read.parquet(processedFlightPath)\n",
    "\n",
    "val rawWeatherPath = s\"${configuration.common.output.basePath}/common/data/raw_weather.parquet\"\n",
    "val rawWeatherDF = spark.read.parquet(rawWeatherPath)\n",
    "val processedWeatherPath = s\"${configuration.common.output.basePath}/common/data/processed_weather.parquet\"\n",
    "val weatherDF = spark.read.parquet(processedWeatherPath)\n",
    "\n"
   ]
  },
  {
   "cell_type": "markdown",
   "id": "92745f19-b4ff-418b-8609-1db22e9b6c31",
   "metadata": {},
   "source": [
    "## Weather"
   ]
  },
  {
   "cell_type": "code",
   "execution_count": 81,
   "id": "37d803bd-46d5-4380-8a60-8e500d442ba1",
   "metadata": {},
   "outputs": [
    {
     "name": "stdout",
     "output_type": "stream",
     "text": [
      "+-----+----------+----+-----------+-------------+----------+\n",
      "| WBAN|      Date|Time|StationType| SkyCondition|Visibility|\n",
      "+-----+----------+----+-----------+-------------+----------+\n",
      "|13869|2012-01-09|0000|         12|          CLR|      10.0|\n",
      "|13869|2012-01-09|0100|         12|BKN050 OVC100|      10.0|\n",
      "|13869|2012-01-09|0200|         12|       OVC110|      10.0|\n",
      "|13869|2012-01-09|0300|         12|       SCT001|       7.0|\n",
      "|13869|2012-01-09|0400|         12|BKN001 OVC005|       1.5|\n",
      "|13869|2012-01-09|0500|         12|       OVC100|      1.75|\n",
      "|13869|2012-01-09|0600|         12|       OVC110|       9.0|\n",
      "|13869|2012-01-09|0700|         12|       OVC110|      10.0|\n",
      "|13869|2012-01-09|0800|         12|       OVC110|       5.0|\n",
      "|13869|2012-01-09|0900|         12|          CLR|       8.0|\n",
      "|13869|2012-01-09|1000|         12|       BKN110|      10.0|\n",
      "|13869|2012-01-09|1100|         12|       BKN100|      10.0|\n",
      "|13869|2012-01-09|1200|         12|          CLR|      10.0|\n",
      "|13869|2012-01-09|1300|         12|          CLR|      10.0|\n",
      "|13869|2012-01-09|1400|         12|          CLR|      10.0|\n",
      "|13869|2012-01-09|1500|         12|       BKN100|      10.0|\n",
      "|13869|2012-01-09|1600|         12|          CLR|      10.0|\n",
      "|13869|2012-01-09|1700|         12|          CLR|      10.0|\n",
      "|13869|2012-01-09|1800|         12|          CLR|      10.0|\n",
      "|13869|2012-01-09|1900|         12|          CLR|      10.0|\n",
      "|13869|2012-01-09|2000|         12|          CLR|      10.0|\n",
      "|13869|2012-01-09|2100|         12|          CLR|       9.0|\n",
      "|13869|2012-01-09|2200|         12|          CLR|       9.0|\n",
      "|13869|2012-01-09|2300|         12|          CLR|       9.0|\n",
      "+-----+----------+----+-----------+-------------+----------+\n",
      "\n"
     ]
    },
    {
     "data": {
      "text/plain": [
       "weatherColumns = List(WBAN, Date, Time, StationType, SkyCondition, Visibility)\n",
       "weatherData = [WBAN: string, Date: date ... 4 more fields]\n"
      ]
     },
     "metadata": {},
     "output_type": "display_data",
     "source": "user"
    },
    {
     "data": {
      "text/plain": [
       "[WBAN: string, Date: date ... 4 more fields]"
      ]
     },
     "execution_count": 81,
     "metadata": {},
     "output_type": "execute_result"
    }
   ],
   "source": [
    "import java.sql.Date\n",
    "\n",
    "val weatherColumns = Seq(\n",
    "  \"WBAN\",\n",
    "  \"Date\",\n",
    "  \"Time\",\n",
    "  \"StationType\",\n",
    "  \"SkyCondition\",\n",
    "  \"Visibility\",\n",
    ")\n",
    "\n",
    "val weatherData = weatherDF\n",
    "  .select(weatherColumns.head, weatherColumns.tail: _*)\n",
    "  .filter(\n",
    "    col(\"Date\") === Date.valueOf(\"2012-01-09\") &&\n",
    "    col(\"WBAN\") === \"13869\"\n",
    "  )\n",
    "  .orderBy(\"WBAN\", \"Date\", \"Time\")\n",
    "weatherData.show(999)"
   ]
  },
  {
   "cell_type": "markdown",
   "id": "ccf91417-e456-4c12-a1fd-863d92fe777c",
   "metadata": {},
   "source": [
    "## Flights"
   ]
  },
  {
   "cell_type": "code",
   "execution_count": 82,
   "id": "a3aa7455-f8f0-4886-ad56-7d76b4a36b90",
   "metadata": {},
   "outputs": [
    {
     "name": "stdout",
     "output_type": "stream",
     "text": [
      "-RECORD 0----------------------------------------\n",
      " UTC_FL_DATE                        | 2012-01-09 \n",
      " UTC_CRS_DEP_TIME                   | 1655       \n",
      " FL_DATE                            | 2012-01-09 \n",
      " CRS_DEP_TIME                       | 1155       \n",
      " ORIGIN_WBAN                        | 13869      \n",
      " DEST_WBAN                          | 13874      \n",
      " CRS_ELAPSED_TIME                   | 57.0       \n",
      " feature_utc_departure_hour         | 16         \n",
      " OP_CARRIER_AIRLINE_ID              | 20366      \n",
      " OP_CARRIER_FL_NUM                  | 5334       \n",
      " feature_flight_day_of_week         | 2          \n",
      " feature_is_weekend                 | 0          \n",
      " feature_departure_hour_rounded     | 1200       \n",
      " feature_utc_departure_hour_rounded | 1700       \n",
      " label_is_delayed_15min             | 1          \n",
      "\n"
     ]
    },
    {
     "data": {
      "text/plain": [
       "flightColumns = List(UTC_FL_DATE, UTC_CRS_DEP_TIME, FL_DATE, CRS_DEP_TIME, ORIGIN_WBAN, DEST_WBAN, CRS_ELAPSED_TIME, feature_utc_departure_hour, OP_CARRIER_AIRLINE_ID, OP_CARRIER_FL_NUM, feature_flight_day_of_week, feature_is_weekend, feature_departure_hour_rounded, feature_utc_departure_hour_rounded, label_is_delayed_15min)\n",
       "flightData = [UTC_FL_DATE: date, UTC_CRS_DEP_TIME: string ... 13 more fields]\n"
      ]
     },
     "metadata": {},
     "output_type": "display_data",
     "source": "user"
    },
    {
     "data": {
      "text/plain": [
       "[UTC_FL_DATE: date, UTC_CRS_DEP_TIME: string ... 13 more fields]"
      ]
     },
     "execution_count": 82,
     "metadata": {},
     "output_type": "execute_result"
    }
   ],
   "source": [
    "val flightColumns = Seq(\n",
    "  \"UTC_FL_DATE\",\n",
    "  \"UTC_CRS_DEP_TIME\",\n",
    "  \"FL_DATE\",\n",
    "  \"CRS_DEP_TIME\",  \n",
    "  \"ORIGIN_WBAN\",\n",
    "  \"DEST_WBAN\",\n",
    "  \"CRS_ELAPSED_TIME\",\n",
    "  \"feature_utc_departure_hour\",\n",
    "  \"OP_CARRIER_AIRLINE_ID\",\n",
    "  \"OP_CARRIER_FL_NUM\",  \n",
    "  //\"feature_flight_month\",\n",
    "  //\"feature_flight_year\",\n",
    "  //\"feature_flight_quarter\",\n",
    "  \"feature_flight_day_of_week\",\n",
    "  \"feature_is_weekend\",  \n",
    "  \"feature_departure_hour_rounded\",\n",
    "  \"feature_utc_departure_hour_rounded\",\n",
    "    \n",
    "  \"label_is_delayed_15min\"\n",
    ")\n",
    "\n",
    "val flightData = flightDF\n",
    "  .select(flightColumns.head, flightColumns.tail: _*)\n",
    "  .filter(\n",
    "    col(\"UTC_FL_DATE\") === \"2012-01-09\" &&\n",
    "    col(\"OP_CARRIER_AIRLINE_ID\") === 20366 &&\n",
    "    col(\"OP_CARRIER_FL_NUM\") === 5334 && \n",
    "    col(\"ORIGIN_WBAN\") === 13869  \n",
    "  )\n",
    "\n",
    "flightData.show(10, 100, true) \n"
   ]
  },
  {
   "cell_type": "markdown",
   "id": "8003fd72-3ffc-449f-8ba9-9ce67f6c2979",
   "metadata": {},
   "source": [
    "# Jointure Map Reduce"
   ]
  },
  {
   "cell_type": "code",
   "execution_count": 83,
   "id": "4b005756-ae1b-4d28-ba86-4e2a0514ea7d",
   "metadata": {},
   "outputs": [],
   "source": [
    "import org.apache.spark.sql.functions._\n",
    "import org.apache.spark.sql.expressions.Window\n",
    "import org.apache.spark.sql.Row\n",
    "import scala.collection.JavaConverters._\n",
    "\n",
    "// Recommandé: travailler en UTC pour éviter les surprises\n",
    "spark.conf.set(\"spark.sql.session.timeZone\", \"UTC\")\n",
    "spark.conf.set(\"spark.sql.crossJoin.enabled\", \"true\")\n",
    "spark.conf.set(\"spark.sql.debug.maxToStringFields\", \"100000\")\n"
   ]
  },
  {
   "cell_type": "code",
   "execution_count": 84,
   "id": "84c74fe5-7077-40dc-814a-973d7e1820c8",
   "metadata": {},
   "outputs": [
    {
     "name": "stdout",
     "output_type": "stream",
     "text": [
      "+-----+----------+------+-----+----------+----+-----------+-------------+----------+----------+--------+------+\n",
      "| WBAN|    W_DATE|W_HOUR| WBAN|      Date|Time|StationType| SkyCondition|Visibility|    W_DATE|TIME_STR|W_HOUR|\n",
      "+-----+----------+------+-----+----------+----+-----------+-------------+----------+----------+--------+------+\n",
      "|13869|2012-01-09|    00|13869|2012-01-09|0000|         12|          CLR|      10.0|2012-01-09|    0000|    00|\n",
      "|13869|2012-01-09|    01|13869|2012-01-09|0100|         12|BKN050 OVC100|      10.0|2012-01-09|    0100|    01|\n",
      "|13869|2012-01-09|    02|13869|2012-01-09|0200|         12|       OVC110|      10.0|2012-01-09|    0200|    02|\n",
      "|13869|2012-01-09|    03|13869|2012-01-09|0300|         12|       SCT001|       7.0|2012-01-09|    0300|    03|\n",
      "|13869|2012-01-09|    04|13869|2012-01-09|0400|         12|BKN001 OVC005|       1.5|2012-01-09|    0400|    04|\n",
      "|13869|2012-01-09|    05|13869|2012-01-09|0500|         12|       OVC100|      1.75|2012-01-09|    0500|    05|\n",
      "|13869|2012-01-09|    06|13869|2012-01-09|0600|         12|       OVC110|       9.0|2012-01-09|    0600|    06|\n",
      "|13869|2012-01-09|    07|13869|2012-01-09|0700|         12|       OVC110|      10.0|2012-01-09|    0700|    07|\n",
      "|13869|2012-01-09|    08|13869|2012-01-09|0800|         12|       OVC110|       5.0|2012-01-09|    0800|    08|\n",
      "|13869|2012-01-09|    09|13869|2012-01-09|0900|         12|          CLR|       8.0|2012-01-09|    0900|    09|\n",
      "|13869|2012-01-09|    10|13869|2012-01-09|1000|         12|       BKN110|      10.0|2012-01-09|    1000|    10|\n",
      "|13869|2012-01-09|    11|13869|2012-01-09|1100|         12|       BKN100|      10.0|2012-01-09|    1100|    11|\n",
      "+-----+----------+------+-----+----------+----+-----------+-------------+----------+----------+--------+------+\n",
      "only showing top 12 rows\n",
      "\n"
     ]
    },
    {
     "data": {
      "text/plain": [
       "weatherNorm = [WBAN: string, W_DATE: date ... 10 more fields]\n"
      ]
     },
     "metadata": {},
     "output_type": "display_data",
     "source": "user"
    },
    {
     "data": {
      "text/plain": [
       "[WBAN: string, W_DATE: date ... 10 more fields]"
      ]
     },
     "execution_count": 84,
     "metadata": {},
     "output_type": "execute_result"
    }
   ],
   "source": [
    "// -----------------------------------------\n",
    "// 0) Normalisation du dataset Weather\n",
    "//    - DATE  -> date\n",
    "//    - TIME  -> heure 2 chiffres \"HH\"\n",
    "// -----------------------------------------\n",
    "val weatherNorm = weatherData\n",
    "  // DATE peut être string => on force en date (UTC)\n",
    "  .withColumn(\"W_DATE\", to_date(col(\"DATE\")))\n",
    "  // TIME peut être \"0\", \"00\", \"0030\", 0, etc.\n",
    "  .withColumn(\"TIME_STR\", col(\"TIME\").cast(\"string\"))\n",
    "  .withColumn(\n",
    "    \"W_HOUR\",\n",
    "    when(length(col(\"TIME_STR\")) >= 2, substring(col(\"TIME_STR\"), 1, 2))\n",
    "      .otherwise(lpad(col(\"TIME_STR\"), 2, \"0\"))\n",
    "  )\n",
    "  .select(\n",
    "    col(\"WBAN\"),\n",
    "    col(\"W_DATE\"),\n",
    "    col(\"W_HOUR\"),\n",
    "    // garde ce qui t'intéresse côté météo :\n",
    "    col(\"*\") // tu peux remplacer par les colonnes utiles: vent, visib, etc.\n",
    "  )\n",
    "weatherNorm.show(12)"
   ]
  },
  {
   "cell_type": "code",
   "execution_count": 85,
   "id": "c2e6dec8-8883-41ba-918a-4f7791851783",
   "metadata": {},
   "outputs": [
    {
     "data": {
      "text/plain": [
       "weatherPart = [WBAN: string, W_DATE: date ... 10 more fields]\n"
      ]
     },
     "metadata": {},
     "output_type": "display_data",
     "source": "user"
    },
    {
     "data": {
      "text/plain": [
       "[WBAN: string, W_DATE: date ... 10 more fields]"
      ]
     },
     "execution_count": 85,
     "metadata": {},
     "output_type": "execute_result"
    }
   ],
   "source": [
    "// Option: pour le shuffle, tu peux aider Spark à partitionner:\n",
    "val weatherPart = weatherNorm.repartition(col(\"WBAN\"), col(\"W_DATE\"))"
   ]
  },
  {
   "cell_type": "code",
   "execution_count": 86,
   "id": "366f3250-f536-47ab-8745-c053f236bb33",
   "metadata": {},
   "outputs": [
    {
     "name": "stdout",
     "output_type": "stream",
     "text": [
      "+-----------+----------------+----------+------------+-----------+---------+----------------+--------------------------+---------------------+-----------------+--------------------------+------------------+------------------------------+----------------------------------+----------------------+--------------------+\n",
      "|UTC_FL_DATE|UTC_CRS_DEP_TIME|   FL_DATE|CRS_DEP_TIME|ORIGIN_WBAN|DEST_WBAN|CRS_ELAPSED_TIME|feature_utc_departure_hour|OP_CARRIER_AIRLINE_ID|OP_CARRIER_FL_NUM|feature_flight_day_of_week|feature_is_weekend|feature_departure_hour_rounded|feature_utc_departure_hour_rounded|label_is_delayed_15min|           flight_id|\n",
      "+-----------+----------------+----------+------------+-----------+---------+----------------+--------------------------+---------------------+-----------------+--------------------------+------------------+------------------------------+----------------------------------+----------------------+--------------------+\n",
      "| 2012-01-09|            1655|2012-01-09|        1155|      13869|    13874|            57.0|                        16|                20366|             5334|                         2|                 0|                          1200|                              1700|                     1|20120109_20366_53...|\n",
      "+-----------+----------------+----------+------------+-----------+---------+----------------+--------------------------+---------------------+-----------------+--------------------------+------------------+------------------------------+----------------------------------+----------------------+--------------------+\n",
      "\n"
     ]
    },
    {
     "data": {
      "text/plain": [
       "flights0 = [UTC_FL_DATE: date, UTC_CRS_DEP_TIME: string ... 14 more fields]\n"
      ]
     },
     "metadata": {},
     "output_type": "display_data",
     "source": "user"
    },
    {
     "data": {
      "text/plain": [
       "[UTC_FL_DATE: date, UTC_CRS_DEP_TIME: string ... 14 more fields]"
      ]
     },
     "execution_count": 86,
     "metadata": {},
     "output_type": "execute_result"
    }
   ],
   "source": [
    "// ───────────────────────────────────────────────────────────────────────────────\n",
    "// 0) Crée un identifiant de vol déterministe \"flight_id\"\n",
    "//    (tu peux remplacer par monotonically_increasing_id() si tu préfères)\n",
    "// ───────────────────────────────────────────────────────────────────────────────\n",
    "val flights0 = flightData\n",
    "  .withColumn(\n",
    "    \"flight_id\",\n",
    "    concat_ws(\"_\",\n",
    "      date_format(col(\"UTC_FL_DATE\").cast(\"date\"), \"yyyyMMdd\"),\n",
    "      col(\"OP_CARRIER_AIRLINE_ID\").cast(\"string\"),\n",
    "      col(\"OP_CARRIER_FL_NUM\").cast(\"string\"),\n",
    "      col(\"ORIGIN_WBAN\").cast(\"string\"),\n",
    "      col(\"DEST_WBAN\").cast(\"string\"),\n",
    "      date_format(col(\"UTC_CRS_DEP_TIME\"), \"HHmm\")\n",
    "    )\n",
    "  )\n",
    "\n",
    "flights0.show(10)"
   ]
  },
  {
   "cell_type": "code",
   "execution_count": 87,
   "id": "314e68d3-438e-4515-a084-5297bffdb755",
   "metadata": {},
   "outputs": [
    {
     "name": "stdout",
     "output_type": "stream",
     "text": [
      "+--------------------+-----------+---------+-----------+-----------+----------+----------------------+\n",
      "|           flight_id|ORIGIN_WBAN|DEST_WBAN|FL_DATE_STR|DEP_HOUR_2D|base_epoch|label_is_delayed_15min|\n",
      "+--------------------+-----------+---------+-----------+-----------+----------+----------------------+\n",
      "|20120109_20366_53...|      13869|    13874| 2012-01-09|         17|1326128400|                     1|\n",
      "+--------------------+-----------+---------+-----------+-----------+----------+----------------------+\n",
      "\n"
     ]
    },
    {
     "data": {
      "text/plain": [
       "flightsBase = [flight_id: string, ORIGIN_WBAN: string ... 5 more fields]\n"
      ]
     },
     "metadata": {},
     "output_type": "display_data",
     "source": "user"
    },
    {
     "data": {
      "text/plain": [
       "[flight_id: string, ORIGIN_WBAN: string ... 5 more fields]"
      ]
     },
     "execution_count": 87,
     "metadata": {},
     "output_type": "execute_result"
    }
   ],
   "source": [
    "\n",
    "// ───────────────────────────────────────────────────────────────────────────────\n",
    "// 1) Base temporelle départ (UTC) : \"yyyy-MM-dd HH\" → epoch (secondes)\n",
    "// ───────────────────────────────────────────────────────────────────────────────\n",
    "val flightsBase = flights0\n",
    "  .withColumn(\n",
    "    \"FL_DATE_STR\",\n",
    "    when(col(\"UTC_FL_DATE\").cast(\"date\").isNotNull,\n",
    "         date_format(col(\"UTC_FL_DATE\").cast(\"date\"), \"yyyy-MM-dd\"))\n",
    "    .otherwise(col(\"UTC_FL_DATE\").cast(\"string\"))\n",
    "  )\n",
    "  .withColumn(\"DEP_HOUR_2D\", lpad(col(\"feature_utc_departure_hour_rounded\").cast(\"string\"), 2, \"0\"))\n",
    "  .withColumn(\"base_epoch\",\n",
    "    unix_timestamp(concat_ws(\" \", col(\"FL_DATE_STR\"), col(\"DEP_HOUR_2D\")), \"yyyy-MM-dd HH\")\n",
    "  )\n",
    "  // IMPORTANT : on ne garde QUE ce qu'on va utiliser ensuite (dont flight_id !)\n",
    "  .select(\n",
    "    col(\"flight_id\"),\n",
    "    col(\"ORIGIN_WBAN\"),\n",
    "    col(\"DEST_WBAN\"),\n",
    "    col(\"FL_DATE_STR\"),\n",
    "    col(\"DEP_HOUR_2D\"),\n",
    "    col(\"base_epoch\"),\n",
    "    col(\"label_is_delayed_15min\")  \n",
    "  )\n",
    "\n",
    "flightsBase.show(10)"
   ]
  },
  {
   "cell_type": "code",
   "execution_count": 88,
   "id": "45faaedc-55db-485f-8d1f-996e8d07bfcd",
   "metadata": {},
   "outputs": [
    {
     "name": "stdout",
     "output_type": "stream",
     "text": [
      "+------------------------------------+--------+---+-----------+--------------+----------------------+\n",
      "|flight_id                           |WBAN_KEY|o_h|TARGET_DATE|TARGET_HOUR_2D|label_is_delayed_15min|\n",
      "+------------------------------------+--------+---+-----------+--------------+----------------------+\n",
      "|20120109_20366_5334_13869_13874_0000|13869   |1  |2012-01-09 |16            |1                     |\n",
      "|20120109_20366_5334_13869_13874_0000|13869   |2  |2012-01-09 |15            |1                     |\n",
      "|20120109_20366_5334_13869_13874_0000|13869   |3  |2012-01-09 |14            |1                     |\n",
      "|20120109_20366_5334_13869_13874_0000|13869   |4  |2012-01-09 |13            |1                     |\n",
      "|20120109_20366_5334_13869_13874_0000|13869   |5  |2012-01-09 |12            |1                     |\n",
      "|20120109_20366_5334_13869_13874_0000|13869   |6  |2012-01-09 |11            |1                     |\n",
      "|20120109_20366_5334_13869_13874_0000|13869   |7  |2012-01-09 |10            |1                     |\n",
      "|20120109_20366_5334_13869_13874_0000|13869   |8  |2012-01-09 |09            |1                     |\n",
      "|20120109_20366_5334_13869_13874_0000|13869   |9  |2012-01-09 |08            |1                     |\n",
      "|20120109_20366_5334_13869_13874_0000|13869   |10 |2012-01-09 |07            |1                     |\n",
      "|20120109_20366_5334_13869_13874_0000|13869   |11 |2012-01-09 |06            |1                     |\n",
      "|20120109_20366_5334_13869_13874_0000|13869   |12 |2012-01-09 |05            |1                     |\n",
      "+------------------------------------+--------+---+-----------+--------------+----------------------+\n",
      "\n"
     ]
    },
    {
     "data": {
      "text/plain": [
       "offsets = [h: bigint]\n",
       "originTargets = [flight_id: string, WBAN_KEY: string ... 4 more fields]\n"
      ]
     },
     "metadata": {},
     "output_type": "display_data",
     "source": "user"
    },
    {
     "data": {
      "text/plain": [
       "[flight_id: string, WBAN_KEY: string ... 4 more fields]"
      ]
     },
     "execution_count": 88,
     "metadata": {},
     "output_type": "execute_result"
    }
   ],
   "source": [
    "// ───────────────────────────────────────────────────────────────────────────────\n",
    "// 2) Générer les 12 heures cibles t-1h..t-12h (crossJoin offsets 1..12)\n",
    "// ───────────────────────────────────────────────────────────────────────────────\n",
    "val offsets = flightsBase.sparkSession.range(1, 13).toDF(\"h\")  // 1..12\n",
    "\n",
    "val originTargets = flightsBase\n",
    "  .crossJoin(offsets)\n",
    "  .withColumn(\"target_epoch\", col(\"base_epoch\") - col(\"h\") * lit(3600))\n",
    "  .withColumn(\"TARGET_DATE\", to_date(from_unixtime(col(\"target_epoch\"))))\n",
    "  .withColumn(\"TARGET_HOUR_2D\", date_format(from_unixtime(col(\"target_epoch\")), \"HH\"))\n",
    "  .select(\n",
    "    col(\"flight_id\"),                                    // ← remplace flightId par flight_id\n",
    "    col(\"ORIGIN_WBAN\").as(\"WBAN_KEY\"),\n",
    "    col(\"h\").cast(\"int\").as(\"o_h\"),\n",
    "    col(\"TARGET_DATE\"),\n",
    "    col(\"TARGET_HOUR_2D\"),\n",
    "    col(\"label_is_delayed_15min\")  \n",
    "  )\n",
    "\n",
    "// (debug)\n",
    "originTargets.show(12, truncate = false)"
   ]
  },
  {
   "cell_type": "code",
   "execution_count": 89,
   "id": "1b7a264a-8fa9-40ec-8ac3-460ad7039f0b",
   "metadata": {},
   "outputs": [
    {
     "name": "stdout",
     "output_type": "stream",
     "text": [
      "+------------------------------------+---+-----+-------------+-------------+----------+------+----------+----+-----------+------------+----------+\n",
      "|flight_id                           |o_h|WBAN |o_target_date|o_target_hour|W_DATE    |W_HOUR|DATE      |TIME|StationType|SkyCondition|Visibility|\n",
      "+------------------------------------+---+-----+-------------+-------------+----------+------+----------+----+-----------+------------+----------+\n",
      "|20120109_20366_5334_13869_13874_0000|12 |13869|2012-01-09   |05           |2012-01-09|05    |2012-01-09|0500|12         |OVC100      |1.75      |\n",
      "|20120109_20366_5334_13869_13874_0000|11 |13869|2012-01-09   |06           |2012-01-09|06    |2012-01-09|0600|12         |OVC110      |9.0       |\n",
      "|20120109_20366_5334_13869_13874_0000|10 |13869|2012-01-09   |07           |2012-01-09|07    |2012-01-09|0700|12         |OVC110      |10.0      |\n",
      "|20120109_20366_5334_13869_13874_0000|9  |13869|2012-01-09   |08           |2012-01-09|08    |2012-01-09|0800|12         |OVC110      |5.0       |\n",
      "|20120109_20366_5334_13869_13874_0000|8  |13869|2012-01-09   |09           |2012-01-09|09    |2012-01-09|0900|12         |CLR         |8.0       |\n",
      "|20120109_20366_5334_13869_13874_0000|7  |13869|2012-01-09   |10           |2012-01-09|10    |2012-01-09|1000|12         |BKN110      |10.0      |\n",
      "|20120109_20366_5334_13869_13874_0000|6  |13869|2012-01-09   |11           |2012-01-09|11    |2012-01-09|1100|12         |BKN100      |10.0      |\n",
      "|20120109_20366_5334_13869_13874_0000|5  |13869|2012-01-09   |12           |2012-01-09|12    |2012-01-09|1200|12         |CLR         |10.0      |\n",
      "|20120109_20366_5334_13869_13874_0000|4  |13869|2012-01-09   |13           |2012-01-09|13    |2012-01-09|1300|12         |CLR         |10.0      |\n",
      "|20120109_20366_5334_13869_13874_0000|3  |13869|2012-01-09   |14           |2012-01-09|14    |2012-01-09|1400|12         |CLR         |10.0      |\n",
      "|20120109_20366_5334_13869_13874_0000|2  |13869|2012-01-09   |15           |2012-01-09|15    |2012-01-09|1500|12         |BKN100      |10.0      |\n",
      "|20120109_20366_5334_13869_13874_0000|1  |13869|2012-01-09   |16           |2012-01-09|16    |2012-01-09|1600|12         |CLR         |10.0      |\n",
      "+------------------------------------+---+-----+-------------+-------------+----------+------+----------+----+-----------+------------+----------+\n",
      "\n"
     ]
    },
    {
     "data": {
      "text/plain": [
       "originJoined = [flight_id: string, o_h: int ... 10 more fields]\n"
      ]
     },
     "metadata": {},
     "output_type": "display_data",
     "source": "user"
    },
    {
     "data": {
      "text/plain": [
       "[flight_id: string, o_h: int ... 10 more fields]"
      ]
     },
     "execution_count": 89,
     "metadata": {},
     "output_type": "execute_result"
    }
   ],
   "source": [
    "// ───────────────────────────────────────────────────────────────────────────────\n",
    "// 3) Normalisation météo (si pas déjà fait) et jointure exacte (WBAN, DATE, HOUR)\n",
    "// ───────────────────────────────────────────────────────────────────────────────\n",
    "\n",
    "val originJoined = originTargets\n",
    "  .join(\n",
    "    weatherNorm,\n",
    "    originTargets.col(\"WBAN_KEY\") === weatherNorm.col(\"WBAN\") &&\n",
    "    originTargets.col(\"TARGET_DATE\") === weatherNorm.col(\"W_DATE\") &&\n",
    "    originTargets.col(\"TARGET_HOUR_2D\") === weatherNorm.col(\"W_HOUR\"),\n",
    "    \"inner\"\n",
    "  )\n",
    "  .select(\n",
    "    col(\"flight_id\"),\n",
    "    col(\"o_h\"),\n",
    "    col(\"WBAN_KEY\").as(\"WBAN\"),\n",
    "    col(\"TARGET_DATE\").as(\"o_target_date\"),\n",
    "    col(\"TARGET_HOUR_2D\").as(\"o_target_hour\"),\n",
    "    col(\"W_DATE\"), col(\"W_HOUR\"),\n",
    "    col(\"DATE\"), col(\"TIME\"),\n",
    "    col(\"StationType\"),\n",
    "    col(\"SkyCondition\"),\n",
    "    col(\"Visibility\"),\n",
    "    //col(\"feature_ceiling\"),  \n",
    "  ).orderBy(col(\"flight_id\"), col(\"o_target_hour\"))\n",
    "\n",
    "originJoined.show(20, false)"
   ]
  },
  {
   "cell_type": "code",
   "execution_count": 93,
   "id": "21bf481d-d41b-48f3-b45b-ae78697d71fc",
   "metadata": {},
   "outputs": [
    {
     "name": "stdout",
     "output_type": "stream",
     "text": [
      "+------------------------------------+--------------------------------------------------------------------------------------------------------------------------------------------------------------------------------------------------------------------------------------------------------------------------------------------------------------------------------------------------------------------------------------------------------------------------------------------------------------------------------------------------------------------+\n",
      "|                           flight_id|                                                                                                                                                                                                                                                                                                                                                                                                                                                                                                            W_o_list|\n",
      "+------------------------------------+--------------------------------------------------------------------------------------------------------------------------------------------------------------------------------------------------------------------------------------------------------------------------------------------------------------------------------------------------------------------------------------------------------------------------------------------------------------------------------------------------------------------+\n",
      "|20120109_20366_5334_13869_13874_0000|[{12, 2012-01-09, 05, 2012-01-09, 05, OVC100, 1.75}, {11, 2012-01-09, 06, 2012-01-09, 06, OVC110, 9.0}, {10, 2012-01-09, 07, 2012-01-09, 07, OVC110, 10.0}, {9, 2012-01-09, 08, 2012-01-09, 08, OVC110, 5.0}, {8, 2012-01-09, 09, 2012-01-09, 09, CLR, 8.0}, {7, 2012-01-09, 10, 2012-01-09, 10, BKN110, 10.0}, {6, 2012-01-09, 11, 2012-01-09, 11, BKN100, 10.0}, {5, 2012-01-09, 12, 2012-01-09, 12, CLR, 10.0}, {4, 2012-01-09, 13, 2012-01-09, 13, CLR, 10.0}, {3, 2012-01-09, 14, 2012-01-09, 14, CLR, 10.0}...|\n",
      "+------------------------------------+--------------------------------------------------------------------------------------------------------------------------------------------------------------------------------------------------------------------------------------------------------------------------------------------------------------------------------------------------------------------------------------------------------------------------------------------------------------------------------------------------------------------+\n",
      "\n"
     ]
    },
    {
     "data": {
      "text/plain": [
       "originAgg = [flight_id: string, W_o_list: array<struct<o_h:int,o_target_date:date,o_target_hour:string,W_DATE:date,W_HOUR:string,SkyCondition:string,Visibility:double>>]\n"
      ]
     },
     "metadata": {},
     "output_type": "display_data",
     "source": "user"
    },
    {
     "data": {
      "text/plain": [
       "[flight_id: string, W_o_list: array<struct<o_h:int,o_target_date:date,o_target_hour:string,W_DATE:date,W_HOUR:string,SkyCondition:string,Visibility:double>>]"
      ]
     },
     "execution_count": 93,
     "metadata": {},
     "output_type": "execute_result"
    }
   ],
   "source": [
    "// ───────────────────────────────────────────────────────────────────────────────\n",
    "// 4) (Option) Regrouper en liste par vol (gardez o_h pour trier côté lecteur)\n",
    "// ───────────────────────────────────────────────────────────────────────────────\n",
    "val originAgg = originJoined\n",
    "  .withColumn(\"o_pack\", struct(\n",
    "    col(\"o_h\"),\n",
    "    col(\"o_target_date\"),\n",
    "    col(\"o_target_hour\"),\n",
    "    col(\"W_DATE\"),\n",
    "    col(\"W_HOUR\"),\n",
    "    col(\"SkyCondition\"),\n",
    "    col(\"Visibility\"),\n",
    "    // + tes variables météo utiles\n",
    "  ))\n",
    "  .groupBy(\"flight_id\")                       \n",
    "  .agg(collect_list(col(\"o_pack\")).as(\"W_o_list\"))\n",
    "\n",
    "originAgg.show(10, 500, false)"
   ]
  },
  {
   "cell_type": "markdown",
   "id": "283fa7e1-e18f-4a35-86bc-71fd88365255",
   "metadata": {},
   "source": [
    "# Quelques Requettes"
   ]
  },
  {
   "cell_type": "code",
   "execution_count": 73,
   "id": "4ce07345-5d87-442c-a7db-681a94c7361b",
   "metadata": {},
   "outputs": [
    {
     "name": "stdout",
     "output_type": "stream",
     "text": [
      "Nombre de WBAN présents dans flights.ORIGIN_WBAN mais absents de WeatherData.WBAN :\n",
      "+-----------+\n",
      "|ORIGIN_WBAN|\n",
      "+-----------+\n",
      "+-----------+\n",
      "\n"
     ]
    },
    {
     "data": {
      "text/plain": [
       "flightWban = [ORIGIN_WBAN: string]\n",
       "weatherWban = [WBAN: string]\n",
       "missingWban = [ORIGIN_WBAN: string]\n"
      ]
     },
     "metadata": {},
     "output_type": "display_data",
     "source": "user"
    },
    {
     "data": {
      "text/plain": [
       "[ORIGIN_WBAN: string]"
      ]
     },
     "execution_count": 73,
     "metadata": {},
     "output_type": "execute_result"
    }
   ],
   "source": [
    "import org.apache.spark.sql.functions._\n",
    "\n",
    "// 1) Sélectionner les colonnes WBAN uniques dans chaque dataset\n",
    "val flightWban = flightData.select(\"ORIGIN_WBAN\").distinct()\n",
    "val weatherWban = weatherData.select(\"WBAN\").distinct()\n",
    "\n",
    "// 2) Faire une \"left anti join\" → garde ceux qui ne matchent PAS\n",
    "val missingWban = flightWban.join(weatherWban,\n",
    "  flightWban(\"ORIGIN_WBAN\") === weatherWban(\"WBAN\"),\n",
    "  \"left_anti\"\n",
    ")\n",
    "\n",
    "// 3) Compter combien il y en a\n",
    "println(\"Nombre de WBAN présents dans flights.ORIGIN_WBAN mais absents de WeatherData.WBAN :\")\n",
    "missingWban.count()\n",
    "\n",
    "// 4) (Option) afficher la liste\n",
    "missingWban.show(20, false)"
   ]
  },
  {
   "cell_type": "code",
   "execution_count": null,
   "id": "4db4f94b-ea1b-4890-9f2a-18f83916b931",
   "metadata": {},
   "outputs": [],
   "source": []
  }
 ],
 "metadata": {
  "kernelspec": {
   "display_name": "apache_toree_scala - Scala",
   "language": "scala",
   "name": "apache_toree_scala_scala"
  },
  "language_info": {
   "codemirror_mode": "text/x-scala",
   "file_extension": ".scala",
   "mimetype": "text/x-scala",
   "name": "scala",
   "pygments_lexer": "scala",
   "version": "2.12.15"
  }
 },
 "nbformat": 4,
 "nbformat_minor": 5
}
