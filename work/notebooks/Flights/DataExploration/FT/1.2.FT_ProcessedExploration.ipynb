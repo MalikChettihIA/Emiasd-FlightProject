{
 "cells": [
  {
   "cell_type": "markdown",
   "id": "a137a405-aed5-4fb7-87b5-eeee85e6140c",
   "metadata": {},
   "source": [
    "# Weather Dataset Preprocessing and feature Engineering"
   ]
  },
  {
   "cell_type": "code",
   "execution_count": 1,
   "id": "53e4989d-8472-46e5-b806-ddde048d91f9",
   "metadata": {},
   "outputs": [
    {
     "name": "stdout",
     "output_type": "stream",
     "text": [
      "Starting download from file:///home/jovyan/work/apps/Emiasd-Flight-Data-Analysis.jar\n",
      "Finished download of Emiasd-Flight-Data-Analysis.jar\n",
      "Using cached version of Emiasd-Flight-Data-Analysis.jar\n"
     ]
    }
   ],
   "source": [
    "%AddJar file:///home/jovyan/work/apps/Emiasd-Flight-Data-Analysis.jar"
   ]
  },
  {
   "cell_type": "code",
   "execution_count": 2,
   "id": "4c5e2137-c51d-4b08-89fc-72273d7e9841",
   "metadata": {},
   "outputs": [
    {
     "data": {
      "text/plain": [
       "args = Array(jupyter)\n",
       "spark = org.apache.spark.sql.SparkSession@2f55094a\n",
       "session = org.apache.spark.sql.SparkSession@2f55094a\n",
       "configuration = AppConfiguration(local,CommonConfig(42,DataConfig(/home/jovyan/work/data,FileConfig(/home/jovyan/work/data/FLIGHT-3Y/Flights/201201.csv),FileConfig(/home/jovyan/work/data/FLIGHT-3Y/Weather/201201hourly.txt),FileConfig(/home/jovyan/work/data/FLIGHT-3Y/wban_airport_timezone.csv)),OutputConfig(/home/jovyan/work/output,FileConfig(/home/jovyan/work/output/data),FileCo...\n"
      ]
     },
     "metadata": {},
     "output_type": "display_data",
     "source": "user"
    },
    {
     "data": {
      "text/plain": [
       "AppConfiguration(local,CommonConfig(42,DataConfig(/home/jovyan/work/data,FileConfig(/home/jovyan/work/data/FLIGHT-3Y/Flights/201201.csv),FileConfig(/home/jovyan/work/data/FLIGHT-3Y/Weather/201201hourly.txt),FileConfig(/home/jovyan/work/data/FLIGHT-3Y/wban_airport_timezone.csv)),OutputConfig(/home/jovyan/work/output,FileConfig(/home/jovyan/work/output/data),FileCo..."
      ]
     },
     "execution_count": 2,
     "metadata": {},
     "output_type": "execute_result"
    }
   ],
   "source": [
    "import org.apache.spark.sql.SparkSession\n",
    "import com.flightdelay.config.{AppConfiguration, ConfigurationLoader}\n",
    "import com.flightdelay.data.loaders.FlightDataLoader\n",
    "\n",
    "//Env Configuration\n",
    "val args: Array[String] = Array(\"jupyter\")\n",
    "\n",
    "val spark = SparkSession.builder()\n",
    "  .config(sc.getConf)\n",
    "  .getOrCreate()\n",
    "\n",
    "// Rendre la session Spark implicite\n",
    "implicit val session = spark\n",
    "implicit val configuration: AppConfiguration = ConfigurationLoader.loadConfiguration(args)\n",
    "\n",
    "val rawFlightsPath = s\"${configuration.common.output.basePath}/common/data/processed_flights.parquet\"\n",
    "val flightsDF = spark.read.parquet(rawFlightsPath)"
   ]
  },
  {
   "cell_type": "code",
   "execution_count": 3,
   "id": "e2940aa8-c1c2-4034-87eb-51fb7d8fab64",
   "metadata": {},
   "outputs": [
    {
     "data": {
      "text/plain": [
       "6680864"
      ]
     },
     "execution_count": 3,
     "metadata": {},
     "output_type": "execute_result"
    }
   ],
   "source": [
    "flightsDF.count()"
   ]
  },
  {
   "cell_type": "code",
   "execution_count": 13,
   "id": "e9f45dd1-1883-4e19-aab7-cc3571743db2",
   "metadata": {},
   "outputs": [
    {
     "name": "stdout",
     "output_type": "stream",
     "text": [
      "root\n",
      " |-- FL_DATE: date (nullable = true)\n",
      " |-- OP_CARRIER_AIRLINE_ID: integer (nullable = true)\n",
      " |-- OP_CARRIER_FL_NUM: integer (nullable = true)\n",
      " |-- ORIGIN_AIRPORT_ID: integer (nullable = true)\n",
      " |-- DEST_AIRPORT_ID: integer (nullable = true)\n",
      " |-- CRS_DEP_TIME: integer (nullable = true)\n",
      " |-- ARR_DELAY_NEW: double (nullable = true)\n",
      " |-- CRS_ELAPSED_TIME: double (nullable = true)\n",
      " |-- WEATHER_DELAY: double (nullable = true)\n",
      " |-- NAS_DELAY: double (nullable = true)\n",
      " |-- ORIGIN_WBAN: string (nullable = true)\n",
      " |-- ORIGIN_TIMEZONE: integer (nullable = true)\n",
      " |-- DEST_WBAN: string (nullable = true)\n",
      " |-- DEST_TIMEZONE: integer (nullable = true)\n",
      " |-- UTC_CRS_DEP_TIME: string (nullable = true)\n",
      " |-- UTC_FL_DATE: date (nullable = true)\n",
      " |-- UTC_ARR_TIME: string (nullable = true)\n",
      " |-- UTC_ARR_DATE: date (nullable = true)\n",
      " |-- CRS_ARR_TIME: string (nullable = true)\n",
      " |-- CRS_ARR_DATE: date (nullable = true)\n",
      " |-- feature_arrival_hour: integer (nullable = true)\n",
      " |-- feature_utc_arrival_hour: integer (nullable = true)\n",
      " |-- feature_utc_arrival_hour_rounded: string (nullable = true)\n",
      " |-- feature_utc_arrival_date: string (nullable = true)\n",
      " |-- feature_crosses_midnight_local: integer (nullable = true)\n",
      " |-- feature_crosses_midnight_utc: integer (nullable = true)\n",
      " |-- feature_flight_days_span: integer (nullable = true)\n",
      " |-- feature_timezone_difference: integer (nullable = true)\n",
      " |-- feature_flies_eastward: integer (nullable = true)\n",
      " |-- feature_flies_westward: integer (nullable = true)\n",
      " |-- feature_departure_minute: integer (nullable = true)\n",
      " |-- feature_arrival_minutes_total: double (nullable = true)\n",
      " |-- feature_crosses_midnight: integer (nullable = true)\n",
      " |-- feature_flight_day_of_week: integer (nullable = true)\n",
      " |-- feature_departure_hour_decimal: double (nullable = true)\n",
      " |-- feature_flight_timestamp: timestamp (nullable = true)\n",
      " |-- feature_utc_departure_hour: integer (nullable = true)\n",
      " |-- feature_flight_quarter_name: string (nullable = true)\n",
      " |-- feature_utc_departure_hour_decimal: double (nullable = true)\n",
      " |-- feature_departure_hour: integer (nullable = true)\n",
      " |-- feature_minutes_since_midnight: double (nullable = true)\n",
      " |-- feature_departure_quarter_day: integer (nullable = true)\n",
      " |-- feature_flight_month: integer (nullable = true)\n",
      " |-- feature_utc_departure_hour_rounded: long (nullable = true)\n",
      " |-- feature_arrival_minute: integer (nullable = true)\n",
      " |-- feature_flight_year: integer (nullable = true)\n",
      " |-- feature_flight_day_of_year: integer (nullable = true)\n",
      " |-- feature_arrival_time: integer (nullable = true)\n",
      " |-- feature_flight_quarter: integer (nullable = true)\n",
      " |-- feature_arrival_hour_decimal: double (nullable = true)\n",
      " |-- feature_flight_week_of_year: integer (nullable = true)\n",
      " |-- feature_flight_day_of_month: integer (nullable = true)\n",
      " |-- feature_departure_quarter_name: string (nullable = true)\n",
      " |-- feature_departure_time_period: string (nullable = true)\n",
      " |-- feature_departure_hour_rounded: long (nullable = true)\n",
      " |-- feature_departure_minutes_total: double (nullable = true)\n",
      " |-- feature_arrival_hour_rounded: string (nullable = true)\n",
      " |-- feature_arrival_date: string (nullable = true)\n",
      " |-- feature_distance_score: double (nullable = true)\n",
      " |-- feature_distance_category: string (nullable = true)\n",
      " |-- feature_carrier_hash: integer (nullable = true)\n",
      " |-- feature_route_id: string (nullable = true)\n",
      " |-- feature_is_likely_domestic: integer (nullable = true)\n",
      " |-- feature_is_roundtrip_candidate: integer (nullable = true)\n",
      " |-- feature_flight_unique_id: string (nullable = true)\n",
      " |-- feature_is_summer: integer (nullable = true)\n",
      " |-- feature_is_monday: integer (nullable = true)\n",
      " |-- feature_is_evening_rush: integer (nullable = true)\n",
      " |-- feature_is_month_start: integer (nullable = true)\n",
      " |-- feature_is_extended_weekend: integer (nullable = true)\n",
      " |-- feature_is_winter: integer (nullable = true)\n",
      " |-- feature_is_friday: integer (nullable = true)\n",
      " |-- feature_is_spring: integer (nullable = true)\n",
      " |-- feature_is_weekend: integer (nullable = true)\n",
      " |-- feature_is_holiday_season: integer (nullable = true)\n",
      " |-- feature_is_fall: integer (nullable = true)\n",
      " |-- feature_is_early_morning: integer (nullable = true)\n",
      " |-- feature_is_morning_rush: integer (nullable = true)\n",
      " |-- feature_is_business_hours: integer (nullable = true)\n",
      " |-- feature_is_night_flight: integer (nullable = true)\n",
      " |-- feature_is_month_end: integer (nullable = true)\n",
      " |-- feature_origin_complexity_score: double (nullable = true)\n",
      " |-- feature_is_westbound: integer (nullable = true)\n",
      " |-- feature_dest_complexity_score: double (nullable = true)\n",
      " |-- feature_dest_is_major_hub: integer (nullable = true)\n",
      " |-- feature_is_eastbound: integer (nullable = true)\n",
      " |-- feature_timezone_diff_proxy: integer (nullable = true)\n",
      " |-- feature_origin_is_major_hub: integer (nullable = true)\n",
      " |-- feature_is_hub_to_hub: integer (nullable = true)\n",
      " |-- feature_flights_on_route: long (nullable = true)\n",
      " |-- feature_carrier_flight_count: long (nullable = true)\n",
      " |-- feature_origin_airport_traffic: long (nullable = true)\n",
      " |-- feature_route_popularity_score: string (nullable = true)\n",
      " |-- feature_carrier_size_category: string (nullable = true)\n",
      " |-- AIRCRAFT_ID: string (nullable = true)\n",
      " |-- PREV_AIRCRAFT_ARR_DELAY: double (nullable = true)\n",
      " |-- IS_PREV_AIRCRAFT_LATE: integer (nullable = true)\n",
      " |-- label_arr_delay_filled: double (nullable = true)\n",
      " |-- label_nas_delay_filled: double (nullable = true)\n",
      " |-- label_weather_delay_filled: double (nullable = true)\n",
      " |-- label_weather_delay_was_missing: integer (nullable = true)\n",
      " |-- label_nas_delay_was_missing: integer (nullable = true)\n",
      " |-- label_arr_delay_was_missing: integer (nullable = true)\n",
      " |-- label_is_early: integer (nullable = true)\n",
      " |-- label_total_weather_nas_delay: double (nullable = true)\n",
      " |-- label_is_delayed_15min: integer (nullable = true)\n",
      " |-- label_has_nas_delay: integer (nullable = true)\n",
      " |-- label_is_delayed_30min: integer (nullable = true)\n",
      " |-- label_is_delayed_60min: integer (nullable = true)\n",
      " |-- label_is_delayed_45min: integer (nullable = true)\n",
      " |-- label_is_delayed_90min: integer (nullable = true)\n",
      " |-- label_has_weather_delay: integer (nullable = true)\n",
      " |-- label_is_on_time: integer (nullable = true)\n",
      " |-- label_has_any_weather_nas_delay: integer (nullable = true)\n",
      "\n"
     ]
    }
   ],
   "source": [
    "flightsDF.printSchema"
   ]
  },
  {
   "cell_type": "code",
   "execution_count": 14,
   "id": "21d40652-8fb6-491a-89fe-532daa6bffca",
   "metadata": {},
   "outputs": [],
   "source": [
    "import org.apache.spark.sql.{DataFrame, SparkSession}\n",
    "import org.apache.spark.sql.functions._\n",
    "import org.apache.spark.sql.types._\n",
    "import org.apache.spark.ml.feature.{StringIndexer, OneHotEncoder, VectorAssembler}\n",
    "import scala.util.Try"
   ]
  },
  {
   "cell_type": "code",
   "execution_count": 15,
   "id": "76e8f61c-b2d0-4a26-a56b-319bedec0931",
   "metadata": {},
   "outputs": [
    {
     "data": {
      "text/plain": [
       "6680864"
      ]
     },
     "execution_count": 15,
     "metadata": {},
     "output_type": "execute_result"
    }
   ],
   "source": [
    "flightsDF.count()"
   ]
  },
  {
   "cell_type": "markdown",
   "id": "830c36d8-7298-466e-81c6-8b8c6ac412b2",
   "metadata": {},
   "source": [
    "# feature_flight_year, feature_flight_month"
   ]
  },
  {
   "cell_type": "code",
   "execution_count": 23,
   "id": "7032bbc6-45df-4617-9eab-28055090f344",
   "metadata": {},
   "outputs": [
    {
     "name": "stdout",
     "output_type": "stream",
     "text": [
      "+-------------------+--------------------+-------------+---------------+\n",
      "|feature_flight_year|feature_flight_month|total_flights|delayed_flights|\n",
      "+-------------------+--------------------+-------------+---------------+\n",
      "|2012               |1                   |161441       |67314          |\n",
      "|2012               |2                   |147540       |55616          |\n",
      "|2012               |3                   |180437       |81774          |\n",
      "|2012               |4                   |160444       |60248          |\n",
      "|2012               |5                   |175965       |76465          |\n",
      "|2012               |6                   |187409       |89829          |\n",
      "|2012               |7                   |210827       |115081         |\n",
      "|2012               |8                   |197975       |99103          |\n",
      "|2012               |9                   |167554       |73446          |\n",
      "|2012               |10                  |179675       |82520          |\n",
      "|2012               |11                  |156825       |60682          |\n",
      "|2012               |12                  |189161       |101334         |\n",
      "|2013               |1                   |178000       |82900          |\n",
      "|2013               |2                   |166265       |78778          |\n",
      "|2013               |3                   |198213       |95968          |\n",
      "|2013               |4                   |201210       |105170         |\n",
      "|2013               |5                   |199186       |99457          |\n",
      "|2013               |6                   |227759       |135446         |\n",
      "|2013               |7                   |231561       |134544         |\n",
      "|2013               |8                   |208112       |106491         |\n",
      "|2013               |9                   |171292       |73260          |\n",
      "|2013               |10                  |178739       |76910          |\n",
      "|2013               |11                  |169289       |73104          |\n",
      "|2013               |12                  |221675       |137255         |\n",
      "|2014               |1                   |194508       |114220         |\n",
      "|2014               |2                   |171106       |96456          |\n",
      "|2014               |3                   |188583       |97313          |\n",
      "|2014               |4                   |175828       |87262          |\n",
      "|2014               |5                   |188265       |99096          |\n",
      "|2014               |6                   |207558       |122913         |\n",
      "|2014               |7                   |202613       |111471         |\n",
      "|2014               |8                   |190925       |100200         |\n",
      "|2014               |9                   |164123       |76487          |\n",
      "|2014               |10                  |177584       |87199          |\n",
      "|2014               |11                  |165832       |80200          |\n",
      "|2014               |12                  |187385       |104533         |\n",
      "+-------------------+--------------------+-------------+---------------+\n",
      "\n"
     ]
    },
    {
     "data": {
      "text/plain": [
       "delaysByYearMonth = [feature_flight_year: int, feature_flight_month: int ... 2 more fields]\n"
      ]
     },
     "metadata": {},
     "output_type": "display_data",
     "source": "user"
    },
    {
     "data": {
      "text/plain": [
       "[feature_flight_year: int, feature_flight_month: int ... 2 more fields]"
      ]
     },
     "execution_count": 23,
     "metadata": {},
     "output_type": "execute_result"
    }
   ],
   "source": [
    "import org.apache.spark.sql.functions._\n",
    "\n",
    "val delaysByYearMonth =\n",
    "  flightsDF\n",
    "    .groupBy(\"feature_flight_year\", \"feature_flight_month\")\n",
    "    .agg(\n",
    "      count(lit(1)).as(\"total_flights\"),\n",
    "      sum(col(\"label_is_delayed_15min\").cast(\"long\")).as(\"delayed_flights\")\n",
    "    )\n",
    "    .orderBy(col(\"feature_flight_year\"), col(\"feature_flight_month\"))\n",
    "\n",
    "delaysByYearMonth.show(100, truncate = false)"
   ]
  },
  {
   "cell_type": "markdown",
   "id": "fc76a4db-8a58-475a-bc9f-85fe13178619",
   "metadata": {},
   "source": [
    "# feature_departure_hour_rounded"
   ]
  },
  {
   "cell_type": "code",
   "execution_count": 10,
   "id": "70c295b1-1aaa-4ca2-8620-615f33bb9199",
   "metadata": {},
   "outputs": [
    {
     "name": "stdout",
     "output_type": "stream",
     "text": [
      "+------------------------------+-------------+---------------+------------------+\n",
      "|feature_departure_hour_rounded|total_flights|delayed_flights|delay_rate_percent|\n",
      "+------------------------------+-------------+---------------+------------------+\n",
      "|0                             |6182         |3388           |54.8              |\n",
      "|100                           |2329         |1000           |42.94             |\n",
      "|200                           |598          |267            |44.65             |\n",
      "|300                           |213          |89             |41.78             |\n",
      "|400                           |90           |46             |51.11             |\n",
      "|500                           |3744         |960            |25.64             |\n",
      "|600                           |78261        |22376          |28.59             |\n",
      "|700                           |102107       |32599          |31.93             |\n",
      "|800                           |106678       |39691          |37.21             |\n",
      "|900                           |112866       |45424          |40.25             |\n",
      "|1000                          |113410       |48068          |42.38             |\n",
      "|1100                          |116264       |52866          |45.47             |\n",
      "|1200                          |116056       |54230          |46.73             |\n",
      "|1300                          |119078       |59929          |50.33             |\n",
      "|1400                          |124292       |65195          |52.45             |\n",
      "|1500                          |129408       |70537          |54.51             |\n",
      "|1600                          |125069       |70959          |56.74             |\n",
      "|1700                          |139258       |80067          |57.5              |\n",
      "|1800                          |138203       |81932          |59.28             |\n",
      "|1900                          |128647       |77209          |60.02             |\n",
      "|2000                          |114299       |68381          |59.83             |\n",
      "|2100                          |79354        |48802          |61.5              |\n",
      "|2200                          |52100        |29134          |55.92             |\n",
      "|2300                          |19101        |10263          |53.73             |\n",
      "+------------------------------+-------------+---------------+------------------+\n",
      "\n"
     ]
    },
    {
     "data": {
      "text/plain": [
       "delaysByYearMonth = [feature_departure_hour_rounded: bigint, total_flights: bigint ... 2 more fields]\n"
      ]
     },
     "metadata": {},
     "output_type": "display_data",
     "source": "user"
    },
    {
     "data": {
      "text/plain": [
       "[feature_departure_hour_rounded: bigint, total_flights: bigint ... 2 more fields]"
      ]
     },
     "execution_count": 10,
     "metadata": {},
     "output_type": "execute_result"
    }
   ],
   "source": [
    "import org.apache.spark.sql.functions._\n",
    "\n",
    "val delaysByYearMonth =\n",
    "  flightsDF\n",
    "    .groupBy(\"feature_departure_hour_rounded\")\n",
    "    .agg(\n",
    "      count(lit(1)).as(\"total_flights\"),\n",
    "      sum(col(\"label_is_delayed_15min\").cast(\"long\")).as(\"delayed_flights\")\n",
    "    )\n",
    "    .withColumn(\n",
    "      \"delay_rate_percent\",\n",
    "      round(col(\"delayed_flights\") / col(\"total_flights\") * 100, 2)\n",
    "    )\n",
    "    .orderBy(col(\"feature_departure_hour_rounded\"))\n",
    "\n",
    "delaysByYearMonth.show(100, truncate = false)"
   ]
  },
  {
   "cell_type": "markdown",
   "id": "cb9bd23f-3540-4af5-a966-ac4216ae358b",
   "metadata": {},
   "source": [
    "# feature_flight_day_of_week"
   ]
  },
  {
   "cell_type": "code",
   "execution_count": 11,
   "id": "8f5d2da2-bf1c-4b94-a417-18b2701fc1a6",
   "metadata": {},
   "outputs": [
    {
     "name": "stdout",
     "output_type": "stream",
     "text": [
      "+--------------------------+-------------+---------------+------------------+\n",
      "|feature_flight_day_of_week|total_flights|delayed_flights|delay_rate_percent|\n",
      "+--------------------------+-------------+---------------+------------------+\n",
      "|1                         |273298       |135352         |49.53             |\n",
      "|2                         |291734       |147433         |50.54             |\n",
      "|3                         |266570       |125973         |47.26             |\n",
      "|4                         |270726       |129345         |47.78             |\n",
      "|5                         |297300       |156540         |52.65             |\n",
      "|6                         |304749       |165419         |54.28             |\n",
      "|7                         |223230       |103350         |46.3              |\n",
      "+--------------------------+-------------+---------------+------------------+\n",
      "\n"
     ]
    },
    {
     "data": {
      "text/plain": [
       "delaysByYearMonth = [feature_flight_day_of_week: int, total_flights: bigint ... 2 more fields]\n"
      ]
     },
     "metadata": {},
     "output_type": "display_data",
     "source": "user"
    },
    {
     "data": {
      "text/plain": [
       "[feature_flight_day_of_week: int, total_flights: bigint ... 2 more fields]"
      ]
     },
     "execution_count": 11,
     "metadata": {},
     "output_type": "execute_result"
    }
   ],
   "source": [
    "import org.apache.spark.sql.functions._\n",
    "\n",
    "val delaysByYearMonth =\n",
    "  flightsDF\n",
    "    .groupBy(\"feature_flight_day_of_week\")\n",
    "    .agg(\n",
    "      count(lit(1)).as(\"total_flights\"),\n",
    "      sum(col(\"label_is_delayed_15min\").cast(\"long\")).as(\"delayed_flights\")\n",
    "    )\n",
    "    .withColumn(\n",
    "      \"delay_rate_percent\",\n",
    "      round(col(\"delayed_flights\") / col(\"total_flights\") * 100, 2)\n",
    "    )\n",
    "    .orderBy(col(\"feature_flight_day_of_week\"))\n",
    "\n",
    "delaysByYearMonth.show(100, truncate = false)"
   ]
  },
  {
   "cell_type": "markdown",
   "id": "4aa2b7ed-0308-4640-bfb4-6080b819cf7f",
   "metadata": {},
   "source": [
    "# feature_flight_day_of_month"
   ]
  },
  {
   "cell_type": "code",
   "execution_count": 12,
   "id": "34c81f66-0ddf-4165-8f64-10cd2fc4d91d",
   "metadata": {},
   "outputs": [
    {
     "data": {
      "text/plain": [
       "delaysByYearMonth = [feature_flight_day_of_month: int, total_flights: bigint ... 2 more fields]\n"
      ]
     },
     "metadata": {},
     "output_type": "display_data",
     "source": "user"
    },
    {
     "name": "stdout",
     "output_type": "stream",
     "text": [
      "+---------------------------+-------------+---------------+------------------+\n",
      "|feature_flight_day_of_month|total_flights|delayed_flights|delay_rate_percent|\n",
      "+---------------------------+-------------+---------------+------------------+\n",
      "|1                          |63167        |32243          |51.04             |\n",
      "|2                          |60678        |28491          |46.95             |\n",
      "|3                          |62384        |31057          |49.78             |\n",
      "|4                          |59765        |28159          |47.12             |\n",
      "|5                          |59412        |27036          |45.51             |\n",
      "|6                          |57738        |24615          |42.63             |\n",
      "|7                          |58557        |26139          |44.64             |\n",
      "|8                          |61322        |29588          |48.25             |\n",
      "|9                          |64820        |32696          |50.44             |\n",
      "|10                         |64912        |33597          |51.76             |\n",
      "|11                         |62367        |30632          |49.12             |\n",
      "|12                         |63611        |31155          |48.98             |\n",
      "|13                         |64333        |32252          |50.13             |\n",
      "|14                         |59869        |28178          |47.07             |\n",
      "|15                         |64755        |34224          |52.85             |\n",
      "|16                         |66168        |34254          |51.77             |\n",
      "|17                         |62170        |29859          |48.03             |\n",
      "|18                         |64050        |33003          |51.53             |\n",
      "|19                         |65493        |33563          |51.25             |\n",
      "|20                         |68811        |37425          |54.39             |\n",
      "|21                         |67596        |36972          |54.7              |\n",
      "|22                         |65505        |35861          |54.75             |\n",
      "|23                         |64295        |32776          |50.98             |\n",
      "|24                         |64082        |32820          |51.22             |\n",
      "|25                         |62512        |31200          |49.91             |\n",
      "|26                         |68544        |37319          |54.45             |\n",
      "|27                         |65391        |33889          |51.83             |\n",
      "|28                         |58906        |27155          |46.1              |\n",
      "|29                         |62449        |30757          |49.25             |\n",
      "|30                         |57883        |28157          |48.64             |\n",
      "|31                         |36062        |18340          |50.86             |\n",
      "+---------------------------+-------------+---------------+------------------+\n",
      "\n"
     ]
    },
    {
     "data": {
      "text/plain": [
       "[feature_flight_day_of_month: int, total_flights: bigint ... 2 more fields]"
      ]
     },
     "execution_count": 12,
     "metadata": {},
     "output_type": "execute_result"
    }
   ],
   "source": [
    "import org.apache.spark.sql.functions._\n",
    "\n",
    "val delaysByYearMonth =\n",
    "  flightsDF\n",
    "    .groupBy(\"feature_flight_day_of_month\")\n",
    "    .agg(\n",
    "      count(lit(1)).as(\"total_flights\"),\n",
    "      sum(col(\"label_is_delayed_15min\").cast(\"long\")).as(\"delayed_flights\")\n",
    "    )\n",
    "    .withColumn(\n",
    "      \"delay_rate_percent\",\n",
    "      round(col(\"delayed_flights\") / col(\"total_flights\") * 100, 2)\n",
    "    )\n",
    "    .orderBy(col(\"feature_flight_day_of_month\"))\n",
    "\n",
    "delaysByYearMonth.show(100, truncate = false)"
   ]
  },
  {
   "cell_type": "markdown",
   "id": "a283858d-428e-4ed8-8418-9a7923a36395",
   "metadata": {},
   "source": [
    "# feature_flight_day_of_year"
   ]
  },
  {
   "cell_type": "code",
   "execution_count": 14,
   "id": "99e5dbeb-5664-4d26-9d2a-9afbb12333cc",
   "metadata": {},
   "outputs": [
    {
     "name": "stdout",
     "output_type": "stream",
     "text": [
      "+--------------------------+-------------+---------------+------------------+\n",
      "|feature_flight_day_of_year|total_flights|delayed_flights|delay_rate_percent|\n",
      "+--------------------------+-------------+---------------+------------------+\n",
      "|361                       |9288         |7527           |81.04             |\n",
      "|356                       |8696         |6727           |77.36             |\n",
      "|362                       |8821         |6803           |77.12             |\n",
      "|223                       |8290         |6065           |73.16             |\n",
      "|355                       |7829         |5695           |72.74             |\n",
      "|364                       |6495         |4718           |72.64             |\n",
      "|21                        |6025         |4374           |72.6              |\n",
      "|55                        |7764         |5563           |71.65             |\n",
      "|201                       |7957         |5659           |71.12             |\n",
      "|208                       |7883         |5538           |70.25             |\n",
      "|23                        |6907         |4843           |70.12             |\n",
      "|363                       |7490         |5213           |69.6              |\n",
      "|195                       |7882         |5456           |69.22             |\n",
      "|222                       |7537         |5082           |67.43             |\n",
      "|357                       |6245         |4204           |67.32             |\n",
      "|202                       |7612         |5109           |67.12             |\n",
      "|200                       |7615         |5111           |67.12             |\n",
      "|183                       |7401         |4964           |67.07             |\n",
      "|229                       |7386         |4951           |67.03             |\n",
      "|209                       |7333         |4856           |66.22             |\n",
      "|345                       |6859         |4531           |66.06             |\n",
      "|218                       |7024         |4632           |65.95             |\n",
      "|197                       |7033         |4637           |65.93             |\n",
      "|262                       |6591         |4324           |65.6              |\n",
      "|206                       |7106         |4654           |65.49             |\n",
      "|360                       |5368         |3499           |65.18             |\n",
      "|191                       |7113         |4605           |64.74             |\n",
      "|181                       |7231         |4649           |64.29             |\n",
      "|22                        |5969         |3829           |64.15             |\n",
      "|365                       |6002         |3811           |63.5              |\n",
      "|214                       |7158         |4509           |62.99             |\n",
      "|249                       |6478         |4071           |62.84             |\n",
      "|354                       |6630         |4163           |62.79             |\n",
      "|293                       |6798         |4267           |62.77             |\n",
      "|198                       |6856         |4267           |62.24             |\n",
      "|296                       |6557         |4073           |62.12             |\n",
      "|190                       |6609         |4082           |61.76             |\n",
      "|299                       |6611         |4072           |61.59             |\n",
      "|352                       |6202         |3809           |61.42             |\n",
      "|142                       |6576         |4031           |61.3              |\n",
      "|177                       |6702         |4078           |60.85             |\n",
      "|213                       |6833         |4149           |60.72             |\n",
      "|174                       |6659         |4032           |60.55             |\n",
      "|62                        |6670         |4037           |60.52             |\n",
      "|167                       |6594         |3951           |59.92             |\n",
      "|150                       |6397         |3823           |59.76             |\n",
      "|152                       |6426         |3838           |59.73             |\n",
      "|145                       |6544         |3900           |59.6              |\n",
      "|194                       |6664         |3970           |59.57             |\n",
      "|224                       |5569         |3315           |59.53             |\n",
      "|358                       |5689         |3386           |59.52             |\n",
      "|216                       |6499         |3857           |59.35             |\n",
      "|166                       |6634         |3932           |59.27             |\n",
      "|75                        |6438         |3815           |59.26             |\n",
      "|317                       |6207         |3676           |59.22             |\n",
      "|282                       |6423         |3796           |59.1              |\n",
      "|192                       |6549         |3865           |59.02             |\n",
      "|164                       |6518         |3842           |58.94             |\n",
      "|196                       |5589         |3287           |58.81             |\n",
      "|91                        |5172         |3027           |58.53             |\n",
      "|351                       |5714         |3342           |58.49             |\n",
      "|248                       |6198         |3624           |58.47             |\n",
      "|143                       |6169         |3599           |58.34             |\n",
      "|61                        |6155         |3589           |58.31             |\n",
      "|80                        |6084         |3544           |58.25             |\n",
      "|106                       |5930         |3451           |58.2              |\n",
      "|159                       |6414         |3731           |58.17             |\n",
      "|217                       |5734         |3335           |58.16             |\n",
      "|257                       |6219         |3603           |57.94             |\n",
      "|111                       |6151         |3553           |57.76             |\n",
      "|165                       |6312         |3645           |57.75             |\n",
      "|79                        |6062         |3498           |57.7              |\n",
      "|288                       |5731         |3287           |57.35             |\n",
      "|240                       |6222         |3560           |57.22             |\n",
      "|2                         |6094         |3480           |57.11             |\n",
      "|90                        |6248         |3564           |57.04             |\n",
      "|60                        |5776         |3281           |56.8              |\n",
      "|228                       |6123         |3478           |56.8              |\n",
      "|366                       |4727         |2684           |56.78             |\n",
      "|20                        |5855         |3322           |56.74             |\n",
      "|205                       |6598         |3736           |56.62             |\n",
      "|277                       |5881         |3327           |56.57             |\n",
      "|12                        |5659         |3175           |56.11             |\n",
      "|69                        |5995         |3364           |56.11             |\n",
      "|76                        |5962         |3343           |56.07             |\n",
      "|230                       |6100         |3413           |55.95             |\n",
      "|68                        |5914         |3308           |55.94             |\n",
      "|250                       |5904         |3296           |55.83             |\n",
      "|127                       |5665         |3161           |55.8              |\n",
      "|227                       |5853         |3258           |55.66             |\n",
      "|286                       |6003         |3337           |55.59             |\n",
      "|212                       |6197         |3443           |55.56             |\n",
      "|353                       |5763         |3201           |55.54             |\n",
      "|210                       |5355         |2968           |55.42             |\n",
      "|63                        |4797         |2653           |55.31             |\n",
      "|278                       |6001         |3316           |55.26             |\n",
      "|316                       |5377         |2971           |55.25             |\n",
      "|239                       |5702         |3146           |55.17             |\n",
      "|279                       |5838         |3205           |54.9              |\n",
      "|300                       |6002         |3280           |54.65             |\n",
      "+--------------------------+-------------+---------------+------------------+\n",
      "only showing top 100 rows\n",
      "\n"
     ]
    },
    {
     "data": {
      "text/plain": [
       "delaysByYearMonth = [feature_flight_day_of_year: int, total_flights: bigint ... 2 more fields]\n"
      ]
     },
     "metadata": {},
     "output_type": "display_data",
     "source": "user"
    },
    {
     "data": {
      "text/plain": [
       "[feature_flight_day_of_year: int, total_flights: bigint ... 2 more fields]"
      ]
     },
     "execution_count": 14,
     "metadata": {},
     "output_type": "execute_result"
    }
   ],
   "source": [
    "import org.apache.spark.sql.functions._\n",
    "\n",
    "val delaysByYearMonth =\n",
    "  flightsDF\n",
    "    .groupBy(\"feature_flight_day_of_year\")\n",
    "    .agg(\n",
    "      count(lit(1)).as(\"total_flights\"),\n",
    "      sum(col(\"label_is_delayed_15min\").cast(\"long\")).as(\"delayed_flights\")\n",
    "    )\n",
    "    .withColumn(\n",
    "      \"delay_rate_percent\",\n",
    "      round(col(\"delayed_flights\") / col(\"total_flights\") * 100, 2)\n",
    "    )\n",
    "    .orderBy(col(\"delay_rate_percent\").desc)\n",
    "\n",
    "delaysByYearMonth.show(100, truncate = false)"
   ]
  },
  {
   "cell_type": "markdown",
   "id": "80efb7d9-ab96-4b4b-b92c-7b0962606d7d",
   "metadata": {},
   "source": [
    "# feature_flight_week_of_year"
   ]
  },
  {
   "cell_type": "code",
   "execution_count": 15,
   "id": "610db0a2-1964-4b83-b3c2-764f977b5068",
   "metadata": {},
   "outputs": [
    {
     "name": "stdout",
     "output_type": "stream",
     "text": [
      "+---------------------------+-------------+---------------+------------------+\n",
      "|feature_flight_week_of_year|total_flights|delayed_flights|delay_rate_percent|\n",
      "+---------------------------+-------------+---------------+------------------+\n",
      "|52                         |52340        |35956          |68.7              |\n",
      "|51                         |47054        |31185          |66.27             |\n",
      "|28                         |46947        |29160          |62.11             |\n",
      "|29                         |46961        |28921          |61.59             |\n",
      "|30                         |45910        |27775          |60.5              |\n",
      "|31                         |45438        |26959          |59.33             |\n",
      "|32                         |44354        |25804          |58.18             |\n",
      "|33                         |41919        |23832          |56.85             |\n",
      "|26                         |43491        |24602          |56.57             |\n",
      "|3                          |37162        |20633          |55.52             |\n",
      "|24                         |42264        |23241          |54.99             |\n",
      "|41                         |38954        |21068          |54.08             |\n",
      "|36                         |38516        |20439          |53.07             |\n",
      "|22                         |38337        |20020          |52.22             |\n",
      "|43                         |37959        |19793          |52.14             |\n",
      "|21                         |37328        |19459          |52.13             |\n",
      "|25                         |40189        |20802          |51.76             |\n",
      "|9                          |37435        |19311          |51.59             |\n",
      "|40                         |37363        |19199          |51.39             |\n",
      "|12                         |37824        |19150          |50.63             |\n",
      "|11                         |37322        |18730          |50.18             |\n",
      "|42                         |37050        |18504          |49.94             |\n",
      "|38                         |36732        |18201          |49.55             |\n",
      "|8                          |36339        |17973          |49.46             |\n",
      "|23                         |37697        |18587          |49.31             |\n",
      "|34                         |37232        |18222          |48.94             |\n",
      "|50                         |34760        |16958          |48.79             |\n",
      "|4                          |33888        |16499          |48.69             |\n",
      "|27                         |35250        |16669          |47.29             |\n",
      "|10                         |35759        |16814          |47.02             |\n",
      "|13                         |35880        |16847          |46.95             |\n",
      "|37                         |35149        |16455          |46.81             |\n",
      "|18                         |35524        |16402          |46.17             |\n",
      "|39                         |34679        |15713          |45.31             |\n",
      "|45                         |33766        |15241          |45.14             |\n",
      "|48                         |33285        |14842          |44.59             |\n",
      "|19                         |34558        |15399          |44.56             |\n",
      "|46                         |34094        |15174          |44.51             |\n",
      "|35                         |33037        |14516          |43.94             |\n",
      "|2                          |31778        |13908          |43.77             |\n",
      "|20                         |34097        |14610          |42.85             |\n",
      "|16                         |33933        |14361          |42.32             |\n",
      "|15                         |34017        |14348          |42.18             |\n",
      "|7                          |32155        |13532          |42.08             |\n",
      "|14                         |33589        |14109          |42.0              |\n",
      "|1                          |35994        |14984          |41.63             |\n",
      "|47                         |30390        |12306          |40.49             |\n",
      "|17                         |32683        |13046          |39.92             |\n",
      "|49                         |31284        |12458          |39.82             |\n",
      "|44                         |30574        |11157          |36.49             |\n",
      "|6                          |29314        |10476          |35.74             |\n",
      "|5                          |28053        |9062           |32.3              |\n",
      "+---------------------------+-------------+---------------+------------------+\n",
      "\n"
     ]
    },
    {
     "data": {
      "text/plain": [
       "delaysByYearMonth = [feature_flight_week_of_year: int, total_flights: bigint ... 2 more fields]\n"
      ]
     },
     "metadata": {},
     "output_type": "display_data",
     "source": "user"
    },
    {
     "data": {
      "text/plain": [
       "[feature_flight_week_of_year: int, total_flights: bigint ... 2 more fields]"
      ]
     },
     "execution_count": 15,
     "metadata": {},
     "output_type": "execute_result"
    }
   ],
   "source": [
    "import org.apache.spark.sql.functions._\n",
    "\n",
    "val delaysByYearMonth =\n",
    "  flightsDF\n",
    "    .groupBy(\"feature_flight_week_of_year\")\n",
    "    .agg(\n",
    "      count(lit(1)).as(\"total_flights\"),\n",
    "      sum(col(\"label_is_delayed_15min\").cast(\"long\")).as(\"delayed_flights\")\n",
    "    )\n",
    "    .withColumn(\n",
    "      \"delay_rate_percent\",\n",
    "      round(col(\"delayed_flights\") / col(\"total_flights\") * 100, 2)\n",
    "    )\n",
    "    .orderBy(col(\"delay_rate_percent\").desc)\n",
    "\n",
    "delaysByYearMonth.show(100, truncate = false)"
   ]
  },
  {
   "cell_type": "markdown",
   "id": "12233705-03e6-4eb4-8f43-dbc407129bbc",
   "metadata": {},
   "source": [
    "# AvgDelayFeature"
   ]
  },
  {
   "cell_type": "code",
   "execution_count": 10,
   "id": "24857ce5-e710-4c37-93d0-0d1626ada2aa",
   "metadata": {},
   "outputs": [
    {
     "data": {
      "text/plain": [
       "defined object AvgDelayFeature\n"
      ]
     },
     "metadata": {},
     "output_type": "display_data",
     "source": "user"
    }
   ],
   "source": [
    "import org.apache.spark.sql.{DataFrame, SparkSession}\n",
    "import org.apache.spark.sql.functions._\n",
    "import org.apache.spark.sql.expressions.Window\n",
    "\n",
    "object AvgDelayFeature {\n",
    "\n",
    "  /**\n",
    "   * Version optimisée du calcul de l'avg_delay\n",
    "   * Optimisations:\n",
    "   * - Window functions au lieu de self-join\n",
    "   * - Calcul des timestamps une seule fois\n",
    "   * - Partitionnement intelligent\n",
    "   * - Cache des données intermédiaires\n",
    "   */\n",
    "  def enrichFlightsWithAvgDelay(flightData: DataFrame)(implicit spark: SparkSession): DataFrame = {\n",
    "    \n",
    "    import spark.implicits._\n",
    "    \n",
    "    // Étape 1 : Préparation une seule fois avec cache\n",
    "    val flightWithTimestamps = flightData\n",
    "      .withColumn(\"utc_departure_timestamp\", \n",
    "        to_timestamp(\n",
    "          concat(\n",
    "            col(\"UTC_FL_DATE\"), \n",
    "            lit(\" \"), \n",
    "            lpad(col(\"feature_utc_departure_hour_rounded\"), 2, \"0\"),\n",
    "            lit(\":00:00\")\n",
    "          )\n",
    "        )\n",
    "      )\n",
    "      .withColumn(\"6_hour_before_departure\", \n",
    "        col(\"utc_departure_timestamp\") - expr(\"INTERVAL 6 HOURS\")\n",
    "      )\n",
    "      .withColumn(\"2_hour_before_departure\", \n",
    "        col(\"utc_departure_timestamp\") - expr(\"INTERVAL 2 HOURS\")\n",
    "      )\n",
    "      .repartition(col(\"ORIGIN_AIRPORT_ID\")) // Partitionnement par aéroport\n",
    "      .cache() // Cache pour éviter recalcul\n",
    "    \n",
    "    // Étape 2 : Utiliser Window Functions (plus efficace que self-join)\n",
    "    // Créer une fenêtre glissante par aéroport\n",
    "    val windowSpec = Window\n",
    "      .partitionBy(\"ORIGIN_AIRPORT_ID\")\n",
    "      .orderBy(col(\"utc_departure_timestamp\").cast(\"long\"))\n",
    "      .rangeBetween(-6 * 3600, -2 * 3600) // En secondes: -6h à -2h\n",
    "    \n",
    "    // Étape 3 : Calculer les statistiques avec window functions\n",
    "    val enrichedFlights = flightWithTimestamps\n",
    "      .withColumn(\"avg_delay\", \n",
    "        avg(col(\"label_arr_delay_filled\")).over(windowSpec)\n",
    "      )\n",
    "      .withColumn(\"num_previous_flights\", \n",
    "        count(col(\"label_arr_delay_filled\")).over(windowSpec)\n",
    "      )\n",
    "      .withColumn(\"proportion_delayed_15min\", \n",
    "        avg(col(\"label_is_delayed_15min\").cast(\"double\")).over(windowSpec)\n",
    "      )\n",
    "      .withColumn(\"stddev_delay\", \n",
    "        stddev(col(\"label_arr_delay_filled\")).over(windowSpec)\n",
    "      )\n",
    "      .withColumn(\"max_delay\", \n",
    "        max(col(\"label_arr_delay_filled\")).over(windowSpec)\n",
    "      )\n",
    "      .withColumn(\"min_delay\", \n",
    "        min(col(\"label_arr_delay_filled\")).over(windowSpec)\n",
    "      )\n",
    "      // Remplacer les null par 0 pour les vols sans historique\n",
    "      .na.fill(0.0, Seq(\"avg_delay\", \"proportion_delayed_15min\", \"stddev_delay\", \"max_delay\", \"min_delay\"))\n",
    "      .na.fill(0, Seq(\"num_previous_flights\"))\n",
    "      // Nettoyer les colonnes intermédiaires\n",
    "      .drop(\"6_hour_before_departure\", \"2_hour_before_departure\")\n",
    "    \n",
    "    // Unpersist pour libérer la mémoire\n",
    "    flightWithTimestamps.unpersist()\n",
    "    \n",
    "    enrichedFlights\n",
    "  }\n",
    "  \n",
    "  /**\n",
    "   * Version alternative avec broadcast join si peu d'aéroports\n",
    "   * Utilise un self-join optimisé avec broadcast\n",
    "   */\n",
    "  def enrichFlightsWithAvgDelayBroadcast(flightData: DataFrame)(implicit spark: SparkSession): DataFrame = {\n",
    "    \n",
    "    import spark.implicits._\n",
    "    import org.apache.spark.sql.functions.broadcast\n",
    "    \n",
    "    // Préparation des timestamps\n",
    "    val flightWithTimestamps = flightData\n",
    "      .withColumn(\"utc_departure_timestamp\", \n",
    "        to_timestamp(\n",
    "          concat(\n",
    "            col(\"UTC_FL_DATE\"), \n",
    "            lit(\" \"), \n",
    "            lpad(col(\"feature_utc_departure_hour_rounded\"), 2, \"0\"),\n",
    "            lit(\":00:00\")\n",
    "          )\n",
    "        )\n",
    "      )\n",
    "      .withColumn(\"dep_ts_long\", col(\"utc_departure_timestamp\").cast(\"long\"))\n",
    "      .repartition(200, col(\"ORIGIN_AIRPORT_ID\")) // Augmenter le parallélisme\n",
    "      .cache()\n",
    "    \n",
    "    // Créer un DataFrame agrégé plus petit (candidat pour broadcast)\n",
    "    val delayStats = flightWithTimestamps\n",
    "      .groupBy(\"ORIGIN_AIRPORT_ID\", \"dep_ts_long\")\n",
    "      .agg(\n",
    "        avg(\"label_arr_delay_filled\").alias(\"instant_avg_delay\"),\n",
    "        count(\"*\").alias(\"flights_at_this_time\"),\n",
    "        avg(col(\"label_is_delayed_15min\").cast(\"double\")).alias(\"instant_proportion_delayed\")\n",
    "      )\n",
    "    \n",
    "    // Self-join optimisé avec range condition\n",
    "    val enrichedFlights = flightWithTimestamps.as(\"f1\")\n",
    "      .join(\n",
    "        delayStats.as(\"f2\"),\n",
    "        col(\"f1.ORIGIN_AIRPORT_ID\") === col(\"f2.ORIGIN_AIRPORT_ID\") &&\n",
    "        col(\"f2.dep_ts_long\") >= col(\"f1.dep_ts_long\") - 6 * 3600 &&\n",
    "        col(\"f2.dep_ts_long\") <= col(\"f1.dep_ts_long\") - 2 * 3600,\n",
    "        \"left\"\n",
    "      )\n",
    "      .groupBy(\"f1.*\")\n",
    "      .agg(\n",
    "        avg(\"f2.instant_avg_delay\").alias(\"avg_delay\"),\n",
    "        sum(\"f2.flights_at_this_time\").alias(\"num_previous_flights\"),\n",
    "        avg(\"f2.instant_proportion_delayed\").alias(\"proportion_delayed_15min\")\n",
    "      )\n",
    "      .na.fill(0.0, Seq(\"avg_delay\", \"proportion_delayed_15min\"))\n",
    "      .na.fill(0, Seq(\"num_previous_flights\"))\n",
    "      .drop(\"dep_ts_long\")\n",
    "    \n",
    "    flightWithTimestamps.unpersist()\n",
    "    \n",
    "    enrichedFlights\n",
    "  }\n",
    "  \n",
    "}"
   ]
  },
  {
   "cell_type": "code",
   "execution_count": 17,
   "id": "ae8376a7-882c-4240-b37d-87c5bd9b4c7a",
   "metadata": {},
   "outputs": [
    {
     "ename": "org.apache.spark.sql.AnalysisException",
     "evalue": "[UNRESOLVED_COLUMN.WITH_SUGGESTION] A column or function parameter with name `f1`.`*` cannot be resolved. Did you mean one of the following? [`FL_DATE`, `OP_CARRIER_AIRLINE_ID`, `OP_CARRIER_FL_NUM`, `ORIGIN_AIRPORT_ID`, `DEST_AIRPORT_ID`, `CRS_DEP_TIME`, `ARR_DELAY_NEW`, `CRS_ELAPSED_TIME`, `WEATHER_DELAY`, `NAS_DELAY`, `ORIGIN_WBAN`, `ORIGIN_TIMEZONE`, `DEST_WBAN`, `DEST_TIMEZONE`, `UTC_CRS_DEP_TIME`, `UTC_FL_DATE`, `UTC_ARR_TIME`, `UTC_ARR_DATE`, `CRS_ARR_TIME`, `CRS_ARR_DATE`, `feature_arrival_hour`, `feature_utc_arrival_hour`, `feature_utc_arrival_hour_rounded`, `feature_utc_arrival_date`, `feature_crosses_midnight_local`, `feature_crosses_midnight_utc`, `feature_flight_days_span`, `feature_timezone_difference`, `feature_flies_eastward`, `feature_flies_westward`, `feature_departure_minute`, `feature_arrival_minutes_total`, `feature_crosses_midnight`, `feature_flight_day_of_week`, `feature_departure_hour_decimal`, `feature_flight_timestamp`, `feature_utc_departure_hour`, `feature_flight_quarter_name`, `feature_utc_departure_hour_decimal`, `feature_departure_hour`, `feature_minutes_since_midnight`, `feature_departure_quarter_day`, `feature_flight_month`, `feature_utc_departure_hour_rounded`, `feature_arrival_minute`, `feature_flight_year`, `feature_flight_day_of_year`, `feature_arrival_time`, `feature_flight_quarter`, `feature_arrival_hour_decimal`, `feature_flight_week_of_year`, `feature_flight_day_of_month`, `feature_departure_quarter_name`, `feature_departure_time_period`, `feature_departure_hour_rounded`, `feature_departure_minutes_total`, `feature_arrival_hour_rounded`, `feature_arrival_date`, `feature_distance_score`, `feature_distance_category`, `feature_carrier_hash`, `feature_route_id`, `feature_is_likely_domestic`, `feature_is_roundtrip_candidate`, `feature_flight_unique_id`, `feature_is_summer`, `feature_is_monday`, `feature_is_evening_rush`, `feature_is_month_start`, `feature_is_extended_weekend`, `feature_is_winter`, `feature_is_friday`, `feature_is_spring`, `feature_is_weekend`, `feature_is_holiday_season`, `feature_is_fall`, `feature_is_early_morning`, `feature_is_morning_rush`, `feature_is_business_hours`, `feature_is_night_flight`, `feature_is_month_end`, `feature_origin_complexity_score`, `feature_is_westbound`, `feature_dest_complexity_score`, `feature_dest_is_major_hub`, `feature_is_eastbound`, `feature_timezone_diff_proxy`, `feature_origin_is_major_hub`, `feature_is_hub_to_hub`, `feature_flights_on_route`, `feature_carrier_flight_count`, `feature_origin_airport_traffic`, `feature_route_popularity_score`, `feature_carrier_size_category`, `AIRCRAFT_ID`, `PREV_AIRCRAFT_ARR_DELAY`, `IS_PREV_AIRCRAFT_LATE`, `label_arr_delay_filled`, `label_nas_delay_filled`, `label_weather_delay_filled`, `label_weather_delay_was_missing`, `label_nas_delay_was_missing`, `label_arr_delay_was_missing`, `label_is_early`, `label_total_weather_nas_delay`, `label_is_delayed_15min`, `label_has_nas_delay`, `label_is_delayed_30min`, `label_is_delayed_60min`, `label_is_delayed_45min`, `label_is_delayed_90min`, `label_has_weather_delay`, `label_is_on_time`, `label_has_any_weather_nas_delay`, `utc_departure_timestamp`, `dep_ts_long`, `ORIGIN_AIRPORT_ID`, `dep_ts_long`, `instant_avg_delay`, `flights_at_this_time`, `instant_proportion_delayed`].",
     "output_type": "error",
     "traceback": [
      "org.apache.spark.sql.AnalysisException: [UNRESOLVED_COLUMN.WITH_SUGGESTION] A column or function parameter with name `f1`.`*` cannot be resolved. Did you mean one of the following? [`FL_DATE`, `OP_CARRIER_AIRLINE_ID`, `OP_CARRIER_FL_NUM`, `ORIGIN_AIRPORT_ID`, `DEST_AIRPORT_ID`, `CRS_DEP_TIME`, `ARR_DELAY_NEW`, `CRS_ELAPSED_TIME`, `WEATHER_DELAY`, `NAS_DELAY`, `ORIGIN_WBAN`, `ORIGIN_TIMEZONE`, `DEST_WBAN`, `DEST_TIMEZONE`, `UTC_CRS_DEP_TIME`, `UTC_FL_DATE`, `UTC_ARR_TIME`, `UTC_ARR_DATE`, `CRS_ARR_TIME`, `CRS_ARR_DATE`, `feature_arrival_hour`, `feature_utc_arrival_hour`, `feature_utc_arrival_hour_rounded`, `feature_utc_arrival_date`, `feature_crosses_midnight_local`, `feature_crosses_midnight_utc`, `feature_flight_days_span`, `feature_timezone_difference`, `feature_flies_eastward`, `feature_flies_westward`, `feature_departure_minute`, `feature_arrival_minutes_total`, `feature_crosses_midnight`, `feature_flight_day_of_week`, `feature_departure_hour_decimal`, `feature_flight_timestamp`, `feature_utc_departure_hour`, `feature_flight_quarter_name`, `feature_utc_departure_hour_decimal`, `feature_departure_hour`, `feature_minutes_since_midnight`, `feature_departure_quarter_day`, `feature_flight_month`, `feature_utc_departure_hour_rounded`, `feature_arrival_minute`, `feature_flight_year`, `feature_flight_day_of_year`, `feature_arrival_time`, `feature_flight_quarter`, `feature_arrival_hour_decimal`, `feature_flight_week_of_year`, `feature_flight_day_of_month`, `feature_departure_quarter_name`, `feature_departure_time_period`, `feature_departure_hour_rounded`, `feature_departure_minutes_total`, `feature_arrival_hour_rounded`, `feature_arrival_date`, `feature_distance_score`, `feature_distance_category`, `feature_carrier_hash`, `feature_route_id`, `feature_is_likely_domestic`, `feature_is_roundtrip_candidate`, `feature_flight_unique_id`, `feature_is_summer`, `feature_is_monday`, `feature_is_evening_rush`, `feature_is_month_start`, `feature_is_extended_weekend`, `feature_is_winter`, `feature_is_friday`, `feature_is_spring`, `feature_is_weekend`, `feature_is_holiday_season`, `feature_is_fall`, `feature_is_early_morning`, `feature_is_morning_rush`, `feature_is_business_hours`, `feature_is_night_flight`, `feature_is_month_end`, `feature_origin_complexity_score`, `feature_is_westbound`, `feature_dest_complexity_score`, `feature_dest_is_major_hub`, `feature_is_eastbound`, `feature_timezone_diff_proxy`, `feature_origin_is_major_hub`, `feature_is_hub_to_hub`, `feature_flights_on_route`, `feature_carrier_flight_count`, `feature_origin_airport_traffic`, `feature_route_popularity_score`, `feature_carrier_size_category`, `AIRCRAFT_ID`, `PREV_AIRCRAFT_ARR_DELAY`, `IS_PREV_AIRCRAFT_LATE`, `label_arr_delay_filled`, `label_nas_delay_filled`, `label_weather_delay_filled`, `label_weather_delay_was_missing`, `label_nas_delay_was_missing`, `label_arr_delay_was_missing`, `label_is_early`, `label_total_weather_nas_delay`, `label_is_delayed_15min`, `label_has_nas_delay`, `label_is_delayed_30min`, `label_is_delayed_60min`, `label_is_delayed_45min`, `label_is_delayed_90min`, `label_has_weather_delay`, `label_is_on_time`, `label_has_any_weather_nas_delay`, `utc_departure_timestamp`, `dep_ts_long`, `ORIGIN_AIRPORT_ID`, `dep_ts_long`, `instant_avg_delay`, `flights_at_this_time`, `instant_proportion_delayed`].",
      "  at org.apache.spark.sql.errors.QueryCompilationErrors$.unresolvedColumnWithSuggestionError(QueryCompilationErrors.scala:3109)",
      "  at org.apache.spark.sql.errors.QueryCompilationErrors$.resolveException(QueryCompilationErrors.scala:3117)",
      "  at org.apache.spark.sql.Dataset.$anonfun$resolve$1(Dataset.scala:251)",
      "  at scala.Option.getOrElse(Option.scala:189)",
      "  at org.apache.spark.sql.Dataset.resolve(Dataset.scala:251)",
      "  at org.apache.spark.sql.Dataset.$anonfun$groupBy$2(Dataset.scala:1812)",
      "  at scala.collection.TraversableLike.$anonfun$map$1(TraversableLike.scala:286)",
      "  at scala.collection.mutable.ResizableArray.foreach(ResizableArray.scala:62)",
      "  at scala.collection.mutable.ResizableArray.foreach$(ResizableArray.scala:55)",
      "  at scala.collection.mutable.ArrayBuffer.foreach(ArrayBuffer.scala:49)",
      "  at scala.collection.TraversableLike.map(TraversableLike.scala:286)",
      "  at scala.collection.TraversableLike.map$(TraversableLike.scala:279)",
      "  at scala.collection.AbstractTraversable.map(Traversable.scala:108)",
      "  at org.apache.spark.sql.Dataset.groupBy(Dataset.scala:1812)",
      "  at AvgDelayFeature$.enrichFlightsWithAvgDelayBroadcast(<console>:177)",
      "  ... 51 elided"
     ]
    }
   ],
   "source": [
    "val startTime = System.nanoTime()\n",
    "var avgDelayEnrichedFlightsDF = AvgDelayFeature.enrichFlightsWithAvgDelayBroadcast(flightsDF)\n",
    "val endTime = System.nanoTime()\n",
    "val durationMs = (endTime - startTime) / 1000000.0\n",
    "\n",
    "println(f\"Temps d'exécution: $durationMs%.2f ms\")\n",
    "println(f\"Temps d'exécution: ${durationMs/1000}%.2f secondes\")\n",
    "\n",
    "avgDelayEnrichedFlightsDF.select(\n",
    "  \"FL_DATE\", \n",
    "  \"label_is_delayed_15min\",\n",
    "  \"utc_departure_timestamp\",\n",
    "  \"avg_delay\",\n",
    "  \"num_previous_flights\",\n",
    "  \"proportion_delayed_15min\"/**,\n",
    "  \"stddev_delay\",\n",
    "  \"max_delay\",\n",
    "  \"min_delay\"                  **/             \n",
    ").show(100)"
   ]
  },
  {
   "cell_type": "code",
   "execution_count": null,
   "id": "f74ca16c-992c-4f1c-a587-d3fa2b62ed9d",
   "metadata": {},
   "outputs": [],
   "source": []
  }
 ],
 "metadata": {
  "kernelspec": {
   "display_name": "apache_toree_scala - Scala",
   "language": "scala",
   "name": "apache_toree_scala_scala"
  },
  "language_info": {
   "codemirror_mode": "text/x-scala",
   "file_extension": ".scala",
   "mimetype": "text/x-scala",
   "name": "scala",
   "pygments_lexer": "scala",
   "version": "2.12.15"
  }
 },
 "nbformat": 4,
 "nbformat_minor": 5
}
