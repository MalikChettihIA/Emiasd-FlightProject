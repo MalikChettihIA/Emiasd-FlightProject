{
 "cells": [
  {
   "cell_type": "markdown",
   "id": "549c4893-c53e-4450-a8ba-95474d194f8f",
   "metadata": {},
   "source": [
    "# Flight Preprocessing - Data Generation"
   ]
  },
  {
   "cell_type": "code",
   "execution_count": 1,
   "id": "88c94428-dbc0-4a56-a9c2-a79ea02d6a5c",
   "metadata": {},
   "outputs": [
    {
     "name": "stdout",
     "output_type": "stream",
     "text": [
      "Starting download from file:///home/jovyan/work/apps/Emiasd-Flight-Data-Analysis.jar\n",
      "Finished download of Emiasd-Flight-Data-Analysis.jar\n",
      "Using cached version of Emiasd-Flight-Data-Analysis.jar\n"
     ]
    }
   ],
   "source": [
    "%AddJar file:///home/jovyan/work/apps/Emiasd-Flight-Data-Analysis.jar"
   ]
  },
  {
   "cell_type": "code",
   "execution_count": 2,
   "id": "42e5025a-6a95-41ac-a937-a9e04f240204",
   "metadata": {},
   "outputs": [
    {
     "name": "stdout",
     "output_type": "stream",
     "text": [
      "\n",
      "================================================================================\n",
      "[STEP 1][DataLoader] Flight Data Loading - Start\n",
      "================================================================================\n",
      "\n",
      "Loading from existing Parquet file:\n",
      "  - Path: /home/jovyan/work/output/common/data/raw_flights.parquet\n",
      "  - Loaded 486133 records from Parquet (optimized)\n",
      "\n",
      "Schema:\n",
      "root\n",
      " |-- FL_DATE: date (nullable = true)\n",
      " |-- OP_CARRIER_AIRLINE_ID: integer (nullable = true)\n",
      " |-- OP_CARRIER_FL_NUM: integer (nullable = true)\n",
      " |-- ORIGIN_AIRPORT_ID: integer (nullable = true)\n",
      " |-- DEST_AIRPORT_ID: integer (nullable = true)\n",
      " |-- CRS_DEP_TIME: integer (nullable = true)\n",
      " |-- ARR_DELAY_NEW: double (nullable = true)\n",
      " |-- CANCELLED: integer (nullable = true)\n",
      " |-- DIVERTED: integer (nullable = true)\n",
      " |-- CRS_ELAPSED_TIME: double (nullable = true)\n",
      " |-- WEATHER_DELAY: double (nullable = true)\n",
      " |-- NAS_DELAY: double (nullable = true)\n",
      "\n",
      "\n",
      "Sample data (10 rows):\n",
      "+----------+---------------------+-----------------+-----------------+---------------+------------+-------------+---------+--------+----------------+-------------+---------+\n",
      "|   FL_DATE|OP_CARRIER_AIRLINE_ID|OP_CARRIER_FL_NUM|ORIGIN_AIRPORT_ID|DEST_AIRPORT_ID|CRS_DEP_TIME|ARR_DELAY_NEW|CANCELLED|DIVERTED|CRS_ELAPSED_TIME|WEATHER_DELAY|NAS_DELAY|\n",
      "+----------+---------------------+-----------------+-----------------+---------------+------------+-------------+---------+--------+----------------+-------------+---------+\n",
      "|2012-01-01|                20366|             4426|            15370|          12266|         845|          0.0|     NULL|    NULL|            99.0|         NULL|     NULL|\n",
      "|2012-01-01|                20366|             4427|            12266|          15370|         858|          0.0|     NULL|    NULL|            88.0|         NULL|     NULL|\n",
      "|2012-01-01|                20366|             4427|            15370|          12266|        1051|          0.0|     NULL|    NULL|            89.0|         NULL|     NULL|\n",
      "|2012-01-01|                20366|             4428|            12266|          15370|        1125|         31.0|     NULL|    NULL|            87.0|          0.0|      2.0|\n",
      "|2012-01-01|                20366|             4428|            15370|          12266|        1319|         21.0|     NULL|    NULL|            96.0|          0.0|      0.0|\n",
      "|2012-01-01|                20366|             4429|            12266|          15370|        1328|          0.0|     NULL|    NULL|            94.0|         NULL|     NULL|\n",
      "|2012-01-01|                20366|             4429|            15370|          12266|        1527|          0.0|     NULL|    NULL|            97.0|         NULL|     NULL|\n",
      "|2012-01-01|                20366|             4430|            12266|          15370|        1449|         10.0|     NULL|    NULL|            89.0|         NULL|     NULL|\n",
      "|2012-01-01|                20366|             4430|            15370|          12266|        1643|          0.0|     NULL|    NULL|            98.0|         NULL|     NULL|\n",
      "|2012-01-01|                20366|             4431|            12266|          15370|        1920|         55.0|     NULL|    NULL|            91.0|          0.0|      0.0|\n",
      "+----------+---------------------+-----------------+-----------------+---------------+------------+-------------+---------+--------+----------------+-------------+---------+\n",
      "only showing top 10 rows\n",
      "\n"
     ]
    },
    {
     "data": {
      "text/plain": [
       "args = Array(juniper)\n",
       "spark = org.apache.spark.sql.SparkSession@6d08c785\n",
       "session = org.apache.spark.sql.SparkSession@6d08c785\n",
       "configuration = AppConfiguration(local,CommonConfig(42,DataConfig(/home/jovyan/work/data,FileConfig(/home/jovyan/work/data/FLIGHT-3Y/Flights/201201.csv),FileConfig(/home/jovyan/work/data/FLIGHT-3Y/Weather/201201hourly.txt),FileConfig(/home/jovyan/work/data/FLIGHT-3Y/wban_airport_timezone.csv)),OutputConfig(/home/jovyan/work/output,FileConfig(/home/jovyan/work/output/data),FileCo...\n"
      ]
     },
     "metadata": {},
     "output_type": "display_data",
     "source": "user"
    },
    {
     "data": {
      "text/plain": [
       "AppConfiguration(local,CommonConfig(42,DataConfig(/home/jovyan/work/data,FileConfig(/home/jovyan/work/data/FLIGHT-3Y/Flights/201201.csv),FileConfig(/home/jovyan/work/data/FLIGHT-3Y/Weather/201201hourly.txt),FileConfig(/home/jovyan/work/data/FLIGHT-3Y/wban_airport_timezone.csv)),OutputConfig(/home/jovyan/work/output,FileConfig(/home/jovyan/work/output/data),FileCo..."
      ]
     },
     "execution_count": 2,
     "metadata": {},
     "output_type": "execute_result"
    }
   ],
   "source": [
    "import org.apache.spark.sql.SparkSession\n",
    "import com.flightdelay.config.{AppConfiguration, ConfigurationLoader}\n",
    "import com.flightdelay.data.loaders.FlightDataLoader\n",
    "\n",
    "//Env Configuration\n",
    "val args: Array[String] = Array(\"juniper\")\n",
    "\n",
    "val spark = SparkSession.builder()\n",
    "  .config(sc.getConf)\n",
    "  .getOrCreate()\n",
    "\n",
    "// Rendre la session Spark implicite\n",
    "implicit val session = spark\n",
    "implicit val configuration: AppConfiguration = ConfigurationLoader.loadConfiguration(args)\n",
    "\n",
    "// Cellule 4: Test\n",
    "val flightData = FlightDataLoader.loadFromConfiguration(false)"
   ]
  },
  {
   "cell_type": "code",
   "execution_count": 3,
   "id": "f1a6f9f6-c737-41b7-a5ce-57612dda79b7",
   "metadata": {},
   "outputs": [
    {
     "name": "stdout",
     "output_type": "stream",
     "text": [
      "+--------------------+-----------+-------+----------+----------------+\n",
      "|                name|   origType|colType| compRatio|nbDistinctValues|\n",
      "+--------------------+-----------+-------+----------+----------------+\n",
      "|             FL_DATE|   DateType|   date|       1.0|              31|\n",
      "|OP_CARRIER_AIRLIN...|IntegerType|numeric|       1.0|              15|\n",
      "|   OP_CARRIER_FL_NUM|IntegerType|numeric|       1.0|            6237|\n",
      "|   ORIGIN_AIRPORT_ID|IntegerType|numeric|       1.0|             287|\n",
      "|     DEST_AIRPORT_ID|IntegerType|numeric|       1.0|             287|\n",
      "|        CRS_DEP_TIME|IntegerType|numeric|       1.0|            1153|\n",
      "|       ARR_DELAY_NEW| DoubleType|numeric| 0.9833214|             549|\n",
      "|           CANCELLED|IntegerType|numeric|       0.0|               1|\n",
      "|            DIVERTED|IntegerType|numeric|       0.0|               1|\n",
      "|    CRS_ELAPSED_TIME| DoubleType|numeric|       1.0|             419|\n",
      "|       WEATHER_DELAY| DoubleType|numeric|0.14586131|             288|\n",
      "|           NAS_DELAY| DoubleType|numeric|0.14586131|             283|\n",
      "+--------------------+-----------+-------+----------+----------------+\n",
      "\n"
     ]
    },
    {
     "data": {
      "text/plain": [
       "flightDataMetrics = [name: string, origType: string ... 3 more fields]\n"
      ]
     },
     "metadata": {},
     "output_type": "display_data",
     "source": "user"
    },
    {
     "data": {
      "text/plain": [
       "[name: string, origType: string ... 3 more fields]"
      ]
     },
     "execution_count": 3,
     "metadata": {},
     "output_type": "execute_result"
    }
   ],
   "source": [
    "import com.flightdelay.data.utils.DataQualityMetrics\n",
    "\n",
    "val flightDataMetrics = DataQualityMetrics.metrics(flightData)\n",
    "flightDataMetrics.show()"
   ]
  },
  {
   "cell_type": "code",
   "execution_count": 6,
   "id": "f50bf716-a979-4597-b1f0-2103d27473d4",
   "metadata": {},
   "outputs": [
    {
     "name": "stdout",
     "output_type": "stream",
     "text": [
      "\n",
      "================================================================================\n",
      "[STEP 2][DataCleaner] Flight Data Cleaning - Start\n",
      "================================================================================\n",
      "\n",
      "Original dataset: 486133 records\n",
      "\n",
      "Phase 1: Basic Cleaning\n",
      "  - Current count: 486133 records\n",
      "\n",
      "Phase 2: Filter Invalid Flights\n",
      "  - Filtering cancelled and diverted flights\n",
      "  - Filtering invalid departure times\n",
      "  - Filtering invalid airports\n",
      "  - Current count: 486133 records\n",
      "\n",
      "Phase 3: Data Type Conversion\n",
      "Conversion des types de données: NAS_DELAY, OP_CARRIER_AIRLINE_ID, OP_CARRIER_FL_NUM, WEATHER_DELAY, DEST_AIRPORT_ID, ORIGIN_AIRPORT_ID, CRS_ELAPSED_TIME, FL_DATE, CRS_DEP_TIME, ARR_DELAY_NEW\n",
      "  - Filtering invalid flight dates\n",
      "  - Current count: 486133 records\n",
      "\n",
      "Phase 4: Outlier Filtering\n",
      "  - Filtering delays > 600 minutes\n",
      "  - Filtering flight times (10 min - 24 hours)\n",
      "  - Current count: 486067 records\n",
      "\n",
      "Phase 5: Final Validation\n",
      "  - Validation passed: 486067 records\n",
      "\n",
      "==================================================\n",
      "Cleaning Summary\n",
      "==================================================\n",
      "Original records:       486,133\n",
      "Final records:          486,067\n",
      "Removed records:             66\n",
      "Reduction:             0%\n",
      "==================================================\n"
     ]
    },
    {
     "data": {
      "text/plain": [
       "flightCleanedData = [FL_DATE: date, OP_CARRIER_AIRLINE_ID: int ... 8 more fields]\n"
      ]
     },
     "metadata": {},
     "output_type": "display_data",
     "source": "user"
    },
    {
     "data": {
      "text/plain": [
       "[FL_DATE: date, OP_CARRIER_AIRLINE_ID: int ... 8 more fields]"
      ]
     },
     "execution_count": 6,
     "metadata": {},
     "output_type": "execute_result"
    }
   ],
   "source": [
    "import com.flightdelay.data.preprocessing.flights.FlightDataCleaner\n",
    "\n",
    "val flightCleanedData = FlightDataCleaner.preprocess(flightData)\n"
   ]
  },
  {
   "cell_type": "code",
   "execution_count": 7,
   "id": "5108a76a-cd50-4c24-9667-d8ee3cf8754b",
   "metadata": {},
   "outputs": [
    {
     "name": "stdout",
     "output_type": "stream",
     "text": [
      "\n",
      "Phase 1: Add Temporal Features\n",
      "Temporal features added: 24\n"
     ]
    },
    {
     "data": {
      "text/plain": [
       "withTemporalFeatures = [FL_DATE: date, OP_CARRIER_AIRLINE_ID: int ... 32 more fields]\n"
      ]
     },
     "metadata": {},
     "output_type": "display_data",
     "source": "user"
    },
    {
     "data": {
      "text/plain": [
       "[FL_DATE: date, OP_CARRIER_AIRLINE_ID: int ... 32 more fields]"
      ]
     },
     "execution_count": 7,
     "metadata": {},
     "output_type": "execute_result"
    }
   ],
   "source": [
    "import com.flightdelay.data.preprocessing.flights.FlightDataGenerator\n",
    "\n",
    "val withTemporalFeatures = FlightDataGenerator.addTemporalFeatures(flightCleanedData)\n",
    "\n"
   ]
  },
  {
   "cell_type": "code",
   "execution_count": 8,
   "id": "e9d9a18f-57bf-4401-960d-e2eac7b6d05f",
   "metadata": {},
   "outputs": [
    {
     "name": "stdout",
     "output_type": "stream",
     "text": [
      "+------------------------+-------------------+--------------------+----------------------+---------------------------+--------------------------+--------------------------+---------------------------+----------------------+------------------------+------------------------------+-----------------------------+------------------------------+------------------------------+-----------------------------+\n",
      "|feature_flight_timestamp|feature_flight_year|feature_flight_month|feature_flight_quarter|feature_flight_day_of_month|feature_flight_day_of_week|feature_flight_day_of_year|feature_flight_week_of_year|feature_departure_hour|feature_departure_minute|feature_departure_hour_decimal|feature_departure_quarter_day|feature_minutes_since_midnight|feature_departure_quarter_name|feature_departure_time_period|\n",
      "+------------------------+-------------------+--------------------+----------------------+---------------------------+--------------------------+--------------------------+---------------------------+----------------------+------------------------+------------------------------+-----------------------------+------------------------------+------------------------------+-----------------------------+\n",
      "|     2012-01-01 00:00:00|               2012|                   1|                     1|                          1|                         1|                         1|                         52|                     9|                       8|             9.213333333333333|                            1|                         552.8|                       Morning|                 Late_Morning|\n",
      "|     2012-01-01 00:00:00|               2012|                   1|                     1|                          1|                         1|                         1|                         52|                    17|                       0|                          17.0|                            2|                        1020.0|                     Afternoon|               Late_Afternoon|\n",
      "|     2012-01-01 00:00:00|               2012|                   1|                     1|                          1|                         1|                         1|                         52|                    20|                      35|            20.933333333333334|                            3|                        1256.0|                       Evening|                      Evening|\n",
      "|     2012-01-01 00:00:00|               2012|                   1|                     1|                          1|                         1|                         1|                         52|                    22|                      30|                          22.8|                            3|                        1368.0|                       Evening|                        Night|\n",
      "|     2012-01-01 00:00:00|               2012|                   1|                     1|                          1|                         1|                         1|                         52|                    16|                      47|            17.253333333333334|                            2|            1035.1999999999998|                     Afternoon|               Late_Afternoon|\n",
      "+------------------------+-------------------+--------------------+----------------------+---------------------------+--------------------------+--------------------------+---------------------------+----------------------+------------------------+------------------------------+-----------------------------+------------------------------+------------------------------+-----------------------------+\n",
      "only showing top 5 rows\n",
      "\n"
     ]
    },
    {
     "data": {
      "text/plain": [
       "addedFeatureColumns = List(feature_flight_timestamp, feature_flight_year, feature_flight_month, feature_flight_quarter, feature_flight_day_of_month, feature_flight_day_of_week, feature_flight_day_of_year, feature_flight_week_of_year, feature_departure_hour, feature_departure_minute, feature_departure_hour_decimal, feature_departure_quarter_day, feature_minutes_since_midnight, feature_departure_quarter_name, feature_departure_time_period)\n",
       "df = [feature_flight_timestamp: timestamp, feature_flight_year: int ... 13 more fields]\n"
      ]
     },
     "metadata": {},
     "output_type": "display_data",
     "source": "user"
    },
    {
     "data": {
      "text/plain": [
       "[feature_flight_timestamp: timestamp, feature_flight_year: int ... 13 more fields]"
      ]
     },
     "execution_count": 8,
     "metadata": {},
     "output_type": "execute_result"
    }
   ],
   "source": [
    "val addedFeatureColumns = Seq(\n",
    "  \"FL_DATE\",\n",
    "  \n",
    "  /**\"OP_CARRIER_AIRLINE_ID\",\n",
    "  \"OP_CARRIER_FL_NUM\",\n",
    "  \"ORIGIN_AIRPORT_ID\",\n",
    "  \"DEST_AIRPORT_ID\",\n",
    "  \"CANCELLED\",\n",
    "  \"DIVERTED\",\n",
    "  \"WEATHER_DELAY\",\n",
    "  \"NAS_DELAY\",**/\n",
    "\n",
    "  \"CRS_DEP_TIME\",\n",
    "  \"CRS_ELAPSED_TIME\",\n",
    "  \"ARR_DELAY_NEW\",\n",
    "  \n",
    "    \n",
    "  /**\"feature_flight_timestamp\",\n",
    "  \"feature_flight_year\",\n",
    "  \"feature_flight_month\",\n",
    "  \"feature_flight_quarter\",\n",
    "  \"feature_flight_day_of_month\",\n",
    "  \"feature_flight_day_of_week\",\n",
    "  \"feature_flight_day_of_year\",\n",
    "  \"feature_flight_week_of_year\",\n",
    "  \"feature_departure_hour\",\n",
    "  \"feature_departure_minute\",\n",
    "  \"feature_departure_hour_decimal\",\n",
    "  \"feature_departure_quarter_day\",\n",
    "  \"feature_minutes_since_midnight\",\n",
    "  \"feature_departure_quarter_name\",\n",
    "  \"feature_departure_time_period\",**/\n",
    "\n",
    "  \"feature_departure_hour_rounded\",\n",
    "  \"feature_departure_minutes_total\",\n",
    "  \"feature_arrival_minutes_total\",\n",
    "  \"feature_arrival_time\",\n",
    "  \"feature_arrival_hour\",\n",
    "  \"feature_arrival_minute\",\n",
    "  \"feature_arrival_hour_decimal\",\n",
    "  \"feature_arrival_hour_rounded\"  \n",
    ")\n",
    "\n",
    "val df = withTemporalFeatures\n",
    "  .select(addedFeatureColumns.head, addedFeatureColumns.tail: _*)\n",
    "df.show(5)\n"
   ]
  },
  {
   "cell_type": "code",
   "execution_count": 8,
   "id": "8d0f1904-78ad-4d77-a64a-ea9546f3cade",
   "metadata": {},
   "outputs": [
    {
     "data": {
      "text/plain": [
       "temporalfeatureMetric = [name: string, origType: string ... 3 more fields]\n"
      ]
     },
     "metadata": {},
     "output_type": "display_data",
     "source": "user"
    },
    {
     "name": "stdout",
     "output_type": "stream",
     "text": [
      "+--------------------+-------------+-------+---------+----------------+\n",
      "|                name|     origType|colType|compRatio|nbDistinctValues|\n",
      "+--------------------+-------------+-------+---------+----------------+\n",
      "|feature_flight_ti...|TimestampType|   date|      1.0|              31|\n",
      "| feature_flight_year|  IntegerType|numeric|      1.0|               1|\n",
      "|feature_flight_month|  IntegerType|numeric|      1.0|               1|\n",
      "|feature_flight_qu...|  IntegerType|numeric|      1.0|               1|\n",
      "|feature_flight_da...|  IntegerType|numeric|      1.0|              31|\n",
      "|feature_flight_da...|  IntegerType|numeric|      1.0|               7|\n",
      "|feature_flight_da...|  IntegerType|numeric|      1.0|              31|\n",
      "|feature_flight_we...|  IntegerType|numeric|      1.0|               6|\n",
      "|feature_departure...|  IntegerType|numeric|      1.0|              24|\n",
      "|feature_departure...|  IntegerType|numeric|      1.0|              60|\n",
      "|feature_departure...|   DoubleType|numeric|      1.0|            1153|\n",
      "|feature_departure...|  IntegerType|numeric|      1.0|               4|\n",
      "|feature_minutes_s...|   DoubleType|numeric|      1.0|            1153|\n",
      "|feature_departure...|   StringType|textual|      1.0|               4|\n",
      "|feature_departure...|   StringType|textual|      1.0|               8|\n",
      "+--------------------+-------------+-------+---------+----------------+\n",
      "\n"
     ]
    },
    {
     "data": {
      "text/plain": [
       "[name: string, origType: string ... 3 more fields]"
      ]
     },
     "execution_count": 8,
     "metadata": {},
     "output_type": "execute_result"
    }
   ],
   "source": [
    "import com.flightdelay.data.utils.DataQualityMetrics\n",
    "\n",
    "val temporalfeatureMetric = DataQualityMetrics.metrics(df3)\n",
    "temporalfeatureMetric.show()"
   ]
  },
  {
   "cell_type": "code",
   "execution_count": 8,
   "id": "edcc3929-83b3-48b4-b804-b9c4696e64db",
   "metadata": {},
   "outputs": [
    {
     "name": "stdout",
     "output_type": "stream",
     "text": [
      "\n",
      "Phase 2: Add Flight Characteristics\n",
      "- Add feature_flight_unique_id \n",
      "- Add feature_distance_category (short, medium, long, very_long) \n",
      "- Add feature_distance_score \n",
      "- Add feature_is_likely_domestic \n",
      "- Add feature_carrier_hash \n",
      "- Add feature_route_id \n",
      "- Add feature_is_roundtrip_candidate \n",
      "Added Flight features: 7\n"
     ]
    },
    {
     "data": {
      "text/plain": [
       "withFlightFeatures = [FL_DATE: string, OP_CARRIER_AIRLINE_ID: int ... 31 more fields]\n"
      ]
     },
     "metadata": {},
     "output_type": "display_data",
     "source": "user"
    },
    {
     "data": {
      "text/plain": [
       "[FL_DATE: string, OP_CARRIER_AIRLINE_ID: int ... 31 more fields]"
      ]
     },
     "execution_count": 8,
     "metadata": {},
     "output_type": "execute_result"
    }
   ],
   "source": [
    "import com.flightdelay.data.preprocessing.FlightDataGenerator\n",
    "\n",
    "val withFlightFeatures = FlightDataGenerator.addFlightCharacteristics(withTemporalFeatures)"
   ]
  },
  {
   "cell_type": "code",
   "execution_count": 9,
   "id": "28407e23-7160-4c66-90aa-39c41a0358f1",
   "metadata": {},
   "outputs": [
    {
     "name": "stdout",
     "output_type": "stream",
     "text": [
      "+------------------------+-------------------------+----------------------+--------------------------+--------------------+----------------+------------------------------+\n",
      "|feature_flight_unique_id|feature_distance_category|feature_distance_score|feature_is_likely_domestic|feature_carrier_hash|feature_route_id|feature_is_roundtrip_candidate|\n",
      "+------------------------+-------------------------+----------------------+--------------------------+--------------------+----------------+------------------------------+\n",
      "|    2012-01-01_20366_...|                   medium|   0.26166666666666666|                         1|         -2080468873|     10397_11618|                             1|\n",
      "|    2012-01-01_20366_...|                   medium|   0.23666666666666666|                         1|         -2080468873|     11618_13930|                             1|\n",
      "|    2012-01-01_20366_...|                    short|                 0.135|                         1|         -2080468873|     10397_11617|                             1|\n",
      "|    2012-01-01_20437_...|                   medium|   0.15166666666666667|                         1|         -1252642213|     10397_13204|                             1|\n",
      "|    2012-01-01_20437_...|                    short|   0.14166666666666666|                         1|         -1252642213|     10821_11267|                             1|\n",
      "+------------------------+-------------------------+----------------------+--------------------------+--------------------+----------------+------------------------------+\n",
      "only showing top 5 rows\n",
      "\n"
     ]
    },
    {
     "data": {
      "text/plain": [
       "filgthCarateristiquesColumns = List(feature_flight_unique_id, feature_distance_category, feature_distance_score, feature_is_likely_domestic, feature_carrier_hash, feature_route_id, feature_is_roundtrip_candidate)\n",
       "df = [feature_flight_unique_id: string, feature_distance_category: string ... 5 more fields]\n"
      ]
     },
     "metadata": {},
     "output_type": "display_data",
     "source": "user"
    },
    {
     "data": {
      "text/plain": [
       "[feature_flight_unique_id: string, feature_distance_category: string ... 5 more fields]"
      ]
     },
     "execution_count": 9,
     "metadata": {},
     "output_type": "execute_result"
    }
   ],
   "source": [
    "val filgthCarateristiquesColumns = Seq(\n",
    "  \"feature_flight_unique_id\",\n",
    "  \"feature_distance_category\",\n",
    "  \"feature_distance_score\",\n",
    "  \"feature_is_likely_domestic\",\n",
    "  \"feature_carrier_hash\",\n",
    "  \"feature_route_id\",\n",
    "  \"feature_is_roundtrip_candidate\"\n",
    ")\n",
    "\n",
    "val df = withFlightFeatures\n",
    "  .select(filgthCarateristiquesColumns.head, filgthCarateristiquesColumns.tail: _*)\n",
    "df.show(5)"
   ]
  },
  {
   "cell_type": "code",
   "execution_count": 10,
   "id": "f2c759ad-63eb-4593-bfe0-c3551519be4b",
   "metadata": {},
   "outputs": [
    {
     "data": {
      "text/plain": [
       "fightFeaturesMetric = [name: string, origType: string ... 3 more fields]\n"
      ]
     },
     "metadata": {},
     "output_type": "display_data",
     "source": "user"
    },
    {
     "name": "stdout",
     "output_type": "stream",
     "text": [
      "+--------------------+-----------+-------+---------+----------------+\n",
      "|                name|   origType|colType|compRatio|nbDistinctValues|\n",
      "+--------------------+-----------+-------+---------+----------------+\n",
      "|feature_flight_un...| StringType|textual|      1.0|          477960|\n",
      "|feature_distance_...| StringType|textual|      1.0|               4|\n",
      "|feature_distance_...| DoubleType|numeric|      1.0|             417|\n",
      "|feature_is_likely...|IntegerType|numeric|      1.0|               2|\n",
      "|feature_carrier_hash|IntegerType|numeric|      1.0|              15|\n",
      "|    feature_route_id| StringType|textual|      1.0|            2033|\n",
      "|feature_is_roundt...|IntegerType|numeric|      1.0|               2|\n",
      "+--------------------+-----------+-------+---------+----------------+\n",
      "\n"
     ]
    },
    {
     "data": {
      "text/plain": [
       "[name: string, origType: string ... 3 more fields]"
      ]
     },
     "execution_count": 10,
     "metadata": {},
     "output_type": "execute_result"
    }
   ],
   "source": [
    "import com.flightdelay.data.utils.DataQualityMetrics\n",
    "\n",
    "val fightFeaturesMetric = DataQualityMetrics.metrics(df)\n",
    "fightFeaturesMetric.show()"
   ]
  },
  {
   "cell_type": "code",
   "execution_count": 11,
   "id": "26245589-3f01-402e-904f-fbfb37ca1d6e",
   "metadata": {},
   "outputs": [
    {
     "data": {
      "text/plain": [
       "filgthCarateristiquesNumericColumns = List(feature_distance_score, feature_is_likely_domestic, feature_carrier_hash, feature_is_roundtrip_candidate)\n",
       "filgthCarateristiquesCategoricalColumns = List(feature_flight_unique_id, feature_distance_category, feature_route_id)\n"
      ]
     },
     "metadata": {},
     "output_type": "display_data",
     "source": "user"
    },
    {
     "data": {
      "text/plain": [
       "List(feature_flight_unique_id, feature_distance_category, feature_route_id)"
      ]
     },
     "execution_count": 11,
     "metadata": {},
     "output_type": "execute_result"
    }
   ],
   "source": [
    "val filgthCarateristiquesNumericColumns = Seq(\n",
    "  \"feature_distance_score\",\n",
    "  \"feature_is_likely_domestic\",\n",
    "  \"feature_carrier_hash\",\n",
    "  \"feature_is_roundtrip_candidate\"\n",
    ")\n",
    "\n",
    "val filgthCarateristiquesCategoricalColumns = Seq(\n",
    "  \"feature_flight_unique_id\",\n",
    "  \"feature_distance_category\",\n",
    "  \"feature_route_id\"\n",
    ")"
   ]
  },
  {
   "cell_type": "code",
   "execution_count": 12,
   "id": "c8a00ee4-35e2-4f25-b2f8-8cb7bc3b1f32",
   "metadata": {},
   "outputs": [
    {
     "name": "stdout",
     "output_type": "stream",
     "text": [
      "\n",
      "Phase 3: Add Period <indicator\n",
      "- Add feature_is_weekend, feature_is_friday, feature_is_monday\n",
      "- Add feature_is_summer, feature_is_winter, feature_is_spring, feature_is_fall \n",
      "- Add feature_is_holiday_season (approximative)\n",
      "- Add feature_is_early_morning \n",
      "- Add feature_is_morning_rush \n",
      "- Add feature_is_business_hours \n",
      "- Add feature_is_evening_rush \n",
      "- Add feature_is_night_flight \n",
      "- Add feature_is_month_start \n",
      "- Add feature_is_month_end \n",
      "- Add feature_is_extended_weekend \n"
     ]
    },
    {
     "data": {
      "text/plain": [
       "withPeriodIndicators = [FL_DATE: string, OP_CARRIER_AIRLINE_ID: int ... 47 more fields]\n"
      ]
     },
     "metadata": {},
     "output_type": "display_data",
     "source": "user"
    },
    {
     "name": "stdout",
     "output_type": "stream",
     "text": [
      "Added Flight features: 16\n"
     ]
    },
    {
     "data": {
      "text/plain": [
       "[FL_DATE: string, OP_CARRIER_AIRLINE_ID: int ... 47 more fields]"
      ]
     },
     "execution_count": 12,
     "metadata": {},
     "output_type": "execute_result"
    }
   ],
   "source": [
    "import com.flightdelay.data.preprocessing.FlightDataGenerator\n",
    "\n",
    "val withPeriodIndicators = FlightDataGenerator.addPeriodIndicators(withFlightFeatures)"
   ]
  },
  {
   "cell_type": "code",
   "execution_count": 13,
   "id": "bbd5cd32-ff57-44d8-882e-a5df1e8ecc7e",
   "metadata": {},
   "outputs": [
    {
     "name": "stdout",
     "output_type": "stream",
     "text": [
      "+------------------+-----------------+-----------------+-----------------+-----------------+-----------------+---------------+-------------------------+------------------------+-----------------------+-------------------------+-----------------------+-----------------------+----------------------+--------------------+---------------------------+\n",
      "|feature_is_weekend|feature_is_friday|feature_is_monday|feature_is_summer|feature_is_winter|feature_is_spring|feature_is_fall|feature_is_holiday_season|feature_is_early_morning|feature_is_morning_rush|feature_is_business_hours|feature_is_evening_rush|feature_is_night_flight|feature_is_month_start|feature_is_month_end|feature_is_extended_weekend|\n",
      "+------------------+-----------------+-----------------+-----------------+-----------------+-----------------+---------------+-------------------------+------------------------+-----------------------+-------------------------+-----------------------+-----------------------+----------------------+--------------------+---------------------------+\n",
      "|                 1|                0|                0|                0|                1|                0|              0|                        1|                       0|                      1|                        1|                      0|                      0|                     1|                   0|                          0|\n",
      "|                 1|                0|                0|                0|                1|                0|              0|                        1|                       0|                      0|                        1|                      1|                      0|                     1|                   0|                          0|\n",
      "|                 1|                0|                0|                0|                1|                0|              0|                        1|                       0|                      0|                        0|                      1|                      0|                     1|                   0|                          1|\n",
      "|                 1|                0|                0|                0|                1|                0|              0|                        1|                       0|                      0|                        0|                      0|                      1|                     1|                   0|                          1|\n",
      "|                 1|                0|                0|                0|                1|                0|              0|                        1|                       0|                      0|                        1|                      0|                      0|                     1|                   0|                          0|\n",
      "+------------------+-----------------+-----------------+-----------------+-----------------+-----------------+---------------+-------------------------+------------------------+-----------------------+-------------------------+-----------------------+-----------------------+----------------------+--------------------+---------------------------+\n",
      "only showing top 5 rows\n",
      "\n"
     ]
    },
    {
     "data": {
      "text/plain": [
       "filgthPeriodIndicatorsColumns = List(feature_is_weekend, feature_is_friday, feature_is_monday, feature_is_summer, feature_is_winter, feature_is_spring, feature_is_fall, feature_is_holiday_season, feature_is_early_morning, feature_is_morning_rush, feature_is_business_hours, feature_is_evening_rush, feature_is_night_flight, feature_is_month_start, feature_is_month_end, feature_is_extended_weekend)\n",
       "df = [feature_is_weekend: int, feature_is_friday: int ... 14 more fields]\n"
      ]
     },
     "metadata": {},
     "output_type": "display_data",
     "source": "user"
    },
    {
     "data": {
      "text/plain": [
       "[feature_is_weekend: int, feature_is_friday: int ... 14 more fields]"
      ]
     },
     "execution_count": 13,
     "metadata": {},
     "output_type": "execute_result"
    }
   ],
   "source": [
    "val filgthPeriodIndicatorsColumns = Seq(\n",
    "  \"feature_is_weekend\",\n",
    "  \"feature_is_friday\",\n",
    "  \"feature_is_monday\",\n",
    "  \"feature_is_summer\",\n",
    "  \"feature_is_winter\",\n",
    "  \"feature_is_spring\",\n",
    "  \"feature_is_fall\",\n",
    "  \"feature_is_holiday_season\",\n",
    "  \"feature_is_early_morning\", \n",
    "  \"feature_is_morning_rush\", \n",
    "  \"feature_is_business_hours\", \n",
    "  \"feature_is_evening_rush\",\n",
    "  \"feature_is_night_flight\", \n",
    "  \"feature_is_month_start\", \n",
    "  \"feature_is_month_end\", \n",
    "  \"feature_is_extended_weekend\"     \n",
    ")\n",
    "\n",
    "val df = withPeriodIndicators\n",
    "  .select(filgthPeriodIndicatorsColumns.head, filgthPeriodIndicatorsColumns.tail: _*)\n",
    "df.show(5)"
   ]
  },
  {
   "cell_type": "code",
   "execution_count": 14,
   "id": "38b72bd6-cef9-468c-984f-b0488ef636af",
   "metadata": {},
   "outputs": [
    {
     "name": "stdout",
     "output_type": "stream",
     "text": [
      "\n",
      "Phase 4: Add Geographical Features\n",
      "- Add feature_origin_is_major_hub (10397, 11298, 12266, 13930, 14107, 14771, 15016  // Principaux hubs US)\n",
      "- Add feature_dest_is_major_hub  (10397, 11298, 12266, 13930, 14107, 14771, 15016  // Principaux hubs US)\n",
      "- Add feature_is_hub_to_hub\n",
      "- Add feature_flight_quarter\n",
      "- Add feature_origin_complexity_score\n",
      "- Add feature_dest_complexity_score\n",
      "- Add feature_timezone_diff_proxy\n",
      "- Add feature_flight_week_of_year\n",
      "- Add feature_is_eastbound\n",
      "- Add feature_is_westbound\n",
      "Added Flight features: 8\n"
     ]
    },
    {
     "data": {
      "text/plain": [
       "withGeographicFeatures = [FL_DATE: string, OP_CARRIER_AIRLINE_ID: int ... 55 more fields]\n"
      ]
     },
     "metadata": {},
     "output_type": "display_data",
     "source": "user"
    },
    {
     "data": {
      "text/plain": [
       "[FL_DATE: string, OP_CARRIER_AIRLINE_ID: int ... 55 more fields]"
      ]
     },
     "execution_count": 14,
     "metadata": {},
     "output_type": "execute_result"
    }
   ],
   "source": [
    "import com.flightdelay.data.preprocessing.FlightDataGenerator\n",
    "\n",
    "val withGeographicFeatures = FlightDataGenerator.addGeographicFeatures(withPeriodIndicators)"
   ]
  },
  {
   "cell_type": "code",
   "execution_count": 15,
   "id": "1722c518-2094-468d-829f-bc0f58d709cf",
   "metadata": {},
   "outputs": [
    {
     "name": "stdout",
     "output_type": "stream",
     "text": [
      "+---------------------------+-------------------------+---------------------+----------------------+-------------------------------+-----------------------------+---------------------------+---------------------------+--------------------+--------------------+\n",
      "|feature_origin_is_major_hub|feature_dest_is_major_hub|feature_is_hub_to_hub|feature_flight_quarter|feature_origin_complexity_score|feature_dest_complexity_score|feature_timezone_diff_proxy|feature_flight_week_of_year|feature_is_eastbound|feature_is_westbound|\n",
      "+---------------------------+-------------------------+---------------------+----------------------+-------------------------------+-----------------------------+---------------------------+---------------------------+--------------------+--------------------+\n",
      "|                          0|                        1|                    0|                     1|                           0.18|                         0.97|                          1|                         52|                   0|                   1|\n",
      "|                          1|                        0|                    0|                     1|                            0.3|                         0.18|                          8|                         52|                   0|                   1|\n",
      "|                          1|                        0|                    0|                     1|                           0.97|                         0.17|                          0|                         52|                   1|                   0|\n",
      "|                          1|                        0|                    0|                     1|                           0.97|                         0.04|                          3|                         52|                   1|                   0|\n",
      "|                          0|                        0|                    0|                     1|                           0.21|                         0.67|                          6|                         52|                   1|                   0|\n",
      "+---------------------------+-------------------------+---------------------+----------------------+-------------------------------+-----------------------------+---------------------------+---------------------------+--------------------+--------------------+\n",
      "only showing top 5 rows\n",
      "\n"
     ]
    },
    {
     "data": {
      "text/plain": [
       "filgthGeographicFeaturesColumns = List(feature_origin_is_major_hub, feature_dest_is_major_hub, feature_is_hub_to_hub, feature_flight_quarter, feature_origin_complexity_score, feature_dest_complexity_score, feature_timezone_diff_proxy, feature_flight_week_of_year, feature_is_eastbound, feature_is_westbound)\n",
       "df = [feature_origin_is_major_hub: int, feature_dest_is_major_hub: int ... 8 more fields]\n"
      ]
     },
     "metadata": {},
     "output_type": "display_data",
     "source": "user"
    },
    {
     "data": {
      "text/plain": [
       "[feature_origin_is_major_hub: int, feature_dest_is_major_hub: int ... 8 more fields]"
      ]
     },
     "execution_count": 15,
     "metadata": {},
     "output_type": "execute_result"
    }
   ],
   "source": [
    "val filgthGeographicFeaturesColumns = Seq(\n",
    "  \"feature_origin_is_major_hub\",\n",
    "  \"feature_dest_is_major_hub\",\n",
    "  \"feature_is_hub_to_hub\",\n",
    "  \"feature_flight_quarter\",\n",
    "  \"feature_origin_complexity_score\",\n",
    "  \"feature_dest_complexity_score\",\n",
    "  \"feature_timezone_diff_proxy\",\n",
    "  \"feature_flight_week_of_year\",\n",
    "  \"feature_is_eastbound\",\n",
    "  \"feature_is_westbound\"\n",
    ")\n",
    "\n",
    "val df = withGeographicFeatures\n",
    "  .select(filgthGeographicFeaturesColumns.head, filgthGeographicFeaturesColumns.tail: _*)\n",
    "df.show(5)"
   ]
  },
  {
   "cell_type": "code",
   "execution_count": 16,
   "id": "2ed43e1e-d6f5-4ebc-81de-2e05500c36ee",
   "metadata": {},
   "outputs": [
    {
     "name": "stdout",
     "output_type": "stream",
     "text": [
      "\n",
      "Phase 5 : Add Aggregated Features\n",
      "- Add feature_flights_on_route\n",
      "- Add feature_carrier_flight_count\n",
      "- Add feature_origin_airport_traffic\n",
      "- Add feature_route_popularity_score\n",
      "- Add feature_carrier_size_category\n"
     ]
    },
    {
     "data": {
      "text/plain": [
       "withAggregatedFeatures = [FL_DATE: string, OP_CARRIER_AIRLINE_ID: int ... 60 more fields]\n"
      ]
     },
     "metadata": {},
     "output_type": "display_data",
     "source": "user"
    },
    {
     "name": "stdout",
     "output_type": "stream",
     "text": [
      "Added Flight features: 5\n"
     ]
    },
    {
     "data": {
      "text/plain": [
       "[FL_DATE: string, OP_CARRIER_AIRLINE_ID: int ... 60 more fields]"
      ]
     },
     "execution_count": 16,
     "metadata": {},
     "output_type": "execute_result"
    }
   ],
   "source": [
    "import com.flightdelay.data.preprocessing.FlightDataGenerator\n",
    "\n",
    "val withAggregatedFeatures = FlightDataGenerator.addAggregatedFeatures(withGeographicFeatures)"
   ]
  },
  {
   "cell_type": "code",
   "execution_count": 17,
   "id": "9430da39-78f5-4083-aced-c049dcf1f282",
   "metadata": {},
   "outputs": [
    {
     "name": "stdout",
     "output_type": "stream",
     "text": [
      "+------------------------+----------------------------+------------------------------+------------------------------+-----------------------------+\n",
      "|feature_flights_on_route|feature_carrier_flight_count|feature_origin_airport_traffic|feature_route_popularity_score|feature_carrier_size_category|\n",
      "+------------------------+----------------------------+------------------------------+------------------------------+-----------------------------+\n",
      "|                      59|                       33946|                           245|                        medium|                        major|\n",
      "|                      59|                       33946|                           245|                        medium|                        major|\n",
      "|                      59|                       33946|                           245|                        medium|                        major|\n",
      "|                      59|                       33946|                           245|                        medium|                        major|\n",
      "|                      59|                       33946|                           245|                        medium|                        major|\n",
      "+------------------------+----------------------------+------------------------------+------------------------------+-----------------------------+\n",
      "only showing top 5 rows\n",
      "\n"
     ]
    },
    {
     "data": {
      "text/plain": [
       "filgthAggregatedFeaturesColumns = List(feature_flights_on_route, feature_carrier_flight_count, feature_origin_airport_traffic, feature_route_popularity_score, feature_carrier_size_category)\n",
       "df = [feature_flights_on_route: bigint, feature_carrier_flight_count: bigint ... 3 more fields]\n"
      ]
     },
     "metadata": {},
     "output_type": "display_data",
     "source": "user"
    },
    {
     "data": {
      "text/plain": [
       "[feature_flights_on_route: bigint, feature_carrier_flight_count: bigint ... 3 more fields]"
      ]
     },
     "execution_count": 17,
     "metadata": {},
     "output_type": "execute_result"
    }
   ],
   "source": [
    "val filgthAggregatedFeaturesColumns = Seq(\n",
    "  \"feature_flights_on_route\",\n",
    "  \"feature_carrier_flight_count\",\n",
    "  \"feature_origin_airport_traffic\",\n",
    "  \"feature_route_popularity_score\",\n",
    "  \"feature_carrier_size_category\"\n",
    ")\n",
    "\n",
    "val df = withAggregatedFeatures\n",
    "  .select(filgthAggregatedFeaturesColumns.head, filgthAggregatedFeaturesColumns.tail: _*)\n",
    "df.show(5)"
   ]
  },
  {
   "cell_type": "code",
   "execution_count": null,
   "id": "16030c4d-c04d-404c-9fee-49cbd3dd48c8",
   "metadata": {},
   "outputs": [],
   "source": []
  }
 ],
 "metadata": {
  "kernelspec": {
   "display_name": "apache_toree_scala - Scala",
   "language": "scala",
   "name": "apache_toree_scala_scala"
  },
  "language_info": {
   "codemirror_mode": "text/x-scala",
   "file_extension": ".scala",
   "mimetype": "text/x-scala",
   "name": "scala",
   "pygments_lexer": "scala",
   "version": "2.12.15"
  }
 },
 "nbformat": 4,
 "nbformat_minor": 5
}
