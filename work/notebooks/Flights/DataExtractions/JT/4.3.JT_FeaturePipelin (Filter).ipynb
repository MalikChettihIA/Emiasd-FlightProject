{
 "cells": [
  {
   "cell_type": "markdown",
   "id": "88b9b4e7-f711-4832-8798-501c1b052275",
   "metadata": {},
   "source": [
    "# Jointure MapReduce"
   ]
  },
  {
   "cell_type": "code",
   "execution_count": 1,
   "id": "d243dd12-14c2-459d-9cbf-032e0ad38481",
   "metadata": {},
   "outputs": [
    {
     "name": "stdout",
     "output_type": "stream",
     "text": [
      "Starting download from file:///home/jovyan/work/apps/Emiasd-Flight-Data-Analysis.jar\n",
      "Finished download of Emiasd-Flight-Data-Analysis.jar\n",
      "Using cached version of Emiasd-Flight-Data-Analysis.jar\n"
     ]
    }
   ],
   "source": [
    "%AddJar file:///home/jovyan/work/apps/Emiasd-Flight-Data-Analysis.jar"
   ]
  },
  {
   "cell_type": "code",
   "execution_count": 2,
   "id": "c1467791-f615-4d99-a001-5b50ede6638a",
   "metadata": {},
   "outputs": [
    {
     "data": {
      "text/plain": [
       "args = Array(jupyter)\n",
       "spark = org.apache.spark.sql.SparkSession@530e1568\n",
       "session = org.apache.spark.sql.SparkSession@530e1568\n",
       "configuration = AppConfiguration(local,CommonConfig(42,DataConfig(/home/jovyan/work/data,FileConfig(/home/jovyan/work/data/FLIGHT-3Y/Flights/201201.csv),FileConfig(/home/jovyan/work/data/FLIGHT-3Y/Weather/201201hourly.txt),FileConfig(/home/jovyan/work/data/FLIGHT-3Y/wban_airport_timezone.csv)),OutputC...\n"
      ]
     },
     "metadata": {},
     "output_type": "display_data",
     "source": "user"
    },
    {
     "data": {
      "text/plain": [
       "AppConfiguration(local,CommonConfig(42,DataConfig(/home/jovyan/work/data,FileConfig(/home/jovyan/work/data/FLIGHT-3Y/Flights/201201.csv),FileConfig(/home/jovyan/work/data/FLIGHT-3Y/Weather/201201hourly.txt),FileConfig(/home/jovyan/work/data/FLIGHT-3Y/wban_airport_timezone.csv)),OutputC..."
      ]
     },
     "execution_count": 2,
     "metadata": {},
     "output_type": "execute_result"
    }
   ],
   "source": [
    "import org.apache.spark.sql.SparkSession\n",
    "import com.flightdelay.config.{AppConfiguration, ConfigurationLoader, ExperimentConfig}\n",
    "import com.flightdelay.data.loaders.FlightDataLoader\n",
    "import org.apache.spark.sql.functions._\n",
    "import java.sql.Date\n",
    "\n",
    "//Env Configuration\n",
    "val args: Array[String] = Array(\"jupyter\")\n",
    "\n",
    "val spark = SparkSession.builder()\n",
    "  .config(sc.getConf)\n",
    "  .getOrCreate()\n",
    "\n",
    "// Rendre la session Spark implicite\n",
    "implicit val session = spark\n",
    "implicit val configuration: AppConfiguration = ConfigurationLoader.loadConfiguration(args)\n",
    "implicit val experiment: ExperimentConfig = configuration.experiments.head"
   ]
  },
  {
   "cell_type": "markdown",
   "id": "b0e703a9-0253-4882-9f53-833a7387c631",
   "metadata": {},
   "source": [
    "# Chargement Flight et Weather"
   ]
  },
  {
   "cell_type": "code",
   "execution_count": 13,
   "id": "ca355c08-04d4-45f5-afb7-264dd6cd5d13",
   "metadata": {},
   "outputs": [
    {
     "data": {
      "text/plain": [
       "processedFlightPath = /home/jovyan/work/output/common/data/processed_flights.parquet\n",
       "flightDF = [FL_DATE: date, OP_CARRIER_AIRLINE_ID: int ... 109 more fields]\n",
       "processedWeatherPath = /home/jovyan/work/output/common/data/processed_weather.parquet\n",
       "weatherDF = [WBAN: string, Date: date ... 65 more fields]\n"
      ]
     },
     "metadata": {},
     "output_type": "display_data",
     "source": "user"
    },
    {
     "data": {
      "text/plain": [
       "[WBAN: string, Date: date ... 65 more fields]"
      ]
     },
     "execution_count": 13,
     "metadata": {},
     "output_type": "execute_result"
    }
   ],
   "source": [
    "// Chargement de Flight Data\n",
    "val processedFlightPath = s\"${configuration.common.output.basePath}/common/data/processed_flights.parquet\"\n",
    "val flightDF = spark.read.parquet(processedFlightPath)\n",
    "\n",
    "val processedWeatherPath = s\"${configuration.common.output.basePath}/common/data/processed_weather.parquet\"\n",
    "val weatherDF = spark.read.parquet(processedWeatherPath)\n",
    "\n"
   ]
  },
  {
   "cell_type": "markdown",
   "id": "8c81051a-9608-42d2-ba72-e4f45e05514f",
   "metadata": {},
   "source": [
    "# Filtres"
   ]
  },
  {
   "cell_type": "code",
   "execution_count": 15,
   "id": "2f63ec35-0c35-4525-8a97-21eb4e2b75ca",
   "metadata": {},
   "outputs": [
    {
     "data": {
      "text/plain": [
       "weatherData = [WBAN: string, Date: date ... 65 more fields]\n",
       "flightData = [FL_DATE: date, OP_CARRIER_AIRLINE_ID: int ... 109 more fields]\n"
      ]
     },
     "metadata": {},
     "output_type": "display_data",
     "source": "user"
    },
    {
     "data": {
      "text/plain": [
       "[FL_DATE: date, OP_CARRIER_AIRLINE_ID: int ... 109 more fields]"
      ]
     },
     "execution_count": 15,
     "metadata": {},
     "output_type": "execute_result"
    }
   ],
   "source": [
    "import java.sql.Date\n",
    "\n",
    "val weatherData = weatherDF\n",
    "/**  .filter(\n",
    "    col(\"Date\") === Date.valueOf(\"2012-01-09\") &&\n",
    "    (col(\"WBAN\") === \"13869\" || col(\"WBAN\") === \"13874\")\n",
    "  )\n",
    "  .orderBy(\"WBAN\", \"Date\", \"Time\")\n",
    "**/\n",
    "val flightData = flightDF\n",
    "/**  .filter(\n",
    "    col(\"UTC_FL_DATE\") === \"2012-01-09\" &&\n",
    "    col(\"OP_CARRIER_AIRLINE_ID\") === 20366 &&\n",
    "    col(\"OP_CARRIER_FL_NUM\") === 5334 && \n",
    "    col(\"ORIGIN_WBAN\") === 13869  \n",
    "  )**/\n"
   ]
  },
  {
   "cell_type": "markdown",
   "id": "b8e5d352-a68f-41da-8b0d-9f73e164ed92",
   "metadata": {},
   "source": [
    "# Feature Pipeline"
   ]
  },
  {
   "cell_type": "code",
   "execution_count": 16,
   "id": "4bd596fe-8383-4f46-958f-3f99e760fb9a",
   "metadata": {},
   "outputs": [
    {
     "name": "stdout",
     "output_type": "stream",
     "text": [
      "\n",
      "Joining flight and weather data...\n",
      "  - Flight records: 134,556\n",
      "  - Weather records: 1,414,384\n",
      "[FlightWeatherJoinner] Colonnes ajoutées automatiquement pour origin: feature_utc_departure_hour_rounded, UTC_ARR_DATE, UTC_FL_DATE, feature_utc_arrival_hour_rounded\n",
      "[FlightWeatherJoinner] Colonnes ajoutées automatiquement pour destination: feature_utc_departure_hour_rounded, UTC_ARR_DATE, UTC_FL_DATE, feature_utc_arrival_hour_rounded\n",
      "[Anti-Leakage] Colonnes supprimées : UTC_ARR_DATE, feature_utc_arrival_hour_rounded, feature_utc_departure_hour_rounded\n",
      "[Anti-Leakage] Time transformé en hours_before_flight (index relatif)\n",
      "[Anti-Leakage] Champs conservés dans observations météo : SkyCondition, Visibility, hours_before_flight\n",
      "  - Joined records: 204,386 with  11 columns\n",
      "\n",
      "Saving joined flight weather data to parquet:\n",
      "  - Path: /home/jovyan/work/output/Experience-Juniper-1/data/joined_flights_weather.parquet\n",
      "  - Saved 204386 joined records\n",
      "-RECORD 0---------------------------------------------------------------------------------------------------------------------------------------------------------------------------------------------------------------------------------------------------------------------------------------------\n",
      " DEST_AIRPORT_ID                  | 10140                                                                                                                                                                                                                                                             \n",
      " DEST_WBAN                        | 23050                                                                                                                                                                                                                                                             \n",
      " FL_DATE                          | 2012-01-01                                                                                                                                                                                                                                                        \n",
      " OP_CARRIER_AIRLINE_ID            | 20398                                                                                                                                                                                                                                                             \n",
      " OP_CARRIER_FL_NUM                | 3864                                                                                                                                                                                                                                                              \n",
      " ORIGIN_AIRPORT_ID                | 13930                                                                                                                                                                                                                                                             \n",
      " ORIGIN_WBAN                      | 94846                                                                                                                                                                                                                                                             \n",
      " UTC_FL_DATE                      | 2012-01-02                                                                                                                                                                                                                                                        \n",
      " destination_weather_observations | [{CLR, 10.0, 5}, {CLR, 10.0, 1}, {CLR, 10.0, 3}, {FEW200, 10.0, -16}, {FEW200, 10.0, -17}, {CLR, 10.0, 2}, {CLR, 10.0, -1}, {FEW200, 10.0, -15}, {CLR, 10.0, -13}, {CLR, 10.0, -14}, {CLR, 10.0, 4}, {FEW200, 10.0, -18}, {CLR, 10.0, 0}]                         \n",
      " label_is_delayed_15min           | 1                                                                                                                                                                                                                                                                 \n",
      " origin_weather_observations      | [{OVC036, 10.0, -19}, {SCT040, 10.0, -1}, {BKN038, 10.0, -4}, {OVC040, 10.0, -2}, {FEW035, 10.0, 4}, {BKN040, 10.0, -5}, {OVC038, 10.0, -3}, {FEW035, 10.0, 3}, {OVC032, 10.0, -18}, {FEW035, 10.0, 2}, {OVC036, 9.0, -17}, {FEW035, 10.0, 1}, {FEW038, 10.0, 0}] \n",
      "only showing top 1 row\n",
      "\n"
     ]
    },
    {
     "data": {
      "text/plain": [
       "joinedData = [DEST_AIRPORT_ID: int, DEST_WBAN: string ... 9 more fields]\n"
      ]
     },
     "metadata": {},
     "output_type": "display_data",
     "source": "user"
    },
    {
     "data": {
      "text/plain": [
       "[DEST_AIRPORT_ID: int, DEST_WBAN: string ... 9 more fields]"
      ]
     },
     "execution_count": 16,
     "metadata": {},
     "output_type": "execute_result"
    }
   ],
   "source": [
    "import com.flightdelay.features.FeaturePipeline\n",
    "\n",
    "val joinedData = FeaturePipeline.join(flightData, weatherData, experiment)\n",
    "joinedData.show(1, 1000, true)"
   ]
  },
  {
   "cell_type": "code",
   "execution_count": 17,
   "id": "cb81959d-d69a-48f0-b049-b065df853944",
   "metadata": {},
   "outputs": [
    {
     "name": "stdout",
     "output_type": "stream",
     "text": [
      "\n",
      "Exploding weather observation arrays:\n",
      "  - Weather features: SkyCondition, Visibility\n",
      "  - Depth hours: 12 observations\n",
      "  - Input columns: 11\n",
      "  - Exploded origin_weather_observations into 24 columns\n",
      "  - Exploded destination_weather_observations into 24 columns\n",
      "  - Total added columns: 48\n",
      "  - Output columns: 57\n",
      "  - Column organization: grouped by index (11 to 0)\n",
      "\n",
      "Saving exploded data to parquet:\n",
      "  - Path: /home/jovyan/work/output/Experience-Juniper-1/data/exploded_joined_data.parquet\n",
      "  - Saved 204386 exploded records\n",
      "-RECORD 0-----------------------------------------\n",
      " DEST_AIRPORT_ID                     | 10140      \n",
      " DEST_WBAN                           | 23050      \n",
      " FL_DATE                             | 2012-01-01 \n",
      " OP_CARRIER_AIRLINE_ID               | 20398      \n",
      " OP_CARRIER_FL_NUM                   | 3864       \n",
      " ORIGIN_AIRPORT_ID                   | 13930      \n",
      " ORIGIN_WBAN                         | 94846      \n",
      " UTC_FL_DATE                         | 2012-01-02 \n",
      " label_is_delayed_15min              | 1          \n",
      " origin_weather_SkyCondition-11      | OVC036     \n",
      " origin_weather_Visibility-11        | 10.0       \n",
      " origin_weather_SkyCondition-10      | SCT040     \n",
      " origin_weather_Visibility-10        | 10.0       \n",
      " origin_weather_SkyCondition-9       | BKN038     \n",
      " origin_weather_Visibility-9         | 10.0       \n",
      " origin_weather_SkyCondition-8       | OVC040     \n",
      " origin_weather_Visibility-8         | 10.0       \n",
      " origin_weather_SkyCondition-7       | FEW035     \n",
      " origin_weather_Visibility-7         | 10.0       \n",
      " origin_weather_SkyCondition-6       | BKN040     \n",
      " origin_weather_Visibility-6         | 10.0       \n",
      " origin_weather_SkyCondition-5       | OVC038     \n",
      " origin_weather_Visibility-5         | 10.0       \n",
      " origin_weather_SkyCondition-4       | FEW035     \n",
      " origin_weather_Visibility-4         | 10.0       \n",
      " origin_weather_SkyCondition-3       | OVC032     \n",
      " origin_weather_Visibility-3         | 10.0       \n",
      " origin_weather_SkyCondition-2       | FEW035     \n",
      " origin_weather_Visibility-2         | 10.0       \n",
      " origin_weather_SkyCondition-1       | OVC036     \n",
      " origin_weather_Visibility-1         | 9.0        \n",
      " origin_weather_SkyCondition-0       | FEW035     \n",
      " origin_weather_Visibility-0         | 10.0       \n",
      " destination_weather_SkyCondition-11 | CLR        \n",
      " destination_weather_Visibility-11   | 10.0       \n",
      " destination_weather_SkyCondition-10 | CLR        \n",
      " destination_weather_Visibility-10   | 10.0       \n",
      " destination_weather_SkyCondition-9  | CLR        \n",
      " destination_weather_Visibility-9    | 10.0       \n",
      " destination_weather_SkyCondition-8  | FEW200     \n",
      " destination_weather_Visibility-8    | 10.0       \n",
      " destination_weather_SkyCondition-7  | FEW200     \n",
      " destination_weather_Visibility-7    | 10.0       \n",
      " destination_weather_SkyCondition-6  | CLR        \n",
      " destination_weather_Visibility-6    | 10.0       \n",
      " destination_weather_SkyCondition-5  | CLR        \n",
      " destination_weather_Visibility-5    | 10.0       \n",
      " destination_weather_SkyCondition-4  | FEW200     \n",
      " destination_weather_Visibility-4    | 10.0       \n",
      " destination_weather_SkyCondition-3  | CLR        \n",
      " destination_weather_Visibility-3    | 10.0       \n",
      " destination_weather_SkyCondition-2  | CLR        \n",
      " destination_weather_Visibility-2    | 10.0       \n",
      " destination_weather_SkyCondition-1  | CLR        \n",
      " destination_weather_Visibility-1    | 10.0       \n",
      " destination_weather_SkyCondition-0  | FEW200     \n",
      " destination_weather_Visibility-0    | 10.0       \n",
      "only showing top 1 row\n",
      "\n"
     ]
    },
    {
     "data": {
      "text/plain": [
       "explosedData = [DEST_AIRPORT_ID: int, DEST_WBAN: string ... 55 more fields]\n"
      ]
     },
     "metadata": {},
     "output_type": "display_data",
     "source": "user"
    },
    {
     "data": {
      "text/plain": [
       "[DEST_AIRPORT_ID: int, DEST_WBAN: string ... 55 more fields]"
      ]
     },
     "execution_count": 17,
     "metadata": {},
     "output_type": "execute_result"
    }
   ],
   "source": [
    "import com.flightdelay.features.FeaturePipeline\n",
    "\n",
    "val explosedData = FeaturePipeline.explose(joinedData, experiment)\n",
    "explosedData.show(1, 1000, true)"
   ]
  },
  {
   "cell_type": "code",
   "execution_count": 18,
   "id": "36bbabd3-43c7-4dc2-99ed-a3b680e86243",
   "metadata": {},
   "outputs": [
    {
     "name": "stdout",
     "output_type": "stream",
     "text": [
      "\n",
      "[DataLeakageProtection] Cleaning\n",
      "\n",
      "================================================================================\n",
      "[LeakageProtection] Removing Source Leakage Columns\n",
      "================================================================================\n",
      "  ✓ No source leakage columns found - Data is clean!\n",
      "\n",
      "================================================================================\n",
      "[LeakageProtection] Removing Unused Labels\n",
      "================================================================================\n",
      "  Target label: label_is_delayed_15min\n",
      "  ✓ No unused labels found\n",
      "  - Data leakage protection completed in 0.0s\n",
      "\n",
      "  - Checking cardinality for 4 integer columns (sample: 1.0%)\n",
      "  - Reclassified 1 low-cardinality integers as categorical: OP_CARRIER_AIRLINE_ID\n",
      "  - Column type detection completed in 10.492s\n",
      "  - Detected 27 categorical columns and 27 numeric columns\n",
      "\n",
      "  - Using EnhancedFlightFeaturePipeline (Feature Selection mode)\n",
      "  - Feature pipeline completed in 33.781s\n",
      "  - Feature count: 54 features\n",
      "  - Sample feature names: indexed_DEST_WBAN, indexed_ORIGIN_WBAN, indexed_origin_weather_SkyCondition-11, indexed_origin_weather_SkyCondition-10, indexed_origin_weather_SkyCondition-9...\n",
      "\n",
      "Sample of extracted features:\n",
      "+---------------------------------------------------------------------------------------------------------------------------------------------------------------------------------------------------------------------------------------------------------------------------------------------------+-----+\n",
      "|features                                                                                                                                                                                                                                                                                           |label|\n",
      "+---------------------------------------------------------------------------------------------------------------------------------------------------------------------------------------------------------------------------------------------------------------------------------------------------+-----+\n",
      "|[46.0,0.0,35.0,45.0,28.0,31.0,35.0,63.0,127.0,24.0,85.0,22.0,57.0,19.0,0.0,0.0,0.0,4.0,4.0,0.0,0.0,4.0,0.0,0.0,0.0,4.0,6.0,10140.0,3864.0,13930.0,18.0,18.0,18.0,18.0,18.0,18.0,18.0,18.0,18.0,18.0,17.0,18.0,18.0,18.0,18.0,18.0,18.0,18.0,18.0,18.0,18.0,18.0,18.0,18.0]                         |0.0  |\n",
      "|[46.0,0.0,50.0,34.0,73.0,47.0,43.0,31.0,18.0,103.0,92.0,28.0,31.0,25.0,0.0,0.0,0.0,0.0,0.0,1.0,0.0,0.0,4.0,0.0,0.0,0.0,6.0,10140.0,3864.0,13930.0,14.0,14.0,11.0,17.0,17.0,18.0,18.0,9.0,18.0,16.0,18.0,14.0,18.0,18.0,18.0,18.0,18.0,18.0,18.0,18.0,18.0,18.0,18.0,18.0]                          |0.0  |\n",
      "|[46.0,0.0,529.0,1.0,309.0,11.0,256.0,22.0,22.0,30.0,765.0,739.0,2.0,20.0,886.0,3.0,13.0,955.0,3.0,342.0,62.0,43.0,30.0,1024.0,119.0,2.0,6.0,10140.0,3755.0,13930.0,15.0,18.0,18.0,18.0,18.0,18.0,18.0,18.0,18.0,18.0,18.0,18.0,18.0,18.0,18.0,18.0,18.0,18.0,18.0,18.0,18.0,18.0,18.0,18.0]        |0.0  |\n",
      "|[46.0,0.0,0.0,29.0,56.0,0.0,57.0,335.0,4.0,0.0,302.0,163.0,35.0,77.0,2.0,0.0,0.0,154.0,3.0,2.0,0.0,0.0,2.0,2.0,0.0,2.0,6.0,10140.0,3864.0,13930.0,18.0,18.0,18.0,18.0,18.0,18.0,18.0,18.0,18.0,18.0,18.0,18.0,18.0,18.0,18.0,18.0,18.0,18.0,18.0,18.0,18.0,18.0,18.0,18.0]                         |0.0  |\n",
      "|[46.0,0.0,16.0,12.0,18.0,22.0,472.0,49.0,20.0,196.0,20.0,20.0,9.0,6.0,1579.0,320.0,724.0,2397.0,2246.0,2232.0,2491.0,124.0,4.0,695.0,7.0,1657.0,6.0,10140.0,3755.0,13930.0,12.0,12.0,13.0,18.0,17.0,18.0,18.0,18.0,18.0,12.0,13.0,15.0,18.0,18.0,18.0,18.0,18.0,18.0,18.0,18.0,18.0,18.0,18.0,18.0]|0.0  |\n",
      "+---------------------------------------------------------------------------------------------------------------------------------------------------------------------------------------------------------------------------------------------------------------------------------------------------+-----+\n",
      "only showing top 5 rows\n",
      "\n",
      "\n",
      "================================================================================\n",
      "[STEP 3] Feature Extraction Summary (Feature Selection)\n",
      "================================================================================\n",
      "Total Features Available : 54\n",
      "Selected Features        : 54\n",
      "Text Features            : 27\n",
      "Numeric Features         : 27\n",
      "================================================================================\n",
      "\n",
      "Saving selected feature names to: /home/jovyan/work/output/Experience-Juniper-1/features/selected_features.txt\n",
      "  - Saved 54 feature names\n",
      "\n",
      "Saving extracted features:\n",
      "  - Path: /home/jovyan/work/output/Experience-Juniper-1/features/extracted_features\n",
      "  - Saved 175701 records with extracted features\n",
      "\n",
      "  - Results saved in 59.96s\n",
      "\n",
      "[STEP 3][FeatureExtractor] Feature Extraction - Completed in 105.138s\n"
     ]
    },
    {
     "data": {
      "text/plain": [
       "extractedFeatureData = [features: vector, label: double]\n"
      ]
     },
     "metadata": {},
     "output_type": "display_data",
     "source": "user"
    },
    {
     "data": {
      "text/plain": [
       "[features: vector, label: double]"
      ]
     },
     "execution_count": 18,
     "metadata": {},
     "output_type": "execute_result"
    }
   ],
   "source": [
    "import com.flightdelay.features.FeaturePipeline\n",
    "\n",
    "val extractedFeatureData = FeaturePipeline.extractFeature(explosedData, experiment)\n"
   ]
  },
  {
   "cell_type": "code",
   "execution_count": 9,
   "id": "a9c779ba-6c11-47b3-a247-5c44ebe5d7a5",
   "metadata": {},
   "outputs": [
    {
     "name": "stdout",
     "output_type": "stream",
     "text": [
      "+------------------------------------------------------------------------------------------------------------------------------------------------------------------------------------------------------------+-----+\n",
      "|                                                                                                                                                                                                    features|label|\n",
      "+------------------------------------------------------------------------------------------------------------------------------------------------------------------------------------------------------------+-----+\n",
      "|(54,[26,27,28,29,30,31,32,33,34,35,36,37,38,39,40,41,42,43,44,45,46,47,48,49,50,51,52,53],[0.0,0.0,0.0,0.0,0.0,0.0,0.0,0.0,0.0,0.0,0.0,0.0,0.0,0.0,0.0,0.0,0.0,0.0,0.0,0.0,0.0,0.0,0.0,0.0,0.0,0.0,0.0,0.0])|  0.0|\n",
      "+------------------------------------------------------------------------------------------------------------------------------------------------------------------------------------------------------------+-----+\n",
      "\n"
     ]
    }
   ],
   "source": [
    "extractedFeatureData.show(2, 1000)"
   ]
  },
  {
   "cell_type": "code",
   "execution_count": 9,
   "id": "cc4e8c12-618a-4eaa-ae17-a77f982f83d3",
   "metadata": {},
   "outputs": [
    {
     "name": "stdout",
     "output_type": "stream",
     "text": [
      "-RECORD 0------------------------------------------------------\n",
      " DEST_AIRPORT_ID                     | 10397                   \n",
      " DEST_WBAN                           | 13874                   \n",
      " FL_DATE                             | 2012-01-09              \n",
      " OP_CARRIER_AIRLINE_ID               | 20366                   \n",
      " OP_CARRIER_FL_NUM                   | 5334                    \n",
      " ORIGIN_AIRPORT_ID                   | 10146                   \n",
      " ORIGIN_WBAN                         | 13869                   \n",
      " UTC_FL_DATE                         | 2012-01-09              \n",
      " label_is_delayed_15min              | 1                       \n",
      " origin_weather_SkyCondition-11      | OVC100                  \n",
      " origin_weather_Visibility-11        | 1.75                    \n",
      " origin_weather_SkyCondition-10      | OVC110                  \n",
      " origin_weather_Visibility-10        | 9.0                     \n",
      " origin_weather_SkyCondition-9       | OVC110                  \n",
      " origin_weather_Visibility-9         | 10.0                    \n",
      " origin_weather_SkyCondition-8       | OVC110                  \n",
      " origin_weather_Visibility-8         | 5.0                     \n",
      " origin_weather_SkyCondition-7       | CLR                     \n",
      " origin_weather_Visibility-7         | 8.0                     \n",
      " origin_weather_SkyCondition-6       | BKN110                  \n",
      " origin_weather_Visibility-6         | 10.0                    \n",
      " origin_weather_SkyCondition-5       | BKN100                  \n",
      " origin_weather_Visibility-5         | 10.0                    \n",
      " origin_weather_SkyCondition-4       | CLR                     \n",
      " origin_weather_Visibility-4         | 10.0                    \n",
      " origin_weather_SkyCondition-3       | CLR                     \n",
      " origin_weather_Visibility-3         | 10.0                    \n",
      " origin_weather_SkyCondition-2       | CLR                     \n",
      " origin_weather_Visibility-2         | 10.0                    \n",
      " origin_weather_SkyCondition-1       | BKN100                  \n",
      " origin_weather_Visibility-1         | 10.0                    \n",
      " origin_weather_SkyCondition-0       | CLR                     \n",
      " origin_weather_Visibility-0         | 10.0                    \n",
      " destination_weather_SkyCondition-11 | BKN004 OVC070           \n",
      " destination_weather_Visibility-11   | 1.5                     \n",
      " destination_weather_SkyCondition-10 | FEW006 SCT120 BKN250    \n",
      " destination_weather_Visibility-10   | 8.0                     \n",
      " destination_weather_SkyCondition-9  | BKN110 BKN200 BKN250    \n",
      " destination_weather_Visibility-9    | 10.0                    \n",
      " destination_weather_SkyCondition-8  | BKN110 BKN150 BKN250    \n",
      " destination_weather_Visibility-8    | 10.0                    \n",
      " destination_weather_SkyCondition-7  | BKN008 BKN110 BKN250    \n",
      " destination_weather_Visibility-7    | 10.0                    \n",
      " destination_weather_SkyCondition-6  | BKN010 BKN100 BKN250    \n",
      " destination_weather_Visibility-6    | 10.0                    \n",
      " destination_weather_SkyCondition-5  | BKN014 BKN050 BKN090    \n",
      " destination_weather_Visibility-5    | 10.0                    \n",
      " destination_weather_SkyCondition-4  | BKN019 BKN050 BKN080    \n",
      " destination_weather_Visibility-4    | 10.0                    \n",
      " destination_weather_SkyCondition-3  | FEW015TCU BKN050 BKN250 \n",
      " destination_weather_Visibility-3    | 10.0                    \n",
      " destination_weather_SkyCondition-2  | FEW020 SCT050 BKN250    \n",
      " destination_weather_Visibility-2    | 10.0                    \n",
      " destination_weather_SkyCondition-1  | SCT020 BKN150 BKN250    \n",
      " destination_weather_Visibility-1    | 10.0                    \n",
      " destination_weather_SkyCondition-0  | FEW015 SCT065 BKN090    \n",
      " destination_weather_Visibility-0    | 10.0                    \n",
      "\n"
     ]
    }
   ],
   "source": [
    "explosedData.show(10,1000, true)"
   ]
  },
  {
   "cell_type": "code",
   "execution_count": 10,
   "id": "b9f01a15-dada-4636-9f1f-f7b32cc3656a",
   "metadata": {},
   "outputs": [
    {
     "name": "stdout",
     "output_type": "stream",
     "text": [
      "\n",
      "[DataLeakageProtection] Cleaning\n",
      "\n",
      "================================================================================\n",
      "[LeakageProtection] Removing Source Leakage Columns\n",
      "================================================================================\n",
      "  ✓ No source leakage columns found - Data is clean!\n",
      "\n",
      "================================================================================\n",
      "[LeakageProtection] Removing Unused Labels\n",
      "================================================================================\n",
      "  Target label: label_is_delayed_15min\n",
      "  ✓ No unused labels found\n"
     ]
    },
    {
     "data": {
      "text/plain": [
       "cleaData = [DEST_AIRPORT_ID: int, DEST_WBAN: string ... 55 more fields]\n"
      ]
     },
     "metadata": {},
     "output_type": "display_data",
     "source": "user"
    },
    {
     "data": {
      "text/plain": [
       "[DEST_AIRPORT_ID: int, DEST_WBAN: string ... 55 more fields]"
      ]
     },
     "execution_count": 10,
     "metadata": {},
     "output_type": "execute_result"
    }
   ],
   "source": [
    "import com.flightdelay.features.leakage.DataLeakageProtection\n",
    "val cleaData = DataLeakageProtection.clean(explosedData, \"label_is_delayed_15min\")"
   ]
  },
  {
   "cell_type": "code",
   "execution_count": 11,
   "id": "323ff539-2017-4a05-bdd6-4a28043a1bf0",
   "metadata": {},
   "outputs": [
    {
     "data": {
      "text/plain": [
       "dataMetric = [name: string, origType: string ... 3 more fields]\n"
      ]
     },
     "metadata": {},
     "output_type": "display_data",
     "source": "user"
    },
    {
     "data": {
      "text/plain": [
       "[name: string, origType: string ... 3 more fields]"
      ]
     },
     "execution_count": 11,
     "metadata": {},
     "output_type": "execute_result"
    }
   ],
   "source": [
    "import com.flightdelay.data.utils.DataQualityMetrics\n",
    "val dataMetric = DataQualityMetrics.metrics(cleaData)"
   ]
  },
  {
   "cell_type": "code",
   "execution_count": 12,
   "id": "a04becd0-92ca-4c4a-83ef-086966996e48",
   "metadata": {},
   "outputs": [
    {
     "name": "stdout",
     "output_type": "stream",
     "text": [
      "+--------------------+-----------+-------+---------+----------------+\n",
      "|                name|   origType|colType|compRatio|nbDistinctValues|\n",
      "+--------------------+-----------+-------+---------+----------------+\n",
      "|     DEST_AIRPORT_ID|IntegerType|numeric|      1.0|               1|\n",
      "|           DEST_WBAN| StringType|textual|      1.0|               1|\n",
      "|             FL_DATE|   DateType|   date|      1.0|               1|\n",
      "|OP_CARRIER_AIRLIN...|IntegerType|numeric|      1.0|               1|\n",
      "|   OP_CARRIER_FL_NUM|IntegerType|numeric|      1.0|               1|\n",
      "|   ORIGIN_AIRPORT_ID|IntegerType|numeric|      1.0|               1|\n",
      "|         ORIGIN_WBAN| StringType|textual|      1.0|               1|\n",
      "|         UTC_FL_DATE|   DateType|   date|      1.0|               1|\n",
      "|label_is_delayed_...|IntegerType|numeric|      1.0|               1|\n",
      "|origin_weather_Sk...| StringType|textual|      1.0|               1|\n",
      "|origin_weather_Vi...| DoubleType|numeric|      1.0|               1|\n",
      "|origin_weather_Sk...| StringType|textual|      1.0|               1|\n",
      "|origin_weather_Vi...| DoubleType|numeric|      1.0|               1|\n",
      "|origin_weather_Sk...| StringType|textual|      1.0|               1|\n",
      "|origin_weather_Vi...| DoubleType|numeric|      1.0|               1|\n",
      "|origin_weather_Sk...| StringType|textual|      1.0|               1|\n",
      "|origin_weather_Vi...| DoubleType|numeric|      1.0|               1|\n",
      "|origin_weather_Sk...| StringType|textual|      1.0|               1|\n",
      "|origin_weather_Vi...| DoubleType|numeric|      1.0|               1|\n",
      "|origin_weather_Sk...| StringType|textual|      1.0|               1|\n",
      "|origin_weather_Vi...| DoubleType|numeric|      1.0|               1|\n",
      "|origin_weather_Sk...| StringType|textual|      1.0|               1|\n",
      "|origin_weather_Vi...| DoubleType|numeric|      1.0|               1|\n",
      "|origin_weather_Sk...| StringType|textual|      1.0|               1|\n",
      "|origin_weather_Vi...| DoubleType|numeric|      1.0|               1|\n",
      "|origin_weather_Sk...| StringType|textual|      1.0|               1|\n",
      "|origin_weather_Vi...| DoubleType|numeric|      1.0|               1|\n",
      "|origin_weather_Sk...| StringType|textual|      1.0|               1|\n",
      "|origin_weather_Vi...| DoubleType|numeric|      1.0|               1|\n",
      "|origin_weather_Sk...| StringType|textual|      1.0|               1|\n",
      "|origin_weather_Vi...| DoubleType|numeric|      1.0|               1|\n",
      "|origin_weather_Sk...| StringType|textual|      1.0|               1|\n",
      "|origin_weather_Vi...| DoubleType|numeric|      1.0|               1|\n",
      "|destination_weath...| StringType|textual|      1.0|               1|\n",
      "|destination_weath...| DoubleType|numeric|      1.0|               1|\n",
      "|destination_weath...| StringType|textual|      1.0|               1|\n",
      "|destination_weath...| DoubleType|numeric|      1.0|               1|\n",
      "|destination_weath...| StringType|textual|      1.0|               1|\n",
      "|destination_weath...| DoubleType|numeric|      1.0|               1|\n",
      "|destination_weath...| StringType|textual|      1.0|               1|\n",
      "|destination_weath...| DoubleType|numeric|      1.0|               1|\n",
      "|destination_weath...| StringType|textual|      1.0|               1|\n",
      "|destination_weath...| DoubleType|numeric|      1.0|               1|\n",
      "|destination_weath...| StringType|textual|      1.0|               1|\n",
      "|destination_weath...| DoubleType|numeric|      1.0|               1|\n",
      "|destination_weath...| StringType|textual|      1.0|               1|\n",
      "|destination_weath...| DoubleType|numeric|      1.0|               1|\n",
      "|destination_weath...| StringType|textual|      1.0|               1|\n",
      "|destination_weath...| DoubleType|numeric|      1.0|               1|\n",
      "|destination_weath...| StringType|textual|      1.0|               1|\n",
      "|destination_weath...| DoubleType|numeric|      1.0|               1|\n",
      "|destination_weath...| StringType|textual|      1.0|               1|\n",
      "|destination_weath...| DoubleType|numeric|      1.0|               1|\n",
      "|destination_weath...| StringType|textual|      1.0|               1|\n",
      "|destination_weath...| DoubleType|numeric|      1.0|               1|\n",
      "|destination_weath...| StringType|textual|      1.0|               1|\n",
      "|destination_weath...| DoubleType|numeric|      1.0|               1|\n",
      "+--------------------+-----------+-------+---------+----------------+\n",
      "\n"
     ]
    }
   ],
   "source": [
    "dataMetric.show(100)"
   ]
  },
  {
   "cell_type": "code",
   "execution_count": null,
   "id": "3007492d-cbef-459b-8e92-83803018773c",
   "metadata": {},
   "outputs": [],
   "source": []
  }
 ],
 "metadata": {
  "kernelspec": {
   "display_name": "apache_toree_scala - Scala",
   "language": "scala",
   "name": "apache_toree_scala_scala"
  },
  "language_info": {
   "codemirror_mode": "text/x-scala",
   "file_extension": ".scala",
   "mimetype": "text/x-scala",
   "name": "scala",
   "pygments_lexer": "scala",
   "version": "2.12.15"
  }
 },
 "nbformat": 4,
 "nbformat_minor": 5
}
