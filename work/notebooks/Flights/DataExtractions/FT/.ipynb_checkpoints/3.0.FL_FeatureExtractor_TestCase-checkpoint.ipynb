{
 "cells": [
  {
   "cell_type": "markdown",
   "id": "5c5f4328-79b7-479f-9aae-af58a0f929b5",
   "metadata": {},
   "source": [
    "# Flight Preprocessing"
   ]
  },
  {
   "cell_type": "code",
   "execution_count": 1,
   "id": "88c94428-dbc0-4a56-a9c2-a79ea02d6a5c",
   "metadata": {},
   "outputs": [
    {
     "name": "stdout",
     "output_type": "stream",
     "text": [
      "Starting download from file:///home/jovyan/work/apps/Emiasd-Flight-Data-Analysis.jar\n",
      "Finished download of Emiasd-Flight-Data-Analysis.jar\n",
      "Using cached version of Emiasd-Flight-Data-Analysis.jar\n"
     ]
    }
   ],
   "source": [
    "%AddJar file:///home/jovyan/work/apps/Emiasd-Flight-Data-Analysis.jar"
   ]
  },
  {
   "cell_type": "code",
   "execution_count": 24,
   "id": "42e5025a-6a95-41ac-a937-a9e04f240204",
   "metadata": {},
   "outputs": [
    {
     "name": "stdout",
     "output_type": "stream",
     "text": [
      "\n",
      "\n",
      "----------------------------------------------------------------------------------------------------------\n",
      "--> [FlightDataLoader] Flight Data Loading - Start ...\n",
      "--> 486133 loaded ...\n",
      "root\n",
      " |-- FL_DATE: date (nullable = true)\n",
      " |-- OP_CARRIER_AIRLINE_ID: integer (nullable = true)\n",
      " |-- OP_CARRIER_FL_NUM: integer (nullable = true)\n",
      " |-- ORIGIN_AIRPORT_ID: integer (nullable = true)\n",
      " |-- DEST_AIRPORT_ID: integer (nullable = true)\n",
      " |-- CRS_DEP_TIME: integer (nullable = true)\n",
      " |-- ARR_DELAY_NEW: double (nullable = true)\n",
      " |-- CANCELLED: double (nullable = true)\n",
      " |-- DIVERTED: double (nullable = true)\n",
      " |-- CRS_ELAPSED_TIME: double (nullable = true)\n",
      " |-- WEATHER_DELAY: double (nullable = true)\n",
      " |-- NAS_DELAY: double (nullable = true)\n",
      "\n"
     ]
    },
    {
     "data": {
      "text/plain": [
       "args = Array(local)\n",
       "spark = org.apache.spark.sql.SparkSession@750b866b\n",
       "session = org.apache.spark.sql.SparkSession@750b866b\n",
       "configuration = AppConfiguration(local,DataConfig(/data,FileConfig(/data/FLIGHT-3Y/Flights/201201.csv),FileConfig(/data/FLIGHT-3Y/Weather/201201hourly.txt),FileConfig(/data/FLIGHT-3Y/wban_airport_timezone.csv)),OutputConfig(/output,FileConfig(/output/data),FileConfig(/output/model)))\n",
       "flightFilePath = ../../data/FLIGHT-3Y/Flights/201201.csv\n"
      ]
     },
     "metadata": {},
     "output_type": "display_data",
     "source": "user"
    },
    {
     "data": {
      "text/plain": [
       "flightRawData: org.apache.spark.s...\n"
      ]
     },
     "metadata": {},
     "output_type": "display_data",
     "source": "user"
    },
    {
     "name": "stdout",
     "output_type": "stream",
     "text": [
      "+----------+---------------------+-----------------+-----------------+---------------+------------+-------------+---------+--------+----------------+-------------+---------+\n",
      "|   FL_DATE|OP_CARRIER_AIRLINE_ID|OP_CARRIER_FL_NUM|ORIGIN_AIRPORT_ID|DEST_AIRPORT_ID|CRS_DEP_TIME|ARR_DELAY_NEW|CANCELLED|DIVERTED|CRS_ELAPSED_TIME|WEATHER_DELAY|NAS_DELAY|\n",
      "+----------+---------------------+-----------------+-----------------+---------------+------------+-------------+---------+--------+----------------+-------------+---------+\n",
      "|2012-01-01|                20366|             4426|            15370|          12266|         845|          0.0|      0.0|     0.0|            99.0|         NULL|     NULL|\n",
      "|2012-01-01|                20366|             4427|            12266|          15370|         858|          0.0|      0.0|     0.0|            88.0|         NULL|     NULL|\n",
      "|2012-01-01|                20366|             4427|            15370|          12266|        1051|          0.0|      0.0|     0.0|            89.0|         NULL|     NULL|\n",
      "|2012-01-01|                20366|             4428|            12266|          15370|        1125|         31.0|      0.0|     0.0|            87.0|          0.0|      2.0|\n",
      "|2012-01-01|                20366|             4428|            15370|          12266|        1319|         21.0|      0.0|     0.0|            96.0|          0.0|      0.0|\n",
      "|2012-01-01|                20366|             4429|            12266|          15370|        1328|          0.0|      0.0|     0.0|            94.0|         NULL|     NULL|\n",
      "|2012-01-01|                20366|             4429|            15370|          12266|        1527|          0.0|      0.0|     0.0|            97.0|         NULL|     NULL|\n",
      "|2012-01-01|                20366|             4430|            12266|          15370|        1449|         10.0|      0.0|     0.0|            89.0|         NULL|     NULL|\n",
      "|2012-01-01|                20366|             4430|            15370|          12266|        1643|          0.0|      0.0|     0.0|            98.0|         NULL|     NULL|\n",
      "|2012-01-01|                20366|             4431|            12266|          15370|        1920|         55.0|      0.0|     0.0|            91.0|          0.0|      0.0|\n",
      "+----------+---------------------+-----------------+-----------------+---------------+------------+-------------+---------+--------+----------------+-------------+---------+\n",
      "only showing top 10 rows\n",
      "\n",
      "--> [FlightDataLoader] Flight Data Loading - End ...\n",
      "----------------------------------------------------------------------------------------------------------\n",
      "\n",
      "\n"
     ]
    },
    {
     "data": {
      "text/plain": [
       "../../data/FLIGHT-3Y/Flights/201201.csv"
      ]
     },
     "execution_count": 24,
     "metadata": {},
     "output_type": "execute_result"
    }
   ],
   "source": [
    "import org.apache.spark.sql.SparkSession\n",
    "import com.flightdelay.config.{AppConfiguration, ConfigurationLoader}\n",
    "import com.flightdelay.data.loaders.FlightDataLoader\n",
    "\n",
    "//Env Configuration\n",
    "val args: Array[String] = Array(\"juniper\")\n",
    "\n",
    "val spark = SparkSession.builder()\n",
    "  .config(sc.getConf)\n",
    "  .getOrCreate()\n",
    "\n",
    "// Rendre la session Spark implicite\n",
    "implicit val session = spark\n",
    "implicit val configuration: AppConfiguration = ConfigurationLoader.loadConfiguration(args)\n",
    "\n",
    "// Cellule 4: Test\n",
    "val flightData = FlightDataLoader.loadFromConfiguration(false)"
   ]
  },
  {
   "cell_type": "code",
   "execution_count": 25,
   "id": "f50bf716-a979-4597-b1f0-2103d27473d4",
   "metadata": {},
   "outputs": [
    {
     "name": "stdout",
     "output_type": "stream",
     "text": [
      "\n",
      "\n",
      "----------------------------------------------------------------------------------------------------------\n",
      "--> [FlightPreprocessingPipeline] Flight Preprocessing Pipeline - Start ...\n",
      "----------------------------------------------------------------------------------------------------------\n",
      "\n",
      "\n",
      "----------------------------------------------------------------------------------------------------------\n",
      "--> [FlightDataCleaner] Flight Data Cleaner - Start ...\n",
      "----------------------------------------------------------------------------------------------------------\n",
      "Data Original Count: 486133\n",
      "\n",
      "Phase 1: Basic Cleaning - Remove Duplicates\n",
      "Current Count : 486133\n",
      "\n",
      "Phase 2: Filter Flights\n",
      "- Filter Cancelled and Diverted Flights\n",
      "Suppression des valeurs spécifiques: Map(CANCELLED -> List(1.0), DIVERTED -> List(1.0))\n",
      "Nombre de lignes avant: 486133\n",
      "Nombre de lignes après suppression des valeurs spécifiques: 478025\n",
      "- Filter Invalid departure time\n",
      "- Filter Invalid airports\n",
      "Current Count : 478025\n",
      "\n",
      "Phase 3: Types Conversion\n",
      "Conversion des types de données: NAS_DELAY, OP_CARRIER_AIRLINE_ID, OP_CARRIER_FL_NUM, WEATHER_DELAY, DEST_AIRPORT_ID, ORIGIN_AIRPORT_ID, CRS_ELAPSED_TIME, FL_DATE, CRS_DEP_TIME, ARR_DELAY_NEW\n",
      "- Filter Invalid flight date formats\n",
      "Current Count : 478025\n",
      "\n",
      "Phase 4: Filter Outliers\n",
      "- Filter delay > 10 hours = 600 minutes\n",
      "- Filter filght time > entre 10 minutes et 24 hours\n",
      "Current Count : 477960\n",
      "\n",
      "Phase 5: Final Validation\n",
      "Final Validation succeeded: 477960 flights\n",
      "\n",
      "=== Flight Cleaning Summary ===\n",
      "Original Count: 486133\n",
      "Final Count: 477960\n",
      "Cleaned: 8173\n",
      "Reduction Percentage: 2%\n",
      "\n",
      "--> [FlightDataCleaner] Flight Data Cleaner- End ...\n",
      "----------------------------------------------------------------------------------------------------------\n",
      "\n",
      "\n",
      "\n",
      "\n",
      "----------------------------------------------------------------------------------------------------------\n",
      "--> [FlightDataGenerator] Flight Data Generator - Start ...\n",
      "----------------------------------------------------------------------------------------------------------\n",
      "Original Column Counts: 10\n",
      "\n",
      "Phase 1: Add Temporal Features\n",
      "- Add feature_flight_timestamp\n",
      "- Add feature_flight_year\n",
      "- Add feature_flight_month\n",
      "- Add feature_flight_quarter\n",
      "- Add feature_flight_day_of_month\n",
      "- Add feature_flight_day_of_week\n",
      "- Add feature_flight_day_of_year\n",
      "- Add feature_flight_week_of_year\n",
      "- Add feature_departure_hour\n",
      "- Add feature_departure_minute\n",
      "- Add feature_departure_hour_decimal\n",
      "- Add feature_departure_quarter_day\n",
      "- Add feature_departure_quarter_name\n",
      "- Add feature_departure_time_period\n",
      "- Add feature_minutes_since_midnight\n",
      "Temporal features added: 16\n",
      "root\n",
      " |-- FL_DATE: string (nullable = true)\n",
      " |-- OP_CARRIER_AIRLINE_ID: integer (nullable = true)\n",
      " |-- OP_CARRIER_FL_NUM: string (nullable = true)\n",
      " |-- ORIGIN_AIRPORT_ID: integer (nullable = true)\n",
      " |-- DEST_AIRPORT_ID: integer (nullable = true)\n",
      " |-- CRS_DEP_TIME: integer (nullable = true)\n",
      " |-- ARR_DELAY_NEW: double (nullable = true)\n",
      " |-- CRS_ELAPSED_TIME: double (nullable = true)\n",
      " |-- WEATHER_DELAY: double (nullable = true)\n",
      " |-- NAS_DELAY: double (nullable = true)\n",
      " |-- feature_departure_minute: integer (nullable = true)\n",
      " |-- feature_flight_day_of_week: integer (nullable = true)\n",
      " |-- feature_departure_hour_decimal: double (nullable = true)\n",
      " |-- feature_flight_timestamp: timestamp (nullable = true)\n",
      " |-- feature_flight_quarter_name: string (nullable = false)\n",
      " |-- feature_departure_hour: integer (nullable = true)\n",
      " |-- feature_minutes_since_midnight: double (nullable = true)\n",
      " |-- feature_departure_quarter_day: integer (nullable = false)\n",
      " |-- feature_flight_month: integer (nullable = true)\n",
      " |-- feature_flight_year: integer (nullable = true)\n",
      " |-- feature_flight_day_of_year: integer (nullable = true)\n",
      " |-- feature_flight_quarter: integer (nullable = false)\n",
      " |-- feature_flight_week_of_year: integer (nullable = true)\n",
      " |-- feature_flight_day_of_month: integer (nullable = true)\n",
      " |-- feature_departure_quarter_name: string (nullable = false)\n",
      " |-- feature_departure_time_period: string (nullable = false)\n",
      "\n",
      "\n",
      "Phase 2: Add Flight Characteristics\n",
      "- Add feature_flight_unique_id \n",
      "- Add feature_distance_category (short, medium, long, very_long) \n",
      "- Add feature_distance_score \n",
      "- Add feature_is_likely_domestic \n",
      "- Add feature_carrier_hash \n",
      "- Add feature_route_id \n",
      "- Add feature_is_roundtrip_candidate \n",
      "Added Flight features: 7\n",
      "\n",
      "Phase 3: Add Period <indicator\n",
      "- Add feature_is_weekend, feature_is_friday, feature_is_monday\n",
      "- Add feature_is_summer, feature_is_winter, feature_is_spring, feature_is_fall \n",
      "- Add feature_is_holiday_season (approximative)\n",
      "- Add feature_is_early_morning \n",
      "- Add feature_is_morning_rush \n",
      "- Add feature_is_business_hours \n",
      "- Add feature_is_evening_rush \n",
      "- Add feature_is_night_flight \n",
      "- Add feature_is_month_start \n",
      "- Add feature_is_month_end \n",
      "- Add feature_is_extended_weekend \n",
      "Added Flight features: 16\n",
      "\n",
      "Phase 4: Add Geographical Features\n",
      "- Add feature_origin_is_major_hub (10397, 11298, 12266, 13930, 14107, 14771, 15016  // Principaux hubs US)\n",
      "- Add feature_dest_is_major_hub  (10397, 11298, 12266, 13930, 14107, 14771, 15016  // Principaux hubs US)\n",
      "- Add feature_is_hub_to_hub\n",
      "- Add feature_flight_quarter\n",
      "- Add feature_origin_complexity_score\n",
      "- Add feature_dest_complexity_score\n",
      "- Add feature_timezone_diff_proxy\n",
      "- Add feature_flight_week_of_year\n",
      "- Add feature_is_eastbound\n",
      "- Add feature_is_westbound\n",
      "Added Flight features: 8\n",
      "\n",
      "Phase 5 : Add Aggregated Features\n",
      "- Add feature_flights_on_route\n",
      "- Add feature_carrier_flight_count\n",
      "- Add feature_origin_airport_traffic\n",
      "- Add feature_route_popularity_score\n",
      "- Add feature_carrier_size_category\n",
      "Added Flight features: 5\n",
      "\n",
      "\n",
      "=== Enrichment Summary ===\n",
      "Original Columns: 10\n",
      "Columns after enrichment: 62\n",
      "Enriched Columns: 52\n",
      "Dataset size: 477960\n",
      "\n",
      "New Features Created : \n",
      "feature_departure_minute,\n",
      "feature_flight_day_of_week,\n",
      "feature_departure_hour_decimal,\n",
      "feature_flight_timestamp,\n",
      "feature_flight_quarter_name,\n",
      "feature_departure_hour,\n",
      "feature_minutes_since_midnight,\n",
      "feature_departure_quarter_day,\n",
      "feature_flight_month,\n",
      "feature_flight_year,\n",
      "feature_flight_day_of_year,\n",
      "feature_flight_quarter,\n",
      "feature_flight_week_of_year,\n",
      "feature_flight_day_of_month,\n",
      "feature_departure_quarter_name,\n",
      "feature_departure_time_period,\n",
      "feature_distance_score,\n",
      "feature_distance_category,\n",
      "feature_carrier_hash,\n",
      "feature_route_id,\n",
      "feature_is_likely_domestic,\n",
      "feature_is_roundtrip_candidate,\n",
      "feature_flight_unique_id,\n",
      "feature_is_summer,\n",
      "feature_is_monday,\n",
      "feature_is_evening_rush,\n",
      "feature_is_month_start,\n",
      "feature_is_extended_weekend,\n",
      "feature_is_winter,\n",
      "feature_is_friday,\n",
      "feature_is_spring,\n",
      "feature_is_weekend,\n",
      "feature_is_holiday_season,\n",
      "feature_is_fall,\n",
      "feature_is_early_morning,\n",
      "feature_is_morning_rush,\n",
      "feature_is_business_hours,\n",
      "feature_is_night_flight,\n",
      "feature_is_month_end,\n",
      "feature_origin_complexity_score,\n",
      "feature_is_westbound,\n",
      "feature_dest_complexity_score,\n",
      "feature_dest_is_major_hub,\n",
      "feature_is_eastbound,\n",
      "feature_timezone_diff_proxy,\n",
      "feature_origin_is_major_hub,\n",
      "feature_is_hub_to_hub,\n",
      "feature_flights_on_route,\n",
      "feature_carrier_flight_count,\n",
      "feature_origin_airport_traffic,\n",
      "feature_route_popularity_score,\n",
      "feature_carrier_size_category\n",
      "\n",
      "--> [FlightDataGenerator] Flight Data Generator- End ...\n",
      "----------------------------------------------------------------------------------------------------------\n",
      "\n",
      "\n",
      "\n",
      "\n",
      "----------------------------------------------------------------------------------------------------------\n",
      "--> [FlightLabelGenerator] Flight Label Generator - Start ...\n",
      "----------------------------------------------------------------------------------------------------------\n",
      "\n",
      "Phase 1: Validate Required Columns\n",
      "- Validation of required columns: OK\n",
      "\n",
      "Phase 2: Handling missing values for delays\n",
      "\n",
      "Phase 2: Adding basic labels for different thresholds\n",
      "- Add label_is_delayed_15min\n",
      "- Add label_is_delayed_30min\n",
      "- Add label_is_delayed_45min\n",
      "- Add label_is_delayed_60min\n",
      "- Add label_is_delayed_90min\n",
      "- Add label_has_weather_delay\n",
      "- Add label_has_nas_delay\n",
      "- Add label_has_any_weather_nas_delay\n",
      "- Add label_total_weather_nas_delay\n",
      "- Add label_is_on_time\n",
      "- Add label_is_early\n",
      "\n",
      "--> [FlightDataGenerator] Flight Data Generator- End ...\n",
      "----------------------------------------------------------------------------------------------------------\n",
      "\n",
      "\n",
      "\n",
      "----------------------------------------------------------------------------------------------------------\n",
      "--> [FlightPreprocessingPipeline] Flight Preprocessing Pipeline - End ...\n",
      "----------------------------------------------------------------------------------------------------------\n"
     ]
    },
    {
     "data": {
      "text/plain": [
       "flightProcessedData = [FL_DATE: string, OP_CARRIER_AIRLINE_ID: int ... 77 more fields]\n"
      ]
     },
     "metadata": {},
     "output_type": "display_data",
     "source": "user"
    },
    {
     "data": {
      "text/plain": [
       "[FL_DATE: string, OP_CARRIER_AIRLINE_ID: int ... 77 more fields]"
      ]
     },
     "execution_count": 25,
     "metadata": {},
     "output_type": "execute_result"
    }
   ],
   "source": [
    "import com.flightdelay.data.preprocessing.FlightPreprocessingPipeline\n",
    "\n",
    "val flightProcessedData = FlightPreprocessingPipeline.execute(flightRawData)"
   ]
  },
  {
   "cell_type": "code",
   "execution_count": 6,
   "id": "99f240d1-3e1c-4914-aef6-37e0f8fd50de",
   "metadata": {},
   "outputs": [
    {
     "name": "stdout",
     "output_type": "stream",
     "text": [
      "+--------------------+-------------+-------+----------+----------------+\n",
      "|                name|     origType|colType| compRatio|nbDistinctValues|\n",
      "+--------------------+-------------+-------+----------+----------------+\n",
      "|             FL_DATE|   StringType|textual|       1.0|              31|\n",
      "|OP_CARRIER_AIRLIN...|  IntegerType|numeric|       1.0|              15|\n",
      "|   OP_CARRIER_FL_NUM|   StringType|textual|       1.0|            6237|\n",
      "|   ORIGIN_AIRPORT_ID|  IntegerType|numeric|       1.0|             287|\n",
      "|     DEST_AIRPORT_ID|  IntegerType|numeric|       1.0|             287|\n",
      "|        CRS_DEP_TIME|  IntegerType|numeric|       1.0|            1153|\n",
      "|       ARR_DELAY_NEW|   DoubleType|numeric|       1.0|             486|\n",
      "|    CRS_ELAPSED_TIME|   DoubleType|numeric|       1.0|             418|\n",
      "|       WEATHER_DELAY|   DoubleType|numeric|0.14821951|             278|\n",
      "|           NAS_DELAY|   DoubleType|numeric|0.14821951|             282|\n",
      "|feature_departure...|  IntegerType|numeric|       1.0|              60|\n",
      "|feature_flight_da...|  IntegerType|numeric|       1.0|               7|\n",
      "|feature_departure...|   DoubleType|numeric|       1.0|            1153|\n",
      "|feature_flight_ti...|TimestampType|   date|       1.0|              31|\n",
      "|feature_flight_qu...|   StringType|textual|       1.0|               1|\n",
      "|feature_departure...|  IntegerType|numeric|       1.0|              24|\n",
      "|feature_minutes_s...|   DoubleType|numeric|       1.0|            1153|\n",
      "|feature_departure...|  IntegerType|numeric|       1.0|               4|\n",
      "|feature_flight_month|  IntegerType|numeric|       1.0|               1|\n",
      "| feature_flight_year|  IntegerType|numeric|       1.0|               1|\n",
      "+--------------------+-------------+-------+----------+----------------+\n",
      "only showing top 20 rows\n",
      "\n"
     ]
    },
    {
     "data": {
      "text/plain": [
       "flightProcessedMetrics = [name: string, origType: string ... 3 more fields]\n"
      ]
     },
     "metadata": {},
     "output_type": "display_data",
     "source": "user"
    },
    {
     "data": {
      "text/plain": [
       "[name: string, origType: string ... 3 more fields]"
      ]
     },
     "execution_count": 6,
     "metadata": {},
     "output_type": "execute_result"
    }
   ],
   "source": [
    "import com.flightdelay.data.utils.DataQualityMetrics\n",
    "\n",
    "val flightProcessedMetrics = DataQualityMetrics.metrics(flightProcessedData)\n",
    "flightProcessedMetrics.show()"
   ]
  },
  {
   "cell_type": "code",
   "execution_count": 7,
   "id": "05c22942-96ba-4c94-a3f2-fad982f4e022",
   "metadata": {},
   "outputs": [
    {
     "name": "stdout",
     "output_type": "stream",
     "text": [
      "root\n",
      " |-- FL_DATE: string (nullable = true)\n",
      " |-- OP_CARRIER_AIRLINE_ID: integer (nullable = true)\n",
      " |-- OP_CARRIER_FL_NUM: string (nullable = true)\n",
      " |-- ORIGIN_AIRPORT_ID: integer (nullable = true)\n",
      " |-- DEST_AIRPORT_ID: integer (nullable = true)\n",
      " |-- CRS_DEP_TIME: integer (nullable = true)\n",
      " |-- ARR_DELAY_NEW: double (nullable = true)\n",
      " |-- CRS_ELAPSED_TIME: double (nullable = true)\n",
      " |-- WEATHER_DELAY: double (nullable = true)\n",
      " |-- NAS_DELAY: double (nullable = true)\n",
      " |-- feature_departure_minute: integer (nullable = true)\n",
      " |-- feature_flight_day_of_week: integer (nullable = true)\n",
      " |-- feature_departure_hour_decimal: double (nullable = true)\n",
      " |-- feature_flight_timestamp: timestamp (nullable = true)\n",
      " |-- feature_flight_quarter_name: string (nullable = false)\n",
      " |-- feature_departure_hour: integer (nullable = true)\n",
      " |-- feature_minutes_since_midnight: double (nullable = true)\n",
      " |-- feature_departure_quarter_day: integer (nullable = false)\n",
      " |-- feature_flight_month: integer (nullable = true)\n",
      " |-- feature_flight_year: integer (nullable = true)\n",
      " |-- feature_flight_day_of_year: integer (nullable = true)\n",
      " |-- feature_flight_quarter: integer (nullable = false)\n",
      " |-- feature_flight_week_of_year: integer (nullable = true)\n",
      " |-- feature_flight_day_of_month: integer (nullable = true)\n",
      " |-- feature_departure_quarter_name: string (nullable = false)\n",
      " |-- feature_departure_time_period: string (nullable = false)\n",
      " |-- feature_distance_score: double (nullable = false)\n",
      " |-- feature_distance_category: string (nullable = false)\n",
      " |-- feature_carrier_hash: integer (nullable = false)\n",
      " |-- feature_route_id: string (nullable = true)\n",
      " |-- feature_is_likely_domestic: integer (nullable = false)\n",
      " |-- feature_is_roundtrip_candidate: integer (nullable = false)\n",
      " |-- feature_flight_unique_id: string (nullable = true)\n",
      " |-- feature_is_summer: integer (nullable = false)\n",
      " |-- feature_is_monday: integer (nullable = false)\n",
      " |-- feature_is_evening_rush: integer (nullable = false)\n",
      " |-- feature_is_month_start: integer (nullable = false)\n",
      " |-- feature_is_extended_weekend: integer (nullable = false)\n",
      " |-- feature_is_winter: integer (nullable = false)\n",
      " |-- feature_is_friday: integer (nullable = false)\n",
      " |-- feature_is_spring: integer (nullable = false)\n",
      " |-- feature_is_weekend: integer (nullable = false)\n",
      " |-- feature_is_holiday_season: integer (nullable = false)\n",
      " |-- feature_is_fall: integer (nullable = false)\n",
      " |-- feature_is_early_morning: integer (nullable = false)\n",
      " |-- feature_is_morning_rush: integer (nullable = false)\n",
      " |-- feature_is_business_hours: integer (nullable = false)\n",
      " |-- feature_is_night_flight: integer (nullable = false)\n",
      " |-- feature_is_month_end: integer (nullable = false)\n",
      " |-- feature_origin_complexity_score: double (nullable = true)\n",
      " |-- feature_is_westbound: integer (nullable = false)\n",
      " |-- feature_dest_complexity_score: double (nullable = true)\n",
      " |-- feature_dest_is_major_hub: integer (nullable = false)\n",
      " |-- feature_is_eastbound: integer (nullable = false)\n",
      " |-- feature_timezone_diff_proxy: integer (nullable = true)\n",
      " |-- feature_origin_is_major_hub: integer (nullable = false)\n",
      " |-- feature_is_hub_to_hub: integer (nullable = false)\n",
      " |-- feature_flights_on_route: long (nullable = false)\n",
      " |-- feature_carrier_flight_count: long (nullable = false)\n",
      " |-- feature_origin_airport_traffic: long (nullable = false)\n",
      " |-- feature_route_popularity_score: string (nullable = false)\n",
      " |-- feature_carrier_size_category: string (nullable = false)\n",
      " |-- label_arr_delay_filled: double (nullable = true)\n",
      " |-- label_nas_delay_filled: double (nullable = true)\n",
      " |-- label_weather_delay_filled: double (nullable = true)\n",
      " |-- label_weather_delay_was_missing: integer (nullable = false)\n",
      " |-- label_nas_delay_was_missing: integer (nullable = false)\n",
      " |-- label_arr_delay_was_missing: integer (nullable = false)\n",
      " |-- label_is_early: integer (nullable = false)\n",
      " |-- label_total_weather_nas_delay: double (nullable = true)\n",
      " |-- label_is_delayed_15min: integer (nullable = false)\n",
      " |-- label_has_nas_delay: integer (nullable = false)\n",
      " |-- label_is_delayed_30min: integer (nullable = false)\n",
      " |-- label_is_delayed_60min: integer (nullable = false)\n",
      " |-- label_is_delayed_45min: integer (nullable = false)\n",
      " |-- label_is_delayed_90min: integer (nullable = false)\n",
      " |-- label_has_weather_delay: integer (nullable = false)\n",
      " |-- label_is_on_time: integer (nullable = false)\n",
      " |-- label_has_any_weather_nas_delay: integer (nullable = false)\n",
      "\n"
     ]
    }
   ],
   "source": [
    "flightProcessedData.printSchema"
   ]
  },
  {
   "cell_type": "code",
   "execution_count": 26,
   "id": "dfba5fc6-3392-4079-891f-7988113b4c1b",
   "metadata": {},
   "outputs": [
    {
     "data": {
      "text/plain": [
       "labelsToDrop = Array(label_arr_delay_filled, label_nas_delay_filled, label_weather_delay_filled, label_weather_delay_was_missing, label_nas_delay_was_missing, label_arr_delay_was_missing, label_is_early, label_total_weather_nas_delay, label_has_nas_delay, label_is_delayed_30min, label_is_delayed_60min, label_is_delayed_45min, label_is_delayed_90min, label_has_weather_delay, label_is_on_time, label_has_any_weather_nas_delay)\n",
       "flightData = [FL_DATE: string, OP_CARRIER_AIRLINE_ID: int ... 61 more fields]\n"
      ]
     },
     "metadata": {},
     "output_type": "display_data",
     "source": "user"
    },
    {
     "data": {
      "text/plain": [
       "[FL_DATE: string, OP_CARRIER_AIRLINE_ID: int ... 61 more fields]"
      ]
     },
     "execution_count": 26,
     "metadata": {},
     "output_type": "execute_result"
    }
   ],
   "source": [
    "// Supposons que ton DataFrame s'appelle df\n",
    "val labelsToDrop = flightProcessedData.columns\n",
    "  .filter(colName => colName.startsWith(\"label_\") && colName != \"label_is_delayed_15min\")\n",
    "\n",
    "val flightData = flightProcessedData.drop(labelsToDrop: _*)"
   ]
  },
  {
   "cell_type": "code",
   "execution_count": 12,
   "id": "fb42705d-fbba-4de6-8492-6dc9bf7e65fa",
   "metadata": {},
   "outputs": [
    {
     "data": {
      "text/plain": [
       "filghtDataMetric = [name: string, origType: string ... 3 more fields]\n"
      ]
     },
     "metadata": {},
     "output_type": "display_data",
     "source": "user"
    },
    {
     "data": {
      "text/plain": [
       "[name: string, origType: string ... 3 more fields]"
      ]
     },
     "execution_count": 12,
     "metadata": {},
     "output_type": "execute_result"
    }
   ],
   "source": [
    "val filghtDataMetric = DataQualityMetrics.metrics(flightData)"
   ]
  },
  {
   "cell_type": "code",
   "execution_count": 14,
   "id": "e05fe9e5-6095-4342-80ab-5239a3b26231",
   "metadata": {},
   "outputs": [
    {
     "name": "stdout",
     "output_type": "stream",
     "text": [
      "+--------------------+-------------+-------+----------+----------------+\n",
      "|                name|     origType|colType| compRatio|nbDistinctValues|\n",
      "+--------------------+-------------+-------+----------+----------------+\n",
      "|             FL_DATE|   StringType|textual|       1.0|              31|\n",
      "|OP_CARRIER_AIRLIN...|  IntegerType|numeric|       1.0|              15|\n",
      "|   OP_CARRIER_FL_NUM|   StringType|textual|       1.0|            6237|\n",
      "|   ORIGIN_AIRPORT_ID|  IntegerType|numeric|       1.0|             287|\n",
      "|     DEST_AIRPORT_ID|  IntegerType|numeric|       1.0|             287|\n",
      "|        CRS_DEP_TIME|  IntegerType|numeric|       1.0|            1153|\n",
      "|       ARR_DELAY_NEW|   DoubleType|numeric|       1.0|             486|\n",
      "|    CRS_ELAPSED_TIME|   DoubleType|numeric|       1.0|             418|\n",
      "|       WEATHER_DELAY|   DoubleType|numeric|0.14821951|             278|\n",
      "|           NAS_DELAY|   DoubleType|numeric|0.14821951|             282|\n",
      "|feature_departure...|  IntegerType|numeric|       1.0|              60|\n",
      "|feature_flight_da...|  IntegerType|numeric|       1.0|               7|\n",
      "|feature_departure...|   DoubleType|numeric|       1.0|            1153|\n",
      "|feature_flight_ti...|TimestampType|   date|       1.0|              31|\n",
      "|feature_flight_qu...|   StringType|textual|       1.0|               1|\n",
      "|feature_departure...|  IntegerType|numeric|       1.0|              24|\n",
      "|feature_minutes_s...|   DoubleType|numeric|       1.0|            1153|\n",
      "|feature_departure...|  IntegerType|numeric|       1.0|               4|\n",
      "|feature_flight_month|  IntegerType|numeric|       1.0|               1|\n",
      "| feature_flight_year|  IntegerType|numeric|       1.0|               1|\n",
      "|feature_flight_da...|  IntegerType|numeric|       1.0|              31|\n",
      "|feature_flight_qu...|  IntegerType|numeric|       1.0|               1|\n",
      "|feature_flight_we...|  IntegerType|numeric|       1.0|               6|\n",
      "|feature_flight_da...|  IntegerType|numeric|       1.0|              31|\n",
      "|feature_departure...|   StringType|textual|       1.0|               4|\n",
      "|feature_departure...|   StringType|textual|       1.0|               8|\n",
      "|feature_distance_...|   DoubleType|numeric|       1.0|             417|\n",
      "|feature_distance_...|   StringType|textual|       1.0|               4|\n",
      "|feature_carrier_hash|  IntegerType|numeric|       1.0|              15|\n",
      "|    feature_route_id|   StringType|textual|       1.0|            2033|\n",
      "|feature_is_likely...|  IntegerType|numeric|       1.0|               2|\n",
      "|feature_is_roundt...|  IntegerType|numeric|       1.0|               2|\n",
      "|feature_flight_un...|   StringType|textual|       1.0|          477960|\n",
      "|   feature_is_summer|  IntegerType|numeric|       1.0|               1|\n",
      "|   feature_is_monday|  IntegerType|numeric|       1.0|               2|\n",
      "|feature_is_evenin...|  IntegerType|numeric|       1.0|               2|\n",
      "|feature_is_month_...|  IntegerType|numeric|       1.0|               2|\n",
      "|feature_is_extend...|  IntegerType|numeric|       1.0|               2|\n",
      "|   feature_is_winter|  IntegerType|numeric|       1.0|               1|\n",
      "|   feature_is_friday|  IntegerType|numeric|       1.0|               2|\n",
      "|   feature_is_spring|  IntegerType|numeric|       1.0|               1|\n",
      "|  feature_is_weekend|  IntegerType|numeric|       1.0|               2|\n",
      "|feature_is_holida...|  IntegerType|numeric|       1.0|               1|\n",
      "|     feature_is_fall|  IntegerType|numeric|       1.0|               1|\n",
      "|feature_is_early_...|  IntegerType|numeric|       1.0|               2|\n",
      "|feature_is_mornin...|  IntegerType|numeric|       1.0|               2|\n",
      "|feature_is_busine...|  IntegerType|numeric|       1.0|               2|\n",
      "|feature_is_night_...|  IntegerType|numeric|       1.0|               2|\n",
      "|feature_is_month_end|  IntegerType|numeric|       1.0|               2|\n",
      "|feature_origin_co...|   DoubleType|numeric|       1.0|              99|\n",
      "|feature_is_westbound|  IntegerType|numeric|       1.0|               2|\n",
      "|feature_dest_comp...|   DoubleType|numeric|       1.0|              99|\n",
      "|feature_dest_is_m...|  IntegerType|numeric|       1.0|               2|\n",
      "|feature_is_eastbound|  IntegerType|numeric|       1.0|               2|\n",
      "|feature_timezone_...|  IntegerType|numeric|       1.0|              10|\n",
      "|feature_origin_is...|  IntegerType|numeric|       1.0|               2|\n",
      "|feature_is_hub_to...|  IntegerType|numeric|       1.0|               2|\n",
      "|feature_flights_o...|     LongType|  other|       1.0|             621|\n",
      "|feature_carrier_f...|     LongType|  other|       1.0|              15|\n",
      "|feature_origin_ai...|     LongType|  other|       1.0|             245|\n",
      "|feature_route_pop...|   StringType|textual|       1.0|               3|\n",
      "|feature_carrier_s...|   StringType|textual|       1.0|               1|\n",
      "|label_is_delayed_...|  IntegerType|numeric|       1.0|               2|\n",
      "+--------------------+-------------+-------+----------+----------------+\n",
      "\n"
     ]
    }
   ],
   "source": [
    "filghtDataMetric.show(100)"
   ]
  },
  {
   "cell_type": "code",
   "execution_count": 19,
   "id": "c0fc5fa5-8253-403e-b1a3-54b308b335f2",
   "metadata": {},
   "outputs": [
    {
     "name": "stdout",
     "output_type": "stream",
     "text": [
      "FL_DATE\n",
      "OP_CARRIER_FL_NUM\n",
      "feature_flight_quarter_name\n",
      "feature_departure_quarter_name\n",
      "feature_departure_time_period\n",
      "feature_distance_category\n",
      "feature_route_id\n",
      "feature_flight_unique_id\n",
      "feature_route_popularity_score\n",
      "feature_carrier_size_category\n"
     ]
    },
    {
     "data": {
      "text/plain": [
       "textCols = Array(FL_DATE, OP_CARRIER_FL_NUM, feature_flight_quarter_name, feature_departure_quarter_name, feature_departure_time_period, feature_distance_category, feature_route_id, feature_flight_unique_id, feature_route_popularity_score, feature_carrier_size_category)\n"
      ]
     },
     "metadata": {},
     "output_type": "display_data",
     "source": "user"
    },
    {
     "data": {
      "text/plain": [
       "Array(FL_DATE, OP_CARRIER_FL_NUM, feature_flight_quarter_name, feature_departure_quarter_name, feature_departure_time_period, feature_distance_category, feature_route_id, feature_flight_unique_id, feature_route_popularity_score, feature_carrier_size_category)"
      ]
     },
     "execution_count": 19,
     "metadata": {},
     "output_type": "execute_result"
    }
   ],
   "source": [
    "import org.apache.spark.sql.functions.col\n",
    "\n",
    "val textCols = filghtDataMetric.filter(col(\"colType\").contains(DataQualityMetrics._text)).select(\"name\").rdd.flatMap(x=>x.toSeq).map(x=>x.toString).collect\n",
    "textCols.foreach(println)"
   ]
  },
  {
   "cell_type": "code",
   "execution_count": 21,
   "id": "882afda1-f6ca-4deb-85c1-8b36305892e4",
   "metadata": {},
   "outputs": [
    {
     "name": "stdout",
     "output_type": "stream",
     "text": [
      "OP_CARRIER_AIRLINE_ID\n",
      "ORIGIN_AIRPORT_ID\n",
      "DEST_AIRPORT_ID\n",
      "CRS_DEP_TIME\n",
      "ARR_DELAY_NEW\n",
      "CRS_ELAPSED_TIME\n",
      "WEATHER_DELAY\n",
      "NAS_DELAY\n",
      "feature_departure_minute\n",
      "feature_flight_day_of_week\n",
      "feature_departure_hour_decimal\n",
      "feature_departure_hour\n",
      "feature_minutes_since_midnight\n",
      "feature_departure_quarter_day\n",
      "feature_flight_month\n",
      "feature_flight_year\n",
      "feature_flight_day_of_year\n",
      "feature_flight_quarter\n",
      "feature_flight_week_of_year\n",
      "feature_flight_day_of_month\n",
      "feature_distance_score\n",
      "feature_carrier_hash\n",
      "feature_is_likely_domestic\n",
      "feature_is_roundtrip_candidate\n",
      "feature_is_summer\n",
      "feature_is_monday\n",
      "feature_is_evening_rush\n",
      "feature_is_month_start\n",
      "feature_is_extended_weekend\n",
      "feature_is_winter\n",
      "feature_is_friday\n",
      "feature_is_spring\n",
      "feature_is_weekend\n",
      "feature_is_holiday_season\n",
      "feature_is_fall\n",
      "feature_is_early_morning\n",
      "feature_is_morning_rush\n",
      "feature_is_business_hours\n",
      "feature_is_night_flight\n",
      "feature_is_month_end\n",
      "feature_origin_complexity_score\n",
      "feature_is_westbound\n",
      "feature_dest_complexity_score\n",
      "feature_dest_is_major_hub\n",
      "feature_is_eastbound\n",
      "feature_timezone_diff_proxy\n",
      "feature_origin_is_major_hub\n",
      "feature_is_hub_to_hub\n"
     ]
    },
    {
     "data": {
      "text/plain": [
       "target = label_is_delayed_15min\n",
       "numericCols = Array(OP_CARRIER_AIRLINE_ID, ORIGIN_AIRPORT_ID, DEST_AIRPORT_ID, CRS_DEP_TIME, ARR_DELAY_NEW, CRS_ELAPSED_TIME, WEATHER_DELAY, NAS_DELAY, feature_departure_minute, feature_flight_day_of_week, feature_departure_hour_decimal, feature_departure_hour, feature_minutes_since_midnight, feature_departure_quarter_day, feature_flight_month, feature_flight_year, feature_flight_day_of_year, feature_flight_quarter, feature_flight_week_of_year, feature_flight_day_of_month, feature_distance_score, feature_carrier_hash, feature_is_likely_domestic, feature_is_roundtrip_candidate, feature_is_summer, feature_is_monday, feature_is_evening_rush, feature_is_month_start, feature_is_extended_weekend, feature_is_winter, feature_is_friday, feat...\n"
      ]
     },
     "metadata": {},
     "output_type": "display_data",
     "source": "user"
    },
    {
     "data": {
      "text/plain": [
       "Array(OP_CARRIER_AIRLINE_ID, ORIGIN_AIRPORT_ID, DEST_AIRPORT_ID, CRS_DEP_TIME, ARR_DELAY_NEW, CRS_ELAPSED_TIME, WEATHER_DELAY, NAS_DELAY, feature_departure_minute, feature_flight_day_of_week, feature_departure_hour_decimal, feature_departure_hour, feature_minutes_since_midnight, feature_departure_quarter_day, feature_flight_month, feature_flight_year, feature_flight_day_of_year, feature_flight_quarter, feature_flight_week_of_year, feature_flight_day_of_month, feature_distance_score, feature_carrier_hash, feature_is_likely_domestic, feature_is_roundtrip_candidate, feature_is_summer, feature_is_monday, feature_is_evening_rush, feature_is_month_start, feature_is_extended_weekend, feature_is_winter, feature_is_friday, feat..."
      ]
     },
     "execution_count": 21,
     "metadata": {},
     "output_type": "execute_result"
    }
   ],
   "source": [
    "val target = \"label_is_delayed_15min\"\n",
    "val numericCols = filghtDataMetric.filter(col(\"colType\").contains(DataQualityMetrics._numeric)).filter(!col(\"name\").contains(target))\n",
    "  .select(\"name\").rdd.flatMap(x=>x.toSeq).map(x=>x.toString).collect\n",
    "numericCols.foreach(println)"
   ]
  },
  {
   "cell_type": "code",
   "execution_count": 23,
   "id": "864f1ee2-e728-44ce-a802-45eb5cbf0858",
   "metadata": {},
   "outputs": [
    {
     "name": "stdout",
     "output_type": "stream",
     "text": [
      "root\n",
      " |-- features: vector (nullable = true)\n",
      " |-- label: double (nullable = false)\n",
      "\n",
      "+--------------------+-----+\n",
      "|            features|label|\n",
      "+--------------------+-----+\n",
      "|[3.0,3367.0,0.0,0...|  1.0|\n",
      "|(58,[0,1,4,6,7,10...|  1.0|\n",
      "|(58,[1,6,7,10,11,...|  1.0|\n",
      "|(58,[0,1,4,6,7,10...|  1.0|\n",
      "|[25.0,4649.0,0.0,...|  1.0|\n",
      "+--------------------+-----+\n",
      "only showing top 5 rows\n",
      "\n"
     ]
    },
    {
     "data": {
      "text/plain": [
       "maxCat = 32\n",
       "handleInvalid = skip\n",
       "pipeline = com.flightdelay.features.pipelines.BasicAutoPipeline@71464065\n",
       "extractedData = [features: vector, label: double]\n"
      ]
     },
     "metadata": {},
     "output_type": "display_data",
     "source": "user"
    },
    {
     "data": {
      "text/plain": [
       "[features: vector, label: double]"
      ]
     },
     "execution_count": 23,
     "metadata": {},
     "output_type": "execute_result"
    }
   ],
   "source": [
    "import com.flightdelay.features.pipelines.BasicAutoPipeline\n",
    "\n",
    "val maxCat = 32\n",
    "val handleInvalid = \"skip\"\n",
    "\n",
    "val pipeline = new BasicAutoPipeline(textCols,numericCols,target,maxCat,handleInvalid)\n",
    "val extractedData = pipeline.fit(flightData)\n",
    "\n",
    "extractedData.printSchema\n",
    "extractedData.show(5)"
   ]
  },
  {
   "cell_type": "code",
   "execution_count": 27,
   "id": "6bd0957d-d42b-4d86-ac5a-ec6af7338a59",
   "metadata": {},
   "outputs": [
    {
     "name": "stdout",
     "output_type": "stream",
     "text": [
      "root\n",
      " |-- features: vector (nullable = true)\n",
      " |-- label: double (nullable = false)\n",
      "\n",
      "+--------------------+-----+\n",
      "|            features|label|\n",
      "+--------------------+-----+\n",
      "|[3.0,3367.0,0.0,0...|  1.0|\n",
      "|(58,[0,1,4,6,7,10...|  1.0|\n",
      "|(58,[1,6,7,10,11,...|  1.0|\n",
      "|(58,[0,1,4,6,7,10...|  1.0|\n",
      "|[25.0,4649.0,0.0,...|  1.0|\n",
      "+--------------------+-----+\n",
      "only showing top 5 rows\n",
      "\n"
     ]
    },
    {
     "data": {
      "text/plain": [
       "target = label_is_delayed_15min\n",
       "extractedData2 = [features: vector, label: double]\n"
      ]
     },
     "metadata": {},
     "output_type": "display_data",
     "source": "user"
    },
    {
     "data": {
      "text/plain": [
       "[features: vector, label: double]"
      ]
     },
     "execution_count": 27,
     "metadata": {},
     "output_type": "execute_result"
    }
   ],
   "source": [
    "import com.flightdelay.features.FlightFeatureExtractor\n",
    "\n",
    "val target = \"label_is_delayed_15min\"\n",
    "val extractedData2 = FlightFeatureExtractor.extract(flightData, target)\n",
    "\n",
    "extractedData2.printSchema\n",
    "extractedData2.show(5)"
   ]
  },
  {
   "cell_type": "code",
   "execution_count": null,
   "id": "eb620335-c903-4ff4-b265-8dcf5252ca41",
   "metadata": {},
   "outputs": [],
   "source": []
  }
 ],
 "metadata": {
  "kernelspec": {
   "display_name": "apache_toree_scala - Scala",
   "language": "scala",
   "name": "apache_toree_scala_scala"
  },
  "language_info": {
   "codemirror_mode": "text/x-scala",
   "file_extension": ".scala",
   "mimetype": "text/x-scala",
   "name": "scala",
   "pygments_lexer": "scala",
   "version": "2.12.15"
  }
 },
 "nbformat": 4,
 "nbformat_minor": 5
}
