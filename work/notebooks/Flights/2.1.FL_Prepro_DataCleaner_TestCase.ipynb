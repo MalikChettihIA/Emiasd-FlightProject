{
 "cells": [
  {
   "cell_type": "markdown",
   "id": "bc5bd4c2-628f-4e29-a0d7-163c5296e57c",
   "metadata": {},
   "source": [
    "# Flight Preprocessing - Cleaning"
   ]
  },
  {
   "cell_type": "code",
   "execution_count": 1,
   "id": "88c94428-dbc0-4a56-a9c2-a79ea02d6a5c",
   "metadata": {},
   "outputs": [
    {
     "name": "stdout",
     "output_type": "stream",
     "text": [
      "Starting download from file:///home/jovyan/work/apps/Emiasd-Flight-Data-Analysis.jar\n",
      "Finished download of Emiasd-Flight-Data-Analysis.jar\n",
      "Using cached version of Emiasd-Flight-Data-Analysis.jar\n"
     ]
    }
   ],
   "source": [
    "%AddJar file:///home/jovyan/work/apps/Emiasd-Flight-Data-Analysis.jar"
   ]
  },
  {
   "cell_type": "code",
   "execution_count": 2,
   "id": "42e5025a-6a95-41ac-a937-a9e04f240204",
   "metadata": {},
   "outputs": [
    {
     "name": "stdout",
     "output_type": "stream",
     "text": [
      "\n",
      "\n",
      "----------------------------------------------------------------------------------------------------------\n",
      "--> [FlightDataLoader] Flight Data Loading - Start ...\n",
      "--> 486133 loaded ...\n",
      "root\n",
      " |-- FL_DATE: date (nullable = true)\n",
      " |-- OP_CARRIER_AIRLINE_ID: integer (nullable = true)\n",
      " |-- OP_CARRIER_FL_NUM: integer (nullable = true)\n",
      " |-- ORIGIN_AIRPORT_ID: integer (nullable = true)\n",
      " |-- DEST_AIRPORT_ID: integer (nullable = true)\n",
      " |-- CRS_DEP_TIME: integer (nullable = true)\n",
      " |-- ARR_DELAY_NEW: double (nullable = true)\n",
      " |-- CANCELLED: double (nullable = true)\n",
      " |-- DIVERTED: double (nullable = true)\n",
      " |-- CRS_ELAPSED_TIME: double (nullable = true)\n",
      " |-- WEATHER_DELAY: double (nullable = true)\n",
      " |-- NAS_DELAY: double (nullable = true)\n",
      "\n",
      "+----------+---------------------+-----------------+-----------------+---------------+------------+-------------+---------+--------+----------------+-------------+---------+\n",
      "|   FL_DATE|OP_CARRIER_AIRLINE_ID|OP_CARRIER_FL_NUM|ORIGIN_AIRPORT_ID|DEST_AIRPORT_ID|CRS_DEP_TIME|ARR_DELAY_NEW|CANCELLED|DIVERTED|CRS_ELAPSED_TIME|WEATHER_DELAY|NAS_DELAY|\n",
      "+----------+---------------------+-----------------+-----------------+---------------+------------+-------------+---------+--------+----------------+-------------+---------+\n",
      "|2012-01-01|                20366|             4426|            15370|          12266|         845|          0.0|      0.0|     0.0|            99.0|         NULL|     NULL|\n",
      "|2012-01-01|                20366|             4427|            12266|          15370|         858|          0.0|      0.0|     0.0|            88.0|         NULL|     NULL|\n",
      "|2012-01-01|                20366|             4427|            15370|          12266|        1051|          0.0|      0.0|     0.0|            89.0|         NULL|     NULL|\n",
      "|2012-01-01|                20366|             4428|            12266|          15370|        1125|         31.0|      0.0|     0.0|            87.0|          0.0|      2.0|\n",
      "|2012-01-01|                20366|             4428|            15370|          12266|        1319|         21.0|      0.0|     0.0|            96.0|          0.0|      0.0|\n",
      "|2012-01-01|                20366|             4429|            12266|          15370|        1328|          0.0|      0.0|     0.0|            94.0|         NULL|     NULL|\n",
      "|2012-01-01|                20366|             4429|            15370|          12266|        1527|          0.0|      0.0|     0.0|            97.0|         NULL|     NULL|\n",
      "|2012-01-01|                20366|             4430|            12266|          15370|        1449|         10.0|      0.0|     0.0|            89.0|         NULL|     NULL|\n",
      "|2012-01-01|                20366|             4430|            15370|          12266|        1643|          0.0|      0.0|     0.0|            98.0|         NULL|     NULL|\n",
      "|2012-01-01|                20366|             4431|            12266|          15370|        1920|         55.0|      0.0|     0.0|            91.0|          0.0|      0.0|\n",
      "+----------+---------------------+-----------------+-----------------+---------------+------------+-------------+---------+--------+----------------+-------------+---------+\n",
      "only showing top 10 rows\n",
      "\n",
      "--> [FlightDataLoader] Flight Data Loading - End ...\n",
      "----------------------------------------------------------------------------------------------------------\n",
      "\n",
      "\n"
     ]
    },
    {
     "data": {
      "text/plain": [
       "args = Array(local)\n",
       "spark = org.apache.spark.sql.SparkSession@345dd9ce\n",
       "session = org.apache.spark.sql.SparkSession@345dd9ce\n",
       "configuration = AppConfiguration(local,DataConfig(/data,FileConfig(/data/FLIGHT-3Y/Flights/201201.csv),FileConfig(/data/FLIGHT-3Y/Weather/201201hourly.txt),FileConfig(/data/FLIGHT-3Y/wban_airport_timezone.csv)),OutputConfig(/output,FileConfig(/output/data),FileConfig(/output/model)))\n",
       "flightFilePath = ../../data/FLIGHT-3Y/Flights/201201.csv\n"
      ]
     },
     "metadata": {},
     "output_type": "display_data",
     "source": "user"
    },
    {
     "data": {
      "text/plain": [
       "flightData: org.apache.spark.sql....\n"
      ]
     },
     "metadata": {},
     "output_type": "display_data",
     "source": "user"
    },
    {
     "data": {
      "text/plain": [
       "../../data/FLIGHT-3Y/Flights/201201.csv"
      ]
     },
     "execution_count": 2,
     "metadata": {},
     "output_type": "execute_result"
    }
   ],
   "source": [
    "import org.apache.spark.sql.SparkSession\n",
    "import com.flightdelay.config.{AppConfiguration, ConfigurationLoader}\n",
    "import com.flightdelay.data.loaders.FlightDataLoader\n",
    "\n",
    "//Env Configuration\n",
    "val args: Array[String] = Array(\"local\")\n",
    "\n",
    "val spark = SparkSession.builder()\n",
    "  .config(sc.getConf)\n",
    "  .getOrCreate()\n",
    "\n",
    "// Rendre la session Spark implicite\n",
    "implicit val session = spark\n",
    "implicit val configuration: AppConfiguration = ConfigurationLoader.loadConfiguration(args)\n",
    "\n",
    "// Cellule 4: Test\n",
    "val flightFilePath = \"../../data/FLIGHT-3Y/Flights/201201.csv\"\n",
    "val flightData = FlightDataLoader.loadFromFilePath(flightFilePath)"
   ]
  },
  {
   "cell_type": "code",
   "execution_count": 3,
   "id": "f1a6f9f6-c737-41b7-a5ce-57612dda79b7",
   "metadata": {},
   "outputs": [
    {
     "name": "stdout",
     "output_type": "stream",
     "text": [
      "+--------------------+-----------+-------+----------+----------------+\n",
      "|                name|   origType|colType| compRatio|nbDistinctValues|\n",
      "+--------------------+-----------+-------+----------+----------------+\n",
      "|             FL_DATE|   DateType|   date|       1.0|              31|\n",
      "|OP_CARRIER_AIRLIN...|IntegerType|numeric|       1.0|              15|\n",
      "|   OP_CARRIER_FL_NUM|IntegerType|numeric|       1.0|            6237|\n",
      "|   ORIGIN_AIRPORT_ID|IntegerType|numeric|       1.0|             287|\n",
      "|     DEST_AIRPORT_ID|IntegerType|numeric|       1.0|             287|\n",
      "|        CRS_DEP_TIME|IntegerType|numeric|       1.0|            1153|\n",
      "|       ARR_DELAY_NEW| DoubleType|numeric| 0.9833214|             549|\n",
      "|           CANCELLED| DoubleType|numeric|       1.0|               2|\n",
      "|            DIVERTED| DoubleType|numeric|       1.0|               2|\n",
      "|    CRS_ELAPSED_TIME| DoubleType|numeric|       1.0|             419|\n",
      "|       WEATHER_DELAY| DoubleType|numeric|0.14586131|             288|\n",
      "|           NAS_DELAY| DoubleType|numeric|0.14586131|             283|\n",
      "+--------------------+-----------+-------+----------+----------------+\n",
      "\n"
     ]
    },
    {
     "data": {
      "text/plain": [
       "flightDataMetrics = [name: string, origType: string ... 3 more fields]\n"
      ]
     },
     "metadata": {},
     "output_type": "display_data",
     "source": "user"
    },
    {
     "data": {
      "text/plain": [
       "[name: string, origType: string ... 3 more fields]"
      ]
     },
     "execution_count": 3,
     "metadata": {},
     "output_type": "execute_result"
    }
   ],
   "source": [
    "import com.flightdelay.data.utils.DataQualityMetrics\n",
    "\n",
    "val flightDataMetrics = DataQualityMetrics.metrics(flightData)\n",
    "flightDataMetrics.show()"
   ]
  },
  {
   "cell_type": "code",
   "execution_count": 4,
   "id": "f50bf716-a979-4597-b1f0-2103d27473d4",
   "metadata": {},
   "outputs": [
    {
     "name": "stdout",
     "output_type": "stream",
     "text": [
      "\n",
      "\n",
      "----------------------------------------------------------------------------------------------------------\n",
      "--> [FlightDataCleaner] Flight Data Cleaner - Start ...\n",
      "----------------------------------------------------------------------------------------------------------\n",
      "Data Original Count: 486133\n",
      "\n",
      "Phase 1: Basic Cleaning - Remove Duplicates\n",
      "Current Count : 486133\n",
      "\n",
      "Phase 2: Filter Flights\n",
      "- Filter Cancelled and Diverted Flights\n",
      "Suppression des valeurs spécifiques: Map(CANCELLED -> List(1.0), DIVERTED -> List(1.0))\n",
      "Nombre de lignes avant: 486133\n",
      "Nombre de lignes après suppression des valeurs spécifiques: 478025\n",
      "- Filter Invalid departure time\n",
      "- Filter Invalid airports\n",
      "Current Count : 478025\n",
      "\n",
      "Phase 3: Types Conversion\n",
      "Conversion des types de données: NAS_DELAY, OP_CARRIER_AIRLINE_ID, OP_CARRIER_FL_NUM, WEATHER_DELAY, DEST_AIRPORT_ID, ORIGIN_AIRPORT_ID, CRS_ELAPSED_TIME, FL_DATE, CRS_DEP_TIME, ARR_DELAY_NEW\n",
      "- Filter Invalid flight date formats\n",
      "Current Count : 478025\n",
      "\n",
      "Phase 4: Filter Outliers\n",
      "- Filter delay > 10 hours = 600 minutes\n",
      "- Filter filght time > entre 10 minutes et 24 hours\n",
      "Current Count : 477960\n",
      "\n",
      "Phase 5: Final Validation\n",
      "Final Validation succeeded: 477960 flights\n",
      "\n",
      "=== Flight Cleaning Summary ===\n",
      "Original Count: 486133\n",
      "Final Count: 477960\n",
      "Cleaned: 8173\n",
      "Reduction Percentage: 2%\n",
      "\n",
      "--> [FlightDataCleaner] Flight Data Cleaner- End ...\n",
      "----------------------------------------------------------------------------------------------------------\n",
      "\n",
      "\n"
     ]
    },
    {
     "data": {
      "text/plain": [
       "flightCleanedData = [FL_DATE: string, OP_CARRIER_AIRLINE_ID: int ... 8 more fields]\n"
      ]
     },
     "metadata": {},
     "output_type": "display_data",
     "source": "user"
    },
    {
     "data": {
      "text/plain": [
       "[FL_DATE: string, OP_CARRIER_AIRLINE_ID: int ... 8 more fields]"
      ]
     },
     "execution_count": 4,
     "metadata": {},
     "output_type": "execute_result"
    }
   ],
   "source": [
    "import com.flightdelay.data.preprocessing.FlightDataCleaner\n",
    "\n",
    "val flightCleanedData = FlightDataCleaner.preprocess(flightData)"
   ]
  },
  {
   "cell_type": "code",
   "execution_count": 5,
   "id": "99f240d1-3e1c-4914-aef6-37e0f8fd50de",
   "metadata": {},
   "outputs": [
    {
     "name": "stdout",
     "output_type": "stream",
     "text": [
      "+--------------------+-----------+-------+----------+----------------+\n",
      "|                name|   origType|colType| compRatio|nbDistinctValues|\n",
      "+--------------------+-----------+-------+----------+----------------+\n",
      "|             FL_DATE| StringType|textual|       1.0|              31|\n",
      "|OP_CARRIER_AIRLIN...|IntegerType|numeric|       1.0|              15|\n",
      "|   OP_CARRIER_FL_NUM| StringType|textual|       1.0|            6237|\n",
      "|   ORIGIN_AIRPORT_ID|IntegerType|numeric|       1.0|             287|\n",
      "|     DEST_AIRPORT_ID|IntegerType|numeric|       1.0|             287|\n",
      "|        CRS_DEP_TIME|IntegerType|numeric|       1.0|            1153|\n",
      "|       ARR_DELAY_NEW| DoubleType|numeric|       1.0|             486|\n",
      "|    CRS_ELAPSED_TIME| DoubleType|numeric|       1.0|             418|\n",
      "|       WEATHER_DELAY| DoubleType|numeric|0.14821951|             278|\n",
      "|           NAS_DELAY| DoubleType|numeric|0.14821951|             282|\n",
      "+--------------------+-----------+-------+----------+----------------+\n",
      "\n"
     ]
    },
    {
     "data": {
      "text/plain": [
       "flightCleanedDataMetrics = [name: string, origType: string ... 3 more fields]\n"
      ]
     },
     "metadata": {},
     "output_type": "display_data",
     "source": "user"
    },
    {
     "data": {
      "text/plain": [
       "[name: string, origType: string ... 3 more fields]"
      ]
     },
     "execution_count": 5,
     "metadata": {},
     "output_type": "execute_result"
    }
   ],
   "source": [
    "import com.flightdelay.data.utils.DataQualityMetrics\n",
    "\n",
    "val flightCleanedDataMetrics = DataQualityMetrics.metrics(flightCleanedData)\n",
    "flightCleanedDataMetrics.show()"
   ]
  },
  {
   "cell_type": "code",
   "execution_count": null,
   "id": "5108a76a-cd50-4c24-9667-d8ee3cf8754b",
   "metadata": {},
   "outputs": [],
   "source": []
  }
 ],
 "metadata": {
  "kernelspec": {
   "display_name": "apache_toree_scala - Scala",
   "language": "scala",
   "name": "apache_toree_scala_scala"
  },
  "language_info": {
   "codemirror_mode": "text/x-scala",
   "file_extension": ".scala",
   "mimetype": "text/x-scala",
   "name": "scala",
   "pygments_lexer": "scala",
   "version": "2.12.15"
  }
 },
 "nbformat": 4,
 "nbformat_minor": 5
}
