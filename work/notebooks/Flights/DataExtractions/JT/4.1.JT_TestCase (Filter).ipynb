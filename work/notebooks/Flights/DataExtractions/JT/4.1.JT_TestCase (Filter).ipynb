{
 "cells": [
  {
   "cell_type": "markdown",
   "id": "88b9b4e7-f711-4832-8798-501c1b052275",
   "metadata": {},
   "source": [
    "# Jointure MapReduce"
   ]
  },
  {
   "cell_type": "code",
   "execution_count": 1,
   "id": "d243dd12-14c2-459d-9cbf-032e0ad38481",
   "metadata": {},
   "outputs": [
    {
     "name": "stdout",
     "output_type": "stream",
     "text": [
      "Using cached version of Emiasd-Flight-Data-Analysis.jar\n"
     ]
    },
    {
     "data": {
      "text/plain": [
       "error: error while loading FlightDataLoader, class file '/tmp/toree-tmp-dir14488093077525536507/toree_add_jars/Emiasd-Flight-Data-Analysis.jar(com/flightdelay/data/loaders/FlightDataLoader.class)' has location not matching its contents: contains class FlightDataLoader\n"
      ]
     },
     "metadata": {},
     "output_type": "display_data",
     "source": "user"
    },
    {
     "name": "stdout",
     "output_type": "stream",
     "text": [
      "Using cached version of Emiasd-Flight-Data-Analysis.jar\n"
     ]
    }
   ],
   "source": [
    "%AddJar file:///home/jovyan/work/apps/Emiasd-Flight-Data-Analysis.jar"
   ]
  },
  {
   "cell_type": "code",
   "execution_count": 48,
   "id": "c1467791-f615-4d99-a001-5b50ede6638a",
   "metadata": {},
   "outputs": [
    {
     "data": {
      "text/plain": [
       "args = Array(juniper)\n",
       "spark = org.apache.spark.sql.SparkSession@708cf8ec\n",
       "session = org.apache.spark.sql.SparkSession@708cf8ec\n",
       "configuration = AppConfiguration(local,CommonConfig(42,DataConfig(/home/jovyan/work/data,FileConfig(/home/jovyan/work/data/FLIGHT-3Y/Flights/201201.csv),FileConfig(/home/jovyan/work/data/FLIGHT-3Y/Weather/201201hourly.txt),FileConfig(/home/jovyan/work/data/FLIGHT-3Y/wban_airport_timezone.csv)),OutputConfig(/home/jovyan...\n"
      ]
     },
     "metadata": {},
     "output_type": "display_data",
     "source": "user"
    },
    {
     "data": {
      "text/plain": [
       "AppConfiguration(local,CommonConfig(42,DataConfig(/home/jovyan/work/data,FileConfig(/home/jovyan/work/data/FLIGHT-3Y/Flights/201201.csv),FileConfig(/home/jovyan/work/data/FLIGHT-3Y/Weather/201201hourly.txt),FileConfig(/home/jovyan/work/data/FLIGHT-3Y/wban_airport_timezone.csv)),OutputConfig(/home/jovyan..."
      ]
     },
     "execution_count": 48,
     "metadata": {},
     "output_type": "execute_result"
    }
   ],
   "source": [
    "import org.apache.spark.sql.SparkSession\n",
    "import com.flightdelay.config.{AppConfiguration, ConfigurationLoader}\n",
    "import com.flightdelay.data.loaders.FlightDataLoader\n",
    "import org.apache.spark.sql.functions._\n",
    "import java.sql.Date\n",
    "\n",
    "//Env Configuration\n",
    "val args: Array[String] = Array(\"juniper\")\n",
    "\n",
    "val spark = SparkSession.builder()\n",
    "  .config(sc.getConf)\n",
    "  .getOrCreate()\n",
    "\n",
    "// Rendre la session Spark implicite\n",
    "implicit val session = spark\n",
    "implicit val configuration: AppConfiguration = ConfigurationLoader.loadConfiguration(args)"
   ]
  },
  {
   "cell_type": "markdown",
   "id": "b0e703a9-0253-4882-9f53-833a7387c631",
   "metadata": {},
   "source": [
    "# Chargement Flight et Weather"
   ]
  },
  {
   "cell_type": "code",
   "execution_count": 59,
   "id": "ca355c08-04d4-45f5-afb7-264dd6cd5d13",
   "metadata": {},
   "outputs": [
    {
     "data": {
      "text/plain": [
       "processedFlightPath = /home/jovyan/work/output/common/data/processed_flights.parquet\n",
       "flightDF = [FL_DATE: date, OP_CARRIER_AIRLINE_ID: int ... 109 more fields]\n",
       "processedWeatherPath = /home/jovyan/work/output/common/data/processed_weather.parquet\n",
       "weatherDF = [WBAN: string, Date: date ... 65 more fields]\n"
      ]
     },
     "metadata": {},
     "output_type": "display_data",
     "source": "user"
    },
    {
     "data": {
      "text/plain": [
       "[WBAN: string, Date: date ... 65 more fields]"
      ]
     },
     "execution_count": 59,
     "metadata": {},
     "output_type": "execute_result"
    }
   ],
   "source": [
    "// Chargement de Flight Data\n",
    "val processedFlightPath = s\"${configuration.common.output.basePath}/common/data/processed_flights.parquet\"\n",
    "val flightDF = spark.read.parquet(processedFlightPath)\n",
    "\n",
    "val processedWeatherPath = s\"${configuration.common.output.basePath}/common/data/processed_weather.parquet\"\n",
    "val weatherDF = spark.read.parquet(processedWeatherPath)\n",
    "\n"
   ]
  },
  {
   "cell_type": "code",
   "execution_count": 60,
   "id": "2de77a15-0e22-4e31-ad55-aa876e88be00",
   "metadata": {},
   "outputs": [
    {
     "name": "stdout",
     "output_type": "stream",
     "text": [
      "root\n",
      " |-- WBAN: string (nullable = true)\n",
      " |-- Date: date (nullable = true)\n",
      " |-- Time: string (nullable = true)\n",
      " |-- StationType: integer (nullable = true)\n",
      " |-- SkyCondition: string (nullable = true)\n",
      " |-- SkyConditionFlag: string (nullable = true)\n",
      " |-- Visibility: double (nullable = true)\n",
      " |-- VisibilityFlag: string (nullable = true)\n",
      " |-- WeatherType: string (nullable = true)\n",
      " |-- WeatherTypeFlag: string (nullable = true)\n",
      " |-- DryBulbFarenheit: double (nullable = true)\n",
      " |-- DryBulbFarenheitFlag: string (nullable = true)\n",
      " |-- DryBulbCelsius: double (nullable = true)\n",
      " |-- DryBulbCelsiusFlag: string (nullable = true)\n",
      " |-- WetBulbFarenheit: double (nullable = true)\n",
      " |-- WetBulbFarenheitFlag: string (nullable = true)\n",
      " |-- WetBulbCelsius: double (nullable = true)\n",
      " |-- WetBulbCelsiusFlag: string (nullable = true)\n",
      " |-- DewPointFarenheit: double (nullable = true)\n",
      " |-- DewPointFarenheitFlag: string (nullable = true)\n",
      " |-- DewPointCelsius: double (nullable = true)\n",
      " |-- DewPointCelsiusFlag: string (nullable = true)\n",
      " |-- RelativeHumidity: double (nullable = true)\n",
      " |-- RelativeHumidityFlag: string (nullable = true)\n",
      " |-- WindSpeed: double (nullable = true)\n",
      " |-- WindSpeedFlag: string (nullable = true)\n",
      " |-- WindDirection: double (nullable = true)\n",
      " |-- WindDirectionFlag: string (nullable = true)\n",
      " |-- ValueForWindCharacter: string (nullable = true)\n",
      " |-- ValueForWindCharacterFlag: string (nullable = true)\n",
      " |-- StationPressure: double (nullable = true)\n",
      " |-- StationPressureFlag: string (nullable = true)\n",
      " |-- PressureTendency: string (nullable = true)\n",
      " |-- PressureTendencyFlag: string (nullable = true)\n",
      " |-- PressureChange: double (nullable = true)\n",
      " |-- PressureChangeFlag: string (nullable = true)\n",
      " |-- SeaLevelPressure: string (nullable = true)\n",
      " |-- SeaLevelPressureFlag: string (nullable = true)\n",
      " |-- RecordType: string (nullable = true)\n",
      " |-- RecordTypeFlag: string (nullable = true)\n",
      " |-- HourlyPrecip: string (nullable = true)\n",
      " |-- HourlyPrecipFlag: string (nullable = true)\n",
      " |-- Altimeter: double (nullable = true)\n",
      " |-- AltimeterFlag: string (nullable = true)\n",
      " |-- feature_most_critical_sky: string (nullable = true)\n",
      " |-- feature_lowest_cloud_height: integer (nullable = true)\n",
      " |-- feature_ceiling: integer (nullable = true)\n",
      " |-- feature_num_cloud_layers: integer (nullable = true)\n",
      " |-- feature_cloud_risk_score: double (nullable = true)\n",
      " |-- feature_has_overcast: boolean (nullable = true)\n",
      " |-- feature_has_broken: boolean (nullable = true)\n",
      " |-- feature_has_obscured: boolean (nullable = true)\n",
      " |-- feature_is_clear: boolean (nullable = true)\n",
      " |-- feature_has_low_ceiling: boolean (nullable = true)\n",
      " |-- feature_visibility_miles: double (nullable = true)\n",
      " |-- feature_visibility_km: double (nullable = true)\n",
      " |-- feature_visibility_category: string (nullable = true)\n",
      " |-- feature_visibility_risk_score: double (nullable = true)\n",
      " |-- feature_is_low_visibility: boolean (nullable = true)\n",
      " |-- feature_is_very_low_visibility: boolean (nullable = true)\n",
      " |-- feature_visibility_normalized: double (nullable = true)\n",
      " |-- feature_visibility_inverse: double (nullable = true)\n",
      " |-- feature_weather_severity_index: double (nullable = true)\n",
      " |-- feature_is_vfr_conditions: boolean (nullable = true)\n",
      " |-- feature_is_ifr_conditions: boolean (nullable = true)\n",
      " |-- feature_requires_cat_ii: boolean (nullable = true)\n",
      " |-- feature_operations_risk_level: integer (nullable = true)\n",
      "\n"
     ]
    }
   ],
   "source": [
    "weatherDF.printSchema"
   ]
  },
  {
   "cell_type": "code",
   "execution_count": 61,
   "id": "b3209b50-149e-4bb2-a3d0-08f9d16056cf",
   "metadata": {},
   "outputs": [
    {
     "name": "stdout",
     "output_type": "stream",
     "text": [
      "root\n",
      " |-- FL_DATE: date (nullable = true)\n",
      " |-- OP_CARRIER_AIRLINE_ID: integer (nullable = true)\n",
      " |-- OP_CARRIER_FL_NUM: integer (nullable = true)\n",
      " |-- ORIGIN_AIRPORT_ID: integer (nullable = true)\n",
      " |-- DEST_AIRPORT_ID: integer (nullable = true)\n",
      " |-- CRS_DEP_TIME: integer (nullable = true)\n",
      " |-- ARR_DELAY_NEW: double (nullable = true)\n",
      " |-- CRS_ELAPSED_TIME: double (nullable = true)\n",
      " |-- WEATHER_DELAY: double (nullable = true)\n",
      " |-- NAS_DELAY: double (nullable = true)\n",
      " |-- ORIGIN_WBAN: string (nullable = true)\n",
      " |-- ORIGIN_TIMEZONE: integer (nullable = true)\n",
      " |-- DEST_WBAN: string (nullable = true)\n",
      " |-- DEST_TIMEZONE: integer (nullable = true)\n",
      " |-- UTC_CRS_DEP_TIME: string (nullable = true)\n",
      " |-- UTC_FL_DATE: date (nullable = true)\n",
      " |-- UTC_ARR_TIME: string (nullable = true)\n",
      " |-- UTC_ARR_DATE: date (nullable = true)\n",
      " |-- CRS_ARR_TIME: string (nullable = true)\n",
      " |-- CRS_ARR_DATE: date (nullable = true)\n",
      " |-- feature_arrival_hour: integer (nullable = true)\n",
      " |-- feature_utc_arrival_hour: integer (nullable = true)\n",
      " |-- feature_utc_arrival_hour_rounded: string (nullable = true)\n",
      " |-- feature_utc_arrival_date: string (nullable = true)\n",
      " |-- feature_crosses_midnight_local: integer (nullable = true)\n",
      " |-- feature_crosses_midnight_utc: integer (nullable = true)\n",
      " |-- feature_flight_days_span: integer (nullable = true)\n",
      " |-- feature_timezone_difference: integer (nullable = true)\n",
      " |-- feature_flies_eastward: integer (nullable = true)\n",
      " |-- feature_flies_westward: integer (nullable = true)\n",
      " |-- feature_departure_minute: integer (nullable = true)\n",
      " |-- feature_arrival_minutes_total: double (nullable = true)\n",
      " |-- feature_crosses_midnight: integer (nullable = true)\n",
      " |-- feature_flight_day_of_week: integer (nullable = true)\n",
      " |-- feature_departure_hour_decimal: double (nullable = true)\n",
      " |-- feature_flight_timestamp: timestamp (nullable = true)\n",
      " |-- feature_utc_departure_hour: integer (nullable = true)\n",
      " |-- feature_flight_quarter_name: string (nullable = true)\n",
      " |-- feature_utc_departure_hour_decimal: double (nullable = true)\n",
      " |-- feature_departure_hour: integer (nullable = true)\n",
      " |-- feature_minutes_since_midnight: double (nullable = true)\n",
      " |-- feature_departure_quarter_day: integer (nullable = true)\n",
      " |-- feature_flight_month: integer (nullable = true)\n",
      " |-- feature_utc_departure_hour_rounded: long (nullable = true)\n",
      " |-- feature_arrival_minute: integer (nullable = true)\n",
      " |-- feature_flight_year: integer (nullable = true)\n",
      " |-- feature_flight_day_of_year: integer (nullable = true)\n",
      " |-- feature_arrival_time: integer (nullable = true)\n",
      " |-- feature_flight_quarter: integer (nullable = true)\n",
      " |-- feature_arrival_hour_decimal: double (nullable = true)\n",
      " |-- feature_flight_week_of_year: integer (nullable = true)\n",
      " |-- feature_flight_day_of_month: integer (nullable = true)\n",
      " |-- feature_departure_quarter_name: string (nullable = true)\n",
      " |-- feature_departure_time_period: string (nullable = true)\n",
      " |-- feature_departure_hour_rounded: long (nullable = true)\n",
      " |-- feature_departure_minutes_total: double (nullable = true)\n",
      " |-- feature_arrival_hour_rounded: string (nullable = true)\n",
      " |-- feature_arrival_date: string (nullable = true)\n",
      " |-- feature_distance_score: double (nullable = true)\n",
      " |-- feature_distance_category: string (nullable = true)\n",
      " |-- feature_carrier_hash: integer (nullable = true)\n",
      " |-- feature_route_id: string (nullable = true)\n",
      " |-- feature_is_likely_domestic: integer (nullable = true)\n",
      " |-- feature_is_roundtrip_candidate: integer (nullable = true)\n",
      " |-- feature_flight_unique_id: string (nullable = true)\n",
      " |-- feature_is_summer: integer (nullable = true)\n",
      " |-- feature_is_monday: integer (nullable = true)\n",
      " |-- feature_is_evening_rush: integer (nullable = true)\n",
      " |-- feature_is_month_start: integer (nullable = true)\n",
      " |-- feature_is_extended_weekend: integer (nullable = true)\n",
      " |-- feature_is_winter: integer (nullable = true)\n",
      " |-- feature_is_friday: integer (nullable = true)\n",
      " |-- feature_is_spring: integer (nullable = true)\n",
      " |-- feature_is_weekend: integer (nullable = true)\n",
      " |-- feature_is_holiday_season: integer (nullable = true)\n",
      " |-- feature_is_fall: integer (nullable = true)\n",
      " |-- feature_is_early_morning: integer (nullable = true)\n",
      " |-- feature_is_morning_rush: integer (nullable = true)\n",
      " |-- feature_is_business_hours: integer (nullable = true)\n",
      " |-- feature_is_night_flight: integer (nullable = true)\n",
      " |-- feature_is_month_end: integer (nullable = true)\n",
      " |-- feature_origin_complexity_score: double (nullable = true)\n",
      " |-- feature_is_westbound: integer (nullable = true)\n",
      " |-- feature_dest_complexity_score: double (nullable = true)\n",
      " |-- feature_dest_is_major_hub: integer (nullable = true)\n",
      " |-- feature_is_eastbound: integer (nullable = true)\n",
      " |-- feature_timezone_diff_proxy: integer (nullable = true)\n",
      " |-- feature_origin_is_major_hub: integer (nullable = true)\n",
      " |-- feature_is_hub_to_hub: integer (nullable = true)\n",
      " |-- feature_flights_on_route: long (nullable = true)\n",
      " |-- feature_carrier_flight_count: long (nullable = true)\n",
      " |-- feature_origin_airport_traffic: long (nullable = true)\n",
      " |-- feature_route_popularity_score: string (nullable = true)\n",
      " |-- feature_carrier_size_category: string (nullable = true)\n",
      " |-- label_arr_delay_filled: double (nullable = true)\n",
      " |-- label_nas_delay_filled: double (nullable = true)\n",
      " |-- label_weather_delay_filled: double (nullable = true)\n",
      " |-- label_weather_delay_was_missing: integer (nullable = true)\n",
      " |-- label_nas_delay_was_missing: integer (nullable = true)\n",
      " |-- label_arr_delay_was_missing: integer (nullable = true)\n",
      " |-- label_is_early: integer (nullable = true)\n",
      " |-- label_total_weather_nas_delay: double (nullable = true)\n",
      " |-- label_is_delayed_15min: integer (nullable = true)\n",
      " |-- label_has_nas_delay: integer (nullable = true)\n",
      " |-- label_is_delayed_30min: integer (nullable = true)\n",
      " |-- label_is_delayed_60min: integer (nullable = true)\n",
      " |-- label_is_delayed_45min: integer (nullable = true)\n",
      " |-- label_is_delayed_90min: integer (nullable = true)\n",
      " |-- label_has_weather_delay: integer (nullable = true)\n",
      " |-- label_is_on_time: integer (nullable = true)\n",
      " |-- label_has_any_weather_nas_delay: integer (nullable = true)\n",
      "\n"
     ]
    }
   ],
   "source": [
    "flightDF.printSchema"
   ]
  },
  {
   "cell_type": "markdown",
   "id": "92745f19-b4ff-418b-8609-1db22e9b6c31",
   "metadata": {},
   "source": [
    "## Weather"
   ]
  },
  {
   "cell_type": "code",
   "execution_count": 1,
   "id": "37d803bd-46d5-4380-8a60-8e500d442ba1",
   "metadata": {},
   "outputs": [
    {
     "ename": "Unknown Error",
     "evalue": "<console>:34: error: not found: value weatherDF\n       val weatherData = weatherDF\n                         ^\n<console>:37: error: not found: value col\n           col(\"Date\") === Date.valueOf(\"2012-01-09\") &&\n           ^\n<console>:38: error: not found: value col\n           (col(\"WBAN\") === \"13869\" || col(\"WBAN\") === \"13874\")\n            ^\n<console>:38: error: not found: value col\n           (col(\"WBAN\") === \"13869\" || col(\"WBAN\") === \"13874\")\n                                       ^\n",
     "output_type": "error",
     "traceback": []
    }
   ],
   "source": [
    "import java.sql.Date\n",
    "\n",
    "val weatherColumns = Seq(\n",
    "  \"WBAN\",\n",
    "  \"Date\",\n",
    "  \"Time\",\n",
    "  \"StationType\",\n",
    "  \"SkyCondition\",\n",
    "  \"Visibility\",\n",
    ")\n",
    "\n",
    "val weatherData = weatherDF\n",
    "  .select(weatherColumns.head, weatherColumns.tail: _*)\n",
    "  .filter(\n",
    "    col(\"Date\") === Date.valueOf(\"2012-01-09\") &&\n",
    "    (col(\"WBAN\") === \"13869\" || col(\"WBAN\") === \"13874\")\n",
    "  )\n",
    "  .orderBy(\"WBAN\", \"Date\", \"Time\")\n",
    "weatherData.show(999)"
   ]
  },
  {
   "cell_type": "markdown",
   "id": "ccf91417-e456-4c12-a1fd-863d92fe777c",
   "metadata": {},
   "source": [
    "## Flights"
   ]
  },
  {
   "cell_type": "code",
   "execution_count": 63,
   "id": "a3aa7455-f8f0-4886-ad56-7d76b4a36b90",
   "metadata": {},
   "outputs": [
    {
     "name": "stdout",
     "output_type": "stream",
     "text": [
      "-RECORD 0----------------------------------------\n",
      " FL_DATE                            | 2012-01-09 \n",
      " OP_CARRIER_AIRLINE_ID              | 20366      \n",
      " OP_CARRIER_FL_NUM                  | 5334       \n",
      " ORIGIN_AIRPORT_ID                  | 10146      \n",
      " DEST_AIRPORT_ID                    | 10397      \n",
      " CRS_DEP_TIME                       | 1155       \n",
      " ARR_DELAY_NEW                      | 115.0      \n",
      " CRS_ELAPSED_TIME                   | 57.0       \n",
      " ORIGIN_WBAN                        | 13869      \n",
      " ORIGIN_TIMEZONE                    | -5         \n",
      " DEST_WBAN                          | 13874      \n",
      " DEST_TIMEZONE                      | -5         \n",
      " UTC_CRS_DEP_TIME                   | 1655       \n",
      " UTC_FL_DATE                        | 2012-01-09 \n",
      " UTC_ARR_TIME                       | 1825       \n",
      " UTC_ARR_DATE                       | 2012-01-09 \n",
      " CRS_ARR_TIME                       | 1340       \n",
      " CRS_ARR_DATE                       | 2012-01-09 \n",
      " feature_departure_hour_rounded     | 1200       \n",
      " feature_utc_departure_hour_rounded | 1700       \n",
      " feature_arrival_hour_rounded       | 1300       \n",
      " feature_utc_arrival_hour_rounded   | 1800       \n",
      " label_is_delayed_15min             | 1          \n",
      "\n"
     ]
    },
    {
     "data": {
      "text/plain": [
       "flightColumns = List(FL_DATE, OP_CARRIER_AIRLINE_ID, OP_CARRIER_FL_NUM, ORIGIN_AIRPORT_ID, DEST_AIRPORT_ID, CRS_DEP_TIME, ARR_DELAY_NEW, CRS_ELAPSED_TIME, ORIGIN_WBAN, ORIGIN_TIMEZONE, DEST_WBAN, DEST_TIMEZONE, UTC_CRS_DEP_TIME, UTC_FL_DATE, UTC_ARR_TIME, UTC_ARR_DATE, CRS_ARR_TIME, CRS_ARR_DATE, feature_departure_hour_rounded, feature_utc_departure_hour_rounded, feature_arrival_hour_rounded, feature_utc_arrival_hour_rounded, label_is_delayed_15min)\n",
       "flightData = [FL_DATE: date, OP_CARRIER_AIRLINE_ID: int ... 21 more fields]\n"
      ]
     },
     "metadata": {},
     "output_type": "display_data",
     "source": "user"
    },
    {
     "data": {
      "text/plain": [
       "[FL_DATE: date, OP_CARRIER_AIRLINE_ID: int ... 21 more fields]"
      ]
     },
     "execution_count": 63,
     "metadata": {},
     "output_type": "execute_result"
    }
   ],
   "source": [
    "val flightColumns = Seq(\n",
    "  \"FL_DATE\",\n",
    "  \"OP_CARRIER_AIRLINE_ID\",\n",
    "  \"OP_CARRIER_FL_NUM\",\n",
    "  \"ORIGIN_AIRPORT_ID\",\n",
    "  \"DEST_AIRPORT_ID\",\n",
    "  \"CRS_DEP_TIME\",\n",
    "  \"ARR_DELAY_NEW\",\n",
    "  \"CRS_ELAPSED_TIME\",\n",
    "  \"ORIGIN_WBAN\",\n",
    "  \"ORIGIN_TIMEZONE\",\n",
    "  \"DEST_WBAN\",\n",
    "  \"DEST_TIMEZONE\",\n",
    "  \"UTC_CRS_DEP_TIME\",\n",
    "  \"UTC_FL_DATE\",\n",
    "  \"UTC_ARR_TIME\",\n",
    "  \"UTC_ARR_DATE\",\n",
    "  \"CRS_ARR_TIME\",\n",
    "  \"CRS_ARR_DATE\",  \n",
    "  \n",
    "  \"feature_departure_hour_rounded\",\n",
    "  \"feature_utc_departure_hour_rounded\",\n",
    "  \"feature_arrival_hour_rounded\",\n",
    "  \"feature_utc_arrival_hour_rounded\",\n",
    "    \n",
    "  \"label_is_delayed_15min\"\n",
    ")\n",
    "\n",
    "val flightData = flightDF\n",
    "  .select(flightColumns.head, flightColumns.tail: _*)\n",
    "  .filter(\n",
    "    col(\"UTC_FL_DATE\") === \"2012-01-09\" &&\n",
    "    col(\"OP_CARRIER_AIRLINE_ID\") === 20366 &&\n",
    "    col(\"OP_CARRIER_FL_NUM\") === 5334 && \n",
    "    col(\"ORIGIN_WBAN\") === 13869  \n",
    "  )\n",
    "\n",
    "flightData.show(10, 100, true) \n"
   ]
  },
  {
   "cell_type": "markdown",
   "id": "8003fd72-3ffc-449f-8ba9-9ce67f6c2979",
   "metadata": {},
   "source": [
    "# Jointure Map Reduce 1"
   ]
  },
  {
   "cell_type": "code",
   "execution_count": 20,
   "id": "4b005756-ae1b-4d28-ba86-4e2a0514ea7d",
   "metadata": {},
   "outputs": [],
   "source": [
    "import org.apache.spark.sql.functions._\n",
    "import org.apache.spark.sql.expressions.Window\n",
    "import org.apache.spark.sql.Row\n",
    "import scala.collection.JavaConverters._\n",
    "\n",
    "// Recommandé: travailler en UTC pour éviter les surprises\n",
    "spark.conf.set(\"spark.sql.session.timeZone\", \"UTC\")\n",
    "spark.conf.set(\"spark.sql.crossJoin.enabled\", \"true\")\n",
    "spark.conf.set(\"spark.sql.debug.maxToStringFields\", \"100000\")\n"
   ]
  },
  {
   "cell_type": "code",
   "execution_count": 21,
   "id": "84c74fe5-7077-40dc-814a-973d7e1820c8",
   "metadata": {},
   "outputs": [
    {
     "data": {
      "text/plain": [
       "weatherNorm = [WBAN: string, W_DATE: date ... 10 more fields]\n"
      ]
     },
     "metadata": {},
     "output_type": "display_data",
     "source": "user"
    },
    {
     "name": "stdout",
     "output_type": "stream",
     "text": [
      "+-----+----------+------+-----+----------+----+-----------+-------------+----------+----------+--------+------+\n",
      "| WBAN|    W_DATE|W_HOUR| WBAN|      Date|Time|StationType| SkyCondition|Visibility|    W_DATE|TIME_STR|W_HOUR|\n",
      "+-----+----------+------+-----+----------+----+-----------+-------------+----------+----------+--------+------+\n",
      "|13869|2012-01-09|    00|13869|2012-01-09|0000|         12|          CLR|      10.0|2012-01-09|    0000|    00|\n",
      "|13869|2012-01-09|    01|13869|2012-01-09|0100|         12|BKN050 OVC100|      10.0|2012-01-09|    0100|    01|\n",
      "|13869|2012-01-09|    02|13869|2012-01-09|0200|         12|       OVC110|      10.0|2012-01-09|    0200|    02|\n",
      "|13869|2012-01-09|    03|13869|2012-01-09|0300|         12|       SCT001|       7.0|2012-01-09|    0300|    03|\n",
      "|13869|2012-01-09|    04|13869|2012-01-09|0400|         12|BKN001 OVC005|       1.5|2012-01-09|    0400|    04|\n",
      "|13869|2012-01-09|    05|13869|2012-01-09|0500|         12|       OVC100|      1.75|2012-01-09|    0500|    05|\n",
      "|13869|2012-01-09|    06|13869|2012-01-09|0600|         12|       OVC110|       9.0|2012-01-09|    0600|    06|\n",
      "|13869|2012-01-09|    07|13869|2012-01-09|0700|         12|       OVC110|      10.0|2012-01-09|    0700|    07|\n",
      "|13869|2012-01-09|    08|13869|2012-01-09|0800|         12|       OVC110|       5.0|2012-01-09|    0800|    08|\n",
      "|13869|2012-01-09|    09|13869|2012-01-09|0900|         12|          CLR|       8.0|2012-01-09|    0900|    09|\n",
      "|13869|2012-01-09|    10|13869|2012-01-09|1000|         12|       BKN110|      10.0|2012-01-09|    1000|    10|\n",
      "|13869|2012-01-09|    11|13869|2012-01-09|1100|         12|       BKN100|      10.0|2012-01-09|    1100|    11|\n",
      "+-----+----------+------+-----+----------+----+-----------+-------------+----------+----------+--------+------+\n",
      "only showing top 12 rows\n",
      "\n"
     ]
    },
    {
     "data": {
      "text/plain": [
       "[WBAN: string, W_DATE: date ... 10 more fields]"
      ]
     },
     "execution_count": 21,
     "metadata": {},
     "output_type": "execute_result"
    }
   ],
   "source": [
    "// -----------------------------------------\n",
    "// 0) Normalisation du dataset Weather\n",
    "//    - DATE  -> date\n",
    "//    - TIME  -> heure 2 chiffres \"HH\"\n",
    "// -----------------------------------------\n",
    "val weatherNorm = weatherData\n",
    "  // DATE peut être string => on force en date (UTC)\n",
    "  .withColumn(\"W_DATE\", to_date(col(\"DATE\")))\n",
    "  // TIME peut être \"0\", \"00\", \"0030\", 0, etc.\n",
    "  .withColumn(\"TIME_STR\", col(\"TIME\").cast(\"string\"))\n",
    "  .withColumn(\n",
    "    \"W_HOUR\",\n",
    "    when(length(col(\"TIME_STR\")) >= 2, substring(col(\"TIME_STR\"), 1, 2))\n",
    "      .otherwise(lpad(col(\"TIME_STR\"), 2, \"0\"))\n",
    "  )\n",
    "  .select(\n",
    "    col(\"WBAN\"),\n",
    "    col(\"W_DATE\"),\n",
    "    col(\"W_HOUR\"),\n",
    "    // garde ce qui t'intéresse côté météo :\n",
    "    col(\"*\") // tu peux remplacer par les colonnes utiles: vent, visib, etc.\n",
    "  )\n",
    "weatherNorm.show(12)"
   ]
  },
  {
   "cell_type": "code",
   "execution_count": 22,
   "id": "c2e6dec8-8883-41ba-918a-4f7791851783",
   "metadata": {},
   "outputs": [
    {
     "data": {
      "text/plain": [
       "weatherPart = [WBAN: string, W_DATE: date ... 10 more fields]\n"
      ]
     },
     "metadata": {},
     "output_type": "display_data",
     "source": "user"
    },
    {
     "data": {
      "text/plain": [
       "[WBAN: string, W_DATE: date ... 10 more fields]"
      ]
     },
     "execution_count": 22,
     "metadata": {},
     "output_type": "execute_result"
    }
   ],
   "source": [
    "// Option: pour le shuffle, tu peux aider Spark à partitionner:\n",
    "val weatherPart = weatherNorm.repartition(col(\"WBAN\"), col(\"W_DATE\"))"
   ]
  },
  {
   "cell_type": "code",
   "execution_count": 30,
   "id": "366f3250-f536-47ab-8745-c053f236bb33",
   "metadata": {},
   "outputs": [
    {
     "name": "stdout",
     "output_type": "stream",
     "text": [
      "-RECORD 0------------------------------------------------------------------\n",
      " UTC_FL_DATE                        | 2012-01-09                           \n",
      " UTC_CRS_DEP_TIME                   | 1655                                 \n",
      " FL_DATE                            | 2012-01-09                           \n",
      " CRS_DEP_TIME                       | 1155                                 \n",
      " ORIGIN_WBAN                        | 13869                                \n",
      " DEST_WBAN                          | 13874                                \n",
      " CRS_ELAPSED_TIME                   | 57.0                                 \n",
      " feature_utc_departure_hour         | 16                                   \n",
      " OP_CARRIER_AIRLINE_ID              | 20366                                \n",
      " OP_CARRIER_FL_NUM                  | 5334                                 \n",
      " feature_flight_day_of_week         | 2                                    \n",
      " feature_is_weekend                 | 0                                    \n",
      " feature_departure_hour_rounded     | 1200                                 \n",
      " feature_utc_departure_hour_rounded | 1700                                 \n",
      " label_is_delayed_15min             | 1                                    \n",
      " flight_id                          | 20120109_20366_5334_13869_13874_0000 \n",
      "\n"
     ]
    },
    {
     "data": {
      "text/plain": [
       "flights0 = [UTC_FL_DATE: date, UTC_CRS_DEP_TIME: string ... 14 more fields]\n"
      ]
     },
     "metadata": {},
     "output_type": "display_data",
     "source": "user"
    },
    {
     "data": {
      "text/plain": [
       "[UTC_FL_DATE: date, UTC_CRS_DEP_TIME: string ... 14 more fields]"
      ]
     },
     "execution_count": 30,
     "metadata": {},
     "output_type": "execute_result"
    }
   ],
   "source": [
    "// ───────────────────────────────────────────────────────────────────────────────\n",
    "// 0) Crée un identifiant de vol déterministe \"flight_id\"\n",
    "//    (tu peux remplacer par monotonically_increasing_id() si tu préfères)\n",
    "// ───────────────────────────────────────────────────────────────────────────────\n",
    "val flights0 = flightData\n",
    "  .withColumn(\n",
    "    \"flight_id\",\n",
    "    concat_ws(\"_\",\n",
    "      date_format(col(\"UTC_FL_DATE\").cast(\"date\"), \"yyyyMMdd\"),\n",
    "      col(\"OP_CARRIER_AIRLINE_ID\").cast(\"string\"),\n",
    "      col(\"OP_CARRIER_FL_NUM\").cast(\"string\"),\n",
    "      col(\"ORIGIN_WBAN\").cast(\"string\"),\n",
    "      col(\"DEST_WBAN\").cast(\"string\"),\n",
    "      date_format(col(\"UTC_CRS_DEP_TIME\"), \"HHmm\")\n",
    "    )\n",
    "  )\n",
    "\n",
    "flights0.show(10, 100, true)"
   ]
  },
  {
   "cell_type": "code",
   "execution_count": 31,
   "id": "314e68d3-438e-4515-a084-5297bffdb755",
   "metadata": {},
   "outputs": [
    {
     "data": {
      "text/plain": [
       "flightsBase = [flight_id: string, ORIGIN_WBAN: string ... 5 more fields]\n"
      ]
     },
     "metadata": {},
     "output_type": "display_data",
     "source": "user"
    },
    {
     "name": "stdout",
     "output_type": "stream",
     "text": [
      "-RECORD 0------------------------------------------------------\n",
      " flight_id              | 20120109_20366_5334_13869_13874_0000 \n",
      " ORIGIN_WBAN            | 13869                                \n",
      " DEST_WBAN              | 13874                                \n",
      " FL_DATE_STR            | 2012-01-09                           \n",
      " DEP_HOUR_2D            | 17                                   \n",
      " base_epoch             | 1326128400                           \n",
      " label_is_delayed_15min | 1                                    \n",
      "\n"
     ]
    },
    {
     "data": {
      "text/plain": [
       "[flight_id: string, ORIGIN_WBAN: string ... 5 more fields]"
      ]
     },
     "execution_count": 31,
     "metadata": {},
     "output_type": "execute_result"
    }
   ],
   "source": [
    "\n",
    "// ───────────────────────────────────────────────────────────────────────────────\n",
    "// 1) Base temporelle départ (UTC) : \"yyyy-MM-dd HH\" → epoch (secondes)\n",
    "// ───────────────────────────────────────────────────────────────────────────────\n",
    "val flightsBase = flights0\n",
    "  .withColumn(\n",
    "    \"FL_DATE_STR\",\n",
    "    when(col(\"UTC_FL_DATE\").cast(\"date\").isNotNull,\n",
    "         date_format(col(\"UTC_FL_DATE\").cast(\"date\"), \"yyyy-MM-dd\"))\n",
    "    .otherwise(col(\"UTC_FL_DATE\").cast(\"string\"))\n",
    "  )\n",
    "  .withColumn(\"DEP_HOUR_2D\", lpad(col(\"feature_utc_departure_hour_rounded\").cast(\"string\"), 2, \"0\"))\n",
    "  .withColumn(\"base_epoch\",\n",
    "    unix_timestamp(concat_ws(\" \", col(\"FL_DATE_STR\"), col(\"DEP_HOUR_2D\")), \"yyyy-MM-dd HH\")\n",
    "  )\n",
    "  // IMPORTANT : on ne garde QUE ce qu'on va utiliser ensuite (dont flight_id !)\n",
    "  .select(\n",
    "    col(\"flight_id\"),\n",
    "    col(\"ORIGIN_WBAN\"),\n",
    "    col(\"DEST_WBAN\"),\n",
    "    col(\"FL_DATE_STR\"),\n",
    "    col(\"DEP_HOUR_2D\"),\n",
    "    col(\"base_epoch\"),\n",
    "    col(\"label_is_delayed_15min\")  \n",
    "  )\n",
    "\n",
    "flightsBase.show(10, 100, true)"
   ]
  },
  {
   "cell_type": "code",
   "execution_count": 25,
   "id": "45faaedc-55db-485f-8d1f-996e8d07bfcd",
   "metadata": {},
   "outputs": [
    {
     "data": {
      "text/plain": [
       "offsets = [h: bigint]\n",
       "originTargets = [flight_id: string, WBAN_KEY: string ... 4 more fields]\n"
      ]
     },
     "metadata": {},
     "output_type": "display_data",
     "source": "user"
    },
    {
     "name": "stdout",
     "output_type": "stream",
     "text": [
      "+------------------------------------+--------+---+-----------+--------------+----------------------+\n",
      "|flight_id                           |WBAN_KEY|o_h|TARGET_DATE|TARGET_HOUR_2D|label_is_delayed_15min|\n",
      "+------------------------------------+--------+---+-----------+--------------+----------------------+\n",
      "|20120109_20366_5334_13869_13874_0000|13869   |1  |2012-01-09 |16            |1                     |\n",
      "|20120109_20366_5334_13869_13874_0000|13869   |2  |2012-01-09 |15            |1                     |\n",
      "|20120109_20366_5334_13869_13874_0000|13869   |3  |2012-01-09 |14            |1                     |\n",
      "|20120109_20366_5334_13869_13874_0000|13869   |4  |2012-01-09 |13            |1                     |\n",
      "|20120109_20366_5334_13869_13874_0000|13869   |5  |2012-01-09 |12            |1                     |\n",
      "|20120109_20366_5334_13869_13874_0000|13869   |6  |2012-01-09 |11            |1                     |\n",
      "|20120109_20366_5334_13869_13874_0000|13869   |7  |2012-01-09 |10            |1                     |\n",
      "|20120109_20366_5334_13869_13874_0000|13869   |8  |2012-01-09 |09            |1                     |\n",
      "|20120109_20366_5334_13869_13874_0000|13869   |9  |2012-01-09 |08            |1                     |\n",
      "|20120109_20366_5334_13869_13874_0000|13869   |10 |2012-01-09 |07            |1                     |\n",
      "|20120109_20366_5334_13869_13874_0000|13869   |11 |2012-01-09 |06            |1                     |\n",
      "|20120109_20366_5334_13869_13874_0000|13869   |12 |2012-01-09 |05            |1                     |\n",
      "+------------------------------------+--------+---+-----------+--------------+----------------------+\n",
      "\n"
     ]
    },
    {
     "data": {
      "text/plain": [
       "[flight_id: string, WBAN_KEY: string ... 4 more fields]"
      ]
     },
     "execution_count": 25,
     "metadata": {},
     "output_type": "execute_result"
    }
   ],
   "source": [
    "// ───────────────────────────────────────────────────────────────────────────────\n",
    "// 2) Générer les 12 heures cibles t-1h..t-12h (crossJoin offsets 1..12)\n",
    "// ───────────────────────────────────────────────────────────────────────────────\n",
    "val offsets = flightsBase.sparkSession.range(1, 13).toDF(\"h\")  // 1..12\n",
    "\n",
    "val originTargets = flightsBase\n",
    "  .crossJoin(offsets)\n",
    "  .withColumn(\"target_epoch\", col(\"base_epoch\") - col(\"h\") * lit(3600))\n",
    "  .withColumn(\"TARGET_DATE\", to_date(from_unixtime(col(\"target_epoch\"))))\n",
    "  .withColumn(\"TARGET_HOUR_2D\", date_format(from_unixtime(col(\"target_epoch\")), \"HH\"))\n",
    "  .select(\n",
    "    col(\"flight_id\"),                               \n",
    "    col(\"ORIGIN_WBAN\").as(\"WBAN_KEY\"),\n",
    "    col(\"h\").cast(\"int\").as(\"o_h\"),\n",
    "    col(\"TARGET_DATE\"),\n",
    "    col(\"TARGET_HOUR_2D\"),\n",
    "    col(\"label_is_delayed_15min\")  \n",
    "  )\n",
    "\n",
    "// (debug)\n",
    "originTargets.show(12, truncate = false)"
   ]
  },
  {
   "cell_type": "code",
   "execution_count": 26,
   "id": "1b7a264a-8fa9-40ec-8ac3-460ad7039f0b",
   "metadata": {},
   "outputs": [
    {
     "data": {
      "text/plain": [
       "originJoined = [flight_id: string, o_h: int ... 10 more fields]\n"
      ]
     },
     "metadata": {},
     "output_type": "display_data",
     "source": "user"
    },
    {
     "name": "stdout",
     "output_type": "stream",
     "text": [
      "+------------------------------------+---+-----+-------------+-------------+----------+------+----------+----+-----------+------------+----------+\n",
      "|flight_id                           |o_h|WBAN |o_target_date|o_target_hour|W_DATE    |W_HOUR|DATE      |TIME|StationType|SkyCondition|Visibility|\n",
      "+------------------------------------+---+-----+-------------+-------------+----------+------+----------+----+-----------+------------+----------+\n",
      "|20120109_20366_5334_13869_13874_0000|12 |13869|2012-01-09   |05           |2012-01-09|05    |2012-01-09|0500|12         |OVC100      |1.75      |\n",
      "|20120109_20366_5334_13869_13874_0000|11 |13869|2012-01-09   |06           |2012-01-09|06    |2012-01-09|0600|12         |OVC110      |9.0       |\n",
      "|20120109_20366_5334_13869_13874_0000|10 |13869|2012-01-09   |07           |2012-01-09|07    |2012-01-09|0700|12         |OVC110      |10.0      |\n",
      "|20120109_20366_5334_13869_13874_0000|9  |13869|2012-01-09   |08           |2012-01-09|08    |2012-01-09|0800|12         |OVC110      |5.0       |\n",
      "|20120109_20366_5334_13869_13874_0000|8  |13869|2012-01-09   |09           |2012-01-09|09    |2012-01-09|0900|12         |CLR         |8.0       |\n",
      "|20120109_20366_5334_13869_13874_0000|7  |13869|2012-01-09   |10           |2012-01-09|10    |2012-01-09|1000|12         |BKN110      |10.0      |\n",
      "|20120109_20366_5334_13869_13874_0000|6  |13869|2012-01-09   |11           |2012-01-09|11    |2012-01-09|1100|12         |BKN100      |10.0      |\n",
      "|20120109_20366_5334_13869_13874_0000|5  |13869|2012-01-09   |12           |2012-01-09|12    |2012-01-09|1200|12         |CLR         |10.0      |\n",
      "|20120109_20366_5334_13869_13874_0000|4  |13869|2012-01-09   |13           |2012-01-09|13    |2012-01-09|1300|12         |CLR         |10.0      |\n",
      "|20120109_20366_5334_13869_13874_0000|3  |13869|2012-01-09   |14           |2012-01-09|14    |2012-01-09|1400|12         |CLR         |10.0      |\n",
      "|20120109_20366_5334_13869_13874_0000|2  |13869|2012-01-09   |15           |2012-01-09|15    |2012-01-09|1500|12         |BKN100      |10.0      |\n",
      "|20120109_20366_5334_13869_13874_0000|1  |13869|2012-01-09   |16           |2012-01-09|16    |2012-01-09|1600|12         |CLR         |10.0      |\n",
      "+------------------------------------+---+-----+-------------+-------------+----------+------+----------+----+-----------+------------+----------+\n",
      "\n"
     ]
    },
    {
     "data": {
      "text/plain": [
       "[flight_id: string, o_h: int ... 10 more fields]"
      ]
     },
     "execution_count": 26,
     "metadata": {},
     "output_type": "execute_result"
    }
   ],
   "source": [
    "// ───────────────────────────────────────────────────────────────────────────────\n",
    "// 3) Normalisation météo (si pas déjà fait) et jointure exacte (WBAN, DATE, HOUR)\n",
    "// ───────────────────────────────────────────────────────────────────────────────\n",
    "\n",
    "val originJoined = originTargets\n",
    "  .join(\n",
    "    weatherNorm,\n",
    "    originTargets.col(\"WBAN_KEY\") === weatherNorm.col(\"WBAN\") &&\n",
    "    originTargets.col(\"TARGET_DATE\") === weatherNorm.col(\"W_DATE\") &&\n",
    "    originTargets.col(\"TARGET_HOUR_2D\") === weatherNorm.col(\"W_HOUR\"),\n",
    "    \"inner\"\n",
    "  )\n",
    "  .select(\n",
    "    col(\"flight_id\"),\n",
    "    col(\"o_h\"),\n",
    "    col(\"WBAN_KEY\").as(\"WBAN\"),\n",
    "    col(\"TARGET_DATE\").as(\"o_target_date\"),\n",
    "    col(\"TARGET_HOUR_2D\").as(\"o_target_hour\"),\n",
    "    col(\"W_DATE\"), col(\"W_HOUR\"),\n",
    "    col(\"DATE\"), col(\"TIME\"),\n",
    "    col(\"StationType\"),\n",
    "    col(\"SkyCondition\"),\n",
    "    col(\"Visibility\"),\n",
    "    //col(\"feature_ceiling\"),  \n",
    "  ).orderBy(col(\"flight_id\"), col(\"o_target_hour\"))\n",
    "\n",
    "originJoined.show(20, false)"
   ]
  },
  {
   "cell_type": "code",
   "execution_count": 29,
   "id": "21bf481d-d41b-48f3-b45b-ae78697d71fc",
   "metadata": {},
   "outputs": [
    {
     "data": {
      "text/plain": [
       "originAgg = [flight_id: string, W_o_list: array<struct<o_h:int,o_target_date:date,o_target_hour:string,W_DATE:date,W_HOUR:string,SkyCondition:string,Visibility:double>>]\n"
      ]
     },
     "metadata": {},
     "output_type": "display_data",
     "source": "user"
    },
    {
     "name": "stdout",
     "output_type": "stream",
     "text": [
      "-RECORD 0--------------------------------------------------------------------------------------------------------------------------------------------------------------------------------------------------------------------------------------------------------------------------------------------------------------------------------------------------------------------------------------------------------------------------------------------------------------------------------------------------------------------------------------------------------------------------------------------------------------------------\n",
      " flight_id | 20120109_20366_5334_13869_13874_0000                                                                                                                                                                                                                                                                                                                                                                                                                                                                                                                                                                                  \n",
      " W_o_list  | [{12, 2012-01-09, 05, 2012-01-09, 05, OVC100, 1.75}, {11, 2012-01-09, 06, 2012-01-09, 06, OVC110, 9.0}, {10, 2012-01-09, 07, 2012-01-09, 07, OVC110, 10.0}, {9, 2012-01-09, 08, 2012-01-09, 08, OVC110, 5.0}, {8, 2012-01-09, 09, 2012-01-09, 09, CLR, 8.0}, {7, 2012-01-09, 10, 2012-01-09, 10, BKN110, 10.0}, {6, 2012-01-09, 11, 2012-01-09, 11, BKN100, 10.0}, {5, 2012-01-09, 12, 2012-01-09, 12, CLR, 10.0}, {4, 2012-01-09, 13, 2012-01-09, 13, CLR, 10.0}, {3, 2012-01-09, 14, 2012-01-09, 14, CLR, 10.0}, {2, 2012-01-09, 15, 2012-01-09, 15, BKN100, 10.0}, {1, 2012-01-09, 16, 2012-01-09, 16, CLR, 10.0}] \n",
      "\n"
     ]
    },
    {
     "data": {
      "text/plain": [
       "[flight_id: string, W_o_list: array<struct<o_h:int,o_target_date:date,o_target_hour:string,W_DATE:date,W_HOUR:string,SkyCondition:string,Visibility:double>>]"
      ]
     },
     "execution_count": 29,
     "metadata": {},
     "output_type": "execute_result"
    }
   ],
   "source": [
    "// ───────────────────────────────────────────────────────────────────────────────\n",
    "// 4) (Option) Regrouper en liste par vol (gardez o_h pour trier côté lecteur)\n",
    "// ───────────────────────────────────────────────────────────────────────────────\n",
    "val originAgg = originJoined\n",
    "  .withColumn(\"o_pack\", struct(\n",
    "    col(\"o_h\"),\n",
    "    col(\"o_target_date\"),\n",
    "    col(\"o_target_hour\"),\n",
    "    col(\"W_DATE\"),\n",
    "    col(\"W_HOUR\"),\n",
    "    col(\"SkyCondition\"),\n",
    "    col(\"Visibility\"),\n",
    "    // + tes variables météo utiles\n",
    "  ))\n",
    "  .groupBy(\"flight_id\")                       \n",
    "  .agg(collect_list(col(\"o_pack\")).as(\"W_o_list\"))\n",
    "\n",
    "originAgg.show(10, 10000, true)"
   ]
  },
  {
   "cell_type": "markdown",
   "id": "283fa7e1-e18f-4a35-86bc-71fd88365255",
   "metadata": {},
   "source": [
    "# Jointure Map Reduce 2"
   ]
  },
  {
   "cell_type": "code",
   "execution_count": 67,
   "id": "4db4f94b-ea1b-4890-9f2a-18f83916b931",
   "metadata": {},
   "outputs": [
    {
     "name": "stdout",
     "output_type": "stream",
     "text": [
      "-RECORD 0------------------------------------------------------------------------------------------------------------------------------------------------------------------------------------------------------------------------------------------------------------------------------------------------------------------------------------------------------------------------------------------------------------------------------------------------------------------------------------------------------------------------------------------------------------------------------------------------------------------------------------------------------------------------------------------------------------------------------------------------------------------------------------------------------------\n",
      " FL_DATE                            | 2012-01-09                                                                                                                                                                                                                                                                                                                                                                                                                                                                                                                                                                                                                                                                                                                                                                     \n",
      " OP_CARRIER_AIRLINE_ID              | 20366                                                                                                                                                                                                                                                                                                                                                                                                                                                                                                                                                                                                                                                                                                                                                                          \n",
      " OP_CARRIER_FL_NUM                  | 5334                                                                                                                                                                                                                                                                                                                                                                                                                                                                                                                                                                                                                                                                                                                                                                           \n",
      " ORIGIN_AIRPORT_ID                  | 10146                                                                                                                                                                                                                                                                                                                                                                                                                                                                                                                                                                                                                                                                                                                                                                          \n",
      " DEST_AIRPORT_ID                    | 10397                                                                                                                                                                                                                                                                                                                                                                                                                                                                                                                                                                                                                                                                                                                                                                          \n",
      " CRS_DEP_TIME                       | 1155                                                                                                                                                                                                                                                                                                                                                                                                                                                                                                                                                                                                                                                                                                                                                                           \n",
      " ARR_DELAY_NEW                      | 115.0                                                                                                                                                                                                                                                                                                                                                                                                                                                                                                                                                                                                                                                                                                                                                                          \n",
      " CRS_ELAPSED_TIME                   | 57.0                                                                                                                                                                                                                                                                                                                                                                                                                                                                                                                                                                                                                                                                                                                                                                           \n",
      " ORIGIN_WBAN                        | 13869                                                                                                                                                                                                                                                                                                                                                                                                                                                                                                                                                                                                                                                                                                                                                                          \n",
      " ORIGIN_TIMEZONE                    | -5                                                                                                                                                                                                                                                                                                                                                                                                                                                                                                                                                                                                                                                                                                                                                                             \n",
      " DEST_WBAN                          | 13874                                                                                                                                                                                                                                                                                                                                                                                                                                                                                                                                                                                                                                                                                                                                                                          \n",
      " DEST_TIMEZONE                      | -5                                                                                                                                                                                                                                                                                                                                                                                                                                                                                                                                                                                                                                                                                                                                                                             \n",
      " UTC_CRS_DEP_TIME                   | 1655                                                                                                                                                                                                                                                                                                                                                                                                                                                                                                                                                                                                                                                                                                                                                                           \n",
      " UTC_FL_DATE                        | 2012-01-09                                                                                                                                                                                                                                                                                                                                                                                                                                                                                                                                                                                                                                                                                                                                                                     \n",
      " UTC_ARR_TIME                       | 1825                                                                                                                                                                                                                                                                                                                                                                                                                                                                                                                                                                                                                                                                                                                                                                           \n",
      " UTC_ARR_DATE                       | 2012-01-09                                                                                                                                                                                                                                                                                                                                                                                                                                                                                                                                                                                                                                                                                                                                                                     \n",
      " CRS_ARR_TIME                       | 1340                                                                                                                                                                                                                                                                                                                                                                                                                                                                                                                                                                                                                                                                                                                                                                           \n",
      " CRS_ARR_DATE                       | 2012-01-09                                                                                                                                                                                                                                                                                                                                                                                                                                                                                                                                                                                                                                                                                                                                                                     \n",
      " feature_departure_hour_rounded     | 1200                                                                                                                                                                                                                                                                                                                                                                                                                                                                                                                                                                                                                                                                                                                                                                           \n",
      " feature_utc_departure_hour_rounded | 1700                                                                                                                                                                                                                                                                                                                                                                                                                                                                                                                                                                                                                                                                                                                                                                           \n",
      " feature_arrival_hour_rounded       | 1300                                                                                                                                                                                                                                                                                                                                                                                                                                                                                                                                                                                                                                                                                                                                                                           \n",
      " feature_utc_arrival_hour_rounded   | 1800                                                                                                                                                                                                                                                                                                                                                                                                                                                                                                                                                                                                                                                                                                                                                                           \n",
      " label_is_delayed_15min             | 1                                                                                                                                                                                                                                                                                                                                                                                                                                                                                                                                                                                                                                                                                                                                                                              \n",
      " origin_weather_observations        | [{13869, 2012-01-09, 500, 12, OVC100, 1.75}, {13869, 2012-01-09, 600, 12, OVC110, 9.0}, {13869, 2012-01-09, 700, 12, OVC110, 10.0}, {13869, 2012-01-09, 800, 12, OVC110, 5.0}, {13869, 2012-01-09, 900, 12, CLR, 8.0}, {13869, 2012-01-09, 1000, 12, BKN110, 10.0}, {13869, 2012-01-09, 1100, 12, BKN100, 10.0}, {13869, 2012-01-09, 1200, 12, CLR, 10.0}, {13869, 2012-01-09, 1300, 12, CLR, 10.0}, {13869, 2012-01-09, 1400, 12, CLR, 10.0}, {13869, 2012-01-09, 1500, 12, BKN100, 10.0}, {13869, 2012-01-09, 1600, 12, CLR, 10.0}, {13869, 2012-01-09, 1700, 12, CLR, 10.0}]                                                                                                                                                                                                \n",
      " destination_weather_observations   | [{13874, 2012-01-09, 600, 11, BKN004 OVC070, 1.5}, {13874, 2012-01-09, 700, 11, FEW006 SCT120 BKN250, 8.0}, {13874, 2012-01-09, 800, 11, BKN110 BKN200 BKN250, 10.0}, {13874, 2012-01-09, 900, 11, BKN110 BKN150 BKN250, 10.0}, {13874, 2012-01-09, 1000, 11, BKN008 BKN110 BKN250, 10.0}, {13874, 2012-01-09, 1100, 11, BKN010 BKN100 BKN250, 10.0}, {13874, 2012-01-09, 1200, 11, BKN014 BKN050 BKN090, 10.0}, {13874, 2012-01-09, 1300, 11, BKN019 BKN050 BKN080, 10.0}, {13874, 2012-01-09, 1400, 11, FEW015TCU BKN050 BKN250, 10.0}, {13874, 2012-01-09, 1500, 11, FEW020 SCT050 BKN250, 10.0}, {13874, 2012-01-09, 1600, 11, SCT020 BKN150 BKN250, 10.0}, {13874, 2012-01-09, 1700, 11, FEW015 SCT065 BKN090, 10.0}, {13874, 2012-01-09, 1800, 11, BKN013 BKN085, 10.0}] \n",
      "\n"
     ]
    },
    {
     "data": {
      "text/plain": [
       "defined object FlightWeatherJoinner\n",
       "joinedData = [FL_DATE: date, OP_CARRIER_AIRLINE_ID: int ... 23 more fields]\n"
      ]
     },
     "metadata": {},
     "output_type": "display_data",
     "source": "user"
    },
    {
     "data": {
      "text/plain": [
       "[FL_DATE: date, OP_CARRIER_AIRLINE_ID: int ... 23 more fields]"
      ]
     },
     "execution_count": 67,
     "metadata": {},
     "output_type": "execute_result"
    }
   ],
   "source": [
    "import org.apache.spark.sql.{DataFrame, SparkSession}\n",
    "import org.apache.spark.sql.functions._\n",
    "import org.apache.spark.sql.expressions.Window\n",
    "\n",
    "object FlightWeatherJoinner {\n",
    "\n",
    "  /**\n",
    "   * Jointure spatio-temporelle entre vols et observations météo pour ORIGINE et DESTINATION\n",
    "   * \n",
    "   * @param flightDF DataFrame des vols (avec feature_*_hour_rounded déjà calculées)\n",
    "   * @param weatherDF DataFrame météo\n",
    "   * @return DataFrame avec origin_weather_observations et dest_weather_observations\n",
    "   */\n",
    "  def joinFlightsWithWeather(\n",
    "    flightDF: DataFrame, \n",
    "    weatherDF: DataFrame\n",
    "  ): DataFrame = {\n",
    "    \n",
    "    // Première jointure : aéroport d'origine\n",
    "    val withOriginWeather = joinWeatherForAirport(flightDF, weatherDF, \"origin\")\n",
    "    \n",
    "    // Deuxième jointure : aéroport de destination\n",
    "    val withBothWeather = joinWeatherForAirport(withOriginWeather, weatherDF, \"destination\")\n",
    "    \n",
    "    withBothWeather\n",
    "  }\n",
    "\n",
    "  /**\n",
    "   * Jointure spatio-temporelle pour UN aéroport (origine OU destination)\n",
    "   * \n",
    "   * @param flightDF DataFrame des vols\n",
    "   * @param weatherDF DataFrame météo\n",
    "   * @param airportType \"origin\" ou \"destination\"\n",
    "   * @return DataFrame avec colonne weather_observations nommée selon le type\n",
    "   */\n",
    "  def joinWeatherForAirport(\n",
    "    flightDF: DataFrame,\n",
    "    weatherDF: DataFrame,\n",
    "    airportType: String\n",
    "  ): DataFrame = {\n",
    "    \n",
    "    require(\n",
    "      airportType == \"origin\" || airportType == \"destination\",\n",
    "      \"airportType doit être 'origin' ou 'destination'\"\n",
    "    )\n",
    "    \n",
    "    import flightDF.sparkSession.implicits._\n",
    "    \n",
    "    val isOrigin = airportType == \"origin\"\n",
    "    \n",
    "    // Déterminer les colonnes à utiliser selon le type d'aéroport\n",
    "    val (wbanCol, dateCol, timeRoundedCol) = if (isOrigin) {\n",
    "      (\"ORIGIN_WBAN\", \"UTC_FL_DATE\", \"feature_utc_departure_hour_rounded\")\n",
    "    } else {\n",
    "      (\"DEST_WBAN\", \"UTC_ARR_DATE\", \"feature_utc_arrival_hour_rounded\")\n",
    "    }\n",
    "    \n",
    "    // ============================================\n",
    "    // PHASE MAP - Préparation des données\n",
    "    // ============================================\n",
    "    \n",
    "    // MAP Weather (OT): Tagger les observations météo\n",
    "    val weatherTagged = weatherDF\n",
    "      .withColumn(\"table_tag\", lit(\"OT\"))\n",
    "      .withColumn(\"join_key_wban\", col(\"WBAN\"))\n",
    "      .withColumn(\"join_key_date\", col(\"Date\"))\n",
    "    \n",
    "    // MAP Flights (FT): Tagger les vols - utiliser l'heure arrondie précalculée\n",
    "    val flightTagged = flightDF\n",
    "      .filter(col(wbanCol).isNotNull && col(timeRoundedCol).isNotNull)\n",
    "      .withColumn(\"table_tag\", lit(\"FT\"))\n",
    "      .withColumn(\"join_key_wban\", col(wbanCol))\n",
    "      .withColumn(\"join_key_date\", col(dateCol))\n",
    "      .withColumn(\"time_rounded\", col(timeRoundedCol))  // ← Utiliser la colonne précalculée\n",
    "        \n",
    "    // Dupliquer UNIQUEMENT les vols de début de journée.\n",
    "    // Vols de 00h à 11h\n",
    "    val flightsNeedingDuplication = flightTagged\n",
    "      .filter(col(\"time_rounded\") / 100 < 12)  // Vols de 00h à 11h\n",
    "      .withColumn(\"join_key_date\", date_sub(col(\"join_key_date\"), 1))  // Date J-1\n",
    "    \n",
    "    // Union : vols normaux + vols dupliqués pour le lendemain\n",
    "    val flightComplete = flightTagged.union(flightsNeedingDuplication)\n",
    "    \n",
    "    // ============================================\n",
    "    // PHASE SHUFFLE - Préparation pour jointure\n",
    "    // ============================================\n",
    "    \n",
    "    val weatherForJoin = weatherTagged\n",
    "      .select(\n",
    "        col(\"join_key_wban\").as(\"key_wban\"),\n",
    "        col(\"join_key_date\").as(\"key_date\"),\n",
    "        col(\"table_tag\"),\n",
    "        col(\"WBAN\"),\n",
    "        col(\"Date\"),\n",
    "        col(\"Time\").cast(\"int\").as(\"Time\"),\n",
    "        col(\"StationType\"),\n",
    "        col(\"SkyCondition\"),\n",
    "        col(\"Visibility\")\n",
    "      )\n",
    "    \n",
    "    // Récupérer toutes les colonnes du vol original\n",
    "    val allFlightCols = flightComplete.columns.toSeq\n",
    "    val excludeCols = Set(\"table_tag\", \"join_key_wban\", \"join_key_date\", \"time_rounded\")\n",
    "    val flightDataCols = allFlightCols.filterNot(excludeCols.contains)\n",
    "    \n",
    "    val flightForJoin = flightComplete\n",
    "      .select(\n",
    "        Seq(\n",
    "          col(\"join_key_wban\").as(\"key_wban\"),\n",
    "          col(\"join_key_date\").as(\"key_date\"),\n",
    "          col(\"time_rounded\")\n",
    "        ) ++ flightDataCols.map(c => col(c)): _*\n",
    "      )\n",
    "    \n",
    "    // ============================================\n",
    "    // PHASE REDUCE - Jointure et Agrégation\n",
    "    // ============================================\n",
    "    \n",
    "    // Grouper toutes les observations météo par (WBAN, Date)\n",
    "    val weatherGrouped = weatherForJoin\n",
    "      .groupBy(\"key_wban\", \"key_date\")\n",
    "      .agg(\n",
    "        collect_list(\n",
    "          struct(\n",
    "            col(\"WBAN\"),\n",
    "            col(\"Date\"),\n",
    "            col(\"Time\"),\n",
    "            col(\"StationType\"),\n",
    "            col(\"SkyCondition\"),\n",
    "            col(\"Visibility\")\n",
    "          )\n",
    "        ).as(\"all_weather_obs\")\n",
    "      )\n",
    "    \n",
    "    // Jointure vols + météo groupée\n",
    "    val joined = flightForJoin\n",
    "      .join(\n",
    "        weatherGrouped,\n",
    "        flightForJoin(\"key_wban\") === weatherGrouped(\"key_wban\") &&\n",
    "        flightForJoin(\"key_date\") === weatherGrouped(\"key_date\"),\n",
    "        \"left\"\n",
    "      )\n",
    "    \n",
    "    // Nom de la colonne de sortie selon le type d'aéroport\n",
    "    val weatherColName = s\"${airportType}_weather_observations\"\n",
    "    \n",
    "    // Filtrer pour garder seulement les 13 heures nécessaires\n",
    "    val joinedWithFiltered = joined\n",
    "      .withColumn(\"required_hours\",\n",
    "        expr(\"\"\"\n",
    "          transform(\n",
    "            sequence(0, 12),\n",
    "            i -> cast((time_rounded / 100 - (12 - i) + 24) % 24 * 100 as int)\n",
    "          )\n",
    "        \"\"\")\n",
    "      )\n",
    "      .withColumn(weatherColName,\n",
    "        expr(\"\"\"\n",
    "          filter(\n",
    "            all_weather_obs,\n",
    "            obs -> array_contains(required_hours, obs.Time)\n",
    "          )\n",
    "        \"\"\")\n",
    "      )\n",
    "    \n",
    "    // Sélectionner les colonnes finales\n",
    "    val finalColsSeq = (flightDataCols :+ weatherColName).map(c => col(c))\n",
    "    val result = joinedWithFiltered\n",
    "      .select(finalColsSeq: _*)\n",
    "      .filter(size(col(weatherColName)) > 0)\n",
    "    \n",
    "    result\n",
    "  }\n",
    "}\n",
    "\n",
    "\n",
    "// Première jointure : aéroport d'origine\n",
    "val joinedData = FlightWeatherJoinner.joinFlightsWithWeather(flightData, weatherData)\n",
    "\n",
    "joinedData.show(20, 10000, true)"
   ]
  },
  {
   "cell_type": "markdown",
   "id": "7e917c34-629c-4f77-8eda-2e08df2b0b9e",
   "metadata": {},
   "source": [
    "# Jointure Map Reduce 3"
   ]
  },
  {
   "cell_type": "code",
   "execution_count": 84,
   "id": "f3f39c29-fe66-470f-a3f5-2aec40acb0e1",
   "metadata": {},
   "outputs": [
    {
     "data": {
      "text/plain": [
       "defined object FlightWeatherJoinner\n"
      ]
     },
     "metadata": {},
     "output_type": "display_data",
     "source": "user"
    }
   ],
   "source": [
    "import org.apache.spark.sql.{DataFrame, SparkSession}\n",
    "import org.apache.spark.sql.functions._\n",
    "import org.apache.spark.sql.expressions.Window\n",
    "\n",
    "object FlightWeatherJoinner {\n",
    "\n",
    "  /**\n",
    "   * Jointure spatio-temporelle entre vols et observations météo pour ORIGINE et DESTINATION\n",
    "   * \n",
    "   * @param flightDF DataFrame des vols (avec feature_*_hour_rounded déjà calculées)\n",
    "   * @param weatherDF DataFrame météo\n",
    "   * @param weatherDepthHours Nombre d'heures d'observations météo à récupérer avant le vol (par défaut: 12)\n",
    "   * @param removeLeakageColumns Si true, supprime automatiquement les colonnes qui causent du data leakage (par défaut: false)\n",
    "   * @param selectedFlightColumns Colonnes du DataFrame vols à conserver (si None, toutes les colonnes)\n",
    "   * @param selectedWeatherColumns Colonnes du DataFrame météo à inclure dans les observations (si None, toutes les colonnes)\n",
    "   * @return DataFrame avec origin_weather_observations et dest_weather_observations\n",
    "   */\n",
    "  def joinFlightsWithWeather(\n",
    "    flightDF: DataFrame, \n",
    "    weatherDF: DataFrame,\n",
    "    weatherDepthHours: Int = 12,\n",
    "    removeLeakageColumns: Boolean = true,\n",
    "    selectedFlightColumns: Option[Seq[String]] = None,\n",
    "    selectedWeatherColumns: Option[Seq[String]] = None\n",
    "  ): DataFrame = {\n",
    "    \n",
    "    require(weatherDepthHours > 0 && weatherDepthHours <= 24, \n",
    "      s\"weatherDepthHours doit être entre 1 et 24, valeur fournie: $weatherDepthHours\")\n",
    "    \n",
    "    // Première jointure : aéroport d'origine\n",
    "    val withOriginWeather = joinWeatherForAirport(\n",
    "      flightDF, \n",
    "      weatherDF, \n",
    "      \"origin\",\n",
    "      weatherDepthHours,\n",
    "      selectedFlightColumns,\n",
    "      selectedWeatherColumns\n",
    "    )\n",
    "    \n",
    "    // Deuxième jointure : aéroport de destination\n",
    "    val withBothWeather = joinWeatherForAirport(\n",
    "      withOriginWeather, \n",
    "      weatherDF, \n",
    "      \"destination\",\n",
    "      weatherDepthHours,\n",
    "      selectedFlightColumns,\n",
    "      selectedWeatherColumns\n",
    "    )\n",
    "    \n",
    "      // Supprimer les colonnes de leakage si demandé\n",
    "      if (removeLeakageColumns) {\n",
    "        removeDataLeakageColumns(\n",
    "          withBothWeather, \n",
    "          keepRelativeTime = removeLeakageColumns,  // ou true si tu veux garder hours_before_flight\n",
    "          selectedWeatherColumns = selectedWeatherColumns\n",
    "        )\n",
    "      } else {\n",
    "        withBothWeather\n",
    "      }\n",
    "  }\n",
    "\n",
    "    /**\n",
    "     * Supprime les colonnes qui peuvent causer du data leakage\n",
    "     * \n",
    "     * @param df DataFrame avec potentiellement des colonnes de leakage\n",
    "     * @param keepRelativeTime Si true, transforme Time en hours_before_flight. Si false, supprime Time/Date complètement\n",
    "     * @param selectedWeatherColumns Les colonnes météo qui ont été sélectionnées lors de la jointure\n",
    "     * @return DataFrame nettoyé sans colonnes de leakage\n",
    "     */\n",
    "    def removeDataLeakageColumns(\n",
    "      df: DataFrame, \n",
    "      keepRelativeTime: Boolean = false,\n",
    "      selectedWeatherColumns: Option[Seq[String]] = None\n",
    "    ): DataFrame = {\n",
    "      \n",
    "      val leakagePatterns = Set(\n",
    "        \"DEP_TIME\",\n",
    "        \"DEP_DELAY\",\n",
    "        \"DEP_DELAY_NEW\",\n",
    "        \"ARR_TIME\",\n",
    "        \"ARR_DELAY\",\n",
    "        \"ARR_DELAY_NEW\",\n",
    "        \"CARRIER_DELAY\",\n",
    "        \"WEATHER_DELAY\",\n",
    "        \"NAS_DELAY\",\n",
    "        \"SECURITY_DELAY\",\n",
    "        \"LATE_AIRCRAFT_DELAY\",\n",
    "        \"ACTUAL_ELAPSED_TIME\",\n",
    "        \"AIR_TIME\",\n",
    "        \"CANCELLED\",\n",
    "        \"CANCELLATION_CODE\",\n",
    "        \"DIVERTED\",\n",
    "        \"DISTANCE\",\n",
    "        \"feature_departure_hour_rounded\",\n",
    "        \"feature_utc_departure_hour_rounded\",\n",
    "        \"feature_arrival_hour_rounded\",\n",
    "        \"feature_utc_arrival_hour_rounded\",\n",
    "        \"feature_arrival_hour\",\n",
    "        \"feature_utc_arrival_hour\",\n",
    "        \"feature_departure_hour\",\n",
    "        \"feature_utc_departure_hour\",\n",
    "        \"UTC_ARR_TIME\",\n",
    "        \"UTC_ARR_DATE\"\n",
    "      )\n",
    "      \n",
    "      val currentColumns = df.columns.toSet\n",
    "      val columnsToRemove = currentColumns.intersect(leakagePatterns)\n",
    "      val columnsToKeep = currentColumns.diff(columnsToRemove)\n",
    "      \n",
    "      if (columnsToRemove.nonEmpty) {\n",
    "        println(s\"[Anti-Leakage] Colonnes supprimées : ${columnsToRemove.toSeq.sorted.mkString(\", \")}\")\n",
    "      }\n",
    "      \n",
    "      val dfCleaned = df.select(columnsToKeep.toSeq.sorted.map(col): _*)\n",
    "      \n",
    "      // Déterminer les colonnes météo à garder (sans WBAN, Date, Time qui sont obligatoires)\n",
    "      val weatherColsToKeep = selectedWeatherColumns match {\n",
    "        case Some(cols) => \n",
    "          // Filtrer pour ne garder que les colonnes demandées (sans les colonnes techniques)\n",
    "          cols.filterNot(c => c == \"WBAN\" || c == \"Date\" || c == \"Time\")\n",
    "        case None =>\n",
    "          // Si None, on doit inférer les colonnes à partir du premier élément du premier array\n",
    "          // Pour l'instant, on va juste supprimer Time et Date, et garder le reste\n",
    "          Seq() // On ne peut pas le savoir sans inspecter le DataFrame\n",
    "      }\n",
    "      \n",
    "      // Nettoyer les observations météo\n",
    "      val weatherObsCols = dfCleaned.columns.filter(_.endsWith(\"_weather_observations\"))\n",
    "      \n",
    "      var result = dfCleaned\n",
    "      \n",
    "      if (weatherObsCols.nonEmpty) {\n",
    "        // Construire dynamiquement le struct en fonction des colonnes sélectionnées\n",
    "        val structFields = if (weatherColsToKeep.nonEmpty) {\n",
    "          // Utiliser les colonnes explicitement demandées\n",
    "          weatherColsToKeep.map(colName => s\"obs.$colName as $colName\").mkString(\", \")\n",
    "        } else {\n",
    "          // Mode fallback : garder toutes les colonnes sauf WBAN, Date, Time\n",
    "          // On va devoir inspecter le schema du premier array\n",
    "          val sampleRow = dfCleaned.select(weatherObsCols.head).first()\n",
    "          val weatherArray = sampleRow.getAs[Seq[_]](0)\n",
    "          \n",
    "          if (weatherArray.nonEmpty) {\n",
    "            val firstObs = weatherArray.head.asInstanceOf[org.apache.spark.sql.Row]\n",
    "            val schema = firstObs.schema\n",
    "            \n",
    "            schema.fields\n",
    "              .map(_.name)\n",
    "              .filterNot(name => name == \"WBAN\" || name == \"Date\" || name == \"Time\")\n",
    "              .map(colName => s\"obs.$colName as $colName\")\n",
    "              .mkString(\", \")\n",
    "          } else {\n",
    "            // Array vide, on ne peut rien faire\n",
    "            \"\"\n",
    "          }\n",
    "        }\n",
    "        \n",
    "        if (keepRelativeTime && structFields.nonEmpty) {\n",
    "          // Garder Time mais le transformer en index relatif\n",
    "          weatherObsCols.foreach { weatherCol =>\n",
    "            result = result.withColumn(\n",
    "              weatherCol,\n",
    "              expr(s\"\"\"\n",
    "                transform(\n",
    "                  $weatherCol,\n",
    "                  obs -> struct(\n",
    "                    $structFields,\n",
    "                    cast((obs.Time - element_at($weatherCol, -1).Time) / 100 as int) as hours_before_flight\n",
    "                  )\n",
    "                )\n",
    "              \"\"\")\n",
    "            )\n",
    "          }\n",
    "          println(s\"[Anti-Leakage] Time transformé en hours_before_flight (index relatif)\")\n",
    "          println(s\"[Anti-Leakage] Champs conservés dans observations météo : ${weatherColsToKeep.mkString(\", \")}, hours_before_flight\")\n",
    "          \n",
    "        } else if (structFields.nonEmpty) {\n",
    "          // Supprimer complètement Time et Date\n",
    "          weatherObsCols.foreach { weatherCol =>\n",
    "            result = result.withColumn(\n",
    "              weatherCol,\n",
    "              expr(s\"\"\"\n",
    "                transform(\n",
    "                  $weatherCol,\n",
    "                  obs -> struct($structFields)\n",
    "                )\n",
    "              \"\"\")\n",
    "            )\n",
    "          }\n",
    "          println(s\"[Anti-Leakage] Champs supprimés des observations météo : WBAN, Time, Date\")\n",
    "          println(s\"[Anti-Leakage] Champs conservés dans observations météo : ${weatherColsToKeep.mkString(\", \")}\")\n",
    "        }\n",
    "      }\n",
    "      \n",
    "      result\n",
    "    }\n",
    "  /**\n",
    "   * Jointure spatio-temporelle pour UN aéroport (origine OU destination)\n",
    "   */\n",
    "  def joinWeatherForAirport(\n",
    "    flightDF: DataFrame,\n",
    "    weatherDF: DataFrame,\n",
    "    airportType: String,\n",
    "    weatherDepthHours: Int,\n",
    "    selectedFlightColumns: Option[Seq[String]] = None,\n",
    "    selectedWeatherColumns: Option[Seq[String]] = None\n",
    "  ): DataFrame = {\n",
    "    \n",
    "    require(\n",
    "      airportType == \"origin\" || airportType == \"destination\",\n",
    "      \"airportType doit être 'origin' ou 'destination'\"\n",
    "    )\n",
    "    \n",
    "    require(weatherDepthHours > 0 && weatherDepthHours <= 24, \n",
    "      s\"weatherDepthHours doit être entre 1 et 24, valeur fournie: $weatherDepthHours\")\n",
    "    \n",
    "    import flightDF.sparkSession.implicits._\n",
    "    \n",
    "    val isOrigin = airportType == \"origin\"\n",
    "    \n",
    "    // Déterminer les colonnes à utiliser selon le type d'aéroport\n",
    "    val (wbanCol, dateCol, timeRoundedCol) = if (isOrigin) {\n",
    "      (\"ORIGIN_WBAN\", \"UTC_FL_DATE\", \"feature_utc_departure_hour_rounded\")\n",
    "    } else {\n",
    "      (\"DEST_WBAN\", \"UTC_ARR_DATE\", \"feature_utc_arrival_hour_rounded\")\n",
    "    }\n",
    "    \n",
    "    // Déterminer les colonnes météo à inclure dans le struct\n",
    "    val weatherColsToKeep = selectedWeatherColumns match {\n",
    "      case Some(cols) => \n",
    "        val mandatory = Seq(\"WBAN\", \"Date\", \"Time\")\n",
    "        (mandatory ++ cols).distinct\n",
    "      case None => \n",
    "        weatherDF.columns.toSeq\n",
    "    }\n",
    "    \n",
    "    // ============================================\n",
    "    // PHASE MAP - Préparation des données\n",
    "    // ============================================\n",
    "    \n",
    "    val weatherTagged = weatherDF\n",
    "      .withColumn(\"Time\", col(\"Time\").cast(\"int\"))\n",
    "      .withColumn(\"table_tag\", lit(\"OT\"))\n",
    "      .withColumn(\"join_key_wban\", col(\"WBAN\"))\n",
    "      .withColumn(\"join_key_date\", col(\"Date\"))\n",
    "    \n",
    "    val flightTagged = flightDF\n",
    "      .filter(col(wbanCol).isNotNull && col(timeRoundedCol).isNotNull)\n",
    "      .withColumn(\"table_tag\", lit(\"FT\"))\n",
    "      .withColumn(\"join_key_wban\", col(wbanCol))\n",
    "      .withColumn(\"join_key_date\", col(dateCol))\n",
    "      .withColumn(\"time_rounded\", col(timeRoundedCol))\n",
    "      \n",
    "    val flightsNeedingDuplication = flightTagged\n",
    "      .filter(col(\"time_rounded\") / 100 < weatherDepthHours)\n",
    "      .withColumn(\"join_key_date\", date_sub(col(\"join_key_date\"), 1))\n",
    "    \n",
    "    val flightComplete = flightTagged.union(flightsNeedingDuplication)\n",
    "    \n",
    "    // ============================================\n",
    "    // PHASE SHUFFLE - Préparation pour jointure\n",
    "    // ============================================\n",
    "    \n",
    "    val weatherForJoin = weatherTagged\n",
    "      .select(\n",
    "        Seq(\n",
    "          col(\"join_key_wban\").as(\"key_wban\"),\n",
    "          col(\"join_key_date\").as(\"key_date\"),\n",
    "          col(\"table_tag\")\n",
    "        ) ++ weatherColsToKeep.map(c => col(c)): _*\n",
    "      )\n",
    "    \n",
    "    val allFlightCols = flightComplete.columns.toSeq\n",
    "    val excludeCols = Set(\"table_tag\", \"join_key_wban\", \"join_key_date\", \"time_rounded\")\n",
    "    val flightDataCols = allFlightCols.filterNot(excludeCols.contains)\n",
    "    \n",
    "    val flightForJoin = flightComplete\n",
    "      .select(\n",
    "        Seq(\n",
    "          col(\"join_key_wban\").as(\"key_wban\"),\n",
    "          col(\"join_key_date\").as(\"key_date\"),\n",
    "          col(\"time_rounded\")\n",
    "        ) ++ flightDataCols.map(c => col(c)): _*\n",
    "      )\n",
    "    \n",
    "    // ============================================\n",
    "    // PHASE REDUCE - Jointure et Agrégation\n",
    "    // ============================================\n",
    "    \n",
    "    val weatherStructCols = weatherColsToKeep.map(c => col(c))\n",
    "    \n",
    "    val weatherGrouped = weatherForJoin\n",
    "      .groupBy(\"key_wban\", \"key_date\")\n",
    "      .agg(\n",
    "        collect_list(\n",
    "          struct(weatherStructCols: _*)\n",
    "        ).as(\"all_weather_obs\")\n",
    "      )\n",
    "    \n",
    "    val joined = flightForJoin\n",
    "      .join(\n",
    "        weatherGrouped,\n",
    "        flightForJoin(\"key_wban\") === weatherGrouped(\"key_wban\") &&\n",
    "        flightForJoin(\"key_date\") === weatherGrouped(\"key_date\"),\n",
    "        \"left\"\n",
    "      )\n",
    "    \n",
    "    val weatherColName = s\"${airportType}_weather_observations\"\n",
    "    \n",
    "    val joinedWithFiltered = joined\n",
    "      .withColumn(\"required_hours\",\n",
    "        expr(s\"\"\"\n",
    "          transform(\n",
    "            sequence(0, $weatherDepthHours),\n",
    "            i -> cast((time_rounded / 100 - ($weatherDepthHours - i) + 24) % 24 * 100 as int)\n",
    "          )\n",
    "        \"\"\")\n",
    "      )\n",
    "      .withColumn(weatherColName,\n",
    "        expr(\"\"\"\n",
    "          filter(\n",
    "            all_weather_obs,\n",
    "            obs -> array_contains(required_hours, obs.Time)\n",
    "          )\n",
    "        \"\"\")\n",
    "      )\n",
    "    \n",
    "    // ============================================\n",
    "    // SÉLECTION FINALE DES COLONNES\n",
    "    // ============================================\n",
    "    \n",
    "    val finalFlightCols = selectedFlightColumns match {\n",
    "      case Some(cols) =>\n",
    "        val colsSet = cols.toSet\n",
    "        \n",
    "        val requiredCols = Set(\n",
    "          \"ORIGIN_WBAN\", \"UTC_FL_DATE\", \"feature_utc_departure_hour_rounded\",\n",
    "          \"DEST_WBAN\", \"UTC_ARR_DATE\", \"feature_utc_arrival_hour_rounded\"\n",
    "        )\n",
    "        \n",
    "        val missingRequired = requiredCols\n",
    "          .filter(flightDataCols.contains)\n",
    "          .diff(colsSet)\n",
    "        \n",
    "        var finalCols = (cols ++ missingRequired).distinct\n",
    "        \n",
    "        if (!isOrigin && \n",
    "            flightDataCols.contains(\"origin_weather_observations\") && \n",
    "            !colsSet.contains(\"origin_weather_observations\")) {\n",
    "          finalCols = (finalCols :+ \"origin_weather_observations\").distinct\n",
    "        }\n",
    "        \n",
    "        if (missingRequired.nonEmpty) {\n",
    "          println(s\"[FlightWeatherJoinner] Colonnes ajoutées automatiquement pour $airportType: ${missingRequired.mkString(\", \")}\")\n",
    "        }\n",
    "        \n",
    "        finalCols\n",
    "        \n",
    "      case None =>\n",
    "        flightDataCols\n",
    "    }\n",
    "    \n",
    "    val finalColsSeq = (finalFlightCols :+ weatherColName).map(c => col(c))\n",
    "    \n",
    "    val result = joinedWithFiltered\n",
    "      .select(finalColsSeq: _*)\n",
    "      .filter(size(col(weatherColName)) > 0)\n",
    "    \n",
    "    result\n",
    "  }\n",
    "}"
   ]
  },
  {
   "cell_type": "code",
   "execution_count": 88,
   "id": "58205188-77dc-46bb-bc8f-a06ca627e591",
   "metadata": {},
   "outputs": [
    {
     "name": "stdout",
     "output_type": "stream",
     "text": [
      "[FlightWeatherJoinner] Colonnes ajoutées automatiquement pour origin: feature_utc_departure_hour_rounded, UTC_ARR_DATE, UTC_FL_DATE, feature_utc_arrival_hour_rounded\n",
      "[FlightWeatherJoinner] Colonnes ajoutées automatiquement pour destination: feature_utc_departure_hour_rounded, UTC_ARR_DATE, UTC_FL_DATE, feature_utc_arrival_hour_rounded\n",
      "[Anti-Leakage] Colonnes supprimées : UTC_ARR_DATE, feature_utc_arrival_hour_rounded, feature_utc_departure_hour_rounded\n",
      "[Anti-Leakage] Time transformé en hours_before_flight (index relatif)\n",
      "[Anti-Leakage] Champs conservés dans observations météo : SkyCondition, Visibility, hours_before_flight\n",
      "================================================================================\n",
      "Temps d'exécution : 4.261 secondes\n",
      "Nombre de lignes : 204386\n",
      "================================================================================\n"
     ]
    },
    {
     "data": {
      "text/plain": [
       "processedFlightPath = /home/jovyan/work/output/common/data/processed_flights.parquet\n",
       "flightDataAll = [FL_DATE: date, OP_CARRIER_AIRLINE_ID: int ... 109 more fields]\n",
       "processedWeatherPath = /home/jovyan/work/output/common/data/processed_weather.parquet\n",
       "weatherDataAll = [WBAN: string, Date: date ... 65 more fields]\n",
       "selectedFlightCols = List(FL_DATE, OP_CARRIER_AIRLINE_ID, OP_CARRIER_FL_NUM, ORIGIN_AIRPORT_ID, DEST_AIRPORT_ID, ORIGIN_WBAN, DEST_WBAN, label_is_delayed_15min)\n",
       "selectedWeatherCols = List(SkyCondition, Visibility)\n",
       "startTime = 1760250533292\n",
       "joinedData2 = [DEST_AIRPORT_ID: int, DEST_WBAN: string ... 9 more fields]\n",
       "count = 204386\n"
      ]
     },
     "metadata": {},
     "output_type": "display_data",
     "source": "user"
    },
    {
     "data": {
      "text/plain": [
       "endT...\n"
      ]
     },
     "metadata": {},
     "output_type": "display_data",
     "source": "user"
    },
    {
     "data": {
      "text/plain": [
       "204386"
      ]
     },
     "execution_count": 88,
     "metadata": {},
     "output_type": "execute_result"
    }
   ],
   "source": [
    "// Chargement de Flight Data\n",
    "val processedFlightPath = s\"${configuration.common.output.basePath}/common/data/processed_flights.parquet\"\n",
    "val flightDataAll = spark.read.parquet(processedFlightPath)\n",
    "val processedWeatherPath = s\"${configuration.common.output.basePath}/common/data/processed_weather.parquet\"\n",
    "val weatherDataAll = spark.read.parquet(processedWeatherPath)\n",
    "\n",
    "val selectedFlightCols = Seq(\n",
    "  \"FL_DATE\",\n",
    "  \"OP_CARRIER_AIRLINE_ID\",\n",
    "  \"OP_CARRIER_FL_NUM\",\n",
    "  \"ORIGIN_AIRPORT_ID\",\n",
    "  \"DEST_AIRPORT_ID\",\n",
    "  \"ORIGIN_WBAN\",\n",
    "  \"DEST_WBAN\",\n",
    "  \"label_is_delayed_15min\"\n",
    ")\n",
    "\n",
    "val selectedWeatherCols = Seq(\n",
    "  \"SkyCondition\",\n",
    "  \"Visibility\"\n",
    ")\n",
    "\n",
    "// Démarrer le chronomètre\n",
    "val startTime = System.currentTimeMillis()\n",
    "\n",
    "val joinedData2 = FlightWeatherJoinner.joinFlightsWithWeather(\n",
    "  flightDataAll, \n",
    "  weatherDataAll,\n",
    "  weatherDepthHours = 12,  \n",
    "  removeLeakageColumns = true,  \n",
    "  selectedFlightColumns = Some(selectedFlightCols),\n",
    "  selectedWeatherColumns = Some(selectedWeatherCols)\n",
    ")\n",
    "\n",
    "// IMPORTANT : Forcer l'exécution avec une action\n",
    "val count = joinedData2.count()\n",
    "\n",
    "// Arrêter le chronomètre\n",
    "val endTime = System.currentTimeMillis()\n",
    "val executionTime = (endTime - startTime) / 1000.0\n",
    "\n",
    "println(s\"=\" * 80)\n",
    "println(s\"Temps d'exécution : $executionTime secondes\")\n",
    "println(s\"Nombre de lignes : $count\")\n",
    "println(s\"=\" * 80)"
   ]
  },
  {
   "cell_type": "code",
   "execution_count": null,
   "id": "90eb80d9-b564-457f-82c4-055765b265e8",
   "metadata": {},
   "outputs": [],
   "source": []
  }
 ],
 "metadata": {
  "kernelspec": {
   "display_name": "apache_toree_scala - Scala",
   "language": "scala",
   "name": "apache_toree_scala_scala"
  },
  "language_info": {
   "codemirror_mode": "text/x-scala",
   "file_extension": ".scala",
   "mimetype": "text/x-scala",
   "name": "scala",
   "pygments_lexer": "scala",
   "version": "2.12.15"
  }
 },
 "nbformat": 4,
 "nbformat_minor": 5
}
