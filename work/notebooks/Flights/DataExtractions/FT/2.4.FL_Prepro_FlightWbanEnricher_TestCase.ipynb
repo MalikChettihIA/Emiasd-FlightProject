{
 "cells": [
  {
   "cell_type": "markdown",
   "id": "549c4893-c53e-4450-a8ba-95474d194f8f",
   "metadata": {},
   "source": [
    "# Flight Preprocessing - Data Generation"
   ]
  },
  {
   "cell_type": "code",
   "execution_count": 1,
   "id": "88c94428-dbc0-4a56-a9c2-a79ea02d6a5c",
   "metadata": {},
   "outputs": [
    {
     "name": "stdout",
     "output_type": "stream",
     "text": [
      "Starting download from file:///home/jovyan/work/apps/Emiasd-Flight-Data-Analysis.jar\n",
      "Finished download of Emiasd-Flight-Data-Analysis.jar\n",
      "Using cached version of Emiasd-Flight-Data-Analysis.jar\n"
     ]
    }
   ],
   "source": [
    "%AddJar file:///home/jovyan/work/apps/Emiasd-Flight-Data-Analysis.jar"
   ]
  },
  {
   "cell_type": "code",
   "execution_count": 2,
   "id": "42e5025a-6a95-41ac-a937-a9e04f240204",
   "metadata": {},
   "outputs": [
    {
     "name": "stdout",
     "output_type": "stream",
     "text": [
      "\n",
      "================================================================================\n",
      "[STEP 1][DataLoader] Flight Data Loading - Start\n",
      "================================================================================\n",
      "\n",
      "Loading from existing Parquet file:\n",
      "  - Path: /home/jovyan/work/output/common/data/raw_flights.parquet\n",
      "  - Loaded 486133 records from Parquet (optimized)\n",
      "\n",
      "Schema:\n",
      "root\n",
      " |-- FL_DATE: date (nullable = true)\n",
      " |-- OP_CARRIER_AIRLINE_ID: integer (nullable = true)\n",
      " |-- OP_CARRIER_FL_NUM: integer (nullable = true)\n",
      " |-- ORIGIN_AIRPORT_ID: integer (nullable = true)\n",
      " |-- DEST_AIRPORT_ID: integer (nullable = true)\n",
      " |-- CRS_DEP_TIME: integer (nullable = true)\n",
      " |-- ARR_DELAY_NEW: double (nullable = true)\n",
      " |-- CANCELLED: integer (nullable = true)\n",
      " |-- DIVERTED: integer (nullable = true)\n",
      " |-- CRS_ELAPSED_TIME: double (nullable = true)\n",
      " |-- WEATHER_DELAY: double (nullable = true)\n",
      " |-- NAS_DELAY: double (nullable = true)\n",
      "\n",
      "\n",
      "Sample data (10 rows):\n",
      "+----------+---------------------+-----------------+-----------------+---------------+------------+-------------+---------+--------+----------------+-------------+---------+\n",
      "|   FL_DATE|OP_CARRIER_AIRLINE_ID|OP_CARRIER_FL_NUM|ORIGIN_AIRPORT_ID|DEST_AIRPORT_ID|CRS_DEP_TIME|ARR_DELAY_NEW|CANCELLED|DIVERTED|CRS_ELAPSED_TIME|WEATHER_DELAY|NAS_DELAY|\n",
      "+----------+---------------------+-----------------+-----------------+---------------+------------+-------------+---------+--------+----------------+-------------+---------+\n",
      "|2012-01-01|                20366|             4426|            15370|          12266|         845|          0.0|     NULL|    NULL|            99.0|         NULL|     NULL|\n",
      "|2012-01-01|                20366|             4427|            12266|          15370|         858|          0.0|     NULL|    NULL|            88.0|         NULL|     NULL|\n",
      "|2012-01-01|                20366|             4427|            15370|          12266|        1051|          0.0|     NULL|    NULL|            89.0|         NULL|     NULL|\n",
      "|2012-01-01|                20366|             4428|            12266|          15370|        1125|         31.0|     NULL|    NULL|            87.0|          0.0|      2.0|\n",
      "|2012-01-01|                20366|             4428|            15370|          12266|        1319|         21.0|     NULL|    NULL|            96.0|          0.0|      0.0|\n",
      "|2012-01-01|                20366|             4429|            12266|          15370|        1328|          0.0|     NULL|    NULL|            94.0|         NULL|     NULL|\n",
      "|2012-01-01|                20366|             4429|            15370|          12266|        1527|          0.0|     NULL|    NULL|            97.0|         NULL|     NULL|\n",
      "|2012-01-01|                20366|             4430|            12266|          15370|        1449|         10.0|     NULL|    NULL|            89.0|         NULL|     NULL|\n",
      "|2012-01-01|                20366|             4430|            15370|          12266|        1643|          0.0|     NULL|    NULL|            98.0|         NULL|     NULL|\n",
      "|2012-01-01|                20366|             4431|            12266|          15370|        1920|         55.0|     NULL|    NULL|            91.0|          0.0|      0.0|\n",
      "+----------+---------------------+-----------------+-----------------+---------------+------------+-------------+---------+--------+----------------+-------------+---------+\n",
      "only showing top 10 rows\n",
      "\n"
     ]
    },
    {
     "data": {
      "text/plain": [
       "args = Array(juniper)\n",
       "spark = org.apache.spark.sql.SparkSession@779b9e9f\n",
       "session = org.apache.spark.sql.SparkSession@779b9e9f\n",
       "configuration = AppConfiguration(local,CommonConfig(42,DataConfig(/home/jovyan/work/data,FileConfig(/home/jovyan/work/data/FLIGHT-3Y/Flights/201201.csv),FileConfig(/home/jovyan/work/data/FLIGHT-3Y/Weather/201201hourly.txt),FileConfig(/home/jovyan/work/data/FLIGHT-3Y/wban_airport_timezone.csv)),OutputConfig(/home/jovyan/work/output,FileConfig(/home/jovyan/work/output/data),FileCo...\n"
      ]
     },
     "metadata": {},
     "output_type": "display_data",
     "source": "user"
    },
    {
     "data": {
      "text/plain": [
       "AppConfiguration(local,CommonConfig(42,DataConfig(/home/jovyan/work/data,FileConfig(/home/jovyan/work/data/FLIGHT-3Y/Flights/201201.csv),FileConfig(/home/jovyan/work/data/FLIGHT-3Y/Weather/201201hourly.txt),FileConfig(/home/jovyan/work/data/FLIGHT-3Y/wban_airport_timezone.csv)),OutputConfig(/home/jovyan/work/output,FileConfig(/home/jovyan/work/output/data),FileCo..."
      ]
     },
     "execution_count": 2,
     "metadata": {},
     "output_type": "execute_result"
    }
   ],
   "source": [
    "import org.apache.spark.sql.SparkSession\n",
    "import com.flightdelay.config.{AppConfiguration, ConfigurationLoader}\n",
    "import com.flightdelay.data.loaders.FlightDataLoader\n",
    "\n",
    "//Env Configuration\n",
    "val args: Array[String] = Array(\"juniper\")\n",
    "\n",
    "val spark = SparkSession.builder()\n",
    "  .config(sc.getConf)\n",
    "  .getOrCreate()\n",
    "\n",
    "// Rendre la session Spark implicite\n",
    "implicit val session = spark\n",
    "implicit val configuration: AppConfiguration = ConfigurationLoader.loadConfiguration(args)\n",
    "\n",
    "// Cellule 4: Test\n",
    "val flightData = FlightDataLoader.loadFromConfiguration(false)"
   ]
  },
  {
   "cell_type": "markdown",
   "id": "b8dc247c-890b-40b2-8618-cf378b80ac3b",
   "metadata": {},
   "source": [
    "# Jointure entre Flight et WBAN"
   ]
  },
  {
   "cell_type": "code",
   "execution_count": 4,
   "id": "16030c4d-c04d-404c-9fee-49cbd3dd48c8",
   "metadata": {},
   "outputs": [
    {
     "name": "stdout",
     "output_type": "stream",
     "text": [
      "\n",
      "================================================================================\n",
      "[Preprocessing] Flight WBAN Enrichment - Start\n",
      "================================================================================\n",
      "\n",
      "Loading WBAN-Airport-Timezone mapping:\n",
      "  - Path: /home/jovyan/work/output/common/data/raw_wban_airport_timezone.parquet\n",
      "  - Loaded 305 airport-WBAN mappings\n",
      "\n",
      "Enrichment statistics:\n",
      "  - Total flights: 461369\n",
      "  - Flights with origin WBAN: 461369 (100%)\n",
      "  - Flights with destination WBAN: 461369 (100%)\n",
      "\n",
      "================================================================================\n",
      "[Preprocessing] Flight WBAN Enrichment - End\n",
      "================================================================================\n"
     ]
    },
    {
     "data": {
      "text/plain": [
       "withWBANData = [FL_DATE: date, OP_CARRIER_AIRLINE_ID: int ... 14 more fields]\n"
      ]
     },
     "metadata": {},
     "output_type": "display_data",
     "source": "user"
    },
    {
     "data": {
      "text/plain": [
       "[FL_DATE: date, OP_CARRIER_AIRLINE_ID: int ... 14 more fields]"
      ]
     },
     "execution_count": 4,
     "metadata": {},
     "output_type": "execute_result"
    }
   ],
   "source": [
    "import com.flightdelay.data.preprocessing.flights.FlightWBANEnricher\n",
    "\n",
    "val withWBANData = FlightWBANEnricher.preprocess(flightData)"
   ]
  },
  {
   "cell_type": "code",
   "execution_count": 5,
   "id": "09b6708e-8ae9-43c8-83e6-7012c4943493",
   "metadata": {},
   "outputs": [
    {
     "data": {
      "text/plain": [
       "486133"
      ]
     },
     "execution_count": 5,
     "metadata": {},
     "output_type": "execute_result"
    }
   ],
   "source": [
    "flightData.count()"
   ]
  },
  {
   "cell_type": "code",
   "execution_count": 6,
   "id": "89bf588e-7e45-4365-915a-e94919707422",
   "metadata": {},
   "outputs": [
    {
     "name": "stdout",
     "output_type": "stream",
     "text": [
      "+----------+---------------------+-----------------+-----------------+---------------+------------+-------------+---------+--------+----------------+-------------+---------+\n",
      "|   FL_DATE|OP_CARRIER_AIRLINE_ID|OP_CARRIER_FL_NUM|ORIGIN_AIRPORT_ID|DEST_AIRPORT_ID|CRS_DEP_TIME|ARR_DELAY_NEW|CANCELLED|DIVERTED|CRS_ELAPSED_TIME|WEATHER_DELAY|NAS_DELAY|\n",
      "+----------+---------------------+-----------------+-----------------+---------------+------------+-------------+---------+--------+----------------+-------------+---------+\n",
      "|2012-01-01|                20366|             4426|            15370|          12266|         845|          0.0|     NULL|    NULL|            99.0|         NULL|     NULL|\n",
      "|2012-01-01|                20366|             4427|            12266|          15370|         858|          0.0|     NULL|    NULL|            88.0|         NULL|     NULL|\n",
      "|2012-01-01|                20366|             4427|            15370|          12266|        1051|          0.0|     NULL|    NULL|            89.0|         NULL|     NULL|\n",
      "|2012-01-01|                20366|             4428|            12266|          15370|        1125|         31.0|     NULL|    NULL|            87.0|          0.0|      2.0|\n",
      "|2012-01-01|                20366|             4428|            15370|          12266|        1319|         21.0|     NULL|    NULL|            96.0|          0.0|      0.0|\n",
      "+----------+---------------------+-----------------+-----------------+---------------+------------+-------------+---------+--------+----------------+-------------+---------+\n",
      "only showing top 5 rows\n",
      "\n"
     ]
    }
   ],
   "source": [
    "flightData.show(5)"
   ]
  },
  {
   "cell_type": "code",
   "execution_count": 14,
   "id": "257b4fb8-4c7a-4dfc-84ac-fd018987b9b6",
   "metadata": {},
   "outputs": [
    {
     "name": "stdout",
     "output_type": "stream",
     "text": [
      "+-----------------+\n",
      "|ORIGIN_AIRPORT_ID|\n",
      "+-----------------+\n",
      "|            14570|\n",
      "|            11146|\n",
      "|            11630|\n",
      "|            13795|\n",
      "|            12264|\n",
      "|            10257|\n",
      "|            15070|\n",
      "|            14771|\n",
      "|            12436|\n",
      "|            12523|\n",
      "|            12007|\n",
      "|            11057|\n",
      "|            13830|\n",
      "|            13377|\n",
      "|            10994|\n",
      "|            15096|\n",
      "|            14814|\n",
      "|            13873|\n",
      "|            12191|\n",
      "|            15024|\n",
      "+-----------------+\n",
      "only showing top 20 rows\n",
      "\n",
      "Nombre d'aéroports uniques: 287\n"
     ]
    },
    {
     "data": {
      "text/plain": [
       "allAirportIDs = [ORIGIN_AIRPORT_ID: int]\n",
       "nbAirportsUniques = 287\n"
      ]
     },
     "metadata": {},
     "output_type": "display_data",
     "source": "user"
    },
    {
     "data": {
      "text/plain": [
       "287"
      ]
     },
     "execution_count": 14,
     "metadata": {},
     "output_type": "execute_result"
    }
   ],
   "source": [
    "import org.apache.spark.sql.functions._\n",
    "\n",
    "// Obtenir tous les IDs d'aéroports distincts (départ + arrivée)\n",
    "val allAirportIDs = flightData.select(\"ORIGIN_AIRPORT_ID\")\n",
    "  .union(flightData.select(\"DEST_AIRPORT_ID\"))\n",
    "  .distinct()\n",
    "\n",
    "allAirportIDs.show()\n",
    "\n",
    "// Compter le nombre total d'aéroports uniques\n",
    "val nbAirportsUniques = allAirportIDs.count()\n",
    "println(s\"Nombre d'aéroports uniques: $nbAirportsUniques\")"
   ]
  },
  {
   "cell_type": "code",
   "execution_count": 7,
   "id": "858849ce-3937-4d32-8815-55aa0252760a",
   "metadata": {},
   "outputs": [
    {
     "data": {
      "text/plain": [
       "461369"
      ]
     },
     "execution_count": 7,
     "metadata": {},
     "output_type": "execute_result"
    }
   ],
   "source": [
    "withWBANData.count()"
   ]
  },
  {
   "cell_type": "code",
   "execution_count": 12,
   "id": "665319e5-d680-4615-97eb-c5e314ea6087",
   "metadata": {},
   "outputs": [
    {
     "data": {
      "text/plain": [
       "wbanParquetPath = /home/jovyan/work/output/common/data/raw_wban_airport_timezone.parquet\n",
       "wbanMappingDf = [AirportID: int, WBAN: string ... 1 more field]\n"
      ]
     },
     "metadata": {},
     "output_type": "display_data",
     "source": "user"
    },
    {
     "data": {
      "text/plain": [
       "[AirportID: int, WBAN: string ... 1 more field]"
      ]
     },
     "execution_count": 12,
     "metadata": {},
     "output_type": "execute_result"
    }
   ],
   "source": [
    "val wbanParquetPath = s\"${configuration.common.output.basePath}/common/data/raw_wban_airport_timezone.parquet\"\n",
    "val wbanMappingDf = spark.read.parquet(wbanParquetPath)"
   ]
  },
  {
   "cell_type": "code",
   "execution_count": null,
   "id": "a41f5a7e-e1c9-488b-b41e-381793413951",
   "metadata": {},
   "outputs": [],
   "source": [
    "wbanMappingDf.count()"
   ]
  },
  {
   "cell_type": "code",
   "execution_count": 15,
   "id": "b64ba64e-3d00-4053-a528-091ae0f10932",
   "metadata": {},
   "outputs": [
    {
     "name": "stdout",
     "output_type": "stream",
     "text": [
      "+---------+-----+--------+\n",
      "|AirportID| WBAN|TimeZone|\n",
      "+---------+-----+--------+\n",
      "|    10685|54831|      -6|\n",
      "|    14871|24232|      -8|\n",
      "|    10620|24033|      -7|\n",
      "|    14747|24233|      -8|\n",
      "|    11252|12834|      -5|\n",
      "+---------+-----+--------+\n",
      "only showing top 5 rows\n",
      "\n"
     ]
    }
   ],
   "source": [
    "wbanMappingDf.show(5)"
   ]
  },
  {
   "cell_type": "code",
   "execution_count": 16,
   "id": "37c63fab-5d8a-489c-85cf-abaa84388cfa",
   "metadata": {},
   "outputs": [
    {
     "name": "stdout",
     "output_type": "stream",
     "text": [
      "+---------+\n",
      "|AirportID|\n",
      "+---------+\n",
      "|    11146|\n",
      "|    11630|\n",
      "|    13795|\n",
      "|    15070|\n",
      "|    10994|\n",
      "|    11076|\n",
      "|    10135|\n",
      "|    13290|\n",
      "|    10165|\n",
      "|    14254|\n",
      "|    10627|\n",
      "|    10643|\n",
      "|    10434|\n",
      "|    13256|\n",
      "|    15323|\n",
      "|    15919|\n",
      "|    11995|\n",
      "|    11617|\n",
      "|    14794|\n",
      "|    12758|\n",
      "+---------+\n",
      "only showing top 20 rows\n",
      "\n",
      "Nombre d'aéroports dans Flights mais pas dans Airport: 38\n"
     ]
    },
    {
     "data": {
      "text/plain": [
       "airportsInFlightsOnly = [AirportID: int]\n"
      ]
     },
     "metadata": {},
     "output_type": "display_data",
     "source": "user"
    },
    {
     "data": {
      "text/plain": [
       "[AirportID: int]"
      ]
     },
     "execution_count": 16,
     "metadata": {},
     "output_type": "execute_result"
    }
   ],
   "source": [
    "import org.apache.spark.sql.functions._\n",
    "\n",
    "// Trouver les aéroports dans Flights qui ne sont pas dans Airport\n",
    "val airportsInFlightsOnly = allAirportIDs\n",
    "  .select(col(\"ORIGIN_AIRPORT_ID\").as(\"AirportID\"))\n",
    "  .distinct()\n",
    "  .join(\n",
    "    wbanMappingDf.select(\"AirportID\"),\n",
    "    Seq(\"AirportID\"),\n",
    "    \"left_anti\"  // Garde uniquement les lignes de gauche qui n'ont pas de correspondance\n",
    "  )\n",
    "\n",
    "airportsInFlightsOnly.show()\n",
    "println(s\"Nombre d'aéroports dans Flights mais pas dans Airport: ${airportsInFlightsOnly.count()}\")"
   ]
  },
  {
   "cell_type": "code",
   "execution_count": null,
   "id": "1b547e26-3557-4442-9833-2d2230bd0e18",
   "metadata": {},
   "outputs": [],
   "source": []
  }
 ],
 "metadata": {
  "kernelspec": {
   "display_name": "apache_toree_scala - Scala",
   "language": "scala",
   "name": "apache_toree_scala_scala"
  },
  "language_info": {
   "codemirror_mode": "text/x-scala",
   "file_extension": ".scala",
   "mimetype": "text/x-scala",
   "name": "scala",
   "pygments_lexer": "scala",
   "version": "2.12.15"
  }
 },
 "nbformat": 4,
 "nbformat_minor": 5
}
