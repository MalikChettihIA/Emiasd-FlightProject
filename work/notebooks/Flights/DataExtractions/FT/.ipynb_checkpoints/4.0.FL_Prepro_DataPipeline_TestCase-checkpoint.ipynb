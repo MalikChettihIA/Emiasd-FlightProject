{
 "cells": [
  {
   "cell_type": "markdown",
   "id": "549c4893-c53e-4450-a8ba-95474d194f8f",
   "metadata": {},
   "source": [
    "# Flight Preprocessing - Data Generation"
   ]
  },
  {
   "cell_type": "code",
   "execution_count": 1,
   "id": "88c94428-dbc0-4a56-a9c2-a79ea02d6a5c",
   "metadata": {},
   "outputs": [
    {
     "name": "stdout",
     "output_type": "stream",
     "text": [
      "Starting download from file:///home/jovyan/work/apps/Emiasd-Flight-Data-Analysis.jar\n",
      "Finished download of Emiasd-Flight-Data-Analysis.jar\n",
      "Using cached version of Emiasd-Flight-Data-Analysis.jar\n"
     ]
    }
   ],
   "source": [
    "%AddJar file:///home/jovyan/work/apps/Emiasd-Flight-Data-Analysis.jar"
   ]
  },
  {
   "cell_type": "code",
   "execution_count": 2,
   "id": "42e5025a-6a95-41ac-a937-a9e04f240204",
   "metadata": {},
   "outputs": [
    {
     "name": "stdout",
     "output_type": "stream",
     "text": [
      "\n",
      "================================================================================\n",
      "[STEP 1][DataLoader] Flight Data Loading - Start\n",
      "================================================================================\n",
      "\n",
      "Loading from CSV file:\n",
      "  - Path: ../../../../data/FLIGHT-3Y/Flights/201201.csv\n",
      "  - Loaded 486133 records from CSV\n",
      "\n",
      "Schema:\n",
      "root\n",
      " |-- FL_DATE: date (nullable = true)\n",
      " |-- OP_CARRIER_AIRLINE_ID: integer (nullable = true)\n",
      " |-- OP_CARRIER_FL_NUM: integer (nullable = true)\n",
      " |-- ORIGIN_AIRPORT_ID: integer (nullable = true)\n",
      " |-- DEST_AIRPORT_ID: integer (nullable = true)\n",
      " |-- CRS_DEP_TIME: integer (nullable = true)\n",
      " |-- ARR_DELAY_NEW: double (nullable = true)\n",
      " |-- CANCELLED: integer (nullable = true)\n",
      " |-- DIVERTED: integer (nullable = true)\n",
      " |-- CRS_ELAPSED_TIME: double (nullable = true)\n",
      " |-- WEATHER_DELAY: double (nullable = true)\n",
      " |-- NAS_DELAY: double (nullable = true)\n",
      "\n",
      "\n",
      "Sample data (10 rows):\n",
      "+----------+---------------------+-----------------+-----------------+---------------+------------+-------------+---------+--------+----------------+-------------+---------+\n",
      "|   FL_DATE|OP_CARRIER_AIRLINE_ID|OP_CARRIER_FL_NUM|ORIGIN_AIRPORT_ID|DEST_AIRPORT_ID|CRS_DEP_TIME|ARR_DELAY_NEW|CANCELLED|DIVERTED|CRS_ELAPSED_TIME|WEATHER_DELAY|NAS_DELAY|\n",
      "+----------+---------------------+-----------------+-----------------+---------------+------------+-------------+---------+--------+----------------+-------------+---------+\n",
      "|2012-01-01|                20366|             4426|            15370|          12266|         845|          0.0|     NULL|    NULL|            99.0|         NULL|     NULL|\n",
      "|2012-01-01|                20366|             4427|            12266|          15370|         858|          0.0|     NULL|    NULL|            88.0|         NULL|     NULL|\n",
      "|2012-01-01|                20366|             4427|            15370|          12266|        1051|          0.0|     NULL|    NULL|            89.0|         NULL|     NULL|\n",
      "|2012-01-01|                20366|             4428|            12266|          15370|        1125|         31.0|     NULL|    NULL|            87.0|          0.0|      2.0|\n",
      "|2012-01-01|                20366|             4428|            15370|          12266|        1319|         21.0|     NULL|    NULL|            96.0|          0.0|      0.0|\n",
      "|2012-01-01|                20366|             4429|            12266|          15370|        1328|          0.0|     NULL|    NULL|            94.0|         NULL|     NULL|\n",
      "|2012-01-01|                20366|             4429|            15370|          12266|        1527|          0.0|     NULL|    NULL|            97.0|         NULL|     NULL|\n",
      "|2012-01-01|                20366|             4430|            12266|          15370|        1449|         10.0|     NULL|    NULL|            89.0|         NULL|     NULL|\n",
      "|2012-01-01|                20366|             4430|            15370|          12266|        1643|          0.0|     NULL|    NULL|            98.0|         NULL|     NULL|\n",
      "|2012-01-01|                20366|             4431|            12266|          15370|        1920|         55.0|     NULL|    NULL|            91.0|          0.0|      0.0|\n",
      "+----------+---------------------+-----------------+-----------------+---------------+------------+-------------+---------+--------+----------------+-------------+---------+\n",
      "only showing top 10 rows\n",
      "\n"
     ]
    },
    {
     "data": {
      "text/plain": [
       "args = Array(juniper)\n",
       "spark = org.apache.spark.sql.SparkSession@7f943495\n",
       "session = org.apache.spark.sql.SparkSession@7f943495\n",
       "configuration = AppConfiguration(local,CommonConfig(42,DataConfig(/home/jovyan/work/data,FileConfig(/home/jovyan/work/data/FLIGHT-3Y/Flights/201201.csv),FileConfig(/home/jovyan/work/data/FLIGHT-3Y/Weather/201201hourly.txt),FileConfig(/home/jovyan/work/data/FLIGHT-3Y/wban_airport_timezone.csv)),OutputConfig(/home/jovyan/work/output,FileConfig(/home/jovyan/work/output/data),FileCo...\n"
      ]
     },
     "metadata": {},
     "output_type": "display_data",
     "source": "user"
    },
    {
     "data": {
      "text/plain": [
       "AppConfiguration(local,CommonConfig(42,DataConfig(/home/jovyan/work/data,FileConfig(/home/jovyan/work/data/FLIGHT-3Y/Flights/201201.csv),FileConfig(/home/jovyan/work/data/FLIGHT-3Y/Weather/201201hourly.txt),FileConfig(/home/jovyan/work/data/FLIGHT-3Y/wban_airport_timezone.csv)),OutputConfig(/home/jovyan/work/output,FileConfig(/home/jovyan/work/output/data),FileCo..."
      ]
     },
     "execution_count": 2,
     "metadata": {},
     "output_type": "execute_result"
    }
   ],
   "source": [
    "import org.apache.spark.sql.SparkSession\n",
    "import com.flightdelay.config.{AppConfiguration, ConfigurationLoader}\n",
    "import com.flightdelay.data.loaders.FlightDataLoader\n",
    "\n",
    "//Env Configuration\n",
    "val args: Array[String] = Array(\"juniper\")\n",
    "\n",
    "val spark = SparkSession.builder()\n",
    "  .config(sc.getConf)\n",
    "  .getOrCreate()\n",
    "\n",
    "// Rendre la session Spark implicite\n",
    "implicit val session = spark\n",
    "implicit val configuration: AppConfiguration = ConfigurationLoader.loadConfiguration(args)\n",
    "\n",
    "// Cellule 4: Test\n",
    "val flightData = FlightDataLoader.loadFromConfiguration(false)"
   ]
  },
  {
   "cell_type": "code",
   "execution_count": 5,
   "id": "16030c4d-c04d-404c-9fee-49cbd3dd48c8",
   "metadata": {},
   "outputs": [
    {
     "name": "stdout",
     "output_type": "stream",
     "text": [
      "\n",
      "================================================================================\n",
      "[Preprocessing] Flight WBAN Enrichment - Start\n",
      "================================================================================\n",
      "\n",
      "Loading WBAN-Airport-Timezone mapping:\n",
      "  - Path: /output/common/data/raw_wban_airport_timezone.parquet\n"
     ]
    },
    {
     "ename": "org.apache.spark.sql.AnalysisException",
     "evalue": "[PATH_NOT_FOUND] Path does not exist: file:/output/common/data/raw_wban_airport_timezone.parquet.",
     "output_type": "error",
     "traceback": [
      "org.apache.spark.sql.AnalysisException: [PATH_NOT_FOUND] Path does not exist: file:/output/common/data/raw_wban_airport_timezone.parquet.",
      "  at org.apache.spark.sql.errors.QueryCompilationErrors$.dataPathNotExistError(QueryCompilationErrors.scala:1499)",
      "  at org.apache.spark.sql.execution.datasources.DataSource$.$anonfun$checkAndGlobPathIfNecessary$4(DataSource.scala:757)",
      "  at org.apache.spark.sql.execution.datasources.DataSource$.$anonfun$checkAndGlobPathIfNecessary$4$adapted(DataSource.scala:754)",
      "  at org.apache.spark.util.ThreadUtils$.$anonfun$parmap$2(ThreadUtils.scala:384)",
      "  at scala.concurrent.Future$.$anonfun$apply$1(Future.scala:659)",
      "  at scala.util.Success.$anonfun$map$1(Try.scala:255)",
      "  at scala.util.Success.map(Try.scala:213)",
      "  at scala.concurrent.Future.$anonfun$map$1(Future.scala:292)",
      "  at scala.concurrent.impl.Promise.liftedTree1$1(Promise.scala:33)",
      "  at scala.concurrent.impl.Promise.$anonfun$transform$1(Promise.scala:33)",
      "  at scala.concurrent.impl.CallbackRunnable.run(Promise.scala:64)",
      "  at java.base/java.util.concurrent.ForkJoinTask$RunnableExecuteAction.exec(ForkJoinTask.java:1426)",
      "  at java.base/java.util.concurrent.ForkJoinTask.doExec(ForkJoinTask.java:290)",
      "  at java.base/java.util.concurrent.ForkJoinPool$WorkQueue.topLevelExec(ForkJoinPool.java:1020)",
      "  at java.base/java.util.concurrent.ForkJoinPool.scan(ForkJoinPool.java:1656)",
      "  at java.base/java.util.concurrent.ForkJoinPool.runWorker(ForkJoinPool.java:1594)",
      "  at java.base/java.util.concurrent.ForkJoinWorkerThread.run(ForkJoinWorkerThread.java:183)"
     ]
    }
   ],
   "source": [
    "import com.flightdelay.data.preprocessing.flights.FlightWBANEnricher\n",
    "\n",
    "val withWBANData = FlightWBANEnricher.preprocess(flightData)"
   ]
  },
  {
   "cell_type": "code",
   "execution_count": 7,
   "id": "09b6708e-8ae9-43c8-83e6-7012c4943493",
   "metadata": {},
   "outputs": [
    {
     "ename": "Error parsing magics!",
     "evalue": "Magics [pwd] do not exist!",
     "output_type": "error",
     "traceback": []
    }
   ],
   "source": [
    "%pwd"
   ]
  },
  {
   "cell_type": "code",
   "execution_count": null,
   "id": "858849ce-3937-4d32-8815-55aa0252760a",
   "metadata": {},
   "outputs": [],
   "source": []
  }
 ],
 "metadata": {
  "kernelspec": {
   "display_name": "apache_toree_scala - Scala",
   "language": "scala",
   "name": "apache_toree_scala_scala"
  },
  "language_info": {
   "codemirror_mode": "text/x-scala",
   "file_extension": ".scala",
   "mimetype": "text/x-scala",
   "name": "scala",
   "pygments_lexer": "scala",
   "version": "2.12.15"
  }
 },
 "nbformat": 4,
 "nbformat_minor": 5
}
