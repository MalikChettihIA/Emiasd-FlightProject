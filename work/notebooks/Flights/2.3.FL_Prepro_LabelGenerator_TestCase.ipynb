{
 "cells": [
  {
   "cell_type": "markdown",
   "id": "549c4893-c53e-4450-a8ba-95474d194f8f",
   "metadata": {},
   "source": [
    "# Flight Preprocessing - Data Generation"
   ]
  },
  {
   "cell_type": "code",
   "execution_count": 1,
   "id": "88c94428-dbc0-4a56-a9c2-a79ea02d6a5c",
   "metadata": {},
   "outputs": [
    {
     "name": "stdout",
     "output_type": "stream",
     "text": [
      "Starting download from file:///home/jovyan/work/apps/Emiasd-Flight-Data-Analysis.jar\n",
      "Finished download of Emiasd-Flight-Data-Analysis.jar\n",
      "Using cached version of Emiasd-Flight-Data-Analysis.jar\n"
     ]
    }
   ],
   "source": [
    "%AddJar file:///home/jovyan/work/apps/Emiasd-Flight-Data-Analysis.jar"
   ]
  },
  {
   "cell_type": "code",
   "execution_count": 2,
   "id": "42e5025a-6a95-41ac-a937-a9e04f240204",
   "metadata": {},
   "outputs": [
    {
     "name": "stdout",
     "output_type": "stream",
     "text": [
      "\n",
      "\n",
      "----------------------------------------------------------------------------------------------------------\n",
      "--> [FlightDataLoader] Flight Data Loading - Start ...\n",
      "--> 486133 loaded ...\n",
      "root\n",
      " |-- FL_DATE: date (nullable = true)\n",
      " |-- OP_CARRIER_AIRLINE_ID: integer (nullable = true)\n",
      " |-- OP_CARRIER_FL_NUM: integer (nullable = true)\n",
      " |-- ORIGIN_AIRPORT_ID: integer (nullable = true)\n",
      " |-- DEST_AIRPORT_ID: integer (nullable = true)\n",
      " |-- CRS_DEP_TIME: integer (nullable = true)\n",
      " |-- ARR_DELAY_NEW: double (nullable = true)\n",
      " |-- CANCELLED: double (nullable = true)\n",
      " |-- DIVERTED: double (nullable = true)\n",
      " |-- CRS_ELAPSED_TIME: double (nullable = true)\n",
      " |-- WEATHER_DELAY: double (nullable = true)\n",
      " |-- NAS_DELAY: double (nullable = true)\n",
      "\n",
      "+----------+---------------------+-----------------+-----------------+---------------+------------+-------------+---------+--------+----------------+-------------+---------+\n",
      "|   FL_DATE|OP_CARRIER_AIRLINE_ID|OP_CARRIER_FL_NUM|ORIGIN_AIRPORT_ID|DEST_AIRPORT_ID|CRS_DEP_TIME|ARR_DELAY_NEW|CANCELLED|DIVERTED|CRS_ELAPSED_TIME|WEATHER_DELAY|NAS_DELAY|\n",
      "+----------+---------------------+-----------------+-----------------+---------------+------------+-------------+---------+--------+----------------+-------------+---------+\n",
      "|2012-01-01|                20366|             4426|            15370|          12266|         845|          0.0|      0.0|     0.0|            99.0|         NULL|     NULL|\n",
      "|2012-01-01|                20366|             4427|            12266|          15370|         858|          0.0|      0.0|     0.0|            88.0|         NULL|     NULL|\n",
      "|2012-01-01|                20366|             4427|            15370|          12266|        1051|          0.0|      0.0|     0.0|            89.0|         NULL|     NULL|\n",
      "|2012-01-01|                20366|             4428|            12266|          15370|        1125|         31.0|      0.0|     0.0|            87.0|          0.0|      2.0|\n",
      "|2012-01-01|                20366|             4428|            15370|          12266|        1319|         21.0|      0.0|     0.0|            96.0|          0.0|      0.0|\n",
      "|2012-01-01|                20366|             4429|            12266|          15370|        1328|          0.0|      0.0|     0.0|            94.0|         NULL|     NULL|\n",
      "|2012-01-01|                20366|             4429|            15370|          12266|        1527|          0.0|      0.0|     0.0|            97.0|         NULL|     NULL|\n",
      "|2012-01-01|                20366|             4430|            12266|          15370|        1449|         10.0|      0.0|     0.0|            89.0|         NULL|     NULL|\n",
      "|2012-01-01|                20366|             4430|            15370|          12266|        1643|          0.0|      0.0|     0.0|            98.0|         NULL|     NULL|\n",
      "|2012-01-01|                20366|             4431|            12266|          15370|        1920|         55.0|      0.0|     0.0|            91.0|          0.0|      0.0|\n",
      "+----------+---------------------+-----------------+-----------------+---------------+------------+-------------+---------+--------+----------------+-------------+---------+\n",
      "only showing top 10 rows\n",
      "\n",
      "--> [FlightDataLoader] Flight Data Loading - End ...\n",
      "----------------------------------------------------------------------------------------------------------\n",
      "\n",
      "\n"
     ]
    },
    {
     "data": {
      "text/plain": [
       "args = Array(local)\n",
       "spark = org.apache.spark.sql.SparkSession@596eb673\n",
       "session = org.apache.spark.sql.SparkSession@596eb673\n",
       "configuration = AppConfiguration(local,DataConfig(/data,FileConfig(/data/FLIGHT-3Y/Flights/201201.csv),FileConfig(/data/FLIGHT-3Y/Weather/201201hourly.txt),FileConfig(/data/FLIGHT-3Y/wban_airport_timezone.csv)),OutputConfig(/output,FileConfig(/output/data),FileConfig(/output/model)))\n",
       "flightFilePath = ../../data/FLIGHT-3Y/Flights/201201.csv\n"
      ]
     },
     "metadata": {},
     "output_type": "display_data",
     "source": "user"
    },
    {
     "data": {
      "text/plain": [
       "flightData: org.apache.spark.sql....\n"
      ]
     },
     "metadata": {},
     "output_type": "display_data",
     "source": "user"
    },
    {
     "data": {
      "text/plain": [
       "../../data/FLIGHT-3Y/Flights/201201.csv"
      ]
     },
     "execution_count": 2,
     "metadata": {},
     "output_type": "execute_result"
    }
   ],
   "source": [
    "import org.apache.spark.sql.SparkSession\n",
    "import com.flightdelay.config.{AppConfiguration, ConfigurationLoader}\n",
    "import com.flightdelay.data.loaders.FlightDataLoader\n",
    "\n",
    "//Env Configuration\n",
    "val args: Array[String] = Array(\"local\")\n",
    "\n",
    "val spark = SparkSession.builder()\n",
    "  .config(sc.getConf)\n",
    "  .getOrCreate()\n",
    "\n",
    "// Rendre la session Spark implicite\n",
    "implicit val session = spark\n",
    "implicit val configuration: AppConfiguration = ConfigurationLoader.loadConfiguration(args)\n",
    "\n",
    "// Cellule 4: Test\n",
    "val flightFilePath = \"../../data/FLIGHT-3Y/Flights/201201.csv\"\n",
    "val flightData = FlightDataLoader.loadFromFilePath(flightFilePath)"
   ]
  },
  {
   "cell_type": "code",
   "execution_count": 3,
   "id": "16030c4d-c04d-404c-9fee-49cbd3dd48c8",
   "metadata": {},
   "outputs": [
    {
     "name": "stdout",
     "output_type": "stream",
     "text": [
      "\n",
      "\n",
      "----------------------------------------------------------------------------------------------------------\n",
      "--> [FlightLabelGenerator] Flight Label Generator - Start ...\n",
      "----------------------------------------------------------------------------------------------------------\n",
      "\n",
      "Phase 1: Validate Required Columns\n",
      "- Validation of required columns: OK\n",
      "\n",
      "Phase 2: Handling missing values for delays\n",
      "\n",
      "Phase 2: Adding basic labels for different thresholds\n",
      "- Add label_is_delayed_15min\n",
      "- Add label_is_delayed_30min\n",
      "- Add label_is_delayed_45min\n",
      "- Add label_is_delayed_60min\n",
      "- Add label_is_delayed_90min\n",
      "- Add label_has_weather_delay\n",
      "- Add label_has_nas_delay\n",
      "- Add label_has_any_weather_nas_delay\n",
      "- Add label_total_weather_nas_delay\n",
      "- Add label_is_on_time\n",
      "- Add label_is_early\n",
      "\n",
      "--> [FlightDataGenerator] Flight Data Generator- End ...\n",
      "----------------------------------------------------------------------------------------------------------\n",
      "\n",
      "\n"
     ]
    },
    {
     "data": {
      "text/plain": [
       "withBasicLabels = [FL_DATE: date, OP_CARRIER_AIRLINE_ID: int ... 27 more fields]\n"
      ]
     },
     "metadata": {},
     "output_type": "display_data",
     "source": "user"
    },
    {
     "data": {
      "text/plain": [
       "[FL_DATE: date, OP_CARRIER_AIRLINE_ID: int ... 27 more fields]"
      ]
     },
     "execution_count": 3,
     "metadata": {},
     "output_type": "execute_result"
    }
   ],
   "source": [
    "import com.flightdelay.data.preprocessing.FlightLabelGenerator\n",
    "\n",
    "val withBasicLabels = FlightLabelGenerator.preprocess(flightData)"
   ]
  },
  {
   "cell_type": "code",
   "execution_count": null,
   "id": "09b6708e-8ae9-43c8-83e6-7012c4943493",
   "metadata": {},
   "outputs": [],
   "source": []
  }
 ],
 "metadata": {
  "kernelspec": {
   "display_name": "apache_toree_scala - Scala",
   "language": "scala",
   "name": "apache_toree_scala_scala"
  },
  "language_info": {
   "codemirror_mode": "text/x-scala",
   "file_extension": ".scala",
   "mimetype": "text/x-scala",
   "name": "scala",
   "pygments_lexer": "scala",
   "version": "2.12.15"
  }
 },
 "nbformat": 4,
 "nbformat_minor": 5
}
