{
 "cells": [
  {
   "cell_type": "markdown",
   "metadata": {
    "application/vnd.databricks.v1+cell": {
     "cellMetadata": {},
     "inputWidgets": {},
     "nuid": "25d2f4d5-6aef-432b-9171-61caa140c018",
     "showTitle": false,
     "tableResultSettingsMap": {},
     "title": ""
    }
   },
   "source": [
    "# Module 3 Notebook 2: Regression with Linear Regression\n",
    "\n",
    "**Objective:** Train a basic Linear Regression model to predict purchase amounts and evaluate its performance.\n",
    "\n",
    "In this notebook, we focus on the regression task: predicting the `total_purchase_amount` for customer-product pairs where a purchase occurred. We'll use the preprocessed data from Module 2, train a simple `LinearRegression` model, and evaluate it using standard regression metrics."
   ]
  },
  {
   "cell_type": "code",
   "execution_count": 0,
   "metadata": {
    "application/vnd.databricks.v1+cell": {
     "cellMetadata": {
      "byteLimit": 2048000,
      "rowLimit": 10000
     },
     "inputWidgets": {},
     "nuid": "d38dd706-17f8-4d2a-b813-3a3a478d4511",
     "showTitle": false,
     "tableResultSettingsMap": {},
     "title": ""
    }
   },
   "outputs": [],
   "source": [
    "from pyspark.sql import SparkSession\n",
    "from pyspark.ml.regression import LinearRegression\n",
    "from pyspark.ml.evaluation import RegressionEvaluator\n",
    "from pyspark.sql.functions import col\n"
   ]
  },
  {
   "cell_type": "markdown",
   "metadata": {
    "application/vnd.databricks.v1+cell": {
     "cellMetadata": {},
     "inputWidgets": {},
     "nuid": "22225693-b100-428f-b4ce-a6135f7a9077",
     "showTitle": false,
     "tableResultSettingsMap": {},
     "title": ""
    }
   },
   "source": [
    "## 1. Load Data\n",
    "\n",
    "We load the training and testing datasets created in Module 2, Notebook 3. These datasets contain the final features and the target variable (`total_purchase_amount`) for the regression task."
   ]
  },
  {
   "cell_type": "code",
   "execution_count": 0,
   "metadata": {
    "application/vnd.databricks.v1+cell": {
     "cellMetadata": {
      "byteLimit": 2048000,
      "rowLimit": 10000
     },
     "inputWidgets": {},
     "nuid": "cd6e53fc-ed37-4e5a-a25c-5e2143e1e018",
     "showTitle": false,
     "tableResultSettingsMap": {},
     "title": ""
    }
   },
   "outputs": [
    {
     "output_type": "stream",
     "name": "stdout",
     "output_type": "stream",
     "text": [
      "Training Data Schema:\nroot\n |-- customer_id: integer (nullable = true)\n |-- product_id: long (nullable = true)\n |-- features: vector (nullable = true)\n |-- total_purchase_amount: double (nullable = true)\n\nSample Training Data:\n"
     ]
    },
    {
     "output_type": "display_data",
     "data": {
      "text/html": [
       "<style scoped>\n",
       "  .table-result-container {\n",
       "    max-height: 300px;\n",
       "    overflow: auto;\n",
       "  }\n",
       "  table, th, td {\n",
       "    border: 1px solid black;\n",
       "    border-collapse: collapse;\n",
       "  }\n",
       "  th, td {\n",
       "    padding: 5px;\n",
       "  }\n",
       "  th {\n",
       "    text-align: left;\n",
       "  }\n",
       "</style><div class='table-result-container'><table class='table-result'><thead style='background-color: white'><tr><th>features</th><th>total_purchase_amount</th></tr></thead><tbody><tr><td>Map(vectorType -> sparse, length -> 27, indices -> List(0, 1, 2, 3, 4, 7, 11, 12, 16, 24), values -> List(0.3548387096774194, 0.2552140504939627, 3.9096937406569814E-4, 0.6551724137931034, 0.1875, 0.5, 0.15797645978130034, 0.6551724137931034, 1.0, 1.0))</td><td>41.26</td></tr><tr><td>Map(vectorType -> sparse, length -> 27, indices -> List(0, 1, 2, 3, 4, 6, 7, 8, 9, 10, 11, 12, 14, 17), values -> List(0.564516129032258, 0.22420417124039518, 0.043811568093832645, 0.4137931034482758, 0.3125, 0.5, 0.5, 0.3333333333333333, 0.01304181051016494, 1.603082406851895E-5, 0.6516631232308321, 0.4137931034482758, 1.0, 1.0))</td><td>137.89</td></tr><tr><td>Map(vectorType -> sparse, length -> 27, indices -> List(0, 1, 2, 3, 4, 7, 9, 11, 12, 13, 14, 18), values -> List(0.22580645161290322, 0.0570801317233809, 0.061044884817355975, 0.5862068965517241, 0.125, 0.5, 0.009589566551591868, 0.9311661982921617, 0.5862068965517241, 1.0, 1.0, 1.0))</td><td>112.2</td></tr><tr><td>Map(vectorType -> sparse, length -> 27, indices -> List(0, 1, 2, 3, 4, 7, 9, 11, 12, 15, 17), values -> List(0.564516129032258, 0.2897914379802415, 0.08802943769404731, 0.5172413793103449, 0.3125, 0.5, 0.01649405446873801, 0.568094947294946, 0.5172413793103449, 1.0, 1.0))</td><td>219.74</td></tr><tr><td>Map(vectorType -> sparse, length -> 27, indices -> List(0, 1, 2, 3, 4, 6, 7, 8, 9, 10, 11, 12, 15, 19), values -> List(0.564516129032258, 0.2897914379802415, 0.021342328184292228, 0.2758620689655172, 0.4375, 0.5, 0.5, 0.3333333333333333, 0.01457614115841964, 1.803467707708382E-5, 0.6960536549098333, 0.2758620689655172, 1.0, 1.0))</td><td>106.71</td></tr></tbody></table></div>"
      ]
     },
     "metadata": {
      "application/vnd.databricks.v1+output": {
       "addedWidgets": {},
       "aggData": [],
       "aggError": "",
       "aggOverflow": false,
       "aggSchema": [],
       "aggSeriesLimitReached": false,
       "aggType": "",
       "arguments": {},
       "columnCustomDisplayInfos": {},
       "data": [
        [
         {
          "indices": [
           0,
           1,
           2,
           3,
           4,
           7,
           11,
           12,
           16,
           24
          ],
          "length": 27,
          "values": [
           0.3548387096774194,
           0.2552140504939627,
           3.9096937406569814E-4,
           0.6551724137931034,
           0.1875,
           0.5,
           0.15797645978130034,
           0.6551724137931034,
           1.0,
           1.0
          ],
          "vectorType": "sparse"
         },
         41.26
        ],
        [
         {
          "indices": [
           0,
           1,
           2,
           3,
           4,
           6,
           7,
           8,
           9,
           10,
           11,
           12,
           14,
           17
          ],
          "length": 27,
          "values": [
           0.564516129032258,
           0.22420417124039518,
           0.043811568093832645,
           0.4137931034482758,
           0.3125,
           0.5,
           0.5,
           0.3333333333333333,
           0.01304181051016494,
           1.603082406851895E-5,
           0.6516631232308321,
           0.4137931034482758,
           1.0,
           1.0
          ],
          "vectorType": "sparse"
         },
         137.89
        ],
        [
         {
          "indices": [
           0,
           1,
           2,
           3,
           4,
           7,
           9,
           11,
           12,
           13,
           14,
           18
          ],
          "length": 27,
          "values": [
           0.22580645161290322,
           0.0570801317233809,
           0.061044884817355975,
           0.5862068965517241,
           0.125,
           0.5,
           0.009589566551591868,
           0.9311661982921617,
           0.5862068965517241,
           1.0,
           1.0,
           1.0
          ],
          "vectorType": "sparse"
         },
         112.2
        ],
        [
         {
          "indices": [
           0,
           1,
           2,
           3,
           4,
           7,
           9,
           11,
           12,
           15,
           17
          ],
          "length": 27,
          "values": [
           0.564516129032258,
           0.2897914379802415,
           0.08802943769404731,
           0.5172413793103449,
           0.3125,
           0.5,
           0.01649405446873801,
           0.568094947294946,
           0.5172413793103449,
           1.0,
           1.0
          ],
          "vectorType": "sparse"
         },
         219.74
        ],
        [
         {
          "indices": [
           0,
           1,
           2,
           3,
           4,
           6,
           7,
           8,
           9,
           10,
           11,
           12,
           15,
           19
          ],
          "length": 27,
          "values": [
           0.564516129032258,
           0.2897914379802415,
           0.021342328184292228,
           0.2758620689655172,
           0.4375,
           0.5,
           0.5,
           0.3333333333333333,
           0.01457614115841964,
           1.803467707708382E-5,
           0.6960536549098333,
           0.2758620689655172,
           1.0,
           1.0
          ],
          "vectorType": "sparse"
         },
         106.71
        ]
       ],
       "datasetInfos": [],
       "dbfsResultPath": null,
       "isJsonSchema": true,
       "metadata": {},
       "overflow": false,
       "plotOptions": {
        "customPlotOptions": {},
        "displayType": "table",
        "pivotAggregation": null,
        "pivotColumns": null,
        "xColumns": null,
        "yColumns": null
       },
       "removedWidgets": [],
       "schema": [
        {
         "metadata": "{\"ml_attr\":{\"attrs\":{\"numeric\":[{\"idx\":0,\"name\":\"numerical_features_scaled_scaled_numerical_features_0\"},{\"idx\":1,\"name\":\"numerical_features_scaled_scaled_numerical_features_1\"},{\"idx\":2,\"name\":\"numerical_features_scaled_scaled_numerical_features_2\"},{\"idx\":3,\"name\":\"numerical_features_scaled_scaled_numerical_features_3\"},{\"idx\":4,\"name\":\"numerical_features_scaled_scaled_numerical_features_4\"},{\"idx\":5,\"name\":\"numerical_features_scaled_scaled_numerical_features_5\"},{\"idx\":6,\"name\":\"numerical_features_scaled_scaled_numerical_features_6\"},{\"idx\":7,\"name\":\"numerical_features_scaled_scaled_numerical_features_7\"},{\"idx\":8,\"name\":\"numerical_features_scaled_scaled_numerical_features_8\"},{\"idx\":9,\"name\":\"numerical_features_scaled_scaled_numerical_features_9\"},{\"idx\":10,\"name\":\"numerical_features_scaled_scaled_numerical_features_10\"},{\"idx\":11,\"name\":\"numerical_features_scaled_scaled_numerical_features_11\"},{\"idx\":12,\"name\":\"numerical_features_scaled_scaled_numerical_features_12\"}],\"binary\":[{\"idx\":13,\"name\":\"selected_ohe_features_country_vec_DE\"},{\"idx\":14,\"name\":\"selected_ohe_features_membership_level_vec_Bronze\"},{\"idx\":15,\"name\":\"selected_ohe_features_membership_level_vec_Gold\"},{\"idx\":16,\"name\":\"selected_ohe_features_membership_level_vec_Platinum\"},{\"idx\":17,\"name\":\"selected_ohe_features_category_vec_Sports\"},{\"idx\":18,\"name\":\"selected_ohe_features_category_vec_Health\"},{\"idx\":19,\"name\":\"selected_ohe_features_category_vec_Beauty\"},{\"idx\":20,\"name\":\"selected_ohe_features_category_vec_Toys\"},{\"idx\":21,\"name\":\"selected_ohe_features_category_vec_Automotive\"},{\"idx\":22,\"name\":\"selected_ohe_features_category_vec_Clothing\"},{\"idx\":23,\"name\":\"selected_ohe_features_category_vec_Home & Kitchen\"},{\"idx\":24,\"name\":\"selected_ohe_features_category_vec_Books\"},{\"idx\":25,\"name\":\"selected_ohe_features_category_vec_Grocery\"},{\"idx\":26,\"name\":\"selected_ohe_features_category_vec_Electronics\"}]},\"num_attrs\":27}}",
         "name": "features",
         "type": "{\"type\":\"udt\",\"class\":\"org.apache.spark.ml.linalg.VectorUDT\",\"pyClass\":\"pyspark.ml.linalg.VectorUDT\",\"sqlType\":{\"type\":\"struct\",\"fields\":[{\"name\":\"type\",\"type\":\"byte\",\"nullable\":false,\"metadata\":{}},{\"name\":\"size\",\"type\":\"integer\",\"nullable\":true,\"metadata\":{}},{\"name\":\"indices\",\"type\":{\"type\":\"array\",\"elementType\":\"integer\",\"containsNull\":false},\"nullable\":true,\"metadata\":{}},{\"name\":\"values\",\"type\":{\"type\":\"array\",\"elementType\":\"double\",\"containsNull\":false},\"nullable\":true,\"metadata\":{}}]}}"
        },
        {
         "metadata": "{}",
         "name": "total_purchase_amount",
         "type": "\"double\""
        }
       ],
       "type": "table"
      }
     },
     "output_type": "display_data"
    }
   ],
   "source": [
    "# Load training and testing data\n",
    "train_data = spark.table(\"ecommerce.regression_train_features\")\n",
    "test_data = spark.table(\"ecommerce.regression_test_features\")\n",
    "\n",
    "# Display schema and a sample\n",
    "print(\"Training Data Schema:\")\n",
    "train_data.printSchema()\n",
    "\n",
    "print(\"Sample Training Data:\")\n",
    "train_data.select(\"features\", \"total_purchase_amount\").limit(5).display()"
   ]
  },
  {
   "cell_type": "markdown",
   "metadata": {
    "application/vnd.databricks.v1+cell": {
     "cellMetadata": {},
     "inputWidgets": {},
     "nuid": "545da1d2-4847-4273-bd73-00be48692ca4",
     "showTitle": false,
     "tableResultSettingsMap": {},
     "title": ""
    }
   },
   "source": [
    "## 2. Define the Model\n",
    "\n",
    "We define a `LinearRegression` model, specifying the input feature column (`features`) and the target label column (`total_purchase_amount`). We'll use default hyperparameters for now; tuning will be covered in the next notebook."
   ]
  },
  {
   "cell_type": "code",
   "execution_count": 0,
   "metadata": {
    "application/vnd.databricks.v1+cell": {
     "cellMetadata": {
      "byteLimit": 2048000,
      "rowLimit": 10000
     },
     "inputWidgets": {},
     "nuid": "32f0f15f-dbe0-4ac0-a12b-7fcac28f01d7",
     "showTitle": false,
     "tableResultSettingsMap": {},
     "title": ""
    }
   },
   "outputs": [
    {
     "output_type": "stream",
     "name": "stdout",
     "output_type": "stream",
     "text": [
      "LinearRegression_8a1012325e28\n"
     ]
    }
   ],
   "source": [
    "# Define the Linear Regression model\n",
    "lr = LinearRegression(featuresCol=\"features\", labelCol=\"total_purchase_amount\")\n",
    "\n",
    "# We can optionally set some basic parameters, but defaults are often fine for a first pass\n",
    "# lr.setMaxIter(10)\n",
    "# lr.setRegParam(0.1)\n",
    "\n",
    "print(lr)"
   ]
  },
  {
   "cell_type": "markdown",
   "metadata": {
    "application/vnd.databricks.v1+cell": {
     "cellMetadata": {},
     "inputWidgets": {},
     "nuid": "2c2d7106-ba50-417f-a66e-59084b074b7f",
     "showTitle": false,
     "tableResultSettingsMap": {},
     "title": ""
    }
   },
   "source": [
    "## 3. Train the Model\n",
    "\n",
    "We train the model using the `fit()` method on our training data."
   ]
  },
  {
   "cell_type": "code",
   "execution_count": 0,
   "metadata": {
    "application/vnd.databricks.v1+cell": {
     "cellMetadata": {
      "byteLimit": 2048000,
      "rowLimit": 10000
     },
     "inputWidgets": {},
     "nuid": "6b8b9641-4c86-4b37-8b36-15905f94bc02",
     "showTitle": false,
     "tableResultSettingsMap": {},
     "title": ""
    }
   },
   "outputs": [
    {
     "output_type": "stream",
     "name": "stdout",
     "output_type": "stream",
     "text": [
      "Training the Linear Regression model...\n"
     ]
    },
    {
     "output_type": "display_data",
     "data": {
      "application/vnd.jupyter.widget-view+json": {
       "model_id": "0bb3536b57fc4e7d962f1e7b9623a263",
       "version_major": 2,
       "version_minor": 0
      },
      "text/plain": [
       "Downloading artifacts:   0%|          | 0/15 [00:00<?, ?it/s]"
      ]
     },
     "metadata": {},
     "output_type": "display_data"
    },
    {
     "output_type": "display_data",
     "data": {
      "application/vnd.jupyter.widget-view+json": {
       "model_id": "a60df02edc59470693529ad832a85da5",
       "version_major": 2,
       "version_minor": 0
      },
      "text/plain": [
       "Uploading artifacts:   0%|          | 0/4 [00:00<?, ?it/s]"
      ]
     },
     "metadata": {},
     "output_type": "display_data"
    },
    {
     "output_type": "stream",
     "name": "stdout",
     "output_type": "stream",
     "text": [
      "Training complete.\n"
     ]
    }
   ],
   "source": [
    "# Train the model\n",
    "print(\"Training the Linear Regression model...\")\n",
    "lr_model = lr.fit(train_data)\n",
    "print(\"Training complete.\")"
   ]
  },
  {
   "cell_type": "markdown",
   "metadata": {
    "application/vnd.databricks.v1+cell": {
     "cellMetadata": {},
     "inputWidgets": {},
     "nuid": "c71c9195-7465-4281-83d7-c4417b0505d8",
     "showTitle": false,
     "tableResultSettingsMap": {},
     "title": ""
    }
   },
   "source": [
    "## 4. Make Predictions\n",
    "\n",
    "We use the trained model's `transform()` method to make predictions on the unseen test data."
   ]
  },
  {
   "cell_type": "code",
   "execution_count": 0,
   "metadata": {
    "application/vnd.databricks.v1+cell": {
     "cellMetadata": {
      "byteLimit": 2048000,
      "rowLimit": 10000
     },
     "inputWidgets": {},
     "nuid": "8765d431-5e34-4462-9e08-640fee53590b",
     "showTitle": false,
     "tableResultSettingsMap": {},
     "title": ""
    }
   },
   "outputs": [
    {
     "output_type": "stream",
     "name": "stdout",
     "output_type": "stream",
     "text": [
      "Sample Predictions:\n"
     ]
    },
    {
     "output_type": "display_data",
     "data": {
      "text/html": [
       "<style scoped>\n",
       "  .table-result-container {\n",
       "    max-height: 300px;\n",
       "    overflow: auto;\n",
       "  }\n",
       "  table, th, td {\n",
       "    border: 1px solid black;\n",
       "    border-collapse: collapse;\n",
       "  }\n",
       "  th, td {\n",
       "    padding: 5px;\n",
       "  }\n",
       "  th {\n",
       "    text-align: left;\n",
       "  }\n",
       "</style><div class='table-result-container'><table class='table-result'><thead style='background-color: white'><tr><th>features</th><th>total_purchase_amount</th><th>prediction</th></tr></thead><tbody><tr><td>Map(vectorType -> sparse, length -> 27, indices -> List(0, 1, 2, 3, 4, 7, 9, 11, 12, 14, 22), values -> List(0.22580645161290322, 0.13913282107574096, 0.03621449653110506, 0.7586206896551724, 0.25, 0.5, 0.004602991944764097, 0.08516270620618045, 0.7586206896551724, 1.0, 1.0))</td><td>83.96</td><td>76.57551367920041</td></tr><tr><td>Map(vectorType -> sparse, length -> 27, indices -> List(0, 1, 2, 3, 4, 6, 7, 8, 9, 10, 11, 12, 16, 23), values -> List(0.1774193548387097, 0.2906147091108672, 0.1626969220744375, 0.5517241379310346, 0.4375, 0.5, 0.5, 0.3333333333333333, 0.013425393172228614, 1.402697105995408E-5, 0.23073548105098457, 0.5517241379310346, 1.0, 1.0))</td><td>308.6</td><td>316.0477194324582</td></tr><tr><td>Map(vectorType -> sparse, length -> 27, indices -> List(1, 2, 3, 4, 7, 9, 11, 12, 16, 24), values -> List(0.04226125137211855, 0.033830349955920117, 0.5862068965517241, 0.0625, 0.5, 0.006137322593018795, 0.9249645777973425, 0.5862068965517241, 1.0, 1.0))</td><td>46.75</td><td>45.775889680244674</td></tr><tr><td>Map(vectorType -> sparse, length -> 27, indices -> List(0, 1, 2, 3, 4, 7, 9, 11, 12, 15, 17), values -> List(0.27419354838709675, 0.19401756311745336, 0.15273103606884128, 0.7586206896551724, 0.3125, 0.5, 0.01457614115841964, 0.7265411662724947, 0.7586206896551724, 1.0, 1.0))</td><td>309.9</td><td>310.84511551268184</td></tr><tr><td>Map(vectorType -> sparse, length -> 27, indices -> List(0, 1, 2, 3, 4, 7, 9, 11, 12, 14, 17), values -> List(0.4193548387096774, 0.1432491767288694, 0.15273103606884128, 0.7586206896551724, 0.25, 0.5, 0.02454929037207518, 0.2227386663062664, 0.7586206896551724, 1.0, 1.0))</td><td>292.21</td><td>304.72883295495126</td></tr><tr><td>Map(vectorType -> sparse, length -> 27, indices -> List(0, 1, 2, 3, 4, 6, 7, 8, 9, 10, 11, 12, 15, 18), values -> List(0.24193548387096775, 0.2327113062568606, 0.08346046226378934, 0.6551724137931034, 0.3125, 0.5, 0.5, 0.3333333333333333, 0.01304181051016494, 1.402697105995408E-5, 0.5179645315634482, 0.6551724137931034, 1.0, 1.0))</td><td>190.89</td><td>190.33637535366861</td></tr><tr><td>Map(vectorType -> sparse, length -> 27, indices -> List(0, 1, 2, 3, 4, 6, 7, 8, 9, 10, 11, 12, 19), values -> List(0.0967741935483871, 0.2189901207464325, 0.025068036337153588, 0.7241379310344829, 0.125, 0.5, 0.5, 0.3333333333333333, 0.00728807057920982, 1.603082406851895E-5, 0.8600121083334342, 0.7241379310344829, 1.0))</td><td>69.83</td><td>65.17806029189988</td></tr><tr><td>Map(vectorType -> sparse, length -> 27, indices -> List(0, 1, 2, 3, 4, 6, 7, 8, 9, 10, 11, 12, 20), values -> List(0.22580645161290322, 0.03924259055982437, 0.022837211085131662, 0.44827586206896547, 0.0625, 0.5, 0.5, 0.3333333333333333, 0.02838511699271193, 2.404623610277842E-5, 0.4282070705132843, 0.44827586206896547, 1.0))</td><td>40.66</td><td>29.968923453589706</td></tr><tr><td>Map(vectorType -> sparse, length -> 27, indices -> List(1, 2, 3, 4, 6, 7, 8, 9, 10, 11, 12, 15, 22), values -> List(0.4080680570801317, 0.06253210165203726, 0.5172413793103449, 0.375, 0.5, 0.5, 0.3333333333333333, 0.002685078634445723, 2.404623610277842E-5, 0.7075910409748363, 0.5172413793103449, 1.0, 1.0))</td><td>146.27</td><td>153.99310609483825</td></tr><tr><td>Map(vectorType -> sparse, length -> 27, indices -> List(1, 2, 3, 4, 6, 7, 8, 9, 10, 11, 12, 15, 20), values -> List(0.4080680570801317, 0.028632757100693778, 0.7586206896551724, 0.75, 0.5, 0.5, 0.3333333333333333, 0.02531645569620253, 1.603082406851895E-5, 0.17139224842149936, 0.7586206896551724, 1.0, 1.0))</td><td>122.93</td><td>128.69544086611415</td></tr></tbody></table></div>"
      ]
     },
     "metadata": {
      "application/vnd.databricks.v1+output": {
       "addedWidgets": {},
       "aggData": [],
       "aggError": "",
       "aggOverflow": false,
       "aggSchema": [],
       "aggSeriesLimitReached": false,
       "aggType": "",
       "arguments": {},
       "columnCustomDisplayInfos": {},
       "data": [
        [
         {
          "indices": [
           0,
           1,
           2,
           3,
           4,
           7,
           9,
           11,
           12,
           14,
           22
          ],
          "length": 27,
          "values": [
           0.22580645161290322,
           0.13913282107574096,
           0.03621449653110506,
           0.7586206896551724,
           0.25,
           0.5,
           0.004602991944764097,
           0.08516270620618045,
           0.7586206896551724,
           1.0,
           1.0
          ],
          "vectorType": "sparse"
         },
         83.96,
         76.57551367920041
        ],
        [
         {
          "indices": [
           0,
           1,
           2,
           3,
           4,
           6,
           7,
           8,
           9,
           10,
           11,
           12,
           16,
           23
          ],
          "length": 27,
          "values": [
           0.1774193548387097,
           0.2906147091108672,
           0.1626969220744375,
           0.5517241379310346,
           0.4375,
           0.5,
           0.5,
           0.3333333333333333,
           0.013425393172228614,
           1.402697105995408E-5,
           0.23073548105098457,
           0.5517241379310346,
           1.0,
           1.0
          ],
          "vectorType": "sparse"
         },
         308.6,
         316.0477194324582
        ],
        [
         {
          "indices": [
           1,
           2,
           3,
           4,
           7,
           9,
           11,
           12,
           16,
           24
          ],
          "length": 27,
          "values": [
           0.04226125137211855,
           0.033830349955920117,
           0.5862068965517241,
           0.0625,
           0.5,
           0.006137322593018795,
           0.9249645777973425,
           0.5862068965517241,
           1.0,
           1.0
          ],
          "vectorType": "sparse"
         },
         46.75,
         45.775889680244674
        ],
        [
         {
          "indices": [
           0,
           1,
           2,
           3,
           4,
           7,
           9,
           11,
           12,
           15,
           17
          ],
          "length": 27,
          "values": [
           0.27419354838709675,
           0.19401756311745336,
           0.15273103606884128,
           0.7586206896551724,
           0.3125,
           0.5,
           0.01457614115841964,
           0.7265411662724947,
           0.7586206896551724,
           1.0,
           1.0
          ],
          "vectorType": "sparse"
         },
         309.9,
         310.84511551268184
        ],
        [
         {
          "indices": [
           0,
           1,
           2,
           3,
           4,
           7,
           9,
           11,
           12,
           14,
           17
          ],
          "length": 27,
          "values": [
           0.4193548387096774,
           0.1432491767288694,
           0.15273103606884128,
           0.7586206896551724,
           0.25,
           0.5,
           0.02454929037207518,
           0.2227386663062664,
           0.7586206896551724,
           1.0,
           1.0
          ],
          "vectorType": "sparse"
         },
         292.21,
         304.72883295495126
        ],
        [
         {
          "indices": [
           0,
           1,
           2,
           3,
           4,
           6,
           7,
           8,
           9,
           10,
           11,
           12,
           15,
           18
          ],
          "length": 27,
          "values": [
           0.24193548387096775,
           0.2327113062568606,
           0.08346046226378934,
           0.6551724137931034,
           0.3125,
           0.5,
           0.5,
           0.3333333333333333,
           0.01304181051016494,
           1.402697105995408E-5,
           0.5179645315634482,
           0.6551724137931034,
           1.0,
           1.0
          ],
          "vectorType": "sparse"
         },
         190.89,
         190.33637535366861
        ],
        [
         {
          "indices": [
           0,
           1,
           2,
           3,
           4,
           6,
           7,
           8,
           9,
           10,
           11,
           12,
           19
          ],
          "length": 27,
          "values": [
           0.0967741935483871,
           0.2189901207464325,
           0.025068036337153588,
           0.7241379310344829,
           0.125,
           0.5,
           0.5,
           0.3333333333333333,
           0.00728807057920982,
           1.603082406851895E-5,
           0.8600121083334342,
           0.7241379310344829,
           1.0
          ],
          "vectorType": "sparse"
         },
         69.83,
         65.17806029189988
        ],
        [
         {
          "indices": [
           0,
           1,
           2,
           3,
           4,
           6,
           7,
           8,
           9,
           10,
           11,
           12,
           20
          ],
          "length": 27,
          "values": [
           0.22580645161290322,
           0.03924259055982437,
           0.022837211085131662,
           0.44827586206896547,
           0.0625,
           0.5,
           0.5,
           0.3333333333333333,
           0.02838511699271193,
           2.404623610277842E-5,
           0.4282070705132843,
           0.44827586206896547,
           1.0
          ],
          "vectorType": "sparse"
         },
         40.66,
         29.968923453589706
        ],
        [
         {
          "indices": [
           1,
           2,
           3,
           4,
           6,
           7,
           8,
           9,
           10,
           11,
           12,
           15,
           22
          ],
          "length": 27,
          "values": [
           0.4080680570801317,
           0.06253210165203726,
           0.5172413793103449,
           0.375,
           0.5,
           0.5,
           0.3333333333333333,
           0.002685078634445723,
           2.404623610277842E-5,
           0.7075910409748363,
           0.5172413793103449,
           1.0,
           1.0
          ],
          "vectorType": "sparse"
         },
         146.27,
         153.99310609483825
        ],
        [
         {
          "indices": [
           1,
           2,
           3,
           4,
           6,
           7,
           8,
           9,
           10,
           11,
           12,
           15,
           20
          ],
          "length": 27,
          "values": [
           0.4080680570801317,
           0.028632757100693778,
           0.7586206896551724,
           0.75,
           0.5,
           0.5,
           0.3333333333333333,
           0.02531645569620253,
           1.603082406851895E-5,
           0.17139224842149936,
           0.7586206896551724,
           1.0,
           1.0
          ],
          "vectorType": "sparse"
         },
         122.93,
         128.69544086611415
        ]
       ],
       "datasetInfos": [],
       "dbfsResultPath": null,
       "isJsonSchema": true,
       "metadata": {},
       "overflow": false,
       "plotOptions": {
        "customPlotOptions": {},
        "displayType": "table",
        "pivotAggregation": null,
        "pivotColumns": null,
        "xColumns": null,
        "yColumns": null
       },
       "removedWidgets": [],
       "schema": [
        {
         "metadata": "{\"ml_attr\":{\"attrs\":{\"numeric\":[{\"idx\":0,\"name\":\"numerical_features_scaled_scaled_numerical_features_0\"},{\"idx\":1,\"name\":\"numerical_features_scaled_scaled_numerical_features_1\"},{\"idx\":2,\"name\":\"numerical_features_scaled_scaled_numerical_features_2\"},{\"idx\":3,\"name\":\"numerical_features_scaled_scaled_numerical_features_3\"},{\"idx\":4,\"name\":\"numerical_features_scaled_scaled_numerical_features_4\"},{\"idx\":5,\"name\":\"numerical_features_scaled_scaled_numerical_features_5\"},{\"idx\":6,\"name\":\"numerical_features_scaled_scaled_numerical_features_6\"},{\"idx\":7,\"name\":\"numerical_features_scaled_scaled_numerical_features_7\"},{\"idx\":8,\"name\":\"numerical_features_scaled_scaled_numerical_features_8\"},{\"idx\":9,\"name\":\"numerical_features_scaled_scaled_numerical_features_9\"},{\"idx\":10,\"name\":\"numerical_features_scaled_scaled_numerical_features_10\"},{\"idx\":11,\"name\":\"numerical_features_scaled_scaled_numerical_features_11\"},{\"idx\":12,\"name\":\"numerical_features_scaled_scaled_numerical_features_12\"}],\"binary\":[{\"idx\":13,\"name\":\"selected_ohe_features_country_vec_DE\"},{\"idx\":14,\"name\":\"selected_ohe_features_membership_level_vec_Bronze\"},{\"idx\":15,\"name\":\"selected_ohe_features_membership_level_vec_Gold\"},{\"idx\":16,\"name\":\"selected_ohe_features_membership_level_vec_Platinum\"},{\"idx\":17,\"name\":\"selected_ohe_features_category_vec_Sports\"},{\"idx\":18,\"name\":\"selected_ohe_features_category_vec_Health\"},{\"idx\":19,\"name\":\"selected_ohe_features_category_vec_Beauty\"},{\"idx\":20,\"name\":\"selected_ohe_features_category_vec_Toys\"},{\"idx\":21,\"name\":\"selected_ohe_features_category_vec_Automotive\"},{\"idx\":22,\"name\":\"selected_ohe_features_category_vec_Clothing\"},{\"idx\":23,\"name\":\"selected_ohe_features_category_vec_Home & Kitchen\"},{\"idx\":24,\"name\":\"selected_ohe_features_category_vec_Books\"},{\"idx\":25,\"name\":\"selected_ohe_features_category_vec_Grocery\"},{\"idx\":26,\"name\":\"selected_ohe_features_category_vec_Electronics\"}]},\"num_attrs\":27}}",
         "name": "features",
         "type": "{\"type\":\"udt\",\"class\":\"org.apache.spark.ml.linalg.VectorUDT\",\"pyClass\":\"pyspark.ml.linalg.VectorUDT\",\"sqlType\":{\"type\":\"struct\",\"fields\":[{\"name\":\"type\",\"type\":\"byte\",\"nullable\":false,\"metadata\":{}},{\"name\":\"size\",\"type\":\"integer\",\"nullable\":true,\"metadata\":{}},{\"name\":\"indices\",\"type\":{\"type\":\"array\",\"elementType\":\"integer\",\"containsNull\":false},\"nullable\":true,\"metadata\":{}},{\"name\":\"values\",\"type\":{\"type\":\"array\",\"elementType\":\"double\",\"containsNull\":false},\"nullable\":true,\"metadata\":{}}]}}"
        },
        {
         "metadata": "{}",
         "name": "total_purchase_amount",
         "type": "\"double\""
        },
        {
         "metadata": "{\"ml_attr\":{}}",
         "name": "prediction",
         "type": "\"double\""
        }
       ],
       "type": "table"
      }
     },
     "output_type": "display_data"
    }
   ],
   "source": [
    "# Make predictions on the test data\n",
    "predictions = lr_model.transform(test_data)\n",
    "\n",
    "# Show some predictions\n",
    "print(\"Sample Predictions:\")\n",
    "predictions.select(\"features\", \"total_purchase_amount\", \"prediction\").limit(10).display()"
   ]
  },
  {
   "cell_type": "markdown",
   "metadata": {
    "application/vnd.databricks.v1+cell": {
     "cellMetadata": {},
     "inputWidgets": {},
     "nuid": "ee59c1d8-bcbf-45c6-bfb4-ea1cef5dd4fa",
     "showTitle": false,
     "tableResultSettingsMap": {},
     "title": ""
    }
   },
   "source": [
    "## 5. Evaluate the Model\n",
    "\n",
    "We use `RegressionEvaluator` to assess the model's performance using standard metrics: RMSE, MAE, and R²."
   ]
  },
  {
   "cell_type": "code",
   "execution_count": 0,
   "metadata": {
    "application/vnd.databricks.v1+cell": {
     "cellMetadata": {
      "byteLimit": 2048000,
      "rowLimit": 10000
     },
     "inputWidgets": {},
     "nuid": "920d9474-aa7f-4ed3-b03e-6da6b46ad9de",
     "showTitle": false,
     "tableResultSettingsMap": {},
     "title": ""
    }
   },
   "outputs": [
    {
     "output_type": "stream",
     "name": "stdout",
     "output_type": "stream",
     "text": [
      "Root Mean Squared Error (RMSE) on test data: 25.8060\nMean Absolute Error (MAE) on test data: 12.7021\nR-squared (R²) on test data: 0.9911\n"
     ]
    }
   ],
   "source": [
    "# Create evaluators for different metrics\n",
    "rmse_evaluator = RegressionEvaluator(labelCol=\"total_purchase_amount\", predictionCol=\"prediction\", metricName=\"rmse\")\n",
    "mae_evaluator = RegressionEvaluator(labelCol=\"total_purchase_amount\", predictionCol=\"prediction\", metricName=\"mae\")\n",
    "r2_evaluator = RegressionEvaluator(labelCol=\"total_purchase_amount\", predictionCol=\"prediction\", metricName=\"r2\")\n",
    "\n",
    "# Calculate metrics\n",
    "rmse = rmse_evaluator.evaluate(predictions)\n",
    "mae = mae_evaluator.evaluate(predictions)\n",
    "r2 = r2_evaluator.evaluate(predictions)\n",
    "\n",
    "# Print the metrics\n",
    "print(f\"Root Mean Squared Error (RMSE) on test data: {rmse:.4f}\")\n",
    "print(f\"Mean Absolute Error (MAE) on test data: {mae:.4f}\")\n",
    "print(f\"R-squared (R²) on test data: {r2:.4f}\")"
   ]
  },
  {
   "cell_type": "markdown",
   "metadata": {
    "application/vnd.databricks.v1+cell": {
     "cellMetadata": {},
     "inputWidgets": {},
     "nuid": "b458c697-2328-4440-968b-fd17c200cf35",
     "showTitle": false,
     "tableResultSettingsMap": {},
     "title": ""
    }
   },
   "source": [
    "### Interpreting the Metrics\n",
    "\n",
    "*   **RMSE (Root Mean Squared Error):** Measures the average magnitude of the errors between predicted and actual values, in the same units as the target (`total_purchase_amount`). Lower values indicate a better fit.\n",
    "*   **MAE (Mean Absolute Error):** Similar to RMSE, it measures the average absolute difference between predictions and actuals. It's less sensitive to large errors (outliers) than RMSE. Lower is better.\n",
    "*   **R² (R-squared):** Represents the proportion of the variance in the target variable (`total_purchase_amount`) that is explained by the model's features. It ranges from 0 to 1 (or can be negative for very poor fits). Higher values (closer to 1) indicate that the model explains more of the variability."
   ]
  },
  {
   "cell_type": "code",
   "execution_count": 0,
   "metadata": {
    "application/vnd.databricks.v1+cell": {
     "cellMetadata": {
      "byteLimit": 2048000,
      "rowLimit": 10000
     },
     "inputWidgets": {},
     "nuid": "cfc2bbfe-70e2-45c3-9734-32802fbea1ab",
     "showTitle": false,
     "tableResultSettingsMap": {},
     "title": ""
    }
   },
   "outputs": [
    {
     "output_type": "stream",
     "name": "stdout",
     "output_type": "stream",
     "text": [
      "Loading test data from: ecommerce.regression_test_features\nCalculating statistics for target column: total_purchase_amount\n--- Target Variable Statistics ---\nMean 'total_purchase_amount':   285.96\nStd Dev 'total_purchase_amount': 273.52\n--- Model Error Metrics ---\nMAE:  12.70\nRMSE: 25.81\n--- Diagnosis ---\nMAE (12.70) is 4.4% of the Mean Target (285.96).\n  Interpretation: This shows the average error relative to the average purchase size.\nRMSE (25.81) is 0.09 times the Standard Deviation (273.52).\n  Interpretation: \n    - If < 1.0: Errors are typically smaller than the natural spread of the data.\n    - If ~ 1.0: Errors are roughly the same size as the natural spread (model isn't reducing uncertainty much).\n    - If > 1.0: Errors are generally larger than the natural spread (model might be performing poorly).\nOverall: The errors seem reasonable relative to the target variable's scale. Tuning might still yield improvements.\n"
     ]
    }
   ],
   "source": [
    "from pyspark.sql import SparkSession\n",
    "from pyspark.sql.functions import mean, stddev\n",
    "\n",
    "# --- Configuration ---\n",
    "test_table = \"ecommerce.regression_test_features\"\n",
    "target_col = \"total_purchase_amount\"\n",
    "# -------------------\n",
    "\n",
    "try:\n",
    "    print(f\"Loading test data from: {test_table}\")\n",
    "    test_data = spark.table(test_table)\n",
    "\n",
    "    # Calculate mean and standard deviation of the actual target variable\n",
    "    print(f\"Calculating statistics for target column: {target_col}\")\n",
    "    stats = test_data.select(\n",
    "        mean(target_col).alias(\"mean_target\"),\n",
    "        stddev(target_col).alias(\"stddev_target\")\n",
    "    ).first() # Use .first() as agg returns a single row DataFrame\n",
    "\n",
    "    if stats and stats[\"mean_target\"] is not None and stats[\"stddev_target\"] is not None:\n",
    "        mean_target = stats[\"mean_target\"]\n",
    "        stddev_target = stats[\"stddev_target\"]\n",
    "\n",
    "        print(\"--- Target Variable Statistics ---\")\n",
    "        print(f\"Mean '{target_col}':   {mean_target:.2f}\")\n",
    "        print(f\"Std Dev '{target_col}': {stddev_target:.2f}\")\n",
    "\n",
    "        print(\"--- Model Error Metrics ---\")\n",
    "        print(f\"MAE:  {mae:.2f}\")\n",
    "        print(f\"RMSE: {rmse:.2f}\")\n",
    "\n",
    "        print(\"--- Diagnosis ---\")\n",
    "        # Compare MAE to Mean\n",
    "        mae_perc_mean = (mae / mean_target) * 100 if mean_target != 0 else float('inf')\n",
    "        print(f\"MAE ({mae:.2f}) is {mae_perc_mean:.1f}% of the Mean Target ({mean_target:.2f}).\")\n",
    "        print(\"  Interpretation: This shows the average error relative to the average purchase size.\")\n",
    "\n",
    "        # Compare RMSE to Standard Deviation\n",
    "        rmse_vs_stddev = rmse / stddev_target if stddev_target != 0 else float('inf')\n",
    "        print(f\"RMSE ({rmse:.2f}) is {rmse_vs_stddev:.2f} times the Standard Deviation ({stddev_target:.2f}).\")\n",
    "        print(\"  Interpretation: \")\n",
    "        print(\"    - If < 1.0: Errors are typically smaller than the natural spread of the data.\")\n",
    "        print(\"    - If ~ 1.0: Errors are roughly the same size as the natural spread (model isn't reducing uncertainty much).\")\n",
    "        print(\"    - If > 1.0: Errors are generally larger than the natural spread (model might be performing poorly).\")\n",
    "\n",
    "        # Overall comment based on comparisons\n",
    "        if mae_perc_mean > 30 or rmse_vs_stddev > 0.8: # Example thresholds, adjust as needed\n",
    "             print(\"Overall: The errors appear relatively high compared to the target variable's scale. Tuning may help.\")\n",
    "        elif mae_perc_mean < 15 and rmse_vs_stddev < 0.6:\n",
    "             print(\"Overall: The errors seem reasonable relative to the target variable's scale. Tuning might still yield improvements.\")\n",
    "        else:\n",
    "             print(\"Overall: The errors are moderate. Tuning is recommended to see if performance can be improved.\")\n",
    "\n",
    "    else:\n",
    "        print(f\"Could not calculate statistics for column '{target_col}' in table '{test_table}'. Check table/column names and data.\")\n",
    "\n",
    "except Exception as e:\n",
    "    print(f\"An error occurred: {e}\")\n",
    "\n"
   ]
  },
  {
   "cell_type": "markdown",
   "metadata": {
    "application/vnd.databricks.v1+cell": {
     "cellMetadata": {},
     "inputWidgets": {},
     "nuid": "aec2811f-482c-4dc7-8fca-6a9e7736d9f6",
     "showTitle": false,
     "tableResultSettingsMap": {},
     "title": ""
    }
   },
   "source": [
    "The baseline model performs quite well! The Root Mean Squared Error (RMSE) tells us the typical difference between the predicted purchase amount and the actual amount is about $25.81. The Mean Absolute Error (MAE) indicates that, on average, our predictions are off by $12.70. Considering the average purchase amount is around $285.96 and varies significantly (standard deviation of $273.52), these errors are relatively small, suggesting the model has learned meaningful patterns. \n",
    "\n",
    "The R² value (close to 1.0) confirms that the model explains a large portion of the variability in purchase amounts. While these results are good, we can explore if tuning the model's internal settings, known as hyperparameters, can lead to even better predictions. This leads us directly into the next notebook where we'll use hyperparameter tuning techniques to potentially enhance our model's accuracy."
   ]
  },
  {
   "cell_type": "markdown",
   "metadata": {
    "application/vnd.databricks.v1+cell": {
     "cellMetadata": {},
     "inputWidgets": {},
     "nuid": "cb1e9671-896f-4dca-b331-a131b788bbfe",
     "showTitle": false,
     "tableResultSettingsMap": {},
     "title": ""
    }
   },
   "source": [
    "## 6. Business Value\n",
    "\n",
    "Predicting purchase amounts helps businesses forecast revenue, identify potentially high-spending customer segments for targeted offers, and optimize inventory based on expected demand value."
   ]
  }
 ],
 "metadata": {
  "application/vnd.databricks.v1+notebook": {
   "computePreferences": null,
   "dashboards": [],
   "environmentMetadata": null,
   "inputWidgetPreferences": null,
   "language": "python",
   "notebookMetadata": {
    "pythonIndentUnit": 2
   },
   "notebookName": "module3_notebook2_linear_regression",
   "widgets": {}
  },
  "kernelspec": {
   "display_name": "Python 3",
   "language": "python",
   "name": "python3"
  },
  "language_info": {
   "name": "python"
  }
 },
 "nbformat": 4,
 "nbformat_minor": 0
}