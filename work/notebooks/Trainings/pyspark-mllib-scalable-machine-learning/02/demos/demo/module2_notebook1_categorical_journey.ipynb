{
 "cells": [
  {
   "cell_type": "markdown",
   "metadata": {
    "application/vnd.databricks.v1+cell": {
     "cellMetadata": {},
     "inputWidgets": {},
     "nuid": "e72eb1e5-b7b6-431e-bcb5-4a5c76fa4c69",
     "showTitle": false,
     "tableResultSettingsMap": {},
     "title": ""
    }
   },
   "source": [
    "# Module 2: Feature Engineering - Notebook 1: Handling Categorical Data and Customer Interaction Journey\n",
    "\n",
    "**Objectives:**\n",
    "- Load persisted e-commerce data (interactions, customers, products).\n",
    "- Handle categorical features using `StringIndexer` and `OneHotEncoder`.\n",
    "- Engineer features based on customer-product interaction journeys (counts, time, purchase history, engagement).\n",
    "- Create the binary target variable `has_purchased`.\n",
    "- Combine features and save the resulting DataFrame for the next notebook."
   ]
  },
  {
   "cell_type": "code",
   "execution_count": 1,
   "metadata": {
    "application/vnd.databricks.v1+cell": {
     "cellMetadata": {
      "byteLimit": 2048000,
      "rowLimit": 10000
     },
     "inputWidgets": {},
     "nuid": "da82c974-fdd3-4b39-8694-df760c38ec7b",
     "showTitle": false,
     "tableResultSettingsMap": {},
     "title": ""
    }
   },
   "outputs": [],
   "source": [
    "# Setup: Import necessary libraries\n",
    "from pyspark.sql import SparkSession\n",
    "from pyspark.sql import functions as F\n",
    "from pyspark.sql.types import StructType, StructField, StringType, IntegerType, DoubleType, TimestampType, LongType\n",
    "from pyspark.sql.window import Window\n",
    "from pyspark.ml.feature import StringIndexer, OneHotEncoder\n",
    "from pyspark.ml import Pipeline\n",
    "import os\n",
    "\n",
    "# Créer une SparkSession\n",
    "spark = SparkSession.builder \\\n",
    "    .appName(\"MonApplication\") \\\n",
    "    .getOrCreate()"
   ]
  },
  {
   "cell_type": "markdown",
   "metadata": {
    "application/vnd.databricks.v1+cell": {
     "cellMetadata": {},
     "inputWidgets": {},
     "nuid": "35166a6c-17b3-4105-b6f1-ec5f2360782f",
     "showTitle": false,
     "tableResultSettingsMap": {},
     "title": ""
    }
   },
   "source": [
    "## 1. Load Data\n",
    "\n",
    "Load the three tables from the `ecommerce` database."
   ]
  },
  {
   "cell_type": "code",
   "execution_count": 3,
   "metadata": {
    "application/vnd.databricks.v1+cell": {
     "cellMetadata": {
      "byteLimit": 2048000,
      "rowLimit": 10000
     },
     "inputWidgets": {},
     "nuid": "8ba81746-891e-4eb5-ac8f-933d1250e805",
     "showTitle": false,
     "tableResultSettingsMap": {},
     "title": ""
    }
   },
   "outputs": [
    {
     "name": "stdout",
     "output_type": "stream",
     "text": [
      "+-----------+---+------+-------+-----------+----------------+\n",
      "|customer_id|age|gender|country|tenure_days|membership_level|\n",
      "+-----------+---+------+-------+-----------+----------------+\n",
      "|          1| 40|     M|     US|        936|        Platinum|\n",
      "|          2| 33|     M|     UK|        192|          Silver|\n",
      "|          3| 42|     M|     MX|        160|          Bronze|\n",
      "|          4| 53|     M|     AU|        823|          Bronze|\n",
      "|          5| 32|     F|     US|        513|          Bronze|\n",
      "+-----------+---+------+-------+-----------+----------------+\n",
      "only showing top 5 rows\n",
      "\n",
      "+----------+--------+-----+----------+\n",
      "|product_id|category|price|avg_rating|\n",
      "+----------+--------+-----+----------+\n",
      "|         1|Clothing|33.64|       3.8|\n",
      "|         2|Clothing|24.05|       3.5|\n",
      "|         3|  Beauty|58.67|       4.1|\n",
      "|         4|Clothing|11.15|       4.3|\n",
      "|         5|  Beauty|47.74|       4.5|\n",
      "+----------+--------+-----+----------+\n",
      "only showing top 5 rows\n",
      "\n",
      "+-----------+----------+--------------------+----------------+------------------+---------------+-----------+-------+---------------+\n",
      "|customer_id|product_id|           timestamp|interaction_type|time_spent_seconds|purchase_amount|user_rating| device|previous_visits|\n",
      "+-----------+----------+--------------------+----------------+------------------+---------------+-----------+-------+---------------+\n",
      "|       5390|       635|2024-04-11 11:40:...|            view|                21|            0.0|        0.0| mobile|              4|\n",
      "|       5390|       635|2024-04-11 11:45:...|     add_to_cart|                25|            0.0|        0.0| mobile|              4|\n",
      "|       5390|       635|2024-04-11 11:48:...|        purchase|                51|          78.69|        0.0| mobile|              4|\n",
      "|       8426|       195|2024-04-11 11:52:...|            view|                 5|            0.0|        0.0| mobile|              1|\n",
      "|       4951|       698|2024-04-11 11:56:...|            view|                15|            0.0|        0.0|desktop|              3|\n",
      "+-----------+----------+--------------------+----------------+------------------+---------------+-----------+-------+---------------+\n",
      "only showing top 5 rows\n",
      "\n"
     ]
    }
   ],
   "source": [
    "# Load tables\n",
    "\n",
    "# Define paths for each file in the Workspace storage\n",
    "customers_path = \"data/ecommerce_customers.parquet\"\n",
    "products_path = \"data/ecommerce_products.parquet\"\n",
    "interactions_path = \"data/ecommerce_interactions.parquet\"\n",
    "\n",
    "# Load the parquet files\n",
    "customers_df = spark.read.parquet(customers_path)\n",
    "products_df = spark.read.parquet(products_path)\n",
    "interactions_df = spark.read.parquet(interactions_path)\n",
    "\n",
    "customers_df.show(5)\n",
    "products_df.show(5)\n",
    "interactions_df.show(5)"
   ]
  },
  {
   "cell_type": "markdown",
   "metadata": {
    "application/vnd.databricks.v1+cell": {
     "cellMetadata": {},
     "inputWidgets": {},
     "nuid": "03dcdb78-3163-44f1-a639-32d1c0bd6135",
     "showTitle": false,
     "tableResultSettingsMap": {},
     "title": ""
    }
   },
   "source": [
    "## 2. Feature Engineering: Customer-Product Journey Aggregation\n",
    "\n",
    "We need to aggregate interaction data to the `customer_id`, `product_id` level. This is where we will create:\n",
    "1.  The **target variable** `has_purchased`.\n",
    "2.  **Journey features**: Interaction counts, time-based features, purchase history aggregates, and engagement metrics.\n",
    "3.  We also need to bring in customer and product features. We can join the tables first, then aggregate."
   ]
  },
  {
   "cell_type": "code",
   "execution_count": 5,
   "metadata": {
    "application/vnd.databricks.v1+cell": {
     "cellMetadata": {
      "byteLimit": 2048000,
      "rowLimit": 10000
     },
     "inputWidgets": {},
     "nuid": "8b8b8046-0ab2-4e61-99f2-8cfec29c2d25",
     "showTitle": false,
     "tableResultSettingsMap": {},
     "title": ""
    }
   },
   "outputs": [
    {
     "name": "stdout",
     "output_type": "stream",
     "text": [
      "Joined DataFrame Schema:\n",
      "root\n",
      " |-- customer_id: integer (nullable = true)\n",
      " |-- product_id: long (nullable = true)\n",
      " |-- timestamp: timestamp_ntz (nullable = true)\n",
      " |-- interaction_type: string (nullable = true)\n",
      " |-- time_spent_seconds: long (nullable = true)\n",
      " |-- purchase_amount: double (nullable = true)\n",
      " |-- user_rating: double (nullable = true)\n",
      " |-- device: string (nullable = true)\n",
      " |-- previous_visits: long (nullable = true)\n",
      " |-- age: integer (nullable = true)\n",
      " |-- gender: string (nullable = true)\n",
      " |-- country: string (nullable = true)\n",
      " |-- tenure_days: integer (nullable = true)\n",
      " |-- membership_level: string (nullable = true)\n",
      " |-- category: string (nullable = true)\n",
      " |-- price: double (nullable = true)\n",
      " |-- product_avg_rating: double (nullable = true)\n",
      "\n",
      "\n",
      "Joined DataFrame Sample:\n",
      "+-----------+----------+--------------------+----------------+------------------+---------------+-----------+-------+---------------+---+------+-------+-----------+----------------+-----------+------+------------------+\n",
      "|customer_id|product_id|           timestamp|interaction_type|time_spent_seconds|purchase_amount|user_rating| device|previous_visits|age|gender|country|tenure_days|membership_level|   category| price|product_avg_rating|\n",
      "+-----------+----------+--------------------+----------------+------------------+---------------+-----------+-------+---------------+---+------+-------+-----------+----------------+-----------+------+------------------+\n",
      "|       5390|       635|2024-04-11 11:40:...|            view|                21|            0.0|        0.0| mobile|              4| 18|     M|     JP|        883|        Platinum|       Toys| 42.51|               4.1|\n",
      "|       5390|       635|2024-04-11 11:45:...|     add_to_cart|                25|            0.0|        0.0| mobile|              4| 18|     M|     JP|        883|        Platinum|       Toys| 42.51|               4.1|\n",
      "|       5390|       635|2024-04-11 11:48:...|        purchase|                51|          78.69|        0.0| mobile|              4| 18|     M|     JP|        883|        Platinum|       Toys| 42.51|               4.1|\n",
      "|       8426|       195|2024-04-11 11:52:...|            view|                 5|            0.0|        0.0| mobile|              1| 34|     M|     US|        297|          Bronze|     Health| 37.98|               3.2|\n",
      "|       4951|       698|2024-04-11 11:56:...|            view|                15|            0.0|        0.0|desktop|              3| 37|     F|     US|        801|        Platinum|Electronics|461.97|               3.4|\n",
      "+-----------+----------+--------------------+----------------+------------------+---------------+-----------+-------+---------------+---+------+-------+-----------+----------------+-----------+------+------------------+\n",
      "only showing top 5 rows\n",
      "\n"
     ]
    }
   ],
   "source": [
    "# Rename potentially conflicting columns before join\n",
    "customers_renamed_df = customers_df.withColumnRenamed(\"customer_id\", \"cust_id\")\n",
    "products_renamed_df = products_df.withColumnRenamed(\"product_id\", \"prod_id\").withColumnRenamed(\"avg_rating\", \"product_avg_rating\")\n",
    "\n",
    "# Join the three tables\n",
    "# Use left joins starting from interactions to keep all interaction records\n",
    "# Then join with customers and products\n",
    "joined_df = interactions_df \\\n",
    "    .join(customers_renamed_df, interactions_df[\"customer_id\"] == customers_renamed_df[\"cust_id\"], \"left\") \\\n",
    "    .join(products_renamed_df, interactions_df[\"product_id\"] == products_renamed_df[\"prod_id\"], \"left\") \\\n",
    "    .select(\n",
    "        \"customer_id\", \"product_id\", \"timestamp\", \"interaction_type\", \"time_spent_seconds\",\n",
    "        \"purchase_amount\", \"user_rating\", \"device\", \"previous_visits\", # From interactions\n",
    "        \"age\", \"gender\", \"country\", \"tenure_days\", \"membership_level\", # From customers\n",
    "        \"category\", \"price\", \"product_avg_rating\" # From products\n",
    "    )\n",
    "\n",
    "print(\"Joined DataFrame Schema:\")\n",
    "joined_df.printSchema()\n",
    "print(\"\\nJoined DataFrame Sample:\")\n",
    "joined_df.show(5)"
   ]
  },
  {
   "cell_type": "markdown",
   "metadata": {
    "application/vnd.databricks.v1+cell": {
     "cellMetadata": {},
     "inputWidgets": {},
     "nuid": "62e8b208-4c38-4482-9469-884c4dfdf87e",
     "showTitle": false,
     "tableResultSettingsMap": {},
     "title": ""
    }
   },
   "source": [
    "### Aggregation Logic\n",
    "Group by `customer_id` and `product_id` and calculate aggregates."
   ]
  },
  {
   "cell_type": "code",
   "execution_count": 7,
   "metadata": {
    "application/vnd.databricks.v1+cell": {
     "cellMetadata": {
      "byteLimit": 2048000,
      "rowLimit": 10000
     },
     "inputWidgets": {},
     "nuid": "385ceba4-e75b-464f-973c-3f416a235b1c",
     "showTitle": false,
     "tableResultSettingsMap": {},
     "title": ""
    }
   },
   "outputs": [
    {
     "name": "stdout",
     "output_type": "stream",
     "text": [
      "Overall Stats Aggregation Schema:\n",
      "root\n",
      " |-- customer_id: integer (nullable = true)\n",
      " |-- product_id: long (nullable = true)\n",
      " |-- has_purchased: integer (nullable = true)\n",
      " |-- total_purchase_amount: double (nullable = true)\n",
      " |-- purchase_count: long (nullable = true)\n",
      " |-- first_purchase_ts: timestamp_ntz (nullable = true)\n",
      " |-- avg_purchase_amount: double (nullable = true)\n",
      "\n",
      "+-----------+----------+-------------+---------------------+--------------+--------------------+-------------------+\n",
      "|customer_id|product_id|has_purchased|total_purchase_amount|purchase_count|   first_purchase_ts|avg_purchase_amount|\n",
      "+-----------+----------+-------------+---------------------+--------------+--------------------+-------------------+\n",
      "|          1|       154|            1|                41.26|             1|2025-02-12 19:42:...|              41.26|\n",
      "|          1|       290|            1|                398.2|             1|2025-02-23 13:49:...|              398.2|\n",
      "|          1|       551|            0|                  0.0|             0|                NULL|                0.0|\n",
      "|          2|       485|            0|                  0.0|             0|                NULL|                0.0|\n",
      "|          2|       763|            0|                  0.0|             0|                NULL|                0.0|\n",
      "+-----------+----------+-------------+---------------------+--------------+--------------------+-------------------+\n",
      "only showing top 5 rows\n",
      "\n",
      "Sample Interactions Considered for Feature Calculation:\n",
      "+-----------+----------+--------------------+----------------+--------------------+\n",
      "|customer_id|product_id|           timestamp|interaction_type|   first_purchase_ts|\n",
      "+-----------+----------+--------------------+----------------+--------------------+\n",
      "|          1|       154|2025-02-12 19:38:...|            view|2025-02-12 19:42:...|\n",
      "|          2|       763|2024-09-22 01:22:...|            view|                NULL|\n",
      "|          2|       763|2024-09-22 01:32:...|     add_to_cart|                NULL|\n",
      "|          2|       901|2024-05-15 12:13:...|            view|                NULL|\n",
      "|          3|       162|2024-07-31 06:46:...|            view|                NULL|\n",
      "+-----------+----------+--------------------+----------------+--------------------+\n",
      "only showing top 5 rows\n",
      "\n",
      "Aggregated Pre-Purchase Features DataFrame Schema:\n",
      "root\n",
      " |-- customer_id: integer (nullable = true)\n",
      " |-- product_id: long (nullable = true)\n",
      " |-- view_count: long (nullable = true)\n",
      " |-- add_to_cart_count: long (nullable = true)\n",
      " |-- review_count: long (nullable = true)\n",
      " |-- total_interactions: long (nullable = false)\n",
      " |-- total_time_spent: long (nullable = true)\n",
      " |-- interaction_time_span_seconds: long (nullable = true)\n",
      " |-- first_interaction_time: timestamp_ntz (nullable = true)\n",
      " |-- avg_user_rating_non_null: double (nullable = true)\n",
      " |-- age: integer (nullable = true)\n",
      " |-- gender: string (nullable = true)\n",
      " |-- country: string (nullable = true)\n",
      " |-- tenure_days: integer (nullable = true)\n",
      " |-- membership_level: string (nullable = true)\n",
      " |-- category: string (nullable = true)\n",
      " |-- price: double (nullable = true)\n",
      " |-- product_avg_rating: double (nullable = true)\n",
      " |-- device: string (nullable = true)\n",
      " |-- previous_visits: long (nullable = true)\n",
      "\n"
     ]
    }
   ],
   "source": [
    "# Step 1: Calculate TARGETS and overall purchase stats based on ALL interactions per group\n",
    "# Also find the first purchase timestamp.\n",
    "window_spec_cp = Window.partitionBy(\"customer_id\", \"product_id\")\n",
    "overall_agg_expressions = [\n",
    "    F.max(F.when(F.col(\"interaction_type\") == \"purchase\", 1).otherwise(0)).alias(\"has_purchased\"),\n",
    "    F.sum(F.when(F.col(\"interaction_type\") == \"purchase\", F.col(\"purchase_amount\")).otherwise(0)).alias(\"total_purchase_amount\"),\n",
    "    F.sum(F.when(F.col(\"interaction_type\") == \"purchase\", 1).otherwise(0)).alias(\"purchase_count\"),\n",
    "    F.min(F.when(F.col(\"interaction_type\") == \"purchase\", F.col(\"timestamp\"))).over(window_spec_cp).alias(\"first_purchase_ts_win\") # Use window to get ts on each row first\n",
    "]\n",
    "\n",
    "# Apply window function first to get first_purchase_ts accessible for grouping key calculation\n",
    "joined_with_purchase_ts = joined_df.withColumn(\"first_purchase_ts\", F.min(F.when(F.col(\"interaction_type\") == \"purchase\", F.col(\"timestamp\"))).over(window_spec_cp))\n",
    "\n",
    "# Now group and aggregate overall stats\n",
    "overall_stats_agg = joined_with_purchase_ts.groupBy(\"customer_id\", \"product_id\").agg(\n",
    "    F.max(F.when(F.col(\"interaction_type\") == \"purchase\", 1).otherwise(0)).alias(\"has_purchased\"),\n",
    "    F.sum(F.when(F.col(\"interaction_type\") == \"purchase\", F.col(\"purchase_amount\")).otherwise(0)).alias(\"total_purchase_amount\"),\n",
    "    F.sum(F.when(F.col(\"interaction_type\") == \"purchase\", 1).otherwise(0)).alias(\"purchase_count\"),\n",
    "    # Also get the first purchase timestamp for filtering later\n",
    "    F.first(\"first_purchase_ts\", ignorenulls=True).alias(\"first_purchase_ts\")\n",
    ")\n",
    "# Calculate overall average purchase amount (handle division by zero)\n",
    "overall_stats_agg = overall_stats_agg.withColumn(\n",
    "    \"avg_purchase_amount\",\n",
    "     F.when(F.col(\"purchase_count\") > 0, F.col(\"total_purchase_amount\") / F.col(\"purchase_count\"))\n",
    "     .otherwise(0.0)\n",
    ")\n",
    "\n",
    "print(\"Overall Stats Aggregation Schema:\")\n",
    "overall_stats_agg.printSchema()\n",
    "overall_stats_agg.show(5)\n",
    "\n",
    "\n",
    "# Step 2: Filter interactions to only those BEFORE the first purchase (if any)\n",
    "# Join the first purchase time back to the original joined data\n",
    "# Note: joined_with_purchase_ts already has first_purchase_ts from the window function earlier\n",
    "interactions_for_features = joined_with_purchase_ts.where(\n",
    "    (F.col(\"timestamp\") < F.col(\"first_purchase_ts\")) | F.col(\"first_purchase_ts\").isNull()\n",
    ")\n",
    "print(\"Sample Interactions Considered for Feature Calculation:\")\n",
    "interactions_for_features.select(\"customer_id\", \"product_id\", \"timestamp\", \"interaction_type\", \"first_purchase_ts\").show(5)\n",
    "\n",
    "\n",
    "# Step 3: Aggregate FEATURES based ONLY on the filtered pre-purchase (or all if no purchase) interactions\n",
    "# Exclude the overall purchase aggregates from this list\n",
    "feature_agg_expressions = [\n",
    "    # Interaction Counts (pre-purchase)\n",
    "    F.sum(F.when(F.col(\"interaction_type\") == \"view\", 1).otherwise(0)).alias(\"view_count\"),\n",
    "    F.sum(F.when(F.col(\"interaction_type\") == \"add_to_cart\", 1).otherwise(0)).alias(\"add_to_cart_count\"),\n",
    "    F.sum(F.when(F.col(\"interaction_type\") == \"review\", 1).otherwise(0)).alias(\"review_count\"),\n",
    "    F.count(\"*\").alias(\"total_interactions\"), # Now counts pre-purchase interactions\n",
    "\n",
    "    # Time-based Features (pre-purchase)\n",
    "    F.sum(\"time_spent_seconds\").alias(\"total_time_spent\"),\n",
    "    (F.unix_timestamp(F.max(\"timestamp\")) - F.unix_timestamp(F.min(\"timestamp\"))).alias(\"interaction_time_span_seconds\"),\n",
    "    F.min(\"timestamp\").alias(\"first_interaction_time\"), # Based on pre-purchase interactions\n",
    "\n",
    "    # Engagement Metrics (pre-purchase reviews)\n",
    "    F.avg(F.when(F.col(\"interaction_type\") == \"review\", F.col(\"user_rating\"))).alias(\"avg_user_rating_non_null\"),\n",
    "\n",
    "    # Collect Original Features\n",
    "    F.first(\"age\", ignorenulls=True).alias(\"age\"),\n",
    "    F.first(\"gender\", ignorenulls=True).alias(\"gender\"),\n",
    "    F.first(\"country\", ignorenulls=True).alias(\"country\"),\n",
    "    F.first(\"tenure_days\", ignorenulls=True).alias(\"tenure_days\"),\n",
    "    F.first(\"membership_level\", ignorenulls=True).alias(\"membership_level\"),\n",
    "    F.first(\"category\", ignorenulls=True).alias(\"category\"),\n",
    "    F.first(\"price\", ignorenulls=True).alias(\"price\"),\n",
    "    F.first(\"product_avg_rating\", ignorenulls=True).alias(\"product_avg_rating\"),\n",
    "    F.first(\"device\", ignorenulls=True).alias(\"device\"),\n",
    "    F.first(\"previous_visits\", ignorenulls=True).alias(\"previous_visits\")\n",
    "]\n",
    "\n",
    "# Perform aggregation on filtered data\n",
    "pre_purchase_features_agg = interactions_for_features.groupBy(\"customer_id\", \"product_id\").agg(*feature_agg_expressions)\n",
    "\n",
    "print(\"Aggregated Pre-Purchase Features DataFrame Schema:\")\n",
    "pre_purchase_features_agg.printSchema()"
   ]
  },
  {
   "cell_type": "markdown",
   "metadata": {
    "application/vnd.databricks.v1+cell": {
     "cellMetadata": {},
     "inputWidgets": {},
     "nuid": "ab0c11e9-667a-4941-a8e6-a96dfbeb468c",
     "showTitle": false,
     "tableResultSettingsMap": {},
     "title": ""
    }
   },
   "source": [
    "### Post-Processing Aggregated Features\n",
    "Calculate derived features, handle imputations, and finalize columns based on the aggregation results."
   ]
  },
  {
   "cell_type": "code",
   "execution_count": 8,
   "metadata": {
    "application/vnd.databricks.v1+cell": {
     "cellMetadata": {
      "byteLimit": 2048000,
      "rowLimit": 10000
     },
     "inputWidgets": {},
     "nuid": "94a26537-3a13-4093-bc4e-c914a72b5633",
     "showTitle": false,
     "tableResultSettingsMap": {},
     "title": ""
    }
   },
   "outputs": [
    {
     "name": "stdout",
     "output_type": "stream",
     "text": [
      "Final Combined DataFrame Schema:\n",
      "root\n",
      " |-- customer_id: integer (nullable = true)\n",
      " |-- product_id: long (nullable = true)\n",
      " |-- view_count: long (nullable = true)\n",
      " |-- add_to_cart_count: long (nullable = true)\n",
      " |-- review_count: long (nullable = true)\n",
      " |-- total_interactions: long (nullable = false)\n",
      " |-- total_time_spent: long (nullable = true)\n",
      " |-- age: integer (nullable = true)\n",
      " |-- gender: string (nullable = true)\n",
      " |-- country: string (nullable = true)\n",
      " |-- tenure_days: integer (nullable = true)\n",
      " |-- membership_level: string (nullable = true)\n",
      " |-- category: string (nullable = true)\n",
      " |-- price: double (nullable = true)\n",
      " |-- product_avg_rating: double (nullable = true)\n",
      " |-- device: string (nullable = true)\n",
      " |-- previous_visits: long (nullable = true)\n",
      " |-- interaction_time_span_days: double (nullable = true)\n",
      " |-- days_since_first_interaction: double (nullable = true)\n",
      " |-- avg_user_rating: double (nullable = false)\n",
      " |-- has_purchased: integer (nullable = true)\n",
      " |-- total_purchase_amount: double (nullable = true)\n",
      " |-- avg_purchase_amount: double (nullable = true)\n",
      " |-- purchase_count: long (nullable = true)\n",
      "\n",
      "Final Combined DataFrame Sample:\n",
      "+-----------+----------+----------+-----------------+------------+------------------+----------------+---+------+-------+-----------+----------------+--------+------+------------------+-------+---------------+--------------------------+----------------------------+---------------+-------------+---------------------+-------------------+--------------+\n",
      "|customer_id|product_id|view_count|add_to_cart_count|review_count|total_interactions|total_time_spent|age|gender|country|tenure_days|membership_level|category| price|product_avg_rating| device|previous_visits|interaction_time_span_days|days_since_first_interaction|avg_user_rating|has_purchased|total_purchase_amount|avg_purchase_amount|purchase_count|\n",
      "+-----------+----------+----------+-----------------+------------+------------------+----------------+---+------+-------+-----------+----------------+--------+------+------------------+-------+---------------+--------------------------+----------------------------+---------------+-------------+---------------------+-------------------+--------------+\n",
      "|          1|       154|         1|                0|           0|                 1|               0| 40|     M|     US|        936|        Platinum|   Books|  0.58|               4.0| mobile|              3|                       0.0|          59.645185185185184|            4.0|            1|                41.26|              41.26|             1|\n",
      "|          2|       763|         1|                1|           0|                 2|               8| 33|     M|     UK|        192|          Silver|   Books| 20.53|               3.4| mobile|              0|      0.006944444444444444|          203.40645833333335|            3.4|            0|                  0.0|                0.0|             0|\n",
      "|          3|       862|         1|                1|           0|                 2|              37| 42|     M|     MX|        160|          Bronze|  Sports|108.02|               3.6|desktop|              0|      0.006944444444444444|           63.28100694444444|            3.6|            0|                  0.0|                0.0|             0|\n",
      "|          3|       929|         1|                0|           0|                 1|               0| 42|     M|     MX|        160|          Bronze|   Books|  3.34|               3.2| mobile|              2|                       0.0|          234.92920138888888|            3.2|            0|                  0.0|                0.0|             0|\n",
      "|          4|       244|         1|                1|           0|                 2|              34| 53|     M|     AU|        823|          Bronze|  Sports| 57.22|               3.3| mobile|              5|      0.005555555555555556|          239.83685185185186|            3.3|            1|               137.89|             137.89|             1|\n",
      "+-----------+----------+----------+-----------------+------------+------------------+----------------+---+------+-------+-----------+----------------+--------+------+------------------+-------+---------------+--------------------------+----------------------------+---------------+-------------+---------------------+-------------------+--------------+\n",
      "only showing top 5 rows\n",
      "\n"
     ]
    }
   ],
   "source": [
    "# Step 4: Post-processing Pre-Purchase Features\n",
    "# Fill nulls resulting from aggregation (e.g., if no pre-purchase interactions existed)\n",
    "customer_product_features_temp = pre_purchase_features_agg.fillna(0, subset=[\n",
    "    \"view_count\", \"add_to_cart_count\", \"review_count\", \"total_interactions\",\n",
    "    \"total_time_spent\"\n",
    "])\n",
    "# Fill time span seconds if null\n",
    "customer_product_features_temp = customer_product_features_temp.fillna(0, subset=[\"interaction_time_span_seconds\"])\n",
    "\n",
    "\n",
    "# Calculate interaction_time_span_days\n",
    "customer_product_features_temp = customer_product_features_temp.withColumn(\n",
    "    \"interaction_time_span_days\",\n",
    "    F.when(F.col(\"interaction_time_span_seconds\") > 0,\n",
    "           F.col(\"interaction_time_span_seconds\") / (60 * 60 * 24))\n",
    "    .otherwise(0.0)\n",
    ").drop(\"interaction_time_span_seconds\")\n",
    "\n",
    "# Calculate days_since_first_interaction (relative to max timestamp overall)\n",
    "max_timestamp_overall = joined_df.select(F.max(\"timestamp\")).first()[0]\n",
    "customer_product_features_temp = customer_product_features_temp.withColumn(\n",
    "    \"days_since_first_interaction\",\n",
    "    F.when(F.col(\"first_interaction_time\").isNotNull(),\n",
    "        (F.unix_timestamp(F.lit(max_timestamp_overall)) - F.unix_timestamp(F.col(\"first_interaction_time\"))) / (60*60*24)\n",
    "    ).otherwise(0.0) \n",
    ")\n",
    "\n",
    "# Impute avg_user_rating (pre-purchase reviews)\n",
    "customer_product_features_temp = customer_product_features_temp.withColumn(\n",
    "    \"avg_user_rating\",\n",
    "    F.coalesce(F.col(\"avg_user_rating_non_null\"), F.col(\"product_avg_rating\"), F.lit(3.0))\n",
    ").drop(\"avg_user_rating_non_null\")\n",
    "\n",
    "# Drop intermediate time columns if they exist\n",
    "if \"first_interaction_time\" in customer_product_features_temp.columns:\n",
    "    customer_product_features_temp = customer_product_features_temp.drop(\"first_interaction_time\")\n",
    "\n",
    "\n",
    "# Step 5: Join the pre-purchase features with the overall target variables and purchase stats\n",
    "final_customer_product_features = customer_product_features_temp.join(\n",
    "    overall_stats_agg.select(\n",
    "        \"customer_id\", \"product_id\", \"has_purchased\",\n",
    "        \"total_purchase_amount\", \"avg_purchase_amount\", \"purchase_count\"\n",
    "    ),\n",
    "    [\"customer_id\", \"product_id\"],\n",
    "    \"inner\" # Use inner join, ensures we only have pairs with calculated features\n",
    ")\n",
    "\n",
    "# Assign to the variable name expected by the next cell (cell 9)\n",
    "customer_product_features = final_customer_product_features\n",
    "\n",
    "print(\"Final Combined DataFrame Schema:\")\n",
    "customer_product_features.printSchema()\n",
    "print(\"Final Combined DataFrame Sample:\")\n",
    "customer_product_features.show(5)"
   ]
  },
  {
   "cell_type": "markdown",
   "metadata": {
    "application/vnd.databricks.v1+cell": {
     "cellMetadata": {},
     "inputWidgets": {},
     "nuid": "96065fdb-431f-44ab-8731-753e02384dbb",
     "showTitle": false,
     "tableResultSettingsMap": {},
     "title": ""
    }
   },
   "source": [
    "## 3. Handling Categorical Features\n",
    "\n",
    "Now apply `StringIndexer` and `OneHotEncoder` to the categorical columns collected during aggregation (`gender`, `country`, `membership_level`, `category`, `device`)."
   ]
  },
  {
   "cell_type": "code",
   "execution_count": 9,
   "metadata": {
    "application/vnd.databricks.v1+cell": {
     "cellMetadata": {
      "byteLimit": 2048000,
      "rowLimit": 10000
     },
     "inputWidgets": {},
     "nuid": "069c076e-7fc7-46d7-be5c-0f4a4ee4c256",
     "showTitle": false,
     "tableResultSettingsMap": {},
     "title": ""
    }
   },
   "outputs": [
    {
     "name": "stdout",
     "output_type": "stream",
     "text": [
      "Schema after Categorical Encoding:\n",
      "root\n",
      " |-- customer_id: integer (nullable = true)\n",
      " |-- product_id: long (nullable = true)\n",
      " |-- view_count: long (nullable = true)\n",
      " |-- add_to_cart_count: long (nullable = true)\n",
      " |-- review_count: long (nullable = true)\n",
      " |-- total_interactions: long (nullable = false)\n",
      " |-- total_time_spent: long (nullable = true)\n",
      " |-- age: integer (nullable = true)\n",
      " |-- gender: string (nullable = false)\n",
      " |-- country: string (nullable = false)\n",
      " |-- tenure_days: integer (nullable = true)\n",
      " |-- membership_level: string (nullable = false)\n",
      " |-- category: string (nullable = false)\n",
      " |-- price: double (nullable = true)\n",
      " |-- product_avg_rating: double (nullable = true)\n",
      " |-- device: string (nullable = false)\n",
      " |-- previous_visits: long (nullable = true)\n",
      " |-- interaction_time_span_days: double (nullable = true)\n",
      " |-- days_since_first_interaction: double (nullable = true)\n",
      " |-- avg_user_rating: double (nullable = false)\n",
      " |-- has_purchased: integer (nullable = true)\n",
      " |-- total_purchase_amount: double (nullable = true)\n",
      " |-- avg_purchase_amount: double (nullable = true)\n",
      " |-- purchase_count: long (nullable = true)\n",
      " |-- gender_index: double (nullable = false)\n",
      " |-- country_index: double (nullable = false)\n",
      " |-- membership_level_index: double (nullable = false)\n",
      " |-- category_index: double (nullable = false)\n",
      " |-- device_index: double (nullable = false)\n",
      " |-- gender_vec: vector (nullable = true)\n",
      " |-- country_vec: vector (nullable = true)\n",
      " |-- membership_level_vec: vector (nullable = true)\n",
      " |-- category_vec: vector (nullable = true)\n",
      " |-- device_vec: vector (nullable = true)\n",
      "\n",
      "\n",
      "Sample Data after Encoding:\n",
      "+-----------+----------+------+------------+-------------+--------+--------------+--------------+\n",
      "|customer_id|product_id|gender|gender_index|   gender_vec|category|category_index|  category_vec|\n",
      "+-----------+----------+------+------------+-------------+--------+--------------+--------------+\n",
      "|          1|       154|     M|         1.0|(3,[1],[1.0])|   Books|           7.0|(10,[7],[1.0])|\n",
      "|          2|       763|     M|         1.0|(3,[1],[1.0])|   Books|           7.0|(10,[7],[1.0])|\n",
      "|          3|       162|     M|         1.0|(3,[1],[1.0])|  Beauty|           2.0|(10,[2],[1.0])|\n",
      "|          3|       862|     M|         1.0|(3,[1],[1.0])|  Sports|           0.0|(10,[0],[1.0])|\n",
      "|          3|       929|     M|         1.0|(3,[1],[1.0])|   Books|           7.0|(10,[7],[1.0])|\n",
      "+-----------+----------+------+------------+-------------+--------+--------------+--------------+\n",
      "only showing top 5 rows\n",
      "\n"
     ]
    }
   ],
   "source": [
    "# Identify categorical columns to encode\n",
    "# Ensure these columns exist and handle potential nulls from joins if necessary\n",
    "categorical_cols = [\"gender\", \"country\", \"membership_level\", \"category\", \"device\"]\n",
    "\n",
    "# Fill nulls in categorical columns before indexing (important!)\n",
    "# Use a placeholder like 'Unknown' or 'Missing'\n",
    "fill_values_cat = {col: \"Unknown\" for col in categorical_cols}\n",
    "customer_product_features_filled = customer_product_features.fillna(fill_values_cat)\n",
    "\n",
    "# Create list of indexer and encoder stages\n",
    "indexers = [StringIndexer(inputCol=col, outputCol=col + \"_index\", handleInvalid=\"keep\") for col in categorical_cols]\n",
    "encoders = [OneHotEncoder(inputCol=col + \"_index\", outputCol=col + \"_vec\") for col in categorical_cols]\n",
    "\n",
    "# Create pipeline\n",
    "pipeline_stages = indexers + encoders\n",
    "categorical_pipeline = Pipeline(stages=pipeline_stages)\n",
    "\n",
    "# Fit and transform the data\n",
    "feature_pipeline_model = categorical_pipeline.fit(customer_product_features_filled)\n",
    "features_encoded_df = feature_pipeline_model.transform(customer_product_features_filled)\n",
    "\n",
    "print(\"Schema after Categorical Encoding:\")\n",
    "features_encoded_df.printSchema()\n",
    "\n",
    "# Show some encoded columns\n",
    "print(\"\\nSample Data after Encoding:\")\n",
    "features_encoded_df.select(\"customer_id\", \"product_id\", \"gender\", \"gender_index\", \"gender_vec\", \"category\", \"category_index\", \"category_vec\").show(5)"
   ]
  },
  {
   "cell_type": "markdown",
   "metadata": {
    "application/vnd.databricks.v1+cell": {
     "cellMetadata": {},
     "inputWidgets": {},
     "nuid": "f2ef8f22-0ca3-4e76-95df-1ee02323968d",
     "showTitle": false,
     "tableResultSettingsMap": {},
     "title": ""
    }
   },
   "source": [
    "## 4. Final Feature Selection and Schema Alignment\n",
    "\n",
    "Select the final columns including the customer/product identifiers, encoded categorical vectors, original numerical features (which still need scaling in the next notebook), engineered journey features (also need scaling), and the target variable."
   ]
  },
  {
   "cell_type": "code",
   "execution_count": 10,
   "metadata": {
    "application/vnd.databricks.v1+cell": {
     "cellMetadata": {
      "byteLimit": 2048000,
      "rowLimit": 10000
     },
     "inputWidgets": {},
     "nuid": "c39381fe-45d4-488b-bfff-9f9afa5e0709",
     "showTitle": false,
     "tableResultSettingsMap": {},
     "title": ""
    }
   },
   "outputs": [
    {
     "name": "stdout",
     "output_type": "stream",
     "text": [
      "\n",
      "Final DataFrame Schema:\n",
      "root\n",
      " |-- customer_id: integer (nullable = true)\n",
      " |-- product_id: long (nullable = true)\n",
      " |-- gender_vec: vector (nullable = true)\n",
      " |-- country_vec: vector (nullable = true)\n",
      " |-- membership_level_vec: vector (nullable = true)\n",
      " |-- category_vec: vector (nullable = true)\n",
      " |-- device_vec: vector (nullable = true)\n",
      " |-- age: integer (nullable = true)\n",
      " |-- tenure_days: integer (nullable = true)\n",
      " |-- price: double (nullable = true)\n",
      " |-- product_avg_rating: double (nullable = true)\n",
      " |-- previous_visits: long (nullable = true)\n",
      " |-- view_count: long (nullable = true)\n",
      " |-- add_to_cart_count: long (nullable = true)\n",
      " |-- review_count: long (nullable = true)\n",
      " |-- purchase_count: long (nullable = true)\n",
      " |-- total_interactions: long (nullable = false)\n",
      " |-- total_time_spent: long (nullable = true)\n",
      " |-- interaction_time_span_days: double (nullable = true)\n",
      " |-- days_since_first_interaction: double (nullable = true)\n",
      " |-- total_purchase_amount: double (nullable = true)\n",
      " |-- avg_purchase_amount: double (nullable = true)\n",
      " |-- avg_user_rating: double (nullable = false)\n",
      " |-- has_purchased: integer (nullable = true)\n",
      "\n",
      "\n",
      "Final DataFrame Sample:\n",
      "+-----------+----------+-------------+--------------+--------------------+--------------+-------------+---+-----------+------+------------------+---------------+----------+-----------------+------------+--------------+------------------+----------------+--------------------------+----------------------------+---------------------+-------------------+---------------+-------------+\n",
      "|customer_id|product_id|   gender_vec|   country_vec|membership_level_vec|  category_vec|   device_vec|age|tenure_days| price|product_avg_rating|previous_visits|view_count|add_to_cart_count|review_count|purchase_count|total_interactions|total_time_spent|interaction_time_span_days|days_since_first_interaction|total_purchase_amount|avg_purchase_amount|avg_user_rating|has_purchased|\n",
      "+-----------+----------+-------------+--------------+--------------------+--------------+-------------+---+-----------+------+------------------+---------------+----------+-----------------+------------+--------------+------------------+----------------+--------------------------+----------------------------+---------------------+-------------------+---------------+-------------+\n",
      "|          1|       154|(3,[1],[1.0])|(10,[0],[1.0])|       (4,[3],[1.0])|(10,[7],[1.0])|(3,[0],[1.0])| 40|        936|  0.58|               4.0|              3|         1|                0|           0|             1|                 1|               0|                       0.0|          59.645185185185184|                41.26|              41.26|            4.0|            1|\n",
      "|          2|       763|(3,[1],[1.0])|(10,[1],[1.0])|       (4,[1],[1.0])|(10,[7],[1.0])|(3,[0],[1.0])| 33|        192| 20.53|               3.4|              0|         1|                1|           0|             0|                 2|               8|      0.006944444444444444|          203.40645833333335|                  0.0|                0.0|            3.4|            0|\n",
      "|          3|       862|(3,[1],[1.0])|(10,[7],[1.0])|       (4,[0],[1.0])|(10,[0],[1.0])|(3,[1],[1.0])| 42|        160|108.02|               3.6|              0|         1|                1|           0|             0|                 2|              37|      0.006944444444444444|           63.28100694444444|                  0.0|                0.0|            3.6|            0|\n",
      "|          3|       929|(3,[1],[1.0])|(10,[7],[1.0])|       (4,[0],[1.0])|(10,[7],[1.0])|(3,[0],[1.0])| 42|        160|  3.34|               3.2|              2|         1|                0|           0|             0|                 1|               0|                       0.0|          234.92920138888888|                  0.0|                0.0|            3.2|            0|\n",
      "|          4|       244|(3,[1],[1.0])|(10,[6],[1.0])|       (4,[0],[1.0])|(10,[0],[1.0])|(3,[0],[1.0])| 53|        823| 57.22|               3.3|              5|         1|                1|           0|             1|                 2|              34|      0.005555555555555556|          239.83685185185186|               137.89|             137.89|            3.3|            1|\n",
      "+-----------+----------+-------------+--------------+--------------------+--------------+-------------+---+-----------+------+------------------+---------------+----------+-----------------+------------+--------------+------------------+----------------+--------------------------+----------------------------+---------------------+-------------------+---------------+-------------+\n",
      "only showing top 5 rows\n",
      "\n"
     ]
    }
   ],
   "source": [
    "# Define final columns\n",
    "final_columns_desired = [\n",
    "    # Identifiers\n",
    "    \"customer_id\", \"product_id\",\n",
    "    # Encoded Categorical Vectors\n",
    "    \"gender_vec\", \"country_vec\", \"membership_level_vec\", \"category_vec\", \"device_vec\",\n",
    "    # Numerical - Original (To be scaled in the next notebook)\n",
    "    \"age\", \"tenure_days\", \"price\", \"product_avg_rating\", \"previous_visits\",\n",
    "    # Numerical - Journey Features (To be scaled in the next notebook)\n",
    "    \"view_count\", \"add_to_cart_count\", \"review_count\", \"purchase_count\", \"total_interactions\",\n",
    "    \"total_time_spent\", \"interaction_time_span_days\", \"days_since_first_interaction\",\n",
    "    \"total_purchase_amount\", # Leakage risk for classifier, keep for now\n",
    "    \"avg_purchase_amount\",   # Leakage risk for classifier, keep for now\n",
    "    \"avg_user_rating\",\n",
    "    # Target\n",
    "    \"has_purchased\"\n",
    "]\n",
    "\n",
    "final_df = features_encoded_df.select(final_columns_desired)\n",
    "\n",
    "print(\"\\nFinal DataFrame Schema:\")\n",
    "final_df.printSchema()\n",
    "print(\"\\nFinal DataFrame Sample:\")\n",
    "final_df.show(5)"
   ]
  },
  {
   "cell_type": "markdown",
   "metadata": {
    "application/vnd.databricks.v1+cell": {
     "cellMetadata": {},
     "inputWidgets": {},
     "nuid": "e05fa953-9aad-4c04-916a-8ee2c063c45b",
     "showTitle": false,
     "tableResultSettingsMap": {},
     "title": ""
    }
   },
   "source": [
    "## 5. Save Output\n",
    "\n",
    "Persist the final DataFrame (`final_df`) for use in the next notebook (Module 2, Notebook 2). We will save it as a managed table."
   ]
  },
  {
   "cell_type": "code",
   "execution_count": 16,
   "metadata": {
    "application/vnd.databricks.v1+cell": {
     "cellMetadata": {
      "byteLimit": 2048000,
      "rowLimit": 10000
     },
     "inputWidgets": {},
     "nuid": "9b4e063d-6a45-47c3-b1b9-d12337376054",
     "showTitle": false,
     "tableResultSettingsMap": {},
     "title": ""
    }
   },
   "outputs": [
    {
     "name": "stdout",
     "output_type": "stream",
     "text": [
      "\n",
      "Saving final DataFrame to managed table: ecommerce.customer_product_features\n",
      "Table 'ecommerce.customer_product_features' saved successfully.\n",
      "\n",
      "Verifying saved table:\n",
      "+-----------+----------+-------------+--------------+--------------------+--------------+-------------+---+-----------+------+------------------+---------------+----------+-----------------+------------+--------------+------------------+----------------+--------------------------+----------------------------+---------------------+-------------------+---------------+-------------+\n",
      "|customer_id|product_id|   gender_vec|   country_vec|membership_level_vec|  category_vec|   device_vec|age|tenure_days| price|product_avg_rating|previous_visits|view_count|add_to_cart_count|review_count|purchase_count|total_interactions|total_time_spent|interaction_time_span_days|days_since_first_interaction|total_purchase_amount|avg_purchase_amount|avg_user_rating|has_purchased|\n",
      "+-----------+----------+-------------+--------------+--------------------+--------------+-------------+---+-----------+------+------------------+---------------+----------+-----------------+------------+--------------+------------------+----------------+--------------------------+----------------------------+---------------------+-------------------+---------------+-------------+\n",
      "|          2|       485|(3,[1],[1.0])|(10,[1],[1.0])|       (4,[1],[1.0])|(10,[8],[1.0])|(3,[0],[1.0])| 33|        192| 14.26|               3.1|              0|         1|                1|           0|             0|                 2|              12|      0.008333333333333333|           4.892766203703704|                  0.0|                0.0|            3.1|            0|\n",
      "|          4|       312|(3,[1],[1.0])|(10,[6],[1.0])|       (4,[0],[1.0])|(10,[1],[1.0])|(3,[0],[1.0])| 53|        823|  3.06|               4.3|              6|         1|                1|           0|             0|                 2|               1|      0.003472222222222222|           83.28679398148148|                  0.0|                0.0|            4.3|            0|\n",
      "|          4|       616|(3,[1],[1.0])|(10,[6],[1.0])|       (4,[0],[1.0])|(10,[6],[1.0])|(3,[1],[1.0])| 53|        823|210.71|               4.5|              4|         1|                0|           0|             1|                 1|              79|                       0.0|          168.47391203703702|               281.39|             281.39|            4.5|            1|\n",
      "|          5|       825|(3,[0],[1.0])|(10,[0],[1.0])|       (4,[0],[1.0])|(10,[0],[1.0])|(3,[1],[1.0])| 32|        513|146.62|               3.6|              4|         1|                1|           0|             1|                 2|             182|      0.004166666666666667|          270.01722222222224|               232.21|             232.21|            3.6|            1|\n",
      "|          6|       143|(3,[1],[1.0])|(10,[3],[1.0])|       (4,[0],[1.0])|(10,[0],[1.0])|(3,[1],[1.0])| 32|        214| 43.51|               3.5|              2|         1|                0|           0|             0|                 1|              13|                       0.0|          222.83483796296295|                  0.0|                0.0|            3.5|            0|\n",
      "+-----------+----------+-------------+--------------+--------------------+--------------+-------------+---+-----------+------+------------------+---------------+----------+-----------------+------------+--------------+------------------+----------------+--------------------------+----------------------------+---------------------+-------------------+---------------+-------------+\n",
      "only showing top 5 rows\n",
      "\n"
     ]
    }
   ],
   "source": [
    "# Define output table name\n",
    "output_table_name = \"ecommerce.customer_product_features\"\n",
    "\n",
    "# Save as Managed Table (Overwrite if exists)\n",
    "try:\n",
    "    print(f\"\\nSaving final DataFrame to managed table: {output_table_name}\")\n",
    "    final_df.write.mode(\"overwrite\").saveAsTable(output_table_name)\n",
    "    print(f\"Table '{output_table_name}' saved successfully.\")\n",
    "\n",
    "    # Verify save by reading back a sample\n",
    "    print(\"\\nVerifying saved table:\")\n",
    "    spark.table(output_table_name).show(5)\n",
    "\n",
    "except Exception as e:\n",
    "    print(f\"Error saving table {output_table_name}: {e}\")\n"
   ]
  },
  {
   "cell_type": "markdown",
   "metadata": {
    "application/vnd.databricks.v1+cell": {
     "cellMetadata": {},
     "inputWidgets": {},
     "nuid": "ea6216de-88c2-4e00-b242-61d45c2dc300",
     "showTitle": false,
     "tableResultSettingsMap": {},
     "title": ""
    }
   },
   "source": [
    "## 6. Conclusion\n",
    "\n",
    "This notebook successfully loaded the base data, engineered customer-product journey features including the `has_purchased` target variable, handled categorical variables using `StringIndexer` and `OneHotEncoder`, and aligned the output schema.\n",
    "\n",
    "The resulting `ecommerce.customer_product_features` table is now ready for the next stage in Module 2 (Notebook 2), which will focus on scaling the numerical features."
   ]
  }
 ],
 "metadata": {
  "application/vnd.databricks.v1+notebook": {
   "computePreferences": null,
   "dashboards": [],
   "environmentMetadata": null,
   "inputWidgetPreferences": null,
   "language": "python",
   "notebookMetadata": {
    "pythonIndentUnit": 2
   },
   "notebookName": "module2_notebook1_categorical_journey",
   "widgets": {}
  },
  "kernelspec": {
   "display_name": "Python 3 (ipykernel)",
   "language": "python",
   "name": "python3"
  },
  "language_info": {
   "codemirror_mode": {
    "name": "ipython",
    "version": 3
   },
   "file_extension": ".py",
   "mimetype": "text/x-python",
   "name": "python",
   "nbconvert_exporter": "python",
   "pygments_lexer": "ipython3",
   "version": "3.11.10"
  }
 },
 "nbformat": 4,
 "nbformat_minor": 4
}
