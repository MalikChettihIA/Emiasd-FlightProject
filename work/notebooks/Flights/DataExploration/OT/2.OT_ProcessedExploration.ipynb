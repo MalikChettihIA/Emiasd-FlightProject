{
 "cells": [
  {
   "cell_type": "markdown",
   "id": "a137a405-aed5-4fb7-87b5-eeee85e6140c",
   "metadata": {},
   "source": [
    "# Weather Dataset Preprocessing and feature Engineering"
   ]
  },
  {
   "cell_type": "code",
   "execution_count": 1,
   "id": "53e4989d-8472-46e5-b806-ddde048d91f9",
   "metadata": {},
   "outputs": [
    {
     "name": "stdout",
     "output_type": "stream",
     "text": [
      "Starting download from file:///home/jovyan/work/apps/Emiasd-Flight-Data-Analysis.jar\n",
      "Finished download of Emiasd-Flight-Data-Analysis.jar\n",
      "Using cached version of Emiasd-Flight-Data-Analysis.jar\n"
     ]
    }
   ],
   "source": [
    "%AddJar file:///home/jovyan/work/apps/Emiasd-Flight-Data-Analysis.jar"
   ]
  },
  {
   "cell_type": "code",
   "execution_count": 2,
   "id": "4c5e2137-c51d-4b08-89fc-72273d7e9841",
   "metadata": {},
   "outputs": [
    {
     "data": {
      "text/plain": [
       "args = Array(jupyter)\n",
       "spark = org.apache.spark.sql.SparkSession@48d1da41\n",
       "session = org.apache.spark.sql.SparkSession@48d1da41\n",
       "configuration = AppConfiguration(local,CommonConfig(42,DataConfig(/home/jovyan/work/data,FileConfig(/home/jovyan/work/data/FLIGHT-3Y/Flights/201201.csv),FileConfig(/home/jovyan/work/data/FLIGHT-3Y/Weather/201201hourly.txt),FileConfig(/home/jovyan/work/data/FLIGHT-3Y/wban_airport_timezone.csv)),OutputConfig(/home/jovyan/work/output,FileConfig(/home/jovyan/work/output/data),FileCo...\n"
      ]
     },
     "metadata": {},
     "output_type": "display_data",
     "source": "user"
    },
    {
     "data": {
      "text/plain": [
       "AppConfiguration(local,CommonConfig(42,DataConfig(/home/jovyan/work/data,FileConfig(/home/jovyan/work/data/FLIGHT-3Y/Flights/201201.csv),FileConfig(/home/jovyan/work/data/FLIGHT-3Y/Weather/201201hourly.txt),FileConfig(/home/jovyan/work/data/FLIGHT-3Y/wban_airport_timezone.csv)),OutputConfig(/home/jovyan/work/output,FileConfig(/home/jovyan/work/output/data),FileCo..."
      ]
     },
     "execution_count": 2,
     "metadata": {},
     "output_type": "execute_result"
    }
   ],
   "source": [
    "import org.apache.spark.sql.SparkSession\n",
    "import com.flightdelay.config.{AppConfiguration, ConfigurationLoader}\n",
    "import com.flightdelay.data.loaders.FlightDataLoader\n",
    "\n",
    "//Env Configuration\n",
    "val args: Array[String] = Array(\"jupyter\")\n",
    "\n",
    "val spark = SparkSession.builder()\n",
    "  .config(sc.getConf)\n",
    "  .getOrCreate()\n",
    "\n",
    "// Rendre la session Spark implicite\n",
    "implicit val session = spark\n",
    "implicit val configuration: AppConfiguration = ConfigurationLoader.loadConfiguration(args)\n",
    "\n",
    "val processedWeatherPath = s\"${configuration.common.output.basePath}/common/data/processed_weather.parquet\"\n",
    "val weatherDF = spark.read.parquet(processedWeatherPath)"
   ]
  },
  {
   "cell_type": "code",
   "execution_count": 3,
   "id": "e2940aa8-c1c2-4034-87eb-51fb7d8fab64",
   "metadata": {},
   "outputs": [
    {
     "data": {
      "text/plain": [
       "5669039"
      ]
     },
     "execution_count": 3,
     "metadata": {},
     "output_type": "execute_result"
    }
   ],
   "source": [
    "weatherDF.count()"
   ]
  },
  {
   "cell_type": "code",
   "execution_count": 4,
   "id": "e9f45dd1-1883-4e19-aab7-cc3571743db2",
   "metadata": {},
   "outputs": [
    {
     "name": "stdout",
     "output_type": "stream",
     "text": [
      "root\n",
      " |-- WBAN: string (nullable = true)\n",
      " |-- Date: date (nullable = true)\n",
      " |-- Time: string (nullable = true)\n",
      " |-- StationType: integer (nullable = true)\n",
      " |-- SkyCondition: string (nullable = true)\n",
      " |-- SkyConditionFlag: string (nullable = true)\n",
      " |-- Visibility: double (nullable = true)\n",
      " |-- VisibilityFlag: string (nullable = true)\n",
      " |-- WeatherType: string (nullable = true)\n",
      " |-- WeatherTypeFlag: string (nullable = true)\n",
      " |-- DryBulbFarenheit: double (nullable = true)\n",
      " |-- DryBulbFarenheitFlag: string (nullable = true)\n",
      " |-- DryBulbCelsius: double (nullable = true)\n",
      " |-- DryBulbCelsiusFlag: string (nullable = true)\n",
      " |-- WetBulbFarenheit: double (nullable = true)\n",
      " |-- WetBulbFarenheitFlag: string (nullable = true)\n",
      " |-- WetBulbCelsius: double (nullable = true)\n",
      " |-- WetBulbCelsiusFlag: string (nullable = true)\n",
      " |-- DewPointFarenheit: double (nullable = true)\n",
      " |-- DewPointFarenheitFlag: string (nullable = true)\n",
      " |-- DewPointCelsius: double (nullable = true)\n",
      " |-- DewPointCelsiusFlag: string (nullable = true)\n",
      " |-- RelativeHumidity: double (nullable = true)\n",
      " |-- RelativeHumidityFlag: string (nullable = true)\n",
      " |-- WindSpeed: double (nullable = true)\n",
      " |-- WindSpeedFlag: string (nullable = true)\n",
      " |-- WindDirection: double (nullable = true)\n",
      " |-- WindDirectionFlag: string (nullable = true)\n",
      " |-- ValueForWindCharacter: string (nullable = true)\n",
      " |-- ValueForWindCharacterFlag: string (nullable = true)\n",
      " |-- StationPressure: double (nullable = true)\n",
      " |-- StationPressureFlag: string (nullable = true)\n",
      " |-- PressureTendency: string (nullable = true)\n",
      " |-- PressureTendencyFlag: string (nullable = true)\n",
      " |-- PressureChange: double (nullable = true)\n",
      " |-- PressureChangeFlag: string (nullable = true)\n",
      " |-- SeaLevelPressure: string (nullable = true)\n",
      " |-- SeaLevelPressureFlag: string (nullable = true)\n",
      " |-- RecordType: string (nullable = true)\n",
      " |-- RecordTypeFlag: string (nullable = true)\n",
      " |-- HourlyPrecip: string (nullable = true)\n",
      " |-- HourlyPrecipFlag: string (nullable = true)\n",
      " |-- Altimeter: double (nullable = true)\n",
      " |-- AltimeterFlag: string (nullable = true)\n",
      " |-- feature_most_critical_sky: string (nullable = true)\n",
      " |-- feature_num_cloud_layers: integer (nullable = true)\n",
      " |-- feature_cloud_risk_score: double (nullable = true)\n",
      " |-- feature_has_overcast: boolean (nullable = true)\n",
      " |-- feature_has_broken: boolean (nullable = true)\n",
      " |-- feature_has_obscured: boolean (nullable = true)\n",
      " |-- feature_is_clear: boolean (nullable = true)\n",
      " |-- feature_lowest_cloud_height: integer (nullable = true)\n",
      " |-- feature_ceiling: integer (nullable = true)\n",
      " |-- feature_has_low_ceiling: integer (nullable = true)\n",
      " |-- feature_visibility_miles: double (nullable = true)\n",
      " |-- feature_visibility_km: double (nullable = true)\n",
      " |-- feature_visibility_category: string (nullable = true)\n",
      " |-- feature_visibility_risk_score: double (nullable = true)\n",
      " |-- feature_is_low_visibility: integer (nullable = true)\n",
      " |-- feature_is_very_low_visibility: integer (nullable = true)\n",
      " |-- feature_visibility_normalized: double (nullable = true)\n",
      " |-- feature_visibility_inverse: double (nullable = true)\n",
      " |-- feature_weather_severity_index: double (nullable = true)\n",
      " |-- feature_is_vfr_conditions: integer (nullable = true)\n",
      " |-- feature_is_ifr_conditions: integer (nullable = true)\n",
      " |-- feature_requires_cat_ii: integer (nullable = true)\n",
      " |-- feature_operations_risk_level: integer (nullable = true)\n",
      " |-- intensity_heavy: integer (nullable = true)\n",
      " |-- intensity_light: integer (nullable = true)\n",
      " |-- weather_intensity: string (nullable = true)\n",
      " |-- has_thunderstorm: integer (nullable = true)\n",
      " |-- has_freezing_precip: integer (nullable = true)\n",
      " |-- has_freezing: integer (nullable = true)\n",
      " |-- has_precipitation: integer (nullable = true)\n",
      " |-- has_obscuration: integer (nullable = true)\n",
      " |-- has_visible_moisture: integer (nullable = true)\n",
      " |-- has_hazardous: integer (nullable = true)\n",
      " |-- has_rain: integer (nullable = true)\n",
      " |-- has_snow: integer (nullable = true)\n",
      " |-- has_hail: integer (nullable = true)\n",
      " |-- extracted_codes: string (nullable = true)\n",
      " |-- weather_hazard_level: integer (nullable = true)\n",
      " |-- Icing_Risk_Flag: integer (nullable = true)\n",
      " |-- Icing_Risk_Level: integer (nullable = true)\n",
      "\n"
     ]
    }
   ],
   "source": [
    "weatherDF.printSchema"
   ]
  },
  {
   "cell_type": "markdown",
   "id": "c49e04d5-af36-4a5e-a55c-ac22a30dbdb1",
   "metadata": {},
   "source": [
    "## SkyConditionFeatures"
   ]
  },
  {
   "cell_type": "code",
   "execution_count": 8,
   "id": "584929b1-d2e6-4335-a5fb-862c27560b0f",
   "metadata": {},
   "outputs": [
    {
     "name": "stdout",
     "output_type": "stream",
     "text": [
      "-RECORD 0----------------------------\n",
      " feature_most_critical_sky   | CLR   \n",
      " feature_num_cloud_layers    | 1     \n",
      " feature_cloud_risk_score    | 0.0   \n",
      " feature_has_overcast        | false \n",
      " feature_has_broken          | false \n",
      " feature_has_obscured        | false \n",
      " feature_is_clear            | true  \n",
      " feature_lowest_cloud_height | 99999 \n",
      " feature_ceiling             | 99999 \n",
      " feature_has_low_ceiling     | 0     \n",
      " feature_visibility_category | IFR   \n",
      "only showing top 1 row\n",
      "\n"
     ]
    },
    {
     "data": {
      "text/plain": [
       "addedFeatureColumns = List(feature_most_critical_sky, feature_num_cloud_layers, feature_cloud_risk_score, feature_has_overcast, feature_has_broken, feature_has_obscured, feature_is_clear, feature_lowest_cloud_height, feature_ceiling, feature_has_low_ceiling, feature_visibility_category)\n",
       "df = [feature_most_critical_sky: string, feature_num_cloud_layers: int ... 9 more fields]\n"
      ]
     },
     "metadata": {},
     "output_type": "display_data",
     "source": "user"
    },
    {
     "data": {
      "text/plain": [
       "[feature_most_critical_sky: string, feature_num_cloud_layers: int ... 9 more fields]"
      ]
     },
     "execution_count": 8,
     "metadata": {},
     "output_type": "execute_result"
    }
   ],
   "source": [
    "var addedFeatureColumns = Seq(\n",
    "\"feature_most_critical_sky\",\n",
    "\"feature_num_cloud_layers\",\n",
    "\"feature_cloud_risk_score\",\n",
    "\"feature_has_overcast\",\n",
    "\"feature_has_broken\",\n",
    "\"feature_has_obscured\",\n",
    "\"feature_is_clear\",\n",
    "\"feature_lowest_cloud_height\",\n",
    "\"feature_ceiling\",\n",
    "\"feature_has_low_ceiling\",\n",
    "\"feature_visibility_category\",\n",
    ")\n",
    "\n",
    "var df = weatherDF\n",
    "  .select(addedFeatureColumns.head, addedFeatureColumns.tail: _*)\n",
    "df.show(1, 1000, true)"
   ]
  },
  {
   "cell_type": "markdown",
   "id": "1b2ad4d1-8343-4731-b30c-08d5f8084c6b",
   "metadata": {},
   "source": [
    "## VisibilityFeatures"
   ]
  },
  {
   "cell_type": "code",
   "execution_count": 19,
   "id": "f57fb26c-a42f-4b39-afda-febb5ef6cd25",
   "metadata": {},
   "outputs": [
    {
     "name": "stdout",
     "output_type": "stream",
     "text": [
      "-RECORD 0-------------------------------\n",
      " feature_visibility_miles       | 1.0   \n",
      " feature_visibility_km          | 1.609 \n",
      " feature_visibility_category    | IFR   \n",
      " feature_visibility_risk_score  | 3.0   \n",
      " feature_is_low_visibility      | 1     \n",
      " feature_is_very_low_visibility | 0     \n",
      " feature_visibility_normalized  | 0.1   \n",
      " feature_visibility_inverse     | 1.0   \n",
      "only showing top 1 row\n",
      "\n"
     ]
    },
    {
     "data": {
      "text/plain": [
       "lastException = null\n",
       "addedFeatureColumns = List(feature_visibility_miles, feature_visibility_km, feature_visibility_category, feature_visibility_risk_score, feature_is_low_visibility, feature_is_very_low_visibility, feature_visibility_normalized, feature_visibility_inverse)\n",
       "df = [feature_visibility_miles: double, feature_visibility_km: double ... 6 more fields]\n"
      ]
     },
     "metadata": {},
     "output_type": "display_data",
     "source": "user"
    },
    {
     "data": {
      "text/plain": [
       "[feature_visibility_miles: double, feature_visibility_km: double ... 6 more fields]"
      ]
     },
     "execution_count": 19,
     "metadata": {},
     "output_type": "execute_result"
    }
   ],
   "source": [
    "addedFeatureColumns = Seq(\n",
    "\"feature_visibility_miles\",\n",
    "\"feature_visibility_km\",\n",
    "\"feature_visibility_category\",\n",
    "\"feature_visibility_risk_score\",\n",
    "\"feature_is_low_visibility\",\n",
    "\"feature_is_very_low_visibility\",\n",
    "\"feature_visibility_normalized\",\n",
    "\"feature_visibility_inverse\"\n",
    ")\n",
    "\n",
    "val df = weatherDF\n",
    "  .select(addedFeatureColumns.head, addedFeatureColumns.tail: _*)\n",
    "df.show(1, 1000, true)"
   ]
  },
  {
   "cell_type": "code",
   "execution_count": 20,
   "id": "df29d6c5-1144-450c-8b27-95ebffda9515",
   "metadata": {},
   "outputs": [
    {
     "name": "stdout",
     "output_type": "stream",
     "text": [
      "+---------------------------+\n",
      "|feature_visibility_category|\n",
      "+---------------------------+\n",
      "|                        IFR|\n",
      "|                    IFR_LOW|\n",
      "|                       LIFR|\n",
      "|                       MVFR|\n",
      "|                        VFR|\n",
      "|                   VFR_HIGH|\n",
      "+---------------------------+\n",
      "\n"
     ]
    },
    {
     "data": {
      "text/plain": [
       "distinctValues = [feature_visibility_category: string]\n"
      ]
     },
     "metadata": {},
     "output_type": "display_data",
     "source": "user"
    },
    {
     "data": {
      "text/plain": [
       "[feature_visibility_category: string]"
      ]
     },
     "execution_count": 20,
     "metadata": {},
     "output_type": "execute_result"
    }
   ],
   "source": [
    "// Obtenir les valeurs distinctes\n",
    "var distinctValues = df.select(\"feature_visibility_category\")\n",
    "  .distinct()\n",
    "  .orderBy(\"feature_visibility_category\")\n",
    "\n",
    "// Afficher les résultats\n",
    "distinctValues.show()"
   ]
  },
  {
   "cell_type": "markdown",
   "id": "75526960-fbb6-4a1d-9cf8-06580d5973d2",
   "metadata": {},
   "source": [
    "## WeatherInteractionFeatures"
   ]
  },
  {
   "cell_type": "code",
   "execution_count": 15,
   "id": "d9bfbfe1-7bd8-4aea-8d0d-93c3689495aa",
   "metadata": {},
   "outputs": [
    {
     "name": "stdout",
     "output_type": "stream",
     "text": [
      "-RECORD 0--------------------------------------------\n",
      " feature_weather_severity_index | 1.7999999999999998 \n",
      " feature_is_vfr_conditions      | 0                  \n",
      " feature_is_ifr_conditions      | 1                  \n",
      " feature_requires_cat_ii        | 0                  \n",
      " feature_operations_risk_level  | 2                  \n",
      "only showing top 1 row\n",
      "\n"
     ]
    },
    {
     "data": {
      "text/plain": [
       "addedFeatureColumns = List(feature_weather_severity_index, feature_is_vfr_conditions, feature_is_ifr_conditions, feature_requires_cat_ii, feature_operations_risk_level)\n",
       "df = [feature_weather_severity_index: double, feature_is_vfr_conditions: int ... 3 more fields]\n"
      ]
     },
     "metadata": {},
     "output_type": "display_data",
     "source": "user"
    },
    {
     "data": {
      "text/plain": [
       "[feature_weather_severity_index: double, feature_is_vfr_conditions: int ... 3 more fields]"
      ]
     },
     "execution_count": 15,
     "metadata": {},
     "output_type": "execute_result"
    }
   ],
   "source": [
    "addedFeatureColumns = Seq(\n",
    "\"feature_weather_severity_index\",\n",
    "\"feature_is_vfr_conditions\",\n",
    "\"feature_is_ifr_conditions\",\n",
    "\"feature_requires_cat_ii\",\n",
    "\"feature_operations_risk_level\"\n",
    ")\n",
    "\n",
    "val df = weatherDF\n",
    "  .select(addedFeatureColumns.head, addedFeatureColumns.tail: _*)\n",
    "df.show(1, 1000, true)"
   ]
  },
  {
   "cell_type": "markdown",
   "id": "13cc2e5e-7047-45a8-a17c-9ec28229a06d",
   "metadata": {},
   "source": [
    "## WeatherTypeFeatureGenerator"
   ]
  },
  {
   "cell_type": "code",
   "execution_count": 21,
   "id": "ec1c6799-df2d-408d-9d02-1d64f291b17d",
   "metadata": {},
   "outputs": [
    {
     "name": "stdout",
     "output_type": "stream",
     "text": [
      "-RECORD 0------------------------\n",
      " intensity_heavy      | 0        \n",
      " intensity_light      | 0        \n",
      " weather_intensity    | moderate \n",
      " has_thunderstorm     | 0        \n",
      " has_freezing_precip  | 0        \n",
      " has_freezing         | 0        \n",
      " has_precipitation    | 0        \n",
      " has_obscuration      | 0        \n",
      " has_visible_moisture | 0        \n",
      " has_hazardous        | 0        \n",
      " has_rain             | 0        \n",
      " has_snow             | 0        \n",
      " has_hail             | 0        \n",
      " extracted_codes      |          \n",
      " weather_hazard_level | 0        \n",
      " Icing_Risk_Flag      | 0        \n",
      " Icing_Risk_Level     | 0        \n",
      "only showing top 1 row\n",
      "\n"
     ]
    },
    {
     "data": {
      "text/plain": [
       "addedFeatureColumns = List(intensity_heavy, intensity_light, weather_intensity, has_thunderstorm, has_freezing_precip, has_freezing, has_precipitation, has_obscuration, has_visible_moisture, has_hazardous, has_rain, has_snow, has_hail, extracted_codes, weather_hazard_level, Icing_Risk_Flag, Icing_Risk_Level)\n",
       "df = [intensity_heavy: int, intensity_light: int ... 15 more fields]\n"
      ]
     },
     "metadata": {},
     "output_type": "display_data",
     "source": "user"
    },
    {
     "data": {
      "text/plain": [
       "[intensity_heavy: int, intensity_light: int ... 15 more fields]"
      ]
     },
     "execution_count": 21,
     "metadata": {},
     "output_type": "execute_result"
    }
   ],
   "source": [
    "addedFeatureColumns = Seq(\n",
    "\"intensity_heavy\",\n",
    "\"intensity_light\",\n",
    "\"weather_intensity\",\n",
    "\"has_thunderstorm\",\n",
    "\"has_freezing_precip\",\n",
    "\"has_freezing\",\n",
    "\"has_precipitation\",\n",
    "\"has_obscuration\",\n",
    "\"has_visible_moisture\",\n",
    "\"has_hazardous\",\n",
    "\"has_rain\",\n",
    "\"has_snow\",\n",
    "\"has_hail\",\n",
    "\"extracted_codes\",\n",
    "\"weather_hazard_level\",\n",
    "\"Icing_Risk_Flag\",\n",
    "\"Icing_Risk_Level\"\n",
    ")\n",
    "\n",
    "val df = weatherDF\n",
    "  .select(addedFeatureColumns.head, addedFeatureColumns.tail: _*)\n",
    "df.show(1, 1000, true)"
   ]
  },
  {
   "cell_type": "code",
   "execution_count": 22,
   "id": "3de4dbea-e095-41b6-9701-fbef356fd840",
   "metadata": {},
   "outputs": [
    {
     "name": "stdout",
     "output_type": "stream",
     "text": [
      "+-----------------+\n",
      "|weather_intensity|\n",
      "+-----------------+\n",
      "|            heavy|\n",
      "|            light|\n",
      "|         moderate|\n",
      "+-----------------+\n",
      "\n"
     ]
    },
    {
     "data": {
      "text/plain": [
       "distinctValues = [weather_intensity: string]\n"
      ]
     },
     "metadata": {},
     "output_type": "display_data",
     "source": "user"
    },
    {
     "data": {
      "text/plain": [
       "[weather_intensity: string]"
      ]
     },
     "execution_count": 22,
     "metadata": {},
     "output_type": "execute_result"
    }
   ],
   "source": [
    "// Obtenir les valeurs distinctes\n",
    "val distinctValues = df.select(\"weather_intensity\")\n",
    "  .distinct()\n",
    "  .orderBy(\"weather_intensity\")\n",
    "\n",
    "// Afficher les résultats\n",
    "distinctValues.show()"
   ]
  },
  {
   "cell_type": "code",
   "execution_count": 25,
   "id": "30d8de2d-b0b1-403f-805b-cd1a1cb16b45",
   "metadata": {},
   "outputs": [
    {
     "name": "stdout",
     "output_type": "stream",
     "text": [
      "-RECORD 0---------------------\n",
      " intensity_heavy      | 1     \n",
      " intensity_light      | 0     \n",
      " weather_intensity    | heavy \n",
      " has_thunderstorm     | 0     \n",
      " has_freezing_precip  | 0     \n",
      " has_freezing         | 0     \n",
      " has_precipitation    | 1     \n",
      " has_obscuration      | 1     \n",
      " has_visible_moisture | 1     \n",
      " has_hazardous        | 0     \n",
      " has_rain             | 1     \n",
      " has_snow             | 0     \n",
      " has_hail             | 0     \n",
      " extracted_codes      | RA BR \n",
      " weather_hazard_level | 2     \n",
      " Icing_Risk_Flag      | 0     \n",
      " Icing_Risk_Level     | 0     \n",
      "only showing top 1 row\n",
      "\n"
     ]
    },
    {
     "data": {
      "text/plain": [
       "heavyWeatherDF = [intensity_heavy: int, intensity_light: int ... 15 more fields]\n"
      ]
     },
     "metadata": {},
     "output_type": "display_data",
     "source": "user"
    },
    {
     "data": {
      "text/plain": [
       "[intensity_heavy: int, intensity_light: int ... 15 more fields]"
      ]
     },
     "execution_count": 25,
     "metadata": {},
     "output_type": "execute_result"
    }
   ],
   "source": [
    "import org.apache.spark.sql.functions.col\n",
    "\n",
    "// Filtrer sur weather_intensity == \"heavy\"\n",
    "val heavyWeatherDF = df.filter(col(\"weather_intensity\") === \"heavy\")\n",
    "\n",
    "// Afficher le résultat\n",
    "heavyWeatherDF.show(1, 10000, true)"
   ]
  },
  {
   "cell_type": "markdown",
   "id": "20680e7a-7991-4ff3-88fa-3603c290bc06",
   "metadata": {},
   "source": [
    "## Original DF"
   ]
  },
  {
   "cell_type": "code",
   "execution_count": 29,
   "id": "bbbd126b-f9b7-43aa-be2f-6232a21eada4",
   "metadata": {},
   "outputs": [
    {
     "name": "stdout",
     "output_type": "stream",
     "text": [
      "-RECORD 0--------------------\n",
      " DryBulbCelsius       | -1.0 \n",
      " DryBulbCelsiusFlag   |      \n",
      " DryBulbFarenheit     | 30.0 \n",
      " DryBulbFarenheitFlag |      \n",
      "only showing top 1 row\n",
      "\n"
     ]
    },
    {
     "data": {
      "text/plain": [
       "featureColumns = List(DryBulbCelsius, DryBulbCelsiusFlag, DryBulbFarenheit, DryBulbFarenheitFlag)\n",
       "df = [DryBulbCelsius: double, DryBulbCelsiusFlag: string ... 2 more fields]\n"
      ]
     },
     "metadata": {},
     "output_type": "display_data",
     "source": "user"
    },
    {
     "data": {
      "text/plain": [
       "[DryBulbCelsius: double, DryBulbCelsiusFlag: string ... 2 more fields]"
      ]
     },
     "execution_count": 29,
     "metadata": {},
     "output_type": "execute_result"
    }
   ],
   "source": [
    "var featureColumns = Seq(\n",
    "\"DryBulbCelsius\",\n",
    "\"DryBulbCelsiusFlag\",\n",
    "\"DryBulbFarenheit\",\n",
    "\"DryBulbFarenheitFlag\"\n",
    ")\n",
    "\n",
    "val df = weatherDF\n",
    "  .select(featureColumns.head, featureColumns.tail: _*)\n",
    "df.show(1, 1000, true)"
   ]
  },
  {
   "cell_type": "code",
   "execution_count": 30,
   "id": "ed6a38e1-352a-46c7-b7a9-8832e8b09242",
   "metadata": {},
   "outputs": [
    {
     "data": {
      "text/plain": [
       "featureColumns = List(DewPointCelsius, DewPointCelsiusFlag, DewPointFarenheit, DewPointFarenheitFlag)\n",
       "df = [DewPointCelsius: double, DewPointCelsiusFlag: string ... 2 more fields]\n"
      ]
     },
     "metadata": {},
     "output_type": "display_data",
     "source": "user"
    },
    {
     "name": "stdout",
     "output_type": "stream",
     "text": [
      "-RECORD 0----------------------\n",
      " DewPointCelsius       | -12.0 \n",
      " DewPointCelsiusFlag   |       \n",
      " DewPointFarenheit     | 10.0  \n",
      " DewPointFarenheitFlag |       \n",
      "only showing top 1 row\n",
      "\n"
     ]
    },
    {
     "data": {
      "text/plain": [
       "[DewPointCelsius: double, DewPointCelsiusFlag: string ... 2 more fields]"
      ]
     },
     "execution_count": 30,
     "metadata": {},
     "output_type": "execute_result"
    }
   ],
   "source": [
    "featureColumns = Seq(\n",
    "\"DewPointCelsius\",\n",
    "\"DewPointCelsiusFlag\",\n",
    "\"DewPointFarenheit\",\n",
    "\"DewPointFarenheitFlag\"\n",
    ")\n",
    "\n",
    "val df = weatherDF\n",
    "  .select(featureColumns.head, featureColumns.tail: _*)\n",
    "df.show(1, 1000, true)"
   ]
  },
  {
   "cell_type": "code",
   "execution_count": 31,
   "id": "3dce3e2a-c023-40bd-b424-1e19b26e6843",
   "metadata": {},
   "outputs": [
    {
     "name": "stdout",
     "output_type": "stream",
     "text": [
      "-RECORD 0--------------------\n",
      " WetBulbCelsius       | -4.9 \n",
      " WetBulbCelsiusFlag   |      \n",
      " WetBulbFarenheit     | 23.0 \n",
      " WetBulbFarenheitFlag |      \n",
      "only showing top 1 row\n",
      "\n"
     ]
    },
    {
     "data": {
      "text/plain": [
       "featureColumns = List(WetBulbCelsius, WetBulbCelsiusFlag, WetBulbFarenheit, WetBulbFarenheitFlag)\n",
       "df = [WetBulbCelsius: double, WetBulbCelsiusFlag: string ... 2 more fields]\n"
      ]
     },
     "metadata": {},
     "output_type": "display_data",
     "source": "user"
    },
    {
     "data": {
      "text/plain": [
       "[WetBulbCelsius: double, WetBulbCelsiusFlag: string ... 2 more fields]"
      ]
     },
     "execution_count": 31,
     "metadata": {},
     "output_type": "execute_result"
    }
   ],
   "source": [
    "featureColumns = Seq(\n",
    "\"WetBulbCelsius\",\n",
    "\"WetBulbCelsiusFlag\",\n",
    "\"WetBulbFarenheit\",\n",
    "\"WetBulbFarenheitFlag\"\n",
    ")\n",
    "\n",
    "val df = weatherDF\n",
    "  .select(featureColumns.head, featureColumns.tail: _*)\n",
    "df.show(1, 1000, true)"
   ]
  },
  {
   "cell_type": "code",
   "execution_count": 32,
   "id": "eead2cf6-e525-4101-8eef-64f91c90b49a",
   "metadata": {},
   "outputs": [
    {
     "name": "stdout",
     "output_type": "stream",
     "text": [
      "-RECORD 0--------------------\n",
      " RelativeHumidity     | 43.0 \n",
      " RelativeHumidityFlag |      \n",
      "only showing top 1 row\n",
      "\n"
     ]
    },
    {
     "data": {
      "text/plain": [
       "featureColumns = List(RelativeHumidity, RelativeHumidityFlag)\n",
       "df = [RelativeHumidity: double, RelativeHumidityFlag: string]\n"
      ]
     },
     "metadata": {},
     "output_type": "display_data",
     "source": "user"
    },
    {
     "data": {
      "text/plain": [
       "[RelativeHumidity: double, RelativeHumidityFlag: string]"
      ]
     },
     "execution_count": 32,
     "metadata": {},
     "output_type": "execute_result"
    }
   ],
   "source": [
    "featureColumns = Seq(\n",
    "\"RelativeHumidity\",\n",
    "\"RelativeHumidityFlag\"\n",
    ")\n",
    "\n",
    "val df = weatherDF\n",
    "  .select(featureColumns.head, featureColumns.tail: _*)\n",
    "df.show(1, 1000, true)"
   ]
  },
  {
   "cell_type": "code",
   "execution_count": 33,
   "id": "ecfdaf56-0a91-460c-83b8-0690f3ecd575",
   "metadata": {},
   "outputs": [
    {
     "data": {
      "text/plain": [
       "featureColumns = List(HourlyPrecip, HourlyPrecipFlag)\n",
       "df = [HourlyPrecip: string, HourlyPrecipFlag: string]\n"
      ]
     },
     "metadata": {},
     "output_type": "display_data",
     "source": "user"
    },
    {
     "name": "stdout",
     "output_type": "stream",
     "text": [
      "-RECORD 0---------------\n",
      " HourlyPrecip     |     \n",
      " HourlyPrecipFlag |     \n",
      "only showing top 1 row\n",
      "\n"
     ]
    },
    {
     "data": {
      "text/plain": [
       "[HourlyPrecip: string, HourlyPrecipFlag: string]"
      ]
     },
     "execution_count": 33,
     "metadata": {},
     "output_type": "execute_result"
    }
   ],
   "source": [
    "featureColumns = Seq(\n",
    "\"HourlyPrecip\",\n",
    "\"HourlyPrecipFlag\"\n",
    ")\n",
    "\n",
    "val df = weatherDF\n",
    "  .select(featureColumns.head, featureColumns.tail: _*)\n",
    "df.show(1, 1000, true)"
   ]
  },
  {
   "cell_type": "code",
   "execution_count": 34,
   "id": "ebf387ea-e203-4125-9d47-571cb95e8ea2",
   "metadata": {},
   "outputs": [
    {
     "name": "stdout",
     "output_type": "stream",
     "text": [
      "-RECORD 0--------------------------\n",
      " WindSpeed                 | 5.0   \n",
      " WindSpeedFlag             |       \n",
      " WindDirection             | 120.0 \n",
      " WindDirectionFlag         |       \n",
      " ValueForWindCharacter     |       \n",
      " ValueForWindCharacterFlag |       \n",
      "only showing top 1 row\n",
      "\n"
     ]
    },
    {
     "data": {
      "text/plain": [
       "featureColumns = List(WindSpeed, WindSpeedFlag, WindDirection, WindDirectionFlag, ValueForWindCharacter, ValueForWindCharacterFlag)\n",
       "df = [WindSpeed: double, WindSpeedFlag: string ... 4 more fields]\n"
      ]
     },
     "metadata": {},
     "output_type": "display_data",
     "source": "user"
    },
    {
     "data": {
      "text/plain": [
       "[WindSpeed: double, WindSpeedFlag: string ... 4 more fields]"
      ]
     },
     "execution_count": 34,
     "metadata": {},
     "output_type": "execute_result"
    }
   ],
   "source": [
    "featureColumns = Seq(\n",
    "\"WindSpeed\",\n",
    "\"WindSpeedFlag\",\n",
    "\"WindDirection\",\n",
    "\"WindDirectionFlag\",\n",
    "\"ValueForWindCharacter\",\n",
    "\"ValueForWindCharacterFlag\"\n",
    ")\n",
    "\n",
    "val df = weatherDF\n",
    "  .select(featureColumns.head, featureColumns.tail: _*)\n",
    "df.show(1, 1000, true)"
   ]
  },
  {
   "cell_type": "code",
   "execution_count": 35,
   "id": "3b0607b4-2418-409e-b3f0-c3d5774ee9d0",
   "metadata": {},
   "outputs": [
    {
     "name": "stdout",
     "output_type": "stream",
     "text": [
      "-RECORD 0--------------\n",
      " Visibility     | 10.0 \n",
      " VisibilityFlag |      \n",
      "only showing top 1 row\n",
      "\n"
     ]
    },
    {
     "data": {
      "text/plain": [
       "featureColumns = List(Visibility, VisibilityFlag)\n",
       "df = [Visibility: double, VisibilityFlag: string]\n"
      ]
     },
     "metadata": {},
     "output_type": "display_data",
     "source": "user"
    },
    {
     "data": {
      "text/plain": [
       "[Visibility: double, VisibilityFlag: string]"
      ]
     },
     "execution_count": 35,
     "metadata": {},
     "output_type": "execute_result"
    }
   ],
   "source": [
    "featureColumns = Seq(\n",
    "\"Visibility\",\n",
    "\"VisibilityFlag\"\n",
    ")\n",
    "\n",
    "val df = weatherDF\n",
    "  .select(featureColumns.head, featureColumns.tail: _*)\n",
    "df.show(1, 1000, true)"
   ]
  },
  {
   "cell_type": "code",
   "execution_count": null,
   "id": "56835f70-9a55-4aee-b505-df6fb591eca0",
   "metadata": {},
   "outputs": [],
   "source": []
  }
 ],
 "metadata": {
  "kernelspec": {
   "display_name": "apache_toree_scala - Scala",
   "language": "scala",
   "name": "apache_toree_scala_scala"
  },
  "language_info": {
   "codemirror_mode": "text/x-scala",
   "file_extension": ".scala",
   "mimetype": "text/x-scala",
   "name": "scala",
   "pygments_lexer": "scala",
   "version": "2.12.15"
  }
 },
 "nbformat": 4,
 "nbformat_minor": 5
}
