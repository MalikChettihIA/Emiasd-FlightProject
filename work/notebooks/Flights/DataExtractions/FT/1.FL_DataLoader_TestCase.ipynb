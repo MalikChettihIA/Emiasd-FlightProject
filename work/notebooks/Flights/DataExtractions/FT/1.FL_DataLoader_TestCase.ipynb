{
 "cells": [
  {
   "cell_type": "markdown",
   "id": "74d624b5-96ed-4996-bc01-220bf7d77b1d",
   "metadata": {},
   "source": [
    "# Flights DataLoader"
   ]
  },
  {
   "cell_type": "code",
   "execution_count": 1,
   "id": "4af19e25-f876-4662-a6f6-6556737d3065",
   "metadata": {},
   "outputs": [
    {
     "name": "stdout",
     "output_type": "stream",
     "text": [
      "Starting download from file:///home/jovyan/work/apps/Emiasd-Flight-Data-Analysis.jar\n",
      "Finished download of Emiasd-Flight-Data-Analysis.jar\n",
      "Using cached version of Emiasd-Flight-Data-Analysis.jar\n"
     ]
    }
   ],
   "source": [
    "%AddJar file:///home/jovyan/work/apps/Emiasd-Flight-Data-Analysis.jar"
   ]
  },
  {
   "cell_type": "code",
   "execution_count": 2,
   "id": "bd2565fd-758b-4ad2-b450-8f0eccf32a22",
   "metadata": {},
   "outputs": [
    {
     "name": "stdout",
     "output_type": "stream",
     "text": [
      "\n",
      "\n",
      "----------------------------------------------------------------------------------------------------------\n",
      "--> [FlightDataLoader] Flight Data Loading - Start ...\n",
      "--> 486133 loaded ...\n",
      "root\n",
      " |-- FL_DATE: date (nullable = true)\n",
      " |-- OP_CARRIER_AIRLINE_ID: integer (nullable = true)\n",
      " |-- OP_CARRIER_FL_NUM: integer (nullable = true)\n",
      " |-- ORIGIN_AIRPORT_ID: integer (nullable = true)\n",
      " |-- DEST_AIRPORT_ID: integer (nullable = true)\n",
      " |-- CRS_DEP_TIME: integer (nullable = true)\n",
      " |-- ARR_DELAY_NEW: double (nullable = true)\n",
      " |-- CANCELLED: double (nullable = true)\n",
      " |-- DIVERTED: double (nullable = true)\n",
      " |-- CRS_ELAPSED_TIME: double (nullable = true)\n",
      " |-- WEATHER_DELAY: double (nullable = true)\n",
      " |-- NAS_DELAY: double (nullable = true)\n",
      "\n",
      "+----------+---------------------+-----------------+-----------------+---------------+------------+-------------+---------+--------+----------------+-------------+---------+\n",
      "|   FL_DATE|OP_CARRIER_AIRLINE_ID|OP_CARRIER_FL_NUM|ORIGIN_AIRPORT_ID|DEST_AIRPORT_ID|CRS_DEP_TIME|ARR_DELAY_NEW|CANCELLED|DIVERTED|CRS_ELAPSED_TIME|WEATHER_DELAY|NAS_DELAY|\n",
      "+----------+---------------------+-----------------+-----------------+---------------+------------+-------------+---------+--------+----------------+-------------+---------+\n",
      "|2012-01-01|                20366|             4426|            15370|          12266|         845|          0.0|      0.0|     0.0|            99.0|         NULL|     NULL|\n",
      "|2012-01-01|                20366|             4427|            12266|          15370|         858|          0.0|      0.0|     0.0|            88.0|         NULL|     NULL|\n",
      "|2012-01-01|                20366|             4427|            15370|          12266|        1051|          0.0|      0.0|     0.0|            89.0|         NULL|     NULL|\n",
      "|2012-01-01|                20366|             4428|            12266|          15370|        1125|         31.0|      0.0|     0.0|            87.0|          0.0|      2.0|\n",
      "|2012-01-01|                20366|             4428|            15370|          12266|        1319|         21.0|      0.0|     0.0|            96.0|          0.0|      0.0|\n",
      "|2012-01-01|                20366|             4429|            12266|          15370|        1328|          0.0|      0.0|     0.0|            94.0|         NULL|     NULL|\n",
      "|2012-01-01|                20366|             4429|            15370|          12266|        1527|          0.0|      0.0|     0.0|            97.0|         NULL|     NULL|\n",
      "|2012-01-01|                20366|             4430|            12266|          15370|        1449|         10.0|      0.0|     0.0|            89.0|         NULL|     NULL|\n",
      "|2012-01-01|                20366|             4430|            15370|          12266|        1643|          0.0|      0.0|     0.0|            98.0|         NULL|     NULL|\n",
      "|2012-01-01|                20366|             4431|            12266|          15370|        1920|         55.0|      0.0|     0.0|            91.0|          0.0|      0.0|\n",
      "+----------+---------------------+-----------------+-----------------+---------------+------------+-------------+---------+--------+----------------+-------------+---------+\n",
      "only showing top 10 rows\n",
      "\n",
      "--> [FlightDataLoader] Flight Data Loading - End ...\n",
      "----------------------------------------------------------------------------------------------------------\n",
      "\n",
      "\n"
     ]
    },
    {
     "data": {
      "text/plain": [
       "args = Array(local)\n",
       "spark = org.apache.spark.sql.SparkSession@46d0cef9\n",
       "session = org.apache.spark.sql.SparkSession@46d0cef9\n",
       "configuration = AppConfiguration(local,DataConfig(/data,FileConfig(/data/FLIGHT-3Y/Flights/201201.csv),FileConfig(/data/FLIGHT-3Y/Weather/201201hourly.txt),FileConfig(/data/FLIGHT-3Y/wban_airport_timezone.csv)),OutputConfig(/output,FileConfig(/output/data),FileConfig(/output/model)))\n",
       "flightFilePath = ../data/FLIGHT-3Y/Flights/201201.csv\n"
      ]
     },
     "metadata": {},
     "output_type": "display_data",
     "source": "user"
    },
    {
     "data": {
      "text/plain": [
       "flightData: org.apache.spark.sql.Dat...\n"
      ]
     },
     "metadata": {},
     "output_type": "display_data",
     "source": "user"
    },
    {
     "data": {
      "text/plain": [
       "../data/FLIGHT-3Y/Flights/201201.csv"
      ]
     },
     "execution_count": 2,
     "metadata": {},
     "output_type": "execute_result"
    }
   ],
   "source": [
    "import org.apache.spark.sql.SparkSession\n",
    "import com.flightdelay.config.{AppConfiguration, ConfigurationLoader}\n",
    "import com.flightdelay.data.loaders.FlightDataLoader\n",
    "\n",
    "//Env Configuration\n",
    "val args: Array[String] = Array(\"juniper\")\n",
    "\n",
    "val spark = SparkSession.builder()\n",
    "  .config(sc.getConf)\n",
    "  .getOrCreate()\n",
    "\n",
    "// Rendre la session Spark implicite\n",
    "implicit val session = spark\n",
    "implicit val configuration: AppConfiguration = ConfigurationLoader.loadConfiguration(args)\n",
    "\n",
    "// Cellule 4: Test\n",
    "val flightData = FlightDataLoader.loadFromConfiguration(false)"
   ]
  },
  {
   "cell_type": "code",
   "execution_count": 3,
   "id": "2957d759-9b2b-494e-83af-9fa21b404da4",
   "metadata": {},
   "outputs": [
    {
     "name": "stdout",
     "output_type": "stream",
     "text": [
      "+--------------------+-----------+-------+----------+----------------+\n",
      "|                name|   origType|colType| compRatio|nbDistinctValues|\n",
      "+--------------------+-----------+-------+----------+----------------+\n",
      "|             FL_DATE|   DateType|   date|       1.0|              31|\n",
      "|OP_CARRIER_AIRLIN...|IntegerType|numeric|       1.0|              15|\n",
      "|   OP_CARRIER_FL_NUM|IntegerType|numeric|       1.0|            6237|\n",
      "|   ORIGIN_AIRPORT_ID|IntegerType|numeric|       1.0|             287|\n",
      "|     DEST_AIRPORT_ID|IntegerType|numeric|       1.0|             287|\n",
      "|        CRS_DEP_TIME|IntegerType|numeric|       1.0|            1153|\n",
      "|       ARR_DELAY_NEW| DoubleType|numeric| 0.9833214|             549|\n",
      "|           CANCELLED| DoubleType|numeric|       1.0|               2|\n",
      "|            DIVERTED| DoubleType|numeric|       1.0|               2|\n",
      "|    CRS_ELAPSED_TIME| DoubleType|numeric|       1.0|             419|\n",
      "|       WEATHER_DELAY| DoubleType|numeric|0.14586131|             288|\n",
      "|           NAS_DELAY| DoubleType|numeric|0.14586131|             283|\n",
      "+--------------------+-----------+-------+----------+----------------+\n",
      "\n"
     ]
    },
    {
     "data": {
      "text/plain": [
       "flightDataMetrics = [name: string, origType: string ... 3 more fields]\n"
      ]
     },
     "metadata": {},
     "output_type": "display_data",
     "source": "user"
    },
    {
     "data": {
      "text/plain": [
       "[name: string, origType: string ... 3 more fields]"
      ]
     },
     "execution_count": 3,
     "metadata": {},
     "output_type": "execute_result"
    }
   ],
   "source": [
    "import com.flightdelay.data.utils.DataQualityMetrics\n",
    "\n",
    "val flightDataMetrics = DataQualityMetrics.metrics(flightData)\n",
    "flightDataMetrics.show()"
   ]
  },
  {
   "cell_type": "code",
   "execution_count": 7,
   "id": "f0f32f10-f7a4-491e-9c5c-7bf4fda30604",
   "metadata": {},
   "outputs": [
    {
     "name": "stdout",
     "output_type": "stream",
     "text": [
      "Total rows: 486133\n",
      "+-----+---------+--------------------+\n",
      "|nulls|non_nulls|null_rate           |\n",
      "+-----+---------+--------------------+\n",
      "|8108 |478025   |0.016678563273836582|\n",
      "+-----+---------+--------------------+\n",
      "\n",
      "+-------------+---------------+------------------+--------------------+--------------------+-----------------------+\n",
      "|null_expected|null_unexpected|notnull_unexpected|null_expected_rate  |null_unexpected_rate|notnull_unexpected_rate|\n",
      "+-------------+---------------+------------------+--------------------+--------------------+-----------------------+\n",
      "|8108         |0              |0                 |0.016678563273836582|0.0                 |0.0                    |\n",
      "+-------------+---------------+------------------+--------------------+--------------------+-----------------------+\n",
      "\n",
      "+---------+--------+------+-----+---------+\n",
      "|CANCELLED|DIVERTED|rows  |nulls|null_rate|\n",
      "+---------+--------+------+-----+---------+\n",
      "|0.0      |1.0     |1004  |1004 |1.0      |\n",
      "|1.0      |0.0     |7104  |7104 |1.0      |\n",
      "|0.0      |0.0     |478025|0    |0.0      |\n",
      "+---------+--------+------+-----+---------+\n",
      "\n"
     ]
    },
    {
     "data": {
      "text/plain": [
       "lastException = null\n"
      ]
     },
     "metadata": {},
     "output_type": "display_data",
     "source": "user"
    },
    {
     "data": {
      "text/plain": [
       "explainArrDelayNewNulls: (df: org.apache.spark.sql.DataFrame)Unit\n"
      ]
     },
     "metadata": {},
     "output_type": "display_data",
     "source": "user"
    },
    {
     "data": {
      "text/plain": [
       "null"
      ]
     },
     "execution_count": 7,
     "metadata": {},
     "output_type": "execute_result"
    }
   ],
   "source": [
    "import org.apache.spark.sql.DataFrame\n",
    "import org.apache.spark.sql.functions._\n",
    "\n",
    "def explainArrDelayNewNulls(df: DataFrame): Unit = {\n",
    "  // 0) Taille & nulls globaux\n",
    "  val total = df.count()\n",
    "  println(s\"Total rows: $total\")\n",
    "\n",
    "  df.select(\n",
    "      sum(when(col(\"ARR_DELAY_NEW\").isNull, 1).otherwise(0)).as(\"nulls\"),\n",
    "      sum(when(col(\"ARR_DELAY_NEW\").isNotNull, 1).otherwise(0)).as(\"non_nulls\")\n",
    "    )\n",
    "    .withColumn(\"null_rate\", col(\"nulls\")/lit(total))\n",
    "    .show(false)\n",
    "\n",
    "  // 1) Hypothèse standard (dataset US BTS) :\n",
    "  //    ARR_DELAY_NEW est NULL si le vol est annulé (CANCELLED=1) ou détourné (DIVERTED=1)\n",
    "  val expectedNull = col(\"CANCELLED\") === lit(1.0) || col(\"DIVERTED\") === lit(1.0)\n",
    "\n",
    "  df.select(\n",
    "      sum(when(expectedNull && col(\"ARR_DELAY_NEW\").isNull, 1).otherwise(0)).as(\"null_expected\"),\n",
    "      sum(when(!expectedNull && col(\"ARR_DELAY_NEW\").isNull, 1).otherwise(0)).as(\"null_unexpected\"),\n",
    "      sum(when(expectedNull && col(\"ARR_DELAY_NEW\").isNotNull, 1).otherwise(0)).as(\"notnull_unexpected\")\n",
    "    )\n",
    "    .withColumn(\"null_expected_rate\", col(\"null_expected\")/lit(total))\n",
    "    .withColumn(\"null_unexpected_rate\", col(\"null_unexpected\")/lit(total))\n",
    "    .withColumn(\"notnull_unexpected_rate\", col(\"notnull_unexpected\")/lit(total))\n",
    "    .show(false)\n",
    "\n",
    "  // 2) Répartition des NULLs par statut annulé/détourné\n",
    "  df.groupBy(col(\"CANCELLED\"), col(\"DIVERTED\"))\n",
    "    .agg(\n",
    "      count(lit(1)).as(\"rows\"),\n",
    "      sum(when(col(\"ARR_DELAY_NEW\").isNull, 1).otherwise(0)).as(\"nulls\")\n",
    "    )\n",
    "    .withColumn(\"null_rate\", col(\"nulls\")/col(\"rows\"))\n",
    "    .orderBy(desc(\"null_rate\"))\n",
    "    .show(false)\n",
    "\n",
    "}\n",
    "\n",
    "explainArrDelayNewNulls(flightData)"
   ]
  },
  {
   "cell_type": "code",
   "execution_count": null,
   "id": "d5bb828b-8abf-4b5d-97c6-1e17dc68ae49",
   "metadata": {},
   "outputs": [],
   "source": []
  }
 ],
 "metadata": {
  "kernelspec": {
   "display_name": "apache_toree_scala - Scala",
   "language": "scala",
   "name": "apache_toree_scala_scala"
  },
  "language_info": {
   "codemirror_mode": "text/x-scala",
   "file_extension": ".scala",
   "mimetype": "text/x-scala",
   "name": "scala",
   "pygments_lexer": "scala",
   "version": "2.12.15"
  }
 },
 "nbformat": 4,
 "nbformat_minor": 5
}
