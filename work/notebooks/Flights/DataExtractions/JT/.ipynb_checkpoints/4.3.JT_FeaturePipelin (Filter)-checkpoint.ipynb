{
 "cells": [
  {
   "cell_type": "markdown",
   "id": "88b9b4e7-f711-4832-8798-501c1b052275",
   "metadata": {},
   "source": [
    "# Jointure MapReduce"
   ]
  },
  {
   "cell_type": "code",
   "execution_count": 1,
   "id": "d243dd12-14c2-459d-9cbf-032e0ad38481",
   "metadata": {},
   "outputs": [
    {
     "name": "stdout",
     "output_type": "stream",
     "text": [
      "Starting download from file:///home/jovyan/work/apps/Emiasd-Flight-Data-Analysis.jar\n",
      "Finished download of Emiasd-Flight-Data-Analysis.jar\n",
      "Using cached version of Emiasd-Flight-Data-Analysis.jar\n"
     ]
    }
   ],
   "source": [
    "%AddJar file:///home/jovyan/work/apps/Emiasd-Flight-Data-Analysis.jar"
   ]
  },
  {
   "cell_type": "code",
   "execution_count": 2,
   "id": "c1467791-f615-4d99-a001-5b50ede6638a",
   "metadata": {},
   "outputs": [
    {
     "data": {
      "text/plain": [
       "args = Array(jupyter)\n",
       "spark = org.apache.spark.sql.SparkSession@30e7ac8a\n",
       "session = org.apache.spark.sql.SparkSession@30e7ac8a\n",
       "configuration = AppConfiguration(local,CommonConfig(42,DataConfig(/home/jovyan/work/data,FileConfig(/home/jovyan/work/data/FLIGHT-3Y/Flights/201201*.csv),FileConfig(/home/jovyan/work/data/FLIGHT-3Y/Weather/201201*.txt),FileConfig(/home/jovyan/work/data/FLIGHT-3Y/wban_airport_timezone.csv)),OutputConfi...\n"
      ]
     },
     "metadata": {},
     "output_type": "display_data",
     "source": "user"
    },
    {
     "data": {
      "text/plain": [
       "AppConfiguration(local,CommonConfig(42,DataConfig(/home/jovyan/work/data,FileConfig(/home/jovyan/work/data/FLIGHT-3Y/Flights/201201*.csv),FileConfig(/home/jovyan/work/data/FLIGHT-3Y/Weather/201201*.txt),FileConfig(/home/jovyan/work/data/FLIGHT-3Y/wban_airport_timezone.csv)),OutputConfi..."
      ]
     },
     "execution_count": 2,
     "metadata": {},
     "output_type": "execute_result"
    }
   ],
   "source": [
    "import org.apache.spark.sql.SparkSession\n",
    "import com.flightdelay.config.{AppConfiguration, ConfigurationLoader, ExperimentConfig}\n",
    "import com.flightdelay.data.loaders.FlightDataLoader\n",
    "import org.apache.spark.sql.functions._\n",
    "import java.sql.Date\n",
    "\n",
    "//Env Configuration\n",
    "val args: Array[String] = Array(\"jupyter\")\n",
    "\n",
    "val spark = SparkSession.builder()\n",
    "  .config(sc.getConf)\n",
    "  .getOrCreate()\n",
    "\n",
    "// Rendre la session Spark implicite\n",
    "implicit val session = spark\n",
    "implicit val configuration: AppConfiguration = ConfigurationLoader.loadConfiguration(args)\n",
    "implicit val experiment: ExperimentConfig = configuration.experiments.(1)"
   ]
  },
  {
   "cell_type": "markdown",
   "id": "b0e703a9-0253-4882-9f53-833a7387c631",
   "metadata": {},
   "source": [
    "# Chargement Flight et Weather"
   ]
  },
  {
   "cell_type": "code",
   "execution_count": 3,
   "id": "ca355c08-04d4-45f5-afb7-264dd6cd5d13",
   "metadata": {},
   "outputs": [
    {
     "data": {
      "text/plain": [
       "processedFlightPath = /home/jovyan/work/output/common/data/processed_flights.parquet\n",
       "flightDF = [FL_DATE: date, OP_CARRIER_AIRLINE_ID: int ... 130 more fields]\n",
       "processedWeatherPath = /home/jovyan/work/output/common/data/processed_weather.parquet\n",
       "weatherDF = [WBAN: string, Time: string ... 82 more fields]\n"
      ]
     },
     "metadata": {},
     "output_type": "display_data",
     "source": "user"
    },
    {
     "data": {
      "text/plain": [
       "[WBAN: string, Time: string ... 82 more fields]"
      ]
     },
     "execution_count": 3,
     "metadata": {},
     "output_type": "execute_result"
    }
   ],
   "source": [
    "// Chargement de Flight Data\n",
    "val processedFlightPath = s\"${configuration.common.output.basePath}/common/data/processed_flights.parquet\"\n",
    "val flightDF = spark.read.parquet(processedFlightPath)\n",
    "\n",
    "val processedWeatherPath = s\"${configuration.common.output.basePath}/common/data/processed_weather.parquet\"\n",
    "val weatherDF = spark.read.parquet(processedWeatherPath)\n",
    "\n"
   ]
  },
  {
   "cell_type": "markdown",
   "id": "8c81051a-9608-42d2-ba72-e4f45e05514f",
   "metadata": {},
   "source": [
    "# Filtres"
   ]
  },
  {
   "cell_type": "code",
   "execution_count": 4,
   "id": "2f63ec35-0c35-4525-8a97-21eb4e2b75ca",
   "metadata": {},
   "outputs": [
    {
     "name": "stdout",
     "output_type": "stream",
     "text": [
      "-RECORD 0------------------------------------\n",
      " WBAN                           | 03026      \n",
      " Time                           | 0600       \n",
      " StationType                    | 12         \n",
      " SkyCondition                   | OVC013     \n",
      " SkyConditionFlag               |            \n",
      " Visibility                     | 10.0       \n",
      " VisibilityFlag                 |            \n",
      " WeatherType                    |            \n",
      " WeatherTypeFlag                |            \n",
      " DryBulbFarenheit               | 19.0       \n",
      " DryBulbFarenheitFlag           |            \n",
      " DryBulbCelsius                 | -7.2       \n",
      " DryBulbCelsiusFlag             |            \n",
      " WetBulbFarenheit               | 17.0       \n",
      " WetBulbFarenheitFlag           |            \n",
      " WetBulbCelsius                 | -8.2       \n",
      " WetBulbCelsiusFlag             |            \n",
      " DewPointFarenheit              | 13.0       \n",
      " DewPointFarenheitFlag          |            \n",
      " DewPointCelsius                | -10.6      \n",
      " DewPointCelsiusFlag            |            \n",
      " RelativeHumidity               | 77.0       \n",
      " RelativeHumidityFlag           |            \n",
      " WindSpeed                      | 21.0       \n",
      " WindSpeedFlag                  |            \n",
      " WindDirection                  | 360.0      \n",
      " WindDirectionFlag              |            \n",
      " ValueForWindCharacter          | 30         \n",
      " ValueForWindCharacterFlag      |            \n",
      " StationPressure                | 25.86      \n",
      " StationPressureFlag            |            \n",
      " PressureTendency               |            \n",
      " PressureTendencyFlag           |            \n",
      " PressureChange                 | NULL       \n",
      " PressureChangeFlag             |            \n",
      " SeaLevelPressure               | 30.25      \n",
      " SeaLevelPressureFlag           |            \n",
      " RecordType                     | AA         \n",
      " RecordTypeFlag                 |            \n",
      " HourlyPrecip                   |            \n",
      " HourlyPrecipFlag               |            \n",
      " Altimeter                      | 30.18      \n",
      " AltimeterFlag                  |            \n",
      " feature_most_critical_sky      | OVC        \n",
      " feature_num_cloud_layers       | 1          \n",
      " feature_cloud_risk_score       | 4.0        \n",
      " feature_has_overcast           | true       \n",
      " feature_has_broken             | false      \n",
      " feature_has_obscured           | false      \n",
      " feature_is_clear               | false      \n",
      " feature_lowest_cloud_height    | 1300       \n",
      " feature_ceiling                | 1300       \n",
      " feature_has_low_ceiling        | 0          \n",
      " feature_visibility_miles       | 1.0        \n",
      " feature_visibility_km          | 1.609      \n",
      " feature_visibility_category    | IFR        \n",
      " feature_visibility_risk_score  | 3.0        \n",
      " feature_is_low_visibility      | 1          \n",
      " feature_is_very_low_visibility | 0          \n",
      " feature_visibility_normalized  | 0.1        \n",
      " feature_visibility_inverse     | 1.0        \n",
      " feature_weather_severity_index | 3.4        \n",
      " feature_is_vfr_conditions      | 0          \n",
      " feature_is_ifr_conditions      | 1          \n",
      " feature_requires_cat_ii        | 0          \n",
      " feature_operations_risk_level  | 2          \n",
      " intensity_heavy                | 0          \n",
      " intensity_light                | 0          \n",
      " weather_intensity              | moderate   \n",
      " has_thunderstorm               | 0          \n",
      " has_freezing_precip            | 0          \n",
      " has_freezing                   | 0          \n",
      " has_precipitation              | 0          \n",
      " has_obscuration                | 0          \n",
      " has_visible_moisture           | 0          \n",
      " has_hazardous                  | 0          \n",
      " has_rain                       | 0          \n",
      " has_snow                       | 0          \n",
      " has_hail                       | 0          \n",
      " extracted_codes                |            \n",
      " weather_hazard_level           | 0          \n",
      " Icing_Risk_Flag                | 0          \n",
      " Icing_Risk_Level               | 0          \n",
      " Date                           | 2013-11-21 \n",
      "only showing top 1 row\n",
      "\n"
     ]
    },
    {
     "data": {
      "text/plain": [
       "weatherData = [WBAN: string, Time: string ... 82 more fields]\n"
      ]
     },
     "metadata": {},
     "output_type": "display_data",
     "source": "user"
    },
    {
     "data": {
      "text/plain": [
       "[WBAN: string, Time: string ... 82 more fields]"
      ]
     },
     "execution_count": 4,
     "metadata": {},
     "output_type": "execute_result"
    }
   ],
   "source": [
    "import java.sql.Date\n",
    "\n",
    "val weatherData = weatherDF\n",
    "/**  .filter(\n",
    "    col(\"Date\") === Date.valueOf(\"2012-01-09\") &&\n",
    "    (col(\"WBAN\") === \"13869\" || col(\"WBAN\") === \"13874\")\n",
    "  )\n",
    "  .orderBy(\"WBAN\", \"Date\", \"Time\")\n",
    "**/\n",
    "weatherData.show(1, truncate = 0, vertical = true)\n"
   ]
  },
  {
   "cell_type": "code",
   "execution_count": 5,
   "id": "a8599bcc-cf28-4906-bd05-1f235b8dab60",
   "metadata": {},
   "outputs": [
    {
     "data": {
      "text/plain": [
       "flightData = [FL_DATE: date, OP_CARRIER_AIRLINE_ID: int ... 130 more fields]\n"
      ]
     },
     "metadata": {},
     "output_type": "display_data",
     "source": "user"
    },
    {
     "name": "stdout",
     "output_type": "stream",
     "text": [
      "-RECORD 0---------------------------------------------------------------\n",
      " FL_DATE                            | 2012-01-03                        \n",
      " OP_CARRIER_AIRLINE_ID              | 20366                             \n",
      " OP_CARRIER_FL_NUM                  | 5525                              \n",
      " ORIGIN_AIRPORT_ID                  | 10257                             \n",
      " DEST_AIRPORT_ID                    | 10397                             \n",
      " CRS_DEP_TIME                       | 600                               \n",
      " ARR_DELAY_NEW                      | 40.0                              \n",
      " CRS_ELAPSED_TIME                   | 173.0                             \n",
      " WEATHER_DELAY                      | 0.0                               \n",
      " NAS_DELAY                          | 0.0                               \n",
      " D4                                 | 1                                 \n",
      " D3                                 | 0                                 \n",
      " D1                                 | 0                                 \n",
      " D2_15                              | 0                                 \n",
      " D2_30                              | 0                                 \n",
      " D2_45                              | 0                                 \n",
      " D2_60                              | 0                                 \n",
      " D2_90                              | 0                                 \n",
      " ORIGIN_WBAN                        | 14735                             \n",
      " ORIGIN_TIMEZONE                    | -5                                \n",
      " DEST_WBAN                          | 13874                             \n",
      " DEST_TIMEZONE                      | -5                                \n",
      " UTC_CRS_DEP_TIME                   | 1100                              \n",
      " UTC_ARR_TIME                       | 1353                              \n",
      " UTC_ARR_DATE                       | 2012-01-03                        \n",
      " CRS_ARR_TIME                       | 0924                              \n",
      " CRS_ARR_DATE                       | 2012-01-03                        \n",
      " feature_arrival_hour               | 8                                 \n",
      " feature_utc_arrival_hour           | 13                                \n",
      " feature_utc_arrival_hour_rounded   | 1300                              \n",
      " feature_utc_arrival_date           | 2012-01-03                        \n",
      " feature_crosses_midnight_local     | 0                                 \n",
      " feature_crosses_midnight_utc       | 0                                 \n",
      " feature_flight_days_span           | 0                                 \n",
      " feature_timezone_difference        | 0                                 \n",
      " feature_flies_eastward             | 0                                 \n",
      " feature_flies_westward             | 0                                 \n",
      " feature_departure_minute           | 0                                 \n",
      " feature_arrival_minutes_total      | 533.0                             \n",
      " feature_crosses_midnight           | 0                                 \n",
      " feature_flight_day_of_week         | 3                                 \n",
      " feature_departure_hour_decimal     | 6.0                               \n",
      " feature_flight_timestamp           | 2012-01-03 00:00:00               \n",
      " feature_utc_departure_hour         | 11                                \n",
      " feature_flight_quarter_name        | Q1                                \n",
      " feature_utc_departure_hour_decimal | 11.0                              \n",
      " feature_departure_hour             | 6                                 \n",
      " feature_minutes_since_midnight     | 360.0                             \n",
      " feature_departure_quarter_day      | 1                                 \n",
      " feature_flight_month               | 1                                 \n",
      " feature_utc_departure_hour_rounded | 1100                              \n",
      " feature_arrival_minute             | 53                                \n",
      " feature_flight_year                | 2012                              \n",
      " feature_flight_day_of_year         | 3                                 \n",
      " feature_arrival_time               | 853                               \n",
      " feature_flight_quarter             | 1                                 \n",
      " feature_arrival_hour_decimal       | 8.883333333333333                 \n",
      " feature_flight_week_of_year        | 1                                 \n",
      " feature_flight_day_of_month        | 3                                 \n",
      " feature_departure_quarter_name     | Morning                           \n",
      " feature_departure_time_period      | Morning                           \n",
      " feature_departure_hour_rounded     | 600                               \n",
      " feature_departure_minutes_total    | 360.0                             \n",
      " feature_arrival_hour_rounded       | 0900                              \n",
      " feature_arrival_date               | 2012-01-03                        \n",
      " feature_distance_score             | 0.28833333333333333               \n",
      " feature_distance_category          | medium                            \n",
      " feature_carrier_hash               | -2080468873                       \n",
      " feature_route_id                   | 10257_10397                       \n",
      " feature_is_likely_domestic         | 1                                 \n",
      " feature_is_roundtrip_candidate     | 1                                 \n",
      " feature_flight_unique_id           | 2012-01-03_20366_5525_10257_10397 \n",
      " feature_is_summer                  | 0                                 \n",
      " feature_is_monday                  | 0                                 \n",
      " feature_is_evening_rush            | 0                                 \n",
      " feature_is_month_start             | 1                                 \n",
      " feature_is_extended_weekend        | 0                                 \n",
      " feature_is_winter                  | 1                                 \n",
      " feature_is_friday                  | 0                                 \n",
      " feature_is_spring                  | 0                                 \n",
      " feature_is_weekend                 | 0                                 \n",
      " feature_is_holiday_season          | 1                                 \n",
      " feature_is_fall                    | 0                                 \n",
      " feature_is_early_morning           | 1                                 \n",
      " feature_is_morning_rush            | 1                                 \n",
      " feature_is_business_hours          | 0                                 \n",
      " feature_is_night_flight            | 0                                 \n",
      " feature_is_month_end               | 0                                 \n",
      " feature_origin_complexity_score    | 0.57                              \n",
      " feature_is_westbound               | 0                                 \n",
      " feature_dest_complexity_score      | 0.97                              \n",
      " feature_dest_is_major_hub          | 1                                 \n",
      " feature_is_eastbound               | 1                                 \n",
      " feature_timezone_diff_proxy        | 0                                 \n",
      " feature_origin_is_major_hub        | 0                                 \n",
      " feature_is_hub_to_hub              | 0                                 \n",
      " feature_flights_on_route           | 174                               \n",
      " feature_carrier_flight_count       | 49532                             \n",
      " feature_origin_airport_traffic     | 666                               \n",
      " feature_route_popularity_score     | high                              \n",
      " feature_carrier_size_category      | major                             \n",
      " AIRCRAFT_ID                        | 20366_5525                        \n",
      " PREV_AIRCRAFT_ARR_DELAY            | 0.0                               \n",
      " IS_PREV_AIRCRAFT_LATE              | 0                                 \n",
      " label_arr_delay_filled             | 40.0                              \n",
      " label_nas_delay_filled             | 0.0                               \n",
      " label_weather_delay_filled         | 0.0                               \n",
      " label_weather_delay_was_missing    | 0                                 \n",
      " label_nas_delay_was_missing        | 0                                 \n",
      " label_arr_delay_was_missing        | 0                                 \n",
      " label_is_early                     | 0                                 \n",
      " label_total_weather_nas_delay      | 0.0                               \n",
      " label_is_delayed_15min             | 1                                 \n",
      " label_has_nas_delay                | 0                                 \n",
      " label_is_delayed_30min             | 1                                 \n",
      " label_is_delayed_60min             | 0                                 \n",
      " label_is_delayed_45min             | 0                                 \n",
      " label_is_delayed_90min             | 0                                 \n",
      " label_has_weather_delay            | 0                                 \n",
      " label_is_on_time                   | 0                                 \n",
      " label_has_any_weather_nas_delay    | 0                                 \n",
      " feature_avg_delay                  | 0.0                               \n",
      " feature_num_previous_flights       | 0                                 \n",
      " feature_stddev_delay               | 0.0                               \n",
      " feature_max_delay                  | 0.0                               \n",
      " feature_min_delay                  | 0.0                               \n",
      " feature_proportion_delayed_30min   | 0.0                               \n",
      " feature_proportion_delayed_60min   | 0.0                               \n",
      " feature_proportion_delayed_15min   | 0.0                               \n",
      " feature_proportion_delayed_45min   | 0.0                               \n",
      " feature_proportion_delayed_90min   | 0.0                               \n",
      " UTC_FL_DATE                        | 2012-01-03                        \n",
      "only showing top 1 row\n",
      "\n"
     ]
    },
    {
     "data": {
      "text/plain": [
       "[FL_DATE: date, OP_CARRIER_AIRLINE_ID: int ... 130 more fields]"
      ]
     },
     "execution_count": 5,
     "metadata": {},
     "output_type": "execute_result"
    }
   ],
   "source": [
    "val flightData = flightDF\n",
    "/**  .filter(\n",
    "    col(\"UTC_FL_DATE\") === \"2012-01-09\" &&\n",
    "    col(\"OP_CARRIER_AIRLINE_ID\") === 20366 &&\n",
    "    col(\"OP_CARRIER_FL_NUM\") === 5334 && \n",
    "    col(\"ORIGIN_WBAN\") === 13869  \n",
    "  )**/\n",
    "flightData.show(1, truncate = 0, vertical = true)"
   ]
  },
  {
   "cell_type": "markdown",
   "id": "b8e5d352-a68f-41da-8b0d-9f73e164ed92",
   "metadata": {},
   "source": [
    "# Feature Pipeline"
   ]
  },
  {
   "cell_type": "code",
   "execution_count": 6,
   "id": "4bd596fe-8383-4f46-958f-3f99e760fb9a",
   "metadata": {},
   "outputs": [
    {
     "data": {
      "text/plain": [
       "labeledFlightData = [FL_DATE: date, OP_CARRIER_AIRLINE_ID: int ... 131 more fields]\n"
      ]
     },
     "metadata": {},
     "output_type": "display_data",
     "source": "user"
    },
    {
     "data": {
      "text/plain": [
       "[FL_DATE: date, OP_CARRIER_AIRLINE_ID: int ... 131 more fields]"
      ]
     },
     "execution_count": 6,
     "metadata": {},
     "output_type": "execute_result"
    }
   ],
   "source": [
    "import com.flightdelay.features.FeaturePipeline\n",
    "import com.flightdelay.features.balancer.DelayBalancedDatasetBuilder\n",
    "\n",
    "val labeledFlightData =  DelayBalancedDatasetBuilder.prepareLabeledDataset(\n",
    "  df = flightData,\n",
    "  dxCol = experiment.featureExtraction.dxCol,\n",
    "  delayThresholdMin = experiment.featureExtraction.delayThresholdMin,\n",
    ")"
   ]
  },
  {
   "cell_type": "code",
   "execution_count": 7,
   "id": "59bb6e16-8247-47d7-a7f3-01f833898a31",
   "metadata": {},
   "outputs": [
    {
     "name": "stdout",
     "output_type": "stream",
     "text": [
      "\n",
      "Joining flight and weather data...\n",
      "WeatherTotalDepthHours is 0, flightData is returned\n"
     ]
    },
    {
     "data": {
      "text/plain": [
       "joinedData = [FL_DATE: date, OP_CARRIER_AIRLINE_ID: int ... 131 more fields]\n"
      ]
     },
     "metadata": {},
     "output_type": "display_data",
     "source": "user"
    },
    {
     "name": "stdout",
     "output_type": "stream",
     "text": [
      "-RECORD 0---------------------------------------------------------------\n",
      " FL_DATE                            | 2012-01-02                        \n",
      " OP_CARRIER_AIRLINE_ID              | 20398                             \n",
      " OP_CARRIER_FL_NUM                  | 4152                              \n",
      " ORIGIN_AIRPORT_ID                  | 10469                             \n",
      " DEST_AIRPORT_ID                    | 13930                             \n",
      " CRS_DEP_TIME                       | 605                               \n",
      " ARR_DELAY_NEW                      | 237.0                             \n",
      " CRS_ELAPSED_TIME                   | 65.0                              \n",
      " WEATHER_DELAY                      | 166.0                             \n",
      " NAS_DELAY                          | 71.0                              \n",
      " D4                                 | 1                                 \n",
      " D3                                 | 1                                 \n",
      " D1                                 | 1                                 \n",
      " D2_15                              | 1                                 \n",
      " D2_30                              | 1                                 \n",
      " D2_45                              | 1                                 \n",
      " D2_60                              | 1                                 \n",
      " D2_90                              | 0                                 \n",
      " ORIGIN_WBAN                        | 94815                             \n",
      " ORIGIN_TIMEZONE                    | -5                                \n",
      " DEST_WBAN                          | 94846                             \n",
      " DEST_TIMEZONE                      | -6                                \n",
      " UTC_CRS_DEP_TIME                   | 1105                              \n",
      " UTC_ARR_TIME                       | 1213                              \n",
      " UTC_ARR_DATE                       | 2012-01-02                        \n",
      " CRS_ARR_TIME                       | 0620                              \n",
      " CRS_ARR_DATE                       | 2012-01-02                        \n",
      " feature_arrival_hour               | 7                                 \n",
      " feature_utc_arrival_hour           | 12                                \n",
      " feature_utc_arrival_hour_rounded   | 1200                              \n",
      " feature_utc_arrival_date           | 2012-01-02                        \n",
      " feature_crosses_midnight_local     | 0                                 \n",
      " feature_crosses_midnight_utc       | 0                                 \n",
      " feature_flight_days_span           | 0                                 \n",
      " feature_timezone_difference        | -1                                \n",
      " feature_flies_eastward             | 0                                 \n",
      " feature_flies_westward             | 1                                 \n",
      " feature_departure_minute           | 5                                 \n",
      " feature_arrival_minutes_total      | 433.0                             \n",
      " feature_crosses_midnight           | 0                                 \n",
      " feature_flight_day_of_week         | 2                                 \n",
      " feature_departure_hour_decimal     | 6.133333333333333                 \n",
      " feature_flight_timestamp           | 2012-01-02 00:00:00               \n",
      " feature_utc_departure_hour         | 11                                \n",
      " feature_flight_quarter_name        | Q1                                \n",
      " feature_utc_departure_hour_decimal | 11.133333333333335                \n",
      " feature_departure_hour             | 6                                 \n",
      " feature_minutes_since_midnight     | 368.0                             \n",
      " feature_departure_quarter_day      | 1                                 \n",
      " feature_flight_month               | 1                                 \n",
      " feature_utc_departure_hour_rounded | 1100                              \n",
      " feature_arrival_minute             | 13                                \n",
      " feature_flight_year                | 2012                              \n",
      " feature_flight_day_of_year         | 2                                 \n",
      " feature_arrival_time               | 713                               \n",
      " feature_flight_quarter             | 1                                 \n",
      " feature_arrival_hour_decimal       | 7.216666666666667                 \n",
      " feature_flight_week_of_year        | 1                                 \n",
      " feature_flight_day_of_month        | 2                                 \n",
      " feature_departure_quarter_name     | Morning                           \n",
      " feature_departure_time_period      | Morning                           \n",
      " feature_departure_hour_rounded     | 600                               \n",
      " feature_departure_minutes_total    | 368.0                             \n",
      " feature_arrival_hour_rounded       | 0700                              \n",
      " feature_arrival_date               | 2012-01-02                        \n",
      " feature_distance_score             | 0.10833333333333334               \n",
      " feature_distance_category          | short                             \n",
      " feature_carrier_hash               | -1176109198                       \n",
      " feature_route_id                   | 10469_13930                       \n",
      " feature_is_likely_domestic         | 1                                 \n",
      " feature_is_roundtrip_candidate     | 1                                 \n",
      " feature_flight_unique_id           | 2012-01-02_20398_4152_10469_13930 \n",
      " feature_is_summer                  | 0                                 \n",
      " feature_is_monday                  | 1                                 \n",
      " feature_is_evening_rush            | 0                                 \n",
      " feature_is_month_start             | 1                                 \n",
      " feature_is_extended_weekend        | 0                                 \n",
      " feature_is_winter                  | 1                                 \n",
      " feature_is_friday                  | 0                                 \n",
      " feature_is_spring                  | 0                                 \n",
      " feature_is_weekend                 | 0                                 \n",
      " feature_is_holiday_season          | 1                                 \n",
      " feature_is_fall                    | 0                                 \n",
      " feature_is_early_morning           | 1                                 \n",
      " feature_is_morning_rush            | 1                                 \n",
      " feature_is_business_hours          | 0                                 \n",
      " feature_is_night_flight            | 0                                 \n",
      " feature_is_month_end               | 0                                 \n",
      " feature_origin_complexity_score    | 0.69                              \n",
      " feature_is_westbound               | 0                                 \n",
      " feature_dest_complexity_score      | 0.3                               \n",
      " feature_dest_is_major_hub          | 1                                 \n",
      " feature_is_eastbound               | 1                                 \n",
      " feature_timezone_diff_proxy        | 9                                 \n",
      " feature_origin_is_major_hub        | 0                                 \n",
      " feature_is_hub_to_hub              | 0                                 \n",
      " feature_flights_on_route           | 114                               \n",
      " feature_carrier_flight_count       | 33158                             \n",
      " feature_origin_airport_traffic     | 65                                \n",
      " feature_route_popularity_score     | high                              \n",
      " feature_carrier_size_category      | major                             \n",
      " AIRCRAFT_ID                        | 20398_4152                        \n",
      " PREV_AIRCRAFT_ARR_DELAY            | 0.0                               \n",
      " IS_PREV_AIRCRAFT_LATE              | 0                                 \n",
      " label_arr_delay_filled             | 237.0                             \n",
      " label_nas_delay_filled             | 71.0                              \n",
      " label_weather_delay_filled         | 166.0                             \n",
      " label_weather_delay_was_missing    | 0                                 \n",
      " label_nas_delay_was_missing        | 0                                 \n",
      " label_arr_delay_was_missing        | 0                                 \n",
      " label_is_early                     | 0                                 \n",
      " label_total_weather_nas_delay      | 237.0                             \n",
      " label_is_delayed_15min             | 1                                 \n",
      " label_has_nas_delay                | 1                                 \n",
      " label_is_delayed_30min             | 1                                 \n",
      " label_is_delayed_60min             | 1                                 \n",
      " label_is_delayed_45min             | 1                                 \n",
      " label_is_delayed_90min             | 1                                 \n",
      " label_has_weather_delay            | 1                                 \n",
      " label_is_on_time                   | 0                                 \n",
      " label_has_any_weather_nas_delay    | 1                                 \n",
      " feature_avg_delay                  | 0.0                               \n",
      " feature_num_previous_flights       | 0                                 \n",
      " feature_stddev_delay               | 0.0                               \n",
      " feature_max_delay                  | 0.0                               \n",
      " feature_min_delay                  | 0.0                               \n",
      " feature_proportion_delayed_30min   | 0.0                               \n",
      " feature_proportion_delayed_60min   | 0.0                               \n",
      " feature_proportion_delayed_15min   | 0.0                               \n",
      " feature_proportion_delayed_45min   | 0.0                               \n",
      " feature_proportion_delayed_90min   | 0.0                               \n",
      " UTC_FL_DATE                        | 2012-01-02                        \n",
      " is_delayed                         | 1                                 \n",
      "only showing top 1 row\n",
      "\n"
     ]
    },
    {
     "data": {
      "text/plain": [
       "[FL_DATE: date, OP_CARRIER_AIRLINE_ID: int ... 131 more fields]"
      ]
     },
     "execution_count": 7,
     "metadata": {},
     "output_type": "execute_result"
    }
   ],
   "source": [
    "val joinedData = FeaturePipeline.join(labeledFlightData, weatherData, experiment)\n",
    "joinedData.show(1, 0, true)"
   ]
  },
  {
   "cell_type": "code",
   "execution_count": 8,
   "id": "c72ff29d-77d4-4159-a1a7-dea55f3373db",
   "metadata": {},
   "outputs": [
    {
     "data": {
      "text/plain": [
       "0"
      ]
     },
     "execution_count": 8,
     "metadata": {},
     "output_type": "execute_result"
    }
   ],
   "source": [
    "experiment.featureExtraction.weatherOriginDepthHours + experiment.featureExtraction.weatherDestinationDepthHours"
   ]
  },
  {
   "cell_type": "code",
   "execution_count": 9,
   "id": "233cd683-72b5-4d64-b37e-d36d3b72ddad",
   "metadata": {},
   "outputs": [
    {
     "name": "stdout",
     "output_type": "stream",
     "text": [
      "-RECORD 0--------------------------------------------------------------------------------------------------------------------------------------------------------------------------------------------------------------------------------------------------------------------------------------------------------------------------------------------------------------------------------------------------------------------------------\n",
      " CRS_DEP_TIME                       | 1305                                                                                                                                                                                                                                                                                                                                                                                               \n",
      " CRS_ELAPSED_TIME                   | 135.0                                                                                                                                                                                                                                                                                                                                                                                              \n",
      " DEST_AIRPORT_ID                    | 12451                                                                                                                                                                                                                                                                                                                                                                                              \n",
      " DEST_WBAN                          | 13889                                                                                                                                                                                                                                                                                                                                                                                              \n",
      " OP_CARRIER_AIRLINE_ID              | 20398                                                                                                                                                                                                                                                                                                                                                                                              \n",
      " ORIGIN_AIRPORT_ID                  | 13930                                                                                                                                                                                                                                                                                                                                                                                              \n",
      " ORIGIN_WBAN                        | 94846                                                                                                                                                                                                                                                                                                                                                                                              \n",
      " PREV_AIRCRAFT_ARR_DELAY            | 0.0                                                                                                                                                                                                                                                                                                                                                                                                \n",
      " UTC_FL_DATE                        | 2012-01-20                                                                                                                                                                                                                                                                                                                                                                                         \n",
      " destination_weather_observations   | [{11, FEW100,  , 10.0,  ,  ,  , 62.0,  , 16.7,  , 56.0,  , 13.6,  , 52.0,  , 11.1,  , 70.0,  , 8.0,  , 210.0,  ,  ,  , 30.11,  , 3,  , 8.0,  , 30.15,  , AA,  ,  ,  , 30.15,  , FEW, 1, 1.0, false, false, false, false, 10000, 99999, 0, 1.0, 1.609, IFR, 3.0, 1, 0, 0.1, 1.0, 2.1999999999999997, 0, 1, 0, 2, 0, 0, moderate, 0, 0, 0, 0, 0, 0, 0, 0, 0, 0,  , 0, 0, 0, 0}]                      \n",
      " feature_avg_delay                  | 4.863013698630137                                                                                                                                                                                                                                                                                                                                                                                  \n",
      " feature_departure_hour_rounded     | 1300                                                                                                                                                                                                                                                                                                                                                                                               \n",
      " feature_flight_week_of_year        | 3                                                                                                                                                                                                                                                                                                                                                                                                  \n",
      " feature_utc_departure_hour_rounded | 1900                                                                                                                                                                                                                                                                                                                                                                                               \n",
      " is_delayed                         | 1                                                                                                                                                                                                                                                                                                                                                                                                  \n",
      " origin_weather_observations        | [{11, FEW012 OVC050,  , 3.0,  , -SN BR,  , 18.0,  , -8.0,  , 17.0,  , -8.4,  , 14.0,  , -10.0,  , 84.0,  , 0.0,  , 0.0,  ,  ,  , 29.34,  ,  ,  , NULL,  , M,  , SP,  ,  ,  , 30.06,  , OVC, 2, 4.0, true, false, false, false, 1200, 5000, 0, 0.3, 0.48269999999999996, LIFR, 5.0, 1, 1, 0.03, 3.3333333333333335, 6.6, 0, 1, 1, 3, 0, 1, light, 0, 0, 0, 1, 1, 1, 0, 0, 1, 0, SN BR, 1, 1, 1, 0}] \n",
      "only showing top 1 row\n",
      "\n"
     ]
    }
   ],
   "source": [
    "joinedData.show(1, 0, true)"
   ]
  },
  {
   "cell_type": "code",
   "execution_count": 17,
   "id": "cb81959d-d69a-48f0-b049-b065df853944",
   "metadata": {},
   "outputs": [
    {
     "name": "stdout",
     "output_type": "stream",
     "text": [
      "\n",
      "Exploding weather observation arrays:\n",
      "  - Weather features: SkyCondition, Visibility\n",
      "  - Depth hours: 12 observations\n",
      "  - Input columns: 11\n",
      "  - Exploded origin_weather_observations into 24 columns\n",
      "  - Exploded destination_weather_observations into 24 columns\n",
      "  - Total added columns: 48\n",
      "  - Output columns: 57\n",
      "  - Column organization: grouped by index (11 to 0)\n",
      "\n",
      "Saving exploded data to parquet:\n",
      "  - Path: /home/jovyan/work/output/Experience-Juniper-1/data/exploded_joined_data.parquet\n",
      "  - Saved 204386 exploded records\n",
      "-RECORD 0-----------------------------------------\n",
      " DEST_AIRPORT_ID                     | 10140      \n",
      " DEST_WBAN                           | 23050      \n",
      " FL_DATE                             | 2012-01-01 \n",
      " OP_CARRIER_AIRLINE_ID               | 20398      \n",
      " OP_CARRIER_FL_NUM                   | 3864       \n",
      " ORIGIN_AIRPORT_ID                   | 13930      \n",
      " ORIGIN_WBAN                         | 94846      \n",
      " UTC_FL_DATE                         | 2012-01-02 \n",
      " label_is_delayed_15min              | 1          \n",
      " origin_weather_SkyCondition-11      | OVC036     \n",
      " origin_weather_Visibility-11        | 10.0       \n",
      " origin_weather_SkyCondition-10      | SCT040     \n",
      " origin_weather_Visibility-10        | 10.0       \n",
      " origin_weather_SkyCondition-9       | BKN038     \n",
      " origin_weather_Visibility-9         | 10.0       \n",
      " origin_weather_SkyCondition-8       | OVC040     \n",
      " origin_weather_Visibility-8         | 10.0       \n",
      " origin_weather_SkyCondition-7       | FEW035     \n",
      " origin_weather_Visibility-7         | 10.0       \n",
      " origin_weather_SkyCondition-6       | BKN040     \n",
      " origin_weather_Visibility-6         | 10.0       \n",
      " origin_weather_SkyCondition-5       | OVC038     \n",
      " origin_weather_Visibility-5         | 10.0       \n",
      " origin_weather_SkyCondition-4       | FEW035     \n",
      " origin_weather_Visibility-4         | 10.0       \n",
      " origin_weather_SkyCondition-3       | OVC032     \n",
      " origin_weather_Visibility-3         | 10.0       \n",
      " origin_weather_SkyCondition-2       | FEW035     \n",
      " origin_weather_Visibility-2         | 10.0       \n",
      " origin_weather_SkyCondition-1       | OVC036     \n",
      " origin_weather_Visibility-1         | 9.0        \n",
      " origin_weather_SkyCondition-0       | FEW035     \n",
      " origin_weather_Visibility-0         | 10.0       \n",
      " destination_weather_SkyCondition-11 | CLR        \n",
      " destination_weather_Visibility-11   | 10.0       \n",
      " destination_weather_SkyCondition-10 | CLR        \n",
      " destination_weather_Visibility-10   | 10.0       \n",
      " destination_weather_SkyCondition-9  | CLR        \n",
      " destination_weather_Visibility-9    | 10.0       \n",
      " destination_weather_SkyCondition-8  | FEW200     \n",
      " destination_weather_Visibility-8    | 10.0       \n",
      " destination_weather_SkyCondition-7  | FEW200     \n",
      " destination_weather_Visibility-7    | 10.0       \n",
      " destination_weather_SkyCondition-6  | CLR        \n",
      " destination_weather_Visibility-6    | 10.0       \n",
      " destination_weather_SkyCondition-5  | CLR        \n",
      " destination_weather_Visibility-5    | 10.0       \n",
      " destination_weather_SkyCondition-4  | FEW200     \n",
      " destination_weather_Visibility-4    | 10.0       \n",
      " destination_weather_SkyCondition-3  | CLR        \n",
      " destination_weather_Visibility-3    | 10.0       \n",
      " destination_weather_SkyCondition-2  | CLR        \n",
      " destination_weather_Visibility-2    | 10.0       \n",
      " destination_weather_SkyCondition-1  | CLR        \n",
      " destination_weather_Visibility-1    | 10.0       \n",
      " destination_weather_SkyCondition-0  | FEW200     \n",
      " destination_weather_Visibility-0    | 10.0       \n",
      "only showing top 1 row\n",
      "\n"
     ]
    },
    {
     "data": {
      "text/plain": [
       "explosedData = [DEST_AIRPORT_ID: int, DEST_WBAN: string ... 55 more fields]\n"
      ]
     },
     "metadata": {},
     "output_type": "display_data",
     "source": "user"
    },
    {
     "data": {
      "text/plain": [
       "[DEST_AIRPORT_ID: int, DEST_WBAN: string ... 55 more fields]"
      ]
     },
     "execution_count": 17,
     "metadata": {},
     "output_type": "execute_result"
    }
   ],
   "source": [
    "import com.flightdelay.features.FeaturePipeline\n",
    "\n",
    "val explosedData = FeaturePipeline.explose(joinedData, experiment)\n",
    "explosedData.show(1, 1000, true)"
   ]
  },
  {
   "cell_type": "code",
   "execution_count": 18,
   "id": "36bbabd3-43c7-4dc2-99ed-a3b680e86243",
   "metadata": {},
   "outputs": [
    {
     "name": "stdout",
     "output_type": "stream",
     "text": [
      "\n",
      "[DataLeakageProtection] Cleaning\n",
      "\n",
      "================================================================================\n",
      "[LeakageProtection] Removing Source Leakage Columns\n",
      "================================================================================\n",
      "  ✓ No source leakage columns found - Data is clean!\n",
      "\n",
      "================================================================================\n",
      "[LeakageProtection] Removing Unused Labels\n",
      "================================================================================\n",
      "  Target label: label_is_delayed_15min\n",
      "  ✓ No unused labels found\n",
      "  - Data leakage protection completed in 0.0s\n",
      "\n",
      "  - Checking cardinality for 4 integer columns (sample: 1.0%)\n",
      "  - Reclassified 1 low-cardinality integers as categorical: OP_CARRIER_AIRLINE_ID\n",
      "  - Column type detection completed in 10.492s\n",
      "  - Detected 27 categorical columns and 27 numeric columns\n",
      "\n",
      "  - Using EnhancedFlightFeaturePipeline (Feature Selection mode)\n",
      "  - Feature pipeline completed in 33.781s\n",
      "  - Feature count: 54 features\n",
      "  - Sample feature names: indexed_DEST_WBAN, indexed_ORIGIN_WBAN, indexed_origin_weather_SkyCondition-11, indexed_origin_weather_SkyCondition-10, indexed_origin_weather_SkyCondition-9...\n",
      "\n",
      "Sample of extracted features:\n",
      "+---------------------------------------------------------------------------------------------------------------------------------------------------------------------------------------------------------------------------------------------------------------------------------------------------+-----+\n",
      "|features                                                                                                                                                                                                                                                                                           |label|\n",
      "+---------------------------------------------------------------------------------------------------------------------------------------------------------------------------------------------------------------------------------------------------------------------------------------------------+-----+\n",
      "|[46.0,0.0,35.0,45.0,28.0,31.0,35.0,63.0,127.0,24.0,85.0,22.0,57.0,19.0,0.0,0.0,0.0,4.0,4.0,0.0,0.0,4.0,0.0,0.0,0.0,4.0,6.0,10140.0,3864.0,13930.0,18.0,18.0,18.0,18.0,18.0,18.0,18.0,18.0,18.0,18.0,17.0,18.0,18.0,18.0,18.0,18.0,18.0,18.0,18.0,18.0,18.0,18.0,18.0,18.0]                         |0.0  |\n",
      "|[46.0,0.0,50.0,34.0,73.0,47.0,43.0,31.0,18.0,103.0,92.0,28.0,31.0,25.0,0.0,0.0,0.0,0.0,0.0,1.0,0.0,0.0,4.0,0.0,0.0,0.0,6.0,10140.0,3864.0,13930.0,14.0,14.0,11.0,17.0,17.0,18.0,18.0,9.0,18.0,16.0,18.0,14.0,18.0,18.0,18.0,18.0,18.0,18.0,18.0,18.0,18.0,18.0,18.0,18.0]                          |0.0  |\n",
      "|[46.0,0.0,529.0,1.0,309.0,11.0,256.0,22.0,22.0,30.0,765.0,739.0,2.0,20.0,886.0,3.0,13.0,955.0,3.0,342.0,62.0,43.0,30.0,1024.0,119.0,2.0,6.0,10140.0,3755.0,13930.0,15.0,18.0,18.0,18.0,18.0,18.0,18.0,18.0,18.0,18.0,18.0,18.0,18.0,18.0,18.0,18.0,18.0,18.0,18.0,18.0,18.0,18.0,18.0,18.0]        |0.0  |\n",
      "|[46.0,0.0,0.0,29.0,56.0,0.0,57.0,335.0,4.0,0.0,302.0,163.0,35.0,77.0,2.0,0.0,0.0,154.0,3.0,2.0,0.0,0.0,2.0,2.0,0.0,2.0,6.0,10140.0,3864.0,13930.0,18.0,18.0,18.0,18.0,18.0,18.0,18.0,18.0,18.0,18.0,18.0,18.0,18.0,18.0,18.0,18.0,18.0,18.0,18.0,18.0,18.0,18.0,18.0,18.0]                         |0.0  |\n",
      "|[46.0,0.0,16.0,12.0,18.0,22.0,472.0,49.0,20.0,196.0,20.0,20.0,9.0,6.0,1579.0,320.0,724.0,2397.0,2246.0,2232.0,2491.0,124.0,4.0,695.0,7.0,1657.0,6.0,10140.0,3755.0,13930.0,12.0,12.0,13.0,18.0,17.0,18.0,18.0,18.0,18.0,12.0,13.0,15.0,18.0,18.0,18.0,18.0,18.0,18.0,18.0,18.0,18.0,18.0,18.0,18.0]|0.0  |\n",
      "+---------------------------------------------------------------------------------------------------------------------------------------------------------------------------------------------------------------------------------------------------------------------------------------------------+-----+\n",
      "only showing top 5 rows\n",
      "\n",
      "\n",
      "================================================================================\n",
      "[STEP 3] Feature Extraction Summary (Feature Selection)\n",
      "================================================================================\n",
      "Total Features Available : 54\n",
      "Selected Features        : 54\n",
      "Text Features            : 27\n",
      "Numeric Features         : 27\n",
      "================================================================================\n",
      "\n",
      "Saving selected feature names to: /home/jovyan/work/output/Experience-Juniper-1/features/selected_features.txt\n",
      "  - Saved 54 feature names\n",
      "\n",
      "Saving extracted features:\n",
      "  - Path: /home/jovyan/work/output/Experience-Juniper-1/features/extracted_features\n",
      "  - Saved 175701 records with extracted features\n",
      "\n",
      "  - Results saved in 59.96s\n",
      "\n",
      "[STEP 3][FeatureExtractor] Feature Extraction - Completed in 105.138s\n"
     ]
    },
    {
     "data": {
      "text/plain": [
       "extractedFeatureData = [features: vector, label: double]\n"
      ]
     },
     "metadata": {},
     "output_type": "display_data",
     "source": "user"
    },
    {
     "data": {
      "text/plain": [
       "[features: vector, label: double]"
      ]
     },
     "execution_count": 18,
     "metadata": {},
     "output_type": "execute_result"
    }
   ],
   "source": [
    "import com.flightdelay.features.FeaturePipeline\n",
    "\n",
    "val extractedFeatureData = FeaturePipeline.extractFeature(explosedData, experiment)\n"
   ]
  },
  {
   "cell_type": "code",
   "execution_count": 9,
   "id": "a9c779ba-6c11-47b3-a247-5c44ebe5d7a5",
   "metadata": {},
   "outputs": [
    {
     "name": "stdout",
     "output_type": "stream",
     "text": [
      "+------------------------------------------------------------------------------------------------------------------------------------------------------------------------------------------------------------+-----+\n",
      "|                                                                                                                                                                                                    features|label|\n",
      "+------------------------------------------------------------------------------------------------------------------------------------------------------------------------------------------------------------+-----+\n",
      "|(54,[26,27,28,29,30,31,32,33,34,35,36,37,38,39,40,41,42,43,44,45,46,47,48,49,50,51,52,53],[0.0,0.0,0.0,0.0,0.0,0.0,0.0,0.0,0.0,0.0,0.0,0.0,0.0,0.0,0.0,0.0,0.0,0.0,0.0,0.0,0.0,0.0,0.0,0.0,0.0,0.0,0.0,0.0])|  0.0|\n",
      "+------------------------------------------------------------------------------------------------------------------------------------------------------------------------------------------------------------+-----+\n",
      "\n"
     ]
    }
   ],
   "source": [
    "extractedFeatureData.show(2, 1000)"
   ]
  },
  {
   "cell_type": "code",
   "execution_count": 9,
   "id": "cc4e8c12-618a-4eaa-ae17-a77f982f83d3",
   "metadata": {},
   "outputs": [
    {
     "name": "stdout",
     "output_type": "stream",
     "text": [
      "-RECORD 0------------------------------------------------------\n",
      " DEST_AIRPORT_ID                     | 10397                   \n",
      " DEST_WBAN                           | 13874                   \n",
      " FL_DATE                             | 2012-01-09              \n",
      " OP_CARRIER_AIRLINE_ID               | 20366                   \n",
      " OP_CARRIER_FL_NUM                   | 5334                    \n",
      " ORIGIN_AIRPORT_ID                   | 10146                   \n",
      " ORIGIN_WBAN                         | 13869                   \n",
      " UTC_FL_DATE                         | 2012-01-09              \n",
      " label_is_delayed_15min              | 1                       \n",
      " origin_weather_SkyCondition-11      | OVC100                  \n",
      " origin_weather_Visibility-11        | 1.75                    \n",
      " origin_weather_SkyCondition-10      | OVC110                  \n",
      " origin_weather_Visibility-10        | 9.0                     \n",
      " origin_weather_SkyCondition-9       | OVC110                  \n",
      " origin_weather_Visibility-9         | 10.0                    \n",
      " origin_weather_SkyCondition-8       | OVC110                  \n",
      " origin_weather_Visibility-8         | 5.0                     \n",
      " origin_weather_SkyCondition-7       | CLR                     \n",
      " origin_weather_Visibility-7         | 8.0                     \n",
      " origin_weather_SkyCondition-6       | BKN110                  \n",
      " origin_weather_Visibility-6         | 10.0                    \n",
      " origin_weather_SkyCondition-5       | BKN100                  \n",
      " origin_weather_Visibility-5         | 10.0                    \n",
      " origin_weather_SkyCondition-4       | CLR                     \n",
      " origin_weather_Visibility-4         | 10.0                    \n",
      " origin_weather_SkyCondition-3       | CLR                     \n",
      " origin_weather_Visibility-3         | 10.0                    \n",
      " origin_weather_SkyCondition-2       | CLR                     \n",
      " origin_weather_Visibility-2         | 10.0                    \n",
      " origin_weather_SkyCondition-1       | BKN100                  \n",
      " origin_weather_Visibility-1         | 10.0                    \n",
      " origin_weather_SkyCondition-0       | CLR                     \n",
      " origin_weather_Visibility-0         | 10.0                    \n",
      " destination_weather_SkyCondition-11 | BKN004 OVC070           \n",
      " destination_weather_Visibility-11   | 1.5                     \n",
      " destination_weather_SkyCondition-10 | FEW006 SCT120 BKN250    \n",
      " destination_weather_Visibility-10   | 8.0                     \n",
      " destination_weather_SkyCondition-9  | BKN110 BKN200 BKN250    \n",
      " destination_weather_Visibility-9    | 10.0                    \n",
      " destination_weather_SkyCondition-8  | BKN110 BKN150 BKN250    \n",
      " destination_weather_Visibility-8    | 10.0                    \n",
      " destination_weather_SkyCondition-7  | BKN008 BKN110 BKN250    \n",
      " destination_weather_Visibility-7    | 10.0                    \n",
      " destination_weather_SkyCondition-6  | BKN010 BKN100 BKN250    \n",
      " destination_weather_Visibility-6    | 10.0                    \n",
      " destination_weather_SkyCondition-5  | BKN014 BKN050 BKN090    \n",
      " destination_weather_Visibility-5    | 10.0                    \n",
      " destination_weather_SkyCondition-4  | BKN019 BKN050 BKN080    \n",
      " destination_weather_Visibility-4    | 10.0                    \n",
      " destination_weather_SkyCondition-3  | FEW015TCU BKN050 BKN250 \n",
      " destination_weather_Visibility-3    | 10.0                    \n",
      " destination_weather_SkyCondition-2  | FEW020 SCT050 BKN250    \n",
      " destination_weather_Visibility-2    | 10.0                    \n",
      " destination_weather_SkyCondition-1  | SCT020 BKN150 BKN250    \n",
      " destination_weather_Visibility-1    | 10.0                    \n",
      " destination_weather_SkyCondition-0  | FEW015 SCT065 BKN090    \n",
      " destination_weather_Visibility-0    | 10.0                    \n",
      "\n"
     ]
    }
   ],
   "source": [
    "explosedData.show(10,1000, true)"
   ]
  },
  {
   "cell_type": "code",
   "execution_count": 10,
   "id": "b9f01a15-dada-4636-9f1f-f7b32cc3656a",
   "metadata": {},
   "outputs": [
    {
     "name": "stdout",
     "output_type": "stream",
     "text": [
      "\n",
      "[DataLeakageProtection] Cleaning\n",
      "\n",
      "================================================================================\n",
      "[LeakageProtection] Removing Source Leakage Columns\n",
      "================================================================================\n",
      "  ✓ No source leakage columns found - Data is clean!\n",
      "\n",
      "================================================================================\n",
      "[LeakageProtection] Removing Unused Labels\n",
      "================================================================================\n",
      "  Target label: label_is_delayed_15min\n",
      "  ✓ No unused labels found\n"
     ]
    },
    {
     "data": {
      "text/plain": [
       "cleaData = [DEST_AIRPORT_ID: int, DEST_WBAN: string ... 55 more fields]\n"
      ]
     },
     "metadata": {},
     "output_type": "display_data",
     "source": "user"
    },
    {
     "data": {
      "text/plain": [
       "[DEST_AIRPORT_ID: int, DEST_WBAN: string ... 55 more fields]"
      ]
     },
     "execution_count": 10,
     "metadata": {},
     "output_type": "execute_result"
    }
   ],
   "source": [
    "import com.flightdelay.features.leakage.DataLeakageProtection\n",
    "val cleaData = DataLeakageProtection.clean(explosedData, \"label_is_delayed_15min\")"
   ]
  },
  {
   "cell_type": "code",
   "execution_count": 11,
   "id": "323ff539-2017-4a05-bdd6-4a28043a1bf0",
   "metadata": {},
   "outputs": [
    {
     "data": {
      "text/plain": [
       "dataMetric = [name: string, origType: string ... 3 more fields]\n"
      ]
     },
     "metadata": {},
     "output_type": "display_data",
     "source": "user"
    },
    {
     "data": {
      "text/plain": [
       "[name: string, origType: string ... 3 more fields]"
      ]
     },
     "execution_count": 11,
     "metadata": {},
     "output_type": "execute_result"
    }
   ],
   "source": [
    "import com.flightdelay.data.utils.DataQualityMetrics\n",
    "val dataMetric = DataQualityMetrics.metrics(cleaData)"
   ]
  },
  {
   "cell_type": "code",
   "execution_count": 12,
   "id": "a04becd0-92ca-4c4a-83ef-086966996e48",
   "metadata": {},
   "outputs": [
    {
     "name": "stdout",
     "output_type": "stream",
     "text": [
      "+--------------------+-----------+-------+---------+----------------+\n",
      "|                name|   origType|colType|compRatio|nbDistinctValues|\n",
      "+--------------------+-----------+-------+---------+----------------+\n",
      "|     DEST_AIRPORT_ID|IntegerType|numeric|      1.0|               1|\n",
      "|           DEST_WBAN| StringType|textual|      1.0|               1|\n",
      "|             FL_DATE|   DateType|   date|      1.0|               1|\n",
      "|OP_CARRIER_AIRLIN...|IntegerType|numeric|      1.0|               1|\n",
      "|   OP_CARRIER_FL_NUM|IntegerType|numeric|      1.0|               1|\n",
      "|   ORIGIN_AIRPORT_ID|IntegerType|numeric|      1.0|               1|\n",
      "|         ORIGIN_WBAN| StringType|textual|      1.0|               1|\n",
      "|         UTC_FL_DATE|   DateType|   date|      1.0|               1|\n",
      "|label_is_delayed_...|IntegerType|numeric|      1.0|               1|\n",
      "|origin_weather_Sk...| StringType|textual|      1.0|               1|\n",
      "|origin_weather_Vi...| DoubleType|numeric|      1.0|               1|\n",
      "|origin_weather_Sk...| StringType|textual|      1.0|               1|\n",
      "|origin_weather_Vi...| DoubleType|numeric|      1.0|               1|\n",
      "|origin_weather_Sk...| StringType|textual|      1.0|               1|\n",
      "|origin_weather_Vi...| DoubleType|numeric|      1.0|               1|\n",
      "|origin_weather_Sk...| StringType|textual|      1.0|               1|\n",
      "|origin_weather_Vi...| DoubleType|numeric|      1.0|               1|\n",
      "|origin_weather_Sk...| StringType|textual|      1.0|               1|\n",
      "|origin_weather_Vi...| DoubleType|numeric|      1.0|               1|\n",
      "|origin_weather_Sk...| StringType|textual|      1.0|               1|\n",
      "|origin_weather_Vi...| DoubleType|numeric|      1.0|               1|\n",
      "|origin_weather_Sk...| StringType|textual|      1.0|               1|\n",
      "|origin_weather_Vi...| DoubleType|numeric|      1.0|               1|\n",
      "|origin_weather_Sk...| StringType|textual|      1.0|               1|\n",
      "|origin_weather_Vi...| DoubleType|numeric|      1.0|               1|\n",
      "|origin_weather_Sk...| StringType|textual|      1.0|               1|\n",
      "|origin_weather_Vi...| DoubleType|numeric|      1.0|               1|\n",
      "|origin_weather_Sk...| StringType|textual|      1.0|               1|\n",
      "|origin_weather_Vi...| DoubleType|numeric|      1.0|               1|\n",
      "|origin_weather_Sk...| StringType|textual|      1.0|               1|\n",
      "|origin_weather_Vi...| DoubleType|numeric|      1.0|               1|\n",
      "|origin_weather_Sk...| StringType|textual|      1.0|               1|\n",
      "|origin_weather_Vi...| DoubleType|numeric|      1.0|               1|\n",
      "|destination_weath...| StringType|textual|      1.0|               1|\n",
      "|destination_weath...| DoubleType|numeric|      1.0|               1|\n",
      "|destination_weath...| StringType|textual|      1.0|               1|\n",
      "|destination_weath...| DoubleType|numeric|      1.0|               1|\n",
      "|destination_weath...| StringType|textual|      1.0|               1|\n",
      "|destination_weath...| DoubleType|numeric|      1.0|               1|\n",
      "|destination_weath...| StringType|textual|      1.0|               1|\n",
      "|destination_weath...| DoubleType|numeric|      1.0|               1|\n",
      "|destination_weath...| StringType|textual|      1.0|               1|\n",
      "|destination_weath...| DoubleType|numeric|      1.0|               1|\n",
      "|destination_weath...| StringType|textual|      1.0|               1|\n",
      "|destination_weath...| DoubleType|numeric|      1.0|               1|\n",
      "|destination_weath...| StringType|textual|      1.0|               1|\n",
      "|destination_weath...| DoubleType|numeric|      1.0|               1|\n",
      "|destination_weath...| StringType|textual|      1.0|               1|\n",
      "|destination_weath...| DoubleType|numeric|      1.0|               1|\n",
      "|destination_weath...| StringType|textual|      1.0|               1|\n",
      "|destination_weath...| DoubleType|numeric|      1.0|               1|\n",
      "|destination_weath...| StringType|textual|      1.0|               1|\n",
      "|destination_weath...| DoubleType|numeric|      1.0|               1|\n",
      "|destination_weath...| StringType|textual|      1.0|               1|\n",
      "|destination_weath...| DoubleType|numeric|      1.0|               1|\n",
      "|destination_weath...| StringType|textual|      1.0|               1|\n",
      "|destination_weath...| DoubleType|numeric|      1.0|               1|\n",
      "+--------------------+-----------+-------+---------+----------------+\n",
      "\n"
     ]
    }
   ],
   "source": [
    "dataMetric.show(100)"
   ]
  },
  {
   "cell_type": "code",
   "execution_count": null,
   "id": "3007492d-cbef-459b-8e92-83803018773c",
   "metadata": {},
   "outputs": [],
   "source": []
  }
 ],
 "metadata": {
  "kernelspec": {
   "display_name": "apache_toree_scala - Scala",
   "language": "scala",
   "name": "apache_toree_scala_scala"
  },
  "language_info": {
   "codemirror_mode": "text/x-scala",
   "file_extension": ".scala",
   "mimetype": "text/x-scala",
   "name": "scala",
   "pygments_lexer": "scala",
   "version": "2.12.15"
  }
 },
 "nbformat": 4,
 "nbformat_minor": 5
}
